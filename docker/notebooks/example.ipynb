{
 "cells": [
  {
   "cell_type": "markdown",
   "metadata": {},
   "source": [
    "# Pyrit Basic Usage Demonstration\n",
    "\n",
    "This notebook demonstrates how to use Pyrit for basic operations."
   ]
  },
  {
   "cell_type": "markdown",
   "metadata": {},
   "source": [
    "## Setup and Imports"
   ]
  },
  {
   "cell_type": "code",
   "execution_count": null,
   "metadata": {},
   "outputs": [],
   "source": [
    "# Import necessary libraries\n",
    "import torch\n",
    "import pyrit\n",
    "\n",
    "# Check if CUDA is available\n",
    "print(f\"CUDA available: {torch.cuda.is_available()}\")\n",
    "if torch.cuda.is_available():\n",
    "    print(f\"CUDA device: {torch.cuda.get_device_name(0)}\")"
   ]
  },
  {
   "cell_type": "markdown",
   "metadata": {},
   "source": [
    "## Basic Pyrit Usage\n",
    "\n",
    "Here we demonstrate basic functionality of the Pyrit library."
   ]
  },
  {
   "cell_type": "code",
   "execution_count": null,
   "metadata": {},
   "outputs": [],
   "source": [
    "# Example code to demonstrate Pyrit functionality\n",
    "# Replace with actual Pyrit API usage\n",
    "\n",
    "# Example: Load a model\n",
    "# model = pyrit.load_model(\"model_name\")\n",
    "\n",
    "# Example: Run evaluation\n",
    "# results = pyrit.evaluate(model, dataset)\n",
    "\n",
    "# Display version information\n",
    "print(f\"Pyrit version: {pyrit.__version__}\")"
   ]
  },
  {
   "cell_type": "markdown",
   "metadata": {},
   "source": [
    "## GCG Attack Example\n",
    "\n",
    "This demonstrates how to run the GCG attack using Pyrit."
   ]
  },
  {
   "cell_type": "code",
   "execution_count": null,
   "metadata": {},
   "outputs": [],
   "source": [
    "# Code for GCG attack\n",
    "# Replace with actual implementation based on Pyrit's API\n",
    "\n",
    "# Example pseudocode:\n",
    "# target_model = pyrit.load_model(\"target_model_name\")\n",
    "# attack = pyrit.attacks.GCG(target_model)\n",
    "# result = attack.run(prompt=\"Your test prompt here\")\n",
    "# print(result)"
   ]
  }
 ],
 "metadata": {
  "kernelspec": {
   "display_name": "Python 3",
   "language": "python",
   "name": "python3"
  },
  "language_info": {
   "codemirror_mode": {
    "name": "ipython",
    "version": 3
   },
   "file_extension": ".py",
   "mimetype": "text/x-python",
   "name": "python",
   "nbconvert_exporter": "python",
   "pygments_lexer": "ipython3",
   "version": "3.12.0"
  }
 },
 "nbformat": 4,
 "nbformat_minor": 4
}
