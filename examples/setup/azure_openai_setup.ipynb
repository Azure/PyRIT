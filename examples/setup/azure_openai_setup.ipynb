{
 "cells": [
  {
   "cell_type": "markdown",
   "metadata": {},
   "source": [
    "### Setup\n",
    "\n",
    "When dealing with Azure OpenAI, you need to have an Azure account and a subscription. Populate the `.env` file in your repo with the correct Azure Open AI Keys, deployment names, and endpoints.\n",
    "\n",
    "You can find these in `Azure Portal > Azure AI Services > Azure OpenAI > Your OpenAI Resource > Resource Management > Keys and Endpoint`\n",
    "\n",
    "### Authenticate with Azure Subscription\n",
    "To begin interacting with Azure resources deployed in your Azure Subscription, you need to authenticate first. Depending on your operating system, download the appropriate Azure CLI tool from the links provided below:\n",
    "   - Windows OS: [Download link](https://learn.microsoft.com/en-us/cli/azure/install-azure-cli-windows?tabs=azure-cli)\n",
    "   - LInux: [Download link](https://learn.microsoft.com/en-us/cli/azure/install-azure-cli-linux?pivots=apt)\n",
    "   - Mac OS: [Download link](https://learn.microsoft.com/en-us/cli/azure/install-azure-cli-macos)\n",
    "\n",
    "   After downloading and installing the Azure CLI, open your terminal and run the following command to log in:\n",
    "\n",
    "   ```bash\n",
    "   az login\n",
    "   ```\n"
   ]
  },
  {
   "cell_type": "markdown",
   "metadata": {},
   "source": []
  }
 ],
 "metadata": {
  "language_info": {
   "name": "python"
  }
 },
 "nbformat": 4,
 "nbformat_minor": 2
}
