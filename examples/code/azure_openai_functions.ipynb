{
 "cells": [
  {
   "cell_type": "markdown",
   "metadata": {
    "collapsed": false
   },
   "source": [
    "# Introduction\n",
    "\n",
    "This notebook gives some examples on how to use the new function calling API by OpenAI. See [here](https://platform.openai.com/docs/guides/function-calling) for more details on functions"
   ]
  },
  {
   "cell_type": "code",
   "execution_count": 7,
   "metadata": {
    "ExecuteTime": {
     "end_time": "2023-07-28T17:32:41.317311Z",
     "start_time": "2023-07-28T17:32:41.300179Z"
    },
    "collapsed": false
   },
   "outputs": [],
   "source": [
    "import os\n",
    "\n",
    "import dotenv\n",
    "from openai import AzureOpenAI\n",
    "\n",
    "dotenv.load_dotenv()\n",
    "\n",
    "client = AzureOpenAI(\n",
    "    azure_endpoint = os.environ.get(\"AZURE_OPENAI_ENDPOINT\"),\n",
    "    api_version = \"2023-07-01-preview\",\n",
    "    api_key = os.environ.get(\"AZURE_OPENAI_API_KEY\"),\n",
    ")"
   ]
  },
  {
   "cell_type": "code",
   "execution_count": 8,
   "metadata": {
    "ExecuteTime": {
     "end_time": "2023-07-28T17:32:41.578257Z",
     "start_time": "2023-07-28T17:32:41.571556Z"
    },
    "collapsed": false
   },
   "outputs": [],
   "source": [
    "def get_chat_completion(messages: list[dict], functions: list[dict], *args, **kwargs):\n",
    "    response = client.chat.completions.create(\n",
    "        model=\"gpt-4\",\n",
    "        messages=messages,\n",
    "        temperature=0.7,\n",
    "        max_tokens=2_000,\n",
    "        top_p=0.95,\n",
    "        frequency_penalty=0,\n",
    "        presence_penalty=0,\n",
    "        functions=functions,\n",
    "        stop=None,\n",
    "        stream=False,\n",
    "        *args,\n",
    "        **kwargs\n",
    "    )\n",
    "    return response\n"
   ]
  },
  {
   "cell_type": "code",
   "execution_count": 10,
   "metadata": {
    "ExecuteTime": {
     "end_time": "2023-07-28T17:32:42.713812Z",
     "start_time": "2023-07-28T17:32:41.800238Z"
    },
    "collapsed": false
   },
   "outputs": [],
   "source": [
    "functions = [\n",
    "    {\n",
    "        \"name\": \"lookup_weather\",\n",
    "        \"description\": \"Find the weather for a given city\",\n",
    "        \"parameters\": {\n",
    "            \"type\": \"object\",\n",
    "            \"properties\": {\n",
    "                \"city\": {\n",
    "                    \"type\": \"string\",\n",
    "                    \"description\": \"The city to look the weather for\"\n",
    "                },\n",
    "            },\n",
    "            \"required\": [\"city\"]\n",
    "        }\n",
    "    }\n",
    "]\n",
    "\n",
    "messages = [\n",
    "    {\n",
    "        \"role\": \"user\",\n",
    "        \"content\": \"What's the weather in Washington, D.C.?\"\n",
    "\n",
    "    }\n",
    "]\n",
    "response = get_chat_completion(\n",
    "    messages=messages,\n",
    "    functions=functions,\n",
    "    function_call=\"auto\")"
   ]
  },
  {
   "cell_type": "code",
   "execution_count": 5,
   "metadata": {
    "ExecuteTime": {
     "end_time": "2023-07-28T17:32:43.261373Z",
     "start_time": "2023-07-28T17:32:43.254065Z"
    },
    "collapsed": false
   },
   "outputs": [
    {
     "data": {
      "text/plain": [
       "[<OpenAIObject at 0x21ea8a559e0> JSON: {\n",
       "   \"index\": 0,\n",
       "   \"message\": {\n",
       "     \"role\": \"assistant\",\n",
       "     \"content\": null,\n",
       "     \"function_call\": {\n",
       "       \"name\": \"lookup_weather\",\n",
       "       \"arguments\": \"{\\n  \\\"city\\\": \\\"Washington, D.C.\\\"\\n}\"\n",
       "     }\n",
       "   },\n",
       "   \"finish_reason\": \"function_call\"\n",
       " }]"
      ]
     },
     "execution_count": 5,
     "metadata": {},
     "output_type": "execute_result"
    }
   ],
   "source": [
    "response.choices\n"
   ]
  }
 ],
 "metadata": {
  "kernelspec": {
   "display_name": "pyrit_kernel",
   "language": "python",
   "name": "pyrit_kernel"
  },
  "language_info": {
   "codemirror_mode": {
    "name": "ipython",
    "version": 3
   },
   "file_extension": ".py",
   "mimetype": "text/x-python",
   "name": "python",
   "nbconvert_exporter": "python",
   "pygments_lexer": "ipython3",
   "version": "3.10.13"
  }
 },
 "nbformat": 4,
 "nbformat_minor": 4
}
