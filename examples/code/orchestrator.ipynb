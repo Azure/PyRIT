{
 "cells": [
  {
   "cell_type": "markdown",
   "metadata": {},
   "source": [
    "The Orchestrator is one of the components that operators will interact with most. It is responsible for telling PyRIT what endpoints to connect to and how to send prompts.\n",
    "\n",
    "Orchestrators can tackle complicated scenarios, but this example is about as simple as it gets (while still being useful). Here, we'll send all prompts in a file, use a transformer to base64-encode the prompts, and send them to a target."
   ]
  },
  {
   "cell_type": "code",
   "execution_count": 4,
   "metadata": {},
   "outputs": [],
   "source": [
    "from pyrit.models import PromptDataset, PromptTemplate\n",
    "from pathlib import Path\n",
    "from pyrit.common.path import DATASETS_PATH\n",
    "\n",
    "prompts_dataset_path = Path(DATASETS_PATH, \"prompts\", \"illegal.prompt\")\n",
    "prompts_dataset = PromptDataset.from_yaml_file(prompts_dataset_path)\n",
    "\n",
    "prompts_to_try = prompts_dataset.prompts\n",
    "\n",
    "orchestrator = SendAllPromptsOrchestrator()\n"
   ]
  }
 ],
 "metadata": {
  "kernelspec": {
   "display_name": ".venv",
   "language": "python",
   "name": "python3"
  },
  "language_info": {
   "codemirror_mode": {
    "name": "ipython",
    "version": 3
   },
   "file_extension": ".py",
   "mimetype": "text/x-python",
   "name": "python",
   "nbconvert_exporter": "python",
   "pygments_lexer": "ipython3",
   "version": "3.10.11"
  }
 },
 "nbformat": 4,
 "nbformat_minor": 2
}
