{
 "cells": [
  {
   "cell_type": "markdown",
   "metadata": {},
   "source": [
    "## Introduction\n",
    "\n",
    "This Jupyter notebook gives an introduction on how to use `AzureOpenAIChat` to complete chats.\n",
    "\n",
    "Before starting this, make sure you are [setup to use Azure OpenAI endpoints](../setup/azure_openai_setup.ipynb) and have a chat model, such as GPT-4, deployed. See [How To: Create and deploy an Azure OpenAI Service resource](https://learn.microsoft.com/en-us/azure/ai-services/openai/how-to/create-resource?pivots=web-portal).\n",
    "\n",
    "In this case, we have one named `gpt-4` deployed. See your deployments at https://oai.azure.com/ `> Management > Deployments`"
   ]
  },
  {
   "cell_type": "code",
   "execution_count": 4,
   "metadata": {},
   "outputs": [],
   "source": [
    "import dotenv\n",
    "import os\n",
    "\n",
    "from pyrit.models import ChatMessage\n",
    "from pyrit.chat.azure_openai_chat import AzureOpenAIChat\n",
    "\n",
    "\n",
    "dotenv.load_dotenv()\n",
    "\n",
    "chat_engine=AzureOpenAIChat(\n",
    "    deployment_name=\"gpt-4\",\n",
    "    endpoint=os.environ.get(\"AZURE_OPENAI_ENDPOINT\"),\n",
    "    api_key=os.environ.get(\"AZURE_OPENAI_API_KEY\"),\n",
    ")"
   ]
  },
  {
   "cell_type": "code",
   "execution_count": 12,
   "metadata": {},
   "outputs": [
    {
     "data": {
      "text/plain": [
       "'Hello! How can I assist you today?'"
      ]
     },
     "execution_count": 12,
     "metadata": {},
     "output_type": "execute_result"
    }
   ],
   "source": [
    "chat_engine.complete_chat(messages=[ChatMessage(role=\"user\", content=\"Hello world!\")])"
   ]
  },
  {
   "cell_type": "markdown",
   "metadata": {},
   "source": [
    "### Chat clients vs. agents\n",
    "\n",
    "Chat clients provide the foundation for higher-level functionality in PyRIT. For example, `RedTeamingBot` requires a chat client to be specified in its constructor (via the `chat_engine` argument), and leverages it to craft prompts to be sent to a target LLM.\n",
    "\n",
    "Refer to the [demo examples](https://github.com/Azure/PyRIT/blob/main/examples/demo) for more information.\n",
    "\n",
    "It is possible to just directly use chat clients like `AzureOpenAIChat` for red teaming, of course. The main difference is that the red teamers would have to craft the prompts and manage conversation history themselves. In contrast, `RedTeamingBot` merely requires the conversation objective and attack strategy to be defined and can manage the whole conversation from there.\n",
    "\n",
    "### pyrit.memory\n",
    "\n",
    "The `pyrit.memory` module provides functionality to keep track of the conversation history. In a nutshell, this can be used as follows\n",
    "```\n",
    "from pyrit.memory import FileMemory\n",
    "from pyrit.models import ChatMessage\n",
    "memory = FileMemory()\n",
    "message_list = [\n",
    "    ChatMessage(role=\"user\", content=\"Hi, chat bot! This is my initial prompt.\"),\n",
    "    ChatMessage(role=\"assistant\", content=\"Nice to meet you! This is my response.\")\n",
    "]\n",
    "next_message = ChatMessage(role=\"user\", content=\"Wonderful! This is my second prompt to the chat bot.\")\n",
    "message_list += next_message\n",
    "memory.add_chat_messages_to_memory(conversations=message_list, session=session_id)\n",
    "chat_engine.complete_chat(messages=message_list)\n",
    "```\n",
    "or to retrieve chat messages use\n",
    "```\n",
    "memory.get_chat_messages_with_session_id(session_id=session_id)\n",
    "```\n",
    "Alternatively, you can simply keep track of conversations with an array of messages like `message_list` above, but without persisting them to files."
   ]
  }
 ],
 "metadata": {
  "kernelspec": {
   "display_name": "pyrit_kernel",
   "language": "python",
   "name": "pyrit_kernel"
  },
  "language_info": {
   "codemirror_mode": {
    "name": "ipython",
    "version": 3
   },
   "file_extension": ".py",
   "mimetype": "text/x-python",
   "name": "python",
   "nbconvert_exporter": "python",
   "pygments_lexer": "ipython3",
   "version": "3.10.13"
  }
 },
 "nbformat": 4,
 "nbformat_minor": 4
}
