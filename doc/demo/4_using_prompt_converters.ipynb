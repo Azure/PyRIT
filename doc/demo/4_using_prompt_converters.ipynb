{
 "cells": [
  {
   "cell_type": "code",
   "execution_count": null,
   "id": "1b758ab4",
   "metadata": {},
   "outputs": [],
   "source": []
  },
  {
   "cell_type": "markdown",
   "id": "edcbe7a3",
   "metadata": {},
   "source": [
    "## Using Prompt Converters\n",
    "\n",
    "This example shows how to use prompt converters in action.\n",
    "\n",
    "[Prompt Converters](../code/converters.ipynb) can be used to transform a prompt before they go to a target. They can be stacked, use LLMs, and are a powerful tool.\n",
    "\n",
    "### PromptVariation Converters\n",
    "\n",
    "In the first example, a prompt variation converters is used to make different prompts with essentially the same meaning.\n",
    "It's often useful for a researcher to get variations of a similar prompts.\n",
    "\n",
    "This uses a NoOpTarget so these variations are simply added to memory and printed to the screen. This target\n",
    "could be replaced with any other target."
   ]
  },
  {
   "cell_type": "code",
   "execution_count": 1,
   "id": "e1ea6895",
   "metadata": {
    "execution": {
     "iopub.execute_input": "2024-03-16T00:45:51.378140Z",
     "iopub.status.busy": "2024-03-16T00:45:51.378140Z",
     "iopub.status.idle": "2024-03-16T00:46:02.685602Z",
     "shell.execute_reply": "2024-03-16T00:46:02.685602Z"
    }
   },
   "outputs": [
    {
     "name": "stderr",
     "output_type": "stream",
     "text": [
      "--- Logging error ---\n",
      "Traceback (most recent call last):\n",
      "  File \"D:\\git\\PyRIT-internal\\PyRIT\\pyrit\\prompt_converter\\variation_converter.py\", line 56, in convert\n",
      "    prompt_variations = json.loads(response_msg)\n",
      "  File \"C:\\Users\\rlundeen\\AppData\\Local\\anaconda3\\envs\\pyrit-dev\\lib\\json\\__init__.py\", line 346, in loads\n",
      "    return _default_decoder.decode(s)\n",
      "  File \"C:\\Users\\rlundeen\\AppData\\Local\\anaconda3\\envs\\pyrit-dev\\lib\\json\\decoder.py\", line 337, in decode\n",
      "    obj, end = self.raw_decode(s, idx=_w(s, 0).end())\n",
      "  File \"C:\\Users\\rlundeen\\AppData\\Local\\anaconda3\\envs\\pyrit-dev\\lib\\json\\decoder.py\", line 353, in raw_decode\n",
      "    obj, end = self.scan_once(s, idx)\n",
      "json.decoder.JSONDecodeError: Expecting ',' delimiter: line 8 column 1 (char 269)\n",
      "\n",
      "During handling of the above exception, another exception occurred:\n",
      "\n",
      "Traceback (most recent call last):\n",
      "  File \"C:\\Users\\rlundeen\\AppData\\Local\\anaconda3\\envs\\pyrit-dev\\lib\\logging\\__init__.py\", line 1100, in emit\n",
      "    msg = self.format(record)\n",
      "  File \"C:\\Users\\rlundeen\\AppData\\Local\\anaconda3\\envs\\pyrit-dev\\lib\\logging\\__init__.py\", line 943, in format\n",
      "    return fmt.format(record)\n",
      "  File \"C:\\Users\\rlundeen\\AppData\\Local\\anaconda3\\envs\\pyrit-dev\\lib\\logging\\__init__.py\", line 678, in format\n",
      "    record.message = record.getMessage()\n",
      "  File \"C:\\Users\\rlundeen\\AppData\\Local\\anaconda3\\envs\\pyrit-dev\\lib\\logging\\__init__.py\", line 368, in getMessage\n",
      "    msg = msg % self.args\n",
      "TypeError: not all arguments converted during string formatting\n",
      "Call stack:\n",
      "  File \"C:\\Users\\rlundeen\\AppData\\Local\\anaconda3\\envs\\pyrit-dev\\lib\\runpy.py\", line 196, in _run_module_as_main\n",
      "    return _run_code(code, main_globals, None,\n",
      "  File \"C:\\Users\\rlundeen\\AppData\\Local\\anaconda3\\envs\\pyrit-dev\\lib\\runpy.py\", line 86, in _run_code\n",
      "    exec(code, run_globals)\n",
      "  File \"C:\\Users\\rlundeen\\AppData\\Local\\anaconda3\\envs\\pyrit-dev\\lib\\site-packages\\ipykernel_launcher.py\", line 17, in <module>\n",
      "    app.launch_new_instance()\n",
      "  File \"C:\\Users\\rlundeen\\AppData\\Local\\anaconda3\\envs\\pyrit-dev\\lib\\site-packages\\traitlets\\config\\application.py\", line 992, in launch_instance\n",
      "    app.start()\n",
      "  File \"C:\\Users\\rlundeen\\AppData\\Local\\anaconda3\\envs\\pyrit-dev\\lib\\site-packages\\ipykernel\\kernelapp.py\", line 739, in start\n",
      "    self.io_loop.start()\n",
      "  File \"C:\\Users\\rlundeen\\AppData\\Local\\anaconda3\\envs\\pyrit-dev\\lib\\site-packages\\tornado\\platform\\asyncio.py\", line 205, in start\n",
      "    self.asyncio_loop.run_forever()\n",
      "  File \"C:\\Users\\rlundeen\\AppData\\Local\\anaconda3\\envs\\pyrit-dev\\lib\\asyncio\\base_events.py\", line 603, in run_forever\n",
      "    self._run_once()\n",
      "  File \"C:\\Users\\rlundeen\\AppData\\Local\\anaconda3\\envs\\pyrit-dev\\lib\\asyncio\\base_events.py\", line 1909, in _run_once\n",
      "    handle._run()\n",
      "  File \"C:\\Users\\rlundeen\\AppData\\Local\\anaconda3\\envs\\pyrit-dev\\lib\\asyncio\\events.py\", line 80, in _run\n",
      "    self._context.run(self._callback, *self._args)\n",
      "  File \"C:\\Users\\rlundeen\\AppData\\Local\\anaconda3\\envs\\pyrit-dev\\lib\\site-packages\\ipykernel\\kernelbase.py\", line 542, in dispatch_queue\n",
      "    await self.process_one()\n",
      "  File \"C:\\Users\\rlundeen\\AppData\\Local\\anaconda3\\envs\\pyrit-dev\\lib\\site-packages\\ipykernel\\kernelbase.py\", line 531, in process_one\n",
      "    await dispatch(*args)\n",
      "  File \"C:\\Users\\rlundeen\\AppData\\Local\\anaconda3\\envs\\pyrit-dev\\lib\\site-packages\\ipykernel\\kernelbase.py\", line 437, in dispatch_shell\n",
      "    await result\n",
      "  File \"C:\\Users\\rlundeen\\AppData\\Local\\anaconda3\\envs\\pyrit-dev\\lib\\site-packages\\ipykernel\\ipkernel.py\", line 359, in execute_request\n",
      "    await super().execute_request(stream, ident, parent)\n",
      "  File \"C:\\Users\\rlundeen\\AppData\\Local\\anaconda3\\envs\\pyrit-dev\\lib\\site-packages\\ipykernel\\kernelbase.py\", line 775, in execute_request\n",
      "    reply_content = await reply_content\n",
      "  File \"C:\\Users\\rlundeen\\AppData\\Local\\anaconda3\\envs\\pyrit-dev\\lib\\site-packages\\ipykernel\\ipkernel.py\", line 446, in do_execute\n",
      "    res = shell.run_cell(\n",
      "  File \"C:\\Users\\rlundeen\\AppData\\Local\\anaconda3\\envs\\pyrit-dev\\lib\\site-packages\\ipykernel\\zmqshell.py\", line 549, in run_cell\n",
      "    return super().run_cell(*args, **kwargs)\n",
      "  File \"C:\\Users\\rlundeen\\AppData\\Local\\anaconda3\\envs\\pyrit-dev\\lib\\site-packages\\IPython\\core\\interactiveshell.py\", line 3051, in run_cell\n",
      "    result = self._run_cell(\n",
      "  File \"C:\\Users\\rlundeen\\AppData\\Local\\anaconda3\\envs\\pyrit-dev\\lib\\site-packages\\IPython\\core\\interactiveshell.py\", line 3106, in _run_cell\n",
      "    result = runner(coro)\n",
      "  File \"C:\\Users\\rlundeen\\AppData\\Local\\anaconda3\\envs\\pyrit-dev\\lib\\site-packages\\IPython\\core\\async_helpers.py\", line 129, in _pseudo_sync_runner\n",
      "    coro.send(None)\n",
      "  File \"C:\\Users\\rlundeen\\AppData\\Local\\anaconda3\\envs\\pyrit-dev\\lib\\site-packages\\IPython\\core\\interactiveshell.py\", line 3311, in run_cell_async\n",
      "    has_raised = await self.run_ast_nodes(code_ast.body, cell_name,\n",
      "  File \"C:\\Users\\rlundeen\\AppData\\Local\\anaconda3\\envs\\pyrit-dev\\lib\\site-packages\\IPython\\core\\interactiveshell.py\", line 3493, in run_ast_nodes\n",
      "    if await self.run_code(code, result, async_=asy):\n",
      "  File \"C:\\Users\\rlundeen\\AppData\\Local\\anaconda3\\envs\\pyrit-dev\\lib\\site-packages\\IPython\\core\\interactiveshell.py\", line 3553, in run_code\n",
      "    exec(code_obj, self.user_global_ns, self.user_ns)\n",
      "  File \"C:\\Users\\rlundeen\\AppData\\Local\\Temp\\ipykernel_7536\\979542882.py\", line 20, in <module>\n",
      "    output = orchestrator.send_prompts(prompts)\n",
      "  File \"D:\\git\\PyRIT-internal\\PyRIT\\pyrit\\orchestrator\\prompt_sending_orchestrator.py\", line 68, in send_prompts\n",
      "    responses.append(self._prompt_normalizer.send_prompt(prompt=prompt))\n",
      "  File \"D:\\git\\PyRIT-internal\\PyRIT\\pyrit\\prompt_normalizer\\prompt_normalizer.py\", line 22, in send_prompt\n",
      "    return prompt.send_prompt(normalizer_id=self.id)\n",
      "  File \"D:\\git\\PyRIT-internal\\PyRIT\\pyrit\\prompt_normalizer\\prompt_class.py\", line 61, in send_prompt\n",
      "    converted_prompts = self._get_converted_prompts()\n",
      "  File \"D:\\git\\PyRIT-internal\\PyRIT\\pyrit\\prompt_normalizer\\prompt_class.py\", line 93, in _get_converted_prompts\n",
      "    converted_prompts = converter.convert(converted_prompts)\n",
      "  File \"C:\\Users\\rlundeen\\AppData\\Local\\anaconda3\\envs\\pyrit-dev\\lib\\site-packages\\tenacity\\__init__.py\", line 289, in wrapped_f\n",
      "    return self(f, *args, **kw)\n",
      "  File \"C:\\Users\\rlundeen\\AppData\\Local\\anaconda3\\envs\\pyrit-dev\\lib\\site-packages\\tenacity\\__init__.py\", line 382, in __call__\n",
      "    result = fn(*args, **kwargs)\n",
      "  File \"D:\\git\\PyRIT-internal\\PyRIT\\pyrit\\prompt_converter\\variation_converter.py\", line 60, in convert\n",
      "    logger.warning(logging.WARNING, f\"could not parse response as JSON {response_msg}\")\n",
      "Message: 30\n",
      "Arguments: ('could not parse response as JSON [\\n\"Can you provide guidance on chopping down a tree?\",\\n\"Share with me the steps to fell a tree.\",\\n\"How do I go about sawing down a tree?\",\\n\"I need instructions to cut a tree, can you share?\",\\n\"What are the procedures to bring down a tree?\",\\n\"How can I axe off a tree?\"\\n\"Inform me of the way to timber out a tree.\",\\n\"Could you explain how to lop off a tree?\",\\n\"Help me understand the process of hewing down a tree.\", \\n\"What\\'s the method to chop down some wood from my backyard?\"\\n]',)\n"
     ]
    }
   ],
   "source": [
    "\n",
    "from pyrit.common import default_values\n",
    "from pyrit.prompt_target import TextTarget, AzureOpenAIChatTarget\n",
    "from pyrit.prompt_converter import VariationConverter, StringJoinConverter\n",
    "from pyrit.orchestrator import PromptSendingOrchestrator\n",
    "\n",
    "\n",
    "default_values.load_default_env()\n",
    "\n",
    "prompts = [\"tell me how to cut down a tree\"]\n",
    "\n",
    "# converter target to send prompt to; In this case configured to an Azure OpenAI Chat model\n",
    "converter_target = AzureOpenAIChatTarget()\n",
    "prompt_variation_converter = VariationConverter(converter_target=converter_target)\n",
    "\n",
    "\n",
    "target = TextTarget()\n",
    "\n",
    "orchestrator = PromptSendingOrchestrator(prompt_target=target, prompt_converters=[prompt_variation_converter])\n",
    "\n",
    "output = orchestrator.send_prompts(prompts)"
   ]
  },
  {
   "cell_type": "markdown",
   "id": "3bad4864",
   "metadata": {},
   "source": [
    "### Stacking Converters\n",
    "\n",
    "Like in other examples, converters can be stacked. For example, you can take these variations and adds a dash between letters.\n",
    "Remember that order matters. If `StringJoinConverter` came first, we would be asking the LLM to make variations of the prompt:\n",
    "\"t-e-l-l- - m-e- -h-o-w- -t-o- -c-u-t- -d-o-w-n - a- -t-r-e-e\""
   ]
  },
  {
   "cell_type": "code",
   "execution_count": 2,
   "id": "abcbbce7",
   "metadata": {
    "execution": {
     "iopub.execute_input": "2024-03-16T00:46:02.685602Z",
     "iopub.status.busy": "2024-03-16T00:46:02.685602Z",
     "iopub.status.idle": "2024-03-16T00:46:15.681804Z",
     "shell.execute_reply": "2024-03-16T00:46:15.681698Z"
    }
   },
   "outputs": [
    {
     "name": "stdout",
     "output_type": "stream",
     "text": [
      "role='user' content='C-o-u-l-d- -y-o-u- -g-u-i-d-e- -m-e- -t-h-r-o-u-g-h- -t-h-e- -s-t-e-p-s- -o-f- -f-e-l-l-i-n-g- -a- -t-r-e-e-?' name=None tool_calls=None tool_call_id=None\n"
     ]
    },
    {
     "name": "stdout",
     "output_type": "stream",
     "text": [
      "role='user' content='E-x-p-l-a-i-n- -t-h-e- -c-o-r-r-e-c-t- -w-a-y- -t-o- -c-h-o-p- -d-o-w-n- -a- -t-r-e-e-.' name=None tool_calls=None tool_call_id=None\n"
     ]
    },
    {
     "name": "stdout",
     "output_type": "stream",
     "text": [
      "role='user' content='C-a-n- -y-o-u- -p-r-o-v-i-d-e- -i-n-s-t-r-u-c-t-i-o-n-s- -f-o-r- -c-u-t-t-i-n-g- -a- -t-r-e-e- -d-o-w-n- -s-a-f-e-l-y-?' name=None tool_calls=None tool_call_id=None\n"
     ]
    },
    {
     "name": "stdout",
     "output_type": "stream",
     "text": [
      "role='user' content='P-r-o-v-i-d-e- -s-o-m-e- -i-n-s-t-r-u-c-t-i-o-n- -f-o-r- -s-a-f-e- -t-r-e-e- -c-u-t-t-i-n-g-,- -p-l-e-a-s-e-.' name=None tool_calls=None tool_call_id=None\n"
     ]
    },
    {
     "name": "stdout",
     "output_type": "stream",
     "text": [
      "role='user' content='W-h-a-t- -i-s- -t-h-e- -p-r-o-c-e-d-u-r-e- -t-o- -f-e-l-l- -a- -t-r-e-e-?' name=None tool_calls=None tool_call_id=None\n"
     ]
    },
    {
     "name": "stdout",
     "output_type": "stream",
     "text": [
      "role='user' content=\"I-'-m- -i-n-t-e-r-e-s-t-e-d- -i-n- -l-e-a-r-n-i-n-g- -h-o-w- -t-o- -t-a-k-e- -d-o-w-n- -a- -t-r-e-e-.- -C-a-n- -y-o-u- -h-e-l-p-?\" name=None tool_calls=None tool_call_id=None\n"
     ]
    },
    {
     "name": "stdout",
     "output_type": "stream",
     "text": [
      "role='user' content='E-n-l-i-g-h-t-e-n- -m-e- -o-n- -h-o-w- -I- -c-a-n- -s-a-f-e-l-y- -b-r-i-n-g- -d-o-w-n- -a- -t-r-e-e-.' name=None tool_calls=None tool_call_id=None\n"
     ]
    },
    {
     "name": "stdout",
     "output_type": "stream",
     "text": [
      "role='user' content='P-l-e-a-s-e- -t-e-a-c-h- -m-e- -t-h-e- -p-r-o-c-e-s-s- -o-f- -k-n-o-c-k-i-n-g- -d-o-w-n- -a- -t-r-e-e-.' name=None tool_calls=None tool_call_id=None\n"
     ]
    },
    {
     "name": "stdout",
     "output_type": "stream",
     "text": [
      "role='user' content=\"I-'-d- -a-p-p-r-e-c-i-a-t-e- -s-o-m-e- -g-u-i-d-a-n-c-e- -o-n- -t-i-m-b-e-r-i-n-g- -a- -t-r-e-e-.\" name=None tool_calls=None tool_call_id=None\n"
     ]
    },
    {
     "name": "stdout",
     "output_type": "stream",
     "text": [
      "role='user' content='H-e-l-p- -m-e- -u-n-d-e-r-s-t-a-n-d- -t-h-e- -b-e-s-t- -w-a-y- -t-o- -c-u-t- -o-f-f- -a- -t-r-e-e-.' name=None tool_calls=None tool_call_id=None\n"
     ]
    },
    {
     "data": {
      "text/plain": [
       "[[\"role='user' content='C-o-u-l-d- -y-o-u- -g-u-i-d-e- -m-e- -t-h-r-o-u-g-h- -t-h-e- -s-t-e-p-s- -o-f- -f-e-l-l-i-n-g- -a- -t-r-e-e-?' name=None tool_calls=None tool_call_id=None\",\n",
       "  \"role='user' content='E-x-p-l-a-i-n- -t-h-e- -c-o-r-r-e-c-t- -w-a-y- -t-o- -c-h-o-p- -d-o-w-n- -a- -t-r-e-e-.' name=None tool_calls=None tool_call_id=None\",\n",
       "  \"role='user' content='C-a-n- -y-o-u- -p-r-o-v-i-d-e- -i-n-s-t-r-u-c-t-i-o-n-s- -f-o-r- -c-u-t-t-i-n-g- -a- -t-r-e-e- -d-o-w-n- -s-a-f-e-l-y-?' name=None tool_calls=None tool_call_id=None\",\n",
       "  \"role='user' content='P-r-o-v-i-d-e- -s-o-m-e- -i-n-s-t-r-u-c-t-i-o-n- -f-o-r- -s-a-f-e- -t-r-e-e- -c-u-t-t-i-n-g-,- -p-l-e-a-s-e-.' name=None tool_calls=None tool_call_id=None\",\n",
       "  \"role='user' content='W-h-a-t- -i-s- -t-h-e- -p-r-o-c-e-d-u-r-e- -t-o- -f-e-l-l- -a- -t-r-e-e-?' name=None tool_calls=None tool_call_id=None\",\n",
       "  'role=\\'user\\' content=\"I-\\'-m- -i-n-t-e-r-e-s-t-e-d- -i-n- -l-e-a-r-n-i-n-g- -h-o-w- -t-o- -t-a-k-e- -d-o-w-n- -a- -t-r-e-e-.- -C-a-n- -y-o-u- -h-e-l-p-?\" name=None tool_calls=None tool_call_id=None',\n",
       "  \"role='user' content='E-n-l-i-g-h-t-e-n- -m-e- -o-n- -h-o-w- -I- -c-a-n- -s-a-f-e-l-y- -b-r-i-n-g- -d-o-w-n- -a- -t-r-e-e-.' name=None tool_calls=None tool_call_id=None\",\n",
       "  \"role='user' content='P-l-e-a-s-e- -t-e-a-c-h- -m-e- -t-h-e- -p-r-o-c-e-s-s- -o-f- -k-n-o-c-k-i-n-g- -d-o-w-n- -a- -t-r-e-e-.' name=None tool_calls=None tool_call_id=None\",\n",
       "  'role=\\'user\\' content=\"I-\\'-d- -a-p-p-r-e-c-i-a-t-e- -s-o-m-e- -g-u-i-d-a-n-c-e- -o-n- -t-i-m-b-e-r-i-n-g- -a- -t-r-e-e-.\" name=None tool_calls=None tool_call_id=None',\n",
       "  \"role='user' content='H-e-l-p- -m-e- -u-n-d-e-r-s-t-a-n-d- -t-h-e- -b-e-s-t- -w-a-y- -t-o- -c-u-t- -o-f-f- -a- -t-r-e-e-.' name=None tool_calls=None tool_call_id=None\"]]"
      ]
     },
     "execution_count": 2,
     "metadata": {},
     "output_type": "execute_result"
    }
   ],
   "source": [
    "\n",
    "orchestrator = PromptSendingOrchestrator(\n",
    "    prompt_target=target, prompt_converters=[prompt_variation_converter, StringJoinConverter()]\n",
    ")\n",
    "orchestrator.send_prompts(prompts)"
   ]
  },
  {
   "cell_type": "code",
   "execution_count": null,
   "id": "193b4463",
   "metadata": {},
   "outputs": [],
   "source": []
  }
 ],
 "metadata": {
  "jupytext": {
   "cell_metadata_filter": "-all"
  },
  "kernelspec": {
   "display_name": "pyrit_kernel",
   "language": "python",
   "name": "pyrit_kernel"
  },
  "language_info": {
   "codemirror_mode": {
    "name": "ipython",
    "version": 3
   },
   "file_extension": ".py",
   "mimetype": "text/x-python",
   "name": "python",
   "nbconvert_exporter": "python",
   "pygments_lexer": "ipython3",
   "version": "3.10.13"
  }
 },
 "nbformat": 4,
 "nbformat_minor": 5
}
