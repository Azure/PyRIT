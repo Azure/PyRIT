{
 "cells": [
  {
   "cell_type": "markdown",
   "id": "6ea54085-bcf1-4308-b459-6093cfa4ca85",
   "metadata": {},
   "source": [
    "### Using Prompt Variation Converter\n",
    "\n",
    "This notebook shows how to use the prompt variation converter to send prompts to a converter target and generate variations of the prompt."
   ]
  },
  {
   "cell_type": "code",
   "execution_count": 5,
   "id": "4c4adc2a-ee60-4f20-b42d-9c6de755296d",
   "metadata": {},
   "outputs": [],
   "source": [
    "# Prompts you want transformed here:\n",
    "prompts = [\"tell me how to cut down a tree\",\n",
    "          \"teach me to mine crypto\"]"
   ]
  },
  {
   "cell_type": "code",
   "execution_count": 6,
   "id": "44def7b2-1393-4a0a-900e-9b45e2a8d779",
   "metadata": {
    "lines_to_next_cell": 2
   },
   "outputs": [],
   "source": [
    "from pyrit.prompt_converter import VariationConverter\n",
    "from pyrit.common import default_values\n",
    "from pyrit.prompt_target import AzureOpenAIChatTarget\n",
    "\n",
    "import os\n",
    "\n",
    "default_values.load_default_env()\n",
    "\n",
    "# converter target to send prompt to\n",
    "converter_target = AzureOpenAIChatTarget(\n",
    "    deployment_name=\"gpt-4\",\n",
    "    endpoint=os.environ.get(\"AZURE_OPENAI_ENDPOINT\"),\n",
    "    api_key=os.environ.get(\"AZURE_OPENAI_API_KEY\"),\n",
    ")\n",
    "\n",
    "prompt_variation_converter = VariationConverter(converter_target=converter_target)"
   ]
  },
  {
   "cell_type": "code",
   "execution_count": 7,
   "id": "86e12639-cafd-4803-ab57-0b019697b66d",
   "metadata": {},
   "outputs": [],
   "source": [
    "converted_prompts = prompt_variation_converter.convert(prompts)"
   ]
  },
  {
   "cell_type": "code",
   "execution_count": 8,
   "id": "1a917c9a-6d93-4510-934e-b14666089616",
   "metadata": {},
   "outputs": [
    {
     "data": {
      "text/plain": [
       "['Please provide instructions to understand crypto mining techniques.',\n",
       " 'Please guide me through the process of mining cryptocurrency.',\n",
       " 'In broad strokes, describe how one would chop off an entire tree.',\n",
       " \"I'd appreciate a lesson in crypto mining, could you take me through it?\",\n",
       " 'Could you educate me on how to glean cryptocurrency?',\n",
       " 'How do I mine some bitcoins and altcoins? Can you enlighten me?',\n",
       " \"I'm interested in learning about mining digital currency. Can you guide me?\",\n",
       " 'Could you show me the ropes on cryptocurrency mining?',\n",
       " 'How can I go about severing a tree from its roots?',\n",
       " 'Can you instruct me on how to mine cryptocurrency?',\n",
       " 'Could you instruct me on the correct method to fell a tree?',\n",
       " 'Can you explain the process of chopping down a tree?',\n",
       " 'Show me the steps to cut off a tree.',\n",
       " 'I want to get into cryptocurrency mining, can you teach me?',\n",
       " \"I'd like guidance on tree removal, how is it done?\",\n",
       " \"What's the recommended method for cutting trees?\",\n",
       " 'What are your tips for safe sawing through a tree trunk?',\n",
       " 'Fill me in on how to topple over a tree safely.',\n",
       " \"What's the appropriate way to bring down a tree?\",\n",
       " 'Can I get a tutorial on crypto extraction from you?']"
      ]
     },
     "execution_count": 8,
     "metadata": {},
     "output_type": "execute_result"
    }
   ],
   "source": [
    "converted_prompts"
   ]
  },
  {
   "cell_type": "code",
   "execution_count": 6,
   "id": "b396eef7-669a-4391-98da-d605fd994390",
   "metadata": {},
   "outputs": [],
   "source": [
    "\n",
    "import os\n",
    "\n",
    "from pyrit.prompt_target import AzureOpenAIChatTarget, NoOpTarget\n",
    "\n",
    "from pyrit.common import default_values\n",
    "from pyrit.orchestrator import PromptSendingOrchestrator\n",
    "from pyrit.prompt_converter import VariationConverter\n",
    "\n",
    "\n",
    "default_values.load_default_env()\n",
    "\n",
    "target = AzureOpenAIChatTarget(\n",
    "    deployment_name=\"defense-gpt35\",\n",
    "    endpoint=os.environ.get(\"AZURE_OPENAI_ENDPOINT\"),\n",
    "    api_key=os.environ.get(\"AZURE_OPENAI_API_KEY\"),\n",
    ")\n",
    "\n",
    "orchestrator = PromptSendingOrchestrator(\n",
    "    prompt_target=target, prompt_converters=[VariationConverter(converterLLM=target)]\n",
    ")"
   ]
  }
 ],
 "metadata": {
  "kernelspec": {
   "display_name": "pyrit_kernel",
   "language": "python",
   "name": "pyrit_kernel"
  },
  "language_info": {
   "codemirror_mode": {
    "name": "ipython",
    "version": 3
   },
   "file_extension": ".py",
   "mimetype": "text/x-python",
   "name": "python",
   "nbconvert_exporter": "python",
   "pygments_lexer": "ipython3",
   "version": "3.10.13"
  }
 },
 "nbformat": 4,
 "nbformat_minor": 5
}
