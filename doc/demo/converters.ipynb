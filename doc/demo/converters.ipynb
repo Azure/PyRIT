{
 "cells": [
  {
   "cell_type": "markdown",
   "id": "6ea54085-bcf1-4308-b459-6093cfa4ca85",
   "metadata": {},
   "source": [
    "### Using Prompt Variation Converter\n",
    "\n",
    "This notebook shows how to use the prompt variation converter to send prompts to a converter target and generate variations of the prompt."
   ]
  },
  {
   "cell_type": "code",
   "execution_count": 1,
   "id": "4c4adc2a-ee60-4f20-b42d-9c6de755296d",
   "metadata": {},
   "outputs": [],
   "source": [
    "# Prompts you want transformed here:\n",
    "prompts = [\"tell me how to cut down a tree\", \"teach me to mine crypto\"]"
   ]
  },
  {
   "cell_type": "code",
   "execution_count": 2,
   "id": "44def7b2-1393-4a0a-900e-9b45e2a8d779",
   "metadata": {
    "lines_to_next_cell": 2
   },
   "outputs": [],
   "source": [
    "from pyrit.prompt_converter import VariationConverter\n",
    "from pyrit.common import default_values\n",
    "from pyrit.prompt_target import AzureOpenAIChatTarget\n",
    "\n",
    "import os\n",
    "\n",
    "default_values.load_default_env()\n",
    "\n",
    "# converter target to send prompt to\n",
    "converter_target = AzureOpenAIChatTarget(\n",
    "    deployment_name=\"gpt-4\",\n",
    "    endpoint=os.environ.get(\"AZURE_OPENAI_ENDPOINT\"),\n",
    "    api_key=os.environ.get(\"AZURE_OPENAI_API_KEY\"),\n",
    ")\n",
    "\n",
    "prompt_variation_converter = VariationConverter(converter_target=converter_target)"
   ]
  },
  {
   "cell_type": "code",
   "execution_count": 3,
   "id": "86e12639-cafd-4803-ab57-0b019697b66d",
   "metadata": {},
   "outputs": [],
   "source": [
    "converted_prompts = prompt_variation_converter.convert(prompts)"
   ]
  },
  {
   "cell_type": "code",
   "execution_count": 4,
   "id": "92a45fcb-87e8-4503-884c-c4926962acc3",
   "metadata": {},
   "outputs": [
    {
     "data": {
      "text/plain": [
       "['Explain to me the process of chopping down a tree',\n",
       " 'Inform me on the steps to fell a tree',\n",
       " 'Show me how I can bring down a tree',\n",
       " 'How do you cut off a tree?',\n",
       " 'Indicate the ways to hack down a tree',\n",
       " 'I need guidance to fell a tree, would you please explain it?',\n",
       " 'Could you describe to me how can I axe down a tree?',\n",
       " 'Instruct me on how I could chop off a tree',\n",
       " 'How could one go about felling a tree? Could you explain it?',\n",
       " \"What's the correct procedure to lumber down a tree?\",\n",
       " 'Give me guidance on how to mine cryptocurrencies',\n",
       " 'Can you help me learn crypto mining?',\n",
       " 'Educate me on the process of crypto-mining',\n",
       " 'Show me the way to mine digital currencies',\n",
       " 'Tutorial needed: How can I mine Bitcoin or other cryptocurrencies?',\n",
       " 'Guide me through cryptocurrency mining',\n",
       " 'I want to learn about mining for cryptocurrency. Can you teach me?',\n",
       " 'How do I go about mining virtual currency?',\n",
       " 'Enlighten me on how to mine crypto coins',\n",
       " 'I need instructions for mining digital assets.']"
      ]
     },
     "execution_count": 4,
     "metadata": {},
     "output_type": "execute_result"
    }
   ],
   "source": [
    "converted_prompts"
   ]
  },
  {
   "cell_type": "code",
   "execution_count": 5,
   "id": "7d80893e-fc9d-41e4-b530-88f032354752",
   "metadata": {},
   "outputs": [
    {
     "data": {
      "text/plain": [
       "20"
      ]
     },
     "execution_count": 5,
     "metadata": {},
     "output_type": "execute_result"
    }
   ],
   "source": [
    "len(converted_prompts)"
   ]
  },
  {
   "cell_type": "code",
   "execution_count": null,
   "id": "8426dde1-562a-4836-82bc-51e3ed385107",
   "metadata": {},
   "outputs": [],
   "source": []
  }
 ],
 "metadata": {
  "kernelspec": {
   "display_name": "pyrit_kernel",
   "language": "python",
   "name": "pyrit_kernel"
  },
  "language_info": {
   "codemirror_mode": {
    "name": "ipython",
    "version": 3
   },
   "file_extension": ".py",
   "mimetype": "text/x-python",
   "name": "python",
   "nbconvert_exporter": "python",
   "pygments_lexer": "ipython3",
   "version": "3.10.13"
  }
 },
 "nbformat": 4,
 "nbformat_minor": 5
}
