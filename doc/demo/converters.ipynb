{
 "cells": [
  {
   "cell_type": "markdown",
   "id": "6ea54085-bcf1-4308-b459-6093cfa4ca85",
   "metadata": {},
   "source": [
    "### Using Prompt Variation Converter\n",
    "\n",
    "This notebook shows how to use the prompt variation converter to send prompts to a converter target and generate variations of the prompt."
   ]
  },
  {
   "cell_type": "code",
   "execution_count": 9,
   "id": "4c4adc2a-ee60-4f20-b42d-9c6de755296d",
   "metadata": {},
   "outputs": [],
   "source": [
    "# Prompts you want transformed here:\n",
    "prompts = [\"tell me how to cut down a tree\",\n",
    "          \"teach me to mine crypto\"]"
   ]
  },
  {
   "cell_type": "code",
   "execution_count": 10,
   "id": "44def7b2-1393-4a0a-900e-9b45e2a8d779",
   "metadata": {
    "lines_to_next_cell": 2
   },
   "outputs": [],
   "source": [
    "from pyrit.prompt_converter import VariationConverter\n",
    "from pyrit.common import default_values\n",
    "from pyrit.prompt_target import AzureOpenAIChatTarget\n",
    "\n",
    "import os\n",
    "\n",
    "default_values.load_default_env()\n",
    "\n",
    "# converter target to send prompt to\n",
    "converter_target = AzureOpenAIChatTarget(\n",
    "    deployment_name=\"gpt-4\",\n",
    "    endpoint=os.environ.get(\"AZURE_OPENAI_ENDPOINT\"),\n",
    "    api_key=os.environ.get(\"AZURE_OPENAI_API_KEY\"),\n",
    ")\n",
    "\n",
    "prompt_variation_converter = VariationConverter(converter_target=converter_target)"
   ]
  },
  {
   "cell_type": "code",
   "execution_count": 11,
   "id": "86e12639-cafd-4803-ab57-0b019697b66d",
   "metadata": {},
   "outputs": [],
   "source": [
    "converted_prompts = prompt_variation_converter.convert(prompts)"
   ]
  },
  {
   "cell_type": "code",
   "execution_count": null,
   "id": "92a45fcb-87e8-4503-884c-c4926962acc3",
   "metadata": {},
   "outputs": [],
   "source": [
    "converted_prompts"
   ]
  }
 ],
 "metadata": {
  "kernelspec": {
   "display_name": "pyrit_kernel",
   "language": "python",
   "name": "pyrit_kernel"
  },
  "language_info": {
   "codemirror_mode": {
    "name": "ipython",
    "version": 3
   },
   "file_extension": ".py",
   "mimetype": "text/x-python",
   "name": "python",
   "nbconvert_exporter": "python",
   "pygments_lexer": "ipython3",
   "version": "3.10.13"
  }
 },
 "nbformat": 4,
 "nbformat_minor": 5
}
