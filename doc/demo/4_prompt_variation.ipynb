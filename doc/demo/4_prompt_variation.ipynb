{
 "cells": [
  {
   "cell_type": "markdown",
   "id": "e929bbfa",
   "metadata": {},
   "source": [
    "### Prompt Variation Demo\n",
    "\n",
    "This example shows how to use prompt variation converters to make different prompts with essentially the same meaning.\n",
    "It's often useful for a researcher to get variations of a similar prompts.\n",
    "\n",
    "This uses a NoOpTarget so these variations are simply added to memory and printed to the screen. This target\n",
    "could be replaced with any other target."
   ]
  },
  {
   "cell_type": "code",
   "execution_count": 1,
   "id": "d06230cd",
   "metadata": {
    "execution": {
     "iopub.execute_input": "2024-03-14T17:04:28.484957Z",
     "iopub.status.busy": "2024-03-14T17:04:28.484957Z",
     "iopub.status.idle": "2024-03-14T17:05:02.103701Z",
     "shell.execute_reply": "2024-03-14T17:05:02.102827Z"
    }
   },
   "outputs": [
    {
     "name": "stdout",
     "output_type": "stream",
     "text": [
      "role='user' content='Instruct me on the method of felling a tree' name=None tool_calls=None tool_call_id=None"
     ]
    },
    {
     "name": "stdout",
     "output_type": "stream",
     "text": [
      "role='user' content='Can you guide me in taking down a tree?' name=None tool_calls=None tool_call_id=Nonerole='user' content='What steps should I follow for chopping down a tree?' name=None tool_calls=None tool_call_id=None"
     ]
    },
    {
     "name": "stdout",
     "output_type": "stream",
     "text": [
      "role='user' content='I need directions on how to topple a tree' name=None tool_calls=None tool_call_id=Nonerole='user' content='Guide me through the process of removing a tree' name=None tool_calls=None tool_call_id=None"
     ]
    },
    {
     "name": "stdout",
     "output_type": "stream",
     "text": [
      "role='user' content='How do I go about knocking down a tree?' name=None tool_calls=None tool_call_id=Nonerole='user' content='Can you elucidate the procedure for cutting off a tree?' name=None tool_calls=None tool_call_id=None"
     ]
    },
    {
     "name": "stdout",
     "output_type": "stream",
     "text": [
      "role='user' content=\"What's the correct way to axe down a tree?\" name=None tool_calls=None tool_call_id=Nonerole='user' content='Let me know how to make a tree fall and chop it up' name=None tool_calls=None tool_call_id=None"
     ]
    },
    {
     "name": "stdout",
     "output_type": "stream",
     "text": [
      "role='user' content='Provide me with guidelines on how to saw off a tree' name=None tool_calls=None tool_call_id=None"
     ]
    },
    {
     "data": {
      "text/plain": [
       "[['', '', '', '', '', '', '', '', '', '']]"
      ]
     },
     "execution_count": 1,
     "metadata": {},
     "output_type": "execute_result"
    }
   ],
   "source": [
    "\n",
    "from pyrit.common import default_values\n",
    "from pyrit.prompt_target import TextTarget, AzureOpenAIChatTarget\n",
    "from pyrit.prompt_converter import VariationConverter, StringJoinConverter\n",
    "from pyrit.orchestrator import PromptSendingOrchestrator\n",
    "\n",
    "\n",
    "default_values.load_default_env()\n",
    "\n",
    "prompts = [\"tell me how to cut down a tree\"]\n",
    "\n",
    "# converter target to send prompt to; In this case configured to an Azure OpenAI Chat model\n",
    "converter_target = AzureOpenAIChatTarget()\n",
    "prompt_variation_converter = VariationConverter(converter_target=converter_target)\n",
    "\n",
    "\n",
    "target = TextTarget()\n",
    "\n",
    "orchestrator = PromptSendingOrchestrator(prompt_target=target, prompt_converters=[prompt_variation_converter])\n",
    "\n",
    "orchestrator.send_prompts(prompts)"
   ]
  },
  {
   "cell_type": "markdown",
   "id": "6ffceded",
   "metadata": {},
   "source": [
    "### Stacking Converters\n",
    "\n",
    "Like in other examples, converters can be stacked. For example, you can take these variations and adds a dash between letters.\n",
    "Remember that order matters. If `StringJoinConverter` came first, we would be asking the LLM to make variations of the prompt:\n",
    "\"t-e-l-l- - m-e- -h-o-w- -t-o- -c-u-t- -d-o-w-n - a- -t-r-e-e\""
   ]
  },
  {
   "cell_type": "code",
   "execution_count": 2,
   "id": "303736f3",
   "metadata": {
    "execution": {
     "iopub.execute_input": "2024-03-14T17:05:02.107700Z",
     "iopub.status.busy": "2024-03-14T17:05:02.107700Z",
     "iopub.status.idle": "2024-03-14T17:05:19.937195Z",
     "shell.execute_reply": "2024-03-14T17:05:19.936195Z"
    }
   },
   "outputs": [
    {
     "name": "stdout",
     "output_type": "stream",
     "text": [
      "role='user' content='C-a-n- -y-o-u- -p-r-o-v-i-d-e- -i-n-s-t-r-u-c-t-i-o-n-s- -o-n- -h-o-w- -t-o- -c-h-o-p- -d-o-w-n- -a- -t-r-e-e-?' name=None tool_calls=None tool_call_id=None"
     ]
    },
    {
     "name": "stdout",
     "output_type": "stream",
     "text": [
      "role='user' content='I-n-s-t-r-u-c-t- -m-e- -o-n- -t-h-e- -b-e-s-t- -w-a-y- -t-o- -f-e-l-l- -a- -t-r-e-e-.' name=None tool_calls=None tool_call_id=Nonerole='user' content='C-o-u-l-d- -y-o-u- -e-x-p-l-a-i-n- -h-o-w- -o-n-e- -m-i-g-h-t- -s-a-w- -d-o-w-n- -a- -t-r-e-e-?' name=None tool_calls=None tool_call_id=None"
     ]
    },
    {
     "name": "stdout",
     "output_type": "stream",
     "text": [
      "role='user' content='H-o-w- -c-a-n- -I- -g-o- -a-b-o-u-t- -t-o-p-p-l-i-n-g- -a- -t-r-e-e-?' name=None tool_calls=None tool_call_id=Nonerole='user' content='I- -n-e-e-d- -a-d-v-i-c-e- -o-n- -h-o-w- -t-o- -r-e-m-o-v-e- -a- -t-r-e-e-,- -c-o-u-l-d- -y-o-u- -h-e-l-p-?' name=None tool_calls=None tool_call_id=None"
     ]
    },
    {
     "name": "stdout",
     "output_type": "stream",
     "text": [
      "role='user' content='P-l-e-a-s-e- -g-u-i-d-e- -m-e- -o-n- -t-h-e- -p-r-o-c-e-s-s- -o-f- -c-h-o-p-p-i-n-g- -d-o-w-n- -a- -t-r-e-e-.' name=None tool_calls=None tool_call_id=Nonerole='user' content=\"I-'-d- -a-p-p-r-e-c-i-a-t-e- -s-o-m-e- -g-u-i-d-a-n-c-e- -o-n- -t-a-k-i-n-g- -d-o-w-n- -a- -t-r-e-e-.- -C-o-u-l-d- -y-o-u- -a-s-s-i-s-t- -m-e-?\" name=None tool_calls=None tool_call_id=None"
     ]
    },
    {
     "name": "stdout",
     "output_type": "stream",
     "text": [
      "role='user' content='O-u-t-l-i-n-e- -t-h-e- -s-t-e-p-s- -i-n- -f-e-l-l-i-n-g- -a- -t-r-e-e- -f-o-r- -m-e- -p-l-e-a-s-e-.' name=None tool_calls=None tool_call_id=Nonerole='user' content=\"W-h-a-t-'-s- -t-h-e- -c-o-r-r-e-c-t- -t-e-c-h-n-i-q-u-e- -f-o-r- -c-u-t-t-i-n-g- -t-r-e-e-s- -d-o-w-n-?\" name=None tool_calls=None tool_call_id=None"
     ]
    },
    {
     "name": "stdout",
     "output_type": "stream",
     "text": [
      "role='user' content=\"I-'-m- -c-u-r-i-o-u-s- -a-b-o-u-t- -h-o-w- -t-o- -b-r-i-n-g- -d-o-w-n- -a- -t-r-e-e-,- -d-o- -y-o-u- -h-a-v-e- -a-n-y- -t-i-p-s-?\" name=None tool_calls=None tool_call_id=None"
     ]
    },
    {
     "data": {
      "text/plain": [
       "[['', '', '', '', '', '', '', '', '', '']]"
      ]
     },
     "execution_count": 2,
     "metadata": {},
     "output_type": "execute_result"
    }
   ],
   "source": [
    "\n",
    "orchestrator = PromptSendingOrchestrator(\n",
    "    prompt_target=target, prompt_converters=[prompt_variation_converter, StringJoinConverter()]\n",
    ")\n",
    "orchestrator.send_prompts(prompts)"
   ]
  },
  {
   "cell_type": "code",
   "execution_count": null,
   "id": "877c3cb2",
   "metadata": {},
   "outputs": [],
   "source": []
  }
 ],
 "metadata": {
  "kernelspec": {
   "display_name": "pyrit_kernel",
   "language": "python",
   "name": "pyrit_kernel"
  },
  "language_info": {
   "codemirror_mode": {
    "name": "ipython",
    "version": 3
   },
   "file_extension": ".py",
   "mimetype": "text/x-python",
   "name": "python",
   "nbconvert_exporter": "python",
   "pygments_lexer": "ipython3",
   "version": "3.10.13"
  }
 },
 "nbformat": 4,
 "nbformat_minor": 5
}
