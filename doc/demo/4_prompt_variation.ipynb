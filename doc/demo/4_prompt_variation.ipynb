{
 "cells": [
  {
   "cell_type": "markdown",
   "id": "213fb6f1",
   "metadata": {},
   "source": [
    "### Prompt Variation Demo\n",
    "\n",
    "This example shows how to use prompt variation converters. It's often useful for a researcher to get variations of a similar prompts.\n",
    "This uses a NoOpTarget so these variations are simply added to memory and printed to the screen."
   ]
  },
  {
   "cell_type": "code",
   "execution_count": 1,
   "id": "fde6b1d9",
   "metadata": {
    "execution": {
     "iopub.execute_input": "2024-03-13T21:00:49.194619Z",
     "iopub.status.busy": "2024-03-13T21:00:49.194619Z",
     "iopub.status.idle": "2024-03-13T21:01:13.113089Z",
     "shell.execute_reply": "2024-03-13T21:01:13.112083Z"
    }
   },
   "outputs": [
    {
     "name": "stdout",
     "output_type": "stream",
     "text": [
      "role='user' content='Can you explain the process of chopping down a tree?' name=None tool_calls=None tool_call_id=None\n"
     ]
    },
    {
     "name": "stdout",
     "output_type": "stream",
     "text": [
      "role='user' content='What are the steps to take down a tree?' name=None tool_calls=None tool_call_id=None\n"
     ]
    },
    {
     "name": "stdout",
     "output_type": "stream",
     "text": [
      "role='user' content='I need instructions on how to fell a tree.' name=None tool_calls=None tool_call_id=None\n"
     ]
    },
    {
     "name": "stdout",
     "output_type": "stream",
     "text": [
      "role='user' content='How would you go about removing a tree?' name=None tool_calls=None tool_call_id=None\n"
     ]
    },
    {
     "name": "stdout",
     "output_type": "stream",
     "text": [
      "role='user' content=\"I'd like to understand tree felling, could you outline it for me?\" name=None tool_calls=None tool_call_id=None\n"
     ]
    },
    {
     "name": "stdout",
     "output_type": "stream",
     "text": [
      "role='user' content='Please guide me on the methods of axing down a tree.' name=None tool_calls=None tool_call_id=None\n"
     ]
    },
    {
     "name": "stdout",
     "output_type": "stream",
     "text": [
      "role='user' content=\"What's the proper way of cutting off a tree?\" name=None tool_calls=None tool_call_id=None\n"
     ]
    },
    {
     "name": "stdout",
     "output_type": "stream",
     "text": [
      "role='user' content='Elaborate on the procedure for lopping down a tree.' name=None tool_calls=None tool_call_id=None\n"
     ]
    },
    {
     "name": "stdout",
     "output_type": "stream",
     "text": [
      "role='user' content='Show me how to dismantle this tree stump by stump.' name=None tool_calls=None tool_call_id=None\n"
     ]
    },
    {
     "name": "stdout",
     "output_type": "stream",
     "text": [
      "role='user' content='Describe to me the best approach to chop away at this timber.' name=None tool_calls=None tool_call_id=None\n"
     ]
    }
   ],
   "source": [
    "\n",
    "from pyrit.common import default_values\n",
    "from pyrit.prompt_target import NoOpTarget, AzureOpenAIChatTarget\n",
    "from pyrit.prompt_converter import VariationConverter, StringJoinConverter\n",
    "from pyrit.orchestrator import PromptSendingOrchestrator\n",
    "\n",
    "\n",
    "default_values.load_default_env()\n",
    "\n",
    "prompts = [\"tell me how to cut down a tree\"]\n",
    "\n",
    "# converter target to send prompt to\n",
    "converter_target = AzureOpenAIChatTarget()\n",
    "prompt_variation_converter = VariationConverter(converter_target=converter_target)\n",
    "\n",
    "\n",
    "target = NoOpTarget()\n",
    "\n",
    "orchestrator = PromptSendingOrchestrator(prompt_target=target, prompt_converters=[prompt_variation_converter])\n",
    "\n",
    "orchestrator.send_prompts(prompts)"
   ]
  },
  {
   "cell_type": "markdown",
   "id": "27247eb0",
   "metadata": {},
   "source": [
    "### Stacking Converters\n",
    "\n",
    "Like in other examples, converters can be stacked. For example, you can take these variations and adds - between words"
   ]
  },
  {
   "cell_type": "code",
   "execution_count": 2,
   "id": "2ad0d12a",
   "metadata": {
    "execution": {
     "iopub.execute_input": "2024-03-13T21:01:13.113089Z",
     "iopub.status.busy": "2024-03-13T21:01:13.113089Z",
     "iopub.status.idle": "2024-03-13T21:01:36.593775Z",
     "shell.execute_reply": "2024-03-13T21:01:36.593775Z"
    }
   },
   "outputs": [
    {
     "name": "stdout",
     "output_type": "stream",
     "text": [
      "role='user' content='C-o-u-l-d- -y-o-u- -g-u-i-d-e- -m-e- -o-n- -c-h-o-p-p-i-n-g- -d-o-w-n- -a- -t-r-e-e-?' name=None tool_calls=None tool_call_id=None\n"
     ]
    },
    {
     "name": "stdout",
     "output_type": "stream",
     "text": [
      "role='user' content='I- -n-e-e-d- -i-n-s-t-r-u-c-t-i-o-n-s- -o-n- -f-e-l-l-i-n-g- -a- -t-r-e-e-.' name=None tool_calls=None tool_call_id=None\n"
     ]
    },
    {
     "name": "stdout",
     "output_type": "stream",
     "text": [
      "role='user' content='H-o-w- -d-o- -I- -g-o- -a-b-o-u-t- -c-u-t-t-i-n-g- -a- -t-r-e-e-?' name=None tool_calls=None tool_call_id=None\n"
     ]
    },
    {
     "name": "stdout",
     "output_type": "stream",
     "text": [
      "role='user' content='C-a-n- -y-o-u- -d-e-t-a-i-l- -t-h-e- -p-r-o-c-e-s-s- -o-f- -b-r-i-n-g-i-n-g- -d-o-w-n- -a- -t-r-e-e-?' name=None tool_calls=None tool_call_id=None\n"
     ]
    },
    {
     "name": "stdout",
     "output_type": "stream",
     "text": [
      "role='user' content='P-l-e-a-s-e- -e-x-p-l-a-i-n- -h-o-w- -t-o- -c-u-t- -a- -t-r-e-e- -i-n- -s-t-e-p-s-.' name=None tool_calls=None tool_call_id=None\n"
     ]
    },
    {
     "name": "stdout",
     "output_type": "stream",
     "text": [
      "role='user' content='C-a-n- -y-o-u- -t-e-a-c-h- -m-e- -h-o-w- -t-o- -f-e-l-l- -a- -t-r-e-e-?' name=None tool_calls=None tool_call_id=None\n"
     ]
    },
    {
     "name": "stdout",
     "output_type": "stream",
     "text": [
      "role='user' content=\"W-h-a-t-'-s- -t-h-e- -p-r-o-p-e-r- -w-a-y- -t-o- -c-h-o-p- -d-o-w-n- -a- -t-r-e-e-?\" name=None tool_calls=None tool_call_id=None\n"
     ]
    },
    {
     "name": "stdout",
     "output_type": "stream",
     "text": [
      "role='user' content='G-i-v-e- -m-e- -s-o-m-e- -a-d-v-i-c-e- -o-n- -h-o-w- -t-o- -t-a-k-e- -d-o-w-n- -a- -t-r-e-e-.' name=None tool_calls=None tool_call_id=None\n"
     ]
    },
    {
     "name": "stdout",
     "output_type": "stream",
     "text": [
      "role='user' content='H-i-g-h-l-i-g-h-t- -t-h-e- -s-t-e-p-s- -i-n-v-o-l-v-e-d- -i-n- -c-u-t-t-i-n-g- -o-f-f- -a- -t-r-e-e- -f-o-r- -m-e-,- -w-i-l-l- -y-o-u-?' name=None tool_calls=None tool_call_id=None\n"
     ]
    },
    {
     "name": "stdout",
     "output_type": "stream",
     "text": [
      "role='user' content='W-i-l-l- -y-o-u- -s-h-o-w- -m-e- -h-o-w- -o-n-e- -g-o-e-s- -a-b-o-u-t- -f-e-l-l-i-n-g- -t-r-e-e-s-?' name=None tool_calls=None tool_call_id=None\n"
     ]
    }
   ],
   "source": [
    "\n",
    "orchestrator = PromptSendingOrchestrator(prompt_target=target, prompt_converters=[prompt_variation_converter, StringJoinConverter()])\n",
    "orchestrator.send_prompts(prompts)"
   ]
  },
  {
   "cell_type": "code",
   "execution_count": null,
   "id": "42719709",
   "metadata": {},
   "outputs": [],
   "source": []
  }
 ],
 "metadata": {
  "kernelspec": {
   "display_name": "pyrit_kernel",
   "language": "python",
   "name": "pyrit_kernel"
  },
  "language_info": {
   "codemirror_mode": {
    "name": "ipython",
    "version": 3
   },
   "file_extension": ".py",
   "mimetype": "text/x-python",
   "name": "python",
   "nbconvert_exporter": "python",
   "pygments_lexer": "ipython3",
   "version": "3.10.13"
  }
 },
 "nbformat": 4,
 "nbformat_minor": 5
}
