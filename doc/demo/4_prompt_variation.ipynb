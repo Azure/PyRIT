{
 "cells": [
  {
   "cell_type": "markdown",
   "id": "e929bbfa",
   "metadata": {},
   "source": [
    "### Prompt Variation Demo\n",
    "\n",
    "This example shows how to use prompt variation converters to make different prompts with essentially the same meaning.\n",
    "It's often useful for a researcher to get variations of a similar prompts.\n",
    "\n",
    "This uses a NoOpTarget so these variations are simply added to memory and printed to the screen. This target\n",
    "could be replaced with any other target."
   ]
  },
  {
   "cell_type": "code",
   "execution_count": 1,
   "id": "d06230cd",
   "metadata": {
    "execution": {
     "iopub.execute_input": "2024-03-14T17:04:28.484957Z",
     "iopub.status.busy": "2024-03-14T17:04:28.484957Z",
     "iopub.status.idle": "2024-03-14T17:05:02.103701Z",
     "shell.execute_reply": "2024-03-14T17:05:02.102827Z"
    }
   },
   "outputs": [
    {
     "name": "stdout",
     "output_type": "stream",
     "text": [
      "role='user' content='What is the proper technique for felling a tree?' name=None tool_calls=None tool_call_id=Nonerole='user' content='Can you guide me through the process of tree removal?' name=None tool_calls=None tool_call_id=Nonerole='user' content='Do you have any tips for safely cutting down a tree?' name=None tool_calls=None tool_call_id=Nonerole='user' content='Could you provide instructions on how to bring down a tree?' name=None tool_calls=None tool_call_id=Nonerole='user' content=\"I'm interested in learning the steps to chop down a tree, can you help?\" name=None tool_calls=None tool_call_id=Nonerole='user' content='Any advice on successfully removing a tree from my property?' name=None tool_calls=None tool_call_id=Nonerole='user' content='What are the necessary steps for effectively cutting down a tree?' name=None tool_calls=None tool_call_id=Nonerole='user' content='Can you walk me through the process of taking down a tree?' name=None tool_calls=None tool_call_id=Nonerole='user' content='Looking for guidance on how to fell a tree safely and efficiently' name=None tool_calls=None tool_call_id=Nonerole='user' content='Could you share some pointers on bringing down trees?' name=None tool_calls=None tool_call_id=None"
     ]
    }
   ],
   "source": [
    "\n",
    "from pyrit.common import default_values\n",
    "from pyrit.prompt_target import TextTarget, AzureOpenAIChatTarget\n",
    "from pyrit.prompt_converter import VariationConverter, StringJoinConverter\n",
    "from pyrit.orchestrator import PromptSendingOrchestrator\n",
    "\n",
    "\n",
    "default_values.load_default_env()\n",
    "\n",
    "prompts = [\"tell me how to cut down a tree\"]\n",
    "\n",
    "# converter target to send prompt to; In this case configured to an Azure OpenAI Chat model\n",
    "converter_target = AzureOpenAIChatTarget()\n",
    "prompt_variation_converter = VariationConverter(converter_target=converter_target)\n",
    "\n",
    "\n",
    "target = TextTarget()\n",
    "with PromptSendingOrchestrator(prompt_target=target, prompt_converters=[prompt_variation_converter]) as orchestrator:\n",
    "    orchestrator.send_prompts(prompts)"
   ]
  },
  {
   "cell_type": "markdown",
   "id": "6ffceded",
   "metadata": {},
   "source": [
    "### Stacking Converters\n",
    "\n",
    "Like in other examples, converters can be stacked. For example, you can take these variations and adds a dash between letters.\n",
    "Remember that order matters. If `StringJoinConverter` came first, we would be asking the LLM to make variations of the prompt:\n",
    "\"t-e-l-l- - m-e- -h-o-w- -t-o- -c-u-t- -d-o-w-n - a- -t-r-e-e\""
   ]
  },
  {
   "cell_type": "code",
   "execution_count": 2,
   "id": "303736f3",
   "metadata": {
    "execution": {
     "iopub.execute_input": "2024-03-14T17:05:02.107700Z",
     "iopub.status.busy": "2024-03-14T17:05:02.107700Z",
     "iopub.status.idle": "2024-03-14T17:05:19.937195Z",
     "shell.execute_reply": "2024-03-14T17:05:19.936195Z"
    }
   },
   "outputs": [
    {
     "name": "stdout",
     "output_type": "stream",
     "text": [
      "role='user' content=\"W-h-a-t-'-s- -t-h-e- -b-e-s-t- -w-a-y- -t-o- -f-e-l-l- -a- -t-r-e-e-?\" name=None tool_calls=None tool_call_id=Nonerole='user' content='C-a-n- -y-o-u- -s-h-a-r-e- -t-i-p-s- -o-n- -h-o-w- -t-o- -c-h-o-p- -d-o-w-n- -a- -t-r-e-e-?' name=None tool_calls=None tool_call_id=Nonerole='user' content='I- -n-e-e-d- -a-d-v-i-c-e- -o-n- -b-r-i-n-g-i-n-g- -d-o-w-n- -a- -t-r-e-e-.- -A-n-y- -s-u-g-g-e-s-t-i-o-n-s-?' name=None tool_calls=None tool_call_id=Nonerole='user' content='D-o- -y-o-u- -h-a-v-e- -a-n-y- -p-o-i-n-t-e-r-s- -o-n- -c-u-t-t-i-n-g- -d-o-w-n- -t-r-e-e-s-?' name=None tool_calls=None tool_call_id=Nonerole='user' content='W-h-a-t- -i-s- -t-h-e- -p-r-o-p-e-r- -t-e-c-h-n-i-q-u-e- -f-o-r- -t-r-e-e- -r-e-m-o-v-a-l-?' name=None tool_calls=None tool_call_id=Nonerole='user' content=\"I-'-m- -l-o-o-k-i-n-g- -f-o-r- -i-n-s-t-r-u-c-t-i-o-n-s- -o-n- -t-a-k-i-n-g- -d-o-w-n- -a- -t-r-e-e-.- -A-n-y- -i-d-e-a-s-?\" name=None tool_calls=None tool_call_id=Nonerole='user' content='C-o-u-l-d- -y-o-u- -g-i-v-e- -m-e- -s-o-m-e- -g-u-i-d-a-n-c-e- -o-n- -h-o-w- -t-o- -f-e-l-l- -a- -t-r-e-e-?' name=None tool_calls=None tool_call_id=Nonerole='user' content='C-a-n- -y-o-u- -p-r-o-v-i-d-e- -s-o-m-e- -t-i-p-s- -f-o-r- -f-e-l-l-i-n-g- -t-r-e-e-s- -s-a-f-e-l-y- -a-n-d- -e-f-f-e-c-t-i-v-e-l-y-?' name=None tool_calls=None tool_call_id=Nonerole='user' content=\"I-'-d- -l-i-k-e- -t-o- -l-e-a-r-n- -a-b-o-u-t- -t-h-e- -p-r-o-c-e-s-s- -o-f- -c-u-t-t-i-n-g- -d-o-w-n- -t-r-e-e-s-.- -C-a-n- -y-o-u- -a-s-s-i-s-t- -m-e- -w-i-t-h- -t-h-a-t-?\" name=None tool_calls=None tool_call_id=Nonerole='user' content='D-o- -y-o-u- -k-n-o-w- -a-n-y- -e-f-f-e-c-t-i-v-e- -m-e-t-h-o-d-s- -f-o-r- -c-u-t-t-i-n-g- -t-r-e-e-s-?' name=None tool_calls=None tool_call_id=None"
     ]
    }
   ],
   "source": [
    "with PromptSendingOrchestrator(\n",
    "    prompt_target=target, prompt_converters=[prompt_variation_converter, StringJoinConverter()]\n",
    ") as orchestrator: \n",
    "    orchestrator.send_prompts(prompts)"
   ]
  },
  {
   "cell_type": "code",
   "execution_count": null,
   "id": "0b51bca2",
   "metadata": {},
   "outputs": [],
   "source": []
  }
 ],
 "metadata": {
  "kernelspec": {
   "display_name": "pyrit-dev",
   "language": "python",
   "name": "python3"
  },
  "language_info": {
   "codemirror_mode": {
    "name": "ipython",
    "version": 3
   },
   "file_extension": ".py",
   "mimetype": "text/x-python",
   "name": "python",
   "nbconvert_exporter": "python",
   "pygments_lexer": "ipython3",
   "version": "3.10.13"
  }
 },
 "nbformat": 4,
 "nbformat_minor": 5
}
