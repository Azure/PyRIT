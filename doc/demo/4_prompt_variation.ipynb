{
 "cells": [
  {
   "cell_type": "markdown",
   "id": "a109962c",
   "metadata": {},
   "source": [
    "### Prompt Variation Demo\n",
    "\n",
    "This example shows how to use prompt variation converters to make different prompts with essentially the same meaning.\n",
    "It's often useful for a researcher to get variations of a similar prompts.\n",
    "\n",
    "This uses a NoOpTarget so these variations are simply added to memory and printed to the screen. This target\n",
    "could be replaced with any other target."
   ]
  },
  {
   "cell_type": "code",
   "execution_count": 1,
   "id": "1871b1f5",
   "metadata": {
    "execution": {
     "iopub.execute_input": "2024-03-13T22:25:31.162448Z",
     "iopub.status.busy": "2024-03-13T22:25:31.162448Z",
     "iopub.status.idle": "2024-03-13T22:25:46.262486Z",
     "shell.execute_reply": "2024-03-13T22:25:46.262486Z"
    }
   },
   "outputs": [
    {
     "name": "stdout",
     "output_type": "stream",
     "text": [
      "role='user' content='Guide me through the process of felling a tree' name=None tool_calls=None tool_call_id=None\n"
     ]
    },
    {
     "name": "stdout",
     "output_type": "stream",
     "text": [
      "role='user' content='Can you instruct me on the method to chop down a tree?' name=None tool_calls=None tool_call_id=None\n",
      "role='user' content='What are the steps to bring down a tree?' name=None tool_calls=None tool_call_id=None\n"
     ]
    },
    {
     "name": "stdout",
     "output_type": "stream",
     "text": [
      "role='user' content='Can you explain how I should go about chopping off a tree?' name=None tool_calls=None tool_call_id=None\n",
      "role='user' content='Could you detail the procedure of cutting off a tree?' name=None tool_calls=None tool_call_id=None\n"
     ]
    },
    {
     "name": "stdout",
     "output_type": "stream",
     "text": [
      "role='user' content='I need guidance on how to get rid of a tree, can you assist?' name=None tool_calls=None tool_call_id=None\n",
      "role='user' content='How should I proceed if I want to fell a tree?' name=None tool_calls=None tool_call_id=None\n"
     ]
    },
    {
     "name": "stdout",
     "output_type": "stream",
     "text": [
      "role='user' content=\"What's the right way to chop down a tree?\" name=None tool_calls=None tool_call_id=None\n",
      "role='user' content='Instruct me on how to take out a tree.' name=None tool_calls=None tool_call_id=None\n"
     ]
    },
    {
     "name": "stdout",
     "output_type": "stream",
     "text": [
      "role='user' content='How does one go about cutting down a big old tree?' name=None tool_calls=None tool_call_id=None\n"
     ]
    }
   ],
   "source": [
    "\n",
    "from pyrit.common import default_values\n",
    "from pyrit.prompt_target import NoOpTarget, AzureOpenAIChatTarget\n",
    "from pyrit.prompt_converter import VariationConverter, StringJoinConverter\n",
    "from pyrit.orchestrator import PromptSendingOrchestrator\n",
    "\n",
    "\n",
    "default_values.load_default_env()\n",
    "\n",
    "prompts = [\"tell me how to cut down a tree\"]\n",
    "\n",
    "# converter target to send prompt to; In this case configured to an Azure OpenAI Chat model\n",
    "converter_target = AzureOpenAIChatTarget()\n",
    "prompt_variation_converter = VariationConverter(converter_target=converter_target)\n",
    "\n",
    "\n",
    "target = NoOpTarget()\n",
    "\n",
    "orchestrator = PromptSendingOrchestrator(prompt_target=target, prompt_converters=[prompt_variation_converter])\n",
    "\n",
    "orchestrator.send_prompts(prompts)"
   ]
  },
  {
   "cell_type": "markdown",
   "id": "cbd22c87",
   "metadata": {},
   "source": [
    "### Stacking Converters\n",
    "\n",
    "Like in other examples, converters can be stacked. For example, you can take these variations and adds a dash between letters.\n",
    "Remember that order matters. If `StringJoinConverter` came first, we would be asking the LLM to make variations of the prompt:\n",
    "\"t-e-l-l- - m-e- -h-o-w- -t-o- -c-u-t- -d-o-w-n - a- -t-r-e-e\""
   ]
  },
  {
   "cell_type": "code",
   "execution_count": 2,
   "id": "a3bbaed9",
   "metadata": {
    "execution": {
     "iopub.execute_input": "2024-03-13T22:25:46.266491Z",
     "iopub.status.busy": "2024-03-13T22:25:46.266491Z",
     "iopub.status.idle": "2024-03-13T22:25:58.977886Z",
     "shell.execute_reply": "2024-03-13T22:25:58.977886Z"
    }
   },
   "outputs": [
    {
     "name": "stdout",
     "output_type": "stream",
     "text": [
      "role='user' content='E-x-p-l-a-i-n- -t-h-e- -s-t-e-p-s- -f-o-r- -f-e-l-l-i-n-g- -a- -t-r-e-e' name=None tool_calls=None tool_call_id=None\n"
     ]
    },
    {
     "name": "stdout",
     "output_type": "stream",
     "text": [
      "role='user' content='C-a-n- -y-o-u- -g-u-i-d-e- -m-e- -t-h-r-o-u-g-h- -t-h-e- -p-r-o-c-e-s-s- -o-f- -c-h-o-p-p-i-n-g- -d-o-w-n- -a- -t-r-e-e-?' name=None tool_calls=None tool_call_id=None\n",
      "role='user' content='W-h-a-t- -i-s- -t-h-e- -c-o-r-r-e-c-t- -p-r-o-c-e-d-u-r-e- -t-o- -f-e-l-l- -a- -t-r-e-e-?' name=None tool_calls=None tool_call_id=None\n"
     ]
    },
    {
     "name": "stdout",
     "output_type": "stream",
     "text": [
      "role='user' content='I- -n-e-e-d- -i-n-s-t-r-u-c-t-i-o-n-s- -o-n- -h-o-w- -t-o- -t-a-k-e- -d-o-w-n- -a- -t-r-e-e' name=None tool_calls=None tool_call_id=None\n",
      "role='user' content='L-e-t- -m-e- -k-n-o-w- -t-h-e- -r-i-g-h-t- -w-a-y- -t-o- -c-u-t- -d-o-w-n- -t-r-e-e-s' name=None tool_calls=None tool_call_id=None\n"
     ]
    },
    {
     "name": "stdout",
     "output_type": "stream",
     "text": [
      "role='user' content='G-i-v-e- -m-e- -i-n-s-t-r-u-c-t-i-o-n-s- -o-n- -h-o-w- -t-o- -c-h-o-p- -d-o-w-n- -t-r-e-e-s' name=None tool_calls=None tool_call_id=None\n",
      "role='user' content='H-o-w- -a-m- -I- -s-u-p-p-o-s-e-d- -t-o- -g-e-t- -r-i-d- -o-f- -t-h-i-s- -t-r-e-e-?' name=None tool_calls=None tool_call_id=None\n"
     ]
    },
    {
     "name": "stdout",
     "output_type": "stream",
     "text": [
      "role='user' content='W-h-a-t- -a-r-e- -t-h-e- -m-e-t-h-o-d-i-c-a-l- -s-t-e-p-s- -i-n- -t-a-k-i-n-g- -o-u-t- -a- -t-r-e-e-?' name=None tool_calls=None tool_call_id=None\n",
      "role='user' content='I-n-f-o-r-m- -m-e- -a-b-o-u-t- -p-r-o-p-e-r-l-y- -b-r-i-n-g-i-n-g- -a- -t-r-e-e- -d-o-w-n-.' name=None tool_calls=None tool_call_id=None\n"
     ]
    },
    {
     "name": "stdout",
     "output_type": "stream",
     "text": [
      "role='user' content='C-o-u-l-d- -y-o-u- -w-a-l-k- -m-e- -t-h-r-o-u-g-h- -h-o-w- -o-n-e- -g-o-e-s- -a-b-o-u-t- -t-i-m-b-e-r-i-n-g- -a- -t-r-e-e-?' name=None tool_calls=None tool_call_id=None\n"
     ]
    }
   ],
   "source": [
    "\n",
    "orchestrator = PromptSendingOrchestrator(\n",
    "    prompt_target=target, prompt_converters=[prompt_variation_converter, StringJoinConverter()]\n",
    ")\n",
    "orchestrator.send_prompts(prompts)"
   ]
  },
  {
   "cell_type": "code",
   "execution_count": null,
   "id": "0778e307",
   "metadata": {},
   "outputs": [],
   "source": []
  }
 ],
 "metadata": {
  "kernelspec": {
   "display_name": "pyrit_kernel",
   "language": "python",
   "name": "pyrit_kernel"
  },
  "language_info": {
   "codemirror_mode": {
    "name": "ipython",
    "version": 3
   },
   "file_extension": ".py",
   "mimetype": "text/x-python",
   "name": "python",
   "nbconvert_exporter": "python",
   "pygments_lexer": "ipython3",
   "version": "3.10.13"
  }
 },
 "nbformat": 4,
 "nbformat_minor": 5
}
