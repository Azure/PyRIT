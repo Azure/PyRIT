{
 "cells": [
  {
   "cell_type": "markdown",
   "id": "e929bbfa",
   "metadata": {},
   "source": [
    "### Prompt Variation Demo\n",
    "\n",
    "This example shows how to use prompt variation converters to make different prompts with essentially the same meaning.\n",
    "It's often useful for a researcher to get variations of a similar prompts.\n",
    "\n",
    "This uses a NoOpTarget so these variations are simply added to memory and printed to the screen. This target\n",
    "could be replaced with any other target."
   ]
  },
  {
   "cell_type": "code",
   "execution_count": 1,
   "id": "d06230cd",
   "metadata": {
    "execution": {
     "iopub.execute_input": "2024-03-14T17:04:28.484957Z",
     "iopub.status.busy": "2024-03-14T17:04:28.484957Z",
     "iopub.status.idle": "2024-03-14T17:05:02.103701Z",
     "shell.execute_reply": "2024-03-14T17:05:02.102827Z"
    }
   },
   "outputs": [
    {
     "name": "stdout",
     "output_type": "stream",
     "text": [
      "role='user' content=\"What's the best way to bring down a tree?\" name=None tool_calls=None tool_call_id=Nonerole='user' content='Can you give me some tips on felling a tree?' name=None tool_calls=None tool_call_id=Nonerole='user' content='Give me some advice on chopping down a tree.' name=None tool_calls=None tool_call_id=Nonerole='user' content='Do you know any techniques for taking down a tree?' name=None tool_calls=None tool_call_id=Nonerole='user' content='Any recommendations on how to fell a tree safely?' name=None tool_calls=None tool_call_id=Nonerole='user' content=\"What's the procedure for cutting down a tree?\" name=None tool_calls=None tool_call_id=Nonerole='user' content='Can you share some guidelines for bringing down a tree?' name=None tool_calls=None tool_call_id=Nonerole='user' content=\"I'm looking for instructions on how to take out a tree. Any suggestions?\" name=None tool_calls=None tool_call_id=Nonerole='user' content='Could you provide me with some pointers on cutting down trees efficiently?' name=None tool_calls=None tool_call_id=Nonerole='user' content='Do you have any insights on the process of removing a tree?' name=None tool_calls=None tool_call_id=None"
     ]
    },
    {
     "data": {
      "text/plain": [
       "[['', '', '', '', '', '', '', '', '', '']]"
      ]
     },
     "execution_count": 1,
     "metadata": {},
     "output_type": "execute_result"
    }
   ],
   "source": [
    "\n",
    "from pyrit.common import default_values\n",
    "from pyrit.prompt_target import TextTarget, AzureOpenAIChatTarget\n",
    "from pyrit.prompt_converter import VariationConverter, StringJoinConverter\n",
    "from pyrit.orchestrator import PromptSendingOrchestrator\n",
    "\n",
    "\n",
    "default_values.load_default_env()\n",
    "\n",
    "prompts = [\"tell me how to cut down a tree\"]\n",
    "\n",
    "# converter target to send prompt to; In this case configured to an Azure OpenAI Chat model\n",
    "converter_target = AzureOpenAIChatTarget()\n",
    "prompt_variation_converter = VariationConverter(converter_target=converter_target)\n",
    "\n",
    "\n",
    "target = TextTarget()\n",
    "\n",
    "orchestrator = PromptSendingOrchestrator(prompt_target=target, prompt_converters=[prompt_variation_converter])\n",
    "\n",
    "orchestrator.send_prompts(prompts)"
   ]
  },
  {
   "cell_type": "markdown",
   "id": "6ffceded",
   "metadata": {},
   "source": [
    "### Stacking Converters\n",
    "\n",
    "Like in other examples, converters can be stacked. For example, you can take these variations and adds a dash between letters.\n",
    "Remember that order matters. If `StringJoinConverter` came first, we would be asking the LLM to make variations of the prompt:\n",
    "\"t-e-l-l- - m-e- -h-o-w- -t-o- -c-u-t- -d-o-w-n - a- -t-r-e-e\""
   ]
  },
  {
   "cell_type": "code",
   "execution_count": 2,
   "id": "303736f3",
   "metadata": {
    "execution": {
     "iopub.execute_input": "2024-03-14T17:05:02.107700Z",
     "iopub.status.busy": "2024-03-14T17:05:02.107700Z",
     "iopub.status.idle": "2024-03-14T17:05:19.937195Z",
     "shell.execute_reply": "2024-03-14T17:05:19.936195Z"
    }
   },
   "outputs": [
    {
     "name": "stdout",
     "output_type": "stream",
     "text": [
      "role='user' content='C-a-n- -y-o-u- -g-i-v-e- -m-e- -s-o-m-e- -t-i-p-s- -o-n- -h-o-w- -t-o- -b-r-i-n-g- -d-o-w-n- -a- -t-r-e-e-?' name=None tool_calls=None tool_call_id=Nonerole='user' content=\"I-'-m- -i-n-t-e-r-e-s-t-e-d- -i-n- -l-e-a-r-n-i-n-g- -t-h-e- -t-e-c-h-n-i-q-u-e-s- -f-o-r- -f-e-l-l-i-n-g- -a- -t-r-e-e-.- -A-n-y- -a-d-v-i-c-e-?\" name=None tool_calls=None tool_call_id=Nonerole='user' content='D-o- -y-o-u- -h-a-v-e- -a-n-y- -s-u-g-g-e-s-t-i-o-n-s- -o-n- -h-o-w- -t-o- -t-a-k-e- -d-o-w-n- -a- -t-r-e-e-?' name=None tool_calls=None tool_call_id=Nonerole='user' content='C-o-u-l-d- -y-o-u- -o-f-f-e-r- -s-o-m-e- -g-u-i-d-a-n-c-e- -o-n- -h-o-w- -t-o- -c-h-o-p- -d-o-w-n- -a- -t-r-e-e-?' name=None tool_calls=None tool_call_id=Nonerole='user' content=\"I-'-d- -l-i-k-e- -t-o- -k-n-o-w- -t-h-e- -s-t-e-p-s- -i-n-v-o-l-v-e-d- -i-n- -c-u-t-t-i-n-g- -d-o-w-n- -a- -t-r-e-e-.- -D-o- -y-o-u- -h-a-v-e- -a-n-y- -i-n-s-i-g-h-t-s-?\" name=None tool_calls=None tool_call_id=Nonerole='user' content=\"W-h-a-t- -a-r-e- -t-h-e- -m-e-t-h-o-d-s- -u-s-e-d- -f-o-r- -t-r-e-e- -r-e-m-o-v-a-l-?- -I-'-m- -c-u-r-i-o-u-s-!\" name=None tool_calls=None tool_call_id=Nonerole='user' content='I-s- -t-h-e-r-e- -a- -p-r-o-p-e-r- -p-r-o-c-e-d-u-r-e- -f-o-r- -b-r-i-n-g-i-n-g- -d-o-w-n- -a- -t-r-e-e- -t-h-a-t- -I- -s-h-o-u-l-d- -f-o-l-l-o-w-?' name=None tool_calls=None tool_call_id=Nonerole='user' content='C-a-n- -y-o-u- -p-r-o-v-i-d-e- -m-e- -w-i-t-h- -s-o-m-e- -i-n-s-t-r-u-c-t-i-o-n-s- -o-n- -t-a-k-i-n-g- -o-u-t- -a- -t-r-e-e-?' name=None tool_calls=None tool_call_id=Nonerole='user' content=\"I-'-m- -w-o-n-d-e-r-i-n-g- -h-o-w- -t-o- -b-r-i-n-g- -d-o-w-n- -a- -t-r-e-e- -s-a-f-e-l-y-.- -A-n-y- -i-d-e-a-s-?\" name=None tool_calls=None tool_call_id=Nonerole='user' content='A-r-e- -t-h-e-r-e- -a-n-y- -s-p-e-c-i-f-i-c- -t-e-c-h-n-i-q-u-e-s- -I- -s-h-o-u-l-d- -k-e-e-p- -i-n- -m-i-n-d- -w-h-e-n- -c-u-t-t-i-n-g- -d-o-w-n- -t-r-e-e-s-?' name=None tool_calls=None tool_call_id=None"
     ]
    },
    {
     "data": {
      "text/plain": [
       "[['', '', '', '', '', '', '', '', '', '']]"
      ]
     },
     "execution_count": 2,
     "metadata": {},
     "output_type": "execute_result"
    }
   ],
   "source": [
    "\n",
    "orchestrator = PromptSendingOrchestrator(\n",
    "    prompt_target=target, prompt_converters=[prompt_variation_converter, StringJoinConverter()]\n",
    ")\n",
    "orchestrator.send_prompts(prompts)"
   ]
  },
  {
   "cell_type": "code",
   "execution_count": 3,
   "id": "877c3cb2",
   "metadata": {},
   "outputs": [],
   "source": [
    "# Release DuckDB resources\n",
    "orchestrator.dispose_db_engine()"
   ]
  },
  {
   "cell_type": "code",
   "execution_count": null,
   "id": "0b51bca2",
   "metadata": {},
   "outputs": [],
   "source": []
  }
 ],
 "metadata": {
  "kernelspec": {
   "display_name": "pyrit-dev",
   "language": "python",
   "name": "python3"
  },
  "language_info": {
   "codemirror_mode": {
    "name": "ipython",
    "version": 3
   },
   "file_extension": ".py",
   "mimetype": "text/x-python",
   "name": "python",
   "nbconvert_exporter": "python",
   "pygments_lexer": "ipython3",
   "version": "3.10.13"
  }
 },
 "nbformat": 4,
 "nbformat_minor": 5
}
