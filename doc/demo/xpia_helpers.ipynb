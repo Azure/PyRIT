{
 "cells": [
  {
   "cell_type": "markdown",
   "id": "7a90d280",
   "metadata": {},
   "source": [
    "Copyright (c) Microsoft Corporation.\n",
    "Licensed under the MIT license."
   ]
  },
  {
   "cell_type": "code",
   "execution_count": 1,
   "id": "a62c26d7",
   "metadata": {
    "execution": {
     "iopub.execute_input": "2024-04-15T21:35:37.238420Z",
     "iopub.status.busy": "2024-04-15T21:35:37.238420Z",
     "iopub.status.idle": "2024-04-15T21:35:37.254255Z",
     "shell.execute_reply": "2024-04-15T21:35:37.254255Z"
    }
   },
   "outputs": [],
   "source": [
    "from typing import Any"
   ]
  },
  {
   "cell_type": "code",
   "execution_count": 2,
   "id": "b043d300",
   "metadata": {
    "execution": {
     "iopub.execute_input": "2024-04-15T21:35:37.256760Z",
     "iopub.status.busy": "2024-04-15T21:35:37.256760Z",
     "iopub.status.idle": "2024-04-15T21:35:41.305088Z",
     "shell.execute_reply": "2024-04-15T21:35:41.303937Z"
    }
   },
   "outputs": [],
   "source": [
    "from pyrit.common import default_values\n",
    "from pyrit.models.prompt_request_response import PromptRequestResponse\n",
    "from pyrit.prompt_target.prompt_chat_target.prompt_chat_target import PromptChatTarget"
   ]
  },
  {
   "cell_type": "code",
   "execution_count": 3,
   "id": "66e29b05",
   "metadata": {
    "execution": {
     "iopub.execute_input": "2024-04-15T21:35:41.308499Z",
     "iopub.status.busy": "2024-04-15T21:35:41.307591Z",
     "iopub.status.idle": "2024-04-15T21:35:42.354228Z",
     "shell.execute_reply": "2024-04-15T21:35:42.354228Z"
    },
    "lines_to_next_cell": 2
   },
   "outputs": [],
   "source": [
    "from azure.storage.blob import ContainerClient\n",
    "import logging\n",
    "from openai import AsyncAzureOpenAI\n",
    "from semantic_kernel.kernel import Kernel\n",
    "from semantic_kernel.connectors.ai.open_ai.prompt_execution_settings.azure_chat_prompt_execution_settings import (\n",
    "    AzureChatPromptExecutionSettings,\n",
    ")\n",
    "from semantic_kernel.connectors.ai.open_ai.services.azure_chat_completion import AzureChatCompletion\n",
    "from semantic_kernel.prompt_template.prompt_template_config import PromptTemplateConfig\n",
    "from semantic_kernel.functions.kernel_function_decorator import kernel_function"
   ]
  },
  {
   "cell_type": "code",
   "execution_count": 4,
   "id": "29a065bc",
   "metadata": {
    "execution": {
     "iopub.execute_input": "2024-04-15T21:35:42.356735Z",
     "iopub.status.busy": "2024-04-15T21:35:42.356735Z",
     "iopub.status.idle": "2024-04-15T21:35:42.370281Z",
     "shell.execute_reply": "2024-04-15T21:35:42.370281Z"
    }
   },
   "outputs": [],
   "source": [
    "logger = logging.getLogger(__name__)"
   ]
  },
  {
   "cell_type": "code",
   "execution_count": 5,
   "id": "202a4e86",
   "metadata": {
    "execution": {
     "iopub.execute_input": "2024-04-15T21:35:42.370281Z",
     "iopub.status.busy": "2024-04-15T21:35:42.370281Z",
     "iopub.status.idle": "2024-04-15T21:35:42.386843Z",
     "shell.execute_reply": "2024-04-15T21:35:42.386338Z"
    }
   },
   "outputs": [],
   "source": [
    "class SemanticKernelPluginAzureOpenAIPromptTarget(PromptChatTarget):\n",
    "    \"\"\"A prompt target that can retrieve content using semantic kernel plugins.\n",
    "\n",
    "    Not all prompt targets are able to retrieve content.\n",
    "    For example, LLM endpoints in Azure do not have permission to make queries to the internet.\n",
    "    This class expands on the PromptTarget definition to include the ability to retrieve content.\n",
    "    The plugin argument controls where the content is retrieved from.\n",
    "    This could be files from storage blobs, pages from the internet, emails from a mail server, etc.\n",
    "\n",
    "    Args:\n",
    "        deployment_name (str, optional): The name of the deployment. Defaults to the\n",
    "            DEPLOYMENT_ENVIRONMENT_VARIABLE environment variable .\n",
    "        endpoint (str, optional): The endpoint URL for the Azure OpenAI service.\n",
    "            Defaults to the ENDPOINT_URI_ENVIRONMENT_VARIABLE environment variable.\n",
    "        api_key (str, optional): The API key for accessing the Azure OpenAI service.\n",
    "            Defaults to the API_KEY_ENVIRONMENT_VARIABLE environment variable.\n",
    "        api_version (str, optional): The version of the Azure OpenAI API. Defaults to\n",
    "            \"2024-02-15-preview\".\n",
    "        plugin (Any, required): The semantic kernel plugin to retrieve the attack medium.\n",
    "        plugin_name (str, required): The name of the semantic kernel plugin.\n",
    "        max_tokens (int, optional): The maximum number of tokens to generate in the response.\n",
    "            Defaults to 2000.\n",
    "        temperature (float, optional): The temperature parameter for controlling the\n",
    "            randomness of the response. Defaults to 0.7.\n",
    "    \"\"\"\n",
    "\n",
    "    API_KEY_ENVIRONMENT_VARIABLE: str = \"AZURE_OPENAI_CHAT_KEY\"\n",
    "    ENDPOINT_URI_ENVIRONMENT_VARIABLE: str = \"AZURE_OPENAI_CHAT_ENDPOINT\"\n",
    "    DEPLOYMENT_ENVIRONMENT_VARIABLE: str = \"AZURE_OPENAI_CHAT_DEPLOYMENT\"\n",
    "\n",
    "    def __init__(\n",
    "        self,\n",
    "        *,\n",
    "        deployment_name: str = None,\n",
    "        endpoint: str = None,\n",
    "        api_key: str = None,\n",
    "        api_version: str = \"2024-02-15-preview\",\n",
    "        plugin: Any,\n",
    "        plugin_name: str,\n",
    "        max_tokens: int = 2000,\n",
    "        temperature: float = 0.7,\n",
    "    ) -> None:\n",
    "        self._deployment_name = default_values.get_required_value(\n",
    "            env_var_name=self.DEPLOYMENT_ENVIRONMENT_VARIABLE, passed_value=deployment_name\n",
    "        )\n",
    "        endpoint = default_values.get_required_value(\n",
    "            env_var_name=self.ENDPOINT_URI_ENVIRONMENT_VARIABLE, passed_value=endpoint\n",
    "        )\n",
    "        api_key = default_values.get_required_value(\n",
    "            env_var_name=self.API_KEY_ENVIRONMENT_VARIABLE, passed_value=api_key\n",
    "        )\n",
    "\n",
    "        self._async_client = AsyncAzureOpenAI(\n",
    "            api_key=api_key,\n",
    "            api_version=api_version,\n",
    "            azure_endpoint=endpoint,\n",
    "        )\n",
    "\n",
    "        self._kernel = Kernel()\n",
    "\n",
    "        service_id = \"chat\"\n",
    "\n",
    "        self._kernel.add_service(\n",
    "            AzureChatCompletion(\n",
    "                service_id=service_id, deployment_name=self._deployment_name, async_client=self._async_client\n",
    "            ),\n",
    "        )\n",
    "\n",
    "        self._plugin_name = plugin_name\n",
    "        self._kernel.import_plugin_from_object(plugin, plugin_name)\n",
    "\n",
    "        self._execution_settings = AzureChatPromptExecutionSettings(\n",
    "            service_id=service_id,\n",
    "            ai_model_id=self._deployment_name,\n",
    "            max_tokens=max_tokens,\n",
    "            temperature=temperature,\n",
    "        )\n",
    "\n",
    "        super().__init__(memory=None)\n",
    "\n",
    "    def send_prompt(self, *, prompt_request: PromptRequestResponse) -> PromptRequestResponse:\n",
    "\n",
    "        raise NotImplementedError(\"SemanticKernelPluginPromptTarget only supports send_prompt_async\")\n",
    "\n",
    "    def set_system_prompt(\n",
    "        self,\n",
    "        *,\n",
    "        system_prompt: str,\n",
    "        conversation_id: str,\n",
    "        orchestrator: \"Orchestrator|dict[str,str]\",  # type: ignore # noqa: F821\n",
    "        labels: dict,\n",
    "    ) -> None:\n",
    "        raise NotImplementedError(\"System prompt currently not supported.\")\n",
    "\n",
    "    async def send_prompt_async(self, *, prompt_request: PromptRequestResponse) -> PromptRequestResponse:\n",
    "        \"\"\"\n",
    "        Processes the prompt template by invoking the plugin to retrieve content.\n",
    "\n",
    "        Args:\n",
    "            prompt_request (PromptRequestResponse): The prompt request containing the template to process.\n",
    "\n",
    "        Returns:\n",
    "            PromptRequestResponse: The processed prompt response.\n",
    "\n",
    "        \"\"\"\n",
    "        self._memory.add_request_pieces_to_memory(request_pieces=prompt_request.request_pieces)\n",
    "\n",
    "        request = prompt_request.request_pieces[0]\n",
    "\n",
    "        logger.info(f\"Processing: {prompt_request}\")\n",
    "        prompt_template_config = PromptTemplateConfig(\n",
    "            template=request.converted_prompt_text,\n",
    "            name=self._plugin_name,\n",
    "            template_format=\"semantic-kernel\",\n",
    "            execution_settings=self._execution_settings,\n",
    "        )\n",
    "        processing_function = self._kernel.create_function_from_prompt(\n",
    "            function_name=\"processingFunc\", plugin_name=self._plugin_name, prompt_template_config=prompt_template_config\n",
    "        )\n",
    "        processing_output = await self._kernel.invoke(processing_function)\n",
    "        processing_output = str(processing_output)\n",
    "        logger.info(f'Received the following response from the prompt target \"{processing_output}\"')\n",
    "\n",
    "        response = self._memory.add_response_entries_to_memory(\n",
    "            request=request, response_text_pieces=[processing_output]\n",
    "        )\n",
    "        return response"
   ]
  },
  {
   "cell_type": "code",
   "execution_count": 6,
   "id": "c2fa3993",
   "metadata": {
    "execution": {
     "iopub.execute_input": "2024-04-15T21:35:42.386843Z",
     "iopub.status.busy": "2024-04-15T21:35:42.386843Z",
     "iopub.status.idle": "2024-04-15T21:35:42.402584Z",
     "shell.execute_reply": "2024-04-15T21:35:42.402090Z"
    }
   },
   "outputs": [],
   "source": [
    "class AzureStoragePlugin:\n",
    "    AZURE_STORAGE_CONTAINER_ENVIRONMENT_VARIABLE: str = \"AZURE_STORAGE_ACCOUNT_CONTAINER_URL\"\n",
    "    SAS_TOKEN_ENVIRONMENT_VARIABLE: str = \"AZURE_STORAGE_ACCOUNT_SAS_TOKEN\"\n",
    "\n",
    "    def __init__(\n",
    "        self,\n",
    "        *,\n",
    "        container_url: str | None = None,\n",
    "        sas_token: str | None = None,\n",
    "    ) -> None:\n",
    "        self._container_url: str = default_values.get_required_value(\n",
    "            env_var_name=self.AZURE_STORAGE_CONTAINER_ENVIRONMENT_VARIABLE, passed_value=container_url\n",
    "        )\n",
    "\n",
    "        self._sas_token: str = default_values.get_required_value(\n",
    "            env_var_name=self.SAS_TOKEN_ENVIRONMENT_VARIABLE, passed_value=sas_token\n",
    "        )\n",
    "\n",
    "        self._storage_client = ContainerClient.from_container_url(\n",
    "            container_url=self._container_url,\n",
    "            credential=self._sas_token,\n",
    "        )\n",
    "\n",
    "    @kernel_function(\n",
    "        description=\"Retrieves blob from Azure storage\",\n",
    "        name=\"download\",\n",
    "    )\n",
    "    def download(self) -> str:\n",
    "        all_blobs = \"\"\n",
    "        for blob in self._storage_client.list_blobs():\n",
    "            logger.info(f\"Downloading Azure storage blob {blob.name}\")\n",
    "            all_blobs += f\"\\n\\nBlob: {blob.name}\\n\"\n",
    "            all_blobs += self._storage_client.get_blob_client(blob=blob.name).download_blob().readall().decode(\"utf-8\")\n",
    "        logger.info(f\"Azure storage download result: {all_blobs}\")\n",
    "        return all_blobs"
   ]
  }
 ],
 "metadata": {
  "jupytext": {
   "cell_metadata_filter": "-all"
  },
  "kernelspec": {
   "display_name": "pyrit_kernel",
   "language": "python",
   "name": "pyrit_kernel"
  },
  "language_info": {
   "codemirror_mode": {
    "name": "ipython",
    "version": 3
   },
   "file_extension": ".py",
   "mimetype": "text/x-python",
   "name": "python",
   "nbconvert_exporter": "python",
   "pygments_lexer": "ipython3",
   "version": "3.10.13"
  }
 },
 "nbformat": 4,
 "nbformat_minor": 5
}
