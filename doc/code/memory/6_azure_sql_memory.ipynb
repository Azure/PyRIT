{
 "cells": [
  {
   "cell_type": "markdown",
   "id": "0",
   "metadata": {},
   "source": [
    "# 6. Azure SQL Memory\n",
    "\n",
    "The memory AzureSQL database can be thought of as a normalized source of truth. The memory module is the primary way pyrit keeps track of requests and responses to targets and scores. Most of this is done automatically. All orchestrators write to memory for later retrieval. All scorers also write to memory when scoring.\n",
    "\n",
    "The schema is found in `memory_models.py` and can be programatically viewed as follows\n",
    "\n",
    "## Azure Login\n",
    "\n",
    "PyRIT `AzureSQLMemory` supports only **Azure Entra ID authentication** at this time. User ID/password-based login is not available.\n",
    "\n",
    "Please log in to your Azure account before running this notebook:\n",
    "\n",
    "- Log in with the proper scope to obtain the correct access token:\n",
    "  ```bash\n",
    "  az login --scope https://database.windows.net//.default\n",
    "  ```\n",
    "## Environment Variables\n",
    "\n",
    "Please set the following environment variables to run AzureSQLMemory interactions:\n",
    "\n",
    "- `AZURE_SQL_DB_CONNECTION_STRING` = \"<Azure SQL DB connection string here in SQLAlchemy format>\"\n",
    "- `AZURE_STORAGE_ACCOUNT_DB_DATA_CONTAINER_URL` = \"<Azure Storage Account results container URL>\" (which uses delegation SAS) but needs login to Azure.\n",
    "\n",
    "To use regular key-based authentication, please also set:\n",
    "\n",
    "- `AZURE_STORAGE_ACCOUNT_DB_DATA_SAS_TOKEN`\n"
   ]
  },
  {
   "cell_type": "code",
   "execution_count": null,
   "id": "1",
   "metadata": {
    "lines_to_next_cell": 2
   },
   "outputs": [],
   "source": [
    "from pyrit.common import AZURE_SQL, initialize_pyrit\n",
    "from pyrit.memory import CentralMemory\n",
    "\n",
    "initialize_pyrit(memory_db_type=AZURE_SQL)\n",
    "\n",
    "memory = CentralMemory.get_memory_instance()\n",
    "memory.print_schema()  # type: ignore"
   ]
  },
  {
   "cell_type": "markdown",
   "id": "2",
   "metadata": {},
   "source": [
    "## Basic Azure SQL Memory Programming Usage\n",
    "\n",
    "The `pyrit.memory.azure_sql_memory` module provides functionality to keep track of the conversation history, scoring, data, and more using Azure SQL. You can use memory to read and write data. Here is an example that retrieves a normalized conversation:"
   ]
  },
  {
   "cell_type": "code",
   "execution_count": null,
   "id": "3",
   "metadata": {},
   "outputs": [],
   "source": [
    "from uuid import uuid4\n",
    "\n",
    "from pyrit.models import PromptRequestPiece, PromptRequestResponse\n",
    "\n",
    "conversation_id = str(uuid4())\n",
    "\n",
    "message_list = [\n",
    "    PromptRequestPiece(\n",
    "        role=\"user\", original_value=\"Hi, chat bot! This is my initial prompt.\", conversation_id=conversation_id\n",
    "    ),\n",
    "    PromptRequestPiece(\n",
    "        role=\"assistant\", original_value=\"Nice to meet you! This is my response.\", conversation_id=conversation_id\n",
    "    ),\n",
    "    PromptRequestPiece(\n",
    "        role=\"user\",\n",
    "        original_value=\"Wonderful! This is my second prompt to the chat bot!\",\n",
    "        conversation_id=conversation_id,\n",
    "    ),\n",
    "]\n",
    "\n",
    "memory.add_request_response_to_memory(request=PromptRequestResponse([message_list[0]]))\n",
    "memory.add_request_response_to_memory(request=PromptRequestResponse([message_list[1]]))\n",
    "memory.add_request_response_to_memory(request=PromptRequestResponse([message_list[2]]))\n",
    "\n",
    "\n",
    "entries = memory.get_conversation(conversation_id=conversation_id)\n",
    "\n",
    "for entry in entries:\n",
    "    print(entry)\n",
    "\n",
    "\n",
    "# Cleanup memory resources\n",
    "memory.dispose_engine()"
   ]
  }
 ],
 "metadata": {
  "jupytext": {
   "cell_metadata_filter": "-all"
  }
 },
 "nbformat": 4,
 "nbformat_minor": 5
}
