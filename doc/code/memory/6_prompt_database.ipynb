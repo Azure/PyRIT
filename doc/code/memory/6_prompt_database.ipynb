{
 "cells": [
  {
   "cell_type": "markdown",
   "id": "09dad7bd",
   "metadata": {},
   "source": [
    "## Prompt Database in Azure\n",
    "\n",
    "TODO context"
   ]
  },
  {
   "cell_type": "code",
   "execution_count": 4,
   "id": "86169cd1",
   "metadata": {},
   "outputs": [],
   "source": [
    "import os\n",
    "\n",
    "from pyrit.common import default_values\n",
    "# from pyrit.memory import AzureSQLMemory\n",
    "from pyrit.memory import DuckDBMemory\n",
    "default_values.load_default_env()\n",
    "\n",
    "#conn_str = os.environ.get('AZURE_SQL_SERVER_CONNECTION_STRING')\n",
    "\n",
    "#azure_memory = AzureSQLMemory(connection_string=conn_str)\n",
    "memory = DuckDBMemory()"
   ]
  },
  {
   "cell_type": "code",
   "execution_count": null,
   "id": "84097e31-b080-42a6-a803-7cedb194fb88",
   "metadata": {},
   "outputs": [],
   "source": [
    "memory"
   ]
  }
 ],
 "metadata": {
  "jupytext": {
   "cell_metadata_filter": "-all"
  },
  "kernelspec": {
   "display_name": "pyrit-kernel",
   "language": "python",
   "name": "pyrit-kernel"
  },
  "language_info": {
   "codemirror_mode": {
    "name": "ipython",
    "version": 3
   },
   "file_extension": ".py",
   "mimetype": "text/x-python",
   "name": "python",
   "nbconvert_exporter": "python",
   "pygments_lexer": "ipython3",
   "version": "3.12.4"
  }
 },
 "nbformat": 4,
 "nbformat_minor": 5
}
