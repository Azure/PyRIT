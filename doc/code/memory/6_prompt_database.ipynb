{
 "cells": [
  {
   "cell_type": "markdown",
   "id": "09dad7bd",
   "metadata": {},
   "source": [
    "## Prompt Database in Azure\n",
    "\n",
    "TODO context"
   ]
  },
  {
   "cell_type": "code",
   "execution_count": 1,
   "id": "86169cd1",
   "metadata": {
    "lines_to_next_cell": 2
   },
   "outputs": [
    {
     "name": "stderr",
     "output_type": "stream",
     "text": [
      "Error during table creation: (pyodbc.ProgrammingError) ('42000', \"[42000] [Microsoft][ODBC Driver 18 for SQL Server][SQL Server]Cannot open server 'airt-dev' requested by the login. Client with IP address '75.253.81.110' is not allowed to access the server.  To enable access, use the Azure Management Portal or run sp_set_firewall_rule on the master database to create a firewall rule for this IP address or address range.  It may take up to five minutes for this change to take effect. (40615) (SQLDriverConnect); [42000] [Microsoft][ODBC Driver 18 for SQL Server][SQL Server]Cannot open server 'airt-dev' requested by the login. Client with IP address '75.253.81.110' is not allowed to access the server.  To enable access, use the Azure Management Portal or run sp_set_firewall_rule on the master database to create a firewall rule for this IP address or address range.  It may take up to five minutes for this change to take effect. (40615)\")\n",
      "(Background on this error at: https://sqlalche.me/e/20/f405)\n"
     ]
    }
   ],
   "source": [
    "import os\n",
    "\n",
    "from pyrit.common import default_values\n",
    "from pyrit.memory import AzureSQLMemory\n",
    "\n",
    "default_values.load_default_env()\n",
    "\n",
    "azure_memory = AzureSQLMemory()"
   ]
  },
  {
   "cell_type": "code",
   "execution_count": null,
   "id": "84097e31-b080-42a6-a803-7cedb194fb88",
   "metadata": {},
   "outputs": [],
   "source": [
    "import os\n",
    "os.environ"
   ]
  },
  {
   "cell_type": "code",
   "execution_count": 4,
   "id": "e03a36c0-6fe8-41a5-87f8-f5bd3087cce1",
   "metadata": {},
   "outputs": [
    {
     "data": {
      "text/plain": [
       "<pyrit.memory.azure_sql_memory.AzureSQLMemory at 0x22c33939af0>"
      ]
     },
     "execution_count": 4,
     "metadata": {},
     "output_type": "execute_result"
    }
   ],
   "source": [
    "azure_memory.\n"
   ]
  },
  {
   "cell_type": "code",
   "execution_count": null,
   "id": "4c36be4e-3cae-4f11-9fad-68fa5efe1126",
   "metadata": {},
   "outputs": [],
   "source": []
  }
 ],
 "metadata": {
  "jupytext": {
   "cell_metadata_filter": "-all"
  },
  "kernelspec": {
   "display_name": "pyrit-kernel",
   "language": "python",
   "name": "pyrit-kernel"
  },
  "language_info": {
   "codemirror_mode": {
    "name": "ipython",
    "version": 3
   },
   "file_extension": ".py",
   "mimetype": "text/x-python",
   "name": "python",
   "nbconvert_exporter": "python",
   "pygments_lexer": "ipython3",
   "version": "3.12.4"
  }
 },
 "nbformat": 4,
 "nbformat_minor": 5
}
