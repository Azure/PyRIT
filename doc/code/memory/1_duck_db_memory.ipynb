{
 "cells": [
  {
   "cell_type": "code",
   "execution_count": null,
   "id": "0",
   "metadata": {},
   "outputs": [
    {
     "name": "stderr",
     "output_type": "stream",
     "text": [
      "/home/bjagdagdorj/miniconda3/envs/pyrit/lib/python3.11/site-packages/duckdb_engine/__init__.py:630: SAWarning: Did not recognize type 'list' of column 'embedding'\n",
      "  columns = self._get_columns_info(rows, domains, enums, schema)  # type: ignore[attr-defined]\n",
      "/home/bjagdagdorj/miniconda3/envs/pyrit/lib/python3.11/site-packages/duckdb_engine/__init__.py:184: DuckDBEngineWarning: duckdb-engine doesn't yet support reflection on indices\n",
      "  warnings.warn(\n"
     ]
    },
    {
     "name": "stdout",
     "output_type": "stream",
     "text": [
      "Schema for AttackResultEntries:\n",
      "  Column id (UUID)\n",
      "  Column conversation_id (VARCHAR)\n",
      "  Column objective (VARCHAR)\n",
      "  Column attack_identifier (VARCHAR)\n",
      "  Column objective_sha256 (VARCHAR)\n",
      "  Column last_response_id (UUID)\n",
      "  Column last_score_id (UUID)\n",
      "  Column executed_turns (INTEGER)\n",
      "  Column execution_time_ms (INTEGER)\n",
      "  Column outcome (VARCHAR)\n",
      "  Column outcome_reason (VARCHAR)\n",
      "  Column attack_metadata (VARCHAR)\n",
      "  Column pruned_conversation_ids (VARCHAR)\n",
      "  Column adversarial_chat_conversation_ids (VARCHAR)\n",
      "  Column timestamp (TIMESTAMP)\n",
      "Schema for PromptMemoryEntries:\n",
      "  Column id (UUID)\n",
      "  Column role (VARCHAR)\n",
      "  Column conversation_id (VARCHAR)\n",
      "  Column sequence (INTEGER)\n",
      "  Column timestamp (TIMESTAMP)\n",
      "  Column labels (VARCHAR)\n",
      "  Column prompt_metadata (VARCHAR)\n",
      "  Column converter_identifiers (VARCHAR)\n",
      "  Column prompt_target_identifier (VARCHAR)\n",
      "  Column orchestrator_identifier (VARCHAR)\n",
      "  Column response_error (VARCHAR)\n",
      "  Column original_value_data_type (VARCHAR)\n",
      "  Column original_value (VARCHAR)\n",
      "  Column original_value_sha256 (VARCHAR)\n",
      "  Column converted_value_data_type (VARCHAR)\n",
      "  Column converted_value (VARCHAR)\n",
      "  Column converted_value_sha256 (VARCHAR)\n",
      "  Column original_prompt_id (UUID)\n",
      "Schema for ScoreEntries:\n",
      "  Column id (UUID)\n",
      "  Column score_value (VARCHAR)\n",
      "  Column score_value_description (VARCHAR)\n",
      "  Column score_type (VARCHAR)\n",
      "  Column score_category (VARCHAR)\n",
      "  Column score_rationale (VARCHAR)\n",
      "  Column score_metadata (VARCHAR)\n",
      "  Column scorer_class_identifier (VARCHAR)\n",
      "  Column prompt_request_response_id (UUID)\n",
      "  Column timestamp (TIMESTAMP)\n",
      "  Column task (VARCHAR)\n",
      "Schema for EmbeddingData:\n",
      "  Column id (UUID)\n",
      "  Column embedding (NULL)\n",
      "  Column embedding_type_name (VARCHAR)\n",
      "Schema for SeedPromptEntries:\n",
      "  Column id (UUID)\n",
      "  Column value (VARCHAR)\n",
      "  Column value_sha256 (VARCHAR)\n",
      "  Column data_type (VARCHAR)\n",
      "  Column name (VARCHAR)\n",
      "  Column dataset_name (VARCHAR)\n",
      "  Column harm_categories (VARCHAR)\n",
      "  Column description (VARCHAR)\n",
      "  Column authors (VARCHAR)\n",
      "  Column groups (VARCHAR)\n",
      "  Column source (VARCHAR)\n",
      "  Column date_added (TIMESTAMP)\n",
      "  Column added_by (VARCHAR)\n",
      "  Column prompt_metadata (VARCHAR)\n",
      "  Column parameters (VARCHAR)\n",
      "  Column prompt_group_id (UUID)\n",
      "  Column sequence (INTEGER)\n"
     ]
    }
   ],
   "source": [
    "from pyrit.memory import DuckDBMemory\n",
    "\n",
    "memory = DuckDBMemory()\n",
    "memory.print_schema()\n",
    "\n",
    "memory.dispose_engine()"
   ]
  }
 ],
 "metadata": {
  "language_info": {
   "codemirror_mode": {
    "name": "ipython",
    "version": 3
   },
   "file_extension": ".py",
   "mimetype": "text/x-python",
   "name": "python",
   "nbconvert_exporter": "python",
   "pygments_lexer": "ipython3",
   "version": "3.11.13"
  }
 },
 "nbformat": 4,
 "nbformat_minor": 5
}
