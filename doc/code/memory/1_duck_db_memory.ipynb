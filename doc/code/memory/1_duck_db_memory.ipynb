{
 "cells": [
  {
   "cell_type": "markdown",
   "id": "ec85323a",
   "metadata": {},
   "source": [
    "# DuckDB Memory\n",
    "\n",
    "The memory DuckDB database can be thought of as a normalized source of truth. The memory module is the primary way pyrit keeps track of requests and responses to targets and scores. Most of this is done automatically. All Prompt Targets write to memory for later retrieval. All scorers also write to memory when scoring.\n",
    "\n",
    "The schema is found in `memory_models.py` and can be programatically viewed as follows"
   ]
  },
  {
   "cell_type": "code",
   "execution_count": 2,
   "id": "cb83267e",
   "metadata": {
    "execution": {
     "iopub.execute_input": "2024-09-22T20:26:45.105804Z",
     "iopub.status.busy": "2024-09-22T20:26:45.105804Z",
     "iopub.status.idle": "2024-09-22T20:26:56.398392Z",
     "shell.execute_reply": "2024-09-22T20:26:56.392296Z"
    },
    "lines_to_next_cell": 2
   },
   "outputs": [
    {
     "name": "stderr",
     "output_type": "stream",
     "text": [
      "c:\\Users\\songjustin\\AppData\\Local\\anaconda3\\envs\\pyrit-dev\\Lib\\site-packages\\duckdb_engine\\__init__.py:565: SAWarning: Did not recognize type 'list' of column 'embedding'\n",
      "  columns = self._get_columns_info(rows, domains, enums, schema)  # type: ignore[attr-defined]\n",
      "c:\\Users\\songjustin\\AppData\\Local\\anaconda3\\envs\\pyrit-dev\\Lib\\site-packages\\duckdb_engine\\__init__.py:180: DuckDBEngineWarning: duckdb-engine doesn't yet support reflection on indices\n",
      "  warnings.warn(\n"
     ]
    },
    {
     "name": "stdout",
     "output_type": "stream",
     "text": [
      "Schema for EmbeddingData:\n",
      "  Column id (UUID)\n",
      "  Column embedding (NULL)\n",
      "  Column embedding_type_name (VARCHAR)\n",
      "Schema for PromptMemoryEntries:\n",
      "  Column id (UUID)\n",
      "  Column role (VARCHAR)\n",
      "  Column conversation_id (VARCHAR)\n",
      "  Column sequence (INTEGER)\n",
      "  Column timestamp (TIMESTAMP)\n",
      "  Column labels (VARCHAR)\n",
      "  Column prompt_metadata (VARCHAR)\n",
      "  Column converter_identifiers (VARCHAR)\n",
      "  Column prompt_target_identifier (VARCHAR)\n",
      "  Column orchestrator_identifier (VARCHAR)\n",
      "  Column response_error (VARCHAR)\n",
      "  Column original_value_data_type (VARCHAR)\n",
      "  Column original_value (VARCHAR)\n",
      "  Column original_value_sha256 (VARCHAR)\n",
      "  Column converted_value_data_type (VARCHAR)\n",
      "  Column converted_value (VARCHAR)\n",
      "  Column converted_value_sha256 (VARCHAR)\n",
      "  Column original_prompt_id (UUID)\n",
      "Schema for ScoreEntries:\n",
      "  Column id (UUID)\n",
      "  Column score_value (VARCHAR)\n",
      "  Column score_value_description (VARCHAR)\n",
      "  Column score_type (VARCHAR)\n",
      "  Column score_category (VARCHAR)\n",
      "  Column score_rationale (VARCHAR)\n",
      "  Column score_metadata (VARCHAR)\n",
      "  Column scorer_class_identifier (VARCHAR)\n",
      "  Column prompt_request_response_id (UUID)\n",
      "  Column timestamp (TIMESTAMP)\n",
      "  Column task (VARCHAR)\n"
     ]
    }
   ],
   "source": [
    "from pyrit.memory import DuckDBMemory\n",
    "\n",
    "memory = DuckDBMemory()\n",
    "memory.print_schema()\n",
    "\n",
    "memory.dispose_engine()"
   ]
  },
  {
   "cell_type": "markdown",
   "id": "db45c4c0",
   "metadata": {},
   "source": []
  }
 ],
 "metadata": {
  "jupytext": {
   "cell_metadata_filter": "-all"
  },
  "kernelspec": {
   "display_name": "Python 3",
   "language": "python",
   "name": "python3"
  },
  "language_info": {
   "codemirror_mode": {
    "name": "ipython",
    "version": 3
   },
   "file_extension": ".py",
   "mimetype": "text/x-python",
   "name": "python",
   "nbconvert_exporter": "python",
   "pygments_lexer": "ipython3",
   "version": "3.10.14"
  }
 },
 "nbformat": 4,
 "nbformat_minor": 5
}
