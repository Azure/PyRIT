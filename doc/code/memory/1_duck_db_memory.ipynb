{
  "cells": [
    {
      "cell_type": "markdown",
      "id": "0",
      "metadata": {},
      "source": [
        "# 1. DuckDB Memory\n",
        "\n",
        "The memory DuckDB database can be thought of as a normalized source of truth. The memory module is the primary way pyrit keeps track of requests and responses to targets and scores. Most of this is done automatically. All Prompt Targets write to memory for later retrieval. All scorers also write to memory when scoring.\n",
        "\n",
        "The schema is found in `memory_models.py` and can be programatically viewed as follows"
      ]
    },
    {
      "cell_type": "code",
      "execution_count": null,
      "id": "1",
      "metadata": {
        "lines_to_next_cell": 2
      },
      "outputs": [],
      "source": [
        "from pyrit.memory import DuckDBMemory\n",
        "\n",
        "memory = DuckDBMemory()\n",
        "memory.print_schema()\n",
        "\n",
        "memory.dispose_engine()"
      ]
    },
    {
      "cell_type": "markdown",
      "id": "2",
      "metadata": {},
      "source": []
    }
  ],
  "metadata": {
    "jupytext": {
      "cell_metadata_filter": "-all"
    }
  },
  "nbformat": 4,
  "nbformat_minor": 5
}