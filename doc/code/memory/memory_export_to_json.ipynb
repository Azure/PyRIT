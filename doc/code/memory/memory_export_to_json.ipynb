{
 "cells": [
  {
   "cell_type": "markdown",
   "id": "11b1d2f7",
   "metadata": {},
   "source": [
    "The `pyrit.memory` module provides functionality to dump the database tables into JSON files, creating one file per table. Also, dump the data for a given conversation id. In a nutshell, this can be used as follows"
   ]
  },
  {
   "cell_type": "markdown",
   "id": "61e4bab6",
   "metadata": {},
   "source": [
    "### Export all DuckDB tables to JSON format files\n",
    "\n",
    "This will export all DuckDB tables to JSON files, which will be stored in the `pyrit/results` folder."
   ]
  },
  {
   "cell_type": "code",
   "execution_count": 1,
   "id": "4944201a",
   "metadata": {
    "execution": {
     "iopub.execute_input": "2024-04-15T21:31:17.847022Z",
     "iopub.status.busy": "2024-04-15T21:31:17.847022Z",
     "iopub.status.idle": "2024-04-15T21:31:19.490765Z",
     "shell.execute_reply": "2024-04-15T21:31:19.490765Z"
    }
   },
   "outputs": [],
   "source": [
    "# Copyright (c) Microsoft Corporation.\n",
    "# Licensed under the MIT license.\n",
    "\n",
    "from pyrit.memory import DuckDBMemory\n",
    "from uuid import uuid4\n",
    "from pyrit.models import PromptRequestPiece\n",
    "\n",
    "duckdb_memory = DuckDBMemory()\n",
    "duckdb_memory.export_all_tables()"
   ]
  },
  {
   "cell_type": "markdown",
   "id": "f20efb83",
   "metadata": {},
   "source": [
    "### Export Conversation Data to JSON for a Conversation ID\n",
    "This functionality exports all conversation data associated with a specific conversation ID to a JSON file. The file, named using the format `conversation_id.json`, will be located in the `pyrit/results` folder."
   ]
  },
  {
   "cell_type": "code",
   "execution_count": 2,
   "id": "4fa89716",
   "metadata": {
    "execution": {
     "iopub.execute_input": "2024-04-15T21:31:19.490765Z",
     "iopub.status.busy": "2024-04-15T21:31:19.490765Z",
     "iopub.status.idle": "2024-04-15T21:31:19.556845Z",
     "shell.execute_reply": "2024-04-15T21:31:19.556334Z"
    }
   },
   "outputs": [],
   "source": [
    "conversation_id = str(uuid4())\n",
    "\n",
    "message_list = [\n",
    "    PromptRequestPiece(\n",
    "        role=\"user\", original_prompt_text=\"Hi, chat bot! This is my initial prompt.\", conversation_id=conversation_id\n",
    "    ),\n",
    "    PromptRequestPiece(\n",
    "        role=\"assistant\", original_prompt_text=\"Nice to meet you! This is my response.\", conversation_id=conversation_id\n",
    "    ),\n",
    "]\n",
    "\n",
    "next_message = PromptRequestPiece(\n",
    "    role=\"user\",\n",
    "    original_prompt_text=\"Wonderful! This is my second prompt to the chat bot.\",\n",
    "    conversation_id=conversation_id,\n",
    ")\n",
    "\n",
    "message_list.append(next_message)\n",
    "duckdb_memory.add_request_pieces_to_memory(request_pieces=message_list)"
   ]
  },
  {
   "cell_type": "code",
   "execution_count": 3,
   "id": "9fe838d0",
   "metadata": {
    "execution": {
     "iopub.execute_input": "2024-04-15T21:31:19.556845Z",
     "iopub.status.busy": "2024-04-15T21:31:19.556845Z",
     "iopub.status.idle": "2024-04-15T21:31:19.572589Z",
     "shell.execute_reply": "2024-04-15T21:31:19.572589Z"
    }
   },
   "outputs": [],
   "source": [
    "duckdb_memory.export_conversation_by_id(conversation_id=conversation_id)"
   ]
  },
  {
   "cell_type": "code",
   "execution_count": 4,
   "id": "29ed1aca",
   "metadata": {
    "execution": {
     "iopub.execute_input": "2024-04-15T21:31:19.576595Z",
     "iopub.status.busy": "2024-04-15T21:31:19.576595Z",
     "iopub.status.idle": "2024-04-15T21:31:19.604300Z",
     "shell.execute_reply": "2024-04-15T21:31:19.604300Z"
    }
   },
   "outputs": [],
   "source": [
    "# Cleanup DuckDB resources\n",
    "duckdb_memory.dispose_engine()"
   ]
  },
  {
   "cell_type": "code",
   "execution_count": null,
   "id": "2cf8a973",
   "metadata": {},
   "outputs": [],
   "source": []
  }
 ],
 "metadata": {
  "jupytext": {
   "cell_metadata_filter": "-all"
  },
  "kernelspec": {
   "display_name": "pyrit-dev",
   "language": "python",
   "name": "python3"
  },
  "language_info": {
   "codemirror_mode": {
    "name": "ipython",
    "version": 3
   },
   "file_extension": ".py",
   "mimetype": "text/x-python",
   "name": "python",
   "nbconvert_exporter": "python",
   "pygments_lexer": "ipython3",
   "version": "3.10.13"
  }
 },
 "nbformat": 4,
 "nbformat_minor": 5
}
