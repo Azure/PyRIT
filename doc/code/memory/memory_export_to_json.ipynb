{
 "cells": [
  {
   "cell_type": "markdown",
   "id": "b5d8a874",
   "metadata": {},
   "source": [
    "The `pyrit.memory` module provides functionality to dump the database tables into JSON files, creating one file per table. Also, dump the data for a given conversation id. In a nutshell, this can be used as follows"
   ]
  },
  {
   "cell_type": "markdown",
   "id": "244a19fc",
   "metadata": {},
   "source": [
    "### Export all DuckDB tables to JSON format files\n",
    "\n",
    "This will export all DuckDB tables to JSON files, which will be stored in the `pyrit/results` folder."
   ]
  },
  {
   "cell_type": "code",
   "execution_count": 1,
   "id": "b0df3be2",
   "metadata": {
    "execution": {
     "iopub.execute_input": "2024-04-28T22:35:02.013828Z",
     "iopub.status.busy": "2024-04-28T22:35:02.013828Z",
     "iopub.status.idle": "2024-04-28T22:35:03.110063Z",
     "shell.execute_reply": "2024-04-28T22:35:03.110063Z"
    }
   },
   "outputs": [],
   "source": [
    "# Copyright (c) Microsoft Corporation.\n",
    "# Licensed under the MIT license.\n",
    "\n",
    "from pyrit.memory import DuckDBMemory\n",
    "from uuid import uuid4\n",
    "from pyrit.models import PromptRequestPiece, PromptRequestResponse\n",
    "\n",
    "duckdb_memory = DuckDBMemory()\n",
    "duckdb_memory.export_all_tables()"
   ]
  },
  {
   "cell_type": "markdown",
   "id": "ceef10a7",
   "metadata": {},
   "source": [
    "### Export Conversation Data to JSON for a Conversation ID\n",
    "This functionality exports all conversation data associated with a specific conversation ID to a JSON file. The file, named using the format `conversation_id.json`, will be located in the `pyrit/results` folder."
   ]
  },
  {
   "cell_type": "code",
   "execution_count": 2,
   "id": "dd4a60b5",
   "metadata": {
    "execution": {
     "iopub.execute_input": "2024-04-28T22:35:03.113425Z",
     "iopub.status.busy": "2024-04-28T22:35:03.113425Z",
     "iopub.status.idle": "2024-04-28T22:35:03.174997Z",
     "shell.execute_reply": "2024-04-28T22:35:03.174997Z"
    }
   },
   "outputs": [],
   "source": [
    "conversation_id = str(uuid4())\n",
    "\n",
    "message_list = [\n",
    "    PromptRequestPiece(\n",
    "        role=\"user\", original_value=\"Hi, chat bot! This is my initial prompt.\", conversation_id=conversation_id\n",
    "    ),\n",
    "    PromptRequestPiece(\n",
    "        role=\"assistant\", original_value=\"Nice to meet you! This is my response.\", conversation_id=conversation_id\n",
    "    ),\n",
    "]\n",
    "\n",
    "next_message = PromptRequestPiece(\n",
    "    role=\"user\",\n",
    "    original_value=\"Wonderful! This is my second prompt to the chat bot.\",\n",
    "    conversation_id=conversation_id,\n",
    ")\n",
    "\n",
    "message_list.append(next_message)\n",
    "\n",
    "for message in message_list:\n",
    "    duckdb_memory.add_request_response_to_memory(request=PromptRequestResponse([message]))"
   ]
  },
  {
   "cell_type": "code",
   "execution_count": 3,
   "id": "79c0e6a6",
   "metadata": {
    "execution": {
     "iopub.execute_input": "2024-04-28T22:35:03.174997Z",
     "iopub.status.busy": "2024-04-28T22:35:03.174997Z",
     "iopub.status.idle": "2024-04-28T22:35:03.186420Z",
     "shell.execute_reply": "2024-04-28T22:35:03.186420Z"
    }
   },
   "outputs": [],
   "source": [
    "duckdb_memory.export_conversation_by_id(conversation_id=conversation_id)"
   ]
  },
  {
   "cell_type": "code",
   "execution_count": 4,
   "id": "cc00ebe5",
   "metadata": {
    "execution": {
     "iopub.execute_input": "2024-04-28T22:35:03.186420Z",
     "iopub.status.busy": "2024-04-28T22:35:03.186420Z",
     "iopub.status.idle": "2024-04-28T22:35:03.208183Z",
     "shell.execute_reply": "2024-04-28T22:35:03.208183Z"
    }
   },
   "outputs": [],
   "source": [
    "# Cleanup DuckDB resources\n",
    "duckdb_memory.dispose_engine()"
   ]
  },
  {
   "cell_type": "code",
   "execution_count": null,
   "id": "7681ea7f",
   "metadata": {},
   "outputs": [],
   "source": []
  }
 ],
 "metadata": {
  "jupytext": {
   "cell_metadata_filter": "-all"
  },
  "kernelspec": {
   "display_name": "pyrit-311",
   "language": "python",
   "name": "pyrit-311"
  },
  "language_info": {
   "codemirror_mode": {
    "name": "ipython",
    "version": 3
   },
   "file_extension": ".py",
   "mimetype": "text/x-python",
   "name": "python",
   "nbconvert_exporter": "python",
   "pygments_lexer": "ipython3",
   "version": "3.11.9"
  }
 },
 "nbformat": 4,
 "nbformat_minor": 5
}
