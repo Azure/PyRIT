{
 "cells": [
  {
   "cell_type": "markdown",
   "id": "34f08b0a",
   "metadata": {},
   "source": [
    "The `pyrit.memory` module provides functionality to dump the database tables into JSON files, creating one file per table. Also, dump the data for a given conversation id. In a nutshell, this can be used as follows"
   ]
  },
  {
   "cell_type": "markdown",
   "id": "7c851acc",
   "metadata": {},
   "source": [
    "### Export all DuckDB tables to JSON format files\n",
    "\n",
    "This will export all DuckDB tables to JSON files, which will be stored in the `pyrit/results` folder."
   ]
  },
  {
   "cell_type": "code",
   "execution_count": 1,
   "id": "b8b5e183",
   "metadata": {
    "execution": {
     "iopub.execute_input": "2024-04-22T17:10:46.675621Z",
     "iopub.status.busy": "2024-04-22T17:10:46.674620Z",
     "iopub.status.idle": "2024-04-22T17:10:48.007608Z",
     "shell.execute_reply": "2024-04-22T17:10:48.006606Z"
    }
   },
   "outputs": [],
   "source": [
    "# Copyright (c) Microsoft Corporation.\n",
    "# Licensed under the MIT license.\n",
    "\n",
    "from pyrit.memory import DuckDBMemory\n",
    "from uuid import uuid4\n",
    "from pyrit.models import PromptRequestPiece\n",
    "\n",
    "duckdb_memory = DuckDBMemory()\n",
    "duckdb_memory.export_all_tables()"
   ]
  },
  {
   "cell_type": "markdown",
   "id": "fbf50375",
   "metadata": {},
   "source": [
    "### Export Conversation Data to JSON for a Conversation ID\n",
    "This functionality exports all conversation data associated with a specific conversation ID to a JSON file. The file, named using the format `conversation_id.json`, will be located in the `pyrit/results` folder."
   ]
  },
  {
   "cell_type": "code",
   "execution_count": 2,
   "id": "b5b934a3",
   "metadata": {
    "execution": {
     "iopub.execute_input": "2024-04-22T17:10:48.011606Z",
     "iopub.status.busy": "2024-04-22T17:10:48.010606Z",
     "iopub.status.idle": "2024-04-22T17:10:48.070197Z",
     "shell.execute_reply": "2024-04-22T17:10:48.069200Z"
    }
   },
   "outputs": [],
   "source": [
    "conversation_id = str(uuid4())\n",
    "\n",
    "message_list = [\n",
    "    PromptRequestPiece(\n",
    "        role=\"user\", original_prompt_text=\"Hi, chat bot! This is my initial prompt.\", conversation_id=conversation_id\n",
    "    ),\n",
    "    PromptRequestPiece(\n",
    "        role=\"assistant\", original_prompt_text=\"Nice to meet you! This is my response.\", conversation_id=conversation_id\n",
    "    ),\n",
    "]\n",
    "\n",
    "next_message = PromptRequestPiece(\n",
    "    role=\"user\",\n",
    "    original_prompt_text=\"Wonderful! This is my second prompt to the chat bot.\",\n",
    "    conversation_id=conversation_id,\n",
    ")\n",
    "\n",
    "message_list.append(next_message)\n",
    "duckdb_memory.add_request_pieces_to_memory(request_pieces=message_list)"
   ]
  },
  {
   "cell_type": "code",
   "execution_count": 3,
   "id": "53cfdddb",
   "metadata": {
    "execution": {
     "iopub.execute_input": "2024-04-22T17:10:48.073705Z",
     "iopub.status.busy": "2024-04-22T17:10:48.073705Z",
     "iopub.status.idle": "2024-04-22T17:10:48.086227Z",
     "shell.execute_reply": "2024-04-22T17:10:48.085233Z"
    }
   },
   "outputs": [],
   "source": [
    "duckdb_memory.export_conversation_by_id(conversation_id=conversation_id)"
   ]
  },
  {
   "cell_type": "code",
   "execution_count": 4,
   "id": "dd6947bc",
   "metadata": {
    "execution": {
     "iopub.execute_input": "2024-04-22T17:10:48.090228Z",
     "iopub.status.busy": "2024-04-22T17:10:48.089227Z",
     "iopub.status.idle": "2024-04-22T17:10:48.117140Z",
     "shell.execute_reply": "2024-04-22T17:10:48.116149Z"
    }
   },
   "outputs": [],
   "source": [
    "# Cleanup DuckDB resources\n",
    "duckdb_memory.dispose_engine()"
   ]
  },
  {
   "cell_type": "code",
   "execution_count": null,
   "id": "0d41b652",
   "metadata": {},
   "outputs": [],
   "source": []
  }
 ],
 "metadata": {
  "jupytext": {
   "cell_metadata_filter": "-all"
  },
  "kernelspec": {
   "display_name": "pyrit_kernel",
   "language": "python",
   "name": "pyrit_kernel"
  },
  "language_info": {
   "codemirror_mode": {
    "name": "ipython",
    "version": 3
   },
   "file_extension": ".py",
   "mimetype": "text/x-python",
   "name": "python",
   "nbconvert_exporter": "python",
   "pygments_lexer": "ipython3",
   "version": "3.10.13"
  }
 },
 "nbformat": 4,
 "nbformat_minor": 5
}
