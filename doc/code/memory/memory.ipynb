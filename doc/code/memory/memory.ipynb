{
 "cells": [
  {
   "cell_type": "markdown",
   "id": "8015157a",
   "metadata": {},
   "source": [
    "The `pyrit.memory` module provides functionality to keep track of the conversation history. In a nutshell, this can be used as follows"
   ]
  },
  {
   "cell_type": "markdown",
   "id": "3362c88f",
   "metadata": {
    "lines_to_next_cell": 0
   },
   "source": [
    "The PyRIT DuckDB database comprises of tables defined in the `pyrit.memory.memory_models` module.\n",
    "\n"
   ]
  },
  {
   "cell_type": "code",
   "execution_count": 1,
   "id": "7fe509c1",
   "metadata": {
    "execution": {
     "iopub.execute_input": "2024-04-15T21:31:23.317029Z",
     "iopub.status.busy": "2024-04-15T21:31:23.317029Z",
     "iopub.status.idle": "2024-04-15T21:31:24.597203Z",
     "shell.execute_reply": "2024-04-15T21:31:24.596522Z"
    },
    "lines_to_next_cell": 2
   },
   "outputs": [
    {
     "name": "stdout",
     "output_type": "stream",
     "text": [
      "role='user' content='Hi, chat bot! This is my initial prompt.' name=None tool_calls=None tool_call_id=None\n",
      "role='assistant' content='Nice to meet you! This is my response.' name=None tool_calls=None tool_call_id=None\n",
      "role='user' content='Wonderful! This is my second prompt to the chat bot!' name=None tool_calls=None tool_call_id=None\n"
     ]
    }
   ],
   "source": [
    "# Copyright (c) Microsoft Corporation.\n",
    "# Licensed under the MIT license.\n",
    "\n",
    "from uuid import uuid4\n",
    "from pyrit.memory import DuckDBMemory\n",
    "from pyrit.models import PromptRequestPiece\n",
    "\n",
    "conversation_id = str(uuid4())\n",
    "\n",
    "memory = DuckDBMemory()\n",
    "message_list = [\n",
    "    PromptRequestPiece(\n",
    "        role=\"user\", original_prompt_text=\"Hi, chat bot! This is my initial prompt.\", conversation_id=conversation_id\n",
    "    ),\n",
    "    PromptRequestPiece(\n",
    "        role=\"assistant\", original_prompt_text=\"Nice to meet you! This is my response.\", conversation_id=conversation_id\n",
    "    ),\n",
    "    PromptRequestPiece(\n",
    "        role=\"user\",\n",
    "        original_prompt_text=\"Wonderful! This is my second prompt to the chat bot!\",\n",
    "        conversation_id=conversation_id,\n",
    "    ),\n",
    "]\n",
    "\n",
    "memory.add_request_pieces_to_memory(request_pieces=message_list)\n",
    "\n",
    "\n",
    "entries = memory.get_chat_messages_with_conversation_id(conversation_id=conversation_id)\n",
    "\n",
    "for entry in entries:\n",
    "    print(entry)"
   ]
  },
  {
   "cell_type": "code",
   "execution_count": 2,
   "id": "71d7bc29",
   "metadata": {
    "execution": {
     "iopub.execute_input": "2024-04-15T21:31:24.598033Z",
     "iopub.status.busy": "2024-04-15T21:31:24.598033Z",
     "iopub.status.idle": "2024-04-15T21:31:24.647986Z",
     "shell.execute_reply": "2024-04-15T21:31:24.646493Z"
    }
   },
   "outputs": [
    {
     "name": "stdout",
     "output_type": "stream",
     "text": [
      "user: this is updated field\n",
      "assistant: this is updated field\n",
      "user: this is updated field\n"
     ]
    }
   ],
   "source": [
    "\n",
    "# update based on conversation_id\n",
    "update_fileds = {\"converted_prompt_text\": \"this is updated field\"}\n",
    "memory.update_entries_by_conversation_id(conversation_id=conversation_id, update_fields=update_fileds)\n",
    "\n",
    "\n",
    "prompt_entries = memory.get_prompt_entries_with_conversation_id(conversation_id=conversation_id)\n",
    "\n",
    "for entry in prompt_entries:\n",
    "    print(entry)"
   ]
  },
  {
   "cell_type": "code",
   "execution_count": 3,
   "id": "8df85019",
   "metadata": {
    "execution": {
     "iopub.execute_input": "2024-04-15T21:31:24.647986Z",
     "iopub.status.busy": "2024-04-15T21:31:24.647986Z",
     "iopub.status.idle": "2024-04-15T21:31:24.680328Z",
     "shell.execute_reply": "2024-04-15T21:31:24.679382Z"
    }
   },
   "outputs": [],
   "source": [
    "# Cleanup memory resources\n",
    "memory.dispose_engine()"
   ]
  },
  {
   "cell_type": "code",
   "execution_count": null,
   "id": "7093070e",
   "metadata": {},
   "outputs": [],
   "source": []
  }
 ],
 "metadata": {
  "jupytext": {
   "cell_metadata_filter": "-all"
  },
  "kernelspec": {
   "display_name": "pyrit_kernel",
   "language": "python",
   "name": "pyrit_kernel"
  },
  "language_info": {
   "codemirror_mode": {
    "name": "ipython",
    "version": 3
   },
   "file_extension": ".py",
   "mimetype": "text/x-python",
   "name": "python",
   "nbconvert_exporter": "python",
   "pygments_lexer": "ipython3",
   "version": "3.10.13"
  }
 },
 "nbformat": 4,
 "nbformat_minor": 5
}
