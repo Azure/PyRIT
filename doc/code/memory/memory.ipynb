{
 "cells": [
  {
   "cell_type": "markdown",
   "id": "9c08dce3",
   "metadata": {},
   "source": [
    "# Memory\n",
    "\n",
    "The memory DuckDB database can be thought of as a normalized source of truth. The memory module is the primary way pyrit keeps track of requests and responses to targets and scores. Most of this is done automatically. All Prompt Targets write to memory for later retrieval. All scorers also write to memory when scoring.\n",
    "\n",
    "The schema is found in `memory_models.py` and can be programatically viewed as follows"
   ]
  },
  {
   "cell_type": "code",
   "execution_count": 1,
   "id": "ab523333",
   "metadata": {
    "execution": {
     "iopub.execute_input": "2024-05-17T20:03:08.308122Z",
     "iopub.status.busy": "2024-05-17T20:03:08.307124Z",
     "iopub.status.idle": "2024-05-17T20:03:12.900008Z",
     "shell.execute_reply": "2024-05-17T20:03:12.895267Z"
    }
   },
   "outputs": [
    {
     "name": "stderr",
     "output_type": "stream",
     "text": [
      "C:\\Users\\Roman\\.conda\\envs\\pyrit-python311-clean\\Lib\\site-packages\\duckdb_engine\\__init__.py:565: SAWarning: Did not recognize type 'list' of column 'embedding'\n",
      "  columns = self._get_columns_info(rows, domains, enums, schema)  # type: ignore[attr-defined]\n"
     ]
    },
    {
     "name": "stderr",
     "output_type": "stream",
     "text": [
      "C:\\Users\\Roman\\.conda\\envs\\pyrit-python311-clean\\Lib\\site-packages\\duckdb_engine\\__init__.py:180: DuckDBEngineWarning: duckdb-engine doesn't yet support reflection on indices\n",
      "  warnings.warn(\n"
     ]
    },
    {
     "name": "stdout",
     "output_type": "stream",
     "text": [
      "Schema for EmbeddingData:\n",
      "  Column id (UUID)\n",
      "  Column embedding (NULL)\n",
      "  Column embedding_type_name (VARCHAR)\n",
      "Schema for PromptMemoryEntries:\n",
      "  Column id (UUID)\n",
      "  Column role (VARCHAR)\n",
      "  Column conversation_id (VARCHAR)\n",
      "  Column sequence (INTEGER)\n",
      "  Column timestamp (TIMESTAMP)\n",
      "  Column labels (VARCHAR)\n",
      "  Column prompt_metadata (VARCHAR)\n",
      "  Column converter_identifiers (VARCHAR)\n",
      "  Column prompt_target_identifier (VARCHAR)\n",
      "  Column orchestrator_identifier (VARCHAR)\n",
      "  Column response_error (VARCHAR)\n",
      "  Column original_value_data_type (VARCHAR)\n",
      "  Column original_value (VARCHAR)\n",
      "  Column original_value_sha256 (VARCHAR)\n",
      "  Column converted_value_data_type (VARCHAR)\n",
      "  Column converted_value (VARCHAR)\n",
      "  Column converted_value_sha256 (VARCHAR)\n",
      "Schema for ScoreEntries:\n",
      "  Column id (UUID)\n",
      "  Column score_value (VARCHAR)\n",
      "  Column score_value_description (VARCHAR)\n",
      "  Column score_type (VARCHAR)\n",
      "  Column score_category (VARCHAR)\n",
      "  Column score_rationale (VARCHAR)\n",
      "  Column score_metadata (VARCHAR)\n",
      "  Column scorer_class_identifier (VARCHAR)\n",
      "  Column prompt_request_response_id (UUID)\n",
      "  Column date_time (TIMESTAMP)\n"
     ]
    }
   ],
   "source": [
    "# Copyright (c) Microsoft Corporation.\n",
    "# Licensed under the MIT license.\n",
    "\n",
    "from pyrit.memory import DuckDBMemory\n",
    "\n",
    "memory = DuckDBMemory()\n",
    "memory.print_schema()"
   ]
  },
  {
   "cell_type": "markdown",
   "id": "fd622494",
   "metadata": {},
   "source": [
    "## Basic Programming Usage\n",
    "\n",
    "The `pyrit.memory` module provides functionality to keep track of the conversation history, scoring, data, and more. You can use memory to read and write data. Here is an example that retrieves a normalized conversation:"
   ]
  },
  {
   "cell_type": "code",
   "execution_count": 2,
   "id": "0c5a2438",
   "metadata": {
    "execution": {
     "iopub.execute_input": "2024-05-17T20:03:12.910630Z",
     "iopub.status.busy": "2024-05-17T20:03:12.909629Z",
     "iopub.status.idle": "2024-05-17T20:03:23.327601Z",
     "shell.execute_reply": "2024-05-17T20:03:23.327601Z"
    },
    "lines_to_next_cell": 2
   },
   "outputs": [
    {
     "name": "stdout",
     "output_type": "stream",
     "text": [
      ": user: Hi, chat bot! This is my initial prompt.\n",
      ": assistant: Nice to meet you! This is my response.\n",
      ": user: Wonderful! This is my second prompt to the chat bot!\n"
     ]
    }
   ],
   "source": [
    "\n",
    "\n",
    "from uuid import uuid4\n",
    "from pyrit.models import PromptRequestPiece, PromptRequestResponse\n",
    "\n",
    "conversation_id = str(uuid4())\n",
    "\n",
    "message_list = [\n",
    "    PromptRequestPiece(\n",
    "        role=\"user\", original_value=\"Hi, chat bot! This is my initial prompt.\", conversation_id=conversation_id\n",
    "    ),\n",
    "    PromptRequestPiece(\n",
    "        role=\"assistant\", original_value=\"Nice to meet you! This is my response.\", conversation_id=conversation_id\n",
    "    ),\n",
    "    PromptRequestPiece(\n",
    "        role=\"user\",\n",
    "        original_value=\"Wonderful! This is my second prompt to the chat bot!\",\n",
    "        conversation_id=conversation_id,\n",
    "    ),\n",
    "]\n",
    "\n",
    "memory.add_request_response_to_memory(request=PromptRequestResponse([message_list[0]]))\n",
    "memory.add_request_response_to_memory(request=PromptRequestResponse([message_list[1]]))\n",
    "memory.add_request_response_to_memory(request=PromptRequestResponse([message_list[2]]))\n",
    "\n",
    "\n",
    "entries = memory._get_prompt_pieces_with_conversation_id(conversation_id=conversation_id)\n",
    "\n",
    "for entry in entries:\n",
    "    print(entry)\n",
    "\n",
    "\n",
    "# Cleanup memory resources\n",
    "memory.dispose_engine()"
   ]
  },
  {
   "cell_type": "markdown",
   "id": "765bf30d",
   "metadata": {},
   "source": [
    "## Updating Memory Manually\n",
    "\n",
    "\n",
    "After or during an operation or a test, it can be important to use the memory in the database in a straightforward way.\n",
    "\n",
    "There are many ways to do this, but this section gives some general ideas on how users can solve common problems. Most of this relies on using https://duckdb.org/docs/guides/sql_editors/dbeaver.html\n",
    "\n",
    "\n",
    "### Sharing Data Between Users\n",
    "\n",
    "Eventually, we have plans to extend the `MemoryInterface` implementation to other instances. For example, it would not be a huge task to extend it to Azure SQL Server, and operators could use that as a shared database.\n",
    "\n",
    "In the mean time, one of the easiest ways to share data is to do the following:\n",
    "\n",
    "1. Export and import the database as described here. This allows a lot of flexibility and can include partial exports (for example based on labels or time):  https://dbeaver.com/docs/dbeaver/Data-transfer/\n",
    "2. Copy the PyRIT `results/dbdata` directory over; it will contain multi-modal data that the database references.\n",
    "\n",
    "### Making Pretty Graphs with Excel\n",
    "\n",
    "This is especially nice with scoring. There are countless ways to do this, but this shows one example;\n",
    "\n",
    "1. Do a query with the data you want. This is an example where we're only quering scores in the \"float_type\" scores in the category of \"misinformation\"\n",
    "\n",
    "![scoring_1.png](../../../assets/scoring_1.png)\n",
    "\n",
    "2. Export the data to a CSV\n",
    "\n",
    "![scoring_2.png](../../../assets/scoring_2_export.png)\n",
    "\n",
    "3. Use it as an excel sheet! You can use pivot tables, etc. To visualize the data.\n",
    "\n",
    "![scoring_2.png](../../../assets/scoring_3_pivot.png)\n",
    "\n",
    "4. Optionally, if you caught things you wanted to update, you could either change in the database or directly in the excel and re-import. Note: mapping is sometimes not 100% so updating in the database is best.\n",
    "\n",
    "### Entering Manual Prompts\n",
    "\n",
    "Although most prompts are run through `PromptTargets` which will add prompts to memory, there are a few reasons you may want to enter in manual prompts. For example, if you ssh into a box, are not using PyRIT to probe for weaknesses, but want to add prompts later for reporting or scoring.\n",
    "\n",
    "One of the easiest way to add prompts is through the `TextTarget` target. You can create a csv of prompts that looks as follows:\n",
    "\n",
    "```\n",
    "role, value\n",
    "user, hello\n",
    "assistant, hi how are you?\n",
    "user, new conversation\n",
    "```\n",
    "\n",
    "This very simple format doesn't have very much information, but already it standardizes the prompts that can then be used in mass scoring (or manuual scoring with HITLScorer).\n",
    "\n",
    "And you can import it using code like this\n",
    "\n",
    "```\n",
    "target = TextTarget()\n",
    "target.import_scores_from_csv(csv_file_path=\".\\path.csv\")\n",
    "```\n",
    "\n",
    "\n"
   ]
  },
  {
   "cell_type": "markdown",
   "id": "e70bd29d",
   "metadata": {},
   "source": []
  }
 ],
 "metadata": {
  "jupytext": {
   "cell_metadata_filter": "-all"
  },
  "kernelspec": {
   "display_name": "pyrit-311",
   "language": "python",
   "name": "python3"
  },
  "language_info": {
   "codemirror_mode": {
    "name": "ipython",
    "version": 3
   },
   "file_extension": ".py",
   "mimetype": "text/x-python",
   "name": "python",
   "nbconvert_exporter": "python",
   "pygments_lexer": "ipython3",
   "version": "3.11.9"
  }
 },
 "nbformat": 4,
 "nbformat_minor": 5
}
