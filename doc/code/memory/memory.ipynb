{
 "cells": [
  {
   "cell_type": "markdown",
   "id": "da395b00",
   "metadata": {},
   "source": [
    "The memory module is the primary way pyrit keeps track of requests and responses to targets. The schema is found in `memory_models.py` and can be programatically viewed as follows\n"
   ]
  },
  {
   "cell_type": "code",
   "execution_count": 8,
   "id": "a2a45a7c",
   "metadata": {
    "execution": {
     "iopub.execute_input": "2024-04-17T21:46:23.697329Z",
     "iopub.status.busy": "2024-04-17T21:46:23.696330Z",
     "iopub.status.idle": "2024-04-17T21:46:25.974202Z",
     "shell.execute_reply": "2024-04-17T21:46:25.974202Z"
    }
   },
   "outputs": [
    {
     "name": "stderr",
     "output_type": "stream",
     "text": [
      "c:\\Users\\rlundeen\\AppData\\Local\\anaconda3\\envs\\pyrit-dev\\lib\\site-packages\\duckdb_engine\\__init__.py:565: SAWarning: Did not recognize type 'list' of column 'embedding'\n",
      "  columns = self._get_columns_info(rows, domains, enums, schema)  # type: ignore[attr-defined]\n",
      "c:\\Users\\rlundeen\\AppData\\Local\\anaconda3\\envs\\pyrit-dev\\lib\\site-packages\\duckdb_engine\\__init__.py:180: DuckDBEngineWarning: duckdb-engine doesn't yet support reflection on indices\n",
      "  warnings.warn(\n"
     ]
    },
    {
     "name": "stdout",
     "output_type": "stream",
     "text": [
      "Schema for EmbeddingData:\n",
      "  Column id (UUID)\n",
      "  Column embedding (NULL)\n",
      "  Column embedding_type_name (VARCHAR)\n",
      "Schema for PromptMemoryEntries:\n",
      "  Column id (UUID)\n",
      "  Column role (VARCHAR)\n",
      "  Column conversation_id (VARCHAR)\n",
      "  Column sequence (INTEGER)\n",
      "  Column timestamp (TIMESTAMP)\n",
      "  Column labels (VARCHAR)\n",
      "  Column prompt_metadata (VARCHAR)\n",
      "  Column converter_identifiers (VARCHAR)\n",
      "  Column prompt_target_identifier (VARCHAR)\n",
      "  Column orchestrator_identifier (VARCHAR)\n",
      "  Column response_error (VARCHAR)\n",
      "  Column original_prompt_data_type (VARCHAR)\n",
      "  Column original_prompt_text (VARCHAR)\n",
      "  Column original_prompt_data_sha256 (VARCHAR)\n",
      "  Column converted_prompt_data_type (VARCHAR)\n",
      "  Column converted_prompt_text (VARCHAR)\n",
      "  Column converted_prompt_data_sha256 (VARCHAR)\n"
     ]
    }
   ],
   "source": [
    "# Copyright (c) Microsoft Corporation.\n",
    "# Licensed under the MIT license.\n",
    "\n",
    "from pyrit.memory import DuckDBMemory\n",
    "memory = DuckDBMemory()\n",
    "\n",
    "memory.print_schema()"
   ]
  },
  {
   "cell_type": "markdown",
   "id": "30322f05",
   "metadata": {},
   "source": [
    "\n",
    "The `pyrit.memory` module provides functionality to keep track of the conversation history. In a nutshell, this can be used as follows"
   ]
  },
  {
   "cell_type": "code",
   "execution_count": 2,
   "id": "b58266be",
   "metadata": {
    "execution": {
     "iopub.execute_input": "2024-04-17T21:46:25.974202Z",
     "iopub.status.busy": "2024-04-17T21:46:25.974202Z",
     "iopub.status.idle": "2024-04-17T21:46:26.044580Z",
     "shell.execute_reply": "2024-04-17T21:46:26.043420Z"
    },
    "lines_to_next_cell": 2
   },
   "outputs": [
    {
     "name": "stdout",
     "output_type": "stream",
     "text": [
      "role='user' content='Hi, chat bot! This is my initial prompt.' name=None tool_calls=None tool_call_id=None\n",
      "role='assistant' content='Nice to meet you! This is my response.' name=None tool_calls=None tool_call_id=None\n",
      "role='user' content='Wonderful! This is my second prompt to the chat bot!' name=None tool_calls=None tool_call_id=None\n"
     ]
    }
   ],
   "source": [
    "\n",
    "\n",
    "from uuid import uuid4\n",
    "from pyrit.models import PromptRequestPiece\n",
    "\n",
    "conversation_id = str(uuid4())\n",
    "\n",
    "message_list = [\n",
    "    PromptRequestPiece(\n",
    "        role=\"user\", original_prompt_text=\"Hi, chat bot! This is my initial prompt.\", conversation_id=conversation_id\n",
    "    ),\n",
    "    PromptRequestPiece(\n",
    "        role=\"assistant\", original_prompt_text=\"Nice to meet you! This is my response.\", conversation_id=conversation_id\n",
    "    ),\n",
    "    PromptRequestPiece(\n",
    "        role=\"user\",\n",
    "        original_prompt_text=\"Wonderful! This is my second prompt to the chat bot!\",\n",
    "        conversation_id=conversation_id,\n",
    "    ),\n",
    "]\n",
    "\n",
    "memory.add_request_pieces_to_memory(request_pieces=message_list)\n",
    "\n",
    "\n",
    "entries = memory.get_chat_messages_with_conversation_id(conversation_id=conversation_id)\n",
    "\n",
    "for entry in entries:\n",
    "    print(entry)"
   ]
  },
  {
   "cell_type": "code",
   "execution_count": 3,
   "id": "31c2b09a",
   "metadata": {
    "execution": {
     "iopub.execute_input": "2024-04-17T21:46:26.048616Z",
     "iopub.status.busy": "2024-04-17T21:46:26.047620Z",
     "iopub.status.idle": "2024-04-17T21:46:26.097887Z",
     "shell.execute_reply": "2024-04-17T21:46:26.096888Z"
    }
   },
   "outputs": [
    {
     "name": "stdout",
     "output_type": "stream",
     "text": [
      "None: user: this is updated field\n",
      "None: assistant: this is updated field\n",
      "None: user: this is updated field\n"
     ]
    }
   ],
   "source": [
    "\n",
    "# update based on conversation_id\n",
    "update_fileds = {\"converted_prompt_text\": \"this is updated field\"}\n",
    "memory.update_entries_by_conversation_id(conversation_id=conversation_id, update_fields=update_fileds)\n",
    "\n",
    "\n",
    "prompt_entries = memory.get_prompt_entries_with_conversation_id(conversation_id=conversation_id)\n",
    "\n",
    "for entry in prompt_entries:\n",
    "    print(entry)"
   ]
  },
  {
   "cell_type": "code",
   "execution_count": 4,
   "id": "78c2f09e",
   "metadata": {
    "execution": {
     "iopub.execute_input": "2024-04-17T21:46:26.102395Z",
     "iopub.status.busy": "2024-04-17T21:46:26.100889Z",
     "iopub.status.idle": "2024-04-17T21:46:26.128226Z",
     "shell.execute_reply": "2024-04-17T21:46:26.127219Z"
    }
   },
   "outputs": [],
   "source": [
    "# Cleanup memory resources\n",
    "memory.dispose_engine()"
   ]
  },
  {
   "cell_type": "code",
   "execution_count": null,
   "id": "e5110a2b",
   "metadata": {},
   "outputs": [],
   "source": []
  }
 ],
 "metadata": {
  "jupytext": {
   "cell_metadata_filter": "-all"
  },
  "kernelspec": {
   "display_name": "pyrit-dev",
   "language": "python",
   "name": "python3"
  },
  "language_info": {
   "codemirror_mode": {
    "name": "ipython",
    "version": 3
   },
   "file_extension": ".py",
   "mimetype": "text/x-python",
   "name": "python",
   "nbconvert_exporter": "python",
   "pygments_lexer": "ipython3",
   "version": "3.10.13"
  }
 },
 "nbformat": 4,
 "nbformat_minor": 5
}
