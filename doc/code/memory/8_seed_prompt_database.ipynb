{
  "cells": [
    {
      "cell_type": "markdown",
      "id": "0",
      "metadata": {},
      "source": [
        "# 8. Seed Prompt Database\n",
        "\n",
        "Apart from storing results in memory it's also useful to store datasets of seed prompts\n",
        "and seed prompt templates that we may want to use at a later point.\n",
        "This can help us in curating prompts with custom metadata like harm categories.\n",
        "As with all memory, we can use local DuckDBMemory or AzureSQLMemory in Azure to get the\n",
        "benefits of sharing with other users and persisting data."
      ]
    },
    {
      "cell_type": "code",
      "execution_count": null,
      "id": "1",
      "metadata": {},
      "outputs": [],
      "source": [
        "from pyrit.common import IN_MEMORY, initialize_pyrit\n",
        "\n",
        "initialize_pyrit(memory_db_type=IN_MEMORY)"
      ]
    },
    {
      "cell_type": "markdown",
      "id": "2",
      "metadata": {},
      "source": [
        "## Adding prompts to the database"
      ]
    },
    {
      "cell_type": "code",
      "execution_count": null,
      "id": "3",
      "metadata": {},
      "outputs": [],
      "source": [
        "import pathlib\n",
        "\n",
        "from pyrit.common.path import DATASETS_PATH\n",
        "from pyrit.memory import CentralMemory\n",
        "from pyrit.models import SeedPromptDataset\n",
        "\n",
        "seed_prompt_dataset = SeedPromptDataset.from_yaml_file(pathlib.Path(DATASETS_PATH) / \"seed_prompts\" / \"illegal.prompt\")\n",
        "\n",
        "print(seed_prompt_dataset.prompts[0])\n",
        "\n",
        "memory = CentralMemory.get_memory_instance()\n",
        "await memory.add_seed_prompts_to_memory_async(prompts=seed_prompt_dataset.prompts, added_by=\"test\")  # type: ignore"
      ]
    },
    {
      "cell_type": "markdown",
      "id": "4",
      "metadata": {},
      "source": [
        "## Retrieving prompts from the database\n",
        "\n",
        "First, let's get an idea of what datasets are represented in the database."
      ]
    },
    {
      "cell_type": "code",
      "execution_count": null,
      "id": "5",
      "metadata": {},
      "outputs": [],
      "source": [
        "memory.get_seed_prompt_dataset_names()"
      ]
    },
    {
      "cell_type": "markdown",
      "id": "6",
      "metadata": {},
      "source": [
        "The dataset we just uploaded (called \"test illegal\") is also represented.\n",
        "To get all seed prompts from that dataset, we can query as follows:"
      ]
    },
    {
      "cell_type": "code",
      "execution_count": null,
      "id": "7",
      "metadata": {},
      "outputs": [],
      "source": [
        "dataset_name = \"test illegal\"\n",
        "prompts = memory.get_seed_prompts(dataset_name=dataset_name)\n",
        "print(f\"Total number of the prompts with dataset name '{dataset_name}':\", len(prompts))\n",
        "if prompts:\n",
        "    print(prompts[0].__dict__)"
      ]
    },
    {
      "cell_type": "markdown",
      "id": "8",
      "metadata": {
        "lines_to_next_cell": 0
      },
      "source": [
        "## Adding seed prompt groups to the database"
      ]
    },
    {
      "cell_type": "code",
      "execution_count": null,
      "id": "9",
      "metadata": {},
      "outputs": [],
      "source": [
        "import pathlib\n",
        "\n",
        "from pyrit.common.path import DATASETS_PATH\n",
        "from pyrit.models import SeedPromptGroup\n",
        "\n",
        "seed_prompt_group = SeedPromptGroup.from_yaml_file(\n",
        "    pathlib.Path(DATASETS_PATH) / \"seed_prompts\" / \"illegal-multimodal.prompt\"\n",
        ")\n",
        "\n",
        "await memory.add_seed_prompt_groups_to_memory(prompt_groups=[seed_prompt_group], added_by=\"test multimodal illegal\")  # type: ignore"
      ]
    },
    {
      "cell_type": "markdown",
      "id": "10",
      "metadata": {},
      "source": [
        "## Retrieving seed prompt groups from the memory with dataset_name as \"TestMultimodalTextImageAudioVideo\""
      ]
    },
    {
      "cell_type": "code",
      "execution_count": null,
      "id": "11",
      "metadata": {},
      "outputs": [],
      "source": [
        "multimodal_dataset_name = \"TestMultimodalTextImageAudioVideo\"\n",
        "seed_prompt_groups = memory.get_seed_prompt_groups(dataset_name=multimodal_dataset_name)\n",
        "print(f\"Total number of the seed prompt groups with dataset name '{multimodal_dataset_name}':\", len(seed_prompt_groups))\n",
        "if seed_prompt_groups:\n",
        "    print(seed_prompt_groups[0].__dict__)"
      ]
    },
    {
      "cell_type": "code",
      "execution_count": null,
      "id": "12",
      "metadata": {},
      "outputs": [],
      "source": [
        "from pyrit.memory import CentralMemory\n",
        "\n",
        "memory = CentralMemory.get_memory_instance()\n",
        "memory.dispose_engine()"
      ]
    }
  ],
  "metadata": {
    "jupytext": {
      "cell_metadata_filter": "-all"
    }
  },
  "nbformat": 4,
  "nbformat_minor": 5
}