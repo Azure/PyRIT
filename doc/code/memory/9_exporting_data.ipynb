{
 "cells": [
  {
   "cell_type": "markdown",
   "metadata": {},
   "source": [
    "# Exporting Data Example\n",
    "\n",
    "This notebook shows all the different ways to export data from memory. This first example exports all conversations from Azure SQL memory with their respective score values in a JSON format. Without using the database query editor, these export functions allow for a quick approach to exporting data from memory."
   ]
  },
  {
   "cell_type": "code",
   "execution_count": 1,
   "metadata": {},
   "outputs": [
    {
     "name": "stdout",
     "output_type": "stream",
     "text": [
      "Exported conversation with scores to JSON: conversation_and_scores_json_example\n"
     ]
    }
   ],
   "source": [
    "from pyrit.memory.azure_sql_memory import AzureSQLMemory\n",
    "from pyrit.common import default_values\n",
    "from pathlib import Path\n",
    "\n",
    "default_values.load_default_env()\n",
    "    \n",
    "memory = AzureSQLMemory()\n",
    "    \n",
    "# Define file path for export\n",
    "json_file_path = Path(\"conversation_and_scores_json_example\")\n",
    "# csv_file_path = Path(\\\"conversation_and_scores_csv_example\\\")\n",
    "\n",
    "# Export the data to a JSON file\n",
    "conversation_with_scores = memory.export_all_conversations_with_scores(file_path=json_file_path, export_type=\"json\")\n",
    "print(f\"Exported conversation with scores to JSON: {json_file_path}\")\n",
    "\n",
    "# Export the data to a CSV file\n",
    "#conversation_with_scores = memory.export_all_conversations_with_scores(file_path=json_file_path, export_type=\"csv\")\n",
    "#print(f\"Exported conversation with scores to CSV: {csv_file_path}\")"
   ]
  },
  {
   "cell_type": "markdown",
   "metadata": {},
   "source": [
    "## Importing Data as NumPy DataFrame\n",
    "\n",
    "You can use the exported JSON or CSV files to import the data as a NumPy DataFrame. This can be useful for various data manipulation and analysis tasks."
   ]
  },
  {
   "cell_type": "code",
   "execution_count": null,
   "metadata": {},
   "outputs": [],
   "source": [
    "import pandas as pd #type: ignore\n",
    "\n",
    "df = pd.read_json(json_file_path)\n",
    "df.head()"
   ]
  }
 ],
 "metadata": {
  "language_info": {
   "name": "python"
  }
 },
 "nbformat": 4,
 "nbformat_minor": 2
}
