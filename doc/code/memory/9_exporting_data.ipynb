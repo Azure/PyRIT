{
 "cells": [
  {
   "cell_type": "markdown",
   "id": "0",
   "metadata": {},
   "source": [
    "# 9. Exporting Data Example\n",
    "\n",
    "This notebook shows different ways to export data from memory. This first example exports all conversations from local DuckDB memory with their respective score values in a JSON format. The data can currently be exported both as JSON file or a CSV file that will be saved in your results folder within PyRIT. The CSV export is commented out below. In this example, all conversations are exported, but by using other export functions from `memory_interface`, we can export by specific labels and other methods."
   ]
  },
  {
   "cell_type": "code",
   "execution_count": null,
   "id": "1",
   "metadata": {},
   "outputs": [],
   "source": [
    "from uuid import uuid4\n",
    "\n",
    "from pyrit.common import default_values\n",
    "from pyrit.common.path import RESULTS_PATH\n",
    "from pyrit.memory import DuckDBMemory, CentralMemory\n",
    "from pyrit.models import PromptRequestPiece, PromptRequestResponse\n",
    " \n",
    "default_values.load_environment_files()\n",
    " \n",
    "memory = DuckDBMemory()\n",
    "CentralMemory.set_memory_instance(memory)\n",
    " \n",
    "conversation_id = str(uuid4())\n",
    " \n",
    "print(conversation_id)\n",
    " \n",
    "message_list = [\n",
    "    PromptRequestPiece(\n",
    "        role=\"user\", original_value=\"Hi, chat bot! This is my initial prompt.\", conversation_id=conversation_id\n",
    "    ),\n",
    "    PromptRequestPiece(\n",
    "        role=\"assistant\", original_value=\"Nice to meet you! This is my response.\", conversation_id=conversation_id\n",
    "    ),\n",
    "    PromptRequestPiece(\n",
    "        role=\"user\",\n",
    "        original_value=\"Wonderful! This is my second prompt to the chat bot!\",\n",
    "        conversation_id=conversation_id,\n",
    "    ),\n",
    "]\n",
    " \n",
    "memory.add_request_response_to_memory(request=PromptRequestResponse([message_list[0]]))\n",
    "memory.add_request_response_to_memory(request=PromptRequestResponse([message_list[1]]))\n",
    "memory.add_request_response_to_memory(request=PromptRequestResponse([message_list[2]]))\n",
    "\n",
    "entries = memory.get_conversation(conversation_id=conversation_id)\n",
    " \n",
    "for entry in entries:\n",
    "    print(entry)\n",
    "\n",
    "# Define file path for export\n",
    "json_file_path = RESULTS_PATH / \"conversation_and_scores_json_example.json\"\n",
    "#csv_file_path = RESULTS_PATH / \"conversation_and_scores_csv_example.csv\"\n",
    " \n",
    "# # Export the data to a JSON file\n",
    "conversation_with_scores = memory.export_all_conversations(file_path=json_file_path, export_type=\"json\")\n",
    "print(f\"Exported conversation with scores to JSON: {json_file_path}\")\n",
    " \n",
    "# Export the data to a CSV file\n",
    "# conversation_with_scores = memory.export_all_conversations(file_path=csv_file_path, export_type=\"csv\")\n",
    "# print(f\"Exported conversation with scores to CSV: {csv_file_path}\")"
   ]
  },
  {
   "cell_type": "markdown",
   "id": "2",
   "metadata": {},
   "source": [
    "You can also use the exported JSON or CSV files to import the data as a NumPy DataFrame. This can be useful for various data manipulation and analysis tasks."
   ]
  },
  {
   "cell_type": "code",
   "execution_count": null,
   "id": "3",
   "metadata": {},
   "outputs": [],
   "source": [
    "import pandas as pd  # type: ignore\n",
    "\n",
    "df = pd.read_json(json_file_path)\n",
    "df.head(1)"
   ]
  },
  {
   "cell_type": "markdown",
   "id": "4",
   "metadata": {},
   "source": [
    "Next, we can export data from our Azure SQL database. In this example, we export the data by `conversation_id` and to a CSV file."
   ]
  },
  {
   "cell_type": "code",
   "execution_count": null,
   "id": "5",
   "metadata": {},
   "outputs": [],
   "source": [
    "from pyrit.memory import AzureSQLMemory\n",
    "\n",
    "conversation_id = str(uuid4())\n",
    "\n",
    "message_list = [\n",
    "    PromptRequestPiece(\n",
    "        role=\"user\", original_value=\"Hi, chat bot! This is my initial prompt.\", conversation_id=conversation_id\n",
    "    ),\n",
    "    PromptRequestPiece(\n",
    "        role=\"assistant\", original_value=\"Nice to meet you! This is my response.\", conversation_id=conversation_id\n",
    "    ),\n",
    "    PromptRequestPiece(\n",
    "        role=\"user\",\n",
    "        original_value=\"Wonderful! This is my second prompt to the chat bot!\",\n",
    "        conversation_id=conversation_id,\n",
    "    ),\n",
    "]\n",
    "\n",
    "azure_memory = AzureSQLMemory()\n",
    "CentralMemory.set_memory_instance(azure_memory)\n",
    "\n",
    "azure_memory.add_request_response_to_memory(request=PromptRequestResponse([message_list[0]]))\n",
    "azure_memory.add_request_response_to_memory(request=PromptRequestResponse([message_list[1]]))\n",
    "azure_memory.add_request_response_to_memory(request=PromptRequestResponse([message_list[2]]))\n",
    "\n",
    "\n",
    "entries = azure_memory.get_conversation(conversation_id=conversation_id)\n",
    "\n",
    "for entry in entries:\n",
    "    print(entry)\n",
    "\n",
    "# Define file path for export\n",
    "# json_file_path = RESULTS_PATH / \"conversation_and_scores_json_example.json\"\n",
    "csv_file_path = RESULTS_PATH / \"conversation_and_scores_csv_example.csv\"\n",
    "\n",
    "# Export the data to a JSON file\n",
    "# conversation_with_scores = azure_memory.export_conversation_by_id(conversation_id=conversation_id, file_path=json_file_path, export_type=\"json\")\n",
    "# print(f\"Exported conversation with scores to JSON: {json_file_path}\")\n",
    "\n",
    "# Export the data to a CSV file\n",
    "conversation_with_scores = azure_memory.export_conversation_by_id(conversation_id=conversation_id, file_path=json_file_path, export_type=\"csv\")\n",
    "print(f\"Exported conversation with scores to CSV: {csv_file_path}\")\n",
    "\n",
    "# Cleanup memory resources\n",
    "azure_memory.dispose_engine()"
   ]
  }
 ],
 "metadata": {
  "kernelspec": {
   "display_name": "pyrit-kernel",
   "language": "python",
   "name": "pyrit-kernel"
  },
  "language_info": {
   "codemirror_mode": {
    "name": "ipython",
    "version": 3
   },
   "file_extension": ".py",
   "mimetype": "text/x-python",
   "name": "python",
   "nbconvert_exporter": "python",
   "pygments_lexer": "ipython3",
   "version": "3.12.4"
  }
 },
 "nbformat": 4,
 "nbformat_minor": 5
}
