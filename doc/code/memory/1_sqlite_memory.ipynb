{
 "cells": [
  {
   "cell_type": "markdown",
   "id": "0",
   "metadata": {},
   "source": [
    "# 1. SQLite Memory\n",
    "\n",
    "The memory SQLite database can be thought of as a normalized source of truth. The memory module is the primary way pyrit keeps track of requests and responses to targets and scores. Most of this is done automatically. All Prompt Targets write to memory for later retrieval. All scorers also write to memory when scoring.\n",
    "\n",
    "The schema is found in `memory_models.py` and can be programatically viewed as follows"
   ]
  },
  {
   "cell_type": "code",
   "execution_count": null,
   "id": "1",
   "metadata": {
    "lines_to_next_cell": 2
   },
   "outputs": [
    {
     "name": "stdout",
     "output_type": "stream",
     "text": [
      "Database Schema:\n",
      "================\n",
      "\n",
      "Table: PromptMemoryEntries\n",
      "--------------------------\n",
      "  id: CHAR(32) NOT NULL\n",
      "  role: VARCHAR NOT NULL\n",
      "  conversation_id: VARCHAR NOT NULL\n",
      "  sequence: INTEGER NOT NULL\n",
      "  timestamp: DATETIME NOT NULL\n",
      "  labels: JSON NOT NULL\n",
      "  prompt_metadata: JSON NOT NULL\n",
      "  converter_identifiers: JSON NULL\n",
      "  prompt_target_identifier: JSON NOT NULL\n",
      "  orchestrator_identifier: JSON NOT NULL\n",
      "  response_error: VARCHAR NULL\n",
      "  original_value_data_type: VARCHAR NOT NULL\n",
      "  original_value: VARCHAR NOT NULL\n",
      "  original_value_sha256: VARCHAR NULL\n",
      "  converted_value_data_type: VARCHAR NOT NULL\n",
      "  converted_value: VARCHAR NULL\n",
      "  converted_value_sha256: VARCHAR NULL\n",
      "  original_prompt_id: CHAR(32) NOT NULL\n",
      "\n",
      "Table: EmbeddingData\n",
      "--------------------\n",
      "  id: CHAR(32) NOT NULL\n",
      "  embedding: ARRAY NULL\n",
      "  embedding_type_name: VARCHAR NULL\n",
      "\n",
      "Table: ScoreEntries\n",
      "-------------------\n",
      "  id: CHAR(32) NOT NULL\n",
      "  score_value: VARCHAR NOT NULL\n",
      "  score_value_description: VARCHAR NULL\n",
      "  score_type: VARCHAR NOT NULL\n",
      "  score_category: VARCHAR NULL\n",
      "  score_rationale: VARCHAR NULL\n",
      "  score_metadata: VARCHAR NULL\n",
      "  scorer_class_identifier: JSON NOT NULL\n",
      "  prompt_request_response_id: CHAR(32) NULL\n",
      "  timestamp: DATETIME NOT NULL\n",
      "  task: VARCHAR NULL\n",
      "\n",
      "Table: SeedPromptEntries\n",
      "------------------------\n",
      "  id: CHAR(32) NOT NULL\n",
      "  value: VARCHAR NOT NULL\n",
      "  value_sha256: VARCHAR NULL\n",
      "  data_type: VARCHAR NOT NULL\n",
      "  name: VARCHAR NULL\n",
      "  dataset_name: VARCHAR NULL\n",
      "  harm_categories: JSON NULL\n",
      "  description: VARCHAR NULL\n",
      "  authors: JSON NULL\n",
      "  groups: JSON NULL\n",
      "  source: VARCHAR NULL\n",
      "  date_added: DATETIME NOT NULL\n",
      "  added_by: VARCHAR NOT NULL\n",
      "  prompt_metadata: JSON NULL\n",
      "  parameters: JSON NULL\n",
      "  prompt_group_id: CHAR(32) NULL\n",
      "  sequence: INTEGER NULL\n",
      "\n",
      "Table: AttackResultEntries\n",
      "--------------------------\n",
      "  id: CHAR(32) NOT NULL\n",
      "  conversation_id: VARCHAR NOT NULL\n",
      "  objective: VARCHAR NOT NULL\n",
      "  attack_identifier: JSON NOT NULL\n",
      "  objective_sha256: VARCHAR NULL\n",
      "  last_response_id: CHAR(32) NULL\n",
      "  last_score_id: CHAR(32) NULL\n",
      "  executed_turns: INTEGER NOT NULL DEFAULT ScalarElementColumnDefault(0)\n",
      "  execution_time_ms: INTEGER NOT NULL DEFAULT ScalarElementColumnDefault(0)\n",
      "  outcome: VARCHAR NOT NULL DEFAULT ScalarElementColumnDefault('undetermined')\n",
      "  outcome_reason: VARCHAR NULL\n",
      "  attack_metadata: JSON NULL\n",
      "  pruned_conversation_ids: JSON NULL\n",
      "  adversarial_chat_conversation_ids: JSON NULL\n",
      "  timestamp: DATETIME NOT NULL\n"
     ]
    }
   ],
   "source": [
    "from pyrit.memory import SQLiteMemory\n",
    "\n",
    "# Use in-memory database to avoid file corruption issues\n",
    "memory = SQLiteMemory(db_path=\":memory:\")\n",
    "memory.print_schema()\n",
    "\n",
    "memory.dispose_engine()"
   ]
  },
  {
   "cell_type": "code",
   "execution_count": null,
   "id": "2",
   "metadata": {},
   "outputs": [
    {
     "name": "stdout",
     "output_type": "stream",
     "text": [
      "Expected error: DuckDBMemory has been replaced by SQLiteMemory. Please use SQLiteMemory instead for better compatibility and performance.\n",
      "SQLiteMemory created successfully!\n"
     ]
    },
    {
     "name": "stderr",
     "output_type": "stream",
     "text": [
      "/tmp/ipykernel_115647/2336842765.py:7: UserWarning: DuckDBMemory has been replaced by SQLiteMemory for better compatibility and performance. Please use SQLiteMemory instead. DuckDBMemory will not function.\n",
      "  memory = DuckDBMemory(db_path=\":memory:\")\n"
     ]
    }
   ],
   "source": [
    "# DuckDBMemory has been replaced by SQLiteMemory\n",
    "# This will raise a NotImplementedError with a warning\n",
    "\n",
    "try:\n",
    "    from pyrit.memory import DuckDBMemory\n",
    "\n",
    "    # This will fail with a helpful error message\n",
    "    memory = DuckDBMemory(db_path=\":memory:\")\n",
    "except NotImplementedError as e:\n",
    "    print(f\"Expected error: {e}\")\n",
    "\n",
    "# Use SQLiteMemory instead\n",
    "from pyrit.memory import SQLiteMemory\n",
    "\n",
    "memory = SQLiteMemory(db_path=\":memory:\")\n",
    "print(\"SQLiteMemory created successfully!\")\n",
    "memory.dispose_engine()"
   ]
  },
  {
   "cell_type": "markdown",
   "id": "3",
   "metadata": {},
   "source": [
    "## DuckDB to SQLite Migration\n",
    "\n",
    "**Note:** DuckDBMemory has been replaced by SQLiteMemory for better compatibility and performance. \n",
    "\n",
    "If you try to use DuckDBMemory, it will:\n",
    "1. Issue a warning\n",
    "2. Raise a `NotImplementedError` \n",
    "\n",
    "Please use `SQLiteMemory` instead, which provides the same functionality with better reliability."
   ]
  },
  {
   "cell_type": "code",
   "execution_count": null,
   "id": "4",
   "metadata": {},
   "outputs": [
    {
     "name": "stdout",
     "output_type": "stream",
     "text": [
      "Error: DuckDB is no longer supported and has been replaced by SQLite for better compatibility and performance. Please update your code to use SQLite instead. For migration guidance, see the SQLite Memory documentation at: doc/code/memory/1_sqlite_memory.ipynb\n"
     ]
    }
   ],
   "source": [
    "# Example: What happens when you try to use DuckDB\n",
    "# This demonstrates the helpful error message that guides users to migrate\n",
    "\n",
    "from pyrit.common.initialization import initialize_pyrit\n",
    "\n",
    "try:\n",
    "    # Attempting to initialize with DuckDB will show a helpful migration message\n",
    "    initialize_pyrit(memory_db_type=\"DuckDB\")\n",
    "\n",
    "except Exception as e:\n",
    "    print(\"Error:\", e)\n"
   ]
  },
  {
   "cell_type": "markdown",
   "id": "5",
   "metadata": {},
   "source": []
  }
 ],
 "metadata": {
  "jupytext": {
   "cell_metadata_filter": "-all"
  },
  "language_info": {
   "codemirror_mode": {
    "name": "ipython",
    "version": 3
   },
   "file_extension": ".py",
   "mimetype": "text/x-python",
   "name": "python",
   "nbconvert_exporter": "python",
   "pygments_lexer": "ipython3",
   "version": "3.11.13"
  }
 },
 "nbformat": 4,
 "nbformat_minor": 5
}
