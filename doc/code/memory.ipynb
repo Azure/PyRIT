{
 "cells": [
  {
   "cell_type": "markdown",
   "id": "34a32deb",
   "metadata": {},
   "source": [
    "The `pyrit.memory` module provides functionality to keep track of the conversation history. In a nutshell, this can be used as follows"
   ]
  },
  {
   "cell_type": "code",
   "execution_count": 1,
   "id": "1f691098",
   "metadata": {
    "execution": {
     "iopub.execute_input": "2024-03-05T02:14:33.752113Z",
     "iopub.status.busy": "2024-03-05T02:14:33.752113Z",
     "iopub.status.idle": "2024-03-05T02:14:35.490072Z",
     "shell.execute_reply": "2024-03-05T02:14:35.490072Z"
    }
   },
   "outputs": [
    {
     "data": {
      "text/plain": [
       "[ChatMessage(role='user', content='this is updtaed field'),\n",
       " ChatMessage(role='assistant', content='this is updtaed field'),\n",
       " ChatMessage(role='user', content='this is updtaed field'),\n",
       " ChatMessage(role='user', content='Hi, chat bot! This is my initial prompt.'),\n",
       " ChatMessage(role='assistant', content='Nice to meet you! This is my response.'),\n",
       " ChatMessage(role='user', content='Wonderful! This is my second prompt to the chat bot.')]"
      ]
     },
     "execution_count": 1,
     "metadata": {},
     "output_type": "execute_result"
    }
   ],
   "source": [
    "\n",
    "from pyrit.memory import DuckDBMemory\n",
    "from pyrit.models import ChatMessage\n",
    "\n",
    "memory = DuckDBMemory()\n",
    "message_list = [\n",
    "    ChatMessage(role=\"user\", content=\"Hi, chat bot! This is my initial prompt.\"),\n",
    "    ChatMessage(role=\"assistant\", content=\"Nice to meet you! This is my response.\"),\n",
    "]\n",
    "next_message = ChatMessage(role=\"user\", content=\"Wonderful! This is my second prompt to the chat bot.\")\n",
    "message_list.append(next_message)\n",
    "memory.add_chat_messages_to_memory(conversations=message_list, conversation_id=\"11111\")\n",
    "\n",
    "\n",
    "# To retrieve the items from memory\n",
    "\n",
    "memory.get_chat_messages_with_conversation_id(conversation_id=\"11111\")"
   ]
  },
  {
   "cell_type": "code",
   "execution_count": 2,
   "id": "672d1ba7",
   "metadata": {},
   "outputs": [
    {
     "data": {
      "text/plain": [
       "True"
      ]
     },
     "execution_count": 2,
     "metadata": {},
     "output_type": "execute_result"
    }
   ],
   "source": [
    "# update by conversation_id\n",
    "update_fileds = {\"content\": \"this is updtaed field\"}\n",
    "memory.update_entries_by_conversation_id(conversation_id=\"11111\", update_fields=update_fileds)"
   ]
  },
  {
   "cell_type": "code",
   "execution_count": 3,
   "id": "fc6f34f6",
   "metadata": {},
   "outputs": [
    {
     "data": {
      "text/plain": [
       "[ChatMessage(role='user', content='this is updtaed field'),\n",
       " ChatMessage(role='assistant', content='this is updtaed field'),\n",
       " ChatMessage(role='user', content='this is updtaed field'),\n",
       " ChatMessage(role='user', content='this is updtaed field'),\n",
       " ChatMessage(role='assistant', content='this is updtaed field'),\n",
       " ChatMessage(role='user', content='this is updtaed field')]"
      ]
     },
     "execution_count": 3,
     "metadata": {},
     "output_type": "execute_result"
    }
   ],
   "source": [
    "# To retrieve the items from memory\n",
    "memory.get_chat_messages_with_conversation_id(conversation_id=\"11111\")"
   ]
  },
  {
   "cell_type": "code",
   "execution_count": 4,
   "id": "ef587675",
   "metadata": {},
   "outputs": [],
   "source": [
    "# Cleanup memory resources\n",
    "memory.dispose_engine()"
   ]
  },
  {
   "cell_type": "code",
   "execution_count": null,
   "id": "57a7aeff",
   "metadata": {},
   "outputs": [],
   "source": []
  }
 ],
 "metadata": {
  "jupytext": {
   "cell_metadata_filter": "-all"
  },
  "kernelspec": {
   "display_name": "pyrit-dev",
   "language": "python",
   "name": "python3"
  },
  "language_info": {
   "codemirror_mode": {
    "name": "ipython",
    "version": 3
   },
   "file_extension": ".py",
   "mimetype": "text/x-python",
   "name": "python",
   "nbconvert_exporter": "python",
   "pygments_lexer": "ipython3",
   "version": "3.10.13"
  }
 },
 "nbformat": 4,
 "nbformat_minor": 5
}
