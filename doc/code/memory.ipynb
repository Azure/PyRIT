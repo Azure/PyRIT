{
 "cells": [
  {
   "cell_type": "markdown",
   "id": "911dd17b",
   "metadata": {},
   "source": [
    "The `pyrit.memory` module provides functionality to keep track of the conversation history. In a nutshell, this can be used as follows"
   ]
  },
  {
   "cell_type": "code",
   "execution_count": 1,
   "id": "d3cee797",
   "metadata": {
    "execution": {
     "iopub.execute_input": "2024-03-13T20:57:11.849681Z",
     "iopub.status.busy": "2024-03-13T20:57:11.848680Z",
     "iopub.status.idle": "2024-03-13T20:57:14.425984Z",
     "shell.execute_reply": "2024-03-13T20:57:14.424989Z"
    }
   },
   "outputs": [
    {
     "data": {
      "text/plain": [
       "[ChatMessage(role='user', content='Hi, chat bot! This is my initial prompt.', name=None, tool_calls=None, tool_call_id=None),\n",
       " ChatMessage(role='assistant', content='Nice to meet you! This is my response.', name=None, tool_calls=None, tool_call_id=None),\n",
       " ChatMessage(role='user', content='Wonderful! This is my second prompt to the chat bot.', name=None, tool_calls=None, tool_call_id=None)]"
      ]
     },
     "execution_count": 1,
     "metadata": {},
     "output_type": "execute_result"
    }
   ],
   "source": [
    "\n",
    "from uuid import uuid4\n",
    "from pyrit.memory import DuckDBMemory\n",
    "from pyrit.models import ChatMessage\n",
    "\n",
    "conversation_id = str(uuid4())\n",
    "\n",
    "memory = DuckDBMemory()\n",
    "message_list = [\n",
    "    ChatMessage(role=\"user\", content=\"Hi, chat bot! This is my initial prompt.\"),\n",
    "    ChatMessage(role=\"assistant\", content=\"Nice to meet you! This is my response.\"),\n",
    "]\n",
    "next_message = ChatMessage(role=\"user\", content=\"Wonderful! This is my second prompt to the chat bot.\")\n",
    "message_list.append(next_message)\n",
    "memory.add_chat_messages_to_memory(conversations=message_list, conversation_id=conversation_id)\n",
    "\n",
    "\n",
    "# To retrieve the items from memory\n",
    "\n",
    "memory.get_chat_messages_with_conversation_id(conversation_id=conversation_id)"
   ]
  },
  {
   "cell_type": "code",
   "execution_count": 2,
   "id": "f7e3bbd2",
   "metadata": {},
   "outputs": [],
   "source": [
    "conversation_id = str(uuid4())\n",
    "\n",
    "memory = DuckDBMemory()\n",
    "message_list = [\n",
    "    ChatMessage(role=\"user\", content=\"Hi, chat bot! This is my initial prompt.\"),\n",
    "    ChatMessage(role=\"assistant\", content=\"Nice to meet you! This is my response.\"),\n",
    "]\n",
    "next_message = ChatMessage(role=\"user\", content=\"Wonderful! This is my second prompt to the chat bot.\")\n",
    "message_list.append(next_message)\n",
    "memory.add_chat_messages_to_memory(conversations=message_list, conversation_id=conversation_id)\n"
   ]
  },
  {
   "cell_type": "code",
   "execution_count": 3,
   "id": "2ae35d19",
   "metadata": {},
   "outputs": [
    {
     "data": {
      "text/plain": [
       "[ChatMessage(role='user', content='this is updtaed field', name=None, tool_calls=None, tool_call_id=None),\n",
       " ChatMessage(role='assistant', content='this is updtaed field', name=None, tool_calls=None, tool_call_id=None),\n",
       " ChatMessage(role='user', content='this is updtaed field', name=None, tool_calls=None, tool_call_id=None),\n",
       " ChatMessage(role='user', content='this is updtaed field', name=None, tool_calls=None, tool_call_id=None),\n",
       " ChatMessage(role='assistant', content='this is updtaed field', name=None, tool_calls=None, tool_call_id=None),\n",
       " ChatMessage(role='user', content='this is updtaed field', name=None, tool_calls=None, tool_call_id=None)]"
      ]
     },
     "execution_count": 3,
     "metadata": {},
     "output_type": "execute_result"
    }
   ],
   "source": [
    "# To retrieve the items from memory\n",
    "memory.get_chat_messages_with_conversation_id(conversation_id=\"11111\")"
   ]
  },
  {
   "cell_type": "code",
   "execution_count": 4,
   "id": "4b3f1ad8",
   "metadata": {},
   "outputs": [
    {
     "data": {
      "text/plain": [
       "True"
      ]
     },
     "execution_count": 4,
     "metadata": {},
     "output_type": "execute_result"
    }
   ],
   "source": [
    "# update based on conversation_id\n",
    "update_fileds = {\"content\": \"this is updated field\"}\n",
    "memory.update_entries_by_conversation_id(conversation_id=\"11111\", update_fields=update_fileds)\n"
   ]
  },
  {
   "cell_type": "code",
   "execution_count": 5,
   "id": "91667bf8",
   "metadata": {},
   "outputs": [
    {
     "data": {
      "text/plain": [
       "[ChatMessage(role='user', content='this is updated field', name=None, tool_calls=None, tool_call_id=None),\n",
       " ChatMessage(role='assistant', content='this is updated field', name=None, tool_calls=None, tool_call_id=None),\n",
       " ChatMessage(role='user', content='this is updated field', name=None, tool_calls=None, tool_call_id=None),\n",
       " ChatMessage(role='user', content='this is updated field', name=None, tool_calls=None, tool_call_id=None),\n",
       " ChatMessage(role='assistant', content='this is updated field', name=None, tool_calls=None, tool_call_id=None),\n",
       " ChatMessage(role='user', content='this is updated field', name=None, tool_calls=None, tool_call_id=None)]"
      ]
     },
     "execution_count": 5,
     "metadata": {},
     "output_type": "execute_result"
    }
   ],
   "source": [
    "# To retrieve the items from memory\n",
    "memory.get_chat_messages_with_conversation_id(conversation_id=\"11111\")"
   ]
  },
  {
   "cell_type": "code",
   "execution_count": 6,
   "id": "c1437cb7",
   "metadata": {},
   "outputs": [],
   "source": [
    "# Cleanup memory resources\n",
    "memory.dispose_engine()"
   ]
  },
  {
   "cell_type": "code",
   "execution_count": null,
   "id": "ab559581",
   "metadata": {},
   "outputs": [],
   "source": []
  }
 ],
 "metadata": {
  "jupytext": {
   "cell_metadata_filter": "-all"
  },
  "kernelspec": {
   "display_name": "pyrit-dev",
   "language": "python",
   "name": "python3"
  },
  "language_info": {
   "codemirror_mode": {
    "name": "ipython",
    "version": 3
   },
   "file_extension": ".py",
   "mimetype": "text/x-python",
   "name": "python",
   "nbconvert_exporter": "python",
   "pygments_lexer": "ipython3",
   "version": "3.10.13"
  }
 },
 "nbformat": 4,
 "nbformat_minor": 5
}
