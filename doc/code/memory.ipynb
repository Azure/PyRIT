{
 "cells": [
  {
   "cell_type": "markdown",
   "id": "1b64fb6d",
   "metadata": {},
   "source": [
    "The `pyrit.memory` module provides functionality to keep track of the conversation history. In a nutshell, this can be used as follows"
   ]
  },
  {
   "cell_type": "code",
   "execution_count": 1,
   "id": "98fc2129",
   "metadata": {
    "execution": {
     "iopub.execute_input": "2024-02-21T01:59:46.255509Z",
     "iopub.status.busy": "2024-02-21T01:59:46.255509Z",
     "iopub.status.idle": "2024-02-21T01:59:47.725824Z",
     "shell.execute_reply": "2024-02-21T01:59:47.725824Z"
    }
   },
   "outputs": [
    {
     "data": {
      "text/plain": [
       "[ChatMessage(role='user', content='Hi, chat bot! This is my initial prompt.'),\n",
       " ChatMessage(role='assistant', content='Nice to meet you! This is my response.'),\n",
       " ChatMessage(role='user', content='Wonderful! This is my second prompt to the chat bot.'),\n",
       " ChatMessage(role='user', content='Hi, chat bot! This is my initial prompt.'),\n",
       " ChatMessage(role='assistant', content='Nice to meet you! This is my response.'),\n",
       " ChatMessage(role='user', content='Wonderful! This is my second prompt to the chat bot.'),\n",
       " ChatMessage(role='user', content='Hi, chat bot! This is my initial prompt.'),\n",
       " ChatMessage(role='assistant', content='Nice to meet you! This is my response.'),\n",
       " ChatMessage(role='user', content='Wonderful! This is my second prompt to the chat bot.'),\n",
       " ChatMessage(role='user', content='Hi, chat bot! This is my initial prompt.'),\n",
       " ChatMessage(role='assistant', content='Nice to meet you! This is my response.'),\n",
       " ChatMessage(role='user', content='Wonderful! This is my second prompt to the chat bot.'),\n",
       " ChatMessage(role='user', content='Hi, chat bot! This is my initial prompt.'),\n",
       " ChatMessage(role='assistant', content='Nice to meet you! This is my response.'),\n",
       " ChatMessage(role='user', content='Wonderful! This is my second prompt to the chat bot.'),\n",
       " ChatMessage(role='user', content='Hi, chat bot! This is my initial prompt.'),\n",
       " ChatMessage(role='assistant', content='Nice to meet you! This is my response.'),\n",
       " ChatMessage(role='user', content='Wonderful! This is my second prompt to the chat bot.'),\n",
       " ChatMessage(role='user', content='Hi, chat bot! This is my initial prompt.'),\n",
       " ChatMessage(role='assistant', content='Nice to meet you! This is my response.'),\n",
       " ChatMessage(role='user', content='Wonderful! This is my second prompt to the chat bot.')]"
      ]
     },
     "execution_count": 1,
     "metadata": {},
     "output_type": "execute_result"
    }
   ],
   "source": [
    "\n",
    "from pyrit.memory import FileMemory\n",
    "from pyrit.models import ChatMessage\n",
    "\n",
    "memory = FileMemory()\n",
    "message_list = [\n",
    "    ChatMessage(role=\"user\", content=\"Hi, chat bot! This is my initial prompt.\"),\n",
    "    ChatMessage(role=\"assistant\", content=\"Nice to meet you! This is my response.\"),\n",
    "]\n",
    "next_message = ChatMessage(role=\"user\", content=\"Wonderful! This is my second prompt to the chat bot.\")\n",
    "message_list.append(next_message)\n",
    "memory.add_chat_messages_to_memory(conversations=message_list, conversation_id=\"11111\")\n",
    "\n",
    "\n",
    "# To retrieve the items from memory\n",
    "\n",
    "memory.get_chat_messages_with_conversation_id(conversation_id=\"11111\")"
   ]
  }
 ],
 "metadata": {
  "jupytext": {
   "cell_metadata_filter": "-all"
  },
  "kernelspec": {
   "display_name": "pyrit_kernel",
   "language": "python",
   "name": "pyrit_kernel"
  },
  "language_info": {
   "codemirror_mode": {
    "name": "ipython",
    "version": 3
   },
   "file_extension": ".py",
   "mimetype": "text/x-python",
   "name": "python",
   "nbconvert_exporter": "python",
   "pygments_lexer": "ipython3",
   "version": "3.10.13"
  }
 },
 "nbformat": 4,
 "nbformat_minor": 5
}
