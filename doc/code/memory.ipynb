{
 "cells": [
  {
   "cell_type": "markdown",
   "id": "c9b282f5",
   "metadata": {},
   "source": [
    "The `pyrit.memory` module provides functionality to keep track of the conversation history. In a nutshell, this can be used as follows"
   ]
  },
  {
   "cell_type": "code",
   "execution_count": 1,
   "id": "7de347fa",
   "metadata": {
    "execution": {
     "iopub.execute_input": "2024-03-18T19:56:43.078283Z",
     "iopub.status.busy": "2024-03-18T19:56:43.078283Z",
     "iopub.status.idle": "2024-03-18T19:56:44.394124Z",
     "shell.execute_reply": "2024-03-18T19:56:44.394124Z"
    }
   },
   "outputs": [
    {
     "data": {
      "text/plain": [
       "[ChatMessage(role='user', content='Hi, chat bot! This is my initial prompt.', name=None, tool_calls=None, tool_call_id=None),\n",
       " ChatMessage(role='assistant', content='Nice to meet you! This is my response.', name=None, tool_calls=None, tool_call_id=None),\n",
       " ChatMessage(role='user', content='Wonderful! This is my second prompt to the chat bot.', name=None, tool_calls=None, tool_call_id=None)]"
      ]
     },
     "execution_count": 1,
     "metadata": {},
     "output_type": "execute_result"
    }
   ],
   "source": [
    "# Copyright (c) Microsoft Corporation.\n",
    "# Licensed under the MIT license.\n",
    "\n",
    "from uuid import uuid4\n",
    "from pyrit.memory import FileMemory\n",
    "from pyrit.models import ChatMessage\n",
    "\n",
    "conversation_id = str(uuid4())\n",
    "\n",
    "memory = FileMemory()\n",
    "message_list = [\n",
    "    ChatMessage(role=\"user\", content=\"Hi, chat bot! This is my initial prompt.\"),\n",
    "    ChatMessage(role=\"assistant\", content=\"Nice to meet you! This is my response.\"),\n",
    "]\n",
    "next_message = ChatMessage(role=\"user\", content=\"Wonderful! This is my second prompt to the chat bot.\")\n",
    "message_list.append(next_message)\n",
    "memory.add_chat_messages_to_memory(conversations=message_list, conversation_id=conversation_id)\n",
    "\n",
    "\n",
    "# To retrieve the items from memory\n",
    "\n",
    "memory.get_chat_messages_with_conversation_id(conversation_id=conversation_id)"
   ]
  }
 ],
 "metadata": {
  "jupytext": {
   "cell_metadata_filter": "-all"
  },
  "kernelspec": {
   "display_name": "pyrit-kernel",
   "language": "python",
   "name": "pyrit-kernel"
  },
  "language_info": {
   "codemirror_mode": {
    "name": "ipython",
    "version": 3
   },
   "file_extension": ".py",
   "mimetype": "text/x-python",
   "name": "python",
   "nbconvert_exporter": "python",
   "pygments_lexer": "ipython3",
   "version": "3.10.13"
  }
 },
 "nbformat": 4,
 "nbformat_minor": 5
}
