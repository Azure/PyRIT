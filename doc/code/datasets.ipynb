{
 "cells": [
  {
   "cell_type": "markdown",
   "metadata": {},
   "source": [
    "### Introduction\n",
    "\n",
    "This Jupyter notebook gives an introduction to the concept of `ChatMessagesDataset` and how they can be helpful as you start to work with more and more data.\n",
    "\n",
    "### What is ChatMessagesDataset?\n",
    "\n",
    "The chat messages dataset is a way to store information about multi-turn conversations in a structured way. It is a collection of `ChatMessages` that can be used to train and evaluate models for conversational AI. Although can also he used for other purposes, such as storing data for chatbots, or for analyzing conversations later on.\n",
    "\n",
    "The added benefits of using `ChatMessagesDataset` are that you can more easily manage and manipulate the data, and you can use the built-in functionality that `pydantic` offers to validate the data and ensure that it is in the correct format. Additionally, you can use the `name` and `description` fields to store metadata about the dataset, such as where it came from, who created it, and what it is used for.\n",
    "\n",
    "\n",
    "Below is an example of how to create a `ChatMessagesDataset` and add some `ChatMessages` to it."
   ]
  },
  {
   "cell_type": "code",
   "execution_count": 5,
   "metadata": {},
   "outputs": [
    {
     "name": "stdout",
     "output_type": "stream",
     "text": [
      "{'name': 'demo-dataset', 'description': 'dataset for demo purposes', 'list_of_chat_messages': [{'messages': [{'role': 'system', 'content': 'You are a helpful AI assistant'}, {'role': 'user', 'content': 'Hello, how are you?'}, {'role': 'assistant', 'content': \"I'm doing well, thank you for asking.\"}]}, {'messages': [{'role': 'system', 'content': 'You are a helpful AI assistant'}, {'role': 'user', 'content': 'How are you?'}, {'role': 'assistant', 'content': \"I'm just a computer program, so I don't have feelings, but thank you for asking! How can I assist you today?.\"}]}]}\n"
     ]
    }
   ],
   "source": [
    "from pyrit.models import ChatMessagesDataset, ChatMessages, ChatMessage\n",
    "\n",
    "dataset = ChatMessagesDataset(\n",
    "    name=\"demo-dataset\",\n",
    "    description=\"dataset for demo purposes\",\n",
    "    list_of_chat_messages=[\n",
    "        ChatMessages(messages=[\n",
    "            ChatMessage(role=\"system\", content=\"You are a helpful AI assistant\"),\n",
    "            ChatMessage(role=\"user\", content=\"Hello, how are you?\"),\n",
    "            ChatMessage(role=\"assistant\", content=\"I'm doing well, thank you for asking.\"),\n",
    "        ]),\n",
    "        ChatMessages(messages=[\n",
    "            ChatMessage(role=\"system\", content=\"You are a helpful AI assistant\"),\n",
    "            ChatMessage(role=\"user\", content=\"How are you?\"),\n",
    "            ChatMessage(role=\"assistant\", content=\"I'm just a computer program, so I don't have feelings, but thank you for asking! How can I assist you today?.\"),\n",
    "        ]),\n",
    "    ]\n",
    ")\n",
    "\n",
    "print(dataset.model_dump(exclude_none=True))"
   ]
  },
  {
   "cell_type": "markdown",
   "metadata": {},
   "source": [
    "another thing you can do with the `ChatMessagesDataset` is to save it to a file and load it from a file. This is useful for storing the data in a more permanent way, and for sharing it with others.\n",
    "\n",
    "Below is an example of how to load a `ChatMessagesDataset` after it has been read from a file."
   ]
  },
  {
   "cell_type": "code",
   "execution_count": 9,
   "metadata": {},
   "outputs": [
    {
     "data": {
      "text/plain": [
       "ChatMessagesDataset(name='demo-dataset', description='dataset for demo purposes', list_of_chat_messages=[ChatMessages(messages=[ChatMessage(role='system', content='You are a helpful AI assistant', name=None, tool_calls=None, tool_call_id=None), ChatMessage(role='user', content='Hello, how are you?', name=None, tool_calls=None, tool_call_id=None), ChatMessage(role='assistant', content=\"I'm doing well, thanks for asking.\", name=None, tool_calls=None, tool_call_id=None)]), ChatMessages(messages=[ChatMessage(role='system', content='You are a helpful AI assistant', name=None, tool_calls=None, tool_call_id=None), ChatMessage(role='user', content='How are you?', name=None, tool_calls=None, tool_call_id=None), ChatMessage(role='assistant', content='Good, you?', name=None, tool_calls=None, tool_call_id=None)])])"
      ]
     },
     "execution_count": 9,
     "metadata": {},
     "output_type": "execute_result"
    }
   ],
   "source": [
    "data = {\n",
    "  \"name\": \"demo-dataset\",\n",
    "  \"description\": \"dataset for demo purposes\",\n",
    "  \"list_of_chat_messages\": [\n",
    "    {\n",
    "      \"messages\": [\n",
    "        { \"role\": \"system\", \"content\": \"You are a helpful AI assistant\" },\n",
    "        { \"role\": \"user\", \"content\": \"Hello, how are you?\" },\n",
    "        { \"role\": \"assistant\", \"content\": \"I'm doing well, thanks for asking.\" }\n",
    "      ]\n",
    "    },\n",
    "    {\n",
    "      \"messages\": [\n",
    "        { \"role\": \"system\", \"content\": \"You are a helpful AI assistant\" },\n",
    "        { \"role\": \"user\", \"content\": \"How are you?\" },\n",
    "        { \"role\": \"assistant\", \"content\": \"Good, you?\" }\n",
    "      ]\n",
    "    }\n",
    "  ]\n",
    "}\n",
    "\n",
    "my_dataset = ChatMessagesDataset(**data)\n",
    "my_dataset"
   ]
  },
  {
   "cell_type": "markdown",
   "metadata": {},
   "source": [
    "Another things that datasets allow is the easily conversion to other formats. For example, the `list_of_chat_messages` field in the `ChatMessagesDataset` is of type `list[ChatMessages]`. This means that each of the entries can be converted into a format such as [ChatML](https://github.com/openai/openai-python/blob/release-v0.28.0/chatml.md) that can be used when interacting with large language models at a low-level. This functionality is available via the `to_chatml()` method."
   ]
  },
  {
   "cell_type": "code",
   "execution_count": 13,
   "metadata": {},
   "outputs": [
    {
     "name": "stdout",
     "output_type": "stream",
     "text": [
      "messages=[ChatMessage(role='system', content='You are a helpful AI assistant', name=None, tool_calls=None, tool_call_id=None), ChatMessage(role='user', content='Hello, how are you?', name=None, tool_calls=None, tool_call_id=None), ChatMessage(role='assistant', content=\"I'm doing well, thanks for asking.\", name=None, tool_calls=None, tool_call_id=None)]\n"
     ]
    }
   ],
   "source": [
    "print(my_dataset.list_of_chat_messages[0])"
   ]
  },
  {
   "cell_type": "code",
   "execution_count": 14,
   "metadata": {},
   "outputs": [
    {
     "name": "stdout",
     "output_type": "stream",
     "text": [
      "<|im_start|>system\n",
      "You are a helpful AI assistant<|im_end|>\n",
      "<|im_start|>user\n",
      "Hello, how are you?<|im_end|>\n",
      "<|im_start|>assistant\n",
      "I'm doing well, thanks for asking.<|im_end|>\n",
      "\n"
     ]
    }
   ],
   "source": [
    "print(my_dataset.list_of_chat_messages[0].to_chatml())"
   ]
  },
  {
   "cell_type": "code",
   "execution_count": null,
   "metadata": {},
   "outputs": [],
   "source": []
  }
 ],
 "metadata": {
  "kernelspec": {
   "display_name": "pyrit_kernel",
   "language": "python",
   "name": "pyrit_kernel"
  },
  "language_info": {
   "codemirror_mode": {
    "name": "ipython",
    "version": 3
   },
   "file_extension": ".py",
   "mimetype": "text/x-python",
   "name": "python",
   "nbconvert_exporter": "python",
   "pygments_lexer": "ipython3",
   "version": "3.10.12"
  }
 },
 "nbformat": 4,
 "nbformat_minor": 2
}
