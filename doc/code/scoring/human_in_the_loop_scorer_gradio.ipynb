{
 "cells": [
  {
   "cell_type": "markdown",
   "id": "6ce4b2fe",
   "metadata": {},
   "source": [
    "# Human in the Loop Scoring with Gradio\n",
    "This example shows how to use the Gradio UI to perform human-in-the-loop scoring."
   ]
  },
  {
   "cell_type": "code",
   "execution_count": 1,
   "id": "d3c8e1d4",
   "metadata": {
    "execution": {
     "iopub.execute_input": "2025-03-04T21:41:59.299028Z",
     "iopub.status.busy": "2025-03-04T21:41:59.299028Z",
     "iopub.status.idle": "2025-03-04T21:42:31.888185Z",
     "shell.execute_reply": "2025-03-04T21:42:31.887176Z"
    }
   },
   "outputs": [
    {
     "name": "stderr",
     "output_type": "stream",
     "text": [
      "None of PyTorch, TensorFlow >= 2.0, or Flax have been found. Models won't be available and only tokenizers, configuration and file/data utilities can be used.\n"
     ]
    }
   ],
   "source": [
    "import uuid\n",
    "\n",
    "from pyrit.common import IN_MEMORY, initialize_pyrit\n",
    "from pyrit.memory import CentralMemory\n",
    "from pyrit.models import PromptRequestPiece\n",
    "from pyrit.score import HumanInTheLoopScorerGradio\n",
    "\n",
    "initialize_pyrit(memory_db_type=IN_MEMORY)\n",
    "memory = CentralMemory.get_memory_instance()\n",
    "scorer = HumanInTheLoopScorerGradio() # This will start the Gradio UI and can only be created once per notebook."
   ]
  },
  {
   "cell_type": "code",
   "execution_count": 2,
   "id": "f4ee0213",
   "metadata": {
    "execution": {
     "iopub.execute_input": "2025-03-04T21:42:31.890778Z",
     "iopub.status.busy": "2025-03-04T21:42:31.890778Z",
     "iopub.status.idle": "2025-03-04T21:42:55.162749Z",
     "shell.execute_reply": "2025-03-04T21:42:55.162089Z"
    }
   },
   "outputs": [
    {
     "name": "stdout",
     "output_type": "stream",
     "text": [
      "[: safety: True]\n"
     ]
    }
   ],
   "source": [
    "# This cell can be run multiple times to simulate multiple scoring requests.\n",
    "\n",
    "promptRequestPiece = PromptRequestPiece(\n",
    "    role=\"assistant\",\n",
    "    original_value=\"The quick brown fox jumps over the lazy dog.\",\n",
    "    prompt_target_identifier=\"MockTarget\",\n",
    "    conversation_id=\"MockConversation\"\n",
    ")\n",
    "\n",
    "result = await scorer.score_async(promptRequestPiece)\n",
    "print(result)"
   ]
  },
  {
   "cell_type": "code",
   "execution_count": 3,
   "id": "d11820d9",
   "metadata": {
    "execution": {
     "iopub.execute_input": "2025-03-04T21:42:55.166876Z",
     "iopub.status.busy": "2025-03-04T21:42:55.165849Z",
     "iopub.status.idle": "2025-03-04T21:42:55.891138Z",
     "shell.execute_reply": "2025-03-04T21:42:55.891138Z"
    }
   },
   "outputs": [],
   "source": [
    "scorer.__del__()\n",
    "memory.dispose_engine()"
   ]
  }
 ],
 "metadata": {
  "jupytext": {
   "cell_metadata_filter": "-all"
  },
  "kernelspec": {
   "display_name": "test",
   "language": "python",
   "name": "test"
  },
  "language_info": {
   "codemirror_mode": {
    "name": "ipython",
    "version": 3
   },
   "file_extension": ".py",
   "mimetype": "text/x-python",
   "name": "python",
   "nbconvert_exporter": "python",
   "pygments_lexer": "ipython3",
   "version": "3.12.9"
  }
 },
 "nbformat": 4,
 "nbformat_minor": 5
}
