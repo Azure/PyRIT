{
 "cells": [
  {
   "cell_type": "markdown",
   "id": "92c09c14",
   "metadata": {},
   "source": [
    "# Human in the Loop Scoring with Gradio\n",
    "This example shows how to use the Gradio UI to perform human-in-the-loop scoring."
   ]
  },
  {
   "cell_type": "code",
   "execution_count": 1,
   "id": "fe6554ae",
   "metadata": {
    "execution": {
     "iopub.execute_input": "2025-03-06T15:54:13.629020Z",
     "iopub.status.busy": "2025-03-06T15:54:13.629020Z",
     "iopub.status.idle": "2025-03-06T15:54:24.735613Z",
     "shell.execute_reply": "2025-03-06T15:54:24.734596Z"
    }
   },
   "outputs": [
    {
     "name": "stderr",
     "output_type": "stream",
     "text": [
      "None of PyTorch, TensorFlow >= 2.0, or Flax have been found. Models won't be available and only tokenizers, configuration and file/data utilities can be used.\n"
     ]
    }
   ],
   "source": [
    "import uuid\n",
    "\n",
    "from pyrit.common import IN_MEMORY, initialize_pyrit\n",
    "from pyrit.memory import CentralMemory\n",
    "from pyrit.models import PromptRequestPiece\n",
    "from pyrit.score import HumanInTheLoopScorerGradio\n",
    "\n",
    "initialize_pyrit(memory_db_type=IN_MEMORY)\n",
    "memory = CentralMemory.get_memory_instance()\n",
    "# This will start the Gradio UI and can only be created once per notebook. If you restart the kernel, run this cell again.\n",
    "scorer = HumanInTheLoopScorerGradio() "
   ]
  },
  {
   "cell_type": "code",
   "execution_count": 2,
   "id": "354aab5a",
   "metadata": {
    "execution": {
     "iopub.execute_input": "2025-03-06T15:54:24.737620Z",
     "iopub.status.busy": "2025-03-06T15:54:24.737620Z",
     "iopub.status.idle": "2025-03-06T15:55:12.867875Z",
     "shell.execute_reply": "2025-03-06T15:55:12.867335Z"
    }
   },
   "outputs": [
    {
     "name": "stdout",
     "output_type": "stream",
     "text": [
      "Gradio manually scored response is given as: HumanInTheLoopScorerGradio: safety: True The prompt was marked safe\n"
     ]
    }
   ],
   "source": [
    "# This cell can be run multiple times to simulate multiple scoring requests.\n",
    "prompt = PromptRequestPiece(\n",
    "    role=\"assistant\",\n",
    "    original_value=\"The quick brown fox jumps over the lazy dog.\",\n",
    ")\n",
    "memory.add_request_pieces_to_memory(request_pieces=[prompt])\n",
    "\n",
    "scored_response = (await scorer.score_async(prompt))[0]\n",
    "print(\"Gradio manually scored response is given as:\", scored_response, scored_response.score_rationale)"
   ]
  },
  {
   "cell_type": "code",
   "execution_count": 3,
   "id": "a044fc47",
   "metadata": {
    "execution": {
     "iopub.execute_input": "2025-03-06T15:55:12.936166Z",
     "iopub.status.busy": "2025-03-06T15:55:12.936166Z",
     "iopub.status.idle": "2025-03-06T15:55:13.772312Z",
     "shell.execute_reply": "2025-03-06T15:55:13.771778Z"
    }
   },
   "outputs": [],
   "source": [
    "scorer.__del__()\n",
    "memory.dispose_engine()"
   ]
  }
 ],
 "metadata": {
  "jupytext": {
   "cell_metadata_filter": "-all"
  },
  "kernelspec": {
   "display_name": "test",
   "language": "python",
   "name": "test"
  },
  "language_info": {
   "codemirror_mode": {
    "name": "ipython",
    "version": 3
   },
   "file_extension": ".py",
   "mimetype": "text/x-python",
   "name": "python",
   "nbconvert_exporter": "python",
   "pygments_lexer": "ipython3",
   "version": "3.12.9"
  }
 },
 "nbformat": 4,
 "nbformat_minor": 5
}
