{
 "cells": [
  {
   "cell_type": "markdown",
   "id": "0",
   "metadata": {},
   "source": [
    "# Human in the Loop Scoring with Gradio\n",
    "This example shows how to use the Gradio UI to perform human-in-the-loop scoring."
   ]
  },
  {
   "cell_type": "code",
   "execution_count": null,
   "id": "1",
   "metadata": {},
   "outputs": [],
   "source": [
    "from pyrit.common import IN_MEMORY, initialize_pyrit\n",
    "from pyrit.memory import CentralMemory\n",
    "from pyrit.models import PromptRequestPiece\n",
    "from pyrit.score import HumanInTheLoopScorerGradio\n",
    "\n",
    "initialize_pyrit(memory_db_type=IN_MEMORY)\n",
    "memory = CentralMemory.get_memory_instance()\n",
    "# This will start the Gradio UI and can only be created once per notebook. If you restart the kernel, run this cell again.\n",
    "scorer = HumanInTheLoopScorerGradio() "
   ]
  },
  {
   "cell_type": "code",
   "execution_count": null,
   "id": "2",
   "metadata": {},
   "outputs": [
    {
     "name": "stdout",
     "output_type": "stream",
     "text": [
      "Gradio manually scored response is given as: HumanInTheLoopScorerGradio: safety: True The prompt was marked safe\n"
     ]
    }
   ],
   "source": [
    "# This cell can be run multiple times to simulate multiple scoring requests.\n",
    "prompt = PromptRequestPiece(\n",
    "    role=\"assistant\",\n",
    "    original_value=\"The quick brown fox jumps over the lazy dog.\",\n",
    ")\n",
    "memory.add_request_pieces_to_memory(request_pieces=[prompt])\n",
    "\n",
    "scored_response = (await scorer.score_async(prompt))[0]  # type: ignore\n",
    "print(\"Gradio manually scored response is given as:\", scored_response, scored_response.score_rationale)"
   ]
  },
  {
   "cell_type": "code",
   "execution_count": null,
   "id": "3",
   "metadata": {},
   "outputs": [],
   "source": [
    "scorer.__del__()\n",
    "memory.dispose_engine()"
   ]
  }
 ],
 "metadata": {
  "jupytext": {
   "cell_metadata_filter": "-all"
  },
  "language_info": {
   "codemirror_mode": {
    "name": "ipython",
    "version": 3
   },
   "file_extension": ".py",
   "mimetype": "text/x-python",
   "name": "python",
   "nbconvert_exporter": "python",
   "pygments_lexer": "ipython3",
   "version": "3.13.2"
  }
 },
 "nbformat": 4,
 "nbformat_minor": 5
}
