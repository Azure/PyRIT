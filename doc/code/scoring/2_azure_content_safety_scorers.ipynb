{
 "cells": [
  {
   "cell_type": "markdown",
   "id": "9868c425",
   "metadata": {},
   "source": [
    "\n",
    "## Float Scale Scoring using Azure Content Safety API\n",
    "\n",
    "The Azure Content Safety API is one of our most reliable scorers for detecting harms. Although it isn't very flexible, it's extremely fast and reliable and can be used to score images or text.\n",
    "\n",
    "In order to use this API, you need to configure a few environment variables:\n",
    "\n",
    "- AZURE_CONTENT_SAFETY_API_ENDPOINT: The endpoint for the Azure Content Safety API\n",
    "- AZURE_CONTENT_SAFETY_API_KEY: The API key for the Azure Content Safety API\n",
    "\n",
    "Note that this api returns a value between 0 and 7. This is different from likert scales, which return a value between 1 and 5. Because both are `float_scale` scores, these values are all normalized to floating point values between 0.0 and 1.0 and can be directly compared. This is sometimes interesting as an operator e.g. if there are scenarios where a `SelfAskLikertScorer` and `AzureContentFilterScorer` produce very different values.\n",
    "\n",
    "Before you begin, ensure you are setup with the correct version of PyRIT installed and have secrets configured as described [here](../../setup/)."
   ]
  },
  {
   "cell_type": "code",
   "execution_count": 1,
   "id": "5adb7d1d",
   "metadata": {
    "execution": {
     "iopub.execute_input": "2024-06-06T18:25:17.882704Z",
     "iopub.status.busy": "2024-06-06T18:25:17.882704Z",
     "iopub.status.idle": "2024-06-06T18:25:23.864123Z",
     "shell.execute_reply": "2024-06-06T18:25:23.864123Z"
    },
    "lines_to_next_cell": 2
   },
   "outputs": [
    {
     "name": "stdout",
     "output_type": "stream",
     "text": [
      "AzureContentFilterScorer: Hate: 0.2857142857142857\n",
      "AzureContentFilterScorer: SelfHarm: 0.0\n",
      "AzureContentFilterScorer: Sexual: 0.0\n",
      "AzureContentFilterScorer: Violence: 0.0\n"
     ]
    }
   ],
   "source": [
    "import os\n",
    "from pyrit.score import AzureContentFilterScorer\n",
    "from pyrit.common import default_values\n",
    "from pyrit.models import PromptRequestPiece, PromptRequestResponse\n",
    "from pyrit.memory import DuckDBMemory\n",
    "\n",
    "\n",
    "default_values.load_default_env()\n",
    "memory = DuckDBMemory()\n",
    "\n",
    "# Set up the Azure Content Filter\n",
    "azure_content_filter = AzureContentFilterScorer(\n",
    "    api_key=os.environ.get(\"AZURE_CONTENT_SAFETY_API_KEY\"),\n",
    "    endpoint=os.environ.get(\"AZURE_CONTENT_SAFETY_API_ENDPOINT\"),\n",
    "    memory=memory,\n",
    ")\n",
    "\n",
    "response = PromptRequestPiece(\n",
    "    role=\"assistant\",\n",
    "    original_value_data_type=\"text\",\n",
    "    original_value=\"I hate you.\",\n",
    ")\n",
    "\n",
    "# need to write it manually to memory as score table has a foreign key constraint\n",
    "memory.add_request_response_to_memory(request=PromptRequestResponse([response]))\n",
    "\n",
    "scores = await azure_content_filter.score_async(response)  # type: ignore\n",
    "assert azure_content_filter.get_azure_severity(scores[0].get_value()) > 1  # should be value 2 base on the documentation\n",
    "\n",
    "for score in scores:\n",
    "    print(score)"
   ]
  }
 ],
 "metadata": {
  "jupytext": {
   "cell_metadata_filter": "-all"
  },
  "kernelspec": {
   "display_name": "pyrit-dev",
   "language": "python",
   "name": "python3"
  },
  "language_info": {
   "codemirror_mode": {
    "name": "ipython",
    "version": 3
   },
   "file_extension": ".py",
   "mimetype": "text/x-python",
   "name": "python",
   "nbconvert_exporter": "python",
   "pygments_lexer": "ipython3",
   "version": "3.11.9"
  }
 },
 "nbformat": 4,
 "nbformat_minor": 5
}
