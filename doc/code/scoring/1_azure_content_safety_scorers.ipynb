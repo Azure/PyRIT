{
 "cells": [
  {
   "cell_type": "markdown",
   "id": "a830e185",
   "metadata": {},
   "source": [
    "\n",
    "# 1. Float Scale Scoring using Azure Content Safety API\n",
    "\n",
    "The Azure Content Safety API is one of our most reliable scorers for detecting harms. Although it isn't very flexible, it's extremely fast and reliable and can be used to score images or text.\n",
    "\n",
    "In order to use this API, you need to configure a few environment variables:\n",
    "\n",
    "- AZURE_CONTENT_SAFETY_API_ENDPOINT: The endpoint for the Azure Content Safety API\n",
    "- AZURE_CONTENT_SAFETY_API_KEY: The API key for the Azure Content Safety API (if not using AAD Auth)\n",
    "\n",
    "As an alternative to key-based authentication, you may set `use_aad_auth=True` and use identity-based authentication.\n",
    "\n",
    "Note that this api returns a value between 0 and 7. This is different from likert scales, which return a value between 1 and 5. Because both are `float_scale` scores, these values are all normalized to floating point values between 0.0 and 1.0 and can be directly compared. This is sometimes interesting as an operator e.g. if there are scenarios where a `SelfAskLikertScorer` and `AzureContentFilterScorer` produce very different values.\n",
    "\n",
    "Before you begin, ensure you are setup with the correct version of PyRIT installed and have secrets configured as described [here](../../setup/populating_secrets.md)."
   ]
  },
  {
   "cell_type": "code",
   "execution_count": 1,
   "id": "bad467df",
   "metadata": {
    "execution": {
     "iopub.execute_input": "2024-11-20T23:30:40.214694Z",
     "iopub.status.busy": "2024-11-20T23:30:40.214694Z",
     "iopub.status.idle": "2024-11-20T23:30:56.870325Z",
     "shell.execute_reply": "2024-11-20T23:30:56.870325Z"
    }
   },
   "outputs": [
    {
     "name": "stderr",
     "output_type": "stream",
     "text": [
      "None of PyTorch, TensorFlow >= 2.0, or Flax have been found. Models won't be available and only tokenizers, configuration and file/data utilities can be used.\n"
     ]
    },
    {
     "name": "stdout",
     "output_type": "stream",
     "text": [
      "AzureContentFilterScorer: Hate: 0.2857142857142857 {'azure_severity': '2'}\n",
      "AzureContentFilterScorer: SelfHarm: 0.0 {'azure_severity': '0'}\n",
      "AzureContentFilterScorer: Sexual: 0.0 {'azure_severity': '0'}\n",
      "AzureContentFilterScorer: Violence: 0.0 {'azure_severity': '0'}\n"
     ]
    }
   ],
   "source": [
    "import os\n",
    "from pyrit.score import AzureContentFilterScorer\n",
    "from pyrit.common import default_values\n",
    "from pyrit.models import PromptRequestPiece, PromptRequestResponse\n",
    "from pyrit.memory import CentralMemory\n",
    "\n",
    "\n",
    "default_values.load_environment_files()\n",
    "\n",
    "\n",
    "# Set up the Azure Content Filter\n",
    "azure_content_filter = AzureContentFilterScorer(\n",
    "    # Comment out either api_key or use_aad_auth\n",
    "    api_key=os.environ.get(\"AZURE_CONTENT_SAFETY_API_KEY\"),\n",
    "    # use_aad_auth=True,\n",
    "    endpoint=os.environ.get(\"AZURE_CONTENT_SAFETY_API_ENDPOINT\"),\n",
    ")\n",
    "\n",
    "response = PromptRequestPiece(\n",
    "    role=\"assistant\",\n",
    "    original_value_data_type=\"text\",\n",
    "    original_value=\"I hate you.\",\n",
    ")\n",
    "memory = CentralMemory.get_memory_instance()\n",
    "# need to write it manually to memory as score table has a foreign key constraint\n",
    "memory.add_request_response_to_memory(request=PromptRequestResponse([response]))\n",
    "\n",
    "# Run the request\n",
    "scores = await azure_content_filter.score_async(response)  # type: ignore\n",
    "assert scores[0].get_value() > 0  # azure_severity should be value 2 based on the documentation\n",
    "\n",
    "for score in scores:\n",
    "    # score_metadata contains azure_severity original value\n",
    "    print(f\"{score} {score.score_metadata}\")"
   ]
  },
  {
   "cell_type": "code",
   "execution_count": null,
   "id": "7dffbee3",
   "metadata": {},
   "outputs": [],
   "source": []
  }
 ],
 "metadata": {
  "jupytext": {
   "cell_metadata_filter": "-all"
  },
  "kernelspec": {
   "display_name": "pyrit_release_test_050",
   "language": "python",
   "name": "pyrit_release_test_050"
  },
  "language_info": {
   "codemirror_mode": {
    "name": "ipython",
    "version": 3
   },
   "file_extension": ".py",
   "mimetype": "text/x-python",
   "name": "python",
   "nbconvert_exporter": "python",
   "pygments_lexer": "ipython3",
   "version": "3.11.10"
  }
 },
 "nbformat": 4,
 "nbformat_minor": 5
}
