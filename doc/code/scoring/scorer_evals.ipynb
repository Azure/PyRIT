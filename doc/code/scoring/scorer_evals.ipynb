{
 "cells": [
  {
   "cell_type": "markdown",
   "id": "0",
   "metadata": {},
   "source": [
    "# Scorer Evaluations - optional\n",
    "You may want to run evaluations on PyRIT scorers to see how their scores align with human assessment. This notebook demonstrates how to do that using a dataset of sample assistant responses and associated human labels. There are two types of scorer evaluations: those for `objective` datasets and those for `harm` datasets. Scoring for whether a response has achieved an objective is based on a true/false basis while scoring for harmfulness of a response (given a certain harm category) is based on a float scale (0.0 to 1.0 where 0.0 is minimal severity and 1.0 is maximal), often on a Likert basis. Metrics produced for `harm` scoring evaluation include mean absolute error, one-sample t-test statistics, and Krippendorff's alpha (for interrater agreement) while metrics produced for `objective` scoring evaluation include accuracy, F1 score, precision, and recall. More detailed information on each of the metrics can be found in the `scorer_evaluator` module [here](../../../pyrit/score/scorer_evaluation/scorer_evaluator.py).\n",
    "\n",
    "To actually run the evaluation in PyRIT, you need a `HumanLabeledDataset` object or a CSV file that includes columns of assistant responses, harm category or objectives (depending on the type of dataset you have), and human scores. You can then instantiate a PyRIT `Scorer` that you want to evaluate and pass it into a `HarmScorerEvaluator` or `ObjectiveScorerEvaluator` (which are subclasses of `ScorerEvaluator`). A `ScorerEvaluator` is responsible for running the end-to-end evaluation, and you can modify the number of model scoring trials as you see fit for your experiment. Note that for now, datasets with mixed harm categories cannot be used for evaluation, while datasets with mixed objectives can.\n",
    "\n",
    "You can also retrieve metrics from a specific evaluation or from an evaluation that was previously saved using the `get_scorer_metrics` method and passing in the name of the dataset (`dataset_name`) that the evaluation was run on."
   ]
  },
  {
   "cell_type": "markdown",
   "id": "1",
   "metadata": {},
   "source": [
    "## Running Harm Scorer Evaluation\n",
    "The following cell demonstrates how to run a custom harm scoring evaluation on a `Scorer` using a dataset of LLM assistant responses and human labels stored as a CSV file. In the following example, we use a small sample `hate_speech` dataset of assistant responses and human scores and run a harm evaluation using `SelfAskLikertScorer` with a Likert scale for hate speech. Sample datasets and saved metrics can be found in the `datasets/score/scorer_evals` directory."
   ]
  },
  {
   "cell_type": "code",
   "execution_count": null,
   "id": "2",
   "metadata": {},
   "outputs": [
    {
     "data": {
      "text/plain": [
       "{'mean_absolute_error': 0.13333333333333336,\n",
       " 'mae_standard_error': 0.02698879511442471,\n",
       " 't_statistic': -1.601525989855677,\n",
       " 'p_value': 0.13157664302040678,\n",
       " 'krippendorff_alpha_combined': 0.6717414657833121,\n",
       " 'krippendorff_alpha_humans': 0.6594786524638434,\n",
       " 'krippendorff_alpha_model': None}"
      ]
     },
     "execution_count": null,
     "metadata": {},
     "output_type": "execute_result"
    }
   ],
   "source": [
    "from dataclasses import asdict\n",
    "\n",
    "from pyrit.common import IN_MEMORY, initialize_pyrit\n",
    "from pyrit.common.path import SCORER_EVALS_HARM_PATH\n",
    "from pyrit.prompt_target import OpenAIChatTarget\n",
    "from pyrit.score import (\n",
    "    LikertScalePaths,\n",
    "    MetricsType,\n",
    "    ScorerEvaluator,\n",
    "    SelfAskLikertScorer,\n",
    ")\n",
    "\n",
    "initialize_pyrit(memory_db_type=IN_MEMORY)\n",
    "\n",
    "target = OpenAIChatTarget()\n",
    "likert_scorer = SelfAskLikertScorer(chat_target=target, likert_scale_path=LikertScalePaths.HATE_SPEECH_SCALE.value)\n",
    "\n",
    "# factory method that creates an HarmScorerEvaluator in this case since metrics_type is HARM.\n",
    "evaluator = ScorerEvaluator.from_scorer(scorer=likert_scorer, metrics_type=MetricsType.HARM)\n",
    "csv_path = f\"{str(SCORER_EVALS_HARM_PATH)}/SAMPLE_hate_speech.csv\"\n",
    "# Uncomment the line below to use the full dataset of approx 200 entries\n",
    "# csv_path = f\"{str(SCORER_EVALS_HARM_PATH)}/hate_speech.csv\"\n",
    "\n",
    "# The dataset_name defaults to \"SAMPLE_hate_speech\" but can be manually set to any string. Each response is graded once by the scorer.\n",
    "metrics = await evaluator.run_evaluation_from_csv_async( #type:ignore\n",
    "    csv_path=csv_path, \n",
    "    assistant_response_col_name=\"assistant_response\", \n",
    "    human_label_col_names=[\"human_score_1\", \"human_score_2\", \"human_score_3\"], \n",
    "    objective_or_harm_col_name= \"category\", \n",
    "    num_scorer_trials=1,\n",
    ")\n",
    "\n",
    "# Metrics are saved to datasets/score/scorer_evals/harm/SAMPLE_hate_speech_SelfAskLikertScorer_metrics.json\n",
    "# Results from the model scoring trials are saved to datasets/score/scorer_evals/harm/SAMPLE_hate_speech_SelfAskLikertScorer_scoring_results.csv\n",
    "asdict(metrics)"
   ]
  },
  {
   "cell_type": "markdown",
   "id": "3",
   "metadata": {},
   "source": [
    "## Retrieving Metrics\n",
    "You can retrieve the metrics from the above evaluation by calling the `get_scorer_metrics` from the `ScorerEvaluator` class or directly from the `Scorer` class and passing in the `dataset_name` (which in this case is `SAMPLE_hate_speech`). This will throw an error if evaluation has not yet been run on that dataset. "
   ]
  },
  {
   "cell_type": "code",
   "execution_count": null,
   "id": "4",
   "metadata": {},
   "outputs": [
    {
     "data": {
      "text/plain": [
       "HarmScorerMetrics(mean_absolute_error=0.13333333333333336, mae_standard_error=0.02698879511442471, t_statistic=-1.601525989855677, p_value=0.13157664302040678, krippendorff_alpha_combined=0.6717414657833121, krippendorff_alpha_humans=0.6594786524638434, krippendorff_alpha_model=None)"
      ]
     },
     "execution_count": null,
     "metadata": {},
     "output_type": "execute_result"
    }
   ],
   "source": [
    "# Either work for fetching the hate_speech metrics\n",
    "evaluator.get_scorer_metrics(dataset_name = \"SAMPLE_hate_speech\")\n",
    "likert_scorer.get_scorer_metrics(dataset_name = \"SAMPLE_hate_speech\", metrics_type=MetricsType.HARM)\n",
    "\n",
    "# Retrieve metrics for the full hate_speech dataset that have already been computed and saved by the PyRIT team.\n",
    "# full_metrics = likert_scorer.get_scorer_metrics(dataset_name=\"hate_speech\")"
   ]
  },
  {
   "cell_type": "markdown",
   "id": "5",
   "metadata": {},
   "source": [
    "## Running Objective Scorer Evaluation\n",
    "The following cell demonstrates how to run a custom objective evaluation on a `Scorer` using a dataset of LLM assistant responses and human labels stored as a CSV file. This is much like the previous example except we use the `SelfAskRefusalScorer` that simply determines whether the model response was or was not a refusal."
   ]
  },
  {
   "cell_type": "code",
   "execution_count": null,
   "id": "6",
   "metadata": {},
   "outputs": [
    {
     "data": {
      "text/plain": [
       "ObjectiveScorerMetrics(accuracy=1.0, accuracy_standard_error=0.0, f1_score=1.0, precision=1.0, recall=1.0)"
      ]
     },
     "execution_count": null,
     "metadata": {},
     "output_type": "execute_result"
    }
   ],
   "source": [
    "from pyrit.common.path import SCORER_EVALS_OBJECTIVE_PATH\n",
    "from pyrit.score import SelfAskRefusalScorer\n",
    "\n",
    "target = OpenAIChatTarget()\n",
    "refusal_scorer = SelfAskRefusalScorer(chat_target=target)\n",
    "\n",
    "# factory method that creates an ObjectiveScorerEvaluator in this case because the refusal scorer is a true/false scorer.\n",
    "evaluator = ScorerEvaluator.from_scorer(scorer=refusal_scorer)\n",
    "csv_path = f\"{str(SCORER_EVALS_OBJECTIVE_PATH)}/SAMPLE_mixed_objective_refusal.csv\"\n",
    "# Uncomment the line below to use the full dataset of approx 200 entries\n",
    "# csv_path = f\"{str(SCORER_EVALS_OBJECTIVE_PATH)}/mixed_objective_refusal.csv\"\n",
    "\n",
    "# assistant_response_data_type_col_name is optional and can be used to specify the type of data for each response in the assistant response column.\n",
    "metrics = await evaluator.run_evaluation_from_csv_async( #type:ignore\n",
    "    csv_path=csv_path, \n",
    "    assistant_response_col_name=\"assistant_response\", \n",
    "    human_label_col_names=[\"human_score\"], \n",
    "    objective_or_harm_col_name= \"objective\",\n",
    "    assistant_response_data_type_col_name=\"data_type\", \n",
    "    num_scorer_trials=1,\n",
    ")\n",
    "\n",
    "refusal_scorer.get_scorer_metrics(dataset_name=\"SAMPLE_mixed_objective_refusal\")\n",
    "\n",
    "# Retrieve metrics for the full refusal scorer dataset that have already been computed and saved by the PyRIT team.\n",
    "# full_metrics = likert_scorer.get_scorer_metrics(dataset_name=\"mixed_objective_refusal\")"
   ]
  }
 ],
 "metadata": {
  "language_info": {
   "codemirror_mode": {
    "name": "ipython",
    "version": 3
   },
   "file_extension": ".py",
   "mimetype": "text/x-python",
   "name": "python",
   "nbconvert_exporter": "python",
   "pygments_lexer": "ipython3",
   "version": "3.11.9"
  }
 },
 "nbformat": 4,
 "nbformat_minor": 5
}
