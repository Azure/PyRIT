{
 "cells": [
  {
   "cell_type": "markdown",
   "id": "0",
   "metadata": {},
   "source": [
    "# Scorer Evaluations\n",
    "This notebook demonstrates how to retrieve metrics for a Scorer, as well as how to run evaluations on a Scorer using a dataset of sample assistant responses and manual human scores. For now, this is only implemented for the `SelfAskLikertScorer`, specifically for the `hate_speech` and `violence` scales."
   ]
  },
  {
   "cell_type": "markdown",
   "id": "1",
   "metadata": {},
   "source": [
    "## Retrieving metrics for a Scorer\n",
    "The following cell demonstrates how to retrieve baseline metrics for the `SelfAskLikertScorer` across all the scales that have been tested so far. These metrics were calculated based on datasets of prompts generated and manually scored by the AI Red Team. The manual scores--and thus the metrics--may **not** be reflective of general consensus of harmfulness. "
   ]
  },
  {
   "cell_type": "code",
   "execution_count": null,
   "id": "2",
   "metadata": {},
   "outputs": [
    {
     "data": {
      "text/plain": [
       "{'hate_speech_scale': {'MAE': 0.12562814070351758,\n",
       "  'MAE_std_error': 0.00981847029449602,\n",
       "  't-statistic': -0.0630240848157159,\n",
       "  'p-value': 0.9498109030855229,\n",
       "  'Krippendorff Alpha': 0.8656743636318163},\n",
       " 'violence_scale': {'MAE': 0.31016042780748665,\n",
       "  'MAE_std_error': 0.01884104751573751,\n",
       "  't-statistic': 3.1561422442080946,\n",
       "  'p-value': 0.0018651625877011875,\n",
       "  'Krippendorff Alpha': 0.5781719648283798}}"
      ]
     },
     "execution_count": null,
     "metadata": {},
     "output_type": "execute_result"
    }
   ],
   "source": [
    "import json\n",
    "\n",
    "from pyrit.common import IN_MEMORY, initialize_pyrit\n",
    "from pyrit.score import SelfAskLikertScorer\n",
    "\n",
    "initialize_pyrit(memory_db_type=IN_MEMORY)\n",
    "\n",
    "# Class method that returns a JSON string with the evaluation metrics across all scales tested so far\n",
    "metrics = SelfAskLikertScorer.eval_stats_to_json()\n",
    "\n",
    "# Calling this method on a scorer that doesn't have evaluation metrics yet will raise a ValueError\n",
    "# metrics = SelfAskScaleScorer.eval_stats_to_json()\n",
    "\n",
    "# Load metrics as a Python dict: includes mean absolute error (MAE), standard error of MAE, t-statistic and p-value (from 1-sample t-test using \n",
    "# model scores - human scores), and Krippendorff's Alpha for inter-rater reliability across all model and human scores\n",
    "metrics_dict = json.loads(metrics)\n",
    "\n",
    "metrics_dict"
   ]
  },
  {
   "cell_type": "markdown",
   "id": "3",
   "metadata": {},
   "source": [
    "## Running evaluation on a Scorer\n",
    "The following cell demonstrates how to run a custom evaluation on a `Scorer` using a dataset of LLM assistant responses and human-labeled scores. Use a `ScorerEvalConfig` object to configure your evaluation. In the following example, we use a small sample `hate_speech` dataset of assistant responses and human scores to demonstrate configuration and running of the evaluation on the `SelfAskLikertScorer` using the PyRIT `HATE_SPEECH_SCALE`."
   ]
  },
  {
   "cell_type": "code",
   "execution_count": null,
   "id": "4",
   "metadata": {},
   "outputs": [
    {
     "data": {
      "text/plain": [
       "{'MAE': 0.16111111111111112,\n",
       " 'MAE_std_error': 0.03188198402467754,\n",
       " 't-statistic': -0.9509501669886251,\n",
       " 'p-value': 0.3577591133678295,\n",
       " 'Krippendorff Alpha': 0.6619892553350246}"
      ]
     },
     "execution_count": null,
     "metadata": {},
     "output_type": "execute_result"
    }
   ],
   "source": [
    "import json\n",
    "import pathlib\n",
    "\n",
    "from pyrit.common.path import (\n",
    "    SCORER_EVALS_PATH,\n",
    "    SCORER_EVALS_RESULTS_METRICS_PATH,\n",
    "    SCORER_EVALS_RESULTS_SCORES_CSV_PATH,\n",
    ")\n",
    "from pyrit.prompt_target import OpenAIChatTarget\n",
    "from pyrit.score import LikertScalePaths, ScorerEvalConfig, SelfAskLikertScorer\n",
    "\n",
    "target = OpenAIChatTarget()\n",
    "likert_scorer = SelfAskLikertScorer(chat_target=target, likert_scale_path=LikertScalePaths.HATE_SPEECH_SCALE.value)\n",
    "\n",
    "# ScorerEvalConfig object can either be manually instantiated or loaded from a yaml file.\n",
    "config_path = pathlib.Path(SCORER_EVALS_PATH, \"eval_configs\", \"sample_config_likert_hate.yaml\").resolve()\n",
    "config = ScorerEvalConfig.from_yaml_file(config_path)\n",
    "\n",
    "# The below code is equivalent to the above but manually instantiates the ScorerEvalConfig object.\n",
    "config = ScorerEvalConfig(\n",
    "    csv_path = f\"{str(SCORER_EVALS_PATH)}/eval_datasets/likert_hate_speech_sample_dataset.csv\",\n",
    "    assistant_response_col_name=\"assistant_response\",\n",
    "    manual_grading_col_names=[\"human_likert_score_1\", \"human_likert_score_2\", \"human_likert_score_3\"],\n",
    "    normalized=False,\n",
    "    scorer_trials=1,\n",
    "    tasks_col_name=None,\n",
    "    json_output_save_dir=str(SCORER_EVALS_RESULTS_METRICS_PATH),\n",
    "    csv_scores_save_dir=str(SCORER_EVALS_RESULTS_SCORES_CSV_PATH),\n",
    ")\n",
    "# When the evaluation is run, the metrics as a JSON file and Scorer scores as a .csv file are saved inside the scorer_evals_results \n",
    "# directory by default. This directory is created if it doesn't exist.\n",
    "score_dict = await likert_scorer.run_evaluation(config = config) # type: ignore\n",
    "\n",
    "# Load the metrics as a Python dict\n",
    "json.loads(score_dict)"
   ]
  }
 ],
 "metadata": {
  "language_info": {
   "codemirror_mode": {
    "name": "ipython",
    "version": 3
   },
   "file_extension": ".py",
   "mimetype": "text/x-python",
   "name": "python",
   "nbconvert_exporter": "python",
   "pygments_lexer": "ipython3",
   "version": "3.11.9"
  }
 },
 "nbformat": 4,
 "nbformat_minor": 5
}
