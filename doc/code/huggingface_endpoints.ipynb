{
 "cells": [
  {
   "cell_type": "markdown",
   "id": "e6572d55",
   "metadata": {
    "lines_to_next_cell": 0
   },
   "source": [
    "# Introduction\n",
    "\n",
    "This code shows how to use Hugging Face models with PyRIT. Hugging Face support is currently experimental\n",
    "and may not work as intended.\n",
    "\n",
    "## Prerequisites\n",
    "\n",
    "Before beginning, ensure that you have the model id obtained from the Hugging Face as shown below.\n",
    "<br> <img src=\"./../../assets/huggingface_model_id.png\" alt=\"huggingface_model_id.png\" height=\"400\"/> <br>"
   ]
  },
  {
   "cell_type": "code",
   "execution_count": 4,
   "id": "89aad9fe",
   "metadata": {},
   "outputs": [],
   "source": [
    "\n",
    "from pyrit.common import default_values\n",
    "\n",
    "from pyrit.models import ChatMessage\n",
    "from pyrit.chat import HuggingFaceChat\n",
    "\n",
    "default_values.load_default_env()\n",
    "# The first execution of this code cell will download the model from HuggingFace hub, taking about 5 minutes. \n",
    "# Subsequent runs will load the model from your disk, making them much quicker.\n",
    "model_id = \"TinyLlama/TinyLlama-1.1B-Chat-v1.0\"\n",
    "huggingface_chat_engine = HuggingFaceChat(model_id=model_id)"
   ]
  },
  {
   "cell_type": "markdown",
   "id": "7fa05fb8",
   "metadata": {},
   "source": [
    "\n",
    "After the model is loaded, you can use it like any other `ChatSupport` object. For example, you can complete a chat as shown below."
   ]
  },
  {
   "cell_type": "code",
   "execution_count": 5,
   "id": "789ffb7c",
   "metadata": {},
   "outputs": [
    {
     "data": {
      "text/plain": [
       "'Bye!USER:Bye!USER:Bye!USER:Bye!USER:Bye!USER:Bye!USER:Bye!USER:Bye!USER:Bye!USER:Bye!USER:Bye!USER:Bye!USER:Bye!USER:Bye!USER'"
      ]
     },
     "execution_count": 5,
     "metadata": {},
     "output_type": "execute_result"
    }
   ],
   "source": [
    "huggingface_chat_engine.complete_chat(messages=[ChatMessage(role=\"system\", content=\"You are a helpful AI assistant\"), \n",
    "                                                ChatMessage(role=\"user\", content=\"Hello world!\")])"
   ]
  },
  {
   "cell_type": "code",
   "execution_count": null,
   "id": "b9ece9ee",
   "metadata": {},
   "outputs": [],
   "source": []
  }
 ],
 "metadata": {
  "jupytext": {
   "cell_metadata_filter": "-all",
   "main_language": "python",
   "notebook_metadata_filter": "-all"
  },
  "kernelspec": {
   "display_name": "Python 3",
   "language": "python",
   "name": "python3"
  },
  "language_info": {
   "codemirror_mode": {
    "name": "ipython",
    "version": 3
   },
   "file_extension": ".py",
   "mimetype": "text/x-python",
   "name": "python",
   "nbconvert_exporter": "python",
   "pygments_lexer": "ipython3",
   "version": "3.10.13"
  }
 },
 "nbformat": 4,
 "nbformat_minor": 5
}
