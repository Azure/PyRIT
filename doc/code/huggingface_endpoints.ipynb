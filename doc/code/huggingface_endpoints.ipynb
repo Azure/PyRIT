{
 "cells": [
  {
   "cell_type": "markdown",
   "id": "e6572d55",
   "metadata": {
    "lines_to_next_cell": 0
   },
   "source": [
    "# Introduction\n",
    "\n",
    "This code shows how to use Hugging Face managed online endpoints with PyRIT. Hugging Face support is currently experimental\n",
    "and may not work as intended.\n",
    "\n",
    "## Prerequisites\n",
    "\n",
    "Before beginning, ensure that you have the model id obtained from the Hugging Face as shown below.\n",
    "<br> <img src=\"./../../assets/huggingface_model_id.png\" alt=\"huggingface_model_id.png\" height=\"400\"/> <br>\n",
    "\n",
    "After deploying a model and populating your env file, creating an endpoint is as simple as the following"
   ]
  },
  {
   "cell_type": "code",
   "execution_count": null,
   "id": "89aad9fe",
   "metadata": {},
   "outputs": [],
   "source": [
    "\n",
    "from pyrit.common import default_values\n",
    "\n",
    "from pyrit.models import ChatMessage\n",
    "from pyrit.chat import HuggingFaceChat\n",
    "\n",
    "\n",
    "default_values.load_default_env()\n",
    "\n",
    "model_id = \"Fredithefish/Guanaco-3B-Uncensored-v2\"\n",
    "huggingface_chat_engine = HuggingFaceChat(model_id=model_id)"
   ]
  },
  {
   "cell_type": "markdown",
   "id": "7fa05fb8",
   "metadata": {},
   "source": [
    "\n",
    "After the model is created, you can use it like any other `ChatSupport` object. For example, you can complete a chat as shown below."
   ]
  },
  {
   "cell_type": "code",
   "execution_count": null,
   "id": "789ffb7c",
   "metadata": {},
   "outputs": [],
   "source": [
    "huggingface_chat_engine.complete_chat(messages=[ChatMessage(role=\"user\", content=\"Hello world!\")])"
   ]
  }
 ],
 "metadata": {
  "jupytext": {
   "cell_metadata_filter": "-all",
   "main_language": "python",
   "notebook_metadata_filter": "-all"
  }
 },
 "nbformat": 4,
 "nbformat_minor": 5
}
