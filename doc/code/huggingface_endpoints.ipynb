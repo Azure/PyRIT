{
 "cells": [
  {
   "cell_type": "markdown",
   "id": "e6572d55",
   "metadata": {
    "lines_to_next_cell": 0
   },
   "source": [
    "# Introduction\n",
    "\n",
    "This code shows how to use Hugging Face managed online endpoints with PyRIT. Hugging Face support is currently experimental\n",
    "and may not work as intended.\n",
    "\n",
    "## Prerequisites\n",
    "\n",
    "Before beginning, ensure that you have the model id obtained from the Hugging Face as shown below.\n",
    "<br> <img src=\"./../../assets/huggingface_model_id.png\" alt=\"huggingface_model_id.png\" height=\"400\"/> <br>\n",
    "\n",
    "After deploying a model and populating your env file, creating an endpoint is as simple as the following"
   ]
  },
  {
   "cell_type": "code",
   "execution_count": 1,
   "id": "89aad9fe",
   "metadata": {},
   "outputs": [
    {
     "data": {
      "application/vnd.jupyter.widget-view+json": {
       "model_id": "2871a29c8cc04f50b59e7fd3f8347105",
       "version_major": 2,
       "version_minor": 0
      },
      "text/plain": [
       "tokenizer_config.json:   0%|          | 0.00/1.29k [00:00<?, ?B/s]"
      ]
     },
     "metadata": {},
     "output_type": "display_data"
    },
    {
     "name": "stderr",
     "output_type": "stream",
     "text": [
      "c:\\Users\\rdheekonda\\AppData\\Local\\anaconda3\\envs\\pyrit-dev\\lib\\site-packages\\huggingface_hub\\file_download.py:149: UserWarning: `huggingface_hub` cache-system uses symlinks by default to efficiently store duplicated files but your machine does not support them in C:\\Users\\rdheekonda\\.cache\\huggingface\\hub\\models--TinyLlama--TinyLlama-1.1B-Chat-v1.0. Caching files will still work but in a degraded version that might require more space on your disk. This warning can be disabled by setting the `HF_HUB_DISABLE_SYMLINKS_WARNING` environment variable. For more details, see https://huggingface.co/docs/huggingface_hub/how-to-cache#limitations.\n",
      "To support symlinks on Windows, you either need to activate Developer Mode or to run Python as an administrator. In order to see activate developer mode, see this article: https://docs.microsoft.com/en-us/windows/apps/get-started/enable-your-device-for-development\n",
      "  warnings.warn(message)\n"
     ]
    },
    {
     "data": {
      "application/vnd.jupyter.widget-view+json": {
       "model_id": "3593e2409a574348bcbebb0ccf9f2fb0",
       "version_major": 2,
       "version_minor": 0
      },
      "text/plain": [
       "tokenizer.model:   0%|          | 0.00/500k [00:00<?, ?B/s]"
      ]
     },
     "metadata": {},
     "output_type": "display_data"
    },
    {
     "data": {
      "application/vnd.jupyter.widget-view+json": {
       "model_id": "efedbd7ca94644a084d94df7a2df35b8",
       "version_major": 2,
       "version_minor": 0
      },
      "text/plain": [
       "tokenizer.json:   0%|          | 0.00/1.84M [00:00<?, ?B/s]"
      ]
     },
     "metadata": {},
     "output_type": "display_data"
    },
    {
     "data": {
      "application/vnd.jupyter.widget-view+json": {
       "model_id": "a646dd2714244134b55506bfc91c4737",
       "version_major": 2,
       "version_minor": 0
      },
      "text/plain": [
       "special_tokens_map.json:   0%|          | 0.00/551 [00:00<?, ?B/s]"
      ]
     },
     "metadata": {},
     "output_type": "display_data"
    },
    {
     "data": {
      "application/vnd.jupyter.widget-view+json": {
       "model_id": "6ce4a9ccbafb43378dc0747ad0390b3a",
       "version_major": 2,
       "version_minor": 0
      },
      "text/plain": [
       "config.json:   0%|          | 0.00/608 [00:00<?, ?B/s]"
      ]
     },
     "metadata": {},
     "output_type": "display_data"
    },
    {
     "data": {
      "application/vnd.jupyter.widget-view+json": {
       "model_id": "8ad1ee0421ef430cbbd1a2c617d2fdd7",
       "version_major": 2,
       "version_minor": 0
      },
      "text/plain": [
       "model.safetensors:   0%|          | 0.00/2.20G [00:00<?, ?B/s]"
      ]
     },
     "metadata": {},
     "output_type": "display_data"
    },
    {
     "data": {
      "application/vnd.jupyter.widget-view+json": {
       "model_id": "7ffdbbd6cd4348dbbc92c46aab4bd466",
       "version_major": 2,
       "version_minor": 0
      },
      "text/plain": [
       "generation_config.json:   0%|          | 0.00/124 [00:00<?, ?B/s]"
      ]
     },
     "metadata": {},
     "output_type": "display_data"
    }
   ],
   "source": [
    "\n",
    "from pyrit.common import default_values\n",
    "\n",
    "from pyrit.models import ChatMessage\n",
    "from pyrit.chat import HuggingFaceChat\n",
    "\n",
    "\n",
    "default_values.load_default_env()\n",
    "\n",
    "model_id = \"TinyLlama/TinyLlama-1.1B-Chat-v1.0\"\n",
    "huggingface_chat_engine = HuggingFaceChat(model_id=model_id)"
   ]
  },
  {
   "cell_type": "markdown",
   "id": "7fa05fb8",
   "metadata": {},
   "source": [
    "\n",
    "After the model is loaded, you can use it like any other `ChatSupport` object. For example, you can complete a chat as shown below."
   ]
  },
  {
   "cell_type": "code",
   "execution_count": 2,
   "id": "789ffb7c",
   "metadata": {},
   "outputs": [
    {
     "data": {
      "text/plain": [
       "'Bye!USER:Bye!USER:Bye!USER:Bye!USER:Bye!USER:Bye!USER:Bye!USER:Bye!USER:Bye!USER:Bye!USER:Bye!USER:Bye!USER:Bye!USER:Bye!USER'"
      ]
     },
     "execution_count": 2,
     "metadata": {},
     "output_type": "execute_result"
    }
   ],
   "source": [
    "huggingface_chat_engine.complete_chat(messages=[ChatMessage(role=\"system\", content=\"You are a helpful AI assistant\"), ChatMessage(role=\"user\", content=\"Hello world!\")])"
   ]
  },
  {
   "cell_type": "code",
   "execution_count": null,
   "id": "b9ece9ee",
   "metadata": {},
   "outputs": [],
   "source": []
  }
 ],
 "metadata": {
  "jupytext": {
   "cell_metadata_filter": "-all",
   "main_language": "python",
   "notebook_metadata_filter": "-all"
  },
  "kernelspec": {
   "display_name": "Python 3",
   "language": "python",
   "name": "python3"
  },
  "language_info": {
   "codemirror_mode": {
    "name": "ipython",
    "version": 3
   },
   "file_extension": ".py",
   "mimetype": "text/x-python",
   "name": "python",
   "nbconvert_exporter": "python",
   "pygments_lexer": "ipython3",
   "version": "3.10.13"
  }
 },
 "nbformat": 4,
 "nbformat_minor": 5
}
