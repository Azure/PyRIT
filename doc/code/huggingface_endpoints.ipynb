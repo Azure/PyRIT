{
 "cells": [
  {
   "cell_type": "markdown",
   "id": "3ca3f235",
   "metadata": {
    "lines_to_next_cell": 0
   },
   "source": [
    "# Introduction\n",
    "\n",
    "This code shows how to use PyRIT Huggingface managed online endpoints. Huggingface support is currently experimental\n",
    "and may not work as intended.\n",
    "\n",
    "## Prerequisites\n",
    "\n",
    "Before beginning, ensure that you have the model id obtained from the HuggingFace as shown below.\n",
    "<br> <img src=\"./../../assets/huggingface_model_id.png\" alt=\"huggingface_model_id.png\" height=\"400\"/> <br>\n",
    "\n",
    "After deploying a model and populating your env file, creating an endpointis as simple as the following"
   ]
  },
  {
   "cell_type": "code",
   "execution_count": null,
   "id": "76f43d2a",
   "metadata": {},
   "outputs": [],
   "source": [
    "\n",
    "from pyrit.common import default_values\n",
    "\n",
    "from pyrit.models import ChatMessage\n",
    "from pyrit.chat import  HuggingFaceChat\n",
    "\n",
    "\n",
    "default_values.load_default_env()\n",
    "\n",
    "model_id = \"Fredithefish/Guanaco-3B-Uncensored-v2\"\n",
    "huggingface_chat_engine = HuggingFaceChat(model_id=model_id)"
   ]
  },
  {
   "cell_type": "markdown",
   "id": "9c8ce660",
   "metadata": {},
   "source": [
    "\n",
    "After the model is created, you can use it like any other `ChatSupport` object. For example, you can complete a chat as shown below."
   ]
  },
  {
   "cell_type": "code",
   "execution_count": null,
   "id": "325823ff",
   "metadata": {},
   "outputs": [],
   "source": [
    "huggingface_chat_engine.complete_chat(messages=[ChatMessage(role=\"system\", content=\"Be a helpful assistant\"),\n",
    "                                                ChatMessage(role=\"user\", content=\"Hello world!\")])"
   ]
  }
 ],
 "metadata": {
  "jupytext": {
   "cell_metadata_filter": "-all",
   "main_language": "python",
   "notebook_metadata_filter": "-all"
  },
  "kernelspec": {
   "display_name": "pyrit-dev",
   "language": "python",
   "name": "python3"
  },
  "language_info": {
   "codemirror_mode": {
    "name": "ipython",
    "version": 3
   },
   "file_extension": ".py",
   "mimetype": "text/x-python",
   "name": "python",
   "nbconvert_exporter": "python",
   "pygments_lexer": "ipython3",
   "version": "3.10.13"
  }
 },
 "nbformat": 4,
 "nbformat_minor": 5
}
