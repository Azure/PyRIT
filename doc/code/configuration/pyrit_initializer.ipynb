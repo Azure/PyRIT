{
 "cells": [
  {
   "cell_type": "markdown",
   "id": "00940284",
   "metadata": {},
   "source": [
    "# PyRIT Initializers\n",
    "\n",
    "You can configure PyRIT using:\n",
    "1. **Built-in initializers** - SimpleInitializer, AIRTInitializer\n",
    "2. **External scripts** - Custom PyRITInitializer classes for project-specific needs\n",
    "\n",
    "## Execution Order\n",
    "\n",
    "When `initialize_pyrit` is called:\n",
    "1. Environment files are loaded (`.env`, `.env.local`)\n",
    "2. Memory database is configured\n",
    "3. All initializers are sorted by `execution_order` and executed\n",
    "\n",
    "## Creating an Initializer"
   ]
  },
  {
   "cell_type": "markdown",
   "id": "c89bb99f",
   "metadata": {},
   "source": [
    "The following is a minimal `PyRITInitializer` class. It doesn't need much! In this case, it sets the default value for temperature for all OpenAIChatTargets to .9."
   ]
  },
  {
   "cell_type": "code",
   "execution_count": 9,
   "id": "86d7c8d3",
   "metadata": {},
   "outputs": [],
   "source": [
    "from pyrit.setup.initializers.base import PyRITInitializer\n",
    "from pyrit.common.apply_defaults import set_default_value\n",
    "from pyrit.prompt_target import OpenAIChatTarget\n",
    "\n",
    "class CustomInitializer(PyRITInitializer):\n",
    "    @property\n",
    "    def name(self) -> str:\n",
    "        return \"Custom Configuration\"\n",
    "    \n",
    "    @property\n",
    "    def execution_order(self) -> int:\n",
    "        return 2  # Lower numbers run first (default is 1)\n",
    "    \n",
    "    def initialize(self) -> None:\n",
    "        set_default_value(class_type=OpenAIChatTarget, parameter_name=\"temperature\", value=0.9)\n",
    "\n",
    "    @property\n",
    "    def description(self) -> str:\n",
    "        return \"Sets custom temperature for OpenAI targets\"\n"
   ]
  },
  {
   "cell_type": "markdown",
   "id": "92512a07",
   "metadata": {},
   "source": [
    "## Built-in Initializers\n",
    "\n",
    "PyRIT includes a few built-in initializers that set more intelligent defaults!\n",
    "\n",
    "- **SimpleInitializer**: Requires only OPENAI_CHAT_ENDPOINT and OPENAI_CHAT_KEY\n",
    "- **AIRTInitializer**: Our best guess at defaults, but requires full Azure OpenAI configuration\n",
    "\n",
    "These are easy to include."
   ]
  },
  {
   "cell_type": "code",
   "execution_count": 10,
   "id": "f996f65f",
   "metadata": {},
   "outputs": [],
   "source": [
    "from pyrit.setup import initialize_pyrit\n",
    "from pyrit.setup.initializers import SimpleInitializer\n",
    "\n",
    "# Using built-in initializer\n",
    "initialize_pyrit(\n",
    "    memory_db_type=\"InMemory\",\n",
    "    initializers=[SimpleInitializer()]\n",
    ")"
   ]
  },
  {
   "cell_type": "markdown",
   "id": "cea75c63",
   "metadata": {},
   "source": [
    "## External Scripts\n",
    "\n",
    "External scripts allow custom configurations without modifying PyRIT. For example, you can write your own library, include them, and never have to check out pyrit in editable mode. Here are some use cases:\n",
    "- Custom targets for security assessments\n",
    "- Project-specific defaults\n",
    "- Organization-specific defaults\n",
    "\n",
    "As an example, say you are building a product, and want to set all your `adversarial_chat` in one place. You can using this!\n",
    "\n",
    "Like the built-in initializers, external scripts have the same format and must contain PyRITInitializer classes. In fact, using something like SimpleInitializer() as a template for your own is not a bad place to start."
   ]
  },
  {
   "cell_type": "code",
   "execution_count": null,
   "id": "f0e4ca10",
   "metadata": {},
   "outputs": [
    {
     "name": "stderr",
     "output_type": "stream",
     "text": [
      "Could not instantiate CustomInitializer from custom_init.py: Can't instantiate abstract class CustomInitializer without an implementation for abstract method 'description'\n",
      "Error loading initializers from script C:\\Users\\rlundeen\\AppData\\Local\\Temp\\tmps5onnndm\\custom_init.py: Initialization script C:\\Users\\rlundeen\\AppData\\Local\\Temp\\tmps5onnndm\\custom_init.py must contain at least one PyRITInitializer subclass. Define a class that inherits from PyRITInitializer.\n",
      "Error loading initializers from script C:\\Users\\rlundeen\\AppData\\Local\\Temp\\tmps5onnndm\\custom_init.py: Initialization script C:\\Users\\rlundeen\\AppData\\Local\\Temp\\tmps5onnndm\\custom_init.py must contain at least one PyRITInitializer subclass. Define a class that inherits from PyRITInitializer.\n"
     ]
    },
    {
     "name": "stderr",
     "output_type": "stream",
     "text": [
      "Could not instantiate CustomInitializer from custom_init.py: Can't instantiate abstract class CustomInitializer without an implementation for abstract method 'description'\n",
      "Error loading initializers from script C:\\Users\\rlundeen\\AppData\\Local\\Temp\\tmps5onnndm\\custom_init.py: Initialization script C:\\Users\\rlundeen\\AppData\\Local\\Temp\\tmps5onnndm\\custom_init.py must contain at least one PyRITInitializer subclass. Define a class that inherits from PyRITInitializer.\n",
      "Error loading initializers from script C:\\Users\\rlundeen\\AppData\\Local\\Temp\\tmps5onnndm\\custom_init.py: Initialization script C:\\Users\\rlundeen\\AppData\\Local\\Temp\\tmps5onnndm\\custom_init.py must contain at least one PyRITInitializer subclass. Define a class that inherits from PyRITInitializer.\n"
     ]
    },
    {
     "name": "stdout",
     "output_type": "stream",
     "text": [
      "Created: C:\\Users\\rlundeen\\AppData\\Local\\Temp\\tmps5onnndm\\custom_init.py\n"
     ]
    },
    {
     "ename": "ValueError",
     "evalue": "Initialization script C:\\Users\\rlundeen\\AppData\\Local\\Temp\\tmps5onnndm\\custom_init.py must contain at least one PyRITInitializer subclass. Define a class that inherits from PyRITInitializer.",
     "output_type": "error",
     "traceback": [
      "\u001b[31m---------------------------------------------------------------------------\u001b[39m",
      "\u001b[31mValueError\u001b[39m                                Traceback (most recent call last)",
      "\u001b[36mCell\u001b[39m\u001b[36m \u001b[39m\u001b[32mIn[7]\u001b[39m\u001b[32m, line 34\u001b[39m\n\u001b[32m     29\u001b[39m     f.write(script_content)\n\u001b[32m     31\u001b[39m \u001b[38;5;28mprint\u001b[39m(\u001b[33mf\u001b[39m\u001b[33m\"\u001b[39m\u001b[33mCreated: \u001b[39m\u001b[38;5;132;01m{\u001b[39;00mscript_path\u001b[38;5;132;01m}\u001b[39;00m\u001b[33m\"\u001b[39m)\n\u001b[32m---> \u001b[39m\u001b[32m34\u001b[39m \u001b[43minitialize_pyrit\u001b[49m\u001b[43m(\u001b[49m\n\u001b[32m     35\u001b[39m \u001b[43m    \u001b[49m\u001b[43mmemory_db_type\u001b[49m\u001b[43m=\u001b[49m\u001b[33;43m\"\u001b[39;49m\u001b[33;43mInMemory\u001b[39;49m\u001b[33;43m\"\u001b[39;49m\u001b[43m,\u001b[49m\n\u001b[32m     36\u001b[39m \u001b[43m    \u001b[49m\u001b[43minitialization_scripts\u001b[49m\u001b[43m=\u001b[49m\u001b[43m[\u001b[49m\u001b[43mtemp_dir\u001b[49m\u001b[43m \u001b[49m\u001b[43m+\u001b[49m\u001b[43m \u001b[49m\u001b[33;43m\"\u001b[39;49m\u001b[33;43m/custom_init.py\u001b[39;49m\u001b[33;43m\"\u001b[39;49m\u001b[43m]\u001b[49m\n\u001b[32m     37\u001b[39m \u001b[43m)\u001b[49m\n",
      "\u001b[36mFile \u001b[39m\u001b[32mC:\\git\\PyRIT\\pyrit\\setup\\initialization.py:296\u001b[39m, in \u001b[36minitialize_pyrit\u001b[39m\u001b[34m(memory_db_type, initialization_scripts, initializers, **memory_instance_kwargs)\u001b[39m\n\u001b[32m    294\u001b[39m \u001b[38;5;66;03m# Load additional initializers from scripts\u001b[39;00m\n\u001b[32m    295\u001b[39m \u001b[38;5;28;01mif\u001b[39;00m initialization_scripts:\n\u001b[32m--> \u001b[39m\u001b[32m296\u001b[39m     script_initializers = \u001b[43m_load_initializers_from_scripts\u001b[49m\u001b[43m(\u001b[49m\u001b[43mscript_paths\u001b[49m\u001b[43m=\u001b[49m\u001b[43minitialization_scripts\u001b[49m\u001b[43m)\u001b[49m\n\u001b[32m    297\u001b[39m     all_initializers.extend(script_initializers)\n\u001b[32m    299\u001b[39m \u001b[38;5;66;03m# Execute all initializers (sorted by execution_order)\u001b[39;00m\n",
      "\u001b[36mFile \u001b[39m\u001b[32mC:\\git\\PyRIT\\pyrit\\setup\\initialization.py:152\u001b[39m, in \u001b[36m_load_initializers_from_scripts\u001b[39m\u001b[34m(script_paths)\u001b[39m\n\u001b[32m    149\u001b[39m             \u001b[38;5;66;03m# Continue to try other classes rather than failing completely\u001b[39;00m\n\u001b[32m    151\u001b[39m \u001b[38;5;28;01mif\u001b[39;00m \u001b[38;5;129;01mnot\u001b[39;00m script_initializers:\n\u001b[32m--> \u001b[39m\u001b[32m152\u001b[39m     \u001b[38;5;28;01mraise\u001b[39;00m \u001b[38;5;167;01mValueError\u001b[39;00m(\n\u001b[32m    153\u001b[39m         \u001b[33mf\u001b[39m\u001b[33m\"\u001b[39m\u001b[33mInitialization script \u001b[39m\u001b[38;5;132;01m{\u001b[39;00mscript\u001b[38;5;132;01m}\u001b[39;00m\u001b[33m must contain at least one PyRITInitializer subclass. \u001b[39m\u001b[33m\"\u001b[39m\n\u001b[32m    154\u001b[39m         \u001b[33mf\u001b[39m\u001b[33m\"\u001b[39m\u001b[33mDefine a class that inherits from PyRITInitializer.\u001b[39m\u001b[33m\"\u001b[39m\n\u001b[32m    155\u001b[39m     )\n\u001b[32m    157\u001b[39m loaded_initializers.extend(script_initializers)\n\u001b[32m    158\u001b[39m logger.debug(\u001b[33mf\u001b[39m\u001b[33m\"\u001b[39m\u001b[33mLoaded \u001b[39m\u001b[38;5;132;01m{\u001b[39;00m\u001b[38;5;28mlen\u001b[39m(script_initializers)\u001b[38;5;132;01m}\u001b[39;00m\u001b[33m initializer(s) from \u001b[39m\u001b[38;5;132;01m{\u001b[39;00mscript.name\u001b[38;5;132;01m}\u001b[39;00m\u001b[33m\"\u001b[39m)\n",
      "\u001b[31mValueError\u001b[39m: Initialization script C:\\Users\\rlundeen\\AppData\\Local\\Temp\\tmps5onnndm\\custom_init.py must contain at least one PyRITInitializer subclass. Define a class that inherits from PyRITInitializer."
     ]
    }
   ],
   "source": [
    "import tempfile\n",
    "import os\n",
    "from pyrit.setup import initialize_pyrit\n",
    "\n",
    "\n",
    "temp_dir = tempfile.mkdtemp()\n",
    "script_path = os.path.join(temp_dir, \"custom_init.py\")\n",
    "\n",
    "# This is the simple custom initializer from earlier\n",
    "script_content = '''\n",
    "from pyrit.setup.initializers.base import PyRITInitializer\n",
    "from pyrit.common.apply_defaults import set_default_value\n",
    "from pyrit.prompt_target import OpenAIChatTarget\n",
    "\n",
    "class CustomInitializer(PyRITInitializer):\n",
    "    @property\n",
    "    def name(self) -> str:\n",
    "        return \"Custom Configuration\"\n",
    "    \n",
    "    @property\n",
    "    def execution_order(self) -> int:\n",
    "        return 2  # Lower numbers run first (default is 1)\n",
    "    \n",
    "    def initialize(self) -> None:\n",
    "        set_default_value(class_type=OpenAIChatTarget, parameter_name=\"temperature\", value=0.9)\n",
    "\n",
    "    @property\n",
    "    def description(self) -> str:\n",
    "        return \"Sets custom temperature for OpenAI targets\"\n",
    "\n",
    "'''\n",
    "\n",
    "with open(script_path, \"w\") as f:\n",
    "    f.write(script_content)\n",
    "    \n",
    "print(f\"Created: {script_path}\")\n",
    "\n",
    "\n",
    "initialize_pyrit(\n",
    "    memory_db_type=\"InMemory\",\n",
    "    initialization_scripts=[temp_dir + \"/custom_init.py\"]\n",
    ")\n"
   ]
  },
  {
   "cell_type": "markdown",
   "id": "88ab4098",
   "metadata": {},
   "source": [
    "## Using initialize_pyrit\n"
   ]
  },
  {
   "cell_type": "code",
   "execution_count": null,
   "id": "f8c9d0f0",
   "metadata": {},
   "outputs": [],
   "source": []
  },
  {
   "cell_type": "code",
   "execution_count": 3,
   "id": "4bdb965a",
   "metadata": {},
   "outputs": [],
   "source": [
    "from pyrit.setup import initialize_pyrit\n",
    "from pyrit.common.path import PYRIT_PATH\n",
    "\n",
    "# Using external script (in this case, just referencing the path of the SimpleInitializer)\n",
    "initialize_pyrit(\n",
    "    memory_db_type=\"InMemory\",\n",
    "    initialization_scripts=[f\"{PYRIT_PATH}/setup/initializers/simple.py\"]\n",
    ")"
   ]
  },
  {
   "cell_type": "markdown",
   "id": "692d72dc",
   "metadata": {},
   "source": [
    "For more information:\n",
    "- [Configuration notebook](0_configuration.ipynb) shows practical examples with custom targets\n",
    "- [Default Values notebook](default_values.ipynb) explains how defaults work\n"
   ]
  },
  {
   "cell_type": "code",
   "execution_count": 5,
   "id": "c8e48081",
   "metadata": {},
   "outputs": [
    {
     "ename": "NameError",
     "evalue": "name 'temp_dir' is not defined",
     "output_type": "error",
     "traceback": [
      "\u001b[31m---------------------------------------------------------------------------\u001b[39m",
      "\u001b[31mNameError\u001b[39m                                 Traceback (most recent call last)",
      "\u001b[36mCell\u001b[39m\u001b[36m \u001b[39m\u001b[32mIn[5]\u001b[39m\u001b[32m, line 6\u001b[39m\n\u001b[32m      3\u001b[39m \u001b[38;5;28;01mimport\u001b[39;00m\u001b[38;5;250m \u001b[39m\u001b[34;01mos\u001b[39;00m\n\u001b[32m      4\u001b[39m \u001b[38;5;28;01mimport\u001b[39;00m\u001b[38;5;250m \u001b[39m\u001b[34;01mshutil\u001b[39;00m\n\u001b[32m----> \u001b[39m\u001b[32m6\u001b[39m \u001b[38;5;28;01mif\u001b[39;00m os.path.exists(\u001b[43mtemp_dir\u001b[49m):\n\u001b[32m      7\u001b[39m     shutil.rmtree(temp_dir)\n",
      "\u001b[31mNameError\u001b[39m: name 'temp_dir' is not defined"
     ]
    }
   ],
   "source": [
    "# cleanint up\n",
    "\n",
    "import os\n",
    "import shutil\n",
    "\n",
    "if os.path.exists(temp_dir):\n",
    "    shutil.rmtree(temp_dir)"
   ]
  }
 ],
 "metadata": {
  "kernelspec": {
   "display_name": "pyrit-dev",
   "language": "python",
   "name": "python3"
  },
  "language_info": {
   "codemirror_mode": {
    "name": "ipython",
    "version": 3
   },
   "file_extension": ".py",
   "mimetype": "text/x-python",
   "name": "python",
   "nbconvert_exporter": "python",
   "pygments_lexer": "ipython3",
   "version": "3.12.11"
  }
 },
 "nbformat": 4,
 "nbformat_minor": 5
}
