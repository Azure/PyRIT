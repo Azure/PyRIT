{
 "cells": [
  {
   "cell_type": "markdown",
   "id": "00940284",
   "metadata": {},
   "source": [
    "# PyRIT Initializers\n",
    "\n",
    "You can configure PyRIT using:\n",
    "1. **Built-in initializers** - SimpleInitializer, AIRTInitializer\n",
    "2. **External scripts** - Custom PyRITInitializer classes for project-specific needs\n",
    "\n",
    "## Execution Order\n",
    "\n",
    "When `initialize_pyrit` is called:\n",
    "1. Environment files are loaded (`.env`, `.env.local`)\n",
    "2. Memory database is configured\n",
    "3. All initializers are sorted by `execution_order` and executed\n",
    "\n",
    "## Creating an Initializer"
   ]
  },
  {
   "cell_type": "markdown",
   "id": "c89bb99f",
   "metadata": {},
   "source": [
    "The following is a minimal `PyRITInitializer` class. It doesn't need much! In this case, it sets the default value for temperature for all OpenAIChatTargets to .9."
   ]
  },
  {
   "cell_type": "code",
   "execution_count": 9,
   "id": "86d7c8d3",
   "metadata": {},
   "outputs": [],
   "source": [
    "from pyrit.setup.initializers.base import PyRITInitializer\n",
    "from pyrit.common.apply_defaults import set_default_value\n",
    "from pyrit.prompt_target import OpenAIChatTarget\n",
    "\n",
    "class CustomInitializer(PyRITInitializer):\n",
    "    @property\n",
    "    def name(self) -> str:\n",
    "        return \"Custom Configuration\"\n",
    "    \n",
    "    @property\n",
    "    def execution_order(self) -> int:\n",
    "        return 2  # Lower numbers run first (default is 1)\n",
    "    \n",
    "    def initialize(self) -> None:\n",
    "        set_default_value(class_type=OpenAIChatTarget, parameter_name=\"temperature\", value=0.9)\n",
    "\n",
    "    @property\n",
    "    def description(self) -> str:\n",
    "        return \"Sets custom temperature for OpenAI targets\"\n"
   ]
  },
  {
   "cell_type": "markdown",
   "id": "92512a07",
   "metadata": {},
   "source": [
    "## Built-in Initializers\n",
    "\n",
    "PyRIT includes a few built-in initializers that set more intelligent defaults!\n",
    "\n",
    "- **SimpleInitializer**: Requires only OPENAI_CHAT_ENDPOINT and OPENAI_CHAT_KEY\n",
    "- **AIRTInitializer**: Our best guess at defaults, but requires full Azure OpenAI configuration\n",
    "\n",
    "These are easy to include."
   ]
  },
  {
   "cell_type": "code",
   "execution_count": 10,
   "id": "f996f65f",
   "metadata": {},
   "outputs": [],
   "source": [
    "from pyrit.setup import initialize_pyrit\n",
    "from pyrit.setup.initializers import SimpleInitializer\n",
    "\n",
    "# Using built-in initializer\n",
    "initialize_pyrit(\n",
    "    memory_db_type=\"InMemory\",\n",
    "    initializers=[SimpleInitializer()]\n",
    ")"
   ]
  },
  {
   "cell_type": "markdown",
   "id": "cea75c63",
   "metadata": {},
   "source": [
    "## External Scripts\n",
    "\n",
    "External scripts allow custom configurations without modifying PyRIT. For example, you can write your own library, include them, and never have to check out pyrit in editable mode. Here are some use cases:\n",
    "- Custom targets for security assessments\n",
    "- Project-specific defaults\n",
    "- Organization-specific defaults\n",
    "\n",
    "As an example, say you are building a product, and want to set all your `adversarial_chat` in one place. You can using this!\n",
    "\n",
    "Like the built-in initializers, external scripts have the same format and must contain PyRITInitializer classes. In fact, using something like SimpleInitializer() as a template for your own is not a bad place to start."
   ]
  },
  {
   "cell_type": "code",
   "execution_count": null,
   "id": "f0e4ca10",
   "metadata": {},
   "outputs": [
    {
     "name": "stdout",
     "output_type": "stream",
     "text": [
      "Created: C:\\Users\\rlundeen\\AppData\\Local\\Temp\\tmpgs282kvw\\custom_init.py\n"
     ]
    }
   ],
   "source": [
    "import tempfile\n",
    "import os\n",
    "import shutil\n",
    "\n",
    "from pyrit.setup import initialize_pyrit\n",
    "\n",
    "\n",
    "temp_dir = tempfile.mkdtemp()\n",
    "script_path = os.path.join(temp_dir, \"custom_init.py\")\n",
    "\n",
    "# This is the simple custom initializer from earlier\n",
    "script_content = '''\n",
    "from pyrit.setup.initializers.base import PyRITInitializer\n",
    "from pyrit.common.apply_defaults import set_default_value\n",
    "from pyrit.prompt_target import OpenAIChatTarget\n",
    "\n",
    "class CustomInitializer(PyRITInitializer):\n",
    "    @property\n",
    "    def name(self) -> str:\n",
    "        return \"Custom Configuration\"\n",
    "    \n",
    "    @property\n",
    "    def execution_order(self) -> int:\n",
    "        return 2  # Lower numbers run first (default is 1)\n",
    "    \n",
    "    def initialize(self) -> None:\n",
    "        set_default_value(class_type=OpenAIChatTarget, parameter_name=\"temperature\", value=0.9)\n",
    "\n",
    "    @property\n",
    "    def description(self) -> str:\n",
    "        return \"Sets custom temperature for OpenAI targets\"\n",
    "\n",
    "'''\n",
    "\n",
    "with open(script_path, \"w\") as f:\n",
    "    f.write(script_content)\n",
    "    \n",
    "print(f\"Created: {script_path}\")\n",
    "\n",
    "\n",
    "initialize_pyrit(\n",
    "    memory_db_type=\"InMemory\",\n",
    "    initialization_scripts=[temp_dir + \"/custom_init.py\"]\n",
    ")\n",
    "\n",
    "\n",
    "if os.path.exists(temp_dir):\n",
    "    shutil.rmtree(temp_dir)\n"
   ]
  },
  {
   "cell_type": "markdown",
   "id": "692d72dc",
   "metadata": {},
   "source": [
    "## More information:\n",
    "- [Configuration notebook](0_configuration.ipynb) shows practical examples with custom targets\n",
    "- [Default Values notebook](default_values.ipynb) explains how defaults work\n"
   ]
  }
 ],
 "metadata": {
  "kernelspec": {
   "display_name": "pyrit-dev",
   "language": "python",
   "name": "python3"
  },
  "language_info": {
   "codemirror_mode": {
    "name": "ipython",
    "version": 3
   },
   "file_extension": ".py",
   "mimetype": "text/x-python",
   "name": "python",
   "nbconvert_exporter": "python",
   "pygments_lexer": "ipython3",
   "version": "3.12.11"
  }
 },
 "nbformat": 4,
 "nbformat_minor": 5
}
