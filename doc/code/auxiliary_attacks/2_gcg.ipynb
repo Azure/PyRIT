{
 "cells": [
  {
   "cell_type": "markdown",
   "id": "e2d130e9",
   "metadata": {},
   "source": [
    "## Generating GCG Suffixes Using Azure Machine Learning "
   ]
  },
  {
   "cell_type": "markdown",
   "id": "dffb35b0",
   "metadata": {},
   "source": [
    "This notebook shows how to generate GCG suffixes using Azure Machine Learning (AML), which consists of three main steps:\n",
    "1. Connect to an Azure Machine Learning (AML) workspace.\n",
    "2. Create AML Environment with the Python dependencies.\n",
    "3. Submit a training job to AML."
   ]
  },
  {
   "cell_type": "markdown",
   "id": "ae1be43b",
   "metadata": {},
   "source": [
    "### Connect to Azure Machine Learning Workspace"
   ]
  },
  {
   "cell_type": "markdown",
   "id": "93c80221",
   "metadata": {},
   "source": [
    "The [workspace](https://docs.microsoft.com/en-us/azure/machine-learning/concept-workspace) is the top-level resource for Azure Machine Learning (AML), providing a centralized place to work with all the artifacts you create when using AML. In this section, we will connect to the workspace in which the job will be run.\n",
    "\n",
    "To connect to a workspace, we need identifier parameters - a subscription, resource group and workspace name. We will use these details in the `MLClient` from `azure.ai.ml` to get a handle to the required AML workspace. We use the [default Azure authentication](https://docs.microsoft.com/en-us/python/api/azure-identity/azure.identity.defaultazurecredential?view=azure-python) for this tutorial. Check the [configuration notebook](../../../configuration.ipynb) for more details on how to configure credentials and connect to a workspace."
   ]
  },
  {
   "cell_type": "code",
   "execution_count": 1,
   "id": "2adb35c5",
   "metadata": {
    "execution": {
     "iopub.execute_input": "2024-09-26T17:37:36.628055Z",
     "iopub.status.busy": "2024-09-26T17:37:36.627045Z",
     "iopub.status.idle": "2024-09-26T17:37:36.739057Z",
     "shell.execute_reply": "2024-09-26T17:37:36.737048Z"
    }
   },
   "outputs": [],
   "source": [
    "import os\n",
    "from pyrit.common import default_values\n",
    "\n",
    "default_values.load_default_env()\n",
    "\n",
    "# Enter details of your AML workspace\n",
    "subscription_id = os.environ.get('AZURE_SUBSCRIPTION_ID')\n",
    "resource_group = os.environ.get('AZURE_RESOURCE_GROUP')\n",
    "workspace = os.environ.get('AZURE_ML_WORKSPACE_NAME')"
   ]
  },
  {
   "cell_type": "code",
   "execution_count": 2,
   "id": "4501ab72",
   "metadata": {
    "execution": {
     "iopub.execute_input": "2024-09-26T17:37:36.745207Z",
     "iopub.status.busy": "2024-09-26T17:37:36.744207Z",
     "iopub.status.idle": "2024-09-26T17:37:53.345902Z",
     "shell.execute_reply": "2024-09-26T17:37:53.343887Z"
    }
   },
   "outputs": [],
   "source": [
    "from azure.ai.ml import MLClient\n",
    "from azure.identity import DefaultAzureCredential\n",
    "\n",
    "# Get a handle to the workspace\n",
    "ml_client = MLClient(\n",
    "    DefaultAzureCredential(), subscription_id, resource_group, workspace\n",
    ")"
   ]
  },
  {
   "cell_type": "markdown",
   "id": "c39f741c",
   "metadata": {},
   "source": [
    "### Create AML Environment"
   ]
  },
  {
   "cell_type": "markdown",
   "id": "258be43e",
   "metadata": {},
   "source": [
    "To install the dependencies needed to run GCG, we create an AML environment from a [Dockerfile](../../../pyrit/auxiliary_attacks/gcg/src/Dockerfile)."
   ]
  },
  {
   "cell_type": "code",
   "execution_count": 3,
   "id": "8ccf39ec",
   "metadata": {
    "execution": {
     "iopub.execute_input": "2024-09-26T17:37:53.351953Z",
     "iopub.status.busy": "2024-09-26T17:37:53.350958Z",
     "iopub.status.idle": "2024-09-26T17:38:04.866292Z",
     "shell.execute_reply": "2024-09-26T17:38:04.863761Z"
    },
    "lines_to_next_cell": 2
   },
   "outputs": [
    {
     "data": {
      "text/plain": [
       "Environment({'intellectual_property': None, 'is_anonymous': False, 'auto_increment_version': False, 'auto_delete_setting': None, 'name': 'pyrit', 'description': 'PyRIT environment created from a Docker context.', 'tags': {}, 'properties': {'azureml.labels': 'latest'}, 'print_as_yaml': True, 'id': '/subscriptions/6d13156d-cc60-485a-9e9e-54857689f99b/resourceGroups/romanlutz-southcentralus/providers/Microsoft.MachineLearningServices/workspaces/romanlutz-southcentralus/environments/pyrit/versions/31', 'Resource__source_path': None, 'base_path': 'C:\\\\Users\\\\bbullwinkel\\\\OneDrive - Microsoft\\\\Documents\\\\AIRT\\\\PyRIT\\\\doc\\\\code\\\\auxiliary_attacks', 'creation_context': <azure.ai.ml.entities._system_data.SystemData object at 0x0000018D06B31FD0>, 'serialize': <msrest.serialization.Serializer object at 0x0000018D07576E10>, 'version': '31', 'latest_version': None, 'conda_file': None, 'image': None, 'build': <azure.ai.ml.entities._assets.environment.BuildContext object at 0x0000018D06F56990>, 'inference_config': None, 'os_type': 'Linux', 'arm_type': 'environment_version', 'conda_file_path': None, 'path': None, 'datastore': None, 'upload_hash': None, 'translated_conda_file': None})"
      ]
     },
     "execution_count": 3,
     "metadata": {},
     "output_type": "execute_result"
    }
   ],
   "source": [
    "from azure.ai.ml.entities import Environment, BuildContext\n",
    "\n",
    "# Configure the AML environment with path to Dockerfile and dependencies\n",
    "env_docker_context = Environment(\n",
    "    build=BuildContext(path=\"../../../pyrit/auxiliary_attacks/gcg/src\"),\n",
    "    name=\"pyrit\",\n",
    "    description=\"PyRIT environment created from a Docker context.\",\n",
    ")\n",
    "\n",
    "# Create or update the AML environment\n",
    "ml_client.environments.create_or_update(env_docker_context)"
   ]
  },
  {
   "cell_type": "markdown",
   "id": "34ee194e",
   "metadata": {},
   "source": [
    "### Submit Training Job to AML"
   ]
  },
  {
   "cell_type": "markdown",
   "id": "bb2cc6c6",
   "metadata": {},
   "source": [
    "Finally, we configure the command to run the GCG algorithm. The entry file for the algorithm is []`run.py`](../../../pyrit/auxiliary_attacks/gcg/experiments/run.py), which takes several command line arguments, as shown below. We also have to specify the compute `instance_type` to run the algorithm on. In our experience, a GPU instance with at least 32GB of vRAM is required. As shown below, we use Standard_ND40rs_v2."
   ]
  },
  {
   "cell_type": "code",
   "execution_count": 4,
   "id": "b1bd72f4",
   "metadata": {
    "execution": {
     "iopub.execute_input": "2024-09-26T17:38:04.879816Z",
     "iopub.status.busy": "2024-09-26T17:38:04.877269Z",
     "iopub.status.idle": "2024-09-26T17:38:04.903234Z",
     "shell.execute_reply": "2024-09-26T17:38:04.899809Z"
    }
   },
   "outputs": [],
   "source": [
    "from azure.ai.ml import command\n",
    "from azure.ai.ml.entities import JobResourceConfiguration\n",
    "\n",
    "# Configure the command\n",
    "job = command(\n",
    "    code=\"./../../..\",  # local path where the code is stored\n",
    "    command=\"cd pyrit/auxiliary_attacks/gcg/experiments && python run.py --model_name ${{inputs.model_name}} --setup ${{inputs.setup}} --n_train_data ${{inputs.n_train_data}} --n_test_data ${{inputs.n_test_data}} --n_steps ${{inputs.n_steps}} --batch_size ${{inputs.batch_size}}\",\n",
    "    inputs={\n",
    "        \"model_name\": \"phi_3_mini\",\n",
    "        \"setup\": \"multiple\",\n",
    "        \"n_train_data\": 25,\n",
    "        \"n_test_data\": 0,\n",
    "        \"n_steps\": 500,\n",
    "        \"batch_size\": 512,\n",
    "    },\n",
    "    environment=f\"{env_docker_context.name}:{env_docker_context.version}\",\n",
    "    environment_variables={\"HF_TOKEN\": os.environ[\"HF_TOKEN\"]},\n",
    "    display_name=\"suffix_generation\",\n",
    "    description=\"Generate a suffix for attacking LLMs.\",\n",
    "    resources = JobResourceConfiguration(\n",
    "        instance_type=\"Standard_ND40rs_v2\",\n",
    "        instance_count=1,\n",
    "    )\n",
    ")"
   ]
  },
  {
   "cell_type": "code",
   "execution_count": 5,
   "id": "92940296",
   "metadata": {
    "execution": {
     "iopub.execute_input": "2024-09-26T17:38:04.913389Z",
     "iopub.status.busy": "2024-09-26T17:38:04.912388Z",
     "iopub.status.idle": "2024-09-26T17:38:57.463851Z",
     "shell.execute_reply": "2024-09-26T17:38:57.460817Z"
    }
   },
   "outputs": [
    {
     "name": "stderr",
     "output_type": "stream",
     "text": [
      "Class AutoDeleteSettingSchema: This is an experimental class, and may change at any time. Please see https://aka.ms/azuremlexperimental for more information.\n"
     ]
    },
    {
     "name": "stderr",
     "output_type": "stream",
     "text": [
      "Class AutoDeleteConditionSchema: This is an experimental class, and may change at any time. Please see https://aka.ms/azuremlexperimental for more information.\n"
     ]
    },
    {
     "name": "stderr",
     "output_type": "stream",
     "text": [
      "Class BaseAutoDeleteSettingSchema: This is an experimental class, and may change at any time. Please see https://aka.ms/azuremlexperimental for more information.\n"
     ]
    },
    {
     "name": "stderr",
     "output_type": "stream",
     "text": [
      "Class IntellectualPropertySchema: This is an experimental class, and may change at any time. Please see https://aka.ms/azuremlexperimental for more information.\n"
     ]
    },
    {
     "name": "stderr",
     "output_type": "stream",
     "text": [
      "Class ProtectionLevelSchema: This is an experimental class, and may change at any time. Please see https://aka.ms/azuremlexperimental for more information.\n"
     ]
    },
    {
     "name": "stderr",
     "output_type": "stream",
     "text": [
      "Class BaseIntellectualPropertySchema: This is an experimental class, and may change at any time. Please see https://aka.ms/azuremlexperimental for more information.\n"
     ]
    },
    {
     "name": "stderr",
     "output_type": "stream",
     "text": [
      "\r",
      "\u001b[32mUploading PyRIT (55.49 MBs):   0%|                                                                                                                                                                | 0/55493716 [00:00<?, ?it/s]\u001b[0m"
     ]
    },
    {
     "name": "stderr",
     "output_type": "stream",
     "text": [
      "\r",
      "\u001b[32mUploading PyRIT (55.49 MBs):   0%|                                                                                                                                                  | 5376/55493716 [00:00<23:27, 39423.62it/s]\u001b[0m"
     ]
    },
    {
     "name": "stderr",
     "output_type": "stream",
     "text": [
      "\r",
      "\u001b[32mUploading PyRIT (55.49 MBs):   0%|                                                                                                                                                  | 9742/55493716 [00:00<46:08, 20044.70it/s]\u001b[0m"
     ]
    },
    {
     "name": "stderr",
     "output_type": "stream",
     "text": [
      "\r",
      "\u001b[32mUploading PyRIT (55.49 MBs):   0%|                                                                                                                                                 | 14684/55493716 [00:00<35:29, 26050.10it/s]\u001b[0m"
     ]
    },
    {
     "name": "stderr",
     "output_type": "stream",
     "text": [
      "\r",
      "\u001b[32mUploading PyRIT (55.49 MBs):   0%|                                                                                                                                                 | 21730/55493716 [00:00<26:00, 35544.49it/s]\u001b[0m"
     ]
    },
    {
     "name": "stderr",
     "output_type": "stream",
     "text": [
      "\r",
      "\u001b[32mUploading PyRIT (55.49 MBs):   0%|1                                                                                                                                               | 54392/55493716 [00:00<09:04, 101771.87it/s]\u001b[0m"
     ]
    },
    {
     "name": "stderr",
     "output_type": "stream",
     "text": [
      "\r",
      "\u001b[32mUploading PyRIT (55.49 MBs):   0%|1                                                                                                                                               | 74825/55493716 [00:00<08:09, 113194.10it/s]\u001b[0m"
     ]
    },
    {
     "name": "stderr",
     "output_type": "stream",
     "text": [
      "\r",
      "\u001b[32mUploading PyRIT (55.49 MBs):   0%|3                                                                                                                                              | 148066/55493716 [00:01<03:39, 252649.65it/s]\u001b[0m"
     ]
    },
    {
     "name": "stderr",
     "output_type": "stream",
     "text": [
      "\r",
      "\u001b[32mUploading PyRIT (55.49 MBs):   0%|4                                                                                                                                              | 177191/55493716 [00:01<04:24, 208843.26it/s]\u001b[0m"
     ]
    },
    {
     "name": "stderr",
     "output_type": "stream",
     "text": [
      "\r",
      "\u001b[32mUploading PyRIT (55.49 MBs):   0%|5                                                                                                                                              | 208510/55493716 [00:01<04:28, 206112.22it/s]\u001b[0m"
     ]
    },
    {
     "name": "stderr",
     "output_type": "stream",
     "text": [
      "\r",
      "\u001b[32mUploading PyRIT (55.49 MBs):   0%|5                                                                                                                                              | 231781/55493716 [00:01<05:39, 162743.84it/s]\u001b[0m"
     ]
    },
    {
     "name": "stderr",
     "output_type": "stream",
     "text": [
      "\r",
      "\u001b[32mUploading PyRIT (55.49 MBs):   0%|6                                                                                                                                              | 252406/55493716 [00:01<05:33, 165491.51it/s]\u001b[0m"
     ]
    },
    {
     "name": "stderr",
     "output_type": "stream",
     "text": [
      "\r",
      "\u001b[32mUploading PyRIT (55.49 MBs):   1%|7                                                                                                                                              | 278263/55493716 [00:01<05:02, 182823.61it/s]\u001b[0m"
     ]
    },
    {
     "name": "stderr",
     "output_type": "stream",
     "text": [
      "\r",
      "\u001b[32mUploading PyRIT (55.49 MBs):   1%|7                                                                                                                                              | 301724/55493716 [00:02<04:44, 193960.57it/s]\u001b[0m"
     ]
    },
    {
     "name": "stderr",
     "output_type": "stream",
     "text": [
      "\r",
      "\u001b[32mUploading PyRIT (55.49 MBs):   1%|8                                                                                                                                              | 323130/55493716 [00:02<04:39, 197645.65it/s]\u001b[0m"
     ]
    },
    {
     "name": "stderr",
     "output_type": "stream",
     "text": [
      "\r",
      "\u001b[32mUploading PyRIT (55.49 MBs):   1%|9                                                                                                                                              | 352164/55493716 [00:02<05:37, 163288.56it/s]\u001b[0m"
     ]
    },
    {
     "name": "stderr",
     "output_type": "stream",
     "text": [
      "\r",
      "\u001b[32mUploading PyRIT (55.49 MBs):   1%|9                                                                                                                                              | 370895/55493716 [00:02<06:51, 134066.74it/s]\u001b[0m"
     ]
    },
    {
     "name": "stderr",
     "output_type": "stream",
     "text": [
      "\r",
      "\u001b[32mUploading PyRIT (55.49 MBs):   1%|9                                                                                                                                              | 387073/55493716 [00:02<07:00, 130920.99it/s]\u001b[0m"
     ]
    },
    {
     "name": "stderr",
     "output_type": "stream",
     "text": [
      "\r",
      "\u001b[32mUploading PyRIT (55.49 MBs):   1%|#                                                                                                                                              | 412547/55493716 [00:02<06:01, 152378.42it/s]\u001b[0m"
     ]
    },
    {
     "name": "stderr",
     "output_type": "stream",
     "text": [
      "\r",
      "\u001b[32mUploading PyRIT (55.49 MBs):   1%|#1                                                                                                                                             | 440296/55493716 [00:02<05:41, 161262.82it/s]\u001b[0m"
     ]
    },
    {
     "name": "stderr",
     "output_type": "stream",
     "text": [
      "\r",
      "\u001b[32mUploading PyRIT (55.49 MBs):   1%|#1                                                                                                                                             | 457563/55493716 [00:03<06:15, 146412.38it/s]\u001b[0m"
     ]
    },
    {
     "name": "stderr",
     "output_type": "stream",
     "text": [
      "\r",
      "\u001b[32mUploading PyRIT (55.49 MBs):   1%|#2                                                                                                                                             | 473192/55493716 [00:03<06:55, 132368.76it/s]\u001b[0m"
     ]
    },
    {
     "name": "stderr",
     "output_type": "stream",
     "text": [
      "\r",
      "\u001b[32mUploading PyRIT (55.49 MBs):   1%|#2                                                                                                                                             | 498477/55493716 [00:03<07:18, 125550.25it/s]\u001b[0m"
     ]
    },
    {
     "name": "stderr",
     "output_type": "stream",
     "text": [
      "\r",
      "\u001b[32mUploading PyRIT (55.49 MBs):   1%|#3                                                                                                                                             | 511908/55493716 [00:03<08:36, 106518.64it/s]\u001b[0m"
     ]
    },
    {
     "name": "stderr",
     "output_type": "stream",
     "text": [
      "\r",
      "\u001b[32mUploading PyRIT (55.49 MBs):   1%|#3                                                                                                                                              | 523803/55493716 [00:03<09:35, 95492.97it/s]\u001b[0m"
     ]
    },
    {
     "name": "stderr",
     "output_type": "stream",
     "text": [
      "\r",
      "\u001b[32mUploading PyRIT (55.49 MBs):   1%|#4                                                                                                                                             | 560429/55493716 [00:03<06:20, 144503.20it/s]\u001b[0m"
     ]
    },
    {
     "name": "stderr",
     "output_type": "stream",
     "text": [
      "\r",
      "\u001b[32mUploading PyRIT (55.49 MBs):   1%|#7                                                                                                                                             | 697571/55493716 [00:04<02:43, 334173.55it/s]\u001b[0m"
     ]
    },
    {
     "name": "stderr",
     "output_type": "stream",
     "text": [
      "\r",
      "\u001b[32mUploading PyRIT (55.49 MBs):   1%|#8                                                                                                                                             | 729981/55493716 [00:04<03:23, 269692.63it/s]\u001b[0m"
     ]
    },
    {
     "name": "stderr",
     "output_type": "stream",
     "text": [
      "\r",
      "\u001b[32mUploading PyRIT (55.49 MBs):   2%|##2                                                                                                                                            | 862523/55493716 [00:04<02:01, 450940.30it/s]\u001b[0m"
     ]
    },
    {
     "name": "stderr",
     "output_type": "stream",
     "text": [
      "\r",
      "\u001b[32mUploading PyRIT (55.49 MBs):   2%|##4                                                                                                                                            | 959425/55493716 [00:04<02:07, 428017.96it/s]\u001b[0m"
     ]
    },
    {
     "name": "stderr",
     "output_type": "stream",
     "text": [
      "\r",
      "\u001b[32mUploading PyRIT (55.49 MBs):   2%|##7                                                                                                                                           | 1066641/55493716 [00:04<01:44, 521472.90it/s]\u001b[0m"
     ]
    },
    {
     "name": "stderr",
     "output_type": "stream",
     "text": [
      "\r",
      "\u001b[32mUploading PyRIT (55.49 MBs):   2%|###5                                                                                                                                          | 1378096/55493716 [00:05<01:11, 759272.53it/s]\u001b[0m"
     ]
    },
    {
     "name": "stderr",
     "output_type": "stream",
     "text": [
      "\r",
      "\u001b[32mUploading PyRIT (55.49 MBs):   3%|####5                                                                                                                                        | 1771775/55493716 [00:05<00:44, 1213447.60it/s]\u001b[0m"
     ]
    },
    {
     "name": "stderr",
     "output_type": "stream",
     "text": [
      "\r",
      "\u001b[32mUploading PyRIT (55.49 MBs):   3%|####8                                                                                                                                        | 1914448/55493716 [00:05<00:47, 1134331.06it/s]\u001b[0m"
     ]
    },
    {
     "name": "stderr",
     "output_type": "stream",
     "text": [
      "\r",
      "\u001b[32mUploading PyRIT (55.49 MBs):   4%|######                                                                                                                                       | 2387167/55493716 [00:05<00:29, 1797196.37it/s]\u001b[0m"
     ]
    },
    {
     "name": "stderr",
     "output_type": "stream",
     "text": [
      "\r",
      "\u001b[32mUploading PyRIT (55.49 MBs):   5%|######6                                                                                                                                      | 2602488/55493716 [00:05<00:31, 1705649.68it/s]\u001b[0m"
     ]
    },
    {
     "name": "stderr",
     "output_type": "stream",
     "text": [
      "\r",
      "\u001b[32mUploading PyRIT (55.49 MBs):   5%|#######4                                                                                                                                     | 2918014/55493716 [00:05<00:30, 1745227.41it/s]\u001b[0m"
     ]
    },
    {
     "name": "stderr",
     "output_type": "stream",
     "text": [
      "\r",
      "\u001b[32mUploading PyRIT (55.49 MBs):   6%|#######9                                                                                                                                     | 3142156/55493716 [00:06<00:45, 1138598.92it/s]\u001b[0m"
     ]
    },
    {
     "name": "stderr",
     "output_type": "stream",
     "text": [
      "\r",
      "\u001b[32mUploading PyRIT (55.49 MBs):   6%|########9                                                                                                                                    | 3528564/55493716 [00:06<00:35, 1445745.84it/s]\u001b[0m"
     ]
    },
    {
     "name": "stderr",
     "output_type": "stream",
     "text": [
      "\r",
      "\u001b[32mUploading PyRIT (55.49 MBs):   7%|##########2                                                                                                                                  | 4044724/55493716 [00:06<00:28, 1778540.22it/s]\u001b[0m"
     ]
    },
    {
     "name": "stderr",
     "output_type": "stream",
     "text": [
      "\r",
      "\u001b[32mUploading PyRIT (55.49 MBs):   8%|###########5                                                                                                                                 | 4536420/55493716 [00:06<00:23, 2135336.43it/s]\u001b[0m"
     ]
    },
    {
     "name": "stderr",
     "output_type": "stream",
     "text": [
      "\r",
      "\u001b[32mUploading PyRIT (55.49 MBs):   9%|############1                                                                                                                                | 4780112/55493716 [00:07<00:43, 1164821.80it/s]\u001b[0m"
     ]
    },
    {
     "name": "stderr",
     "output_type": "stream",
     "text": [
      "\r",
      "\u001b[32mUploading PyRIT (55.49 MBs):   9%|############6                                                                                                                                | 4978980/55493716 [00:07<00:44, 1145463.04it/s]\u001b[0m"
     ]
    },
    {
     "name": "stderr",
     "output_type": "stream",
     "text": [
      "\r",
      "\u001b[32mUploading PyRIT (55.49 MBs):  10%|##############1                                                                                                                              | 5587701/55493716 [00:08<00:45, 1105151.57it/s]\u001b[0m"
     ]
    },
    {
     "name": "stderr",
     "output_type": "stream",
     "text": [
      "\r",
      "\u001b[32mUploading PyRIT (55.49 MBs):  10%|##############6                                                                                                                               | 5731531/55493716 [00:09<01:25, 583586.31it/s]\u001b[0m"
     ]
    },
    {
     "name": "stderr",
     "output_type": "stream",
     "text": [
      "\r",
      "\u001b[32mUploading PyRIT (55.49 MBs):  18%|########################8                                                                                                                    | 9761982/55493716 [00:09<00:15, 2995958.46it/s]\u001b[0m"
     ]
    },
    {
     "name": "stderr",
     "output_type": "stream",
     "text": [
      "\r",
      "\u001b[32mUploading PyRIT (55.49 MBs):  18%|#########################8                                                                                                                  | 10227249/55493716 [00:10<00:22, 2043743.22it/s]\u001b[0m"
     ]
    },
    {
     "name": "stderr",
     "output_type": "stream",
     "text": [
      "\r",
      "\u001b[32mUploading PyRIT (55.49 MBs):  22%|##############################2                                                                                                             | 12004238/55493716 [00:11<00:21, 2013396.68it/s]\u001b[0m"
     ]
    },
    {
     "name": "stderr",
     "output_type": "stream",
     "text": [
      "\r",
      "\u001b[32mUploading PyRIT (55.49 MBs):  22%|###############################                                                                                                             | 12314742/55493716 [00:12<00:39, 1080766.18it/s]\u001b[0m"
     ]
    },
    {
     "name": "stderr",
     "output_type": "stream",
     "text": [
      "\r",
      "\u001b[32mUploading PyRIT (55.49 MBs):  23%|###############################6                                                                                                            | 12558568/55493716 [00:13<00:40, 1061242.80it/s]\u001b[0m"
     ]
    },
    {
     "name": "stderr",
     "output_type": "stream",
     "text": [
      "\r",
      "\u001b[32mUploading PyRIT (55.49 MBs):  28%|######################################8                                                                                                     | 15401756/55493716 [00:13<00:16, 2427732.14it/s]\u001b[0m"
     ]
    },
    {
     "name": "stderr",
     "output_type": "stream",
     "text": [
      "\r",
      "\u001b[32mUploading PyRIT (55.49 MBs):  35%|################################################7                                                                                           | 19322980/55493716 [00:15<00:15, 2260682.00it/s]\u001b[0m"
     ]
    },
    {
     "name": "stderr",
     "output_type": "stream",
     "text": [
      "\r",
      "\u001b[32mUploading PyRIT (55.49 MBs):  44%|############################################################9                                                                               | 24169614/55493716 [00:15<00:08, 3878205.46it/s]\u001b[0m"
     ]
    },
    {
     "name": "stderr",
     "output_type": "stream",
     "text": [
      "\r",
      "\u001b[32mUploading PyRIT (55.49 MBs): 100%|############################################################################################################################################| 55493716/55493716 [00:29<00:00, 2432861.91it/s]\u001b[0m"
     ]
    },
    {
     "name": "stderr",
     "output_type": "stream",
     "text": [
      "\r",
      "\u001b[32mUploading PyRIT (55.49 MBs): 100%|############################################################################################################################################| 55493716/55493716 [00:29<00:00, 1894859.90it/s]\u001b[0m"
     ]
    },
    {
     "name": "stderr",
     "output_type": "stream",
     "text": [
      "\n",
      "\u001b[39m\n",
      "\n"
     ]
    }
   ],
   "source": [
    "# Submit the command\n",
    "returned_job = ml_client.create_or_update(job)"
   ]
  }
 ],
 "metadata": {
  "jupytext": {
   "cell_metadata_filter": "-all"
  },
  "kernelspec": {
   "display_name": "pyrit-311",
   "language": "python",
   "name": "python3"
  },
  "language_info": {
   "codemirror_mode": {
    "name": "ipython",
    "version": 3
   },
   "file_extension": ".py",
   "mimetype": "text/x-python",
   "name": "python",
   "nbconvert_exporter": "python",
   "pygments_lexer": "ipython3",
   "version": "3.11.10"
  }
 },
 "nbformat": 4,
 "nbformat_minor": 5
}
