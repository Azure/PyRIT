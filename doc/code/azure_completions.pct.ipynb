{
 "cells": [
  {
   "cell_type": "markdown",
   "id": "66bfa100",
   "metadata": {},
   "source": [
    "## Introduction\n",
    "\n",
    "This Jupyter notebook gives an introduction on how to use PyRIT to abstract dealing\n",
    "with different [embedding](https://learn.microsoft.com/en-us/azure/ai-services/openai/concepts/understand-embeddings) and [completion](https://learn.microsoft.com/en-us/azure/ai-services/openai/how-to/completions) endpoints, and gives an introduction\n",
    "for how to add custom endpoints for your own use cases.\n",
    "\n",
    "There will be three main parts to this notebook:\n",
    "1. Work with Azure OpenAI Completions\n",
    "2. Work with Azure OpenAI Embeddings\n",
    "3. Embeddings serialization\n",
    "\n",
    "Before starting this, make sure you are [set up and authenticated to use Azure OpenAI endpoints](../setup/azure_openai_setup.ipynb)"
   ]
  },
  {
   "cell_type": "code",
   "execution_count": 1,
   "id": "5d100b01",
   "metadata": {
    "execution": {
     "iopub.execute_input": "2024-02-21T01:41:09.704721Z",
     "iopub.status.busy": "2024-02-21T01:41:09.704721Z",
     "iopub.status.idle": "2024-02-21T01:41:09.734256Z",
     "shell.execute_reply": "2024-02-21T01:41:09.733750Z"
    }
   },
   "outputs": [],
   "source": [
    "import os\n",
    "from pyrit.common import default_values\n",
    "\n",
    "default_values.load_default_env()\n",
    "\n",
    "api_base = os.environ.get(\"AZURE_OPENAI_COMPLETION_ENDPOINT\")\n",
    "api_key = os.environ.get(\"AZURE_OPENAI_COMPLETION_KEY\")\n",
    "deployment_name = os.environ.get(\"AZURE_OPENAI_COMPLETION_DEPLOYMENT\")"
   ]
  },
  {
   "cell_type": "markdown",
   "id": "908396cf",
   "metadata": {
    "title": "sd"
   },
   "source": [
    "## Azure OpenAI Completions\n",
    "\n",
    "Once you are configured, then you will be able to get completions for your text. In this case, we will use the \"davinci\" endpoint. The\n",
    "`complete_text()` response returns a wrapper for the OpenAI completion API that will allow you to\n",
    "easily get all the different fields."
   ]
  },
  {
   "cell_type": "code",
   "execution_count": 2,
   "id": "f11cf4ca",
   "metadata": {
    "execution": {
     "iopub.execute_input": "2024-02-21T01:41:09.734256Z",
     "iopub.status.busy": "2024-02-21T01:41:09.734256Z",
     "iopub.status.idle": "2024-02-21T01:41:11.359340Z",
     "shell.execute_reply": "2024-02-21T01:41:11.359340Z"
    }
   },
   "outputs": [
    {
     "name": "stdout",
     "output_type": "stream",
     "text": [
      "PromptResponse(completion=' Confused About Cellulite? Read This To End The Confusion share |', prompt='hello world!', id='cmpl-8uVtfZvtX5wRTknqBJOS7BH0sSatj', completion_tokens=16, prompt_tokens=3, total_tokens=19, model='davinci-002', object='text_completion', created_at=0, logprobs=False, index=0, finish_reason='', api_request_time_to_complete_ns=0, metadata={})\n"
     ]
    }
   ],
   "source": [
    "\n",
    "from pprint import pprint\n",
    "from pyrit.completion.azure_completions import AzureCompletion\n",
    "\n",
    "\n",
    "prompt = \"hello world!\"\n",
    "\n",
    "davinci_engine = AzureCompletion(api_key=api_key, endpoint=api_base, deployment=deployment_name)\n",
    "\n",
    "text_response = davinci_engine.complete_text(text=prompt)\n",
    "\n",
    "pprint(text_response, width=280, compact=True)"
   ]
  }
 ],
 "metadata": {
  "jupytext": {
   "cell_metadata_filter": "title,-all"
  },
  "kernelspec": {
   "display_name": "pyrit_kernel",
   "language": "python",
   "name": "pyrit_kernel"
  },
  "language_info": {
   "codemirror_mode": {
    "name": "ipython",
    "version": 3
   },
   "file_extension": ".py",
   "mimetype": "text/x-python",
   "name": "python",
   "nbconvert_exporter": "python",
   "pygments_lexer": "ipython3",
   "version": "3.10.13"
  }
 },
 "nbformat": 4,
 "nbformat_minor": 5
}
