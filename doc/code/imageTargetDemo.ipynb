{
 "cells": [
  {
   "cell_type": "code",
   "execution_count": 1,
   "id": "8b691e8f-bc32-40f2-9a20-999baa9c7dc8",
   "metadata": {},
   "outputs": [],
   "source": [
    "import os\n",
    "import uuid\n",
    "\n",
    "from pyrit.common import default_values\n",
    "from pyrit.prompt_target import ImageTarget\n",
    "\n",
    "# When using a Prompt Target with an Orchestrator, conversation ID and normalizer ID are handled for you\n",
    "test_conversation_id = str(uuid.uuid4())\n",
    "test_normalizer_id = \"1\""
   ]
  },
  {
   "cell_type": "code",
   "execution_count": 2,
   "id": "ee966141-8c10-4c26-b97d-e075ca09600d",
   "metadata": {},
   "outputs": [
    {
     "name": "stdout",
     "output_type": "stream",
     "text": [
      "PATH:  /home/bolor/tools/PyRIT/results/pyrit_duckdb_storage.db\n"
     ]
    }
   ],
   "source": [
    "default_values.load_default_env()\n",
    "\n",
    "img_prompt_target = ImageTarget(deployment_name = \"pyrit_dall-e-3\", \n",
    "                                endpoint = os.environ.get(\"AZURE_DALLE_ENDPOINT\"), \n",
    "                                api_key = os.environ.get(\"AZURE_DALLE_API_KEY\"),  \n",
    "                                api_version = \"2024-02-01\")"
   ]
  },
  {
   "cell_type": "code",
   "execution_count": 3,
   "id": "c4157448-a70f-4dc1-b80f-6e75559624f9",
   "metadata": {},
   "outputs": [
    {
     "name": "stdout",
     "output_type": "stream",
     "text": [
      "Error code: 400 - {'error': {'code': 'content_policy_violation', 'inner_error': {'code': 'ResponsibleAIPolicyViolation', 'content_filter_results': {'hate': {'filtered': False, 'severity': 'safe'}, 'profanity': {'detected': False, 'filtered': False}, 'self_harm': {'filtered': False, 'severity': 'safe'}, 'sexual': {'filtered': False, 'severity': 'safe'}, 'violence': {'filtered': False, 'severity': 'safe'}}, 'revised_prompt': 'Illustrate an outdoor scene where a group of children of various descents and genders are seen participating in an enjoyable and friendly water gun battle at a playground. The playground is filled with slides, swings, climbing structures and sandpits. All the kids are having fun under the bright sky and the air is filled with cheerful laughter. The water spray from the guns is caught in the sunlight, casting bright rainbows around the playground. Please ensure the children are all dressed in comfortable summer clothing.'}, 'message': 'Your request was rejected as a result of our safety system. The revised prompt may contain text that is not allowed by our safety system.', 'type': 'invalid_request_error'}}\n"
     ]
    }
   ],
   "source": [
    "image_resp = img_prompt_target.send_prompt(\n",
    "    prompt=\"Draw kids playing on the playground. They are playing with water guns\", conversation_id = test_conversation_id, normalizer_id = test_normalizer_id)"
   ]
  },
  {
   "cell_type": "code",
   "execution_count": 5,
   "id": "f72f5d67-3c03-4734-86b9-aee9414b46ef",
   "metadata": {},
   "outputs": [],
   "source": [
    "image_resp"
   ]
  },
  {
   "cell_type": "markdown",
   "id": "519c8457-ae55-45b3-a91a-82cc02fc9256",
   "metadata": {},
   "source": [
    "# Test ASYNC"
   ]
  },
  {
   "cell_type": "code",
   "execution_count": 6,
   "id": "a4be9ef0-b1dd-423b-8eb4-344d115f17ca",
   "metadata": {},
   "outputs": [],
   "source": [
    "import asyncio\n",
    "_loop = asyncio.get_event_loop()\n"
   ]
  },
  {
   "cell_type": "code",
   "execution_count": 7,
   "id": "65211f46-a6e5-433b-8959-5112808058fd",
   "metadata": {},
   "outputs": [
    {
     "ename": "RuntimeError",
     "evalue": "This event loop is already running",
     "output_type": "error",
     "traceback": [
      "\u001b[0;31m---------------------------------------------------------------------------\u001b[0m",
      "\u001b[0;31mRuntimeError\u001b[0m                              Traceback (most recent call last)",
      "Cell \u001b[0;32mIn[7], line 1\u001b[0m\n\u001b[0;32m----> 1\u001b[0m resp \u001b[38;5;241m=\u001b[39m \u001b[43m_loop\u001b[49m\u001b[38;5;241;43m.\u001b[39;49m\u001b[43mrun_until_complete\u001b[49m\u001b[43m(\u001b[49m\n\u001b[1;32m      2\u001b[0m \u001b[43m    \u001b[49m\u001b[43mimg_prompt_target\u001b[49m\u001b[38;5;241;43m.\u001b[39;49m\u001b[43msend_prompt_async\u001b[49m\u001b[43m(\u001b[49m\n\u001b[1;32m      3\u001b[0m \u001b[43m    \u001b[49m\u001b[43mprompt\u001b[49m\u001b[38;5;241;43m=\u001b[39;49m\u001b[38;5;124;43m\"\u001b[39;49m\u001b[38;5;124;43mDraw me a baby polar bear. It should be the cutest polar bear ever. Draw it cuddling a stuffed animal polar bear\u001b[39;49m\u001b[38;5;124;43m\"\u001b[39;49m\u001b[43m,\u001b[49m\u001b[43m \u001b[49m\n\u001b[1;32m      4\u001b[0m \u001b[43m    \u001b[49m\u001b[43mconversation_id\u001b[49m\u001b[43m \u001b[49m\u001b[38;5;241;43m=\u001b[39;49m\u001b[43m \u001b[49m\u001b[43mtest_conversation_id\u001b[49m\u001b[43m,\u001b[49m\u001b[43m \u001b[49m\u001b[43mnormalizer_id\u001b[49m\u001b[43m \u001b[49m\u001b[38;5;241;43m=\u001b[39;49m\u001b[43m \u001b[49m\u001b[43mtest_normalizer_id\u001b[49m\u001b[43m)\u001b[49m\n\u001b[1;32m      5\u001b[0m \u001b[43m)\u001b[49m\n",
      "File \u001b[0;32m~/anaconda3/envs/pyrit-dev/lib/python3.10/asyncio/base_events.py:625\u001b[0m, in \u001b[0;36mBaseEventLoop.run_until_complete\u001b[0;34m(self, future)\u001b[0m\n\u001b[1;32m    614\u001b[0m \u001b[38;5;250m\u001b[39m\u001b[38;5;124;03m\"\"\"Run until the Future is done.\u001b[39;00m\n\u001b[1;32m    615\u001b[0m \n\u001b[1;32m    616\u001b[0m \u001b[38;5;124;03mIf the argument is a coroutine, it is wrapped in a Task.\u001b[39;00m\n\u001b[0;32m   (...)\u001b[0m\n\u001b[1;32m    622\u001b[0m \u001b[38;5;124;03mReturn the Future's result, or raise its exception.\u001b[39;00m\n\u001b[1;32m    623\u001b[0m \u001b[38;5;124;03m\"\"\"\u001b[39;00m\n\u001b[1;32m    624\u001b[0m \u001b[38;5;28mself\u001b[39m\u001b[38;5;241m.\u001b[39m_check_closed()\n\u001b[0;32m--> 625\u001b[0m \u001b[38;5;28;43mself\u001b[39;49m\u001b[38;5;241;43m.\u001b[39;49m\u001b[43m_check_running\u001b[49m\u001b[43m(\u001b[49m\u001b[43m)\u001b[49m\n\u001b[1;32m    627\u001b[0m new_task \u001b[38;5;241m=\u001b[39m \u001b[38;5;129;01mnot\u001b[39;00m futures\u001b[38;5;241m.\u001b[39misfuture(future)\n\u001b[1;32m    628\u001b[0m future \u001b[38;5;241m=\u001b[39m tasks\u001b[38;5;241m.\u001b[39mensure_future(future, loop\u001b[38;5;241m=\u001b[39m\u001b[38;5;28mself\u001b[39m)\n",
      "File \u001b[0;32m~/anaconda3/envs/pyrit-dev/lib/python3.10/asyncio/base_events.py:584\u001b[0m, in \u001b[0;36mBaseEventLoop._check_running\u001b[0;34m(self)\u001b[0m\n\u001b[1;32m    582\u001b[0m \u001b[38;5;28;01mdef\u001b[39;00m \u001b[38;5;21m_check_running\u001b[39m(\u001b[38;5;28mself\u001b[39m):\n\u001b[1;32m    583\u001b[0m     \u001b[38;5;28;01mif\u001b[39;00m \u001b[38;5;28mself\u001b[39m\u001b[38;5;241m.\u001b[39mis_running():\n\u001b[0;32m--> 584\u001b[0m         \u001b[38;5;28;01mraise\u001b[39;00m \u001b[38;5;167;01mRuntimeError\u001b[39;00m(\u001b[38;5;124m'\u001b[39m\u001b[38;5;124mThis event loop is already running\u001b[39m\u001b[38;5;124m'\u001b[39m)\n\u001b[1;32m    585\u001b[0m     \u001b[38;5;28;01mif\u001b[39;00m events\u001b[38;5;241m.\u001b[39m_get_running_loop() \u001b[38;5;129;01mis\u001b[39;00m \u001b[38;5;129;01mnot\u001b[39;00m \u001b[38;5;28;01mNone\u001b[39;00m:\n\u001b[1;32m    586\u001b[0m         \u001b[38;5;28;01mraise\u001b[39;00m \u001b[38;5;167;01mRuntimeError\u001b[39;00m(\n\u001b[1;32m    587\u001b[0m             \u001b[38;5;124m'\u001b[39m\u001b[38;5;124mCannot run the event loop while another loop is running\u001b[39m\u001b[38;5;124m'\u001b[39m)\n",
      "\u001b[0;31mRuntimeError\u001b[0m: This event loop is already running"
     ]
    }
   ],
   "source": [
    "resp = _loop.run_until_complete(\n",
    "    img_prompt_target.send_prompt_async(\n",
    "    prompt=\"Draw me a baby polar bear. It should be the cutest polar bear ever. Draw it cuddling a stuffed animal polar bear\", \n",
    "    conversation_id = test_conversation_id, normalizer_id = test_normalizer_id)\n",
    ")"
   ]
  },
  {
   "cell_type": "code",
   "execution_count": null,
   "id": "d4ed5114-273f-46d8-9ce2-65d8e9c6089d",
   "metadata": {},
   "outputs": [],
   "source": []
  }
 ],
 "metadata": {
  "kernelspec": {
   "display_name": "pyrit_kernel",
   "language": "python",
   "name": "pyrit_kernel"
  },
  "language_info": {
   "codemirror_mode": {
    "name": "ipython",
    "version": 3
   },
   "file_extension": ".py",
   "mimetype": "text/x-python",
   "name": "python",
   "nbconvert_exporter": "python",
   "pygments_lexer": "ipython3",
   "version": "3.10.13"
  }
 },
 "nbformat": 4,
 "nbformat_minor": 5
}
