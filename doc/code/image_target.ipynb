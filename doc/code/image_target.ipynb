{
 "cells": [
  {
   "cell_type": "markdown",
   "id": "32438837-8166-488b-a9c3-8c32f8e6ddfb",
   "metadata": {},
   "source": [
    "## Image Target Demo\n",
    "This notebook demonstrates how to use the image target to create an image from a text-based prompt"
   ]
  },
  {
   "cell_type": "code",
   "execution_count": 1,
   "id": "c7a1b5be-53ed-49e1-a0fe-7a14c2b06d6f",
   "metadata": {},
   "outputs": [],
   "source": [
    "# Copyright (c) Microsoft Corporation.\n",
    "# Licensed under the MIT license.\n",
    "PROMPT_TO_SEND = \"Draw me a racoon pirate as a French artist in France\""
   ]
  },
  {
   "cell_type": "code",
   "execution_count": null,
   "id": "8b691e8f-bc32-40f2-9a20-999baa9c7dc8",
   "metadata": {},
   "outputs": [],
   "source": [
    "import os\n",
    "import uuid\n",
    "import json\n",
    "\n",
    "from pyrit.common import default_values\n",
    "from pyrit.prompt_target import ImageTarget\n",
    "from pyrit.prompt_target.image_target import ResponseFormat\n",
    "\n",
    "# When using a Prompt Target with an Orchestrator, conversation ID and normalizer ID are handled for you\n",
    "test_conversation_id = str(uuid.uuid4())\n",
    "test_normalizer_id = \"1\""
   ]
  },
  {
   "cell_type": "markdown",
   "id": "f5a1132c-3e35-4304-ad9e-a34ee2fac148",
   "metadata": {},
   "source": [
    "## Using DALLE model"
   ]
  },
  {
   "cell_type": "code",
   "execution_count": null,
   "id": "ee966141-8c10-4c26-b97d-e075ca09600d",
   "metadata": {},
   "outputs": [],
   "source": [
    "default_values.load_default_env()\n",
    "\n",
    "img_prompt_target = ImageTarget(\n",
    "    deployment_name=\"pyrit_dall-e-3\",\n",
    "    endpoint=os.environ.get(\"AZURE_DALLE_ENDPOINT\"),\n",
    "    api_key=os.environ.get(\"AZURE_DALLE_API_KEY\"),\n",
    "    api_version=\"2024-02-01\",\n",
    "    response_format=ResponseFormat.URL,\n",
    ")"
   ]
  },
  {
   "cell_type": "code",
   "execution_count": null,
   "id": "c4157448-a70f-4dc1-b80f-6e75559624f9",
   "metadata": {},
   "outputs": [],
   "source": [
    "image_resp = img_prompt_target.send_prompt(\n",
    "    normalized_prompt=PROMPT_TO_SEND,\n",
    "    conversation_id=test_conversation_id,\n",
    "    normalizer_id=test_normalizer_id,\n",
    ")"
   ]
  },
  {
   "cell_type": "markdown",
   "id": "69aa7f07-731d-4e81-ba6d-6f630c9bb32f",
   "metadata": {},
   "source": [
    "### Viewing the response:"
   ]
  },
  {
   "cell_type": "code",
   "execution_count": null,
   "id": "f72f5d67-3c03-4734-86b9-aee9414b46ef",
   "metadata": {},
   "outputs": [],
   "source": [
    "image_resp"
   ]
  },
  {
   "cell_type": "markdown",
   "id": "7006fa43-47e0-42bd-b7eb-a1d65d487d3c",
   "metadata": {},
   "source": [
    "### Downloading and viewing the genereated image:\n",
    "The `download_image` function will save the image locally and return back the location of the saved image. It is already called from within the `send_prompt` function and stored within the response. The value is shown below:"
   ]
  },
  {
   "cell_type": "code",
   "execution_count": null,
   "id": "dc8bf42f-39f7-47ef-bc3e-b6d777dae2a3",
   "metadata": {},
   "outputs": [],
   "source": [
    "image_location = json.loads(image_resp)[\"image_file_location\"]"
   ]
  },
  {
   "cell_type": "markdown",
   "id": "3fadc3e8-9889-4c37-8803-8446a9ff5d12",
   "metadata": {},
   "source": [
    "The `download_image` function can be called on its own as well using an image url and output filename"
   ]
  },
  {
   "cell_type": "code",
   "execution_count": null,
   "id": "9a0e5d7f-e441-4040-8a08-ad0e50499450",
   "metadata": {},
   "outputs": [],
   "source": [
    "downloaded_image_location = img_prompt_target.download_image(\n",
    "    image_url=image_resp[\"data\"][0][\"url\"], output_filename=\"image0.png\"\n",
    ")"
   ]
  },
  {
   "cell_type": "markdown",
   "id": "e0538ac0-dbab-419a-87a5-5df53fe3d17b",
   "metadata": {},
   "source": [
    "The image can be viewed using the code snippet below:"
   ]
  },
  {
   "cell_type": "code",
   "execution_count": null,
   "id": "a68cb202-8150-4a31-8686-0b0384f3e6a1",
   "metadata": {},
   "outputs": [],
   "source": [
    "from PIL import Image\n",
    "\n",
    "im = Image.open(image_location)\n",
    "im.show()"
   ]
  },
  {
   "cell_type": "code",
   "execution_count": null,
   "id": "053e0bac-daed-4c2c-be15-711508ee7a4f",
   "metadata": {},
   "outputs": [],
   "source": []
  }
 ],
 "metadata": {
  "kernelspec": {
   "display_name": "pyrit_kernel",
   "language": "python",
   "name": "pyrit_kernel"
  },
  "language_info": {
   "codemirror_mode": {
    "name": "ipython",
    "version": 3
   },
   "file_extension": ".py",
   "mimetype": "text/x-python",
   "name": "python",
   "nbconvert_exporter": "python",
   "pygments_lexer": "ipython3",
   "version": "3.10.13"
  }
 },
 "nbformat": 4,
 "nbformat_minor": 5
}
