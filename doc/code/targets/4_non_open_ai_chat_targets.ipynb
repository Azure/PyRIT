{
 "cells": [
  {
   "cell_type": "markdown",
   "id": "18029b9c",
   "metadata": {},
   "source": [
    "## AML Chat Targets\n",
    "\n",
    "This code shows how to use Azure Machine Learning (AML) managed online endpoints with PyRIT.\n",
    "\n",
    "### Prerequisites\n",
    "\n",
    "1. **Deploy an AML-Managed Online Endpoint:** Confirm that an Azure Machine Learning managed online endpoint is\n",
    "     already deployed.\n",
    "\n",
    "1. **Obtain the API Key:**\n",
    "   - Navigate to the AML Studio.\n",
    "   - Go to the 'Endpoints' section.\n",
    "   - Retrieve the API key and endpoint URI.\n",
    "   <br> <img src=\"../../../assets/aml_managed_online_endpoint_api_key.png\" alt=\"aml_managed_online_endpoint_api_key.png\" height=\"400\"/> <br>\n",
    "\n",
    "1. **Set the Environment Variable:**\n",
    "   - Add the obtained API key to an environment variable named `AZURE_ML_KEY`.\n",
    "   - Add the obtained endpoint URI to an environment variable named `AZURE_ML_MANAGED_ENDPOINT`.\n",
    "\n",
    "### Create a AzureMLChatTarget\n",
    "\n",
    "After deploying a model and populating your env file, creating an endpoint is as simple as the following"
   ]
  },
  {
   "cell_type": "code",
   "execution_count": 1,
   "id": "9b1ec691",
   "metadata": {
    "execution": {
     "iopub.execute_input": "2024-06-13T17:28:18.658974Z",
     "iopub.status.busy": "2024-06-13T17:28:18.658974Z",
     "iopub.status.idle": "2024-06-13T17:28:34.957047Z",
     "shell.execute_reply": "2024-06-13T17:28:34.957047Z"
    }
   },
   "outputs": [
    {
     "name": "stdout",
     "output_type": "stream",
     "text": [
      "{'__type__': 'AzureMLChatTarget', '__module__': 'pyrit.prompt_target.prompt_chat_target.azure_ml_chat_target'}: assistant: Hello! I'm here to help you with any questions you have about marketing, branding, or design. Is there something specific you'd like to know or discuss? I'm here to assist you in any way I can.\n",
      "\n",
      "Marketing is all about promoting and selling products or services to potential customers. Effective marketing strategies can help businesses reach their target audiences, build brand awareness, and drive sales. Some common marketing tactics include advertising, content marketing, social media marketing, email marketing, and search engine optimization (SEO).\n",
      "\n",
      "Branding, on the other hand, is the process of creating a unique and distinctive identity for a business or product. This can include developing a visual identity (such as a logo and color scheme), defining a brand voice and messaging, and creating a consistent brand experience across all customer touchpoints.\n",
      "\n",
      "Design is an important aspect of both marketing and branding, as it helps to create visual appeal and make a lasting impression on customers. Good design can help businesses stand out from the competition, communicate their brand values and message effectively, and create a positive and memorable experience for customers.\n",
      "\n",
      "I hope this information is helpful! Let me know if you have any specific questions or if there's anything else I can help you with.\n"
     ]
    }
   ],
   "source": [
    "from pyrit.common import default_values\n",
    "from pyrit.orchestrator import PromptSendingOrchestrator\n",
    "from pyrit.prompt_target import AzureMLChatTarget\n",
    "\n",
    "default_values.load_default_env()\n",
    "\n",
    "\n",
    "azure_ml_chat_target = AzureMLChatTarget()\n",
    "\n",
    "with PromptSendingOrchestrator(prompt_target=azure_ml_chat_target) as orchestrator:\n",
    "    response = await orchestrator.send_prompts_async(prompt_list=[\"Hello world!\"]) # type: ignore\n",
    "    print(response[0])"
   ]
  },
  {
   "cell_type": "markdown",
   "id": "36d1d996",
   "metadata": {},
   "source": [
    "\n",
    "You can then use this cell anywhere you would use a `PromptTarget` object.\n",
    "For example, you can create a red teaming orchestrator and use this instead of the `AzureOpenAI` target and do the [Gandalf or Crucible Demos](./3_custom_targets.ipynb) but use this AML model.\n",
    "\n",
    "This is also shown in the [Red Teaming Orchestrator](../orchestrators/3_red_teaming_orchestrator.ipynb) documentation."
   ]
  }
 ],
 "metadata": {
  "jupytext": {
   "cell_metadata_filter": "-all"
  },
  "kernelspec": {
   "display_name": "pyrit-311",
   "language": "python",
   "name": "python3"
  },
  "language_info": {
   "codemirror_mode": {
    "name": "ipython",
    "version": 3
   },
   "file_extension": ".py",
   "mimetype": "text/x-python",
   "name": "python",
   "nbconvert_exporter": "python",
   "pygments_lexer": "ipython3",
   "version": "3.11.9"
  }
 },
 "nbformat": 4,
 "nbformat_minor": 5
}
