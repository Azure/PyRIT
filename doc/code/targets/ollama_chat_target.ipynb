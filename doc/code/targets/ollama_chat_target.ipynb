{
 "cells": [
  {
   "cell_type": "markdown",
   "id": "0",
   "metadata": {
    "lines_to_next_cell": 0
   },
   "source": [
    "# OllamaChatTarget\n",
    "\n",
    "This example demonstrates how to use the `OllamaChatTarget` class in PyRIT to send a prompt\n",
    "to Ollama and retrieve a response.\n",
    "\n",
    "## Setup\n",
    "Before running this example, you need to set the following environment variables:\n",
    "```\n",
    "export OLLAMA_ENDPOINT=\"http://127.0.0.1:11434/api/chat\"\n",
    "export OLLAMA_MODEL_NAME=\"llama3:8b\"\n",
    "```\n",
    "Alternatively, you can pass these values as arguments when initializing `OllamaChatTarget`:\n",
    "```python\n",
    "groq_target = OllamaChatTarget(model_name=\"llama3:8b\", endpoint=\"http://127.0.0.1:11434/api/chat\")\n",
    "```\n",
    "## Example\n",
    "The following code initializes `OllamaChatTarget`, sends a prompt using `PromptSendingOrchestrator`,\n",
    "and retrieves a response."
   ]
  },
  {
   "cell_type": "code",
   "execution_count": null,
   "id": "1",
   "metadata": {},
   "outputs": [
    {
     "name": "stdout",
     "output_type": "stream",
     "text": [
      "\u001b[22m\u001b[39mConversation ID: eef99ec0-2e68-42f6-8164-55692cb0a196\n",
      "\u001b[1m\u001b[34muser: Why is the sky blue ?\n",
      "\u001b[22m\u001b[33massistant: A question that has puzzled humans for centuries!\n",
      "\n",
      "The sky appears blue because of a phenomenon called Rayleigh scattering, named after the British physicist Lord Rayleigh. Here's what happens:\n",
      "\n",
      "1. **Light from the sun**: The sun emits light of all wavelengths (colors) in the electromagnetic spectrum.\n",
      "2. **Atmosphere**: When this light enters Earth's atmosphere, it encounters tiny molecules of gases like nitrogen (N2), oxygen (O2), and water vapor (H2O). These molecules are much smaller than the wavelength of light.\n",
      "3. **Scattering**: As the light hits these small molecules, it scatters in all directions. This scattering is more pronounced for shorter wavelengths (like blue and violet) than longer wavelengths (like red and orange).\n",
      "4. **Blue dominance**: Since the scattering effect is greater for shorter wavelengths, the blue light is scattered more than other colors. This is why our atmosphere appears blue during the daytime.\n",
      "5. **Red light prevails**: The longer wavelengths of light, like red and orange, are less affected by Rayleigh scattering and continue to travel in a straight line, reaching our eyes without significant scattering.\n",
      "\n",
      "When we look at the sky, we see the combined effect of all these colors being scattered and absorbed. The blue color dominates because it's scattered more efficiently, making the sky appear blue to our eyes!\n",
      "\n",
      "Now, you might wonder: \"What about sunsets?\" Ah, that's a great question! During sunrise and sunset, the sun appears orange or red because:\n",
      "\n",
      "1. **Longer wavelengths**: When the sun is lower in the sky (during sunrise and sunset), its light has to travel longer distances through the atmosphere.\n",
      "2. **Scattering and absorption**: The shorter wavelengths of blue and violet light are scattered away more quickly, leaving mainly the longer wavelengths (red and orange) to reach our eyes.\n",
      "\n",
      "So, there you have it! The blue color we see in the sky is due to the scattering of sunlight by tiny molecules in our atmosphere.\n"
     ]
    }
   ],
   "source": [
    "\n",
    "from pyrit.common import IN_MEMORY, initialize_pyrit\n",
    "from pyrit.orchestrator import PromptSendingOrchestrator\n",
    "from pyrit.prompt_target import OllamaChatTarget\n",
    "\n",
    "initialize_pyrit(memory_db_type=IN_MEMORY)\n",
    "\n",
    "groq_target = OllamaChatTarget()\n",
    "\n",
    "prompt = \"Why is the sky blue ?\"\n",
    "\n",
    "orchestrator = PromptSendingOrchestrator(objective_target=groq_target)\n",
    "\n",
    "response = await orchestrator.send_prompts_async(prompt_list=[prompt])  # type: ignore\n",
    "await orchestrator.print_conversations_async()  # type: ignore"
   ]
  }
 ],
 "metadata": {
  "jupytext": {
   "cell_metadata_filter": "-all"
  },
  "language_info": {
   "codemirror_mode": {
    "name": "ipython",
    "version": 3
   },
   "file_extension": ".py",
   "mimetype": "text/x-python",
   "name": "python",
   "nbconvert_exporter": "python",
   "pygments_lexer": "ipython3",
   "version": "3.12.0"
  }
 },
 "nbformat": 4,
 "nbformat_minor": 5
}
