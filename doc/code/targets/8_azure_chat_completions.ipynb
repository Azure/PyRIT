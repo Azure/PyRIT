{
 "cells": [
  {
   "cell_type": "markdown",
   "metadata": {},
   "source": [
    "# Azure Chat Completions Target\n",
    "\n",
    "This will allow you to easily interact with models in Azure AI Foundry, such as DeepSeek R1."
   ]
  },
  {
   "cell_type": "code",
   "execution_count": 1,
   "metadata": {},
   "outputs": [
    {
     "ename": "TypeError",
     "evalue": "key must be a string.",
     "output_type": "error",
     "traceback": [
      "\u001b[1;31m---------------------------------------------------------------------------\u001b[0m",
      "\u001b[1;31mTypeError\u001b[0m                                 Traceback (most recent call last)",
      "Cell \u001b[1;32mIn[1], line 10\u001b[0m\n\u001b[0;32m      5\u001b[0m initialize_pyrit(memory_db_type\u001b[38;5;241m=\u001b[39mIN_MEMORY)\n\u001b[0;32m      8\u001b[0m prompt\u001b[38;5;241m=\u001b[39m\u001b[38;5;124m\"\u001b[39m\u001b[38;5;124mTell me a joke?\u001b[39m\u001b[38;5;124m\"\u001b[39m\n\u001b[1;32m---> 10\u001b[0m target \u001b[38;5;241m=\u001b[39m \u001b[43mAzureChatCompletionsTarget\u001b[49m\u001b[43m(\u001b[49m\u001b[43m)\u001b[49m\n\u001b[0;32m     12\u001b[0m orchestrator \u001b[38;5;241m=\u001b[39m PromptSendingOrchestrator(objective_target\u001b[38;5;241m=\u001b[39mtarget)\n\u001b[0;32m     14\u001b[0m response \u001b[38;5;241m=\u001b[39m \u001b[38;5;28;01mawait\u001b[39;00m orchestrator\u001b[38;5;241m.\u001b[39msend_prompts_async(prompt_list\u001b[38;5;241m=\u001b[39m[prompt])  \u001b[38;5;66;03m# type: ignore\u001b[39;00m\n",
      "File \u001b[1;32mD:\\git\\PyRIT-internal\\PyRIT\\pyrit\\prompt_target\\azure_chat_completions_target.py:53\u001b[0m, in \u001b[0;36mAzureChatCompletionsTarget.__init__\u001b[1;34m(self, endpoint, api_key, use_aad_auth, max_requests_per_minute, frequency_penalty, presence_penalty, max_tokens, temperature, top_p, seed)\u001b[0m\n\u001b[0;32m     51\u001b[0m     credential\u001b[38;5;241m=\u001b[39mDefaultAzureCredential()\n\u001b[0;32m     52\u001b[0m \u001b[38;5;28;01melse\u001b[39;00m:\n\u001b[1;32m---> 53\u001b[0m     credential\u001b[38;5;241m=\u001b[39m\u001b[43mAzureKeyCredential\u001b[49m\u001b[43m(\u001b[49m\u001b[43mapi_key\u001b[49m\u001b[43m)\u001b[49m\n\u001b[0;32m     55\u001b[0m \u001b[38;5;28mself\u001b[39m\u001b[38;5;241m.\u001b[39m_client \u001b[38;5;241m=\u001b[39m ChatCompletionsClient(\n\u001b[0;32m     56\u001b[0m     endpoint\u001b[38;5;241m=\u001b[39m\u001b[38;5;28mself\u001b[39m\u001b[38;5;241m.\u001b[39mendpoint,\n\u001b[0;32m     57\u001b[0m     credential\u001b[38;5;241m=\u001b[39mcredential,\n\u001b[1;32m   (...)\u001b[0m\n\u001b[0;32m     63\u001b[0m     seed\u001b[38;5;241m=\u001b[39mseed,\n\u001b[0;32m     64\u001b[0m )\n",
      "File \u001b[1;32mc:\\Users\\rlundeen\\AppData\\Local\\miniconda3\\envs\\pyrit-312\\Lib\\site-packages\\azure\\core\\credentials.py:155\u001b[0m, in \u001b[0;36mAzureKeyCredential.__init__\u001b[1;34m(self, key)\u001b[0m\n\u001b[0;32m    153\u001b[0m \u001b[38;5;28;01mdef\u001b[39;00m\u001b[38;5;250m \u001b[39m\u001b[38;5;21m__init__\u001b[39m(\u001b[38;5;28mself\u001b[39m, key: \u001b[38;5;28mstr\u001b[39m) \u001b[38;5;241m-\u001b[39m\u001b[38;5;241m>\u001b[39m \u001b[38;5;28;01mNone\u001b[39;00m:\n\u001b[0;32m    154\u001b[0m     \u001b[38;5;28;01mif\u001b[39;00m \u001b[38;5;129;01mnot\u001b[39;00m \u001b[38;5;28misinstance\u001b[39m(key, \u001b[38;5;28mstr\u001b[39m):\n\u001b[1;32m--> 155\u001b[0m         \u001b[38;5;28;01mraise\u001b[39;00m \u001b[38;5;167;01mTypeError\u001b[39;00m(\u001b[38;5;124m\"\u001b[39m\u001b[38;5;124mkey must be a string.\u001b[39m\u001b[38;5;124m\"\u001b[39m)\n\u001b[0;32m    156\u001b[0m     \u001b[38;5;28mself\u001b[39m\u001b[38;5;241m.\u001b[39m_key \u001b[38;5;241m=\u001b[39m key\n",
      "\u001b[1;31mTypeError\u001b[0m: key must be a string."
     ]
    }
   ],
   "source": [
    "\n",
    "from pyrit.common import IN_MEMORY, initialize_pyrit\n",
    "from pyrit.orchestrator import PromptSendingOrchestrator\n",
    "from pyrit.prompt_target.azure_chat_completions_target import AzureChatCompletionsTarget\n",
    "\n",
    "initialize_pyrit(memory_db_type=IN_MEMORY)\n",
    "\n",
    "\n",
    "prompt=\"Tell me a joke?\"\n",
    "\n",
    "target = AzureChatCompletionsTarget()\n",
    "\n",
    "orchestrator = PromptSendingOrchestrator(objective_target=target)\n",
    "\n",
    "response = await orchestrator.send_prompts_async(prompt_list=[prompt])  # type: ignore\n",
    "await orchestrator.print_conversations_async()  # type: ignore"
   ]
  }
 ],
 "metadata": {
  "kernelspec": {
   "display_name": "pyrit-312",
   "language": "python",
   "name": "python3"
  },
  "language_info": {
   "codemirror_mode": {
    "name": "ipython",
    "version": 3
   },
   "file_extension": ".py",
   "mimetype": "text/x-python",
   "name": "python",
   "nbconvert_exporter": "python",
   "pygments_lexer": "ipython3",
   "version": "3.12.8"
  }
 },
 "nbformat": 4,
 "nbformat_minor": 2
}
