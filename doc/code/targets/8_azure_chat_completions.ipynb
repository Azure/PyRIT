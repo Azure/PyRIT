{
 "cells": [
  {
   "cell_type": "markdown",
   "metadata": {},
   "source": [
    "# Azure Chat Completions Target\n",
    "\n",
    "This will allow you to easily interact with models in Azure AI Foundry, such as DeepSeek R1."
   ]
  },
  {
   "cell_type": "code",
   "execution_count": 1,
   "metadata": {},
   "outputs": [
    {
     "ename": "TypeError",
     "evalue": "DuckDBMemory.add_request_pieces_to_memory() got an unexpected keyword argument 'prompts'",
     "output_type": "error",
     "traceback": [
      "\u001b[1;31m---------------------------------------------------------------------------\u001b[0m",
      "\u001b[1;31mTypeError\u001b[0m                                 Traceback (most recent call last)",
      "Cell \u001b[1;32mIn[1], line 15\u001b[0m\n\u001b[0;32m     11\u001b[0m target \u001b[38;5;241m=\u001b[39m AzureChatCompletionsTarget()\n\u001b[0;32m     13\u001b[0m orchestrator \u001b[38;5;241m=\u001b[39m PromptSendingOrchestrator(objective_target\u001b[38;5;241m=\u001b[39mtarget)\n\u001b[1;32m---> 15\u001b[0m response \u001b[38;5;241m=\u001b[39m \u001b[38;5;28;01mawait\u001b[39;00m orchestrator\u001b[38;5;241m.\u001b[39msend_prompts_async(prompt_list\u001b[38;5;241m=\u001b[39m[prompt])  \u001b[38;5;66;03m# type: ignore\u001b[39;00m\n\u001b[0;32m     16\u001b[0m \u001b[38;5;28;01mawait\u001b[39;00m orchestrator\u001b[38;5;241m.\u001b[39mprint_conversations_async()  \u001b[38;5;66;03m# type: ignore\u001b[39;00m\n",
      "File \u001b[1;32mD:\\git\\PyRIT-internal\\PyRIT\\pyrit\\orchestrator\\single_turn\\prompt_sending_orchestrator.py:156\u001b[0m, in \u001b[0;36mPromptSendingOrchestrator.send_prompts_async\u001b[1;34m(self, prompt_list, prompt_type, memory_labels, metadata)\u001b[0m\n\u001b[0;32m    144\u001b[0m \u001b[38;5;28;01mfor\u001b[39;00m prompt \u001b[38;5;129;01min\u001b[39;00m prompt_list:\n\u001b[0;32m    146\u001b[0m     requests\u001b[38;5;241m.\u001b[39mappend(\n\u001b[0;32m    147\u001b[0m         \u001b[38;5;28mself\u001b[39m\u001b[38;5;241m.\u001b[39m_create_normalizer_request(\n\u001b[0;32m    148\u001b[0m             prompt_text\u001b[38;5;241m=\u001b[39mprompt,\n\u001b[1;32m   (...)\u001b[0m\n\u001b[0;32m    153\u001b[0m         )\n\u001b[0;32m    154\u001b[0m     )\n\u001b[1;32m--> 156\u001b[0m \u001b[38;5;28;01mreturn\u001b[39;00m \u001b[38;5;28;01mawait\u001b[39;00m \u001b[38;5;28mself\u001b[39m\u001b[38;5;241m.\u001b[39msend_normalizer_requests_async(\n\u001b[0;32m    157\u001b[0m     prompt_request_list\u001b[38;5;241m=\u001b[39mrequests,\n\u001b[0;32m    158\u001b[0m     memory_labels\u001b[38;5;241m=\u001b[39mcombine_dict(existing_dict\u001b[38;5;241m=\u001b[39m\u001b[38;5;28mself\u001b[39m\u001b[38;5;241m.\u001b[39m_global_memory_labels, new_dict\u001b[38;5;241m=\u001b[39mmemory_labels),\n\u001b[0;32m    159\u001b[0m )\n",
      "File \u001b[1;32mD:\\git\\PyRIT-internal\\PyRIT\\pyrit\\orchestrator\\single_turn\\prompt_sending_orchestrator.py:97\u001b[0m, in \u001b[0;36mPromptSendingOrchestrator.send_normalizer_requests_async\u001b[1;34m(self, prompt_request_list, memory_labels)\u001b[0m\n\u001b[0;32m     93\u001b[0m     prompt\u001b[38;5;241m.\u001b[39mconversation_id \u001b[38;5;241m=\u001b[39m \u001b[38;5;28mself\u001b[39m\u001b[38;5;241m.\u001b[39m_prepare_conversation()\n\u001b[0;32m     95\u001b[0m \u001b[38;5;66;03m# Normalizer is responsible for storing the requests in memory\u001b[39;00m\n\u001b[0;32m     96\u001b[0m \u001b[38;5;66;03m# The labels parameter may allow me to stash class information for each kind of prompt.\u001b[39;00m\n\u001b[1;32m---> 97\u001b[0m responses: \u001b[38;5;28mlist\u001b[39m[PromptRequestResponse] \u001b[38;5;241m=\u001b[39m \u001b[38;5;28;01mawait\u001b[39;00m \u001b[38;5;28mself\u001b[39m\u001b[38;5;241m.\u001b[39m_prompt_normalizer\u001b[38;5;241m.\u001b[39msend_prompt_batch_to_target_async(\n\u001b[0;32m     98\u001b[0m     requests\u001b[38;5;241m=\u001b[39mprompt_request_list,\n\u001b[0;32m     99\u001b[0m     target\u001b[38;5;241m=\u001b[39m\u001b[38;5;28mself\u001b[39m\u001b[38;5;241m.\u001b[39m_objective_target,\n\u001b[0;32m    100\u001b[0m     labels\u001b[38;5;241m=\u001b[39mcombine_dict(existing_dict\u001b[38;5;241m=\u001b[39m\u001b[38;5;28mself\u001b[39m\u001b[38;5;241m.\u001b[39m_global_memory_labels, new_dict\u001b[38;5;241m=\u001b[39mmemory_labels),\n\u001b[0;32m    101\u001b[0m     orchestrator_identifier\u001b[38;5;241m=\u001b[39m\u001b[38;5;28mself\u001b[39m\u001b[38;5;241m.\u001b[39mget_identifier(),\n\u001b[0;32m    102\u001b[0m     batch_size\u001b[38;5;241m=\u001b[39m\u001b[38;5;28mself\u001b[39m\u001b[38;5;241m.\u001b[39m_batch_size,\n\u001b[0;32m    103\u001b[0m )\n\u001b[0;32m    105\u001b[0m \u001b[38;5;28;01mif\u001b[39;00m \u001b[38;5;28mself\u001b[39m\u001b[38;5;241m.\u001b[39m_scorers \u001b[38;5;129;01mand\u001b[39;00m responses:\n\u001b[0;32m    106\u001b[0m     response_pieces \u001b[38;5;241m=\u001b[39m PromptRequestResponse\u001b[38;5;241m.\u001b[39mflatten_to_prompt_request_pieces(responses)\n",
      "File \u001b[1;32mD:\\git\\PyRIT-internal\\PyRIT\\pyrit\\prompt_normalizer\\prompt_normalizer.py:171\u001b[0m, in \u001b[0;36mPromptNormalizer.send_prompt_batch_to_target_async\u001b[1;34m(self, requests, target, labels, orchestrator_identifier, batch_size)\u001b[0m\n\u001b[0;32m    157\u001b[0m batch_items: List[List[Any]] \u001b[38;5;241m=\u001b[39m [\n\u001b[0;32m    158\u001b[0m     [request\u001b[38;5;241m.\u001b[39mseed_prompt_group \u001b[38;5;28;01mfor\u001b[39;00m request \u001b[38;5;129;01min\u001b[39;00m requests],\n\u001b[0;32m    159\u001b[0m     [request\u001b[38;5;241m.\u001b[39mrequest_converter_configurations \u001b[38;5;28;01mfor\u001b[39;00m request \u001b[38;5;129;01min\u001b[39;00m requests],\n\u001b[0;32m    160\u001b[0m     [request\u001b[38;5;241m.\u001b[39mresponse_converter_configurations \u001b[38;5;28;01mfor\u001b[39;00m request \u001b[38;5;129;01min\u001b[39;00m requests],\n\u001b[0;32m    161\u001b[0m     [request\u001b[38;5;241m.\u001b[39mconversation_id \u001b[38;5;28;01mfor\u001b[39;00m request \u001b[38;5;129;01min\u001b[39;00m requests],\n\u001b[0;32m    162\u001b[0m ]\n\u001b[0;32m    164\u001b[0m batch_item_keys \u001b[38;5;241m=\u001b[39m [\n\u001b[0;32m    165\u001b[0m     \u001b[38;5;124m\"\u001b[39m\u001b[38;5;124mseed_prompt_group\u001b[39m\u001b[38;5;124m\"\u001b[39m,\n\u001b[0;32m    166\u001b[0m     \u001b[38;5;124m\"\u001b[39m\u001b[38;5;124mrequest_converter_configurations\u001b[39m\u001b[38;5;124m\"\u001b[39m,\n\u001b[0;32m    167\u001b[0m     \u001b[38;5;124m\"\u001b[39m\u001b[38;5;124mresponse_converter_configurations\u001b[39m\u001b[38;5;124m\"\u001b[39m,\n\u001b[0;32m    168\u001b[0m     \u001b[38;5;124m\"\u001b[39m\u001b[38;5;124mconversation_id\u001b[39m\u001b[38;5;124m\"\u001b[39m,\n\u001b[0;32m    169\u001b[0m ]\n\u001b[1;32m--> 171\u001b[0m responses \u001b[38;5;241m=\u001b[39m \u001b[38;5;28;01mawait\u001b[39;00m batch_task_async(\n\u001b[0;32m    172\u001b[0m     prompt_target\u001b[38;5;241m=\u001b[39mtarget,\n\u001b[0;32m    173\u001b[0m     batch_size\u001b[38;5;241m=\u001b[39mbatch_size,\n\u001b[0;32m    174\u001b[0m     items_to_batch\u001b[38;5;241m=\u001b[39mbatch_items,\n\u001b[0;32m    175\u001b[0m     task_func\u001b[38;5;241m=\u001b[39m\u001b[38;5;28mself\u001b[39m\u001b[38;5;241m.\u001b[39msend_prompt_async,\n\u001b[0;32m    176\u001b[0m     task_arguments\u001b[38;5;241m=\u001b[39mbatch_item_keys,\n\u001b[0;32m    177\u001b[0m     target\u001b[38;5;241m=\u001b[39mtarget,\n\u001b[0;32m    178\u001b[0m     labels\u001b[38;5;241m=\u001b[39mlabels,\n\u001b[0;32m    179\u001b[0m     orchestrator_identifier\u001b[38;5;241m=\u001b[39morchestrator_identifier,\n\u001b[0;32m    180\u001b[0m )\n\u001b[0;32m    182\u001b[0m \u001b[38;5;66;03m# send_prompt_async can return None if the prompt is skipped\u001b[39;00m\n\u001b[0;32m    183\u001b[0m \u001b[38;5;28;01mreturn\u001b[39;00m [response \u001b[38;5;28;01mfor\u001b[39;00m response \u001b[38;5;129;01min\u001b[39;00m responses \u001b[38;5;28;01mif\u001b[39;00m response \u001b[38;5;129;01mis\u001b[39;00m \u001b[38;5;129;01mnot\u001b[39;00m \u001b[38;5;28;01mNone\u001b[39;00m]\n",
      "File \u001b[1;32mD:\\git\\PyRIT-internal\\PyRIT\\pyrit\\common\\batch_helper.py:87\u001b[0m, in \u001b[0;36mbatch_task_async\u001b[1;34m(prompt_target, batch_size, items_to_batch, task_func, task_arguments, **task_kwargs)\u001b[0m\n\u001b[0;32m     84\u001b[0m             task_kwargs[task_argument] \u001b[38;5;241m=\u001b[39m task_args[arg_index][batch_index]\n\u001b[0;32m     85\u001b[0m         tasks\u001b[38;5;241m.\u001b[39mappend(task_func(\u001b[38;5;241m*\u001b[39m\u001b[38;5;241m*\u001b[39mtask_kwargs))\n\u001b[1;32m---> 87\u001b[0m     batch_results \u001b[38;5;241m=\u001b[39m \u001b[38;5;28;01mawait\u001b[39;00m asyncio\u001b[38;5;241m.\u001b[39mgather(\u001b[38;5;241m*\u001b[39mtasks)\n\u001b[0;32m     88\u001b[0m     responses\u001b[38;5;241m.\u001b[39mextend(batch_results)\n\u001b[0;32m     90\u001b[0m \u001b[38;5;28;01mreturn\u001b[39;00m responses\n",
      "File \u001b[1;32mD:\\git\\PyRIT-internal\\PyRIT\\pyrit\\prompt_normalizer\\prompt_normalizer.py:94\u001b[0m, in \u001b[0;36mPromptNormalizer.send_prompt_async\u001b[1;34m(self, seed_prompt_group, target, conversation_id, request_converter_configurations, response_converter_configurations, sequence, labels, orchestrator_identifier)\u001b[0m\n\u001b[0;32m     91\u001b[0m response \u001b[38;5;241m=\u001b[39m \u001b[38;5;28;01mNone\u001b[39;00m\n\u001b[0;32m     93\u001b[0m \u001b[38;5;28;01mtry\u001b[39;00m:\n\u001b[1;32m---> 94\u001b[0m     response \u001b[38;5;241m=\u001b[39m \u001b[38;5;28;01mawait\u001b[39;00m target\u001b[38;5;241m.\u001b[39msend_prompt_async(prompt_request\u001b[38;5;241m=\u001b[39mrequest)\n\u001b[0;32m     95\u001b[0m     \u001b[38;5;28mself\u001b[39m\u001b[38;5;241m.\u001b[39m_memory\u001b[38;5;241m.\u001b[39madd_request_response_to_memory(request\u001b[38;5;241m=\u001b[39mrequest)\n\u001b[0;32m     96\u001b[0m \u001b[38;5;28;01mexcept\u001b[39;00m EmptyResponseException:\n\u001b[0;32m     97\u001b[0m     \u001b[38;5;66;03m# Empty responses are retried, but we don't want them to stop execution\u001b[39;00m\n",
      "File \u001b[1;32mD:\\git\\PyRIT-internal\\PyRIT\\pyrit\\prompt_target\\common\\utils.py:26\u001b[0m, in \u001b[0;36mlimit_requests_per_minute.<locals>.set_max_rpm\u001b[1;34m(*args, **kwargs)\u001b[0m\n\u001b[0;32m     23\u001b[0m \u001b[38;5;28;01mif\u001b[39;00m rpm \u001b[38;5;129;01mand\u001b[39;00m rpm \u001b[38;5;241m>\u001b[39m \u001b[38;5;241m0\u001b[39m:\n\u001b[0;32m     24\u001b[0m     \u001b[38;5;28;01mawait\u001b[39;00m asyncio\u001b[38;5;241m.\u001b[39msleep(\u001b[38;5;241m60\u001b[39m \u001b[38;5;241m/\u001b[39m rpm)\n\u001b[1;32m---> 26\u001b[0m \u001b[38;5;28;01mreturn\u001b[39;00m \u001b[38;5;28;01mawait\u001b[39;00m func(\u001b[38;5;241m*\u001b[39margs, \u001b[38;5;241m*\u001b[39m\u001b[38;5;241m*\u001b[39mkwargs)\n",
      "File \u001b[1;32mD:\\git\\PyRIT-internal\\PyRIT\\pyrit\\prompt_target\\azure_chat_completions_target.py:96\u001b[0m, in \u001b[0;36mAzureChatCompletionsTarget.send_prompt_async\u001b[1;34m(self, prompt_request)\u001b[0m\n\u001b[0;32m     94\u001b[0m azure_filter_scores \u001b[38;5;241m=\u001b[39m response\u001b[38;5;241m.\u001b[39mchoices[\u001b[38;5;241m0\u001b[39m]\u001b[38;5;241m.\u001b[39mget(\u001b[38;5;124m\"\u001b[39m\u001b[38;5;124mcontent_filter_results\u001b[39m\u001b[38;5;124m\"\u001b[39m)\n\u001b[0;32m     95\u001b[0m \u001b[38;5;28;01mif\u001b[39;00m azure_filter_scores:\n\u001b[1;32m---> 96\u001b[0m     \u001b[38;5;28;43mself\u001b[39;49m\u001b[38;5;241;43m.\u001b[39;49m\u001b[43m_add_scores\u001b[49m\u001b[43m(\u001b[49m\u001b[43mazure_filter_scores\u001b[49m\u001b[38;5;241;43m=\u001b[39;49m\u001b[43mazure_filter_scores\u001b[49m\u001b[43m,\u001b[49m\u001b[43m \u001b[49m\u001b[43mprompt_request\u001b[49m\u001b[38;5;241;43m=\u001b[39;49m\u001b[43mrequest_piece\u001b[49m\u001b[43m)\u001b[49m\n\u001b[0;32m     97\u001b[0m finish_reason \u001b[38;5;241m=\u001b[39m response\u001b[38;5;241m.\u001b[39mchoices[\u001b[38;5;241m0\u001b[39m][\u001b[38;5;124m\"\u001b[39m\u001b[38;5;124mfinish_reason\u001b[39m\u001b[38;5;124m\"\u001b[39m] \u001b[38;5;66;03m# should be stop if things were a success\u001b[39;00m\n\u001b[0;32m     99\u001b[0m response_type \u001b[38;5;241m=\u001b[39m \u001b[38;5;124m\"\u001b[39m\u001b[38;5;124mtext\u001b[39m\u001b[38;5;124m\"\u001b[39m\n",
      "File \u001b[1;32mD:\\git\\PyRIT-internal\\PyRIT\\pyrit\\prompt_target\\azure_chat_completions_target.py:131\u001b[0m, in \u001b[0;36mAzureChatCompletionsTarget._add_scores\u001b[1;34m(self, azure_filter_scores, prompt_request)\u001b[0m\n\u001b[0;32m    126\u001b[0m         scores\u001b[38;5;241m.\u001b[39mappend(score)\n\u001b[0;32m    128\u001b[0m \u001b[38;5;28;01mif\u001b[39;00m scores:\n\u001b[0;32m    129\u001b[0m     \u001b[38;5;66;03m# need to insert the prompt first since it has a primary key constraint\u001b[39;00m\n\u001b[0;32m    130\u001b[0m     \u001b[38;5;66;03m# this will be re-inserted by prompt_normalizer, but that's okay\u001b[39;00m\n\u001b[1;32m--> 131\u001b[0m     \u001b[38;5;28mself\u001b[39m\u001b[38;5;241m.\u001b[39m_memory\u001b[38;5;241m.\u001b[39madd_request_pieces_to_memory(request_pieces\u001b[38;5;241m=\u001b[39m[prompt_request])\n\u001b[0;32m    132\u001b[0m     \u001b[38;5;28mself\u001b[39m\u001b[38;5;241m.\u001b[39m_memory\u001b[38;5;241m.\u001b[39madd_scores_to_memory(scores\u001b[38;5;241m=\u001b[39mscores)\n",
      "\u001b[1;31mTypeError\u001b[0m: DuckDBMemory.add_request_pieces_to_memory() got an unexpected keyword argument 'prompts'"
     ]
    }
   ],
   "source": [
    "\n",
    "from pyrit.common import IN_MEMORY, initialize_pyrit\n",
    "from pyrit.orchestrator import PromptSendingOrchestrator\n",
    "from pyrit.prompt_target.azure_chat_completions_target import AzureChatCompletionsTarget\n",
    "\n",
    "initialize_pyrit(memory_db_type=IN_MEMORY)\n",
    "\n",
    "\n",
    "prompt=\"Tell me a joke?\"\n",
    "\n",
    "target = AzureChatCompletionsTarget()\n",
    "\n",
    "orchestrator = PromptSendingOrchestrator(objective_target=target)\n",
    "\n",
    "response = await orchestrator.send_prompts_async(prompt_list=[prompt])  # type: ignore\n",
    "await orchestrator.print_conversations_async()  # type: ignore"
   ]
  }
 ],
 "metadata": {
  "kernelspec": {
   "display_name": "pyrit-312",
   "language": "python",
   "name": "python3"
  },
  "language_info": {
   "codemirror_mode": {
    "name": "ipython",
    "version": 3
   },
   "file_extension": ".py",
   "mimetype": "text/x-python",
   "name": "python",
   "nbconvert_exporter": "python",
   "pygments_lexer": "ipython3",
   "version": "3.12.8"
  }
 },
 "nbformat": 4,
 "nbformat_minor": 2
}
