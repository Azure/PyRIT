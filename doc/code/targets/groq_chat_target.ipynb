{
 "cells": [
  {
   "cell_type": "markdown",
   "id": "0",
   "metadata": {
    "lines_to_next_cell": 0
   },
   "source": [
    "# GroqChatTarget\n",
    "\n",
    "This example demonstrates how to use the `GroqChatTarget` class in PyRIT to send a prompt\n",
    "to a Groq model and retrieve a response.\n",
    "\n",
    "## Setup\n",
    "Before running this example, you need to set the following environment variables:\n",
    "\n",
    "```\n",
    "export GROQ_API_KEY=\"your_api_key_here\"\n",
    "export GROQ_MODEL_NAME=\"llama3-8b-8192\"\n",
    "```\n",
    "\n",
    "Alternatively, you can pass these values as arguments when initializing `GroqChatTarget`:\n",
    "\n",
    "```python\n",
    "groq_target = GroqChatTarget(model_name=\"llama3-8b-8192\", api_key=\"your_api_key_here\")\n",
    "```\n",
    "\n",
    "You can also limit the request rate using `max_requests_per_minute`.\n",
    "\n",
    "## Example\n",
    "The following code initializes `GroqChatTarget`, sends a prompt using `PromptSendingOrchestrator`,\n",
    "and retrieves a response."
   ]
  },
  {
   "cell_type": "code",
   "execution_count": null,
   "id": "1",
   "metadata": {},
   "outputs": [],
   "source": [
    "\n",
    "from pyrit.common import IN_MEMORY, initialize_pyrit\n",
    "from pyrit.orchestrator import PromptSendingOrchestrator\n",
    "from pyrit.prompt_target import GroqChatTarget\n",
    "\n",
    "initialize_pyrit(memory_db_type=IN_MEMORY)\n",
    "\n",
    "groq_target = GroqChatTarget()\n",
    "\n",
    "prompt = \"Why is the sky blue ?\"\n",
    "\n",
    "orchestrator = PromptSendingOrchestrator(objective_target=groq_target)\n",
    "\n",
    "response = await orchestrator.send_prompts_async(prompt_list=[prompt])  # type: ignore\n",
    "await orchestrator.print_conversations_async()  # type: ignore"
   ]
  }
 ],
 "metadata": {
  "jupytext": {
   "cell_metadata_filter": "-all",
   "main_language": "python",
   "notebook_metadata_filter": "-all"
  }
 },
 "nbformat": 4,
 "nbformat_minor": 5
}
