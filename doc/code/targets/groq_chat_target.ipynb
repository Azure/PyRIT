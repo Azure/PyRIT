{
 "cells": [
  {
   "cell_type": "markdown",
   "id": "0",
   "metadata": {
    "lines_to_next_cell": 0
   },
   "source": [
    "# GroqChatTarget\n",
    "\n",
    "This example demonstrates how to use the `GroqChatTarget` class in PyRIT to send a prompt\n",
    "to Groq and retrieve a response.\n",
    "\n",
    "## Setup\n",
    "Before running this example, you need to set the following environment variables:\n",
    "\n",
    "```\n",
    "export GROQ_API_KEY=\"your_api_key_here\"\n",
    "export GROQ_MODEL_NAME=\"llama3-8b-8192\"\n",
    "```\n",
    "\n",
    "Alternatively, you can pass these values as arguments when initializing `GroqChatTarget`:\n",
    "\n",
    "```python\n",
    "groq_target = GroqChatTarget(model_name=\"llama3-8b-8192\", api_key=\"your_api_key_here\")\n",
    "```\n",
    "## Example\n",
    "The following code initializes `GroqChatTarget`, sends a prompt using `PromptSendingOrchestrator`,\n",
    "and retrieves a response."
   ]
  },
  {
   "cell_type": "code",
   "execution_count": null,
   "id": "1",
   "metadata": {},
   "outputs": [
    {
     "name": "stdout",
     "output_type": "stream",
     "text": [
      "\u001b[22m\u001b[39mConversation ID: 5a51de2b-4949-4dcb-82bd-90c2c873524c\n",
      "\u001b[1m\u001b[34muser: Why is the sky blue ?\n",
      "\u001b[22m\u001b[33massistant: The sky appears blue because of a phenomenon called scattering, which is the way that light interacts with tiny molecules of gases in the Earth's atmosphere.\n",
      "\n",
      "Here's what happens:\n",
      "\n",
      "1. When sunlight enters the Earth's atmosphere, it encounters tiny molecules of gases such as nitrogen (N2) and oxygen (O2).\n",
      "2. These molecules are much smaller than the wavelength of light, so they scatter the light in all directions.\n",
      "3. The shorter, blue wavelengths are scattered more than the longer, red wavelengths. This is known as Rayleigh scattering, named after the British physicist Lord Rayleigh, who first described the phenomenon in the late 19th century.\n",
      "4. As a result of this scattering, the blue light is distributed throughout the atmosphere, giving the sky its blue appearance.\n",
      "5. The color of the sky can appear more vivid during the daytime because the sun is overhead and the light has to travel through less of the atmosphere, which means less scattering of the blue light.\n",
      "\n",
      "Other factors can affect the color of the sky, such as:\n",
      "\n",
      "* Atmospheric conditions: Dust, water vapor, and pollutants in the air can scatter the light in different ways, giving the sky a more hazy or grayish appearance.\n",
      "* Time of day: The color of the sky can change during sunrise and sunset as the sun's rays have to travel through more of the atmosphere, scattering the shorter blue wavelengths and making the sky appear more red or orange.\n",
      "* Altitude: At higher elevations, the air is thinner and there are fewer molecules to scatter the light, making the sky appear more intense blue.\n",
      "\n",
      "So, to summarize, the blue color of the sky is due to the scattering of sunlight by tiny molecules in the Earth's atmosphere, with the shorter blue wavelengths being scattered more than the longer red wavelengths.\n"
     ]
    }
   ],
   "source": [
    "\n",
    "from pyrit.common import IN_MEMORY, initialize_pyrit\n",
    "from pyrit.orchestrator import PromptSendingOrchestrator\n",
    "from pyrit.prompt_target import GroqChatTarget\n",
    "\n",
    "initialize_pyrit(memory_db_type=IN_MEMORY)\n",
    "\n",
    "groq_target = GroqChatTarget()\n",
    "\n",
    "prompt = \"Why is the sky blue ?\"\n",
    "\n",
    "orchestrator = PromptSendingOrchestrator(objective_target=groq_target)\n",
    "\n",
    "response = await orchestrator.send_prompts_async(prompt_list=[prompt])  # type: ignore\n",
    "await orchestrator.print_conversations_async()  # type: ignore"
   ]
  }
 ],
 "metadata": {
  "jupytext": {
   "cell_metadata_filter": "-all"
  },
  "language_info": {
   "codemirror_mode": {
    "name": "ipython",
    "version": 3
   },
   "file_extension": ".py",
   "mimetype": "text/x-python",
   "name": "python",
   "nbconvert_exporter": "python",
   "pygments_lexer": "ipython3",
   "version": "3.12.0"
  }
 },
 "nbformat": 4,
 "nbformat_minor": 5
}
