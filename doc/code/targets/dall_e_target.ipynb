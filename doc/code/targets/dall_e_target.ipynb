{
 "cells": [
  {
   "cell_type": "markdown",
   "id": "d60e9ca7",
   "metadata": {},
   "source": [
    "## Image Target Demo\n",
    "This notebook demonstrates how to use the image target to create an image from a text-based prompt"
   ]
  },
  {
   "cell_type": "code",
   "execution_count": 1,
   "id": "0a5b4ef5",
   "metadata": {},
   "outputs": [],
   "source": [
    "# Copyright (c) Microsoft Corporation.\n",
    "# Licensed under the MIT license.\n",
    "\n",
    "import os\n",
    "\n",
    "from pyrit.common import default_values\n",
    "from pyrit.models import PromptRequestPiece\n",
    "from pyrit.prompt_target import DALLETarget\n",
    "\n",
    "prompt_to_send = \"Give me an image of a raccoon pirate as a Spanish baker in Spain\"\n",
    "default_values.load_default_env()"
   ]
  },
  {
   "cell_type": "code",
   "execution_count": null,
   "id": "9cbb015c",
   "metadata": {},
   "outputs": [],
   "source": [
    "request = PromptRequestPiece(\n",
    "    role=\"user\",\n",
    "    original_prompt_text=prompt_to_send,\n",
    ").to_prompt_request_response()\n",
    "\n",
    "image_location = \"\"\n",
    "with DALLETarget(\n",
    "    deployment_name=os.environ.get(\"AZURE_DALLE_DEPLOYMENT\"),\n",
    "    endpoint=os.environ.get(\"AZURE_DALLE_ENDPOINT\"),\n",
    "    api_key=os.environ.get(\"AZURE_DALLE_API_KEY\"),\n",
    "    api_version=\"2024-02-01\",\n",
    ") as img_prompt_target:\n",
    "    image_resp = await img_prompt_target.send_prompt_async(prompt_request=request) #type: ignore\n",
    "    if image_resp:\n",
    "        print(image_resp)\n",
    "        image_location = image_resp.request_pieces[0].converted_prompt_text\n",
    "        print(image_location)\n",
    "    else:\n",
    "        print(\"image blocked! \")\n",
    "# print(f\"metadata: {image_resp.prompt_metadata}\")"
   ]
  },
  {
   "cell_type": "markdown",
   "id": "c9ea20ca",
   "metadata": {},
   "source": [
    "### Viewing the genereated image:"
   ]
  },
  {
   "cell_type": "code",
   "execution_count": null,
   "id": "12a6c595",
   "metadata": {},
   "outputs": [],
   "source": [
    "from PIL import Image\n",
    "from pyrit.common.path import RESULTS_PATH\n",
    "from pathlib import Path\n",
    "\n",
    "if image_location != \"content blocked\":\n",
    "    im = Image.open(Path(RESULTS_PATH) / \"dbdata\" / \"images\" / image_location)\n",
    "    im.show()\n",
    "else:\n",
    "    print(\"No Image was generated\")"
   ]
  },
  {
   "cell_type": "code",
   "execution_count": null,
   "id": "9b3033a0-b7d5-4220-852b-4e46f6a67f56",
   "metadata": {},
   "outputs": [],
   "source": []
  }
 ],
 "metadata": {
  "jupytext": {
   "cell_metadata_filter": "-all"
  },
  "kernelspec": {
   "display_name": "Python 3 (ipykernel)",
   "language": "python",
   "name": "python3"
  },
  "language_info": {
   "codemirror_mode": {
    "name": "ipython",
    "version": 3
   },
   "file_extension": ".py",
   "mimetype": "text/x-python",
   "name": "python",
   "nbconvert_exporter": "python",
   "pygments_lexer": "ipython3",
   "version": "3.10.13"
  }
 },
 "nbformat": 4,
 "nbformat_minor": 5
}
