{
 "cells": [
  {
   "cell_type": "markdown",
   "id": "4859989b",
   "metadata": {},
   "source": [
    "## Image Target Demo\n",
    "This notebook demonstrates how to use the image target to create an image from a text-based prompt"
   ]
  },
  {
   "cell_type": "code",
   "execution_count": 1,
   "id": "868eee0d",
   "metadata": {
    "execution": {
     "iopub.execute_input": "2024-04-28T22:38:58.083376Z",
     "iopub.status.busy": "2024-04-28T22:38:58.083376Z",
     "iopub.status.idle": "2024-04-28T22:39:02.278014Z",
     "shell.execute_reply": "2024-04-28T22:39:02.278014Z"
    }
   },
   "outputs": [],
   "source": [
    "# Copyright (c) Microsoft Corporation.\n",
    "# Licensed under the MIT license.\n",
    "\n",
    "import os\n",
    "\n",
    "from pyrit.common import default_values\n",
    "from pyrit.models import PromptRequestPiece\n",
    "from pyrit.prompt_target import DALLETarget\n",
    "\n",
    "prompt_to_send = \"Give me an image of a raccoon pirate as a Spanish baker in Spain\"\n",
    "default_values.load_default_env()"
   ]
  },
  {
   "cell_type": "code",
   "execution_count": 2,
   "id": "8bd45449",
   "metadata": {
    "execution": {
     "iopub.execute_input": "2024-04-28T22:39:02.278014Z",
     "iopub.status.busy": "2024-04-28T22:39:02.278014Z",
     "iopub.status.idle": "2024-04-28T22:39:25.523315Z",
     "shell.execute_reply": "2024-04-28T22:39:25.523315Z"
    }
   },
   "outputs": [
    {
     "name": "stdout",
     "output_type": "stream",
     "text": [
      "None: assistant: D:\\git\\PyRIT\\results\\dbdata\\images\\1714343965376746.png\n",
      "D:\\git\\PyRIT\\results\\dbdata\\images\\1714343965376746.png\n"
     ]
    }
   ],
   "source": [
    "request = PromptRequestPiece(\n",
    "    role=\"user\",\n",
    "    original_value=prompt_to_send,\n",
    ").to_prompt_request_response()\n",
    "\n",
    "image_location = \"\"\n",
    "with DALLETarget(\n",
    "    deployment_name=os.environ.get(\"AZURE_DALLE_DEPLOYMENT\"),\n",
    "    endpoint=os.environ.get(\"AZURE_DALLE_ENDPOINT\"),\n",
    "    api_key=os.environ.get(\"AZURE_DALLE_API_KEY\"),\n",
    "    api_version=\"2024-02-01\",\n",
    ") as img_prompt_target:\n",
    "    image_resp = await img_prompt_target.send_prompt_async(prompt_request=request)  # type: ignore\n",
    "    if image_resp:\n",
    "        print(image_resp)\n",
    "        image_location = image_resp.request_pieces[0].converted_value\n",
    "        print(image_location)\n",
    "    else:\n",
    "        print(\"image blocked! \")"
   ]
  },
  {
   "cell_type": "markdown",
   "id": "05f55d78",
   "metadata": {},
   "source": [
    "### Viewing the genereated image:"
   ]
  },
  {
   "cell_type": "code",
   "execution_count": 3,
   "id": "5753b0c5",
   "metadata": {
    "execution": {
     "iopub.execute_input": "2024-04-28T22:39:25.523315Z",
     "iopub.status.busy": "2024-04-28T22:39:25.523315Z",
     "iopub.status.idle": "2024-04-28T22:39:26.103570Z",
     "shell.execute_reply": "2024-04-28T22:39:26.103570Z"
    }
   },
   "outputs": [],
   "source": [
    "from PIL import Image\n",
    "from pyrit.common.path import RESULTS_PATH\n",
    "from pathlib import Path\n",
    "\n",
    "if image_location != \"content blocked\":\n",
    "    im = Image.open(Path(RESULTS_PATH) / \"dbdata\" / \"images\" / image_location)\n",
    "    im.show()\n",
    "else:\n",
    "    print(\"No Image was generated\")"
   ]
  },
  {
   "cell_type": "code",
   "execution_count": null,
   "id": "0b2adfc8",
   "metadata": {},
   "outputs": [],
   "source": []
  }
 ],
 "metadata": {
  "jupytext": {
   "cell_metadata_filter": "-all"
  },
  "kernelspec": {
   "display_name": "Python 3 (ipykernel)",
   "language": "python",
   "name": "python3"
  },
  "language_info": {
   "codemirror_mode": {
    "name": "ipython",
    "version": 3
   },
   "file_extension": ".py",
   "mimetype": "text/x-python",
   "name": "python",
   "nbconvert_exporter": "python",
   "pygments_lexer": "ipython3",
   "version": "3.11.9"
  }
 },
 "nbformat": 4,
 "nbformat_minor": 5
}
