{
 "cells": [
  {
   "cell_type": "markdown",
   "id": "17f5e011",
   "metadata": {},
   "source": [
    "# This notebook shows how to interact with the HTTP Target: "
   ]
  },
  {
   "cell_type": "code",
   "execution_count": 6,
   "id": "23bcb798",
   "metadata": {},
   "outputs": [],
   "source": [
    "import json\n",
    "import requests\n",
    "import os\n",
    "import urllib.parse\n",
    "\n",
    "from pyrit.common import default_values\n",
    "from pyrit.models import PromptRequestPiece, PromptTemplate\n",
    "from pyrit.orchestrator import PromptSendingOrchestrator\n",
    "from pyrit.prompt_target import HTTPTarget\n",
    "from pyrit.prompt_target.http_target import parse_json_http_response"
   ]
  },
  {
   "cell_type": "markdown",
   "id": "80fbd18b",
   "metadata": {},
   "source": [
    "## AOAI Example"
   ]
  },
  {
   "cell_type": "code",
   "execution_count": 3,
   "id": "57c730a1",
   "metadata": {},
   "outputs": [],
   "source": [
    "default_values.load_default_env()\n",
    "\n",
    "deployment_name=os.environ.get(\"AZURE_OPENAI_CHAT_DEPLOYMENT\")\n",
    "endpoint=os.environ.get(\"AZURE_OPENAI_CHAT_ENDPOINT\")\n",
    "api_key=os.environ.get(\"AZURE_OPENAI_CHAT_KEY\")\n",
    "\n",
    "url = f\"{endpoint}openai/deployments/{deployment_name}/chat/completions?api-version=2024-02-01\"\n",
    "\n",
    "prompt = \"What is 3+2? make sure to include 'the answer is' in your response\"\n",
    "\n",
    "# Raw HTTP Request example: \n",
    "raw_http_request = f\"\"\" \n",
    "    POST {endpoint}openai/deployments/{deployment_name}/chat/completions?api-version=2024-02-01\n",
    "    Content-Type: application/json\n",
    "    api-key: {api_key}\n",
    "\n",
    "    {{\n",
    "        \"messages\": [\n",
    "            {{\"role\": \"user\", \"content\": \"{{PROMPT}}\"}}\n",
    "        ],\n",
    "        \"max_tokens\": 50,\n",
    "        \"temperature\": 0.7\n",
    "    }}\n",
    "\"\"\""
   ]
  },
  {
   "cell_type": "code",
   "execution_count": 3,
   "id": "7d88dc25",
   "metadata": {},
   "outputs": [
    {
     "name": "stdout",
     "output_type": "stream",
     "text": [
      "\n",
      "done\n",
      "None: assistant: b'{\\n  \"id\": \"chatcmpl-ACdKZQ9IAkCpBc14bpaQxLrlXCaNG\",\\n  \"object\": \"chat.completion\",\\n  \"created\": 1727574487,\\n  \"model\": \"gpt-4\",\\n  \"choices\": [\\n    {\\n      \"index\": 0,\\n      \"message\": {\\n        \"role\": \"assistant\",\\n        \"content\": \"The answer is 5.\"\\n      },\\n      \"finish_reason\": \"stop\"\\n    }\\n  ],\\n  \"usage\": {\\n    \"prompt_tokens\": 26,\\n    \"completion_tokens\": 6,\\n    \"total_tokens\": 32\\n  },\\n  \"system_fingerprint\": null\\n}\\n'\n"
     ]
    }
   ],
   "source": [
    "response = \"\"\n",
    "with HTTPTarget(http_request=raw_http_request, prompt_regex_string=\"{PROMPT}\", body_encoding=\"\") as target_llm:\n",
    "    request = PromptRequestPiece(\n",
    "        role=\"user\",\n",
    "        original_value=prompt,\n",
    "    ).to_prompt_request_response()\n",
    "\n",
    "    resp = await target_llm.send_prompt_async(prompt_request=request)  # type: ignore\n",
    "    print(resp)\n",
    "    response = resp"
   ]
  },
  {
   "cell_type": "code",
   "execution_count": null,
   "id": "34431e53",
   "metadata": {},
   "outputs": [],
   "source": [
    "print((response.request_pieces[0].original_value))"
   ]
  },
  {
   "cell_type": "code",
   "execution_count": 7,
   "id": "cdd2a0a9",
   "metadata": {},
   "outputs": [
    {
     "name": "stdout",
     "output_type": "stream",
     "text": [
      "\u001b[22m\u001b[39mConversation ID: 4199ccfa-df27-49de-a64c-12b1be5f41d2\n",
      "\u001b[1m\u001b[34muser: What is 3+2? make sure to include 'the answer is' in your response\n",
      "\u001b[22m\u001b[33massistant: The answer is 5.\n"
     ]
    }
   ],
   "source": [
    "# Just same thing using orchestrator\n",
    "http_response = \"\"\n",
    "http_prompt_target = HTTPTarget(http_request=raw_http_request, prompt_regex_string=\"{PROMPT}\", parse_function=parse_json_http_response)\n",
    "\n",
    "with PromptSendingOrchestrator(prompt_target=http_prompt_target) as orchestrator:\n",
    "    response = await orchestrator.send_prompts_async(prompt_list=[prompt])  # type: ignore\n",
    "    await orchestrator.print_conversations()"
   ]
  },
  {
   "cell_type": "code",
   "execution_count": 9,
   "id": "e802768b",
   "metadata": {},
   "outputs": [
    {
     "name": "stdout",
     "output_type": "stream",
     "text": [
      "b'{\\n  \"id\": \"chatcmpl-ACcaK0p30qs8vzWKNnX8to89yjQ9z\",\\n  \"object\": \"chat.completion\",\\n  \"created\": 1727571620,\\n  \"model\": \"gpt-4\",\\n  \"choices\": [\\n    {\\n      \"index\": 0,\\n      \"message\": {\\n        \"role\": \"assistant\",\\n        \"content\": \"The answer is 5.\"\\n      },\\n      \"finish_reason\": \"stop\"\\n    }\\n  ],\\n  \"usage\": {\\n    \"prompt_tokens\": 26,\\n    \"completion_tokens\": 6,\\n    \"total_tokens\": 32\\n  },\\n  \"system_fingerprint\": null\\n}\\n'\n"
     ]
    }
   ],
   "source": [
    "print(http_response.request_pieces[0].converted_value)"
   ]
  },
  {
   "cell_type": "markdown",
   "id": "3c6b09e8",
   "metadata": {},
   "source": [
    "## Google example (scrap?)"
   ]
  },
  {
   "cell_type": "markdown",
   "id": "50cf59ed",
   "metadata": {},
   "source": [
    "As a simple example google search is used to show the interaction (this won't result in a successful search because of the anti-bot rules but shows how to use it in a simple case)"
   ]
  },
  {
   "cell_type": "code",
   "execution_count": null,
   "id": "fbd1a808",
   "metadata": {},
   "outputs": [],
   "source": [
    "\n",
    "## Add the prompt you want to send to the URL\n",
    "prompt = \"apple\"\n",
    "url = \"https://www.google.com/search?q={PROMPT}\"\n",
    "# Add the prompt to the body of the request\n",
    "\n",
    "with HTTPTarget(http_request={}, url=url, body={}, url_encoding=\"url\", body_encoding=\"+\", method=\"GET\") as target_llm:\n",
    "    request = PromptRequestPiece(\n",
    "        role=\"user\",\n",
    "        original_value=prompt,\n",
    "    ).to_prompt_request_response()\n",
    "\n",
    "    resp = await target_llm.send_prompt_async(prompt_request=request)  # type: ignore\n",
    "    print(resp)\n",
    "    "
   ]
  },
  {
   "cell_type": "markdown",
   "id": "53de35bb",
   "metadata": {},
   "source": [
    "## BIC Example"
   ]
  },
  {
   "cell_type": "code",
   "execution_count": null,
   "id": "78040800",
   "metadata": {},
   "outputs": [],
   "source": [
    "import os\n",
    "import urllib.parse\n",
    "\n",
    "from pyrit.models import PromptTemplate\n",
    "from pyrit.orchestrator import PromptSendingOrchestrator\n",
    "from pyrit.prompt_target import HTTPTarget\n",
    "from pyrit.models import PromptRequestPiece"
   ]
  },
  {
   "cell_type": "markdown",
   "id": "9f2f7300",
   "metadata": {},
   "source": [
    "Bing Image Creator which does not have an API is harder to use\n",
    "\n",
    "The HTTP request to make needs to be captured and put here in the \"http_req\" variable (the values you need to get from DevTools or Burp)\n",
    "For Bing Image Creator the cookies contain the authorization in them, which is captured using Devtools/burp/etc"
   ]
  },
  {
   "cell_type": "code",
   "execution_count": null,
   "id": "d7c7f57c",
   "metadata": {
    "lines_to_next_cell": 2
   },
   "outputs": [],
   "source": [
    "http_req = \"\"\"\n",
    "POST /images/create?q={PROMPT}&rt=4&FORM=GENCRE HTTP/2\n",
    "Host: www.bing.com\n",
    "Content-Length: 23\n",
    "Cache-Control: max-age=0\n",
    "Ect: 4g\n",
    "Sec-Ch-Ua: \"Not;A=Brand\";v=\"24\", \"Chromium\";v=\"128\"\n",
    "Sec-Ch-Ua-Mobile: ?0\n",
    "Sec-Ch-Ua-Full-Version: \"\"\n",
    "Sec-Ch-Ua-Arch: \"\"\n",
    "Sec-Ch-Ua-Platform: \"Windows\"\n",
    "Sec-Ch-Ua-Platform-Version: \"\"\n",
    "Sec-Ch-Ua-Model: \"\"\n",
    "Sec-Ch-Ua-Bitness: \"\"\n",
    "Sec-Ch-Ua-Full-Version-List: \n",
    "Accept-Language: en-US,en;q=0.9\n",
    "Upgrade-Insecure-Requests: 1\n",
    "Origin: https://www.bing.com\n",
    "Content-Type: application/x-www-form-urlencoded\n",
    "User-Agent: Mozilla/5.0 (Windows NT 10.0; Win64; x64) AppleWebKit/537.36 (KHTML, like Gecko) Chrome/128.0.6613.120 Safari/537.36\n",
    "Accept: text/html,application/xhtml+xml,application/xml;q=0.9,image/avif,image/webp,image/apng,*/*;q=0.8,application/signed-exchange;v=b3;q=0.7\n",
    "Sec-Fetch-Site: same-origin\n",
    "Sec-Fetch-Mode: navigate\n",
    "Sec-Fetch-User: ?1\n",
    "Sec-Fetch-Dest: document\n",
    "Referer: https://www.bing.com/images/create?toWww=1&redig=6F390DBAAF424F70B1B304716CE01190\n",
    "Priority: u=0, i\n",
    "\n",
    "q={PROMPT}&qs=ds\n",
    "\"\"\"\n",
    "\n",
    "## Add the prompt you want to send to the URL\n",
    "prompt = \"apple\"\n",
    "\n",
    "response_var = None\n",
    "with HTTPTarget(http_request=http_req, prompt_regex_string=\"{PROMPT}\", body_encoding=\"url\") as target_llm:\n",
    "    # Questions: do i need to call converter on prompt before calling target? ie url encode rather than handling in target itself?\n",
    "    request = PromptRequestPiece(\n",
    "        role=\"user\",\n",
    "        original_value=prompt,\n",
    "    ).to_prompt_request_response()\n",
    "\n",
    "    resp = await target_llm.send_prompt_async(prompt_request=request)  # type: ignore\n",
    "    response_var = resp\n"
   ]
  },
  {
   "cell_type": "code",
   "execution_count": null,
   "id": "aae02948",
   "metadata": {
    "lines_to_next_cell": 2
   },
   "outputs": [],
   "source": [
    "from bs4 import BeautifulSoup\n",
    "html_content = response_var.request_pieces[0].original_value\n",
    "parsed_hmtl_soup = BeautifulSoup(html_content, 'html.parser')\n",
    "\n",
    "print(parsed_hmtl_soup.prettify())\n",
    "\n",
    "#TODO: parse & turn this into a parsing function: as an example this is the image \n",
    "# <div data-c=\"/images/create/async/results/1-66f2fad6d7834081a343ac05ae3c1784?q=apple&amp;IG=52AE84FF96F948909718523E5DB8AF89&amp;IID=images.as\" data-mc=\"/images/create/async/mycreation?requestId=1-66f2fad6d7834081a343ac05ae3c1784\" data-nfurl=\"\" id=\"gir\">"
   ]
  },
  {
   "cell_type": "code",
   "execution_count": null,
   "id": "14306aac",
   "metadata": {},
   "outputs": [],
   "source": [
    "# Just same thing using orchestrator\n",
    "http_prompt_target = HTTPTarget(http_request=http_req, prompt_regex_string=\"{PROMPT}\")\n",
    "\n",
    "with PromptSendingOrchestrator(prompt_target=http_prompt_target) as orchestrator:\n",
    "    response = await orchestrator.send_prompts_async(prompt_list=[prompt])  # type: ignore\n",
    "    print(response[0])"
   ]
  },
  {
   "cell_type": "code",
   "execution_count": null,
   "id": "d500cb98",
   "metadata": {
    "lines_to_next_cell": 2
   },
   "outputs": [],
   "source": []
  },
  {
   "cell_type": "code",
   "execution_count": null,
   "id": "692f601a",
   "metadata": {},
   "outputs": [],
   "source": [
    "# Just same thing using orchestrator\n",
    "http_prompt_target = HTTPTarget(http_request=http_request, url=url, body=body)\n",
    "\n",
    "with PromptSendingOrchestrator(prompt_target=http_prompt_target) as orchestrator:\n",
    "    response = await orchestrator.send_prompts_async(prompt_list=[prompt])  # type: ignore\n",
    "    print(response[0])"
   ]
  }
 ],
 "metadata": {
  "kernelspec": {
   "display_name": "pyrit2",
   "language": "python",
   "name": "python3"
  }
 },
 "nbformat": 4,
 "nbformat_minor": 5
}
