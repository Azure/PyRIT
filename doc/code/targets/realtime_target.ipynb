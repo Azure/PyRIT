{
 "cells": [
  {
   "cell_type": "markdown",
   "id": "0",
   "metadata": {},
   "source": [
    "# REALTIME TARGET\n",
    "\n",
    "This notebooks shows how to interact with the Realtime Target to send text or audio prompts and receive back an audio output and the text transcript of that audio"
   ]
  },
  {
   "cell_type": "markdown",
   "id": "1",
   "metadata": {},
   "source": [
    "## Target Initialization"
   ]
  },
  {
   "cell_type": "code",
   "execution_count": null,
   "id": "2",
   "metadata": {},
   "outputs": [
    {
     "ename": "ValueError",
     "evalue": "Environment variable AZURE_STORAGE_ACCOUNT_DB_DATA_CONTAINER_URL is required",
     "output_type": "error",
     "traceback": [
      "\u001b[1;31m---------------------------------------------------------------------------\u001b[0m",
      "\u001b[1;31mValueError\u001b[0m                                Traceback (most recent call last)",
      "Cell \u001b[1;32mIn[5], line 4\u001b[0m\n\u001b[0;32m      1\u001b[0m \u001b[38;5;28;01mfrom\u001b[39;00m \u001b[38;5;21;01mpyrit\u001b[39;00m\u001b[38;5;21;01m.\u001b[39;00m\u001b[38;5;21;01mprompt_target\u001b[39;00m \u001b[38;5;28;01mimport\u001b[39;00m RealtimeTarget\n\u001b[0;32m      2\u001b[0m \u001b[38;5;28;01mfrom\u001b[39;00m \u001b[38;5;21;01mpyrit\u001b[39;00m\u001b[38;5;21;01m.\u001b[39;00m\u001b[38;5;21;01mcommon\u001b[39;00m \u001b[38;5;28;01mimport\u001b[39;00m initialize_pyrit, IN_MEMORY, AZURE_SQL\n\u001b[1;32m----> 4\u001b[0m \u001b[43minitialize_pyrit\u001b[49m\u001b[43m(\u001b[49m\u001b[43mmemory_db_type\u001b[49m\u001b[38;5;241;43m=\u001b[39;49m\u001b[43mAZURE_SQL\u001b[49m\u001b[43m)\u001b[49m\n\u001b[0;32m      6\u001b[0m target \u001b[38;5;241m=\u001b[39m RealtimeTarget()\n",
      "File \u001b[1;32m~\\Documents\\tools\\pyrit2\\PyRIT\\pyrit\\common\\initialization.py:67\u001b[0m, in \u001b[0;36minitialize_pyrit\u001b[1;34m(memory_db_type, **memory_instance_kwargs)\u001b[0m\n\u001b[0;32m     65\u001b[0m \u001b[38;5;28;01melse\u001b[39;00m:\n\u001b[0;32m     66\u001b[0m     logger\u001b[38;5;241m.\u001b[39minfo(\u001b[38;5;124m\"\u001b[39m\u001b[38;5;124mUsing AzureSQL database.\u001b[39m\u001b[38;5;124m\"\u001b[39m)\n\u001b[1;32m---> 67\u001b[0m     memory \u001b[38;5;241m=\u001b[39m \u001b[43mAzureSQLMemory\u001b[49m\u001b[43m(\u001b[49m\u001b[38;5;241;43m*\u001b[39;49m\u001b[38;5;241;43m*\u001b[39;49m\u001b[43mmemory_instance_kwargs\u001b[49m\u001b[43m)\u001b[49m\n\u001b[0;32m     69\u001b[0m CentralMemory\u001b[38;5;241m.\u001b[39mset_memory_instance(memory)\n",
      "File \u001b[1;32m~\\Documents\\tools\\pyrit2\\PyRIT\\pyrit\\common\\singleton.py:21\u001b[0m, in \u001b[0;36mSingleton.__call__\u001b[1;34m(cls, *args, **kwargs)\u001b[0m\n\u001b[0;32m     16\u001b[0m \u001b[38;5;250m\u001b[39m\u001b[38;5;124;03m\"\"\"\u001b[39;00m\n\u001b[0;32m     17\u001b[0m \u001b[38;5;124;03mOverrides the default __call__ behavior to ensure only one instance of the singleton class is created.\u001b[39;00m\n\u001b[0;32m     18\u001b[0m \u001b[38;5;124;03mReturns the singleton instance if it exists, otherwise creates a new one and returns it.\u001b[39;00m\n\u001b[0;32m     19\u001b[0m \u001b[38;5;124;03m\"\"\"\u001b[39;00m\n\u001b[0;32m     20\u001b[0m \u001b[38;5;28;01mif\u001b[39;00m \u001b[38;5;28mcls\u001b[39m \u001b[38;5;129;01mnot\u001b[39;00m \u001b[38;5;129;01min\u001b[39;00m \u001b[38;5;28mcls\u001b[39m\u001b[38;5;241m.\u001b[39m_instances:\n\u001b[1;32m---> 21\u001b[0m     \u001b[38;5;28mcls\u001b[39m\u001b[38;5;241m.\u001b[39m_instances[\u001b[38;5;28mcls\u001b[39m] \u001b[38;5;241m=\u001b[39m \u001b[38;5;28;43msuper\u001b[39;49m\u001b[43m(\u001b[49m\u001b[43mSingleton\u001b[49m\u001b[43m,\u001b[49m\u001b[43m \u001b[49m\u001b[38;5;28;43mcls\u001b[39;49m\u001b[43m)\u001b[49m\u001b[38;5;241;43m.\u001b[39;49m\u001b[38;5;21;43m__call__\u001b[39;49m\u001b[43m(\u001b[49m\u001b[38;5;241;43m*\u001b[39;49m\u001b[43margs\u001b[49m\u001b[43m,\u001b[49m\u001b[43m \u001b[49m\u001b[38;5;241;43m*\u001b[39;49m\u001b[38;5;241;43m*\u001b[39;49m\u001b[43mkwargs\u001b[49m\u001b[43m)\u001b[49m\n\u001b[0;32m     22\u001b[0m \u001b[38;5;28;01mreturn\u001b[39;00m \u001b[38;5;28mcls\u001b[39m\u001b[38;5;241m.\u001b[39m_instances[\u001b[38;5;28mcls\u001b[39m]\n",
      "File \u001b[1;32m~\\Documents\\tools\\pyrit2\\PyRIT\\pyrit\\memory\\azure_sql_memory.py:57\u001b[0m, in \u001b[0;36mAzureSQLMemory.__init__\u001b[1;34m(self, connection_string, results_container_url, results_sas_token, verbose)\u001b[0m\n\u001b[0;32m     45\u001b[0m \u001b[38;5;28;01mdef\u001b[39;00m \u001b[38;5;21m__init__\u001b[39m(\n\u001b[0;32m     46\u001b[0m     \u001b[38;5;28mself\u001b[39m,\n\u001b[0;32m     47\u001b[0m     \u001b[38;5;241m*\u001b[39m,\n\u001b[1;32m   (...)\u001b[0m\n\u001b[0;32m     51\u001b[0m     verbose: \u001b[38;5;28mbool\u001b[39m \u001b[38;5;241m=\u001b[39m \u001b[38;5;28;01mFalse\u001b[39;00m,\n\u001b[0;32m     52\u001b[0m ):\n\u001b[0;32m     53\u001b[0m     \u001b[38;5;28mself\u001b[39m\u001b[38;5;241m.\u001b[39m_connection_string \u001b[38;5;241m=\u001b[39m default_values\u001b[38;5;241m.\u001b[39mget_required_value(\n\u001b[0;32m     54\u001b[0m         env_var_name\u001b[38;5;241m=\u001b[39m\u001b[38;5;28mself\u001b[39m\u001b[38;5;241m.\u001b[39mAZURE_SQL_DB_CONNECTION_STRING, passed_value\u001b[38;5;241m=\u001b[39mconnection_string\n\u001b[0;32m     55\u001b[0m     )\n\u001b[1;32m---> 57\u001b[0m     \u001b[38;5;28mself\u001b[39m\u001b[38;5;241m.\u001b[39m_results_container_url: \u001b[38;5;28mstr\u001b[39m \u001b[38;5;241m=\u001b[39m \u001b[43mdefault_values\u001b[49m\u001b[38;5;241;43m.\u001b[39;49m\u001b[43mget_required_value\u001b[49m\u001b[43m(\u001b[49m\n\u001b[0;32m     58\u001b[0m \u001b[43m        \u001b[49m\u001b[43menv_var_name\u001b[49m\u001b[38;5;241;43m=\u001b[39;49m\u001b[38;5;28;43mself\u001b[39;49m\u001b[38;5;241;43m.\u001b[39;49m\u001b[43mAZURE_STORAGE_ACCOUNT_DB_DATA_CONTAINER_URL\u001b[49m\u001b[43m,\u001b[49m\u001b[43m \u001b[49m\u001b[43mpassed_value\u001b[49m\u001b[38;5;241;43m=\u001b[39;49m\u001b[43mresults_container_url\u001b[49m\n\u001b[0;32m     59\u001b[0m \u001b[43m    \u001b[49m\u001b[43m)\u001b[49m\n\u001b[0;32m     61\u001b[0m     \u001b[38;5;28mself\u001b[39m\u001b[38;5;241m.\u001b[39m_results_container_sas_token: Optional[\u001b[38;5;28mstr\u001b[39m] \u001b[38;5;241m=\u001b[39m \u001b[38;5;28mself\u001b[39m\u001b[38;5;241m.\u001b[39m_resolve_sas_token(\n\u001b[0;32m     62\u001b[0m         \u001b[38;5;28mself\u001b[39m\u001b[38;5;241m.\u001b[39mAZURE_STORAGE_ACCOUNT_DB_DATA_SAS_TOKEN, results_sas_token\n\u001b[0;32m     63\u001b[0m     )\n\u001b[0;32m     65\u001b[0m     \u001b[38;5;28mself\u001b[39m\u001b[38;5;241m.\u001b[39m_auth_token: Optional[AccessToken] \u001b[38;5;241m=\u001b[39m \u001b[38;5;28;01mNone\u001b[39;00m\n",
      "File \u001b[1;32m~\\Documents\\tools\\pyrit2\\PyRIT\\pyrit\\common\\default_values.py:35\u001b[0m, in \u001b[0;36mget_required_value\u001b[1;34m(env_var_name, passed_value)\u001b[0m\n\u001b[0;32m     32\u001b[0m \u001b[38;5;28;01mif\u001b[39;00m value:\n\u001b[0;32m     33\u001b[0m     \u001b[38;5;28;01mreturn\u001b[39;00m value\n\u001b[1;32m---> 35\u001b[0m \u001b[38;5;28;01mraise\u001b[39;00m \u001b[38;5;167;01mValueError\u001b[39;00m(\u001b[38;5;124mf\u001b[39m\u001b[38;5;124m\"\u001b[39m\u001b[38;5;124mEnvironment variable \u001b[39m\u001b[38;5;132;01m{\u001b[39;00menv_var_name\u001b[38;5;132;01m}\u001b[39;00m\u001b[38;5;124m is required\u001b[39m\u001b[38;5;124m\"\u001b[39m)\n",
      "\u001b[1;31mValueError\u001b[0m: Environment variable AZURE_STORAGE_ACCOUNT_DB_DATA_CONTAINER_URL is required"
     ]
    }
   ],
   "source": [
    "from pyrit.prompt_target import RealtimeTarget\n",
    "from pyrit.common import initialize_pyrit, IN_MEMORY\n",
    "\n",
    "initialize_pyrit(memory_db_type=IN_MEMORY)\n",
    "\n",
    "target = RealtimeTarget()"
   ]
  },
  {
   "cell_type": "code",
   "execution_count": null,
   "id": "3",
   "metadata": {},
   "outputs": [],
   "source": [
    "await target.connect()"
   ]
  },
  {
   "cell_type": "markdown",
   "id": "4",
   "metadata": {},
   "source": [
    "## Audio Conversation\n",
    "\n",
    "The following shows how to interact with the Realtime Target with audio files as your prompt. You can either use pre-made audio files with the pcm16 format or you can use PyRIT converters to help turn your text into audio."
   ]
  },
  {
   "cell_type": "code",
   "execution_count": null,
   "id": "5",
   "metadata": {},
   "outputs": [],
   "source": [
    "from pathlib import Path\n",
    "from pyrit.orchestrator import PromptSendingOrchestrator\n",
    "from pyrit.prompt_normalizer.normalizer_request import NormalizerRequest, NormalizerRequestPiece\n",
    "\n",
    "prompt_to_send = Path(\"../../../assets/converted_audio.wav\").resolve()\n",
    "\n",
    "normalizer_request = NormalizerRequest(\n",
    "    request_pieces=[\n",
    "        NormalizerRequestPiece(\n",
    "            prompt_value=str(prompt_to_send),\n",
    "            prompt_data_type=\"audio_path\",\n",
    "        ),\n",
    "    ]\n",
    ")"
   ]
  },
  {
   "cell_type": "code",
   "execution_count": null,
   "id": "6",
   "metadata": {},
   "outputs": [
    {
     "name": "stdout",
     "output_type": "stream",
     "text": [
      "Session set up\n",
      "\u001b[1m\u001b[34muser: C:\\Users\\bjagdagdorj\\Documents\\tools\\pyrit2\\PyRIT\\assets\\converted_audio.wav\n",
      "\u001b[22m\u001b[33massistant: C:\\Users\\bjagdagdorj\\Documents\\tools\\pyrit2\\PyRIT\\dbdata\\prompt-memory-entries\\audio\\1737002383944018.mp3\n",
      "\u001b[22m\u001b[39mConversation ID: ce0e9d9b-c79c-4115-8e8a-835776dd2968\n",
      "\u001b[22m\u001b[33massistant: Cutting down a tree is a task that requires careful planning and the right equipment. Here’s a basic guide:\n",
      "\n",
      "1. **Assess the Area:** Ensure there are no obstacles in the fall path of the tree, including buildings, power lines, or other trees. Look out for any signs of disease or rot in the tree, which could affect the way it falls.\n",
      "\n",
      "2. **Wear Safety Gear:** Use a hard hat, goggles, ear protection, and gloves to protect yourself from branches, debris, and the noise of the chainsaw.\n",
      "\n",
      "3. **Plan the Notch:** Decide the direction you want the tree to fall. Make a notch cut on the side of the tree facing that direction, which consists of two cuts: a downward cut at about a 70-degree angle, followed by a horizontal cut. The notch should go about one-third into the tree.\n",
      "\n",
      "4. **Make the Felling Cut:** On the opposite side of the notch, make a horizontal cut slightly above the bottom of the notch. This cut should not go all the way through; leave a hinge to control the tree's fall.\n",
      "\n",
      "5. **Use Wedges if Necessary:** If the tree leans back, use felling wedges in the cut to help guide it in the right direction.\n",
      "\n",
      "6. **Retreat:** As the tree begins to fall, move quickly along your planned escape route that is at a 45-degree angle from the direction of the fall.\n",
      "\n",
      "Remember, if you're not experienced with using a chainsaw or felling trees, it’s highly recommended to hire a professional to do the job.\n",
      "\u001b[22m\u001b[39mConversation ID: ce0e9d9b-c79c-4115-8e8a-835776dd2968\n"
     ]
    }
   ],
   "source": [
    "orchestrator = PromptSendingOrchestrator(objective_target=target)\n",
    "await orchestrator.send_normalizer_requests_async(prompt_request_list=[normalizer_request])  # type: ignore\n",
    "await orchestrator.print_conversations_async()  # type: ignore\n",
    "\n",
    "await target.disconnect()  # type: ignore"
   ]
  },
  {
   "cell_type": "markdown",
   "id": "7",
   "metadata": {},
   "source": [
    "## Text Conversation\n",
    "\n",
    "This section below shows how to interact with the Realtime Target with text prompts \n",
    "\n",
    "(if you ran the cells above make sure to connect to the target again! )"
   ]
  },
  {
   "cell_type": "code",
   "execution_count": null,
   "id": "8",
   "metadata": {},
   "outputs": [
    {
     "name": "stdout",
     "output_type": "stream",
     "text": [
      "Session set up\n",
      "\u001b[1m\u001b[34muser: What is the capitol of France?\n",
      "\u001b[22m\u001b[33massistant: response_audio.wav\n",
      "\u001b[22m\u001b[39mConversation ID: eea12401-4d6a-4ad8-bc71-0be6b932fd6b\n",
      "\u001b[22m\u001b[33massistant: The capital of France is Paris.\n",
      "\u001b[22m\u001b[39mConversation ID: eea12401-4d6a-4ad8-bc71-0be6b932fd6b\n"
     ]
    }
   ],
   "source": [
    "from pyrit.models.prompt_request_piece import PromptRequestPiece\n",
    "from pyrit.orchestrator import PromptSendingOrchestrator\n",
    "\n",
    "prompt_to_send = \"What is the capitol of France?\"\n",
    "\n",
    "request = PromptRequestPiece(\n",
    "    role=\"user\",\n",
    "    original_value=prompt_to_send,\n",
    ").to_prompt_request_response()\n",
    "\n",
    "await target.connect() # type: ignore\n",
    "orchestrator = PromptSendingOrchestrator(objective_target=target)\n",
    "response = await orchestrator.send_prompts_async(prompt_list=[prompt_to_send])  # type: ignore\n",
    "await orchestrator.print_conversations_async()  # type: ignore"
   ]
  },
  {
   "cell_type": "code",
   "execution_count": null,
   "id": "9",
   "metadata": {},
   "outputs": [],
   "source": [
    "await target.disconnect()  # type: ignore"
   ]
  },
  {
   "cell_type": "code",
   "execution_count": null,
   "id": "10",
   "metadata": {},
   "outputs": [],
   "source": [
    "from pyrit.memory import CentralMemory\n",
    "\n",
    "memory = CentralMemory.get_memory_instance()\n",
    "memory.dispose_engine()"
   ]
  }
 ],
 "metadata": {
  "kernelspec": {
   "display_name": "pyrit2",
   "language": "python",
   "name": "python3"
  }
 },
 "nbformat": 4,
 "nbformat_minor": 5
}
