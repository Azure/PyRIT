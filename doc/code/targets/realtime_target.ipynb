{
 "cells": [
  {
   "cell_type": "markdown",
   "id": "0",
   "metadata": {},
   "source": [
    "# REALTIME TARGET"
   ]
  },
  {
   "cell_type": "markdown",
   "id": "1",
   "metadata": {},
   "source": [
    "## Using PyRIT"
   ]
  },
  {
   "cell_type": "code",
   "execution_count": null,
   "id": "2",
   "metadata": {},
   "outputs": [],
   "source": [
    "from pyrit.prompt_target import RealtimeTarget\n",
    "from pyrit.common import initialize_pyrit, IN_MEMORY\n",
    "\n",
    "initialize_pyrit(memory_db_type=IN_MEMORY)\n",
    "\n",
    "target = RealtimeTarget()"
   ]
  },
  {
   "cell_type": "markdown",
   "id": "3",
   "metadata": {},
   "source": [
    "## Single Turn Audio Conversation"
   ]
  },
  {
   "cell_type": "code",
   "execution_count": null,
   "id": "4",
   "metadata": {},
   "outputs": [],
   "source": [
    "\n",
    "from pyrit.orchestrator import PromptSendingOrchestrator\n",
    "from pyrit.prompt_normalizer.normalizer_request import NormalizerRequest, NormalizerRequestPiece\n",
    "\n",
    "prompt_to_send = \"test_rt_audio1.wav\"\n",
    "\n",
    "normalizer_request = NormalizerRequest(\n",
    "    request_pieces=[\n",
    "        NormalizerRequestPiece(\n",
    "            prompt_value=prompt_to_send,\n",
    "            prompt_data_type=\"audio_path\",\n",
    "        ),\n",
    "    ]\n",
    ")"
   ]
  },
  {
   "cell_type": "code",
   "execution_count": null,
   "id": "5",
   "metadata": {},
   "outputs": [],
   "source": [
    "await target.connect()\n",
    "\n",
    "orchestrator = PromptSendingOrchestrator(objective_target=target)\n",
    "\n",
    "await orchestrator.send_normalizer_requests_async(prompt_request_list=[normalizer_request])  # type: ignore\n",
    "\n",
    "await orchestrator.print_conversations_async()  # type: ignore"
   ]
  },
  {
   "cell_type": "markdown",
   "id": "6",
   "metadata": {},
   "source": [
    "## Single Turn Text Conversation"
   ]
  },
  {
   "cell_type": "code",
   "execution_count": null,
   "id": "7",
   "metadata": {},
   "outputs": [],
   "source": [
    "from pyrit.models.prompt_request_piece import PromptRequestPiece\n",
    "from pyrit.orchestrator import PromptSendingOrchestrator\n",
    "\n",
    "\n",
    "await target.connect()\n",
    "prompt_to_send = \"Give me an image of a raccoon pirate as a Spanish baker in Spain\"\n",
    "\n",
    "request = PromptRequestPiece(\n",
    "    role=\"user\",\n",
    "    original_value=prompt_to_send,\n",
    ").to_prompt_request_response()\n",
    "\n",
    "\n",
    "orchestrator = PromptSendingOrchestrator(objective_target=target)\n",
    "response = await orchestrator.send_prompts_async(prompt_list=[prompt_to_send])  # type: ignore\n",
    "await orchestrator.print_conversations_async()  # type: ignore"
   ]
  },
  {
   "cell_type": "markdown",
   "id": "8",
   "metadata": {},
   "source": [
    "## Multiturn Text Conversation"
   ]
  },
  {
   "cell_type": "code",
   "execution_count": null,
   "id": "9",
   "metadata": {
    "lines_to_next_cell": 2
   },
   "outputs": [],
   "source": [
    "\n",
    "from pyrit.orchestrator import PromptSendingOrchestrator\n",
    "from pyrit.prompt_normalizer.normalizer_request import NormalizerRequest, NormalizerRequestPiece\n",
    "\n",
    "await target.connect() # type: ignore\n",
    "\n",
    "text_prompt_to_send = \"Hi what is 2+2?\"\n",
    "\n",
    "normalizer_request = NormalizerRequest(\n",
    "    request_pieces=[\n",
    "        NormalizerRequestPiece(\n",
    "            prompt_value=text_prompt_to_send,\n",
    "            prompt_data_type=\"text\",\n",
    "        )\n",
    "    ]\n",
    ")\n",
    "\n",
    "second_prompt_to_send = \"Now add 2?\"\n",
    "second_normalizer_request = NormalizerRequest(\n",
    "    request_pieces=[\n",
    "        NormalizerRequestPiece(\n",
    "            prompt_value=second_prompt_to_send,\n",
    "            prompt_data_type=\"text\",\n",
    "        )\n",
    "    ]\n",
    ")"
   ]
  },
  {
   "cell_type": "code",
   "execution_count": null,
   "id": "10",
   "metadata": {},
   "outputs": [],
   "source": [
    "orchestrator = PromptSendingOrchestrator(objective_target=target)\n",
    "\n",
    "await orchestrator.send_normalizer_requests_async(prompt_request_list=[normalizer_request])  # type: ignore\n",
    "\n",
    "await orchestrator.print_conversations_async()  # type: ignore"
   ]
  },
  {
   "cell_type": "code",
   "execution_count": null,
   "id": "11",
   "metadata": {},
   "outputs": [],
   "source": []
  },
  {
   "cell_type": "code",
   "execution_count": null,
   "id": "12",
   "metadata": {},
   "outputs": [],
   "source": [
    "orchestrator = PromptSendingOrchestrator(objective_target=target)\n",
    "\n",
    "await orchestrator.send_normalizer_requests_async(prompt_request_list=[second_normalizer_request])  # type: ignore\n",
    "\n",
    "await orchestrator.print_conversations_async()  # type: ignore"
   ]
  },
  {
   "cell_type": "code",
   "execution_count": null,
   "id": "13",
   "metadata": {},
   "outputs": [],
   "source": [
    "await target.disconnect() # type: ignore"
   ]
  },
  {
   "cell_type": "code",
   "execution_count": null,
   "id": "14",
   "metadata": {},
   "outputs": [],
   "source": [
    "from pyrit.memory import CentralMemory\n",
    "\n",
    "memory = CentralMemory.get_memory_instance()\n",
    "memory.dispose_engine()"
   ]
  }
 ],
 "metadata": {
  "kernelspec": {
   "display_name": "pyrit2",
   "language": "python",
   "name": "python3"
  }
 },
 "nbformat": 4,
 "nbformat_minor": 5
}
