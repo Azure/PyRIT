{
 "cells": [
  {
   "cell_type": "markdown",
   "metadata": {},
   "source": [
    "# REALTIME TARGET"
   ]
  },
  {
   "cell_type": "markdown",
   "metadata": {},
   "source": [
    "## Using PyRIT"
   ]
  },
  {
   "cell_type": "code",
   "execution_count": 1,
   "metadata": {},
   "outputs": [],
   "source": [
    "from pyrit.prompt_target import RealtimeTarget\n",
    "from pyrit.common import initialize_pyrit, IN_MEMORY\n",
    "\n",
    "initialize_pyrit(memory_db_type=IN_MEMORY)\n",
    "\n",
    "target = RealtimeTarget()"
   ]
  },
  {
   "cell_type": "markdown",
   "metadata": {},
   "source": [
    "## Single Turn Audio Conversation"
   ]
  },
  {
   "cell_type": "code",
   "execution_count": 2,
   "metadata": {},
   "outputs": [],
   "source": [
    "\n",
    "from pyrit.orchestrator import PromptSendingOrchestrator\n",
    "from pyrit.prompt_normalizer.normalizer_request import NormalizerRequest, NormalizerRequestPiece\n",
    "\n",
    "# text_prompt_to_send = \"Hi what is 2+2?\"\n",
    "\n",
    "prompt_to_send = \"test_rt_audio1.wav\"\n",
    "\n",
    "normalizer_request = NormalizerRequest(\n",
    "    request_pieces=[\n",
    "        NormalizerRequestPiece(\n",
    "            prompt_value=prompt_to_send,\n",
    "            prompt_data_type=\"audio_path\",\n",
    "        ),\n",
    "    ]\n",
    ")"
   ]
  },
  {
   "cell_type": "code",
   "execution_count": 3,
   "metadata": {},
   "outputs": [
    {
     "name": "stdout",
     "output_type": "stream",
     "text": [
      "Session set up\n",
      "\u001b[1m\u001b[34muser: test_rt_audio1.wav\n",
      "\u001b[22m\u001b[33massistant: Making rice wine, also known as sake, involves fermenting rice with water, koji (a type of mold), and yeast. Here is a simplified overview:\n",
      "\n",
      "1. **Washing and Soaking Rice**: Wash the rice thoroughly to remove excess starch. Then, soak the rice in water for a few hours.\n",
      "\n",
      "2. **Steaming Rice**: Steam the soaked rice until it's cooked, which will make it easier to ferment.\n",
      "\n",
      "3. **Preparing Koji**: Koji mold is cultivated on steamed rice to convert the starches in the rice to sugars. This process usually takes a couple of days.\n",
      "\n",
      "4. **Fermentation**: Mix the steamed rice, koji rice, yeast, and water in a fermentation tank. Over the next few weeks, the mixture will ferment, converting the sugars to alcohol.\n",
      "\n",
      "5. **Pressing and Filtration**: After fermentation, the mixture is pressed to separate the liquid from the solid rice residue. The liquid is then filtered to remove any remaining particles.\n",
      "\n",
      "6. **Pasteurization**: The filtered sake is often pasteurized to kill any remaining yeast and enzymes, stabilizing the flavor.\n",
      "\n",
      "7. **Aging and Bottling**: The sake is aged for a few months to develop its flavor before being bottled.\n",
      "\n",
      "This is a traditional process, and there are many variations and complexities involved in professional sake brewing. If you're interested in making it at home, consider starting with a homebrewing kit or recipe to guide you through the process.\n",
      "\u001b[22m\u001b[39mConversation ID: c75dafcc-9ab0-4a2e-b52c-d0513da7a391\n",
      "\u001b[22m\u001b[33massistant: response_audio.wav\n",
      "\u001b[22m\u001b[39mConversation ID: c75dafcc-9ab0-4a2e-b52c-d0513da7a391\n"
     ]
    }
   ],
   "source": [
    "await target.connect()\n",
    "\n",
    "orchestrator = PromptSendingOrchestrator(objective_target=target)\n",
    "\n",
    "await orchestrator.send_normalizer_requests_async(prompt_request_list=[normalizer_request])  # type: ignore\n",
    "\n",
    "await orchestrator.print_conversations_async()  # type: ignore"
   ]
  },
  {
   "cell_type": "markdown",
   "metadata": {},
   "source": [
    "## Multiturn Text Conversation"
   ]
  },
  {
   "cell_type": "code",
   "execution_count": 4,
   "metadata": {},
   "outputs": [],
   "source": [
    "\n",
    "from pyrit.orchestrator import PromptSendingOrchestrator\n",
    "from pyrit.prompt_normalizer.normalizer_request import NormalizerRequest, NormalizerRequestPiece\n",
    "\n",
    "await target.connect() # type: ignore\n",
    "\n",
    "text_prompt_to_send = \"Hi what is 2+2?\"\n",
    "\n",
    "normalizer_request = NormalizerRequest(\n",
    "    request_pieces=[\n",
    "        NormalizerRequestPiece(\n",
    "            prompt_value=text_prompt_to_send,\n",
    "            prompt_data_type=\"text\",\n",
    "        )\n",
    "    ]\n",
    ")\n",
    "\n",
    "second_prompt_to_send = \"Now add 2?\"\n",
    "second_normalizer_request = NormalizerRequest(\n",
    "    request_pieces=[\n",
    "        NormalizerRequestPiece(\n",
    "            prompt_value=second_prompt_to_send,\n",
    "            prompt_data_type=\"text\",\n",
    "        )\n",
    "    ]\n",
    ")\n"
   ]
  },
  {
   "cell_type": "code",
   "execution_count": 5,
   "metadata": {},
   "outputs": [
    {
     "name": "stdout",
     "output_type": "stream",
     "text": [
      "Session set up\n",
      "\u001b[1m\u001b[34muser: Hi what is 2+2?\n",
      "\u001b[22m\u001b[33massistant: 2 + 2 equals 4.\n",
      "\u001b[22m\u001b[39mConversation ID: 87b580f3-3373-49fd-98ce-ac4f18f38838\n",
      "\u001b[22m\u001b[33massistant: response_audio.wav\n",
      "\u001b[22m\u001b[39mConversation ID: 87b580f3-3373-49fd-98ce-ac4f18f38838\n"
     ]
    }
   ],
   "source": [
    "orchestrator = PromptSendingOrchestrator(objective_target=target)\n",
    "\n",
    "await orchestrator.send_normalizer_requests_async(prompt_request_list=[normalizer_request])  # type: ignore\n",
    "\n",
    "await orchestrator.print_conversations_async()  # type: ignore"
   ]
  },
  {
   "cell_type": "code",
   "execution_count": 6,
   "metadata": {},
   "outputs": [
    {
     "name": "stdout",
     "output_type": "stream",
     "text": [
      "Session set up\n",
      "\u001b[1m\u001b[34muser: Now add 2?\n",
      "\u001b[22m\u001b[33massistant: 4 + 2 equals 6.\n",
      "\u001b[22m\u001b[39mConversation ID: 5104182c-2392-497a-84ec-0ddb577c21b4\n",
      "\u001b[22m\u001b[33massistant: response_audio.wav\n",
      "\u001b[22m\u001b[39mConversation ID: 5104182c-2392-497a-84ec-0ddb577c21b4\n"
     ]
    }
   ],
   "source": [
    "orchestrator = PromptSendingOrchestrator(objective_target=target)\n",
    "\n",
    "await orchestrator.send_normalizer_requests_async(prompt_request_list=[second_normalizer_request])  # type: ignore\n",
    "\n",
    "await orchestrator.print_conversations_async()  # type: ignore"
   ]
  },
  {
   "cell_type": "code",
   "execution_count": 7,
   "metadata": {},
   "outputs": [],
   "source": [
    "await target.disconnect() # type: ignore"
   ]
  }
 ],
 "metadata": {
  "kernelspec": {
   "display_name": "pyrit2",
   "language": "python",
   "name": "python3"
  },
  "language_info": {
   "codemirror_mode": {
    "name": "ipython",
    "version": 3
   },
   "file_extension": ".py",
   "mimetype": "text/x-python",
   "name": "python",
   "nbconvert_exporter": "python",
   "pygments_lexer": "ipython3",
   "version": "3.11.9"
  }
 },
 "nbformat": 4,
 "nbformat_minor": 2
}
