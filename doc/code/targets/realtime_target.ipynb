{
 "cells": [
  {
   "cell_type": "markdown",
   "metadata": {},
   "source": [
    "# REALTIME TARGET"
   ]
  },
  {
   "cell_type": "markdown",
   "metadata": {},
   "source": [
    "## Using PyRIT"
   ]
  },
  {
   "cell_type": "code",
   "execution_count": null,
   "metadata": {},
   "outputs": [],
   "source": [
    "from pyrit.prompt_target import RealtimeTarget\n",
    "from pyrit.common import initialize_pyrit, IN_MEMORY\n",
    "\n",
    "initialize_pyrit(memory_db_type=IN_MEMORY)\n",
    "\n",
    "target = RealtimeTarget()"
   ]
  },
  {
   "cell_type": "markdown",
   "metadata": {},
   "source": [
    "## Single Turn Audio Conversation"
   ]
  },
  {
   "cell_type": "code",
   "execution_count": null,
   "metadata": {},
   "outputs": [],
   "source": [
    "\n",
    "from pyrit.orchestrator import PromptSendingOrchestrator\n",
    "from pyrit.prompt_normalizer.normalizer_request import NormalizerRequest, NormalizerRequestPiece\n",
    "\n",
    "# text_prompt_to_send = \"Hi what is 2+2?\"\n",
    "\n",
    "prompt_to_send = \"test_rt_audio1.wav\"\n",
    "\n",
    "normalizer_request = NormalizerRequest(\n",
    "    request_pieces=[\n",
    "        NormalizerRequestPiece(\n",
    "            prompt_value=prompt_to_send,\n",
    "            prompt_data_type=\"audio_path\",\n",
    "        ),\n",
    "    ]\n",
    ")"
   ]
  },
  {
   "cell_type": "code",
   "execution_count": null,
   "metadata": {},
   "outputs": [
    {
     "ename": "NameError",
     "evalue": "name 'PromptSendingOrchestrator' is not defined",
     "output_type": "error",
     "traceback": [
      "\u001b[1;31m---------------------------------------------------------------------------\u001b[0m",
      "\u001b[1;31mNameError\u001b[0m                                 Traceback (most recent call last)",
      "Cell \u001b[1;32mIn[2], line 3\u001b[0m\n\u001b[0;32m      1\u001b[0m \u001b[38;5;28;01mawait\u001b[39;00m target\u001b[38;5;241m.\u001b[39mconnect()\n\u001b[1;32m----> 3\u001b[0m orchestrator \u001b[38;5;241m=\u001b[39m \u001b[43mPromptSendingOrchestrator\u001b[49m(objective_target\u001b[38;5;241m=\u001b[39mtarget)\n\u001b[0;32m      5\u001b[0m \u001b[38;5;28;01mawait\u001b[39;00m orchestrator\u001b[38;5;241m.\u001b[39msend_normalizer_requests_async(prompt_request_list\u001b[38;5;241m=\u001b[39m[normalizer_request])  \u001b[38;5;66;03m# type: ignore\u001b[39;00m\n\u001b[0;32m      7\u001b[0m \u001b[38;5;28;01mawait\u001b[39;00m orchestrator\u001b[38;5;241m.\u001b[39mprint_conversations_async()  \u001b[38;5;66;03m# type: ignore\u001b[39;00m\n",
      "\u001b[1;31mNameError\u001b[0m: name 'PromptSendingOrchestrator' is not defined"
     ]
    }
   ],
   "source": [
    "await target.connect()\n",
    "\n",
    "orchestrator = PromptSendingOrchestrator(objective_target=target)\n",
    "\n",
    "await orchestrator.send_normalizer_requests_async(prompt_request_list=[normalizer_request])  # type: ignore\n",
    "\n",
    "await orchestrator.print_conversations_async()  # type: ignore"
   ]
  },
  {
   "cell_type": "markdown",
   "metadata": {},
   "source": [
    "## Multiturn Text Conversation"
   ]
  },
  {
   "cell_type": "code",
   "execution_count": null,
   "metadata": {},
   "outputs": [],
   "source": [
    "\n",
    "from pyrit.orchestrator import PromptSendingOrchestrator\n",
    "from pyrit.prompt_normalizer.normalizer_request import NormalizerRequest, NormalizerRequestPiece\n",
    "\n",
    "await target.connect()\n",
    "\n",
    "text_prompt_to_send = \"Hi what is 2+2?\"\n",
    "\n",
    "normalizer_request = NormalizerRequest(\n",
    "    request_pieces=[\n",
    "        NormalizerRequestPiece(\n",
    "            prompt_value=text_prompt_to_send,\n",
    "            prompt_data_type=\"text\",\n",
    "        )\n",
    "    ]\n",
    ")\n",
    "\n",
    "second_prompt_to_send = \"Now add 2?\"\n",
    "second_normalizer_request = NormalizerRequest(\n",
    "    request_pieces=[\n",
    "        NormalizerRequestPiece(\n",
    "            prompt_value=second_prompt_to_send,\n",
    "            prompt_data_type=\"text\",\n",
    "        )\n",
    "    ]\n",
    ")\n"
   ]
  },
  {
   "cell_type": "code",
   "execution_count": null,
   "metadata": {},
   "outputs": [
    {
     "name": "stdout",
     "output_type": "stream",
     "text": [
      "Session set up\n",
      "\u001b[1m\u001b[34muser: Hi what is 2+2?\n",
      "\u001b[22m\u001b[33massistant: 2 + 2 equals 4.\n",
      "\u001b[22m\u001b[39mConversation ID: 7f627697-4716-4775-9622-6b4d9ff966e2\n",
      "\u001b[22m\u001b[33massistant: response_audio.wav\n",
      "\u001b[22m\u001b[39mConversation ID: 7f627697-4716-4775-9622-6b4d9ff966e2\n"
     ]
    }
   ],
   "source": [
    "orchestrator = PromptSendingOrchestrator(objective_target=target)\n",
    "\n",
    "await orchestrator.send_normalizer_requests_async(prompt_request_list=[normalizer_request])  # type: ignore\n",
    "\n",
    "await orchestrator.print_conversations_async()  # type: ignore"
   ]
  },
  {
   "cell_type": "code",
   "execution_count": null,
   "metadata": {},
   "outputs": [
    {
     "name": "stdout",
     "output_type": "stream",
     "text": [
      "Session set up\n",
      "\u001b[1m\u001b[34muser: Now add 2?\n",
      "\u001b[22m\u001b[33massistant: Adding 2 to 4 gives you 6.\n",
      "\u001b[22m\u001b[39mConversation ID: 5f6bc935-28d0-424e-afb0-69412db4e3a7\n",
      "\u001b[22m\u001b[33massistant: response_audio.wav\n",
      "\u001b[22m\u001b[39mConversation ID: 5f6bc935-28d0-424e-afb0-69412db4e3a7\n"
     ]
    }
   ],
   "source": [
    "orchestrator = PromptSendingOrchestrator(objective_target=target)\n",
    "\n",
    "await orchestrator.send_normalizer_requests_async(prompt_request_list=[second_normalizer_request])  # type: ignore\n",
    "\n",
    "await orchestrator.print_conversations_async()  # type: ignore"
   ]
  },
  {
   "cell_type": "code",
   "execution_count": null,
   "metadata": {},
   "outputs": [],
   "source": [
    "await target.disconnect()"
   ]
  }
 ],
 "metadata": {
  "kernelspec": {
   "display_name": "pyrit2",
   "language": "python",
   "name": "python3"
  },
  "language_info": {
   "codemirror_mode": {
    "name": "ipython",
    "version": 3
   },
   "file_extension": ".py",
   "mimetype": "text/x-python",
   "name": "python",
   "nbconvert_exporter": "python",
   "pygments_lexer": "ipython3",
   "version": "3.11.9"
  }
 },
 "nbformat": 4,
 "nbformat_minor": 2
}
