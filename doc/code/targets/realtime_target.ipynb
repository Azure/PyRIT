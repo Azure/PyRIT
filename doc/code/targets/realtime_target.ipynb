{
 "cells": [
  {
   "cell_type": "markdown",
   "id": "0",
   "metadata": {},
   "source": [
    "# REALTIME TARGET\n",
    "\n",
    "This notebooks shows how to interact with the Realtime Target to send text or audio prompts and receive back an audio output and the text transcript of that audio"
   ]
  },
  {
   "cell_type": "markdown",
   "id": "1",
   "metadata": {},
   "source": [
    "### Target Initialization"
   ]
  },
  {
   "cell_type": "code",
   "execution_count": null,
   "id": "2",
   "metadata": {},
   "outputs": [],
   "source": [
    "from pyrit.prompt_target import RealtimeTarget\n",
    "from pyrit.common import initialize_pyrit, IN_MEMORY\n",
    "\n",
    "initialize_pyrit(memory_db_type=IN_MEMORY)\n",
    "\n",
    "target = RealtimeTarget()"
   ]
  },
  {
   "cell_type": "code",
   "execution_count": null,
   "id": "3",
   "metadata": {},
   "outputs": [],
   "source": [
    "await target.connect()"
   ]
  },
  {
   "cell_type": "markdown",
   "id": "4",
   "metadata": {},
   "source": [
    "## Audio Conversation\n",
    "\n",
    "The following shows how to interact with the Realtime Target with audio files as your prompt. You can either use pre-made audio files with the pcm16 format or you can use PyRIT converters to help turn your text into audio."
   ]
  },
  {
   "cell_type": "code",
   "execution_count": null,
   "id": "5",
   "metadata": {},
   "outputs": [],
   "source": [
    "from pathlib import Path\n",
    "from pyrit.orchestrator import PromptSendingOrchestrator\n",
    "from pyrit.prompt_normalizer.normalizer_request import NormalizerRequest, NormalizerRequestPiece\n",
    "\n",
    "prompt_to_send = Path(\"../../../assets/converted_audio.wav\").resolve()\n",
    "\n",
    "normalizer_request = NormalizerRequest(\n",
    "    request_pieces=[\n",
    "        NormalizerRequestPiece(\n",
    "            prompt_value=str(prompt_to_send),\n",
    "            prompt_data_type=\"audio_path\",\n",
    "        ),\n",
    "    ]\n",
    ")"
   ]
  },
  {
   "cell_type": "code",
   "execution_count": null,
   "id": "6",
   "metadata": {},
   "outputs": [
    {
     "name": "stdout",
     "output_type": "stream",
     "text": [
      "Session set up\n",
      "\u001b[1m\u001b[34muser: C:\\Users\\bjagdagdorj\\Documents\\tools\\pyrit2\\PyRIT\\assets\\converted_audio.wav\n",
      "\u001b[22m\u001b[33massistant: response_audio.wav\n",
      "\u001b[22m\u001b[39mConversation ID: a114c9fa-ef73-4e1d-8a19-83739beca3b9\n",
      "\u001b[22m\u001b[33massistant: Cutting down a small tree requires some preparation and safety measures. Here’s a general guide:\n",
      "\n",
      "1. **Check with Local Authorities:** Before cutting down a tree, ensure you have any necessary permits and that the tree isn't protected by local ordinances.\n",
      "\n",
      "2. **Wear Safety Gear:** Use a hard hat, safety glasses, gloves, ear protection, and sturdy boots.\n",
      "\n",
      "3. **Examine the Tree:** Look at the tree for stability, the direction it leans, and any dead branches. Plan a clear path of retreat.\n",
      "\n",
      "4. **Clear the Area:** Remove any obstacles around the tree and make sure there's a clear escape route.\n",
      "\n",
      "5. **Make a Notch Cut:** On the side of the tree facing the direction you want it to fall, make a V-shaped cut. The notch should be about one-third of the way through the tree.\n",
      "\n",
      "6. **Make the Felling Cut:** Go to the opposite side of the tree, slightly above the notch cut, and begin cutting horizontally. Leave a small uncut portion to act as a hinge.\n",
      "\n",
      "7. **Retreat:** As the tree begins to fall, walk away quickly on your pre-planned path.\n",
      "\n",
      "8. **Cut the Branches:** Once the tree is down, remove the branches, starting from the bottom and working upwards.\n",
      "\n",
      "9. **Cut the Trunk:** Slice the trunk into manageable sections for removal or further processing.\n",
      "\n",
      "Always consider hiring a professional, especially if the tree is near structures or power lines.\n",
      "\u001b[22m\u001b[39mConversation ID: a114c9fa-ef73-4e1d-8a19-83739beca3b9\n"
     ]
    }
   ],
   "source": [
    "orchestrator = PromptSendingOrchestrator(objective_target=target)\n",
    "await orchestrator.send_normalizer_requests_async(prompt_request_list=[normalizer_request])  # type: ignore\n",
    "await orchestrator.print_conversations_async()  # type: ignore\n",
    "\n",
    "await target.disconnect()  # type: ignore"
   ]
  },
  {
   "cell_type": "markdown",
   "id": "7",
   "metadata": {},
   "source": [
    "## Text Conversation\n",
    "\n",
    "This section below shows how to interact with the Realtime Target with text prompts \n",
    "\n",
    "(if you ran the cells above make sure to connect to the target again! )"
   ]
  },
  {
   "cell_type": "code",
   "execution_count": null,
   "id": "8",
   "metadata": {},
   "outputs": [
    {
     "name": "stdout",
     "output_type": "stream",
     "text": [
      "Session set up\n",
      "\u001b[1m\u001b[34muser: What is the capitol of France?\n",
      "\u001b[22m\u001b[33massistant: response_audio.wav\n",
      "\u001b[22m\u001b[39mConversation ID: 82031e70-9061-4179-8a18-0bde41988bbc\n",
      "\u001b[22m\u001b[33massistant: The capital of France is Paris.\n",
      "\u001b[22m\u001b[39mConversation ID: 82031e70-9061-4179-8a18-0bde41988bbc\n"
     ]
    }
   ],
   "source": [
    "from pyrit.models.prompt_request_piece import PromptRequestPiece\n",
    "from pyrit.orchestrator import PromptSendingOrchestrator\n",
    "\n",
    "prompt_to_send = \"What is the capitol of France?\"\n",
    "\n",
    "request = PromptRequestPiece(\n",
    "    role=\"user\",\n",
    "    original_value=prompt_to_send,\n",
    ").to_prompt_request_response()\n",
    "\n",
    "await target.connect() # type: ignore\n",
    "orchestrator = PromptSendingOrchestrator(objective_target=target)\n",
    "response = await orchestrator.send_prompts_async(prompt_list=[prompt_to_send])  # type: ignore\n",
    "await orchestrator.print_conversations_async()  # type: ignore"
   ]
  },
  {
   "cell_type": "code",
   "execution_count": null,
   "id": "9",
   "metadata": {},
   "outputs": [],
   "source": [
    "await target.disconnect()  # type: ignore"
   ]
  },
  {
   "cell_type": "code",
   "execution_count": null,
   "id": "10",
   "metadata": {},
   "outputs": [],
   "source": [
    "from pyrit.memory import CentralMemory\n",
    "\n",
    "memory = CentralMemory.get_memory_instance()\n",
    "memory.dispose_engine()"
   ]
  }
 ],
 "metadata": {
  "kernelspec": {
   "display_name": "pyrit2",
   "language": "python",
   "name": "python3"
  }
 },
 "nbformat": 4,
 "nbformat_minor": 5
}
