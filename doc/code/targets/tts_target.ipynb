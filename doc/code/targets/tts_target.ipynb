{
 "cells": [
  {
   "cell_type": "markdown",
   "id": "d53134da",
   "metadata": {},
   "source": [
    "## Image Target Demo\n",
    "This notebook demonstrates how to use the TTS (audio) target to convert text to speech"
   ]
  },
  {
   "cell_type": "code",
   "execution_count": 1,
   "id": "c47d1a42",
   "metadata": {
    "execution": {
     "iopub.execute_input": "2024-04-29T02:43:16.246943Z",
     "iopub.status.busy": "2024-04-29T02:43:16.246943Z",
     "iopub.status.idle": "2024-04-29T02:43:22.157983Z",
     "shell.execute_reply": "2024-04-29T02:43:22.157983Z"
    }
   },
   "outputs": [
    {
     "name": "stdout",
     "output_type": "stream",
     "text": [
      "None: assistant: D:\\git\\PyRIT\\results\\dbdata\\audio\\1714358602061748.mp3\n"
     ]
    }
   ],
   "source": [
    "# Copyright (c) Microsoft Corporation.\n",
    "# Licensed under the MIT license.\n",
    "\n",
    "from pyrit.models import PromptRequestPiece\n",
    "from pyrit.prompt_target import AzureTTSTarget\n",
    "from pyrit.common import default_values\n",
    "\n",
    "default_values.load_default_env()\n",
    "\n",
    "request = PromptRequestPiece(\n",
    "    role=\"user\",\n",
    "    original_value=\"Hello, I am an audio prompt\",\n",
    ").to_prompt_request_response()\n",
    "\n",
    "\n",
    "with AzureTTSTarget() as azure_openai_chat_target:\n",
    "    resp = await azure_openai_chat_target.send_prompt_async(prompt_request=request)  # type: ignore\n",
    "\n",
    "    # The response is an mp3 saved to disk (but also included as part of memory)\n",
    "    print(resp)"
   ]
  }
 ],
 "metadata": {
  "jupytext": {
   "cell_metadata_filter": "-all"
  },
  "kernelspec": {
   "display_name": "pyrit-311",
   "language": "python",
   "name": "pyrit-311"
  },
  "language_info": {
   "codemirror_mode": {
    "name": "ipython",
    "version": 3
   },
   "file_extension": ".py",
   "mimetype": "text/x-python",
   "name": "python",
   "nbconvert_exporter": "python",
   "pygments_lexer": "ipython3",
   "version": "3.11.9"
  }
 },
 "nbformat": 4,
 "nbformat_minor": 5
}
