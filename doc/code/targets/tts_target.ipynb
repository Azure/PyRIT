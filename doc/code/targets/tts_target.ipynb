{
 "cells": [
  {
   "cell_type": "markdown",
   "id": "fa4a7a4f",
   "metadata": {
    "lines_to_next_cell": 2
   },
   "source": [
    "## Image Target Demo\n",
    "This notebook demonstrates how to use the TTS (audio) target to convert text to speech"
   ]
  },
  {
   "cell_type": "code",
   "execution_count": 1,
   "id": "4c200582",
   "metadata": {
    "execution": {
     "iopub.execute_input": "2024-04-22T21:03:38.498960Z",
     "iopub.status.busy": "2024-04-22T21:03:38.497959Z",
     "iopub.status.idle": "2024-04-22T21:03:44.527075Z",
     "shell.execute_reply": "2024-04-22T21:03:44.527075Z"
    }
   },
   "outputs": [
    {
     "name": "stdout",
     "output_type": "stream",
     "text": [
      "None: assistant: D:\\git\\PyRIT\\results\\dbdata\\audio\\1713820971494699.mp3\n"
     ]
    }
   ],
   "source": [
    "# Copyright (c) Microsoft Corporation.\n",
    "# Licensed under the MIT license.\n",
    "\n",
    "from pyrit.models import PromptRequestPiece\n",
    "from pyrit.prompt_target import AzureTTSTarget\n",
    "from pyrit.common import default_values\n",
    "\n",
    "default_values.load_default_env()\n",
    "\n",
    "request = PromptRequestPiece(\n",
    "    role=\"user\",\n",
    "    original_prompt_text=\"Hello, I am an audio prompt\",\n",
    ").to_prompt_request_response()\n",
    "\n",
    "\n",
    "with AzureTTSTarget() as azure_openai_chat_target:\n",
    "    resp = await azure_openai_chat_target.send_prompt_async(prompt_request=request)  # type: ignore\n",
    "\n",
    "    # The response is an mp3 saved to disk (but also included as part of memory)\n",
    "    print(resp)"
   ]
  }
 ],
 "metadata": {
  "jupytext": {
   "cell_metadata_filter": "-all"
  },
  "kernelspec": {
   "display_name": "pyrit-dev",
   "language": "python",
   "name": "python3"
  },
  "language_info": {
   "codemirror_mode": {
    "name": "ipython",
    "version": 3
   },
   "file_extension": ".py",
   "mimetype": "text/x-python",
   "name": "python",
   "nbconvert_exporter": "python",
   "pygments_lexer": "ipython3",
   "version": "3.10.13"
  }
 },
 "nbformat": 4,
 "nbformat_minor": 5
}
