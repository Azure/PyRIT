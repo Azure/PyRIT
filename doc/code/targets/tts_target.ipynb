{
 "cells": [
  {
   "cell_type": "markdown",
   "id": "683746fe",
   "metadata": {
    "lines_to_next_cell": 2
   },
   "source": [
    "## Image Target Demo\n",
    "This notebook demonstrates how to use the TTS (audio) target to convert text to speech"
   ]
  },
  {
   "cell_type": "code",
   "execution_count": null,
   "id": "c2055b07",
   "metadata": {
    "lines_to_next_cell": 2
   },
   "outputs": [],
   "source": []
  },
  {
   "cell_type": "code",
   "execution_count": 1,
   "id": "7820f670",
   "metadata": {
    "execution": {
     "iopub.execute_input": "2024-04-22T19:12:12.931058Z",
     "iopub.status.busy": "2024-04-22T19:12:12.931058Z",
     "iopub.status.idle": "2024-04-22T19:12:18.785413Z",
     "shell.execute_reply": "2024-04-22T19:12:18.785413Z"
    }
   },
   "outputs": [
    {
     "name": "stdout",
     "output_type": "stream",
     "text": [
      "None: assistant: D:\\git\\PyRIT\\results\\dbdata\\audio\\1713813138737383.mp3\n"
     ]
    }
   ],
   "source": [
    "# Copyright (c) Microsoft Corporation.\n",
    "# Licensed under the MIT license.\n",
    "\n",
    "from pyrit.models import PromptRequestPiece\n",
    "from pyrit.prompt_target import AzureTTSTarget\n",
    "from pyrit.common import default_values\n",
    "\n",
    "default_values.load_default_env()\n",
    "\n",
    "request = PromptRequestPiece(\n",
    "    role=\"user\",\n",
    "    original_prompt_text=\"Hello, I am an audio prompt\",\n",
    ").to_prompt_request_response()\n",
    "\n",
    "\n",
    "with AzureTTSTarget() as azure_openai_chat_target:\n",
    "    resp = await azure_openai_chat_target.send_prompt_async(prompt_request=request)\n",
    "    print(resp)"
   ]
  }
 ],
 "metadata": {
  "jupytext": {
   "cell_metadata_filter": "-all"
  },
  "kernelspec": {
   "display_name": "pyrit_kernel",
   "language": "python",
   "name": "pyrit_kernel"
  },
  "language_info": {
   "codemirror_mode": {
    "name": "ipython",
    "version": 3
   },
   "file_extension": ".py",
   "mimetype": "text/x-python",
   "name": "python",
   "nbconvert_exporter": "python",
   "pygments_lexer": "ipython3",
   "version": "3.10.13"
  }
 },
 "nbformat": 4,
 "nbformat_minor": 5
}
