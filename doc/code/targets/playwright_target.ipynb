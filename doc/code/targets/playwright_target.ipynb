{
 "cells": [
  {
   "cell_type": "markdown",
   "id": "2c4bb9e5",
   "metadata": {
    "lines_to_next_cell": 2
   },
   "source": [
    "# Playwright Target:\n",
    "\n",
    "This notebook demonstrates how to interact with the **Playwright Target** in PyRIT.\n",
    "\n",
    "The `PlaywrightTarget` class allows you to interact with web applications using\n",
    "[Playwright](https://playwright.dev/python/docs/intro).\n",
    "This is useful for testing interactions with web applications, such as chatbots or other web interfaces,\n",
    "especially for red teaming purposes.\n",
    "\n",
    "Before you begin, ensure you have the correct version of PyRIT installed and any necessary secrets configured as\n",
    "described [here](../../setup/populating_secrets.md).\n",
    "\n",
    "**Installation:**\n",
    "\n",
    "If you plan to use the Playwright integration (`PlaywrightTarget`), install PyRIT with the `playwright` extra:\n",
    "\n",
    "```bash\n",
    "pip install -e '.[playwright]'\n",
    "```\n",
    "\n",
    "After installing PyRIT with Playwright, install the browser binaries:\n",
    "\n",
    "```bash\n",
    "playwright install\n",
    "```\n",
    "\n",
    "**Note:** The `-e` flag installs PyRIT in editable mode, which is useful if you're modifying the source code.\n",
    "If you are not modifying the source, you can omit the `-e` flag."
   ]
  },
  {
   "cell_type": "markdown",
   "id": "dac54f52",
   "metadata": {
    "lines_to_next_cell": 0
   },
   "source": [
    "## Example: Interacting with a Web Application using `PlaywrightTarget`\n",
    "\n",
    "In this example, we'll interact with a simple web application running locally at `http://127.0.0.1:5000`.\n",
    "which runs a chatbot that responds to user prompts via ollama\n",
    "We'll define an interaction function that navigates to the web application, inputs a prompt, and retrieves the\n",
    "bot's response.\n",
    "\n",
    "## Start the Flask App\n",
    "Before we can interact with the web application, we need to start the Flask app that serves the chatbot, this will be done in a subprocess"
   ]
  },
  {
   "cell_type": "code",
   "execution_count": 1,
   "id": "de19d821",
   "metadata": {
    "execution": {
     "iopub.execute_input": "2024-12-15T13:39:32.262418Z",
     "iopub.status.busy": "2024-12-15T13:39:32.261994Z",
     "iopub.status.idle": "2024-12-15T13:39:32.793283Z",
     "shell.execute_reply": "2024-12-15T13:39:32.792965Z"
    }
   },
   "outputs": [
    {
     "name": "stdout",
     "output_type": "stream",
     "text": [
      "Starting Flask app from /Users/ramirezc/PycharmProjects/PyRIT/doc/code/targets/playwright_demo/app.py...\n"
     ]
    },
    {
     "name": "stdout",
     "output_type": "stream",
     "text": [
      "Flask app is running and ready!\n"
     ]
    }
   ],
   "source": [
    "import subprocess\n",
    "import os\n",
    "import sys\n",
    "import time\n",
    "from urllib.request import urlopen\n",
    "from urllib.error import URLError\n",
    "\n",
    "\n",
    "def start_flask_app():\n",
    "    # Get the notebook's directory\n",
    "    notebook_dir = os.getcwd()\n",
    "\n",
    "    # Construct the path to app.py relative to the notebook directory\n",
    "    app_path = os.path.join(notebook_dir, 'playwright_demo', 'app.py')\n",
    "\n",
    "    # Ensure that app.py exists\n",
    "    if not os.path.isfile(app_path):\n",
    "        raise FileNotFoundError(f\"Cannot find app.py at {app_path}\")\n",
    "\n",
    "        # Start the Flask app\n",
    "    print(f\"Starting Flask app from {app_path}...\")\n",
    "    flask_process = subprocess.Popen(\n",
    "        [sys.executable, app_path],\n",
    "        stdout=subprocess.DEVNULL,\n",
    "        stderr=subprocess.DEVNULL\n",
    "    )\n",
    "\n",
    "\n",
    "    # Wait for the app to start by checking if the server is up\n",
    "    server_url = 'http://127.0.0.1:5000'\n",
    "    server_ready = False\n",
    "    while not server_ready:\n",
    "        try:\n",
    "            response = urlopen(server_url)\n",
    "            if response.status == 200:\n",
    "                server_ready = True\n",
    "        except URLError:\n",
    "            time.sleep(0.5)  # Wait a bit before checking again\n",
    "    print(\"Flask app is running and ready!\")\n",
    "    return flask_process\n",
    "\n",
    "\n",
    "\n",
    "# Start the Flask app\n",
    "flask_process = start_flask_app()"
   ]
  },
  {
   "cell_type": "markdown",
   "id": "46ed794a",
   "metadata": {
    "lines_to_next_cell": 0
   },
   "source": [
    "### Interaction Function\n",
    "This is playwright script that interacts with the chatbot web application."
   ]
  },
  {
   "cell_type": "code",
   "execution_count": 2,
   "id": "791f03a4",
   "metadata": {
    "execution": {
     "iopub.execute_input": "2024-12-15T13:39:32.794670Z",
     "iopub.status.busy": "2024-12-15T13:39:32.794564Z",
     "iopub.status.idle": "2024-12-15T13:39:33.998984Z",
     "shell.execute_reply": "2024-12-15T13:39:33.998632Z"
    }
   },
   "outputs": [],
   "source": [
    "from pyrit.common import default_values\n",
    "from playwright.async_api import Page, async_playwright\n",
    "from pyrit.prompt_target import PlaywrightTarget\n",
    "from pyrit.orchestrator import PromptSendingOrchestrator\n",
    "from pyrit.models import PromptRequestPiece\n",
    "\n",
    "# Load environment variables (optional)\n",
    "default_values.load_environment_files()\n",
    "\n",
    "\n",
    "# Define the interaction function\n",
    "async def interact_with_my_app(page: Page, request_piece: PromptRequestPiece) -> str:\n",
    "    # Define selectors\n",
    "    input_selector = '#message-input'\n",
    "    send_button_selector = '#send-button'\n",
    "    bot_message_selector = '.bot-message'\n",
    "\n",
    "    # Count existing messages\n",
    "    initial_messages = await page.query_selector_all(bot_message_selector)\n",
    "    initial_message_count = len(initial_messages)\n",
    "\n",
    "    # Wait for the page to be ready\n",
    "    await page.wait_for_selector(input_selector)\n",
    "\n",
    "    # Send the prompt text\n",
    "    prompt_text = request_piece.converted_value\n",
    "    await page.fill(input_selector, prompt_text)\n",
    "    await page.click(send_button_selector)\n",
    "\n",
    "    # Wait for new messages (bot messages)\n",
    "    await page.wait_for_function(\n",
    "        f\"document.querySelectorAll('{bot_message_selector}').length > {initial_message_count}\"\n",
    "    )\n",
    "\n",
    "    # Extract the bot's response text\n",
    "    bot_message_element = await page.query_selector(f'{bot_message_selector}:last-child')\n",
    "    bot_response = await bot_message_element.text_content()\n",
    "    return bot_response.strip()\n",
    "\n"
   ]
  },
  {
   "cell_type": "markdown",
   "id": "f9420048",
   "metadata": {
    "lines_to_next_cell": 0
   },
   "source": [
    "### Using `PlaywrightTarget` with the Interaction Function and Scorer\n",
    "\n",
    "Now, we can use the `PlaywrightTarget` by passing the interaction function we defined.\n",
    "We'll use the `PromptSendingOrchestrator` to send prompts to the target and collects responses."
   ]
  },
  {
   "cell_type": "code",
   "execution_count": 3,
   "id": "5e1154e5",
   "metadata": {
    "execution": {
     "iopub.execute_input": "2024-12-15T13:39:34.000372Z",
     "iopub.status.busy": "2024-12-15T13:39:34.000230Z",
     "iopub.status.idle": "2024-12-15T13:39:36.182435Z",
     "shell.execute_reply": "2024-12-15T13:39:36.182013Z"
    }
   },
   "outputs": [
    {
     "name": "stdout",
     "output_type": "stream",
     "text": [
      "\u001b[22m\u001b[39mConversation ID: 8e5f0c90-056e-4854-bee6-8b78eeeb15da\n",
      "\u001b[1m\u001b[34muser: Tell me a joke about computer programming.\n",
      "\u001b[22m\u001b[33massistant: Howdy partner! I got one for ya that's as sharp as my six-shooter. Why did the programmer quit his job?\n",
      "\n",
      "(pauses for dramatic effect)\n",
      "\n",
      "Because he didn't get arrays! (chuckles) Get it? Arrays, like stacks of code? Ah, shucks, I reckon it's just a darn good joke!\n"
     ]
    }
   ],
   "source": [
    "# Using PlaywrightTarget with the interaction function and scorer\n",
    "async def main(page: Page):\n",
    "    target = PlaywrightTarget(\n",
    "        interaction_func=interact_with_my_app,\n",
    "        page=page\n",
    "    )\n",
    "\n",
    "    with PromptSendingOrchestrator(\n",
    "            objective_target=target,\n",
    "    ) as orchestrator:\n",
    "        all_prompts = [\n",
    "            \"Tell me a joke about computer programming.\",\n",
    "        ]\n",
    "\n",
    "        await orchestrator.send_prompts_async(prompt_list=all_prompts)\n",
    "        await orchestrator.print_conversations_async()  # type: ignore\n",
    "\n",
    "\n",
    "# Run the main function\n",
    "\n",
    "\n",
    "async with async_playwright() as playwright:\n",
    "    browser = await playwright.chromium.launch(headless=False)\n",
    "    context = await browser.new_context()\n",
    "    page: Page = await context.new_page()\n",
    "    await page.goto('http://127.0.0.1:5000')\n",
    "    await main(page)\n",
    "    await context.close()\n",
    "    await browser.close()"
   ]
  },
  {
   "cell_type": "markdown",
   "id": "f70b331c",
   "metadata": {},
   "source": [
    "## Terminate the Flask App"
   ]
  },
  {
   "cell_type": "code",
   "execution_count": 4,
   "id": "d6bef0ca",
   "metadata": {
    "execution": {
     "iopub.execute_input": "2024-12-15T13:39:36.183967Z",
     "iopub.status.busy": "2024-12-15T13:39:36.183748Z",
     "iopub.status.idle": "2024-12-15T13:39:36.225508Z",
     "shell.execute_reply": "2024-12-15T13:39:36.225097Z"
    }
   },
   "outputs": [
    {
     "name": "stdout",
     "output_type": "stream",
     "text": [
      "Flask app has been terminated.\n"
     ]
    }
   ],
   "source": [
    "# Terminate the Flask app when done\n",
    "flask_process.terminate()\n",
    "flask_process.wait()  # Ensure the process has terminated\n",
    "print(\"Flask app has been terminated.\")"
   ]
  }
 ],
 "metadata": {
  "kernelspec": {
   "display_name": "pyrit-311",
   "language": "python",
   "name": "python3"
  },
  "language_info": {
   "codemirror_mode": {
    "name": "ipython",
    "version": 3
   },
   "file_extension": ".py",
   "mimetype": "text/x-python",
   "name": "python",
   "nbconvert_exporter": "python",
   "pygments_lexer": "ipython3",
   "version": "3.11.10"
  }
 },
 "nbformat": 4,
 "nbformat_minor": 5
}
