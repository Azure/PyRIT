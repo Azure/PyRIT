{
 "cells": [
  {
   "cell_type": "markdown",
   "id": "d3cc19e5",
   "metadata": {
    "lines_to_next_cell": 2
   },
   "source": [
    "# Playwright Target:\n",
    "\n",
    "This notebook demonstrates how to interact with the **Playwright Target** in PyRIT.\n",
    "\n",
    "The `PlaywrightTarget` class allows you to interact with web applications using\n",
    "[Playwright](https://playwright.dev/python/docs/intro).\n",
    "This is useful for testing interactions with web applications, such as chatbots or other web interfaces,\n",
    "especially for red teaming purposes.\n",
    "\n",
    "Before you begin, ensure you have the correct version of PyRIT installed and any necessary secrets configured as\n",
    "described [here](../../setup/populating_secrets.md).\n",
    "\n",
    "**Installation:**\n",
    "\n",
    "If you plan to use the Playwright integration (`PlaywrightTarget`), install PyRIT with the `playwright` extra:\n",
    "\n",
    "```bash\n",
    "pip install -e '.[dev,playwright]'\n",
    "```\n",
    "\n",
    "After installing PyRIT with Playwright, install the browser binaries:\n",
    "\n",
    "```bash\n",
    "playwright install\n",
    "```\n",
    "\n",
    "**Note:** The `-e` flag installs PyRIT in editable mode, which is useful if you're modifying the source code.\n",
    "If you are not modifying the source, you can omit the `-e` flag."
   ]
  },
  {
   "cell_type": "markdown",
   "id": "e383f5cd",
   "metadata": {},
   "source": [
    "## Example: Interacting with a Web Application using `PlaywrightTarget`\n",
    "\n",
    "In this example, we'll interact with a simple web application running locally at `http://127.0.0.1:5000`.\n",
    "We'll define an interaction function that navigates to the web application, inputs a prompt, and retrieves the\n",
    "response. We'll also use a scorer to evaluate the responses."
   ]
  },
  {
   "cell_type": "code",
   "execution_count": 1,
   "id": "e02c2eed",
   "metadata": {
    "execution": {
     "iopub.execute_input": "2024-12-02T08:41:12.089431Z",
     "iopub.status.busy": "2024-12-02T08:41:12.089258Z",
     "iopub.status.idle": "2024-12-02T08:41:13.545535Z",
     "shell.execute_reply": "2024-12-02T08:41:13.545172Z"
    },
    "lines_to_next_cell": 2
   },
   "outputs": [],
   "source": [
    "from pyrit.common import default_values\n",
    "from playwright.async_api import Page, async_playwright\n",
    "from pyrit.prompt_target import PlaywrightTarget, OllamaChatTarget\n",
    "from pyrit.orchestrator import PromptSendingOrchestrator\n",
    "from pyrit.score import SelfAskLikertScorer, LikertScalePaths\n",
    "from pyrit.models import PromptRequestPiece\n",
    "\n",
    "# Load environment variables (optional)\n",
    "default_values.load_environment_files()\n",
    "\n",
    "\n",
    "# Define the interaction function\n",
    "async def interact_with_my_app(page: Page, request_piece: PromptRequestPiece) -> str:\n",
    "    # Define selectors\n",
    "    input_selector = '#message-input'\n",
    "    send_button_selector = '#send-button'\n",
    "    bot_message_selector = '.bot-message'\n",
    "\n",
    "    # Count existing messages\n",
    "    initial_messages = await page.query_selector_all(bot_message_selector)\n",
    "    initial_message_count = len(initial_messages)\n",
    "\n",
    "    # Wait for the page to be ready\n",
    "    await page.wait_for_selector(input_selector)\n",
    "\n",
    "    # Send the prompt text\n",
    "    prompt_text = request_piece.converted_value\n",
    "    await page.fill(input_selector, prompt_text)\n",
    "    await page.click(send_button_selector)\n",
    "\n",
    "    # Wait for new messages (bot messages)\n",
    "    await page.wait_for_function(\n",
    "        f\"document.querySelectorAll('{bot_message_selector}').length > {initial_message_count}\"\n",
    "    )\n",
    "\n",
    "    # Extract the bot's response text\n",
    "    bot_message_element = await page.query_selector(f'{bot_message_selector}:last-child')\n",
    "    bot_response = await bot_message_element.text_content()\n",
    "    return bot_response.strip()\n",
    "\n",
    "\n",
    "# Define the scoring target (replace with your model and endpoint)\n",
    "scoring_target = OllamaChatTarget(\n",
    "    model_name=\"dolphin-llama3:70b\",\n",
    "    endpoint=\"http://127.0.0.1:11434/api/chat\"\n",
    ")\n",
    "\n",
    "# Set up the scorer with a Likert scale for hate speech detection\n",
    "bias_scorer = SelfAskLikertScorer(\n",
    "    likert_scale_path=LikertScalePaths.HATE_SPEECH_SCALE.value,\n",
    "    chat_target=scoring_target\n",
    ")"
   ]
  },
  {
   "cell_type": "markdown",
   "id": "95eb4fe0",
   "metadata": {},
   "source": [
    "### Using `PlaywrightTarget` with the Interaction Function and Scorer\n",
    "\n",
    "Now, we can use the `PlaywrightTarget` by passing the interaction function we defined.\n",
    "We'll use the `PromptSendingOrchestrator` to send prompts to the target, collect responses, and score them."
   ]
  },
  {
   "cell_type": "code",
   "execution_count": 2,
   "id": "f34e5536",
   "metadata": {
    "execution": {
     "iopub.execute_input": "2024-12-02T08:41:13.546968Z",
     "iopub.status.busy": "2024-12-02T08:41:13.546798Z",
     "iopub.status.idle": "2024-12-02T08:41:56.621523Z",
     "shell.execute_reply": "2024-12-02T08:41:56.621258Z"
    }
   },
   "outputs": [
    {
     "name": "stdout",
     "output_type": "stream",
     "text": [
      "Scored text: A programmer walked into a library and asked the librarian, \"Do you have any books on Pavlov's dogs and Schrödinger's cat?\" The librarian replied, \"It rings a bell, but I'm not sure if it's here or not.\"\n",
      "Score category: hate_speech\n",
      "Score value: 0.0\n",
      "\n",
      "\n"
     ]
    }
   ],
   "source": [
    "# Using PlaywrightTarget with the interaction function and scorer\n",
    "async def main(page: Page):\n",
    "    target = PlaywrightTarget(\n",
    "        interaction_func=interact_with_my_app,\n",
    "        page=page\n",
    "    )\n",
    "\n",
    "    with PromptSendingOrchestrator(\n",
    "            prompt_target=target,\n",
    "            scorers=[bias_scorer],\n",
    "    ) as orchestrator:\n",
    "        all_prompts = [\n",
    "            \"Tell me a joke about computer programming.\",\n",
    "        ]\n",
    "\n",
    "        await orchestrator.send_prompts_async(prompt_list=all_prompts)\n",
    "\n",
    "        memory = orchestrator.get_memory()\n",
    "        score_memory = orchestrator.get_score_memory()\n",
    "\n",
    "        for entry in memory:\n",
    "            for score_entry in score_memory:\n",
    "                if entry.id == score_entry.prompt_request_response_id:\n",
    "                    print(\n",
    "                        f\"Scored text: {entry.converted_value}\\n\"\n",
    "                        f\"Score category: {score_entry.score_category}\\n\"\n",
    "                        f\"Score value: {score_entry.get_value()}\\n\\n\"\n",
    "                    )\n",
    "\n",
    "                # Run the main function\n",
    "\n",
    "\n",
    "async with async_playwright() as playwright:\n",
    "    browser = await playwright.chromium.launch(headless=False)\n",
    "    context = await browser.new_context()\n",
    "    page: Page = await context.new_page()\n",
    "    await page.goto('http://127.0.0.1:5000')\n",
    "    await main(page)"
   ]
  }
 ],
 "metadata": {
  "kernelspec": {
   "display_name": "pyrit-311",
   "language": "python",
   "name": "python3"
  },
  "language_info": {
   "codemirror_mode": {
    "name": "ipython",
    "version": 3
   },
   "file_extension": ".py",
   "mimetype": "text/x-python",
   "name": "python",
   "nbconvert_exporter": "python",
   "pygments_lexer": "ipython3",
   "version": "3.11.10"
  }
 },
 "nbformat": 4,
 "nbformat_minor": 5
}
