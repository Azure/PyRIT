{
 "cells": [
  {
   "cell_type": "markdown",
   "id": "f892e324",
   "metadata": {},
   "source": [
    "\n",
    "# ## Introduction\n",
    "\n",
    "This Jupyter notebook gives an introduction on how to use `AzureOpenAIChat` to complete chats.\n",
    "\n",
    "Before starting this, make sure you are [setup to use Azure OpenAI endpoints](../setup/setup_azure.md) and have a chat model, such as GPT-4, deployed. See [How To: Create and deploy an Azure OpenAI Service resource](https://learn.microsoft.com/en-us/azure/ai-services/openai/how-to/create-resource?pivots=web-portal).\n",
    "\n",
    "In this case, we have one named `gpt-4` deployed. See your deployments at https://oai.azure.com/ `> Management > Deployments`"
   ]
  },
  {
   "cell_type": "code",
   "execution_count": 1,
   "id": "371d4493",
   "metadata": {
    "execution": {
     "iopub.execute_input": "2024-03-28T21:54:26.818298Z",
     "iopub.status.busy": "2024-03-28T21:54:26.818298Z",
     "iopub.status.idle": "2024-03-28T21:54:31.806314Z",
     "shell.execute_reply": "2024-03-28T21:54:31.806314Z"
    }
   },
   "outputs": [
    {
     "data": {
      "text/plain": [
       "'Hello! How can I assist you today?'"
      ]
     },
     "execution_count": 1,
     "metadata": {},
     "output_type": "execute_result"
    }
   ],
   "source": [
    "# Copyright (c) Microsoft Corporation.\n",
    "# Licensed under the MIT license.\n",
    "\n",
    "import uuid\n",
    "\n",
    "from pyrit.prompt_target import AzureOpenAIChatTarget\n",
    "from pyrit.common import default_values\n",
    "\n",
    "default_values.load_default_env()\n",
    "\n",
    "\n",
    "chat_engine = AzureOpenAIChatTarget()\n",
    "chat_engine.send_prompt(normalized_prompt=\"Hello world!\", conversation_id=str(uuid.uuid4()), normalizer_id=\"1\")\n",
    "\n",
    "# TODO: Do we want to remove azure_openai_chat and aml_endpoints from doc/code in favor of a general prompt_chat_targets doc NB or the existing prompt_targets one?"
   ]
  },
  {
   "cell_type": "code",
   "execution_count": null,
   "id": "d66c5f37",
   "metadata": {},
   "outputs": [],
   "source": []
  }
 ],
 "metadata": {
  "jupytext": {
   "cell_metadata_filter": "-all"
  },
  "kernelspec": {
   "display_name": "pyrit",
   "language": "python",
   "name": "python3"
  },
  "language_info": {
   "codemirror_mode": {
    "name": "ipython",
    "version": 3
   },
   "file_extension": ".py",
   "mimetype": "text/x-python",
   "name": "python",
   "nbconvert_exporter": "python",
   "pygments_lexer": "ipython3",
   "version": "3.10.13"
  }
 },
 "nbformat": 4,
 "nbformat_minor": 5
}
