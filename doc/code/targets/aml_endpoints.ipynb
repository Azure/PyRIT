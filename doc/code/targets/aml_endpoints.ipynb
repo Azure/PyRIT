{
 "cells": [
  {
   "cell_type": "markdown",
   "id": "2f133692",
   "metadata": {
    "lines_to_next_cell": 0
   },
   "source": [
    "# Introduction\n",
    "\n",
    "This code shows how to use Azure Machine Learning (AML) managed online endpoints with PyRIT.\n",
    "\n",
    "## Prerequisites\n",
    "\n",
    "1. **Deploy an AML-Managed Online Endpoint:** Confirm that an Azure Machine Learning managed online endpoint is\n",
    "     already deployed.\n",
    "\n",
    "1. **Obtain the API Key:**\n",
    "   - Navigate to the AML Studio.\n",
    "   - Go to the 'Endpoints' section.\n",
    "   - Retrieve the API key and endpoint URI.\n",
    "   <br> <img src=\"./../../assets/aml_managed_online_endpoint_api_key.png\" alt=\"aml_managed_online_endpoint_api_key.png\" height=\"400\"/> <br>\n",
    "\n",
    "1. **Set the Environment Variable:**\n",
    "   - Add the obtained API key to an environment variable named `AZURE_ML_KEY`.\n",
    "   - Add the obtained endpoint URI to an environment variable named `AZURE_ML_MANAGED_ENDPOINT`.\n",
    "\n",
    "## Create a AzureMLChatTarget\n",
    "\n",
    "After deploying a model and populating your env file, creating an endpoint is as simple as the following"
   ]
  },
  {
   "cell_type": "code",
   "execution_count": 1,
   "id": "f7215e6f",
   "metadata": {
    "execution": {
     "iopub.execute_input": "2024-03-29T17:37:46.468016Z",
     "iopub.status.busy": "2024-03-29T17:37:46.468016Z",
     "iopub.status.idle": "2024-03-29T17:38:01.734724Z",
     "shell.execute_reply": "2024-03-29T17:38:01.734724Z"
    },
    "lines_to_next_cell": 2
   },
   "outputs": [
    {
     "data": {
      "text/plain": [
       "\"Hello! I'm here to help you with any questions you have about marketing, branding, or social media. Is there something specific you'd like to talk about? I'm glad to hear that you're saying hello to the world. In today's digital age, having a strong online presence is essential for any business or individual looking to make an impact. Whether you're looking to build your personal brand, promote a product or service, or connect with others, there are many strategies and tools you can use to reach your goals. Let me know if you have any questions or if there's anything specific you'd like to learn about!\""
      ]
     },
     "execution_count": 1,
     "metadata": {},
     "output_type": "execute_result"
    }
   ],
   "source": [
    "# Copyright (c) Microsoft Corporation.\n",
    "# Licensed under the MIT license.\n",
    "\n",
    "import uuid\n",
    "\n",
    "from pyrit.common import default_values\n",
    "from pyrit.prompt_target import AzureMLChatTarget\n",
    "\n",
    "\n",
    "default_values.load_default_env()\n",
    "\n",
    "chat_engine = AzureMLChatTarget()\n",
    "chat_engine.send_prompt(normalized_prompt=\"Hello world!\", conversation_id=str(uuid.uuid4()), normalizer_id=\"1\")"
   ]
  },
  {
   "cell_type": "markdown",
   "id": "6eb648ae",
   "metadata": {},
   "source": [
    "\n",
    "You can then use this cell anywhere you would use a `PromptChatTarget` or `PromptTarget` object.\n",
    "For example, you can create a red teaming orchestrator and do the entire [Gandalf Demo](../demo/1_gandalf.ipynb) but use this AML model.\n",
    "This is also shown in the [Multiturn Demo](../demo/2_multiturn_strategies.ipynb)."
   ]
  }
 ],
 "metadata": {
  "jupytext": {
   "cell_metadata_filter": "-all"
  },
  "kernelspec": {
   "display_name": "pyrit-kernel",
   "language": "python",
   "name": "pyrit-kernel"
  },
  "language_info": {
   "codemirror_mode": {
    "name": "ipython",
    "version": 3
   },
   "file_extension": ".py",
   "mimetype": "text/x-python",
   "name": "python",
   "nbconvert_exporter": "python",
   "pygments_lexer": "ipython3",
   "version": "3.10.13"
  }
 },
 "nbformat": 4,
 "nbformat_minor": 5
}
