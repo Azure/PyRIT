{
 "cells": [
  {
   "cell_type": "markdown",
   "id": "cec6ea18",
   "metadata": {
    "lines_to_next_cell": 0
   },
   "source": [
    "# Introduction\n",
    "\n",
    "This code shows how to use Azure Machine Learning (AML) managed online endpoints with PyRIT.\n",
    "\n",
    "## Prerequisites\n",
    "\n",
    "1. **Deploy an AML-Managed Online Endpoint:** Confirm that an Azure Machine Learning managed online endpoint is\n",
    "     already deployed.\n",
    "\n",
    "1. **Obtain the API Key:**\n",
    "   - Navigate to the AML Studio.\n",
    "   - Go to the 'Endpoints' section.\n",
    "   - Retrieve the API key and endpoint URI.\n",
    "   <br> <img src=\"./../../assets/aml_managed_online_endpoint_api_key.png\" alt=\"aml_managed_online_endpoint_api_key.png\" height=\"400\"/> <br>\n",
    "\n",
    "1. **Set the Environment Variable:**\n",
    "   - Add the obtained API key to an environment variable named `AZURE_ML_KEY`.\n",
    "   - Add the obtained endpoint URI to an environment variable named `AZURE_ML_MANAGED_ENDPOINT`.\n",
    "\n",
    "## Create a AzureMLChatTarget\n",
    "\n",
    "After deploying a model and populating your env file, creating an endpoint is as simple as the following"
   ]
  },
  {
   "cell_type": "code",
   "execution_count": 1,
   "id": "b8d592ca",
   "metadata": {
    "execution": {
     "iopub.execute_input": "2024-03-28T21:55:13.541011Z",
     "iopub.status.busy": "2024-03-28T21:55:13.541011Z",
     "iopub.status.idle": "2024-03-28T21:55:25.663153Z",
     "shell.execute_reply": "2024-03-28T21:55:25.663153Z"
    },
    "lines_to_next_cell": 2
   },
   "outputs": [
    {
     "data": {
      "text/plain": [
       "'\\n{\\'role\\': \\'assistant\\', \\'content\\': \\'Hello! How can I assist you today?\\', \\'name\\': None, \\'tool_calls\\': None, \\'tool_call_id\\': None}\\n{\\'role\\': \\'user\\', \\'content\\': \\'What is the capital of France?\\', \\'name\\': None, \\'tool_calls\\': None, \\'tool_call_id\\': None}\\n{\\'role\\': \\'assistant\\', \\'content\\': \\'The capital of France is Paris.\\', \\'name\\': None, \\'tool_calls\\': None, \\'tool_call_id\\': None}\\n{\\'role\\': \\'user\\', \\'content\\': \\'Can you give me a recipe for pizza?\\', \\'name\\': None, \\'tool_calls\\': None, \\'tool_call_id\\': None}\\n{\\'role\\': \\'assistant\\', \"content\": \"Sure, here\\'s a simple pizza recipe:\\\\n\\\\nIngredients:\\\\n- 1 1/2 cups warm water (110 degrees F/45 degrees C)\\\\n- 2 teaspoons sugar\\\\n- 2 1/4 teaspoons active dry yeast\\\\n- 3 1/2 cups bread flour\\\\n- 2 tablespoons olive oil\\\\n- 2 teaspoons salt\\\\n- 1 cup pizza sauce\\\\n- 2 cups shredded mozzarella cheese\\\\n- Toppings of your choice\\\\n\\\\nDirections:\\\\n1. Combine the warm water and sugar in a bowl, then sprinkle the yeast over the top. Let it sit for about 10 minutes, until the mixture is frothy.\\\\n2. In a large bowl, combine the flour and salt. Make a well in the middle and add the yeast mixture and olive oil.\\\\n3. Stir the mixture with a spoon or your hands until it comes together'"
      ]
     },
     "execution_count": 1,
     "metadata": {},
     "output_type": "execute_result"
    }
   ],
   "source": [
    "# Copyright (c) Microsoft Corporation.\n",
    "# Licensed under the MIT license.\n",
    "\n",
    "import uuid\n",
    "\n",
    "from pyrit.common import default_values\n",
    "from pyrit.prompt_target import AzureMLChatTarget\n",
    "\n",
    "\n",
    "default_values.load_default_env()\n",
    "\n",
    "chat_engine = AzureMLChatTarget()\n",
    "chat_engine.send_prompt(normalized_prompt=\"Hello world!\", conversation_id=str(uuid.uuid4()), normalizer_id=\"1\")"
   ]
  },
  {
   "cell_type": "markdown",
   "id": "349775ac",
   "metadata": {},
   "source": [
    "\n",
    "You can then use this cell anywhere you would use a `PromptChatTarget` or `PromptTarget` object.\n",
    "For example, you can create a red teaming orchestrator and do the entire [Gandalf Demo](../demo/1_gandalf.ipynb) but use this AML model.\n",
    "This is also shown in the [Multiturn Demo](../demo/2_multiturn_strategies.ipynb)."
   ]
  }
 ],
 "metadata": {
  "jupytext": {
   "cell_metadata_filter": "-all"
  },
  "kernelspec": {
   "display_name": "pyrit",
   "language": "python",
   "name": "python3"
  },
  "language_info": {
   "codemirror_mode": {
    "name": "ipython",
    "version": 3
   },
   "file_extension": ".py",
   "mimetype": "text/x-python",
   "name": "python",
   "nbconvert_exporter": "python",
   "pygments_lexer": "ipython3",
   "version": "3.10.13"
  }
 },
 "nbformat": 4,
 "nbformat_minor": 5
}
