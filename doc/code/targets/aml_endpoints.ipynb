{
 "cells": [
  {
   "cell_type": "markdown",
   "id": "16842bde",
   "metadata": {
    "lines_to_next_cell": 0
   },
   "source": [
    "# Introduction\n",
    "\n",
    "This code shows how to use Azure Machine Learning (AML) managed online endpoints with PyRIT.\n",
    "\n",
    "## Prerequisites\n",
    "\n",
    "1. **Deploy an AML-Managed Online Endpoint:** Confirm that an Azure Machine Learning managed online endpoint is\n",
    "     already deployed.\n",
    "\n",
    "1. **Obtain the API Key:**\n",
    "   - Navigate to the AML Studio.\n",
    "   - Go to the 'Endpoints' section.\n",
    "   - Retrieve the API key and endpoint URI.\n",
    "   <br> <img src=\"./../../assets/aml_managed_online_endpoint_api_key.png\" alt=\"aml_managed_online_endpoint_api_key.png\" height=\"400\"/> <br>\n",
    "\n",
    "1. **Set the Environment Variable:**\n",
    "   - Add the obtained API key to an environment variable named `AZURE_ML_KEY`.\n",
    "   - Add the obtained endpoint URI to an environment variable named `AZURE_ML_MANAGED_ENDPOINT`.\n",
    "\n",
    "## Create a AzureMLChatTarget\n",
    "\n",
    "After deploying a model and populating your env file, creating an endpoint is as simple as the following"
   ]
  },
  {
   "cell_type": "code",
   "execution_count": 1,
   "id": "5fe12af6",
   "metadata": {
    "execution": {
     "iopub.execute_input": "2024-03-19T23:53:54.196114Z",
     "iopub.status.busy": "2024-03-19T23:53:54.196114Z",
     "iopub.status.idle": "2024-03-19T23:54:12.239197Z",
     "shell.execute_reply": "2024-03-19T23:54:12.239197Z"
    },
    "lines_to_next_cell": 2
   },
   "outputs": [
    {
     "data": {
      "text/plain": [
       "\"Hello! I'm here to help you with any questions you have about data structures and algorithms. Data structures and algorithms are fundamental concepts in computer science that are used to organize and process data efficiently. They are essential for solving complex problems and are used in various fields such as software development, systems design, and machine learning.\\n\\nData structures refer to ways of organizing and storing data in a computer so that they can be accessed and modified efficiently. Examples of data structures include arrays, linked lists, stacks, queues, trees, and graphs.\\n\\nAlgorithms, on the other hand, refer to a set of instructions that are followed to solve a particular problem. They can be implemented using various data structures, and their efficiency depends on the choice of data structures.\\n\\nUnderstanding data structures and algorithms can help you write more efficient and elegant code, and it can also help you prepare for technical interviews in the software industry.\\n\\nFeel free to ask me any questions you have, and I will do my best to help you!\""
      ]
     },
     "execution_count": 1,
     "metadata": {},
     "output_type": "execute_result"
    }
   ],
   "source": [
    "# Copyright (c) Microsoft Corporation.\n",
    "# Licensed under the MIT license.\n",
    "\n",
    "from pyrit.common import default_values\n",
    "\n",
    "from pyrit.models import ChatMessage\n",
    "from pyrit.prompt_target.azure_ml_chat_target import AzureMLChatTarget\n",
    "\n",
    "\n",
    "default_values.load_default_env()\n",
    "\n",
    "red_team_chat_engine = AzureMLChatTarget()\n",
    "red_team_chat_engine.complete_chat(messages=[ChatMessage(role=\"user\", content=\"Hello world!\")])"
   ]
  },
  {
   "cell_type": "markdown",
   "id": "b1ebea60",
   "metadata": {},
   "source": [
    "\n",
    "You can then use this cell anywhere you would use a `ChatSupport` object.\n",
    "For example, you can create a red teaming orchestrator and do the entire [Gandalf Demo](../demo/1_gandalf.ipynb) but use this AML model.\n",
    "This is also shown in the [Multiturn Demo](../demo/2_multiturn_strategies.ipynb)."
   ]
  }
 ],
 "metadata": {
  "jupytext": {
   "cell_metadata_filter": "-all"
  },
  "kernelspec": {
   "display_name": "pyrit_kernel",
   "language": "python",
   "name": "pyrit_kernel"
  },
  "language_info": {
   "codemirror_mode": {
    "name": "ipython",
    "version": 3
   },
   "file_extension": ".py",
   "mimetype": "text/x-python",
   "name": "python",
   "nbconvert_exporter": "python",
   "pygments_lexer": "ipython3",
   "version": "3.10.13"
  }
 },
 "nbformat": 4,
 "nbformat_minor": 5
}
