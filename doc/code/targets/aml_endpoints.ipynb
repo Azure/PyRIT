{
 "cells": [
  {
   "cell_type": "markdown",
   "id": "58061d6c",
   "metadata": {
    "lines_to_next_cell": 0
   },
   "source": [
    "# Introduction\n",
    "\n",
    "This code shows how to use Azure Machine Learning (AML) managed online endpoints with PyRIT.\n",
    "\n",
    "## Prerequisites\n",
    "\n",
    "1. **Deploy an AML-Managed Online Endpoint:** Confirm that an Azure Machine Learning managed online endpoint is\n",
    "     already deployed.\n",
    "\n",
    "1. **Obtain the API Key:**\n",
    "   - Navigate to the AML Studio.\n",
    "   - Go to the 'Endpoints' section.\n",
    "   - Retrieve the API key and endpoint URI.\n",
    "   <br> <img src=\"./../../assets/aml_managed_online_endpoint_api_key.png\" alt=\"aml_managed_online_endpoint_api_key.png\" height=\"400\"/> <br>\n",
    "\n",
    "1. **Set the Environment Variable:**\n",
    "   - Add the obtained API key to an environment variable named `AZURE_ML_KEY`.\n",
    "   - Add the obtained endpoint URI to an environment variable named `AZURE_ML_MANAGED_ENDPOINT`.\n",
    "\n",
    "## Create a AzureMLChatTarget\n",
    "\n",
    "After deploying a model and populating your env file, creating an endpoint is as simple as the following"
   ]
  },
  {
   "cell_type": "code",
   "execution_count": null,
   "id": "e76b08f4",
   "metadata": {
    "lines_to_next_cell": 2
   },
   "outputs": [],
   "source": [
    "# Copyright (c) Microsoft Corporation.\n",
    "# Licensed under the MIT license.\n",
    "\n",
    "from pyrit.common import default_values\n",
    "\n",
    "from pyrit.models import ChatMessage\n",
    "from pyrit.prompt_target import AzureMLChatTarget\n",
    "\n",
    "\n",
    "default_values.load_default_env()\n",
    "\n",
    "red_team_chat_engine = AzureMLChatTarget()\n",
    "red_team_chat_engine.complete_chat(messages=[ChatMessage(role=\"user\", content=\"Hello world!\")])"
   ]
  },
  {
   "cell_type": "markdown",
   "id": "1aac7a49",
   "metadata": {},
   "source": [
    "\n",
    "You can then use this cell anywhere you would use a `PromptChatTarget` object.\n",
    "For example, you can create a red teaming orchestrator and do the entire [Gandalf Demo](../demo/1_gandalf.ipynb) but use this AML model.\n",
    "This is also shown in the [Multiturn Demo](../demo/2_multiturn_strategies.ipynb)."
   ]
  }
 ],
 "metadata": {
  "jupytext": {
   "cell_metadata_filter": "-all",
   "main_language": "python",
   "notebook_metadata_filter": "-all"
  }
 },
 "nbformat": 4,
 "nbformat_minor": 5
}
