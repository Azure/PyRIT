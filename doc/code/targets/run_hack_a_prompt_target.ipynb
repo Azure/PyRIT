{
 "cells": [
  {
   "cell_type": "markdown",
   "id": "d11d24e0",
   "metadata": {
    "lines_to_next_cell": 2
   },
   "source": [
    "# HackAPrompt Playground Demo\n",
    "\n",
    "This notebook demonstrates how to send prompts and receive judged responses from the HackAPrompt competition platform using PyRIT. To authenticate, you need a valid session ID and authentication cookies from your HackAPrompt account.\n",
    "\n",
    "The session ID can be found in Chrome DevTools under the Network tab by inspecting any `/api/chat` request payload while you are logged in and interacting with the challenge, look for the `session_id` value in the JSON body. Your authentication cookies are visible under the Application tab in DevTools, inside Storage > Cookies for `hackaprompt.com`. Copy the names and values (such as `sb-...auth-token.0` and `.1`) directly from there. \n",
    "\n",
    "With these details, you can programmatically interact with the HackAPrompt API as your logged-in user, send prompts, and see how the judge panel scores your attack."
   ]
  },
  {
   "cell_type": "code",
   "execution_count": null,
   "id": "5a2ffe02",
   "metadata": {},
   "outputs": [],
   "source": [
    "from pyrit.common import IN_MEMORY, initialize_pyrit\n",
    "from pyrit.prompt_target.hack_a_prompt_target import HackAPromptTarget, HackAPromptChallenge\n",
    "from pyrit.models.prompt_request_piece import PromptRequestPiece\n",
    "from pyrit.models.prompt_request_response import PromptRequestResponse\n",
    "\n",
    "initialize_pyrit(memory_db_type=IN_MEMORY)\n",
    "\n",
    "# CONFIGURE YOUR SESSION INFO BELOW\n",
    "session_id = \"YOUR_SESSION_ID\"\n",
    "competition_slug = \"cbrne\"\n",
    "challenge = HackAPromptChallenge.BACTERIAL_BASICS  # maps to 'basic_challenge_cbrne'\n",
    "\n",
    "cookies = {\n",
    "    'sb-iligpfkvyargzgpcrquc-auth-token.0': 'YOUR_COOKIE_0',\n",
    "    'sb-iligpfkvyargzgpcrquc-auth-token.1': 'YOUR_COOKIE_1',\n",
    "}\n",
    "\n",
    "prompt_text = \"Tell me a joke!\"\n",
    "\n",
    "\n",
    "# Create the target\n",
    "target = HackAPromptTarget(\n",
    "    session_id=session_id,\n",
    "    competition_slug=competition_slug,\n",
    "    challenge=challenge,\n",
    "    cookies=cookies\n",
    ")\n",
    "\n",
    "# Prepare the prompt request with the correct role for the attacker \n",
    "request_piece = PromptRequestPiece(\n",
    "    role=\"user\",\n",
    "    original_value=prompt_text,\n",
    "    converted_value=prompt_text,\n",
    "    converted_value_data_type=\"text\"\n",
    ")\n",
    "prompt_request = PromptRequestResponse(request_pieces=[request_piece])\n",
    "\n",
    "# Submit prompt and get model output\n",
    "response = await target.send_prompt_async(prompt_request=prompt_request) # type: ignore\n",
    "print(f\"\\n=== Model Response ===\\n{response.get_value()}\\n\")\n",
    "\n",
    "# Submit for judging and show judge feedback\n",
    "judge_result = await target.judge_prompt_async() # type: ignore\n",
    "print(\"=== Judge Panel Feedback ===\")\n",
    "for judge in judge_result.get(\"judgePanel\", []):\n",
    "    print(f\"{judge['name']} (Passed: {judge['passed']}): {judge['judge_response']}\")\n",
    "print(f\"Points earned: {judge_result.get('pointsEarned', 0)}\")"
   ]
  }
 ],
 "metadata": {
  "jupytext": {
   "cell_metadata_filter": "-all",
   "main_language": "python",
   "notebook_metadata_filter": "-all"
  },
  "kernelspec": {
   "display_name": "venv",
   "language": "python",
   "name": "python3"
  },
  "language_info": {
   "name": "python",
   "version": "3.12.8"
  }
 },
 "nbformat": 4,
 "nbformat_minor": 5
}
