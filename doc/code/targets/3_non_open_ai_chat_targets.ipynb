{
 "cells": [
  {
   "cell_type": "markdown",
   "id": "aabfe444",
   "metadata": {},
   "source": [
    "# 3. AML Chat Targets\n",
    "\n",
    "This code shows how to use Azure Machine Learning (AML) managed online endpoints with PyRIT.\n",
    "\n",
    "## Prerequisites\n",
    "\n",
    "1. **Deploy an AML-Managed Online Endpoint:** Confirm that an Azure Machine Learning managed online endpoint is\n",
    "     already deployed.\n",
    "\n",
    "1. **Obtain the API Key:**\n",
    "   - Navigate to the AML Studio.\n",
    "   - Go to the 'Endpoints' section.\n",
    "   - Retrieve the API key and endpoint URI from the 'Consume' tab\n",
    "   <br> <img src=\"../../../assets/aml_managed_online_endpoint_api_key.png\" alt=\"aml_managed_online_endpoint_api_key.png\" height=\"400\"/> <br>\n",
    "\n",
    "1. **Set the Environment Variable:**\n",
    "   - Add the obtained API key to an environment variable named `AZURE_ML_KEY`. This is the default API key when the target is instantiated.\n",
    "   - Add the obtained endpoint URI to an environment variable named `AZURE_ML_MANAGED_ENDPOINT`. This is the default endpoint URI when the target is instantiated.\n",
    "   - If you'd like, feel free to make additional API key and endpoint URI environment variables in your .env file for different deployed models (e.g. mistralai-Mixtral-8x7B-Instruct-v01,\n",
    "     Phi-3.5-MoE-instruct, Llama-3.2-3B-Instruct, etc.)\n",
    "     and pass them in as arguments to the `_set_env_configuration_vars` function to interact with those models.\n",
    "\n",
    "\n",
    "## Create a AzureMLChatTarget\n",
    "\n",
    "After deploying a model and populating your env file, send prompts to the model using the `AzureMLChatTarget` class. Model parameters can be passed upon instantiation\n",
    "or set using the _set_model_parameters() function. `**param_kwargs` allows for the setting of other parameters not explicitly shown in the constructor. A general list of\n",
    "possible adjustable parameters can be found here: https://huggingface.co/docs/api-inference/tasks/text-generation but note that not all parameters may have an effect\n",
    "depending on the specific model. The parameters that can be set per model can usually be found in the 'Consume' tab when you navigate to your endpoint in AML Studio."
   ]
  },
  {
   "cell_type": "code",
   "execution_count": 1,
   "id": "46548eb3",
   "metadata": {
    "execution": {
     "iopub.execute_input": "2024-11-21T00:02:34.334969Z",
     "iopub.status.busy": "2024-11-21T00:02:34.333969Z",
     "iopub.status.idle": "2024-11-21T00:03:01.071620Z",
     "shell.execute_reply": "2024-11-21T00:03:01.070064Z"
    }
   },
   "outputs": [
    {
     "name": "stderr",
     "output_type": "stream",
     "text": [
      "None of PyTorch, TensorFlow >= 2.0, or Flax have been found. Models won't be available and only tokenizers, configuration and file/data utilities can be used.\n"
     ]
    },
    {
     "name": "stdout",
     "output_type": "stream",
     "text": [
      "\u001b[22m\u001b[39mConversation ID: 7bd679a4-4c58-49d3-8fba-38fd3aecae84\n",
      "\u001b[1m\u001b[34muser: Hello! Describe yourself and the company who developed you.\n"
     ]
    },
    {
     "name": "stdout",
     "output_type": "stream",
     "text": [
      "\u001b[22m\u001b[33massistant: I am an artificial intelligence designed to assist with a variety of tasks and answer questions to the best of my ability. I was developed by Mistral AI, a cutting-edge AI company based in Paris, France. Mistral AI is dedicated to creating advanced, general-purpose AI systems that can understand, learn, and interact with the world in a highly capable and human-like manner. I am just one of the many AI systems developed by Mistral AI, and I am constantly learning and improving thanks to the company's research and development efforts.\n"
     ]
    }
   ],
   "source": [
    "from pyrit.common import default_values\n",
    "from pyrit.orchestrator import PromptSendingOrchestrator\n",
    "from pyrit.prompt_target import AzureMLChatTarget\n",
    "\n",
    "default_values.load_environment_files()\n",
    "\n",
    "# Defaults to endpoint and api_key pulled from the AZURE_ML_MANAGED_ENDPOINT and AZURE_ML_KEY environment variables\n",
    "azure_ml_chat_target = AzureMLChatTarget()\n",
    "# The environment variable args can be adjusted below as needed for your specific model.\n",
    "azure_ml_chat_target._set_env_configuration_vars(\n",
    "    endpoint_uri_environment_variable=\"AZURE_ML_MANAGED_ENDPOINT\", api_key_environment_variable=\"AZURE_ML_KEY\"\n",
    ")\n",
    "# Parameters such as temperature and repetition_penalty can be set using the _set_model_parameters() function.\n",
    "azure_ml_chat_target._set_model_parameters(temperature=0.9, repetition_penalty=1.3)\n",
    "\n",
    "with PromptSendingOrchestrator(prompt_target=azure_ml_chat_target) as orchestrator:\n",
    "    response = await orchestrator.send_prompts_async(prompt_list=[\"Hello! Describe yourself and the company who developed you.\"])  # type: ignore\n",
    "await orchestrator.print_conversations()  # type: ignore"
   ]
  },
  {
   "cell_type": "markdown",
   "id": "2eb4abb6",
   "metadata": {},
   "source": [
    "\n",
    "You can then use this cell anywhere you would use a `PromptTarget` object.\n",
    "For example, you can create a red teaming orchestrator and use this instead of the `AzureOpenAI` target and do the [Gandalf or Crucible Demos](./2_custom_targets.ipynb) but use this AML model.\n",
    "\n",
    "This is also shown in the [Red Teaming Orchestrator](../orchestrators/2_red_teaming_orchestrator.ipynb) documentation."
   ]
  }
 ],
 "metadata": {
  "jupytext": {
   "cell_metadata_filter": "-all"
  },
  "kernelspec": {
   "display_name": "pyrit_release_test_050",
   "language": "python",
   "name": "pyrit_release_test_050"
  },
  "language_info": {
   "codemirror_mode": {
    "name": "ipython",
    "version": 3
   },
   "file_extension": ".py",
   "mimetype": "text/x-python",
   "name": "python",
   "nbconvert_exporter": "python",
   "pygments_lexer": "ipython3",
   "version": "3.11.10"
  }
 },
 "nbformat": 4,
 "nbformat_minor": 5
}
