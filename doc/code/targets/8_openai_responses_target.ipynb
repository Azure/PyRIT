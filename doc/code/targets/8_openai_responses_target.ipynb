{
 "cells": [
  {
   "cell_type": "markdown",
   "id": "0",
   "metadata": {},
   "source": [
    "# 8. OpenAI Responses Target\n",
    "\n",
    "In this demo, we show an example of the `OpenAIResponseTarget`. [Responses](https://platform.openai.com/docs/api-reference/responses) is a newer protocol than chat completions and provides additional functionality with a somewhat modified API. The allowed input types include text, image, web search, file search, functions, reasoning, and computer use.\n",
    "\n",
    "Before you begin, ensure you are set up with the correct version of PyRIT installed and have secrets configured as described [here](../../setup/populating_secrets.md).\n",
    "## OpenAI Configuration\n",
    "\n",
    "Like most targets, all `OpenAITarget`s need an `endpoint` and often also needs a `model` and a `key`. These can be passed into the constructor or configured with environment variables (or in .env).\n",
    "\n",
    "- endpoint: The API endpoint (`OPENAI_RESPONSES_ENDPOINT` environment variable). For OpenAI, these are just \"https://api.openai.com/v1/responses\".\n",
    "- auth: The API key for authentication (`OPENAI_RESPONSES_KEY` environment variable).\n",
    "- model_name: The model to use (`OPENAI_RESPONSES_MODEL` environment variable). For OpenAI, these are any available model name and are listed here: \"https://platform.openai.com/docs/models\"."
   ]
  },
  {
   "cell_type": "code",
   "execution_count": null,
   "id": "1",
   "metadata": {},
   "outputs": [],
   "source": [
    "from pyrit.common import IN_MEMORY, initialize_pyrit\n",
    "from pyrit.orchestrator import PromptSendingOrchestrator\n",
    "from pyrit.prompt_target import OpenAIResponseTarget\n",
    "\n",
    "initialize_pyrit(memory_db_type=IN_MEMORY)\n",
    "\n",
    "target = OpenAIResponseTarget()\n",
    "\n",
    "orchestrator = PromptSendingOrchestrator(objective_target=target)\n",
    "\n",
    "response = await orchestrator.run_attack_async(objective=\"Tell me a joke\")  # type: ignore\n",
    "await response.print_conversation_async()  # type: ignore"
   ]
  },
  {
   "cell_type": "code",
   "execution_count": 3,
   "id": "2",
   "metadata": {},
   "outputs": [
    {
     "name": "stdout",
     "output_type": "stream",
     "text": [
      "0 | assistant: The current weather in Boston is Sunny with a temperature of 22°C.\n"
     ]
    }
   ],
   "source": [
    "from pyrit.common import IN_MEMORY, initialize_pyrit\n",
    "from pyrit.models import PromptRequestPiece, PromptRequestResponse\n",
    "from pyrit.prompt_target.openai.openai_response_target import OpenAIResponseTarget\n",
    "\n",
    "\n",
    "initialize_pyrit(memory_db_type=IN_MEMORY)\n",
    "\n",
    "# Tool implementation \n",
    "async def get_current_weather(args):\n",
    "    return {\n",
    "        \"weather\": \"Sunny\",\n",
    "        \"temp_c\": 22,\n",
    "        \"location\": args[\"location\"],\n",
    "        \"unit\": args[\"unit\"],\n",
    "    }\n",
    "\n",
    "# Responses API function tool schema (flat, no nested \"function\" key)\n",
    "function_tool = {\n",
    "    \"type\": \"function\",\n",
    "    \"name\": \"get_current_weather\",\n",
    "    \"description\": \"Get the current weather in a given location\",\n",
    "    \"parameters\": {\n",
    "        \"type\": \"object\",\n",
    "        \"properties\": {\n",
    "            \"location\": {\"type\": \"string\", \"description\": \"City and state\"},\n",
    "            \"unit\": {\"type\": \"string\", \"enum\": [\"celsius\", \"fahrenheit\"]},\n",
    "        },\n",
    "        \"required\": [\"location\", \"unit\"],\n",
    "        \"additionalProperties\": False,\n",
    "    },\n",
    "    \"strict\": True,\n",
    "}\n",
    "\n",
    "# Let the model auto-select tools\n",
    "target = OpenAIResponseTarget(\n",
    "    model_name=\"o4-mini\",\n",
    "    custom_functions={\"get_current_weather\": get_current_weather},\n",
    "    extra_body_parameters={\n",
    "        \"tools\": [function_tool],\n",
    "        \"tool_choice\": \"auto\",\n",
    "    },\n",
    "    httpx_client_kwargs={\"timeout\": 60.0},\n",
    "    api_version=None,  # using api.openai.com\n",
    ")\n",
    "\n",
    "# Build the user prompt\n",
    "prompt_piece = PromptRequestPiece(\n",
    "    role=\"user\",\n",
    "    original_value=\"What is the weather in Boston in celsius? Use the get_current_weather function.\",\n",
    "    original_value_data_type=\"text\",\n",
    ")\n",
    "prompt_request = PromptRequestResponse(request_pieces=[prompt_piece])\n",
    "\n",
    "response = await target.send_prompt_async(prompt_request=prompt_request)\n",
    "\n",
    "for idx, piece in enumerate(response.request_pieces):\n",
    "    print(f\"{idx} | {piece.role}: {piece.original_value}\")\n"
   ]
  },
  {
   "cell_type": "code",
   "execution_count": 2,
   "id": "6425730a",
   "metadata": {},
   "outputs": [
    {
     "name": "stdout",
     "output_type": "stream",
     "text": [
      "0 | assistant: {\"id\":\"ws_68b020c6747881968be6d1a1d8990b7e0b24c79b3967a8db\",\"type\":\"web_search_call\",\"status\":\"completed\",\"action\":{\"type\":\"search\",\"query\":\"positive news story today\"}}\n",
      "1 | assistant: As of August 28, 2025, here are some uplifting news stories:\n",
      "\n",
      "**Saturn's Rings Offer a Spectacular View**\n",
      "\n",
      "For the first time in 15 years, Saturn's rings are perfectly tilted, providing a stunning view of their southern face. This celestial event is visible through basic telescopes, making it an ideal opportunity for both seasoned astronomers and first-time stargazers. Additionally, Venus and Jupiter are appearing side-by-side in the morning sky, and the Perseid meteor shower is set to peak tomorrow, offering a remarkable display of cosmic events. ([podego.com](https://www.podego.com/insights/august-2025-good-news-ai-pfas-stories?utm_source=openai))\n",
      "\n",
      "**Greece's Economic Resurgence**\n",
      "\n",
      "A decade after facing a severe financial crisis, Greece has made a remarkable economic recovery. The Greek stock market is the best performer worldwide in 2025, surpassing other European markets and the S&P 500. The country is on track to repay massive bailout loans ten years ahead of schedule, and its economy grew twice as fast as Germany's last year. These achievements are attributed to reforms such as digitizing government services to reduce tax evasion and bribery, restoring trust in institutions, and improving investment prospects. ([csmonitor.com](https://www.csmonitor.com/Daily/2025/20250821?utm_source=openai))\n",
      "\n",
      "**Advancements in Prosthetic Technology**\n",
      "\n",
      "A new bionic knee prosthesis has been developed, offering lower-leg amputees enhanced agility, comfort, and a greater sense of \"embodiment\"—the feeling that the prosthetic is a natural part of the body. This three-layered device restores the push-pull function of muscles, reestablishes natural load-bearing through a titanium rod implanted into the femur, and features a robotic limb that can be updated as technology advances. In tests, users demonstrated improved mobility and reported a stronger connection to the prosthetic, marking a significant advancement in prosthetic technology. ([dailykos.com](https://www.dailykos.com/stories/2025/8/26/2339419/-GNR-for-Tuesday-August-26-2025-Yup-there-s-good-news-galore?utm_source=openai))\n",
      "\n",
      "**Global Progress in Reducing Child Labor**\n",
      "\n",
      "The International Labour Organization reports a significant decline in child labor worldwide, with 22 million fewer children working today compared to 2020. The number of children engaged in hazardous industries has decreased by 25 million over the same period. This progress is particularly notable given the previous rise in child labor from 2016 to 2020. While challenges remain, this trend indicates a positive shift towards ending child labor globally. ([positive.news](https://www.positive.news/society/good-news-stories-from-week-27-of-2025/?utm_source=openai))\n",
      "\n",
      "**Illinois Implements Free Mental Health Screenings for Students**\n",
      "\n",
      "Illinois has become the first U.S. state to mandate free, optional mental health screenings for students in grades 3 through 12. The annual assessments aim to provide early identification and intervention for mental health issues, ensuring students receive necessary support promptly. This initiative underscores the state's commitment to prioritizing student mental health and well-being. ([goodgoodgood.co](https://www.goodgoodgood.co/articles/good-news-this-week-august-9-2025?utm_source=openai))\n",
      "\n",
      "These stories highlight significant advancements and positive developments across various sectors, offering hope and inspiration. \n"
     ]
    }
   ],
   "source": [
    "from pyrit.common import IN_MEMORY, initialize_pyrit\n",
    "from pyrit.common.tool_configs import web_search_tool \n",
    "from pyrit.models import PromptRequestPiece, PromptRequestResponse\n",
    "from pyrit.prompt_target.openai.openai_response_target import OpenAIResponseTarget\n",
    "\n",
    "initialize_pyrit(memory_db_type=IN_MEMORY)\n",
    "\n",
    "target = OpenAIResponseTarget(\n",
    "    extra_body_parameters={\n",
    "        \"tools\": [web_search_tool()],\n",
    "        \"tool_choice\": \"auto\",\n",
    "    },\n",
    "    httpx_client_kwargs={\"timeout\": 60} \n",
    ")\n",
    "\n",
    "prompt_piece = PromptRequestPiece(\n",
    "    role=\"user\",\n",
    "    original_value=\"What is a positive news story from today?\",\n",
    "    original_value_data_type=\"text\"\n",
    ")\n",
    "prompt_request = PromptRequestResponse(\n",
    "    request_pieces=[prompt_piece]\n",
    ")\n",
    "\n",
    "response = await target.send_prompt_async(prompt_request=prompt_request)\n",
    "\n",
    "for idx, piece in enumerate(response.request_pieces):\n",
    "    print(f\"{idx} | {piece.role}: {piece.original_value}\")\n"
   ]
  }
 ],
 "metadata": {
  "kernelspec": {
   "display_name": "venv",
   "language": "python",
   "name": "python3"
  },
  "language_info": {
   "codemirror_mode": {
    "name": "ipython",
    "version": 3
   },
   "file_extension": ".py",
   "mimetype": "text/x-python",
   "name": "python",
   "nbconvert_exporter": "python",
   "pygments_lexer": "ipython3",
   "version": "3.12.8"
  }
 },
 "nbformat": 4,
 "nbformat_minor": 5
}
