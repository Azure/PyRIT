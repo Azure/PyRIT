{
 "cells": [
  {
   "cell_type": "markdown",
   "id": "d5ee6ce4",
   "metadata": {},
   "source": [
    "# 8. OpenAI Responses Target\n",
    "\n",
    "In this demo, we show an example of the `OpenAIResponseTarget`. [Responses](https://platform.openai.com/docs/api-reference/responses) is a newer protocol than chat completions and provides additional functionality with a somewhat modified API. The allowed input types include text, image, web search, file search, functions, reasoning, and computer use.\n",
    "\n",
    "Before you begin, ensure you are set up with the correct version of PyRIT installed and have secrets configured as described [here](../../setup/populating_secrets.md).\n",
    "\n",
    "## OpenAI Configuration\n",
    "\n",
    "Like most targets, all `OpenAITarget`s need an `endpoint` and often also needs a `model` and a `key`. These can be passed into the constructor or configured with environment variables (or in .env).\n",
    "\n",
    "- endpoint: The API endpoint (`OPENAI_RESPONSES_ENDPOINT` environment variable). For OpenAI, these are just \"https://api.openai.com/v1/responses\".\n",
    "- auth: The API key for authentication (`OPENAI_RESPONSES_KEY` environment variable).\n",
    "- model_name: The model to use (`OPENAI_RESPONSES_MODEL` environment variable). For OpenAI, these are any available model name and are listed here: \"https://platform.openai.com/docs/models\"."
   ]
  },
  {
   "cell_type": "code",
   "execution_count": null,
   "id": "bd818847",
   "metadata": {},
   "outputs": [],
   "source": [
    "from pyrit.common import IN_MEMORY, initialize_pyrit\n",
    "from pyrit.orchestrator import PromptSendingOrchestrator\n",
    "from pyrit.prompt_target import OpenAIResponseTarget\n",
    "\n",
    "initialize_pyrit(memory_db_type=IN_MEMORY)\n",
    "\n",
    "target = OpenAIResponseTarget()\n",
    "\n",
    "orchestrator = PromptSendingOrchestrator(objective_target=target)\n",
    "\n",
    "response = await orchestrator.run_attack_async(objective=\"Tell me a joke\")  # type: ignore\n",
    "await response.print_conversation_async()  # type: ignore"
   ]
  },
  {
   "cell_type": "markdown",
   "id": "8099bd95",
   "metadata": {},
   "source": [
    "## Tool Use with Custom Functions\n",
    "\n",
    "In this example, we demonstrate how the OpenAI `Responses API` can be used to invoke a **custom-defined Python function** during a conversation. This is part of OpenAI’s support for \"function calling\", where the model decides to call a registered function, and the application executes it and passes the result back into the conversation loop.\n",
    "\n",
    "We define a simple tool called `get_current_weather`, which simulates weather information retrieval. A corresponding OpenAI tool schema describes the function name, parameters, and expected input format.\n",
    "\n",
    "The function is registered in the `custom_functions` argument of `OpenAIResponseTarget`. The `extra_body_parameters` include:\n",
    "\n",
    "- `tools`: the full OpenAI tool schema for `get_current_weather`.\n",
    "- `tool_choice: \"auto\"`: instructs the model to decide when to call the function.\n",
    "\n",
    "The user prompt explicitly asks the model to use the `get_current_weather` function. Once the model responds with a `function_call`, PyRIT executes the function, wraps the output, and the conversation continues until a final answer is produced.\n",
    "\n",
    "This showcases how agentic function execution works with PyRIT + OpenAI Responses API."
   ]
  },
  {
   "cell_type": "code",
   "execution_count": 1,
   "id": "2c8f2025",
   "metadata": {},
   "outputs": [
    {
     "name": "stdout",
     "output_type": "stream",
     "text": [
      "0 | assistant: The current weather in Boston is Sunny with a temperature of 22°C.\n"
     ]
    }
   ],
   "source": [
    "from pyrit.common import IN_MEMORY, initialize_pyrit\n",
    "from pyrit.models import PromptRequestPiece, PromptRequestResponse\n",
    "from pyrit.prompt_target.openai.openai_response_target import OpenAIResponseTarget\n",
    "\n",
    "initialize_pyrit(memory_db_type=IN_MEMORY)\n",
    "\n",
    "async def get_current_weather(args):\n",
    "    return {\n",
    "        \"weather\": \"Sunny\",\n",
    "        \"temp_c\": 22,\n",
    "        \"location\": args[\"location\"],\n",
    "        \"unit\": args[\"unit\"],\n",
    "    }\n",
    "\n",
    "# Responses API function tool schema (flat, no nested \"function\" key)\n",
    "function_tool = {\n",
    "    \"type\": \"function\",\n",
    "    \"name\": \"get_current_weather\",\n",
    "    \"description\": \"Get the current weather in a given location\",\n",
    "    \"parameters\": {\n",
    "        \"type\": \"object\",\n",
    "        \"properties\": {\n",
    "            \"location\": {\"type\": \"string\", \"description\": \"City and state\"},\n",
    "            \"unit\": {\"type\": \"string\", \"enum\": [\"celsius\", \"fahrenheit\"]},\n",
    "        },\n",
    "        \"required\": [\"location\", \"unit\"],\n",
    "        \"additionalProperties\": False,\n",
    "    },\n",
    "    \"strict\": True,\n",
    "}\n",
    "\n",
    "# Let the model auto-select tools\n",
    "target = OpenAIResponseTarget(\n",
    "    model_name=\"o4-mini\",\n",
    "    custom_functions={\"get_current_weather\": get_current_weather},\n",
    "    extra_body_parameters={\n",
    "        \"tools\": [function_tool],\n",
    "        \"tool_choice\": \"auto\",\n",
    "    },\n",
    "    httpx_client_kwargs={\"timeout\": 60.0},\n",
    "    api_version=None,  # using api.openai.com\n",
    ")\n",
    "\n",
    "# Build the user prompt\n",
    "prompt_piece = PromptRequestPiece(\n",
    "    role=\"user\",\n",
    "    original_value=\"What is the weather in Boston in celsius? Use the get_current_weather function.\",\n",
    "    original_value_data_type=\"text\",\n",
    ")\n",
    "prompt_request = PromptRequestResponse(request_pieces=[prompt_piece])\n",
    "\n",
    "response = await target.send_prompt_async(prompt_request=prompt_request)\n",
    "\n",
    "for idx, piece in enumerate(response.request_pieces):\n",
    "    print(f\"{idx} | {piece.role}: {piece.original_value}\")"
   ]
  },
  {
   "cell_type": "markdown",
   "id": "ba03a621",
   "metadata": {},
   "source": [
    "## Using the Built-in Web Search Tool\n",
    "\n",
    "In this example, we use a built-in PyRIT helper function `web_search_tool()` to register a web search tool with OpenAI's Responses API. This allows the model to issue web search queries during a conversation to supplement its responses with fresh information.\n",
    "\n",
    "The tool is added to the `extra_body_parameters` passed into the `OpenAIResponseTarget`. As before, `tool_choice=\"auto\"` enables the model to decide when to invoke the tool.\n",
    "\n",
    "The user prompt asks for a recent positive news story — an open-ended question that may prompt the model to issue a web search tool call. PyRIT will automatically execute the tool and return the output to the model as part of the response.\n",
    "\n",
    "This example demonstrates how retrieval-augmented generation (RAG) can be enabled in PyRIT through OpenAI's Responses API and integrated tool schema."
   ]
  },
  {
   "cell_type": "code",
   "execution_count": 2,
   "id": "4b72ee63",
   "metadata": {},
   "outputs": [
    {
     "name": "stdout",
     "output_type": "stream",
     "text": [
      "0 | assistant: {\"id\":\"ws_68b170eefb74819089fd4465c73c1ce203103c4ef6a4862a\",\"type\":\"web_search_call\",\"status\":\"completed\",\"action\":{\"type\":\"search\",\"query\":\"positive news stories today\"}}\n",
      "1 | assistant: As of August 29, 2025, here are some uplifting news stories:\n",
      "\n",
      "**Dutch Cities Install Tiny Staircases to Save Cats**\n",
      "\n",
      "In Amsterdam and Amersfoort, authorities are installing small staircases along canals to help cats who fall in climb out safely. Funded by a €100,000 environment and biodiversity grant, over 500 cat-friendly escape routes are expected by year's end. Judith Krom of Party for the Animals stated, \"A simple measure can prevent enormous animal suffering.\" ([podego.com](https://www.podego.com/insights/august-2025-good-news-ai-pfas-stories?utm_source=openai))\n",
      "\n",
      "**Gut Bacteria May Help Eliminate PFAS Chemicals**\n",
      "\n",
      "Researchers at the University of Cambridge discovered that certain gut bacteria can absorb and help eliminate PFAS, harmful \"forever chemicals.\" In lab studies, mice with humanized gut bacteria successfully excreted PFAS through their feces. Dr. Kiran Patil noted, \"Certain species of human gut bacteria have a remarkably high capacity to soak up PFAS... and store these in clumps inside their cells.\" ([podego.com](https://www.podego.com/insights/august-2025-good-news-ai-pfas-stories?utm_source=openai))\n",
      "\n",
      "**Potential Rediscovery of Sumatran Rhinos in Southern Sumatra**\n",
      "\n",
      "Sniffer dogs in Way Kambas National Park may have located signs of Sumatran rhinos, previously thought extinct in the area. After just two days of searching, the dogs found what is believed to be rhino dung. Pete Coppolillo of Working Dogs for Conservation expressed cautious optimism, stating, \"With fewer than 50 [Sumatran rhinos] in the entire global population, even a single individual is a big deal.\" ([conservationoptimism.org](https://conservationoptimism.org/7-stories-of-optimism-this-week-19-08-25-25-08-25/?utm_source=openai))\n",
      "\n",
      "**Greece's Economic Turnaround**\n",
      "\n",
      "A decade after facing a severe financial crisis, Greece has made a remarkable recovery. The Greek stock market is 2025's best performer worldwide, and the country is set to repay massive bailout loans 10 years ahead of schedule. In 2023, Greece regained investment-grade status, reflecting its economic and governance improvements. ([csmonitor.com](https://www.csmonitor.com/Daily/2025/20250821?utm_source=openai))\n",
      "\n",
      "**Lavender Farming Boosts Kashmiri Farmers' Incomes**\n",
      "\n",
      "Farmers in Kashmir's Pulwama region have shifted from traditional apple farming to cultivating lavender, dubbed \"purple gold.\" This crop is cheaper to grow, pest-resistant, and offers tenfold profits compared to apples. Government-backed initiatives like the Aroma Mission have supported this transition, providing a new economic lifeline for the region. ([medium.com](https://medium.com/mind-yourself/good-news-friday-1st-august-2025-7ccce0dcc420?utm_source=openai))\n",
      "\n",
      "These stories highlight positive developments in animal welfare, environmental health, conservation, economic recovery, and sustainable agriculture. \n"
     ]
    }
   ],
   "source": [
    "from pyrit.common import IN_MEMORY, initialize_pyrit\n",
    "from pyrit.common.tool_configs import web_search_tool\n",
    "from pyrit.models import PromptRequestPiece, PromptRequestResponse\n",
    "from pyrit.prompt_target.openai.openai_response_target import OpenAIResponseTarget\n",
    "\n",
    "initialize_pyrit(memory_db_type=IN_MEMORY)\n",
    "\n",
    "target = OpenAIResponseTarget(\n",
    "    extra_body_parameters={\n",
    "        \"tools\": [web_search_tool()],\n",
    "        \"tool_choice\": \"auto\",\n",
    "    },\n",
    "    httpx_client_kwargs={\"timeout\": 60} \n",
    ")\n",
    "\n",
    "prompt_piece = PromptRequestPiece(\n",
    "    role=\"user\",\n",
    "    original_value=\"What is a positive news story from today?\",\n",
    "    original_value_data_type=\"text\"\n",
    ")\n",
    "prompt_request = PromptRequestResponse(\n",
    "    request_pieces=[prompt_piece]\n",
    ")\n",
    "\n",
    "response = await target.send_prompt_async(prompt_request=prompt_request)\n",
    "\n",
    "for idx, piece in enumerate(response.request_pieces):\n",
    "    print(f\"{idx} | {piece.role}: {piece.original_value}\")"
   ]
  }
 ],
 "metadata": {
  "kernelspec": {
   "display_name": "pyrit-dev",
   "language": "python",
   "name": "python3"
  },
  "language_info": {
   "codemirror_mode": {
    "name": "ipython",
    "version": 3
   },
   "file_extension": ".py",
   "mimetype": "text/x-python",
   "name": "python",
   "nbconvert_exporter": "python",
   "pygments_lexer": "ipython3",
   "version": "3.12.8"
  }
 },
 "nbformat": 4,
 "nbformat_minor": 5
}
