{
 "cells": [
  {
   "cell_type": "markdown",
   "id": "a7b9c87c",
   "metadata": {},
   "source": [
    "# Prompt Shield Target Documentation + Tutorial"
   ]
  },
  {
   "cell_type": "markdown",
   "id": "8456e265",
   "metadata": {},
   "source": [
    "This is a brief tutorial and documentation on using the Prompt Shield Target"
   ]
  },
  {
   "cell_type": "markdown",
   "id": "c9a190c1",
   "metadata": {},
   "source": [
    "Below is a very quick summary of how Prompt Shield works. You can visit the following links to learn more:\\\n",
    "(Docs): https://learn.microsoft.com/en-us/azure/ai-services/content-safety/concepts/jailbreak-detection\\\n",
    "(Quickstart Guide): https://learn.microsoft.com/en-us/azure/ai-services/content-safety/quickstart-jailbreak\n",
    "\n",
    "You will need to deploy a content safety endpoint on Azure to use this if you haven't already.\n",
    "\n",
    "For PyRIT, you can use Prompt Shield as a target, or you can use it as a true/false scorer to see if it detected a jailbreak in your prompt."
   ]
  },
  {
   "cell_type": "markdown",
   "id": "90abf825",
   "metadata": {},
   "source": [
    "## How It Works in More Detail"
   ]
  },
  {
   "cell_type": "markdown",
   "id": "8485ff50",
   "metadata": {},
   "source": [
    "Prompt Shield is a Content Safety resource that detects attacks (jailbreaks) in the prompts it is given.\n",
    "\n",
    "The body of the HTTP request you send to it looks like this:\n",
    "```json\n",
    "{\n",
    "    {\"userPrompt\"}: \"this-is-a-user-prompt-as-a-string\",\n",
    "    {\"documents\"}: [\n",
    "        \"here-is-one-document-as-a-string\",\n",
    "        \"here-is-another\"\n",
    "    ]\n",
    "}\n",
    "```\n",
    "\n",
    "And it returns the following in its response:\n",
    "```json\n",
    "{\n",
    "    {\"userPromptAnalysis\"}: {\"attackDetected\": \"true or false\"},\n",
    "    {\"documentsAnalysis\"}: [\n",
    "        {\"attackDetected\": \"true or false for the first document\"},\n",
    "        {\"attackDetected\": \"true or false for the second document\"}\n",
    "    ]\n",
    "}\n",
    "```\n",
    "\n",
    "This document has an example below.\n",
    "\n",
    "Some caveats and tips:\n",
    "* You can send any string you like to either of those two fields, but they have to be strings. Note that this includes the documents. For example, a pdf attachment which is a 'document' may be encoded in base64. You can send a string of the encoded pdf if you like, but you may have to decode it or parse it to achieve your goal in the operation (whatever it may be).\n",
    "* Prompt Shield does have a limit to how many characters you can send in one field (as in, one userPrompt or one document). Be careful when sending ASCII art-encoded prompts, because these will often exceed it.\n",
    "* The keys for the response are not 'userPrompt' and 'documents', they're 'userPromptAnalysis' and 'documentsAnalysis' as described above. The responses per entry are wrapped with 'attackDetected'. Keep this in mind because it helps diagnose weird bugs with PromptShieldTarget."
   ]
  },
  {
   "cell_type": "markdown",
   "id": "072bdec8",
   "metadata": {},
   "source": [
    "## Prompt Shield Target Demo"
   ]
  },
  {
   "cell_type": "markdown",
   "id": "fef2e6e2",
   "metadata": {},
   "source": [
    "The two environment variables you'll need are `AZURE_CONTENT_SAFETY_ENDPOINT` and `AZURE_CONTENT_SAFETY_KEY`. Make sure to add them to your .env file if you get an error, and that your deployment is in a region where Prompt Shield is supported.\n",
    "\n",
    "PromptShieldTarget is a target that uses Prompt Shield as its backend. Here's an example of how it processes input:"
   ]
  },
  {
   "cell_type": "code",
   "execution_count": 1,
   "id": "14b03ab7",
   "metadata": {},
   "outputs": [
    {
     "name": "stdout",
     "output_type": "stream",
     "text": [
      "\u001b[22m\u001b[39mConversation ID: e58443f3-b837-451c-99eb-4a12900cfff8\n",
      "\u001b[1m\u001b[34muser: \n",
      "Hello! Can you please retrieve the total number of sales in the document?\n",
      "\n",
      "\u001b[22m\u001b[33massistant: {\"userPromptAnalysis\":{\"attackDetected\":false},\"documentsAnalysis\":[]}\n"
     ]
    }
   ],
   "source": [
    "import os\n",
    "\n",
    "from pyrit.common import default_values\n",
    "\n",
    "from pyrit.orchestrator.prompt_sending_orchestrator import PromptSendingOrchestrator\n",
    "from pyrit.prompt_target import PromptShieldTarget\n",
    "\n",
    "default_values.load_default_env()\n",
    "\n",
    "\n",
    "pst = PromptShieldTarget(os.environ.get(\"AZURE_CONTENT_SAFETY_ENDPOINT\"), os.environ.get(\"AZURE_CONTENT_SAFETY_KEY\"))\n",
    "\n",
    "sample_prompt: str = \"\"\"\n",
    "Hello! Can you please retrieve the total number of sales in the document?\n",
    "\"\"\"\n",
    "\n",
    "with PromptSendingOrchestrator(prompt_target=pst) as orchestrator:\n",
    "\n",
    "    resp = await orchestrator.send_prompts_async(prompt_list=[sample_prompt])  # type: ignore\n",
    "    await orchestrator.print_conversations() #type: ignore"
   ]
  }
 ],
 "metadata": {
  "kernelspec": {
   "display_name": "pyrit-dev",
   "language": "python",
   "name": "python3"
  },
  "language_info": {
   "codemirror_mode": {
    "name": "ipython",
    "version": 3
   },
   "file_extension": ".py",
   "mimetype": "text/x-python",
   "name": "python",
   "nbconvert_exporter": "python",
   "pygments_lexer": "ipython3",
   "version": "3.11.9"
  }
 },
 "nbformat": 4,
 "nbformat_minor": 5
}
