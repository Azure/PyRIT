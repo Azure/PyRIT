{
 "cells": [
  {
   "cell_type": "markdown",
   "metadata": {},
   "source": [
    "# Prompt Shield Target Documentation + Tutorial"
   ]
  },
  {
   "cell_type": "markdown",
   "metadata": {},
   "source": [
    "This is a brief tutorial and documentation on using the Prompt Shield Target"
   ]
  },
  {
   "cell_type": "markdown",
   "metadata": {},
   "source": [
    "## 0 How Prompt Shield Works"
   ]
  },
  {
   "cell_type": "markdown",
   "metadata": {},
   "source": [
    "### TL;DR"
   ]
  },
  {
   "cell_type": "markdown",
   "metadata": {},
   "source": [
    "Below is a very quick summary of how Prompt Shield works. You can visit the following links to learn more:\\\n",
    "(Docs): https://learn.microsoft.com/en-us/azure/ai-services/content-safety/concepts/jailbreak-detection\\\n",
    "(Quickstart Guide): https://learn.microsoft.com/en-us/azure/ai-services/content-safety/quickstart-jailbreak\n",
    "\n",
    "You will need to deploy a content safety endpoint on Azure to use this if you haven't already.\n",
    "\n",
    "For PyRIT, you can use Prompt Shield as a target, or you can use it as a true/false scorer to see if it detected a jailbreak in your prompt."
   ]
  },
  {
   "cell_type": "markdown",
   "metadata": {},
   "source": [
    "### How It Works in More Detail"
   ]
  },
  {
   "cell_type": "markdown",
   "metadata": {},
   "source": [
    "Prompt Shield is a Content Safety resource that detects attacks (jailbreaks) in the prompts it is given.\n",
    "\n",
    "The body of the HTTP request you send to it looks like this:\n",
    "```json\n",
    "{\n",
    "    {\"userPrompt\"}: \"this-is-a-user-prompt-as-a-string\",\n",
    "    {\"documents\"}: [\n",
    "        \"here-is-one-document-as-a-string\",\n",
    "        \"here-is-another\"\n",
    "    ]\n",
    "}\n",
    "```\n",
    "\n",
    "And it returns the following in its response:\n",
    "```json\n",
    "{\n",
    "    {\"userPromptAnalysis\"}: {\"attackDetected\": \"true or false\"},\n",
    "    {\"documentsAnalysis\"}: [\n",
    "        {\"attackDetected\": \"true or false for the first document\"},\n",
    "        {\"attackDetected\": \"true or false for the second document\"}\n",
    "    ]\n",
    "}\n",
    "```\n",
    "\n",
    "This document has an example below.\n",
    "\n",
    "Some caveats and tips:\n",
    "* You can send any string you like to either of those two fields, but they have to be strings. Note that this includes the documents. For example, a pdf attachment which is a 'document' may be encoded in base64. You can send a string of the encoded pdf if you like, but you may have to decode it or parse it to achieve your goal in the operation (whatever it may be).\n",
    "* Prompt Shield does have a limit to how many characters you can send in one field (as in, one userPrompt or one document). Be careful when sending ASCII art-encoded prompts, because these will often exceed it.\n",
    "* The keys for the response are not 'userPrompt' and 'documents', they're 'userPromptAnalysis' and 'documentsAnalysis' as described above. The responses per entry are wrapped with 'attackDetected'. Keep this in mind because it helps diagnose weird bugs with PromptShieldTarget."
   ]
  },
  {
   "cell_type": "markdown",
   "metadata": {},
   "source": [
    "## 1 Populating Environment Variables"
   ]
  },
  {
   "cell_type": "markdown",
   "metadata": {},
   "source": [
    "The two environment variables you'll need are `AZURE_CONTENT_SAFETY_ENDPOINT` and `AZURE_CONTENT_SAFETY_KEY`. Make sure to add them to your .env file if you get an error.\n"
   ]
  },
  {
   "cell_type": "code",
   "execution_count": 1,
   "metadata": {
    "execution": {
     "iopub.execute_input": "2024-07-10T01:01:12.804169Z",
     "iopub.status.busy": "2024-07-10T01:01:12.804169Z",
     "iopub.status.idle": "2024-07-10T01:01:12.887630Z",
     "shell.execute_reply": "2024-07-10T01:01:12.887630Z"
    }
   },
   "outputs": [],
   "source": [
    "from pyrit.common import default_values\n",
    "\n",
    "default_values.load_default_env()"
   ]
  },
  {
   "cell_type": "markdown",
   "metadata": {},
   "source": [
    "## 2 PromptShieldTarget"
   ]
  },
  {
   "cell_type": "markdown",
   "metadata": {},
   "source": [
    "PromptShieldTarget is a target that uses Prompt Shield as its backend. Here's an example of how it processes input:"
   ]
  },
  {
   "cell_type": "code",
   "execution_count": 2,
   "metadata": {
    "execution": {
     "iopub.execute_input": "2024-07-10T01:01:12.892140Z",
     "iopub.status.busy": "2024-07-10T01:01:12.892140Z",
     "iopub.status.idle": "2024-07-10T01:01:19.057661Z",
     "shell.execute_reply": "2024-07-10T01:01:19.057661Z"
    }
   },
   "outputs": [
    {
     "name": "stderr",
     "output_type": "stream",
     "text": [
      "None of PyTorch, TensorFlow >= 2.0, or Flax have been found. Models won't be available and only tokenizers, configuration and file/data utilities can be used.\n",
      "Error during table creation: (duckdb.duckdb.IOException) IO Error: File is already open in \n",
      "C:\\Users\\t-vivalbuena\\AppData\\Local\\anaconda3\\envs\\localbox2\\python.exe (PID 13564)\n",
      "(Background on this error at: https://sqlalche.me/e/20/e3q8)\n"
     ]
    }
   ],
   "source": [
    "%load_ext autoreload\n",
    "%autoreload 2\n",
    "\n",
    "from pyrit.prompt_target import PromptShieldTarget\n",
    "from pyrit.models import (\n",
    "    PromptRequestPiece,\n",
    "    PromptRequestResponse\n",
    ")\n",
    "\n",
    "import os\n",
    "pst = PromptShieldTarget(\n",
    "    os.environ.get('AZURE_CONTENT_SAFETY_ENDPOINT'),\n",
    "    os.environ.get('AZURE_CONTENT_SAFETY_KEY')\n",
    ")\n"
   ]
  },
  {
   "cell_type": "markdown",
   "metadata": {},
   "source": [
    "Because the Prompt Shield endpoint takes two different fields, one for the user prompt and one for the list of documents, we need to provide a string with `<document>` delimiters so that the target knows what to populate each field with."
   ]
  },
  {
   "cell_type": "code",
   "execution_count": 7,
   "metadata": {
    "execution": {
     "iopub.execute_input": "2024-07-10T01:01:19.059280Z",
     "iopub.status.busy": "2024-07-10T01:01:19.059280Z",
     "iopub.status.idle": "2024-07-10T01:01:19.265558Z",
     "shell.execute_reply": "2024-07-10T01:01:19.265022Z"
    }
   },
   "outputs": [],
   "source": [
    "sample_prompt: str = \"\"\"\n",
    "Hello! Can you please retrieve the total number of sales in the document?\n",
    "\"\"\""
   ]
  },
  {
   "cell_type": "code",
   "execution_count": 8,
   "metadata": {
    "execution": {
     "iopub.execute_input": "2024-07-10T01:01:19.265558Z",
     "iopub.status.busy": "2024-07-10T01:01:19.265558Z",
     "iopub.status.idle": "2024-07-10T01:01:19.458455Z",
     "shell.execute_reply": "2024-07-10T01:01:19.456847Z"
    }
   },
   "outputs": [],
   "source": [
    "prr = PromptRequestResponse(\n",
    "    [\n",
    "        PromptRequestPiece(\n",
    "            role=\"user\",\n",
    "            original_value=sample_prompt,\n",
    "            original_value_data_type='text'\n",
    "        )\n",
    "    ]\n",
    ")"
   ]
  },
  {
   "cell_type": "code",
   "execution_count": 9,
   "metadata": {
    "execution": {
     "iopub.execute_input": "2024-07-10T01:01:19.461146Z",
     "iopub.status.busy": "2024-07-10T01:01:19.461146Z",
     "iopub.status.idle": "2024-07-10T01:01:20.974395Z",
     "shell.execute_reply": "2024-07-10T01:01:20.972885Z"
    }
   },
   "outputs": [],
   "source": [
    "response = await pst.send_prompt_async(prompt_request=prr)"
   ]
  },
  {
   "cell_type": "code",
   "execution_count": 10,
   "metadata": {
    "execution": {
     "iopub.execute_input": "2024-07-10T01:01:20.974395Z",
     "iopub.status.busy": "2024-07-10T01:01:20.974395Z",
     "iopub.status.idle": "2024-07-10T01:01:21.159972Z",
     "shell.execute_reply": "2024-07-10T01:01:21.159972Z"
    }
   },
   "outputs": [
    {
     "name": "stdout",
     "output_type": "stream",
     "text": [
      "None: assistant: {\"userPromptAnalysis\":{\"attackDetected\":false},\"documentsAnalysis\":[]}\n"
     ]
    }
   ],
   "source": [
    "print(response)"
   ]
  },
  {
   "cell_type": "markdown",
   "metadata": {},
   "source": [
    "The response is a string, which contains the HTTP body of the response from the Prompt Shield endpoint in JSON format. As of the time of writing this, you should see that the third document (the one with the DAN prompt) was detected as an attack.\n",
    "\n",
    "The document delimiter of `<document></document>` is based off of this documentation (https://learn.microsoft.com/en-us/azure/ai-services/openai/concepts/content-filter?tabs=warning%2Cpython-new#document-embedding-in-prompts). As long as the string you pass to the target has a delimiter matching `<document></document>`, PromptShieldTarget will parse it into the user prompt and documents list just fine, but be aware the standard for separating user prompts and documents in LLM inputs may change."
   ]
  }
 ],
 "metadata": {
  "kernelspec": {
   "display_name": "localbox",
   "language": "python",
   "name": "python3"
  },
  "language_info": {
   "codemirror_mode": {
    "name": "ipython",
    "version": 3
   },
   "file_extension": ".py",
   "mimetype": "text/x-python",
   "name": "python",
   "nbconvert_exporter": "python",
   "pygments_lexer": "ipython3",
   "version": "3.11.9"
  }
 },
 "nbformat": 4,
 "nbformat_minor": 2
}
