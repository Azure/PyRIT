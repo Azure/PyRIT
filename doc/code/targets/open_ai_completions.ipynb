{
 "cells": [
  {
   "cell_type": "markdown",
   "id": "0",
   "metadata": {},
   "source": [
    "# OpenAI Completions - optional\n",
    "\n",
    "Before you begin, ensure you are setup with the correct version of PyRIT and have the applicable secrets configured as described [here](../../setup/populating_secrets.md).\n",
    "\n",
    "Once you are configured, then you will be able to get completions for your text."
   ]
  },
  {
   "cell_type": "code",
   "execution_count": null,
   "id": "1",
   "metadata": {},
   "outputs": [
    {
     "name": "stdout",
     "output_type": "stream",
     "text": [
      "\u001b[1m\u001b[31mThe orchestrator with objective: Hello! Who are you? has ended with status: unknown\n",
      "\u001b[1m\u001b[34muser:\n",
      "Converted value: Hello! Who are you?\n",
      "\u001b[22m\u001b[33massistant:  Where are you from? Where are you live? Where did you move before you lived here? What's your room like? What did you do for a job? What did you do when you retired? Why are you so busy or why are you so lonly?\n",
      "\n",
      "43\n",
      "\n",
      "Brain & Mind\n",
      "\n",
      "How do you decide what is right or wrong which everyday situations?\n",
      "\n",
      "What is a basic guide for every person to step-by-step make good decisions is integrity in everything you do.We are all unique individuals. We are not the same and what is right for someone else may be wrong for someone else. The law is something else which supposedly we all go by.\n",
      "\n",
      "When the United States was created, the first president's Cabinet consisted of the secretaries of war (defense), state, the Treasury, Navy and Attorney General. This occurs with many newly created countries.All of these internal secretaries, charged with coordinating government policy, report...\n",
      "\n",
      "Hello, I've noticed several feedback abuse reports in this forum area. I also do appreciate the profile reviews but I find it a slight misuse as to what Red guide is intended for. I'd ask your advice in regards to the Help menu to identify guidelines vs. feedback reporting. Members should take...\n",
      "\n",
      "I'd like to know ALL thos controls that nutjobs opened in the recent past after 9/11.What was there before, what did the government changed since - I think we're all too ignorant about this. What happened with our constitutional rights?I'd be glad if you help.\n"
     ]
    }
   ],
   "source": [
    "from pyrit.common import IN_MEMORY, initialize_pyrit\n",
    "from pyrit.orchestrator import PromptSendingOrchestrator\n",
    "from pyrit.prompt_target import OpenAICompletionTarget\n",
    "\n",
    "initialize_pyrit(memory_db_type=IN_MEMORY)\n",
    "\n",
    "# Note that max_tokens will default to 16 for completions, so you may want to set the upper limit of allowed tokens for a longer response.\n",
    "target = OpenAICompletionTarget(max_tokens=2048)\n",
    "\n",
    "orchestrator = PromptSendingOrchestrator(objective_target=target)\n",
    "response = await orchestrator.run_attack_async(objective=\"Hello! Who are you?\")  # type: ignore\n",
    "await response.print_conversation_async()  # type: ignore"
   ]
  }
 ],
 "metadata": {
  "jupytext": {
   "cell_metadata_filter": "-all"
  },
  "language_info": {
   "codemirror_mode": {
    "name": "ipython",
    "version": 3
   },
   "file_extension": ".py",
   "mimetype": "text/x-python",
   "name": "python",
   "nbconvert_exporter": "python",
   "pygments_lexer": "ipython3",
   "version": "3.12.9"
  }
 },
 "nbformat": 4,
 "nbformat_minor": 5
}
