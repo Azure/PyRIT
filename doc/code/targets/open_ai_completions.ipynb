{
 "cells": [
  {
   "cell_type": "markdown",
   "id": "7f2b0896",
   "metadata": {},
   "source": [
    "# OpenAI Completions\n",
    "\n",
    "Before you begin, ensure you are setup with the correct version of PyRIT and have the applicable secrets configured as described [here](../../setup/populating_secrets.md).\n",
    "\n",
    "Once you are configured, then you will be able to get completions for your text."
   ]
  },
  {
   "cell_type": "code",
   "execution_count": 1,
   "id": "ad913eff",
   "metadata": {
    "execution": {
     "iopub.execute_input": "2024-10-24T19:16:03.742718Z",
     "iopub.status.busy": "2024-10-24T19:16:03.742197Z",
     "iopub.status.idle": "2024-10-24T19:16:17.753988Z",
     "shell.execute_reply": "2024-10-24T19:16:17.753463Z"
    }
   },
   "outputs": [
    {
     "name": "stdout",
     "output_type": "stream",
     "text": [
      "{'__type__': 'OpenAICompletionTarget', '__module__': 'pyrit.prompt_target.openai.openai_completion_target'}: assistant:  Did you get lost in the darkness just like Thorin did? No. My name is Hrothgar. And don't you think to mock me. My journey has been long of grit and toil, and this is not my first time in Thranduil's realm. When Thorin and company came through here before, your elves didn't help him at all. After all Thorin did for your people, I don't understand why you would leave them to face the trolls alone. To aid a dwarf is no dishonor. But Gandalf did not send me this time to help dwarves. He sent me to Thranduil. But Thranduil will have no part in this matter yet. And so you came here to stand in my way. No, I came to learn the truth. The truth? The truth about our past. We know ours, but you refuse to tell us ours. Yet if you will refuse it to us, you mays well not watch the story of your people end here. If you say nothing, that is your choice. You may have heard of myths and stories of fallen heroes. Your companions may even have told you. But I swear to you, in the gray now, I have been where you are. And know what people think. Would your men not say they had gone short in battle, and the enemy was too great to face? If you were in a book, you'd be winning. In Naugrim, your fear might be called pride or stubbornness. But in mine, it is a prince's weakness. And though a prince will take the brunt of responsibility, as does the king, as does the father, a prince \n"
     ]
    }
   ],
   "source": [
    "from pyrit.common import default_values\n",
    "\n",
    "from pyrit.orchestrator.prompt_sending_orchestrator import PromptSendingOrchestrator\n",
    "from pyrit.prompt_target import OpenAICompletionTarget\n",
    "\n",
    "default_values.load_default_env()\n",
    "\n",
    "# Note that max_tokens will default to 16 for completions, so you may want to set the upper limit of allowed tokens for a longer response.\n",
    "target = OpenAICompletionTarget(max_tokens=2048)\n",
    "\n",
    "with PromptSendingOrchestrator(prompt_target=target) as orchestrator:\n",
    "    response = await orchestrator.send_prompts_async(prompt_list=[\"Hello! Who are you?\"])  # type: ignore\n",
    "    print(response[0])"
   ]
  },
  {
   "cell_type": "code",
   "execution_count": null,
   "id": "eb884f26",
   "metadata": {},
   "outputs": [],
   "source": []
  }
 ],
 "metadata": {
  "jupytext": {
   "cell_metadata_filter": "-all"
  },
  "kernelspec": {
   "display_name": "pyrit-311",
   "language": "python",
   "name": "python3"
  },
  "language_info": {
   "codemirror_mode": {
    "name": "ipython",
    "version": 3
   },
   "file_extension": ".py",
   "mimetype": "text/x-python",
   "name": "python",
   "nbconvert_exporter": "python",
   "pygments_lexer": "ipython3",
   "version": "3.11.9"
  }
 },
 "nbformat": 4,
 "nbformat_minor": 5
}
