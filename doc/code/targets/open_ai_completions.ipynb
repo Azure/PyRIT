{
 "cells": [
  {
   "cell_type": "markdown",
   "id": "0",
   "metadata": {},
   "source": [
    "# OpenAI Completions - optional\n",
    "\n",
    "Before you begin, ensure you are setup with the correct version of PyRIT and have the applicable secrets configured as described [here](../../setup/populating_secrets.md).\n",
    "\n",
    "Once you are configured, then you will be able to get completions for your text."
   ]
  },
  {
   "cell_type": "code",
   "execution_count": null,
   "id": "1",
   "metadata": {},
   "outputs": [
    {
     "name": "stdout",
     "output_type": "stream",
     "text": [
      "\n",
      "\u001b[34m────────────────────────────────────────────────────────────────────────────────────────────────────\u001b[0m\n",
      "\u001b[1m\u001b[34m🔹 Turn 1 - USER\u001b[0m\n",
      "\u001b[34m────────────────────────────────────────────────────────────────────────────────────────────────────\u001b[0m\n",
      "\u001b[34m  Hello! Who are you?\u001b[0m\n",
      "\n",
      "\u001b[33m────────────────────────────────────────────────────────────────────────────────────────────────────\u001b[0m\n",
      "\u001b[1m\u001b[33m🔸 ASSISTANT\u001b[0m\n",
      "\u001b[33m────────────────────────────────────────────────────────────────────────────────────────────────────\u001b[0m\n",
      "\u001b[33m   It isn't winter in December. I am stepfather. Commander of Hikaru's bi-col university troops. Oh,\u001b[0m\n",
      "\u001b[33m      you're just giving your autograph to yourself? Hahahaha! You're one funny, Maroon. So, who's the\u001b[0m\n",
      "\u001b[33m      lucky person getting the autograph? It's me, Commander. It's you? Well, it's you. You! Well,\u001b[0m\n",
      "\u001b[33m      it's my privilege to sign this parchment. Of course, I'm doing this one for free. But just to\u001b[0m\n",
      "\u001b[33m      make your investment worthwhile, tell me, how long did you study at the bi-col university? Hey,\u001b[0m\n",
      "\u001b[33m      Commander, don't think you know everything. What? How long did you study at the bi-col\u001b[0m\n",
      "\u001b[33m      university? So, what? It's more than four years! Oh, well done! [crying] Army! Commander, come\u001b[0m\n",
      "\u001b[33m      on, don't cry, Commander. I didn't know you were still capable of teaching. Sir Commander,\u001b[0m\n",
      "\u001b[33m      whenever you say or do is always afterthought. You're pathetic! Why do you turn into a crybaby\u001b[0m\n",
      "\u001b[33m      in front of her? What is it with me? It is the girl that I like. That's why. There are many\u001b[0m\n",
      "\u001b[33m      times that us girls are misunderstood. So it's not your intention. I'm really sorry. Anyway, Sir\u001b[0m\n",
      "\u001b[33m      Commander, are you done crying? I'm still not hungry since earlier. And I've been trying to hold\u001b[0m\n",
      "\u001b[33m      back my going to the loo earlier. Because I allowed you to tag along.\u001b[0m\n",
      "\u001b[33m  \u001b[0m\n",
      "\u001b[33m    Amir?\u001b[0m\n",
      "\u001b[33m  \u001b[0m\n",
      "\u001b[33m    What? The chapel of the Holy Rosary. What's wrong with it? I'm not sure, Commander. It's just...\u001b[0m\n",
      "\u001b[33m      What? No, it's okay. I'm just weirded out by the place because of what happened earlier. Well,\u001b[0m\n",
      "\u001b[33m      Amir, you were the one who dared me to. So, it's okay, Amir. I'll take care of you. It's okay.\u001b[0m\n",
      "\u001b[33m      I'll just stay here. Okay. The chandelier is just there. Be discreet, okay? Okay. [knocking] Sit\u001b[0m\n",
      "\u001b[33m      down.\u001b[0m\n",
      "\u001b[33m  \u001b[0m\n",
      "\u001b[33m    Mm-hmm.\u001b[0m\n",
      "\u001b[33m  \u001b[0m\n",
      "\u001b[33m    Mm-hmm.\u001b[0m\n",
      "\u001b[33m  \u001b[0m\n",
      "\u001b[33m    Good evening.\u001b[0m\n",
      "\u001b[33m  \u001b[0m\n",
      "\u001b[33m    Good evening. Give us a nice new thing. Can I help you, sir? Nice. That's why, when you do\u001b[0m\n",
      "\u001b[33m      something, it's always worth it. You're the new Dean. How? I'm just a clerk. I'm the one who\u001b[0m\n",
      "\u001b[33m      takes care of the chapel. You're the one who's beautiful. Pat, Pat. That's beautiful. It could\u001b[0m\n",
      "\u001b[33m      make you get goosebumps.\u001b[0m\n",
      "\u001b[33m  \u001b[0m\n",
      "\u001b[33m    Lieutenant Mark Dolorit.\u001b[0m\n",
      "\u001b[33m  \u001b[0m\n",
      "\u001b[33m    Pleased to meet you, sir. Ma'am Grace, where is she? You saw her, didn't you? She's busy with her\u001b[0m\n",
      "\u001b[33m      teaching. As usual. What about that girl? In front of you, sir. Her. Isn't everything clear for\u001b[0m\n",
      "\u001b[33m      you? You're in a place like this. Right? Don't be suspicious. What's that? You should be more\u001b[0m\n",
      "\u001b[33m      suspicious and wiser. Sooner than later. You made her a priest. A nun. Of course not, ma'am. I\u001b[0m\n",
      "\u001b[33m      did not send anyone there. What? You didn't expect th\u001b[0m\n",
      "\n",
      "\u001b[34m────────────────────────────────────────────────────────────────────────────────────────────────────\u001b[0m\n"
     ]
    }
   ],
   "source": [
    "from pyrit.common import IN_MEMORY, initialize_pyrit\n",
    "from pyrit.executor.attack import ConsoleAttackResultPrinter, PromptSendingAttack\n",
    "from pyrit.prompt_target import OpenAICompletionTarget\n",
    "\n",
    "initialize_pyrit(memory_db_type=IN_MEMORY)\n",
    "\n",
    "# Note that max_tokens will default to 16 for completions, so you may want to set the upper limit of allowed tokens for a longer response.\n",
    "target = OpenAICompletionTarget(max_tokens=2048)\n",
    "\n",
    "attack = PromptSendingAttack(objective_target=target)\n",
    "result = await attack.execute_async(objective=\"Hello! Who are you?\")  # type: ignore\n",
    "await ConsoleAttackResultPrinter().print_conversation_async(result=result)  # type: ignore"
   ]
  }
 ],
 "metadata": {
  "jupytext": {
   "cell_metadata_filter": "-all"
  },
  "language_info": {
   "codemirror_mode": {
    "name": "ipython",
    "version": 3
   },
   "file_extension": ".py",
   "mimetype": "text/x-python",
   "name": "python",
   "nbconvert_exporter": "python",
   "pygments_lexer": "ipython3",
   "version": "3.11.11"
  }
 },
 "nbformat": 4,
 "nbformat_minor": 5
}
