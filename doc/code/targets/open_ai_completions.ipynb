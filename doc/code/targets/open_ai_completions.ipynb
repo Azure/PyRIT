{
 "cells": [
  {
   "cell_type": "markdown",
   "id": "0",
   "metadata": {},
   "source": [
    "# OpenAI Completions - optional\n",
    "\n",
    "Before you begin, ensure you are setup with the correct version of PyRIT and have the applicable secrets configured as described [here](../../setup/populating_secrets.md).\n",
    "\n",
    "Once you are configured, then you will be able to get completions for your text."
   ]
  },
  {
   "cell_type": "code",
   "execution_count": null,
   "id": "1",
   "metadata": {},
   "outputs": [],
   "source": [
    "from pyrit.common import IN_MEMORY, initialize_pyrit\n",
    "from pyrit.orchestrator import PromptSendingOrchestrator\n",
    "from pyrit.prompt_target import OpenAICompletionTarget\n",
    "\n",
    "initialize_pyrit(memory_db_type=IN_MEMORY)\n",
    "\n",
    "# Note that max_tokens will default to 16 for completions, so you may want to set the upper limit of allowed tokens for a longer response.\n",
    "target = OpenAICompletionTarget(max_tokens=2048)\n",
    "\n",
    "orchestrator = PromptSendingOrchestrator(objective_target=target)\n",
    "response = await orchestrator.send_prompts_async(prompt_list=[\"Hello! Who are you?\"])  # type: ignore\n",
    "await orchestrator.print_conversations_async()  # type: ignore"
   ]
  },
  {
   "cell_type": "code",
   "execution_count": null,
   "id": "2",
   "metadata": {},
   "outputs": [],
   "source": [
    "target.dispose_db_engine()"
   ]
  }
 ],
 "metadata": {
  "jupytext": {
   "cell_metadata_filter": "-all"
  }
 },
 "nbformat": 4,
 "nbformat_minor": 5
}
