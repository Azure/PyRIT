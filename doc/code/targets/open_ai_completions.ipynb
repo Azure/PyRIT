{
 "cells": [
  {
   "cell_type": "markdown",
   "id": "0",
   "metadata": {},
   "source": [
    "# OpenAI Completions - optional\n",
    "\n",
    "Before you begin, ensure you are setup with the correct version of PyRIT and have the applicable secrets configured as described [here](../../setup/populating_secrets.md).\n",
    "\n",
    "Once you are configured, then you will be able to get completions for your text."
   ]
  },
  {
   "cell_type": "code",
   "execution_count": null,
   "id": "1",
   "metadata": {},
   "outputs": [
    {
     "name": "stdout",
     "output_type": "stream",
     "text": [
      "\u001b[22m\u001b[39mConversation ID: 380b5455-a9c1-4dda-92ae-189c2219aee4\n",
      "\u001b[1m\u001b[34muser: Hello! Who are you?\n",
      "\u001b[22m\u001b[33massistant:  I am Ramos, I am the Rector Montessori for Hallas. And now I am going to tell you, today we are going to make music. Let's see. What are we going to do to make our music. Okay, we are going to play the drums. Good morning children. I am in Prahya Alakshmi, I am one of the directors in placement. And today we are going to show you how to make a beautiful book marker. And this is what we are going to do. This is what we are going to use. This is matching cross. Generally people give this for your birthday, for Christmas. And this is for everyone. For morning walker,\n"
     ]
    }
   ],
   "source": [
    "from pyrit.common import IN_MEMORY, initialize_pyrit\n",
    "from pyrit.orchestrator import PromptSendingOrchestrator\n",
    "from pyrit.prompt_target import OpenAICompletionTarget\n",
    "\n",
    "initialize_pyrit(memory_db_type=IN_MEMORY)\n",
    "\n",
    "# Note that max_tokens will default to 16 for completions, so you may want to set the upper limit of allowed tokens for a longer response.\n",
    "target = OpenAICompletionTarget(max_tokens=2048)\n",
    "\n",
    "orchestrator = PromptSendingOrchestrator(objective_target=target)\n",
    "response = await orchestrator.run_attack_async(objective=\"Hello! Who are you?\")  # type: ignore\n",
    "await orchestrator.print_conversations_async()  # type: ignore"
   ]
  }
 ],
 "metadata": {
  "jupytext": {
   "cell_metadata_filter": "-all"
  },
  "language_info": {
   "codemirror_mode": {
    "name": "ipython",
    "version": 3
   },
   "file_extension": ".py",
   "mimetype": "text/x-python",
   "name": "python",
   "nbconvert_exporter": "python",
   "pygments_lexer": "ipython3",
   "version": "3.12.8"
  }
 },
 "nbformat": 4,
 "nbformat_minor": 5
}
