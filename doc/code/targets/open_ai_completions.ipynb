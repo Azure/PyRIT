{
 "cells": [
  {
   "cell_type": "markdown",
   "id": "0",
   "metadata": {},
   "source": [
    "# OpenAI Completions - optional\n",
    "\n",
    "Before you begin, ensure you are setup with the correct version of PyRIT and have the applicable secrets configured as described [here](../../setup/populating_secrets.md).\n",
    "\n",
    "Once you are configured, then you will be able to get completions for your text."
   ]
  },
  {
   "cell_type": "code",
   "execution_count": 1,
   "id": "1",
   "metadata": {},
   "outputs": [
    {
     "ename": "ValueError",
     "evalue": "Environment variable OPENAI_COMPLETEION_ENDPOINT is required",
     "output_type": "error",
     "traceback": [
      "\u001b[1;31m---------------------------------------------------------------------------\u001b[0m",
      "\u001b[1;31mValueError\u001b[0m                                Traceback (most recent call last)",
      "Cell \u001b[1;32mIn[1], line 8\u001b[0m\n\u001b[0;32m      5\u001b[0m initialize_pyrit(memory_db_type\u001b[38;5;241m=\u001b[39mIN_MEMORY)\n\u001b[0;32m      7\u001b[0m \u001b[38;5;66;03m# Note that max_tokens will default to 16 for completions, so you may want to set the upper limit of allowed tokens for a longer response.\u001b[39;00m\n\u001b[1;32m----> 8\u001b[0m target \u001b[38;5;241m=\u001b[39m \u001b[43mOpenAICompletionTarget\u001b[49m\u001b[43m(\u001b[49m\u001b[43mmax_tokens\u001b[49m\u001b[38;5;241;43m=\u001b[39;49m\u001b[38;5;241;43m2048\u001b[39;49m\u001b[43m)\u001b[49m\n\u001b[0;32m     10\u001b[0m orchestrator \u001b[38;5;241m=\u001b[39m PromptSendingOrchestrator(objective_target\u001b[38;5;241m=\u001b[39mtarget)\n\u001b[0;32m     11\u001b[0m response \u001b[38;5;241m=\u001b[39m \u001b[38;5;28;01mawait\u001b[39;00m orchestrator\u001b[38;5;241m.\u001b[39msend_prompts_async(prompt_list\u001b[38;5;241m=\u001b[39m[\u001b[38;5;124m\"\u001b[39m\u001b[38;5;124mHello! Who are you?\u001b[39m\u001b[38;5;124m\"\u001b[39m])  \u001b[38;5;66;03m# type: ignore\u001b[39;00m\n",
      "File \u001b[1;32mD:\\git\\PyRIT-internal\\PyRIT\\pyrit\\prompt_target\\openai\\openai_completion_target.py:69\u001b[0m, in \u001b[0;36mOpenAICompletionTarget.__init__\u001b[1;34m(self, max_tokens, temperature, top_p, presence_penalty, frequency_penalty, n, *args, **kwargs)\u001b[0m\n\u001b[0;32m     26\u001b[0m \u001b[38;5;28;01mdef\u001b[39;00m\u001b[38;5;250m \u001b[39m\u001b[38;5;21m__init__\u001b[39m(\n\u001b[0;32m     27\u001b[0m     \u001b[38;5;28mself\u001b[39m,\n\u001b[0;32m     28\u001b[0m     max_tokens: Optional[\u001b[38;5;28mint\u001b[39m] \u001b[38;5;241m=\u001b[39m \u001b[38;5;28;01mNone\u001b[39;00m,\n\u001b[1;32m   (...)\u001b[0m\n\u001b[0;32m     35\u001b[0m     \u001b[38;5;241m*\u001b[39m\u001b[38;5;241m*\u001b[39mkwargs,\n\u001b[0;32m     36\u001b[0m ):\n\u001b[0;32m     37\u001b[0m \u001b[38;5;250m    \u001b[39m\u001b[38;5;124;03m\"\"\"\u001b[39;00m\n\u001b[0;32m     38\u001b[0m \u001b[38;5;124;03m    Args:\u001b[39;00m\n\u001b[0;32m     39\u001b[0m \u001b[38;5;124;03m        model_name (str, Optional): The name of the model.\u001b[39;00m\n\u001b[1;32m   (...)\u001b[0m\n\u001b[0;32m     66\u001b[0m \u001b[38;5;124;03m        n (int, Optional): How many completions to generate for each prompt.\u001b[39;00m\n\u001b[0;32m     67\u001b[0m \u001b[38;5;124;03m    \"\"\"\u001b[39;00m\n\u001b[1;32m---> 69\u001b[0m     \u001b[38;5;28;43msuper\u001b[39;49m\u001b[43m(\u001b[49m\u001b[43m)\u001b[49m\u001b[38;5;241;43m.\u001b[39;49m\u001b[38;5;21;43m__init__\u001b[39;49m\u001b[43m(\u001b[49m\u001b[38;5;241;43m*\u001b[39;49m\u001b[43margs\u001b[49m\u001b[43m,\u001b[49m\u001b[43m \u001b[49m\u001b[38;5;241;43m*\u001b[39;49m\u001b[38;5;241;43m*\u001b[39;49m\u001b[43mkwargs\u001b[49m\u001b[43m)\u001b[49m\n\u001b[0;32m     71\u001b[0m     \u001b[38;5;28mself\u001b[39m\u001b[38;5;241m.\u001b[39m_max_tokens \u001b[38;5;241m=\u001b[39m max_tokens\n\u001b[0;32m     72\u001b[0m     \u001b[38;5;28mself\u001b[39m\u001b[38;5;241m.\u001b[39m_temperature \u001b[38;5;241m=\u001b[39m temperature\n",
      "File \u001b[1;32mD:\\git\\PyRIT-internal\\PyRIT\\pyrit\\prompt_target\\openai\\openai_target.py:85\u001b[0m, in \u001b[0;36mOpenAITarget.__init__\u001b[1;34m(self, model_name, endpoint, api_key, headers, use_aad_auth, api_version, max_requests_per_minute, httpx_client_kwargs)\u001b[0m\n\u001b[0;32m     80\u001b[0m \u001b[38;5;28mself\u001b[39m\u001b[38;5;241m.\u001b[39m_set_openai_env_configuration_vars()\n\u001b[0;32m     82\u001b[0m \u001b[38;5;28mself\u001b[39m\u001b[38;5;241m.\u001b[39m_model_name: \u001b[38;5;28mstr\u001b[39m \u001b[38;5;241m=\u001b[39m default_values\u001b[38;5;241m.\u001b[39mget_non_required_value(\n\u001b[0;32m     83\u001b[0m     env_var_name\u001b[38;5;241m=\u001b[39m\u001b[38;5;28mself\u001b[39m\u001b[38;5;241m.\u001b[39mmodel_name_environment_variable, passed_value\u001b[38;5;241m=\u001b[39mmodel_name\n\u001b[0;32m     84\u001b[0m )\n\u001b[1;32m---> 85\u001b[0m \u001b[38;5;28mself\u001b[39m\u001b[38;5;241m.\u001b[39m_endpoint \u001b[38;5;241m=\u001b[39m \u001b[43mdefault_values\u001b[49m\u001b[38;5;241;43m.\u001b[39;49m\u001b[43mget_required_value\u001b[49m\u001b[43m(\u001b[49m\n\u001b[0;32m     86\u001b[0m \u001b[43m    \u001b[49m\u001b[43menv_var_name\u001b[49m\u001b[38;5;241;43m=\u001b[39;49m\u001b[38;5;28;43mself\u001b[39;49m\u001b[38;5;241;43m.\u001b[39;49m\u001b[43mendpoint_environment_variable\u001b[49m\u001b[43m,\u001b[49m\u001b[43m \u001b[49m\u001b[43mpassed_value\u001b[49m\u001b[38;5;241;43m=\u001b[39;49m\u001b[43mendpoint\u001b[49m\n\u001b[0;32m     87\u001b[0m \u001b[43m\u001b[49m\u001b[43m)\u001b[49m\u001b[38;5;241m.\u001b[39mrstrip(\u001b[38;5;124m\"\u001b[39m\u001b[38;5;124m/\u001b[39m\u001b[38;5;124m\"\u001b[39m)\n\u001b[0;32m     89\u001b[0m \u001b[38;5;28mself\u001b[39m\u001b[38;5;241m.\u001b[39m_api_key \u001b[38;5;241m=\u001b[39m api_key\n\u001b[0;32m     90\u001b[0m \u001b[38;5;28mself\u001b[39m\u001b[38;5;241m.\u001b[39m_token_provider: Optional[Callable[[], \u001b[38;5;28mstr\u001b[39m]] \u001b[38;5;241m=\u001b[39m \u001b[38;5;28;01mNone\u001b[39;00m\n",
      "File \u001b[1;32mD:\\git\\PyRIT-internal\\PyRIT\\pyrit\\common\\default_values.py:34\u001b[0m, in \u001b[0;36mget_required_value\u001b[1;34m(env_var_name, passed_value)\u001b[0m\n\u001b[0;32m     31\u001b[0m \u001b[38;5;28;01mif\u001b[39;00m value:\n\u001b[0;32m     32\u001b[0m     \u001b[38;5;28;01mreturn\u001b[39;00m value\n\u001b[1;32m---> 34\u001b[0m \u001b[38;5;28;01mraise\u001b[39;00m \u001b[38;5;167;01mValueError\u001b[39;00m(\u001b[38;5;124mf\u001b[39m\u001b[38;5;124m\"\u001b[39m\u001b[38;5;124mEnvironment variable \u001b[39m\u001b[38;5;132;01m{\u001b[39;00menv_var_name\u001b[38;5;132;01m}\u001b[39;00m\u001b[38;5;124m is required\u001b[39m\u001b[38;5;124m\"\u001b[39m)\n",
      "\u001b[1;31mValueError\u001b[0m: Environment variable OPENAI_COMPLETEION_ENDPOINT is required"
     ]
    }
   ],
   "source": [
    "from pyrit.common import IN_MEMORY, initialize_pyrit\n",
    "from pyrit.orchestrator import PromptSendingOrchestrator\n",
    "from pyrit.prompt_target import OpenAICompletionTarget\n",
    "\n",
    "initialize_pyrit(memory_db_type=IN_MEMORY)\n",
    "\n",
    "# Note that max_tokens will default to 16 for completions, so you may want to set the upper limit of allowed tokens for a longer response.\n",
    "target = OpenAICompletionTarget(max_tokens=2048)\n",
    "\n",
    "orchestrator = PromptSendingOrchestrator(objective_target=target)\n",
    "response = await orchestrator.send_prompts_async(prompt_list=[\"Hello! Who are you?\"])  # type: ignore\n",
    "await orchestrator.print_conversations_async()  # type: ignore"
   ]
  }
 ],
 "metadata": {
  "jupytext": {
   "cell_metadata_filter": "-all"
  },
  "kernelspec": {
   "display_name": "pyrit-312",
   "language": "python",
   "name": "python3"
  },
  "language_info": {
   "codemirror_mode": {
    "name": "ipython",
    "version": 3
   },
   "file_extension": ".py",
   "mimetype": "text/x-python",
   "name": "python",
   "nbconvert_exporter": "python",
   "pygments_lexer": "ipython3",
   "version": "3.12.8"
  }
 },
 "nbformat": 4,
 "nbformat_minor": 5
}
