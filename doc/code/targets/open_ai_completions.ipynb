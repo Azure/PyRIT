{
 "cells": [
  {
   "cell_type": "markdown",
   "id": "0",
   "metadata": {},
   "source": [
    "# OpenAI Completions - optional\n",
    "\n",
    "Before you begin, ensure you are setup with the correct version of PyRIT and have the applicable secrets configured as described [here](../../setup/populating_secrets.md).\n",
    "\n",
    "Once you are configured, then you will be able to get completions for your text."
   ]
  },
  {
   "cell_type": "code",
   "execution_count": null,
   "id": "1",
   "metadata": {},
   "outputs": [
    {
     "name": "stdout",
     "output_type": "stream",
     "text": [
      "\u001b[1m\u001b[34muser: Hello! Who are you?\n",
      "\u001b[22m\u001b[33massistant:  What's your name?\n",
      "\n",
      "Mi chiamo Cinzia:e...\n",
      "\n",
      "Hello! What's your name?\n",
      "\n",
      "What's your favourite subject?\n",
      "\n",
      "Cinema italiano\n",
      "\n",
      "What's your favourite thing to do outside school?\n",
      "\n",
      "Going to the gym\n",
      "\n",
      "Esperienza Straordinaria...\n",
      "\n",
      "Sara Borgo – Rossendale Teacher\n",
      "\n",
      "I have always been heard talking about Time School and their wonderful job they do; so, it was impossible for me not to go to meet them and see by myself how they work.\n",
      "\n",
      "The welcoming was very warm and so were the people there: I felt like being at home.\n",
      "\n",
      "The idea I thought was incredible and I had a very...\n",
      "\n",
      "Ciao Jessica,\n",
      "\n",
      "Grazie Marco per la mail.\n",
      "\n",
      "You are a very responsive teacher.\n",
      "\n",
      "Grazie ancora, ciao a presto, Attendo altri vari aggiornamenti di Mattia.\n",
      "\n",
      "Ciao\n",
      "\n",
      "Megan Patricia Rizzo ALMOST MADEITHA RIZZO 3H 2013-2014\n",
      "\n",
      "Italian\n",
      "\n",
      "Hello!\n",
      "\n",
      "Welcome Mattea, you are now an Italian schoolgirl and a fantastic hero!\n",
      "\n",
      "What is the most beautiful thing you do for me?\n",
      "\n",
      "I will help you play with LeLeslie with you and always sleep with you.\n",
      "\n",
      "LeLeslie is really afraid of Violet. What is the thing you are most worried about?\n",
      "\n",
      "LeLeslie is afraid of Violet, you'll have to protect yourself there because LeLeslie may be worried. As I grow up, LeLeslie is becoming a mother.\n",
      "\n",
      "what happened to Granny? It's so nice and I have nowhere to see you.\n",
      "\n",
      "La storia di Bianca Cavanna: dalla Sampierdarena a Kong, dove tutto è possibile.\n",
      "\n",
      "You know schools have an amazing new website\n",
      "\n",
      "Now we are moving into the fine art world and planning for a much larger project for China.\n",
      "\n",
      "I’m definitely very excited to be moving into producing fine art. I plan to keep focussing on hand painted silk, which of course is another Japanese tradition that I’m deeply rooted in.\n",
      "\n",
      "Come and learn Italian while playing, dancing and having fun with “Francesco Frog” and his friends at “Time School”.\n",
      "\n",
      "Learning colours, days, months, school subjects and seasons. Also revision, phonics and grammar. Fun, activities, songs and more.\n",
      "\n",
      "English speaking staff.\n",
      "\n",
      "£11 per session (am) or £20 for 2 hours (1 to 6 children) including time for snacks and drinks.\n",
      "\u001b[22m\u001b[39mConversation ID: 7a35e9b6-8acc-4c1a-a159-ed35c190552a\n"
     ]
    }
   ],
   "source": [
    "from pyrit.common import IN_MEMORY, initialize_pyrit\n",
    "from pyrit.orchestrator import PromptSendingOrchestrator\n",
    "from pyrit.prompt_target import OpenAICompletionTarget\n",
    "\n",
    "initialize_pyrit(memory_db_type=IN_MEMORY)\n",
    "\n",
    "# Note that max_tokens will default to 16 for completions, so you may want to set the upper limit of allowed tokens for a longer response.\n",
    "target = OpenAICompletionTarget(max_tokens=2048)\n",
    "\n",
    "orchestrator = PromptSendingOrchestrator(objective_target=target)\n",
    "response = await orchestrator.send_prompts_async(prompt_list=[\"Hello! Who are you?\"])  # type: ignore\n",
    "await orchestrator.print_conversations_async()  # type: ignore"
   ]
  },
  {
   "cell_type": "code",
   "execution_count": null,
   "id": "2",
   "metadata": {},
   "outputs": [],
   "source": [
    "target.dispose_db_engine()"
   ]
  }
 ],
 "metadata": {
  "jupytext": {
   "cell_metadata_filter": "-all"
  },
  "kernelspec": {
   "display_name": "pyrit-dev",
   "language": "python",
   "name": "python3"
  },
  "language_info": {
   "codemirror_mode": {
    "name": "ipython",
    "version": 3
   },
   "file_extension": ".py",
   "mimetype": "text/x-python",
   "name": "python",
   "nbconvert_exporter": "python",
   "pygments_lexer": "ipython3",
   "version": "3.11.9"
  }
 },
 "nbformat": 4,
 "nbformat_minor": 5
}
