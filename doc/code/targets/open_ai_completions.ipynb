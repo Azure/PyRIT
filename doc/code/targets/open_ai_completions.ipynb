{
 "cells": [
  {
   "cell_type": "markdown",
   "id": "4725cd0b",
   "metadata": {},
   "source": [
    "## OpenAI Completions\n",
    "\n",
    "Before you begin, ensure you are setup with the correct version of PyRIT and have the applicable secrets configured as described [here](../../setup/).\n",
    "\n",
    "Once you are configured, then you will be able to get completions for your text. "
   ]
  },
  {
   "cell_type": "code",
   "execution_count": 1,
   "id": "edd1e909",
   "metadata": {
    "execution": {
     "iopub.execute_input": "2024-04-28T22:38:27.789323Z",
     "iopub.status.busy": "2024-04-28T22:38:27.789323Z",
     "iopub.status.idle": "2024-04-28T22:38:34.005106Z",
     "shell.execute_reply": "2024-04-28T22:38:34.005106Z"
    }
   },
   "outputs": [
    {
     "name": "stdout",
     "output_type": "stream",
     "text": [
      "{'__type__': 'OpenAICompletionTarget', '__module__': 'pyrit.prompt_target.openai.openai_completion_target'}: assistant:  What are you doing here? Answer me!\" answered the king, pointing his finger threateningly at him: \"Have you a trivial interest in this matter to come and seek my attention?\"\n",
      "\n",
      "\"No,\" answered Joshua timidly.\n",
      "\n",
      "\"Then why didn't you ask Mariamne?\" said Holofernes jeeringly.\n",
      "\n",
      "\"There was no one to answer\" the princess must have gone in that room with Batnennas Andrus to pray, while I have gone to look for her\"\n",
      "\n",
      "\"Where is Antonio?\" said Holofernes. \"Were they not together?\"\n",
      "\n",
      "\"No. I sought them everywhere\"\n",
      "\n",
      "\"You probably suspected Batnennas Andrus,\" said Holofernes, looking knowingly at both.\n",
      "\n",
      "Joshua bowed low before the king\n",
      "\n",
      "\"I have been living all day with Antonio,\" he then went on slowly and hesitatingly, but with perfect seriousness of purpose; \"I love him\"\n",
      "\n",
      "Holofernes came close to the young man \"Do you love me likewise?\" he asked insinuatingly. Joshua slightly changed color, cast down his eyes and did not answer But on second thoughts understood how many chances there were that Holofernes would immediately guess his feelings towards another and convinced himself that there could never be any use hiding anything from this king; it behooved him rather to do all he could towards winning his favor Silence! Holy silence! Heavenly silence! Thoughts were interviewing each other like angels In them voices spoke like melodies of paradise May the latter long continued on these peaceful islands where God's ministers play so pleasing an action onto make life beautiful Our world has need for such power as yours Joshuae. God willing; she intends giving you much\n",
      "\n",
      "\"How much do I intend giviugl hiw laveaiaiiM>y th* MeOr .¥?\n",
      "\n",
      "at him sternly: \"' Ten thousand pence should we ever regain a veil made out of daffodils or taros branches With ten thou- sand quires will she clothe her own dark face when thou lowest Its veil toward Aaronthore shalt thou carefully ungird It There He lies backward- wise on the mournful sand yielding pets moutlus oe\n",
      "\n",
      "Tartarus are thy swinve depths, waten feet slidest Thy side drops down That is all—Marriamne is dead!\"\n",
      "\n",
      "The eyesight followed oft excited princess downwards Slushshe slipped suffocating upon Rudoltus breast She crushed herself against moons For newest waitings —everything seems lost—ouryoung IsraelooebelngsallwithdeadlUteBtrlsllirlngaBlil -Allhl* goes wrong with us; la abasing our might'is falling torn pieces—f\n",
      "\n"
     ]
    }
   ],
   "source": [
    "from pyrit.common import default_values\n",
    "\n",
    "from pyrit.orchestrator.prompt_sending_orchestrator import PromptSendingOrchestrator\n",
    "from pyrit.prompt_target import OpenAICompletionTarget\n",
    "\n",
    "default_values.load_default_env()\n",
    "\n",
    "target = OpenAICompletionTarget()\n",
    "\n",
    "with PromptSendingOrchestrator(prompt_target=target) as orchestrator:\n",
    "    response = await orchestrator.send_prompts_async(prompt_list=[\"Hello! Who are you?\"]) # type: ignore\n",
    "    print(response[0])"
   ]
  },
  {
   "cell_type": "code",
   "execution_count": null,
   "id": "8a25b2e7",
   "metadata": {},
   "outputs": [],
   "source": []
  }
 ],
 "metadata": {
  "jupytext": {
   "cell_metadata_filter": "-all"
  },
  "kernelspec": {
   "display_name": "pyrit-311",
   "language": "python",
   "name": "python3"
  },
  "language_info": {
   "codemirror_mode": {
    "name": "ipython",
    "version": 3
   },
   "file_extension": ".py",
   "mimetype": "text/x-python",
   "name": "python",
   "nbconvert_exporter": "python",
   "pygments_lexer": "ipython3",
   "version": "3.11.9"
  }
 },
 "nbformat": 4,
 "nbformat_minor": 5
}
