{
 "cells": [
  {
   "cell_type": "markdown",
   "id": "0190c4d3",
   "metadata": {
    "lines_to_next_cell": 0
   },
   "source": [
    "# Introduction\n",
    "\n",
    "This code shows how to use Azure Machine Learning (AML) managed online endpoints with PyRIT.\n",
    "\n",
    "## Prerequisites\n",
    "\n",
    "1. **Deploy an AML-Managed Online Endpoint:** Confirm that an Azure Machine Learning managed online endpoint is\n",
    "     already deployed.\n",
    "\n",
    "1. **Obtain the API Key:**\n",
    "   - Navigate to the AML Studio.\n",
    "   - Go to the 'Endpoints' section.\n",
    "   - Retrieve the API key and endpoint URI.\n",
    "   <br> <img src=\"./../../assets/aml_managed_online_endpoint_api_key.png\" alt=\"aml_managed_online_endpoint_api_key.png\" height=\"400\"/> <br>\n",
    "\n",
    "1. **Set the Environment Variable:**\n",
    "   - Add the obtained API key to an environment variable named `AZURE_ML_KEY`.\n",
    "   - Add the obtained endpoint URI to an environment variable named `AZURE_ML_MANAGED_ENDPOINT`.\n",
    "\n",
    "## Create a AzureMLChatTarget\n",
    "\n",
    "After deploying a model and populating your env file, creating an endpoint is as simple as the following"
   ]
  },
  {
   "cell_type": "code",
   "execution_count": 1,
   "id": "d9ade9c9",
   "metadata": {
    "execution": {
     "iopub.execute_input": "2024-03-29T23:06:05.024170Z",
     "iopub.status.busy": "2024-03-29T23:06:05.024170Z",
     "iopub.status.idle": "2024-03-29T23:06:37.609217Z",
     "shell.execute_reply": "2024-03-29T23:06:37.609217Z"
    },
    "lines_to_next_cell": 2
   },
   "outputs": [
    {
     "data": {
      "text/plain": [
       "\"Hello! I'm here to help you with any questions you have about data structures and algorithms. Is there a particular concept or problem you'd like to discuss? I can provide explanations, examples, and sample code in a variety of programming languages. Just let me know how I can assist you.\\n\\nIn the meantime, here's a brief overview of some common data structures and algorithms:\\n\\nData Structures:\\n\\n* Arrays: a collection of elements, all of the same type, stored in contiguous memory locations.\\n* Linked Lists: a collection of nodes, each containing a data element and a pointer to the next node.\\n* Stacks: a Last-In-First-Out (LIFO) data structure that allows insertion and removal of elements at one end only, known as the top.\\n* Queues: a First-In-First-Out (FIFO) data structure that allows insertion at the rear and removal from the front.\\n* Trees: a hierarchical data structure consisting of nodes, where each node has a value and a list of references to other nodes (its children).\\n* Graphs: a data structure consisting of nodes (also called vertices) and edges that connect pairs of nodes.\\n\\nAlgorithms:\\n\\n* Sorting Algorithms: algorithms for rearranging a given array or list in ascending or descending order, such as bubble sort, insertion sort, merge sort, and quick sort.\\n* Search Algorithms: algorithms for finding an element in a given array or list, such as linear search and binary search.\\n* Dynamic Programming: a technique for solving optimization problems by breaking them down into smaller subproblems and solving each subproblem only once.\\n* Greedy Algorithms: algorithms that make the locally optimal choice at each step, hoping that these local choices will lead to a global optimum\""
      ]
     },
     "execution_count": 1,
     "metadata": {},
     "output_type": "execute_result"
    }
   ],
   "source": [
    "# Copyright (c) Microsoft Corporation.\n",
    "# Licensed under the MIT license.\n",
    "\n",
    "import uuid\n",
    "\n",
    "from pyrit.common import default_values\n",
    "from pyrit.prompt_target import AzureMLChatTarget\n",
    "\n",
    "\n",
    "default_values.load_default_env()\n",
    "\n",
    "with AzureMLChatTarget() as azure_ml_chat_target:\n",
    "    azure_ml_chat_target.send_prompt(normalized_prompt=\"Hello world!\", conversation_id=str(uuid.uuid4()), normalizer_id=None)"
   ]
  },
  {
   "cell_type": "markdown",
   "id": "9147904e",
   "metadata": {},
   "source": [
    "\n",
    "You can then use this cell anywhere you would use a `PromptTarget` object.\n",
    "For example, you can create a red teaming orchestrator and do the entire [Gandalf Demo](../demo/1_gandalf.ipynb) but use this AML model.\n",
    "This is also shown in the [Multiturn Demo](../demo/2_multiturn_strategies.ipynb)."
   ]
  }
 ],
 "metadata": {
  "jupytext": {
   "cell_metadata_filter": "-all"
  },
  "kernelspec": {
   "display_name": "pyrit-kernel",
   "language": "python",
   "name": "pyrit-kernel"
  },
  "language_info": {
   "codemirror_mode": {
    "name": "ipython",
    "version": 3
   },
   "file_extension": ".py",
   "mimetype": "text/x-python",
   "name": "python",
   "nbconvert_exporter": "python",
   "pygments_lexer": "ipython3",
   "version": "3.10.13"
  }
 },
 "nbformat": 4,
 "nbformat_minor": 5
}
