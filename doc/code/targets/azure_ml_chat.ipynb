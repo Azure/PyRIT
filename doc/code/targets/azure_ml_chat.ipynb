{
 "cells": [
  {
   "cell_type": "markdown",
   "id": "de9045b8",
   "metadata": {},
   "source": [
    "# Introduction\n",
    "\n",
    "This code shows how to use Azure Machine Learning (AML) managed online endpoints with PyRIT.\n",
    "\n",
    "## Prerequisites\n",
    "\n",
    "1. **Deploy an AML-Managed Online Endpoint:** Confirm that an Azure Machine Learning managed online endpoint is\n",
    "     already deployed.\n",
    "\n",
    "1. **Obtain the API Key:**\n",
    "   - Navigate to the AML Studio.\n",
    "   - Go to the 'Endpoints' section.\n",
    "   - Retrieve the API key and endpoint URI.\n",
    "   <br> <img src=\"./../../assets/aml_managed_online_endpoint_api_key.png\" alt=\"aml_managed_online_endpoint_api_key.png\" height=\"400\"/> <br>\n",
    "\n",
    "1. **Set the Environment Variable:**\n",
    "   - Add the obtained API key to an environment variable named `AZURE_ML_KEY`.\n",
    "   - Add the obtained endpoint URI to an environment variable named `AZURE_ML_MANAGED_ENDPOINT`.\n",
    "\n",
    "## Create a AzureMLChatTarget\n",
    "\n",
    "After deploying a model and populating your env file, creating an endpoint is as simple as the following"
   ]
  },
  {
   "cell_type": "code",
   "execution_count": 1,
   "id": "f158772e",
   "metadata": {
    "execution": {
     "iopub.execute_input": "2024-04-28T22:38:38.047299Z",
     "iopub.status.busy": "2024-04-28T22:38:38.047299Z",
     "iopub.status.idle": "2024-04-28T22:38:53.990876Z",
     "shell.execute_reply": "2024-04-28T22:38:53.990876Z"
    },
    "lines_to_next_cell": 2
   },
   "outputs": [
    {
     "name": "stdout",
     "output_type": "stream",
     "text": [
      "None: assistant: Hello! I'm here to help you with any data structure or algorithm questions you have. Do you have a particular problem or concept you'd like to discuss?\n",
      "\n",
      "In general, data structures are ways of organizing and storing data in a computer so that they can be accessed and worked with efficiently. They define the relationship between the data, and the operations that can be performed on the data. Examples of data structures include arrays, linked lists, stacks, queues, trees, and graphs.\n",
      "\n",
      "Algorithms, on the other hand, are a set of steps that are followed to solve a specific problem. They can be implemented using one or more data structures. Examples of algorithms include searching algorithms, sorting algorithms, graph algorithms, and dynamic programming algorithms.\n",
      "\n",
      "Both data structures and algorithms are fundamental concepts in computer science and are used in a wide variety of applications, from operating systems and databases to web browsers and mobile apps.\n"
     ]
    }
   ],
   "source": [
    "# Copyright (c) Microsoft Corporation.\n",
    "# Licensed under the MIT license.\n",
    "\n",
    "from pyrit.common import default_values\n",
    "from pyrit.models import PromptRequestPiece\n",
    "from pyrit.prompt_target import AzureMLChatTarget\n",
    "\n",
    "\n",
    "default_values.load_default_env()\n",
    "\n",
    "request = PromptRequestPiece(\n",
    "    role=\"user\",\n",
    "    original_value=\"Hello world!\",\n",
    ").to_prompt_request_response()\n",
    "\n",
    "with AzureMLChatTarget() as azure_ml_chat_target:\n",
    "    print(azure_ml_chat_target.send_prompt(prompt_request=request))"
   ]
  },
  {
   "cell_type": "markdown",
   "id": "60f7ea8a",
   "metadata": {},
   "source": [
    "\n",
    "You can then use this cell anywhere you would use a `PromptTarget` object.\n",
    "For example, you can create a red teaming orchestrator and do the entire [Gandalf Demo](../demo/1_gandalf.ipynb) but use this AML model.\n",
    "This is also shown in the [Multiturn Demo](../demo/2_multiturn_strategies.ipynb)."
   ]
  }
 ],
 "metadata": {
  "jupytext": {
   "cell_metadata_filter": "-all"
  },
  "kernelspec": {
   "display_name": "pyrit-dev",
   "language": "python",
   "name": "python3"
  },
  "language_info": {
   "codemirror_mode": {
    "name": "ipython",
    "version": 3
   },
   "file_extension": ".py",
   "mimetype": "text/x-python",
   "name": "python",
   "nbconvert_exporter": "python",
   "pygments_lexer": "ipython3",
   "version": "3.10.13"
  }
 },
 "nbformat": 4,
 "nbformat_minor": 5
}
