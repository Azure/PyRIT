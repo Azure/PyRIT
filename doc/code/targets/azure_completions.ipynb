{
 "cells": [
  {
   "cell_type": "markdown",
   "id": "4725cd0b",
   "metadata": {},
   "source": [
    "## Introduction\n",
    "\n",
    "This Jupyter notebook gives an introduction on how to use PyRIT to abstract dealing\n",
    "with different [embedding](https://learn.microsoft.com/en-us/azure/ai-services/openai/concepts/understand-embeddings) and [completion](https://learn.microsoft.com/en-us/azure/ai-services/openai/how-to/completions) endpoints, and gives an introduction\n",
    "for how to add custom endpoints for your own use cases.\n",
    "\n",
    "There will be three main parts to this notebook:\n",
    "1. Work with Azure OpenAI Completions\n",
    "2. Work with Azure OpenAI Embeddings\n",
    "3. Embeddings serialization\n",
    "\n",
    "Before starting this, make sure you are [set up and authenticated to use Azure OpenAI endpoints](../../setup/setup_azure.md)"
   ]
  },
  {
   "cell_type": "code",
   "execution_count": 1,
   "id": "69a2b82a",
   "metadata": {
    "execution": {
     "iopub.execute_input": "2024-04-28T22:38:27.763960Z",
     "iopub.status.busy": "2024-04-28T22:38:27.763960Z",
     "iopub.status.idle": "2024-04-28T22:38:27.789323Z",
     "shell.execute_reply": "2024-04-28T22:38:27.789323Z"
    }
   },
   "outputs": [],
   "source": [
    "# Copyright (c) Microsoft Corporation.\n",
    "# Licensed under the MIT license.\n",
    "\n",
    "import os\n",
    "from pyrit.common import default_values\n",
    "\n",
    "default_values.load_default_env()\n",
    "\n",
    "api_base = os.environ.get(\"AZURE_OPENAI_COMPLETION_ENDPOINT\")\n",
    "api_key = os.environ.get(\"AZURE_OPENAI_COMPLETION_KEY\")\n",
    "deployment_name = os.environ.get(\"AZURE_OPENAI_COMPLETION_DEPLOYMENT\")"
   ]
  },
  {
   "cell_type": "markdown",
   "id": "1d7c432d",
   "metadata": {},
   "source": [
    "## Azure OpenAI Completions\n",
    "\n",
    "Once you are configured, then you will be able to get completions for your text. The\n",
    "`complete_text()` response returns a wrapper for the OpenAI completion API that will allow you to\n",
    "easily get all the different fields."
   ]
  },
  {
   "cell_type": "code",
   "execution_count": 2,
   "id": "edd1e909",
   "metadata": {
    "execution": {
     "iopub.execute_input": "2024-04-28T22:38:27.789323Z",
     "iopub.status.busy": "2024-04-28T22:38:27.789323Z",
     "iopub.status.idle": "2024-04-28T22:38:34.005106Z",
     "shell.execute_reply": "2024-04-28T22:38:34.005106Z"
    }
   },
   "outputs": [
    {
     "name": "stdout",
     "output_type": "stream",
     "text": [
      "(' Are you independent or do you work in an organization? I am Yushan and i have studied Visual Communication Design for four years . it is easy to say what i want to become. but first , TELL ME ABOUT YOURSELF !\\n'\n",
      " '\\n'\n",
      " 'Learn more\\n'\n",
      " '\\n'\n",
      " 'When was the first time a person uses a mobile phone ? Was it normal for him/her at that time?\\n'\n",
      " '\\n'\n",
      " 'Thank you for unsigned message.\\n'\n",
      " '\\n'\n",
      " '?>\\n'\n",
      " '\\n'\n",
      " 'please help me understand something\\n'\n",
      " '\\n'\n",
      " \"What are the bandwidth requirements like on either audio only platforms or video/only platforms? Like Dreamwidth, Wordpress, VocalWWW, Reddit. I have a friend who has interstitial cystitis, which apparently makes her entire body sick and she can't transition her wifi very \"\n",
      " 'often.\\n'\n",
      " '\\n'\n",
      " 'Do You need Dedicated vpn/camera sensor sharing??\\n'\n",
      " '\\n'\n",
      " \"let's earn 1000' of dollars..(margin!)\\n\"\n",
      " '\\n'\n",
      " \"Let's Finance_international News ०'ll give you 100% return within one week !!\\n\"\n",
      " '\\n'\n",
      " '$3 million ..12 months return 60%.. from your $200k investment dollar InFlow security finance …\\n'\n",
      " '\\n'\n",
      " 'Your Investment revenue start flow From following Month minimum $150K/m..\\n'\n",
      " '\\n'\n",
      " 'inflation share by treaming token !! treams/gameplay injection fintech oxbtc nuke-Xcoin.cash Maro (BTC) Systemasic SatateTokenY PulsarCry QuickMon HatchCloud….\\n'\n",
      " '\\n'\n",
      " 'Unile utilizing above layer provide business & investors with intpurple profitability;\\n'\n",
      " '\\n'\n",
      " 'thanks \"Dave Müller\" !!\\n'\n",
      " '\\n'\n",
      " 'CONTACT Channel:\\n'\n",
      " '\\n'\n",
      " 'discord hockeyisheretostay #7204\\n'\n",
      " '\\n'\n",
      " 'parzival dextrocuse \"#4268\"\\n'\n",
      " '\\n'\n",
      " 'monmanforlife axelapostolate \"#4412\"\\n'\n",
      " '\\n'\n",
      " 'OFFICIAL CHANNEL: https://discord.gg/gxzINKM ==========')\n"
     ]
    }
   ],
   "source": [
    "from pprint import pprint\n",
    "from pyrit.prompt_target import AzureOpenAICompletionTarget\n",
    "from pyrit.models import PromptRequestPiece\n",
    "\n",
    "\n",
    "request = PromptRequestPiece(\n",
    "    role=\"user\",\n",
    "    original_value=\"Hello! Who are you?\",\n",
    ").to_prompt_request_response()\n",
    "\n",
    "with AzureOpenAICompletionTarget(api_key=api_key, endpoint=api_base, deployment_name=deployment_name) as target:\n",
    "    response = await target.send_prompt_async(prompt_request=request)  # type: ignore\n",
    "    pprint(response.request_pieces[0].converted_value, width=280, compact=True)"
   ]
  },
  {
   "cell_type": "code",
   "execution_count": null,
   "id": "8a25b2e7",
   "metadata": {},
   "outputs": [],
   "source": []
  }
 ],
 "metadata": {
  "jupytext": {
   "cell_metadata_filter": "-all"
  },
  "kernelspec": {
   "display_name": "pyrit-dev",
   "language": "python",
   "name": "python3"
  },
  "language_info": {
   "codemirror_mode": {
    "name": "ipython",
    "version": 3
   },
   "file_extension": ".py",
   "mimetype": "text/x-python",
   "name": "python",
   "nbconvert_exporter": "python",
   "pygments_lexer": "ipython3",
   "version": "3.10.13"
  }
 },
 "nbformat": 4,
 "nbformat_minor": 5
}
