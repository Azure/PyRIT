{
 "cells": [
  {
   "cell_type": "markdown",
   "id": "4fdf1df6",
   "metadata": {},
   "source": [
    "## Introduction\n",
    "\n",
    "This Jupyter notebook gives an introduction on how to use PyRIT to abstract dealing\n",
    "with different [embedding](https://learn.microsoft.com/en-us/azure/ai-services/openai/concepts/understand-embeddings) and [completion](https://learn.microsoft.com/en-us/azure/ai-services/openai/how-to/completions) endpoints, and gives an introduction\n",
    "for how to add custom endpoints for your own use cases.\n",
    "\n",
    "There will be three main parts to this notebook:\n",
    "1. Work with Azure OpenAI Completions\n",
    "2. Work with Azure OpenAI Embeddings\n",
    "3. Embeddings serialization\n",
    "\n",
    "Before starting this, make sure you are [set up and authenticated to use Azure OpenAI endpoints](../../setup/setup_azure.md)"
   ]
  },
  {
   "cell_type": "code",
   "execution_count": 1,
   "id": "e4270231",
   "metadata": {
    "execution": {
     "iopub.execute_input": "2024-04-25T05:14:03.359989Z",
     "iopub.status.busy": "2024-04-25T05:14:03.359989Z",
     "iopub.status.idle": "2024-04-25T05:14:03.454646Z",
     "shell.execute_reply": "2024-04-25T05:14:03.452292Z"
    }
   },
   "outputs": [],
   "source": [
    "# Copyright (c) Microsoft Corporation.\n",
    "# Licensed under the MIT license.\n",
    "\n",
    "import os\n",
    "from pyrit.common import default_values\n",
    "\n",
    "default_values.load_default_env()\n",
    "\n",
    "api_base = os.environ.get(\"AZURE_OPENAI_COMPLETION_ENDPOINT\")\n",
    "api_key = os.environ.get(\"AZURE_OPENAI_COMPLETION_KEY\")\n",
    "deployment_name = os.environ.get(\"AZURE_OPENAI_COMPLETION_DEPLOYMENT\")"
   ]
  },
  {
   "cell_type": "markdown",
   "id": "adb55f80",
   "metadata": {},
   "source": [
    "## Azure OpenAI Completions\n",
    "\n",
    "Once you are configured, then you will be able to get completions for your text. The\n",
    "`complete_text()` response returns a wrapper for the OpenAI completion API that will allow you to\n",
    "easily get all the different fields."
   ]
  },
  {
   "cell_type": "code",
   "execution_count": 2,
   "id": "ee5d60cd",
   "metadata": {
    "execution": {
     "iopub.execute_input": "2024-04-25T05:14:03.460767Z",
     "iopub.status.busy": "2024-04-25T05:14:03.460767Z",
     "iopub.status.idle": "2024-04-25T05:14:19.744275Z",
     "shell.execute_reply": "2024-04-25T05:14:19.744275Z"
    }
   },
   "outputs": [
    {
     "name": "stdout",
     "output_type": "stream",
     "text": [
      "(\" If you haven't watched reading J-ames, check out part one which you find in the card above or link in our bio. But let quickly catch you up on how tiny I was found, and what it took to ultimately redeem my heart. Here we go! ____________________________________ So how did a \"\n",
      " 'baby… Continue reading Episode 3: Rescue\\n'\n",
      " '\\n'\n",
      " \"Hello Who are you? If you don't know who I am yet, please take few miutes and read this post... Reading-James : Episod\\n\"\n",
      " '\\n'\n",
      " 'If I stretch my right hand towards you now and reach across strong will boundaries asking strongly for your company on this personal journey of yours... What would be your next move? Please wait before sulking and unfollowing SportUs. Let me explain... A little bit if History '\n",
      " 'for those not following me long enough -SpoUs N1… Continue reading The Cricket Season')\n"
     ]
    }
   ],
   "source": [
    "from pprint import pprint\n",
    "from pyrit.prompt_target import AzureOpenAICompletionTarget\n",
    "from pyrit.models import PromptRequestPiece\n",
    "\n",
    "\n",
    "request = PromptRequestPiece(\n",
    "    role=\"user\",\n",
    "    original_prompt_text=\"Hello! Who are you?\",\n",
    ").to_prompt_request_response()\n",
    "\n",
    "with AzureOpenAICompletionTarget(\n",
    "    api_key=api_key,\n",
    "    endpoint=api_base,\n",
    "    deployment_name=deployment_name\n",
    ") as target:\n",
    "    response = await target.send_prompt_async(prompt_request=request)\n",
    "    pprint(response.request_pieces[0].converted_prompt_text, width=280, compact=True)"
   ]
  }
 ],
 "metadata": {
  "jupytext": {
   "cell_metadata_filter": "-all"
  },
  "kernelspec": {
   "display_name": "pyrit-python310-deps",
   "language": "python",
   "name": "pyrit-python310-deps"
  },
  "language_info": {
   "codemirror_mode": {
    "name": "ipython",
    "version": 3
   },
   "file_extension": ".py",
   "mimetype": "text/x-python",
   "name": "python",
   "nbconvert_exporter": "python",
   "pygments_lexer": "ipython3",
   "version": "3.10.14"
  }
 },
 "nbformat": 4,
 "nbformat_minor": 5
}
