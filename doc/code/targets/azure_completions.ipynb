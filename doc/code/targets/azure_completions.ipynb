{
 "cells": [
  {
   "cell_type": "markdown",
   "id": "4725cd0b",
   "metadata": {},
   "source": [
    "## Azure OpenAI Completions\n",
    "\n",
    "Before you begin, ensure you are setup with the correct version of PyRIT and have the applicable secrets configured as described [here](../../setup/).\n",
    "\n",
    "Once you are configured, then you will be able to get completions for your text. "
   ]
  },
  {
   "cell_type": "code",
   "execution_count": 1,
   "id": "edd1e909",
   "metadata": {
    "execution": {
     "iopub.execute_input": "2024-04-28T22:38:27.789323Z",
     "iopub.status.busy": "2024-04-28T22:38:27.789323Z",
     "iopub.status.idle": "2024-04-28T22:38:34.005106Z",
     "shell.execute_reply": "2024-04-28T22:38:34.005106Z"
    }
   },
   "outputs": [
    {
     "name": "stdout",
     "output_type": "stream",
     "text": [
      "{'__type__': 'AzureOpenAICompletionTarget', '__module__': 'pyrit.prompt_target.azure_openai_completion_target'}: assistant: » a lovely older ball person with a number of gold rings on her fingers asked. I assumed she wanted my name. «I’m Kathy, please.» She clicked on the tacky black keyboard and started HELLO [picture] , FLY [picture] HER HOME to me in Chinese.\n",
      "\n",
      "«What did you say?» I took out my camera and told her to send me several pictures, one at time.\n",
      "\n",
      "After the Camera 1 digit from the keypad disappeared:\n",
      "\n",
      "Just landed in VK from SIN. You remember?\n",
      "\n",
      "Send more! [pictured immediately]\n",
      "\n",
      "Thanks for all your help with this pause in Hong Kong.\n",
      "\n",
      "Great Smile! Send now, please!\n",
      "\n",
      "[me: thanks:] Send later if it’s incriminating)\n",
      "\n",
      "If that would be viewed as an interlude, here is how one defined a conversation about the estimated per capita income in their respective countries (month): NZ $1K; AU $1.3 K; NZ $4 K; USA $US8K (NZ vs US stars converted to US$).\n",
      "\n",
      "**A memento\n",
      "\n",
      "C:\\ScholarNotebook\\2011Passages\\LetterExporttoGoogleDocs.txt… Document has been created…\n",
      "\n",
      "... Read more »\n",
      "\n",
      "Download\n"
     ]
    }
   ],
   "source": [
    "import os\n",
    "from pyrit.common import default_values\n",
    "\n",
    "from pyrit.orchestrator.prompt_sending_orchestrator import PromptSendingOrchestrator\n",
    "from pyrit.prompt_target import AzureOpenAICompletionTarget\n",
    "\n",
    "default_values.load_default_env()\n",
    "\n",
    "api_base = os.environ.get(\"AZURE_OPENAI_COMPLETION_ENDPOINT\")\n",
    "api_key = os.environ.get(\"AZURE_OPENAI_COMPLETION_KEY\")\n",
    "deployment_name = os.environ.get(\"AZURE_OPENAI_COMPLETION_DEPLOYMENT\")\n",
    "\n",
    "\n",
    "target = AzureOpenAICompletionTarget(api_key=api_key, endpoint=api_base, deployment_name=deployment_name)\n",
    "\n",
    "with PromptSendingOrchestrator(prompt_target=target) as orchestrator:\n",
    "    response = await orchestrator.send_prompts_async(prompt_list=[\"Hello! Who are you?\"]) # type: ignore\n",
    "    print(response[0])"
   ]
  },
  {
   "cell_type": "code",
   "execution_count": null,
   "id": "8a25b2e7",
   "metadata": {},
   "outputs": [],
   "source": []
  }
 ],
 "metadata": {
  "jupytext": {
   "cell_metadata_filter": "-all"
  },
  "kernelspec": {
   "display_name": "pyrit-dev",
   "language": "python",
   "name": "python3"
  },
  "language_info": {
   "codemirror_mode": {
    "name": "ipython",
    "version": 3
   },
   "file_extension": ".py",
   "mimetype": "text/x-python",
   "name": "python",
   "nbconvert_exporter": "python",
   "pygments_lexer": "ipython3",
   "version": "3.11.9"
  }
 },
 "nbformat": 4,
 "nbformat_minor": 5
}
