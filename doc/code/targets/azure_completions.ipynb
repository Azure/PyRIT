{
 "cells": [
  {
   "cell_type": "markdown",
   "id": "4725cd0b",
   "metadata": {},
   "source": [
    "## Introduction\n",
    "\n",
    "This Jupyter notebook gives an introduction on how to use PyRIT to abstract dealing\n",
    "with different [embedding](https://learn.microsoft.com/en-us/azure/ai-services/openai/concepts/understand-embeddings) and [completion](https://learn.microsoft.com/en-us/azure/ai-services/openai/how-to/completions) endpoints, and gives an introduction\n",
    "for how to add custom endpoints for your own use cases.\n",
    "\n",
    "There will be three main parts to this notebook:\n",
    "1. Work with Azure OpenAI Completions\n",
    "2. Work with Azure OpenAI Embeddings\n",
    "3. Embeddings serialization\n",
    "\n",
    "Before starting this, make sure you are [set up and authenticated to use Azure OpenAI endpoints](../../setup/setup_azure.md)"
   ]
  },
  {
   "cell_type": "code",
   "execution_count": 1,
   "id": "69a2b82a",
   "metadata": {
    "execution": {
     "iopub.execute_input": "2024-04-28T22:38:27.763960Z",
     "iopub.status.busy": "2024-04-28T22:38:27.763960Z",
     "iopub.status.idle": "2024-04-28T22:38:27.789323Z",
     "shell.execute_reply": "2024-04-28T22:38:27.789323Z"
    }
   },
   "outputs": [],
   "source": [
    "# Copyright (c) Microsoft Corporation.\n",
    "# Licensed under the MIT license.\n",
    "\n",
    "import os\n",
    "from pyrit.common import default_values\n",
    "\n",
    "default_values.load_default_env()\n",
    "\n",
    "api_base = os.environ.get(\"AZURE_OPENAI_COMPLETION_ENDPOINT\")\n",
    "api_key = os.environ.get(\"AZURE_OPENAI_COMPLETION_KEY\")\n",
    "deployment_name = os.environ.get(\"AZURE_OPENAI_COMPLETION_DEPLOYMENT\")"
   ]
  },
  {
   "cell_type": "markdown",
   "id": "1d7c432d",
   "metadata": {},
   "source": [
    "## Azure OpenAI Completions\n",
    "\n",
    "Once you are configured, then you will be able to get completions for your text. The\n",
    "`complete_text()` response returns a wrapper for the OpenAI completion API that will allow you to\n",
    "easily get all the different fields."
   ]
  },
  {
   "cell_type": "code",
   "execution_count": 2,
   "id": "edd1e909",
   "metadata": {
    "execution": {
     "iopub.execute_input": "2024-04-28T22:38:27.789323Z",
     "iopub.status.busy": "2024-04-28T22:38:27.789323Z",
     "iopub.status.idle": "2024-04-28T22:38:34.005106Z",
     "shell.execute_reply": "2024-04-28T22:38:34.005106Z"
    }
   },
   "outputs": [
    {
     "name": "stdout",
     "output_type": "stream",
     "text": [
      "(' I’m IGAD (Sheriff’s Office) girl, Sara and this is my partner in crime Kevin. We are a department of around 800 employees with over 2,000 lives on two campuses -- the University of Idaho (Moscow) and the International Research & Education Center in Kimberly, Idaho.\\n'\n",
      " '\\n'\n",
      " \"W hat's your favorite thing to d o for fun?\\n\"\n",
      " '\\n'\n",
      " 'If you were to look on my schedule it would say “something else”. If saying your job isn’t always work then my hobby is spending good, quality time with friends and family. That’s where most my non-work/IGAD/FBI buddy time goes. Whether it’s doing yard work together or '\n",
      " 'watching foreign films that aren’t readily available at our local theater.\\n'\n",
      " '\\n'\n",
      " 'What')\n"
     ]
    }
   ],
   "source": [
    "from pprint import pprint\n",
    "from pyrit.prompt_target import AzureOpenAICompletionTarget\n",
    "from pyrit.models import PromptRequestPiece\n",
    "\n",
    "\n",
    "request = PromptRequestPiece(\n",
    "    role=\"user\",\n",
    "    original_value=\"Hello! Who are you?\",\n",
    ").to_prompt_request_response()\n",
    "\n",
    "with AzureOpenAICompletionTarget(api_key=api_key, endpoint=api_base, deployment_name=deployment_name) as target:\n",
    "    response = await target.send_prompt_async(prompt_request=request)  # type: ignore\n",
    "    pprint(response.request_pieces[0].converted_value, width=280, compact=True)"
   ]
  }
 ],
 "metadata": {
  "jupytext": {
   "cell_metadata_filter": "-all"
  },
  "kernelspec": {
   "display_name": "pyrit-311",
   "language": "python",
   "name": "pyrit-311"
  },
  "language_info": {
   "codemirror_mode": {
    "name": "ipython",
    "version": 3
   },
   "file_extension": ".py",
   "mimetype": "text/x-python",
   "name": "python",
   "nbconvert_exporter": "python",
   "pygments_lexer": "ipython3",
   "version": "3.11.9"
  }
 },
 "nbformat": 4,
 "nbformat_minor": 5
}
