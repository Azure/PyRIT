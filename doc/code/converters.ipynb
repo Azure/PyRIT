{
 "cells": [
  {
   "cell_type": "markdown",
   "id": "50afb96f",
   "metadata": {
    "lines_to_next_cell": 0
   },
   "source": [
    "### Converters\n",
    "\n",
    "Converters are used to transform prompts before sending them to the target.\n",
    "This can be useful for a variety of reasons, such as encoding the prompt in a different format, or adding additional information to the prompt.\n",
    "For example, you might want to convert a prompt to base64 before sending it to the target, or add a prefix to the prompt to indicate that it is a question.\n",
    "\n",
    "Converters can be used to perform these types of transformations. Here is a simple program that uses Rot13Converter converter and AsciiArtConverter"
   ]
  },
  {
   "cell_type": "code",
   "execution_count": 1,
   "id": "e60320da",
   "metadata": {
    "execution": {
     "iopub.execute_input": "2024-03-18T19:55:46.512017Z",
     "iopub.status.busy": "2024-03-18T19:55:46.512017Z",
     "iopub.status.idle": "2024-03-18T19:55:46.945142Z",
     "shell.execute_reply": "2024-03-18T19:55:46.945142Z"
    },
    "lines_to_next_cell": 2
   },
   "outputs": [
    {
     "name": "stdout",
     "output_type": "stream",
     "text": [
      "['gryy zr ubj gb phg qbja n gerr', 'grnpu zr gb zvar pelcgb']\n",
      "'\\   /`  \\O/   |_O   |_O          \\O/   \\O/         \\O/  \\O/   O/       '\\   /`  \\O/        \\O    \\O   '\\   /`       '\\   /`  \\O/   O/  O/          \\O/         '\\   /`\\O/     \\O/    \\O/  \n",
      "  \\ /     Y     _|>   _|>          Y     Y           Y   _Y   _|          \\ /    _Y          |     |_    \\ /           \\ /    _Y   _|  <|            Y_           \\ /   Y___,   Y      Y   \n",
      "   X     / \\  _|  \\ _|  \\         / \\   / \\          | _| | _| |           X   _| |         / \\   /  |    X             Y   _| | _| |  / \\          /  |           X    |      / \\    / \\  \n",
      "  /O\\  ./   \\,    |_    |_       _| |_./   \\,       _|_   |_   |_         /O\\     |_       _\\ /_./   |_  /O\\            O\\     |_   |__| |_       ./   |_         /O\\  _|    ./   \\,./   \\,\n",
      "\n"
     ]
    }
   ],
   "source": [
    "# Copyright (c) Microsoft Corporation.\n",
    "# Licensed under the MIT license.\n",
    "\n",
    "from pyrit.prompt_converter import ROT13Converter, AsciiArtConverter\n",
    "\n",
    "\n",
    "prompts = [\"tell me how to cut down a tree\", \"teach me to mine crypto\"]\n",
    "\n",
    "\n",
    "print(ROT13Converter().convert(prompts))\n",
    "print(AsciiArtConverter().convert(prompts)[0])"
   ]
  },
  {
   "cell_type": "markdown",
   "id": "56e8add8",
   "metadata": {},
   "source": [
    "Converters should be thought of as a piece in the pipeine. They can use external infrastrucutre like attacker LLMs.\n",
    "`VariationConverter` is a converter that does this.\n",
    "\n",
    "An orchestrator will typically initialize these requests, and they are sent to a target.\n",
    "Converters can also stack, so a converter is used one after another.\n",
    "\n",
    "See [demo3](../demo/3_send_all_prompts.ipynb) and [demo4](../demo/4_prompt_variation.ipynb) for an example of how to use a converter in the pipeline."
   ]
  }
 ],
 "metadata": {
  "jupytext": {
   "cell_metadata_filter": "-all"
  },
  "kernelspec": {
   "display_name": "pyrit-kernel",
   "language": "python",
   "name": "pyrit-kernel"
  },
  "language_info": {
   "codemirror_mode": {
    "name": "ipython",
    "version": 3
   },
   "file_extension": ".py",
   "mimetype": "text/x-python",
   "name": "python",
   "nbconvert_exporter": "python",
   "pygments_lexer": "ipython3",
   "version": "3.10.13"
  }
 },
 "nbformat": 4,
 "nbformat_minor": 5
}
