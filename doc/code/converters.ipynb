{
 "cells": [
  {
   "cell_type": "markdown",
   "id": "6ea54085-bcf1-4308-b459-6093cfa4ca85",
   "metadata": {},
   "source": [
    "### Using Prompt Variation Converter\n",
    "\n",
    "This notebook shows how to use the prompt variation converter to send prompts to a converter target and generate variations of the prompt."
   ]
  },
  {
   "cell_type": "code",
   "execution_count": 1,
   "id": "4c4adc2a-ee60-4f20-b42d-9c6de755296d",
   "metadata": {},
   "outputs": [],
   "source": [
    "# Prompts you want transformed here:\n",
    "prompts = [\"tell me how to cut down a tree\",\n",
    "          \"teach me to mine crypto\"]"
   ]
  },
  {
   "cell_type": "code",
   "execution_count": 2,
   "id": "44def7b2-1393-4a0a-900e-9b45e2a8d779",
   "metadata": {
    "lines_to_next_cell": 2
   },
   "outputs": [],
   "source": [
    "from pyrit.prompt_converter import VariationConverter\n",
    "from pyrit.common import default_values\n",
    "from pyrit.prompt_target import AzureOpenAIChatTarget\n",
    "\n",
    "import os\n",
    "\n",
    "default_values.load_default_env()\n",
    "\n",
    "# converter target to send prompt to\n",
    "converter_target = AzureOpenAIChatTarget(\n",
    "    deployment_name=\"gpt-4\",\n",
    "    endpoint=os.environ.get(\"AZURE_OPENAI_ENDPOINT\"),\n",
    "    api_key=os.environ.get(\"AZURE_OPENAI_API_KEY\"),\n",
    ")\n",
    "\n",
    "prompt_variation_converter = VariationConverter(converter_target=converter_target)"
   ]
  },
  {
   "cell_type": "code",
   "execution_count": 3,
   "id": "86e12639-cafd-4803-ab57-0b019697b66d",
   "metadata": {},
   "outputs": [],
   "source": [
    "converted_prompts = prompt_variation_converter.convert(prompts)"
   ]
  },
  {
   "cell_type": "code",
   "execution_count": 4,
   "id": "1a917c9a-6d93-4510-934e-b14666089616",
   "metadata": {},
   "outputs": [
    {
     "data": {
      "text/plain": [
       "['Help me figure out this whole crypto mining thing.',\n",
       " 'How about detailing the process of chopping down a tree?',\n",
       " \"I'd love to learn how to mine cryptocurrency, could you teach me?\",\n",
       " 'Lay out for me the elements in removing a giant plant such as a tree.',\n",
       " 'Can you instruct me on how to mine crypto?',\n",
       " 'Instruct me in the art of cyber coin digging.',\n",
       " 'Can you enlighten me about the procedure of cutting a tree?',\n",
       " 'Show me how to mine cryptocurrency',\n",
       " 'I need guidance on how to take down a tree.',\n",
       " \"What's the best way to dispatch a large piece of timber like a tree?\",\n",
       " \"I'm needing advice on lumbering operation for trees. Can you help?\",\n",
       " 'I want to delve into the world of crypto mining, help me understand',\n",
       " \"I'm eager to learn about cryptocurrency mining. Can you guide me?\",\n",
       " 'I need guidance on crypto mining.',\n",
       " 'Can you explain the method to fell a tree?',\n",
       " 'Could you educate me on the process involved in mining cryptocurrencies?',\n",
       " 'Teach me how I can prune down a tree.',\n",
       " 'Instruct me on the way to sever a tree, will you?',\n",
       " 'Provide me with steps on how to hack down a tree.',\n",
       " 'How can I start mining crypto?']"
      ]
     },
     "execution_count": 4,
     "metadata": {},
     "output_type": "execute_result"
    }
   ],
   "source": [
    "converted_prompts"
   ]
  },
  {
   "cell_type": "code",
   "execution_count": 6,
   "id": "b396eef7-669a-4391-98da-d605fd994390",
   "metadata": {},
   "outputs": [],
   "source": [
    "\n",
    "import os\n",
    "\n",
    "from pyrit.prompt_target import AzureOpenAIChatTarget, NoOpTarget\n",
    "\n",
    "from pyrit.common import default_values\n",
    "from pyrit.orchestrator import PromptSendingOrchestrator\n",
    "from pyrit.prompt_converter import VariationConverter\n",
    "\n",
    "\n",
    "default_values.load_default_env()\n",
    "\n",
    "target = AzureOpenAIChatTarget(\n",
    "    deployment_name=\"defense-gpt35\",\n",
    "    endpoint=os.environ.get(\"AZURE_OPENAI_ENDPOINT\"),\n",
    "    api_key=os.environ.get(\"AZURE_OPENAI_API_KEY\"),\n",
    ")\n",
    "\n",
    "orchestrator = PromptSendingOrchestrator(\n",
    "    prompt_target=target, prompt_converters=[VariationConverter(converterLLM=target)]\n",
    ")"
   ]
  }
 ],
 "metadata": {
  "kernelspec": {
   "display_name": "pyrit_kernel",
   "language": "python",
   "name": "pyrit_kernel"
  },
  "language_info": {
   "codemirror_mode": {
    "name": "ipython",
    "version": 3
   },
   "file_extension": ".py",
   "mimetype": "text/x-python",
   "name": "python",
   "nbconvert_exporter": "python",
   "pygments_lexer": "ipython3",
   "version": "3.10.13"
  }
 },
 "nbformat": 4,
 "nbformat_minor": 5
}
