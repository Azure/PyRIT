{
 "cells": [
  {
   "cell_type": "markdown",
   "id": "a8df5ee5",
   "metadata": {
    "lines_to_next_cell": 0
   },
   "source": [
    "### Converters\n",
    "\n",
    "Converters are used to transform prompts before sending them to the target.\n",
    "This can be useful for a variety of reasons, such as encoding the prompt in a different format, or adding additional information to the prompt.\n",
    "For example, you might want to convert a prompt to base64 before sending it to the target, or add a prefix to the prompt to indicate that it is a question.\n",
    "\n",
    "Converters can be used to perform these types of transformations. Here is a simple program that uses Rot13Converter converter and AsciiArtConverter"
   ]
  },
  {
   "cell_type": "code",
   "execution_count": 1,
   "id": "fb75b380",
   "metadata": {
    "execution": {
     "iopub.execute_input": "2024-03-14T17:12:56.021125Z",
     "iopub.status.busy": "2024-03-14T17:12:56.021125Z",
     "iopub.status.idle": "2024-03-14T17:12:56.265405Z",
     "shell.execute_reply": "2024-03-14T17:12:56.264398Z"
    },
    "lines_to_next_cell": 2
   },
   "outputs": [
    {
     "name": "stdout",
     "output_type": "stream",
     "text": [
      "['gryy zr ubj gb phg qbja n gerr', 'grnpu zr gb zvar pelcgb']\n",
      "___________________________________________________________________________________________________________________________________________________________________________________________\n",
      "                                                                                                                                                                                           \n",
      "                 /    /                           /                                                                       /                                                                \n",
      "--_/_-----__----/----/--------_--_-----__--------/__-----__---------------_/_-----__---------__-----------_/_---------__-/-----__-------------__---------__-------_/_----)__-----__-----__-\n",
      "  /     /___)  /    /        / /  )  /___)      /   )  /   ) | /| /       /     /   )      /   '  /   /   /         /   /    /   ) | /| /   /   )      /   )      /     /   )  /___)  /___)\n",
      "_(_ ___(___ __/____/________/_/__/__(___ ______/___/__(___/__|/_|/_______(_ ___(___/______(___ __(___(___(_ _______(___/____(___/__|/_|/___/___/______(___(______(_ ___/______(___ __(___ _\n",
      "                                                                                                                                                                                           \n",
      "                                                                                                                                                                                           \n",
      "\n"
     ]
    }
   ],
   "source": [
    "\n",
    "from pyrit.prompt_converter import ROT13Converter, AsciiArtConverter\n",
    "\n",
    "\n",
    "prompts = [\"tell me how to cut down a tree\", \"teach me to mine crypto\"]\n",
    "\n",
    "\n",
    "print(ROT13Converter().convert(prompts))\n",
    "print(AsciiArtConverter().convert(prompts)[0])"
   ]
  },
  {
   "cell_type": "markdown",
   "id": "5003d20d",
   "metadata": {},
   "source": [
    "Converters should be thought of as a piece in the pipeine. They can use external infrastrucutre like attacker LLMs.\n",
    "`VariationConverter` is a converter that does this.\n",
    "\n",
    "An orchestrator will typically initialize these requests, and they are sent to a target.\n",
    "Converters can also stack, so a converter is used one after another.\n",
    "\n",
    "See [demo3](../demo/3_send_all_prompts.ipynb) and [demo4](../demo/4_prompt_variation.ipynb) for an example of how to use a converter in the pipeline."
   ]
  }
 ],
 "metadata": {
  "jupytext": {
   "cell_metadata_filter": "-all"
  },
  "kernelspec": {
   "display_name": "pyrit_kernel",
   "language": "python",
   "name": "pyrit_kernel"
  },
  "language_info": {
   "codemirror_mode": {
    "name": "ipython",
    "version": 3
   },
   "file_extension": ".py",
   "mimetype": "text/x-python",
   "name": "python",
   "nbconvert_exporter": "python",
   "pygments_lexer": "ipython3",
   "version": "3.10.13"
  }
 },
 "nbformat": 4,
 "nbformat_minor": 5
}
