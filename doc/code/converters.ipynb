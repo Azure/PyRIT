{
 "cells": [
  {
   "cell_type": "markdown",
   "id": "5dbc7cfa",
   "metadata": {
    "lines_to_next_cell": 0
   },
   "source": [
    "### Converters\n",
    "\n",
    "Converters are used to transform prompts before sending them to the target.\n",
    "This can be useful for a variety of reasons, such as encoding the prompt in a different format, or adding additional information to the prompt.\n",
    "For example, you might want to convert a prompt to base64 before sending it to the target, or add a prefix to the prompt to indicate that it is a question. # Converters can be used to perform these types of transformations.\n",
    "\n",
    "Here is a simple program that uses Rot13Converter converter and AsciiArtConverter"
   ]
  },
  {
   "cell_type": "code",
   "execution_count": 1,
   "id": "550fd5c5",
   "metadata": {
    "execution": {
     "iopub.execute_input": "2024-03-13T20:57:10.052639Z",
     "iopub.status.busy": "2024-03-13T20:57:10.051134Z",
     "iopub.status.idle": "2024-03-13T20:57:10.280515Z",
     "shell.execute_reply": "2024-03-13T20:57:10.279517Z"
    },
    "lines_to_next_cell": 2
   },
   "outputs": [
    {
     "name": "stdout",
     "output_type": "stream",
     "text": [
      "['gryy zr ubj gb phg qbja n gerr', 'grnpu zr gb zvar pelcgb']\n",
      " _____   ___   _     _       __ __   ___     _  _    __    _   _     _____    __       ___  _  _   _____     __     __    _   _   __  _      __      _____   ___   ___   ___  \n",
      "|_   _| | __| | |   | |     |  V  | | __|   | || |  /__\\  | | | |   |_   _|  /__\\     / _/ | || | |_   _|   | _\\   /__\\  | | | | |  \\| |    /  \\    |_   _| | _ \\ | __| | __| \n",
      "  | |   | _|  | |_  | |_    | \\_/ | | _|    | >< | | \\/ | | 'V' |     | |   | \\/ |   | \\__ | \\/ |   | |     | v | | \\/ | | 'V' | | | ' |   | /\\ |     | |   | v / | _|  | _|  \n",
      "  |_|   |___| |___| |___|   |_| |_| |___|   |_||_|  \\__/  !_/ \\_!     |_|    \\__/     \\__/  \\__/    |_|     |__/   \\__/  !_/ \\_! |_|\\__|   |_||_|     |_|   |_|_\\ |___| |___| \n",
      "\n"
     ]
    }
   ],
   "source": [
    "\n",
    "from pyrit.prompt_converter import ROT13Converter, AsciiArtConverter\n",
    "\n",
    "\n",
    "prompts = [\"tell me how to cut down a tree\", \"teach me to mine crypto\"]\n",
    "\n",
    "\n",
    "print(ROT13Converter().convert(prompts))\n",
    "print(AsciiArtConverter().convert(prompts)[0])"
   ]
  },
  {
   "cell_type": "markdown",
   "id": "9d650dd6",
   "metadata": {},
   "source": [
    "Converters should be thought of as a piece in the pipeine. They can use external infrastrucutre like attacker LLMs. An orchestrator will typically initialize these requests, and they are sent to a target. Converters can also stack, so a converter is used one after another.\n",
    "\n",
    "See [demo3](../demo/3_send_all_prompts.ipynb) and [demo4](../demo/4_prompt_variation.ipynb) for an example of how to use a converter in the pipeline."
   ]
  }
 ],
 "metadata": {
  "kernelspec": {
   "display_name": "pyrit_kernel",
   "language": "python",
   "name": "pyrit_kernel"
  },
  "language_info": {
   "codemirror_mode": {
    "name": "ipython",
    "version": 3
   },
   "file_extension": ".py",
   "mimetype": "text/x-python",
   "name": "python",
   "nbconvert_exporter": "python",
   "pygments_lexer": "ipython3",
   "version": "3.10.13"
  }
 },
 "nbformat": 4,
 "nbformat_minor": 5
}
