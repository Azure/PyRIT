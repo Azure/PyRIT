{
    "cells": [
     {
      "cell_type": "markdown",
      "id": "6ea54085-bcf1-4308-b459-6093cfa4ca85",
      "metadata": {},
      "source": [
       "### Using Prompt Variation Converter\n",
       "\n",
       "This notebook shows how to use the prompt variation converter to send prompts to a converter target and generate variations of the prompt."
      ]
     },
     {
      "cell_type": "code",
      "execution_count": 1,
      "id": "4c4adc2a-ee60-4f20-b42d-9c6de755296d",
      "metadata": {},
      "outputs": [],
      "source": [
       "# Prompts you want transformed here:\n",
       "prompts = [\"tell me how to cut down a tree\", \n",
       "           \"How do I make the best croissants\"]"
      ]
     },
     {
      "cell_type": "code",
      "execution_count": 2,
      "id": "44def7b2-1393-4a0a-900e-9b45e2a8d779",
      "metadata": {
       "lines_to_next_cell": 2
      },
      "outputs": [
       {
        "ename": "ImportError",
        "evalue": "cannot import name 'PromptConverter' from partially initialized module 'pyrit.prompt_converter' (most likely due to a circular import) (/home/bolor/tools/PyRIT/pyrit/prompt_converter/__init__.py)",
        "output_type": "error",
        "traceback": [
         "\u001b[0;31m---------------------------------------------------------------------------\u001b[0m",
         "\u001b[0;31mImportError\u001b[0m                               Traceback (most recent call last)",
         "Cell \u001b[0;32mIn[2], line 1\u001b[0m\n\u001b[0;32m----> 1\u001b[0m \u001b[38;5;28;01mfrom\u001b[39;00m \u001b[38;5;21;01mpyrit\u001b[39;00m\u001b[38;5;21;01m.\u001b[39;00m\u001b[38;5;21;01mprompt_converter\u001b[39;00m \u001b[38;5;28;01mimport\u001b[39;00m VariationConverter\n\u001b[1;32m      2\u001b[0m \u001b[38;5;28;01mfrom\u001b[39;00m \u001b[38;5;21;01mpyrit\u001b[39;00m\u001b[38;5;21;01m.\u001b[39;00m\u001b[38;5;21;01mcommon\u001b[39;00m \u001b[38;5;28;01mimport\u001b[39;00m default_values\n\u001b[1;32m      3\u001b[0m \u001b[38;5;28;01mfrom\u001b[39;00m \u001b[38;5;21;01mpyrit\u001b[39;00m\u001b[38;5;21;01m.\u001b[39;00m\u001b[38;5;21;01mprompt_target\u001b[39;00m \u001b[38;5;28;01mimport\u001b[39;00m AzureOpenAIChatTarget\n",
         "File \u001b[0;32m~/tools/PyRIT/pyrit/prompt_converter/__init__.py:4\u001b[0m\n\u001b[1;32m      1\u001b[0m \u001b[38;5;66;03m# Copyright (c) Microsoft Corporation.\u001b[39;00m\n\u001b[1;32m      2\u001b[0m \u001b[38;5;66;03m# Licensed under the MIT license.\u001b[39;00m\n\u001b[0;32m----> 4\u001b[0m \u001b[38;5;28;01mfrom\u001b[39;00m \u001b[38;5;21;01mpyrit\u001b[39;00m\u001b[38;5;21;01m.\u001b[39;00m\u001b[38;5;21;01mprompt_converter\u001b[39;00m\u001b[38;5;21;01m.\u001b[39;00m\u001b[38;5;21;01mascii_art_converter\u001b[39;00m \u001b[38;5;28;01mimport\u001b[39;00m AsciiArtConverter\n\u001b[1;32m      5\u001b[0m \u001b[38;5;28;01mfrom\u001b[39;00m \u001b[38;5;21;01mpyrit\u001b[39;00m\u001b[38;5;21;01m.\u001b[39;00m\u001b[38;5;21;01mprompt_converter\u001b[39;00m\u001b[38;5;21;01m.\u001b[39;00m\u001b[38;5;21;01mbase64_converter\u001b[39;00m \u001b[38;5;28;01mimport\u001b[39;00m Base64Converter\n\u001b[1;32m      6\u001b[0m \u001b[38;5;28;01mfrom\u001b[39;00m \u001b[38;5;21;01mpyrit\u001b[39;00m\u001b[38;5;21;01m.\u001b[39;00m\u001b[38;5;21;01mprompt_converter\u001b[39;00m\u001b[38;5;21;01m.\u001b[39;00m\u001b[38;5;21;01mno_op_converter\u001b[39;00m \u001b[38;5;28;01mimport\u001b[39;00m NoOpConverter\n",
         "File \u001b[0;32m~/tools/PyRIT/pyrit/prompt_converter/ascii_art_converter.py:6\u001b[0m\n\u001b[1;32m      1\u001b[0m \u001b[38;5;66;03m# Copyright (c) Microsoft Corporation.\u001b[39;00m\n\u001b[1;32m      2\u001b[0m \u001b[38;5;66;03m# Licensed under the MIT license.\u001b[39;00m\n\u001b[1;32m      4\u001b[0m \u001b[38;5;28;01mfrom\u001b[39;00m \u001b[38;5;21;01mart\u001b[39;00m \u001b[38;5;28;01mimport\u001b[39;00m text2art\n\u001b[0;32m----> 6\u001b[0m \u001b[38;5;28;01mfrom\u001b[39;00m \u001b[38;5;21;01mpyrit\u001b[39;00m\u001b[38;5;21;01m.\u001b[39;00m\u001b[38;5;21;01mprompt_converter\u001b[39;00m \u001b[38;5;28;01mimport\u001b[39;00m PromptConverter\n\u001b[1;32m      9\u001b[0m \u001b[38;5;28;01mclass\u001b[39;00m \u001b[38;5;21;01mAsciiArtConverter\u001b[39;00m(PromptConverter):\n\u001b[1;32m     10\u001b[0m \u001b[38;5;250m    \u001b[39m\u001b[38;5;124;03m\"\"\"Converts a string to ASCII art\"\"\"\u001b[39;00m\n",
         "\u001b[0;31mImportError\u001b[0m: cannot import name 'PromptConverter' from partially initialized module 'pyrit.prompt_converter' (most likely due to a circular import) (/home/bolor/tools/PyRIT/pyrit/prompt_converter/__init__.py)"
        ]
       }
      ],
      "source": [
       "from pyrit.prompt_converter import VariationConverter\n",
       "from pyrit.common import default_values\n",
       "from pyrit.prompt_target import AzureOpenAIChatTarget\n",
       "\n",
       "import os\n",
       "\n",
       "default_values.load_default_env()\n",
       "\n",
       "# converter target to send prompt to\n",
       "converter_target = AzureOpenAIChatTarget(\n",
       "    deployment_name=\"gpt-4\",\n",
       "    endpoint=os.environ.get(\"AZURE_OPENAI_ENDPOINT\"),\n",
       "    api_key=os.environ.get(\"AZURE_OPENAI_API_KEY\"),\n",
       ")\n",
       "\n",
       "prompt_variation_converter = VariationConverter(converter_target=converter_target)"
      ]
     },
     {
      "cell_type": "code",
      "execution_count": 6,
      "id": "ab5b5245-6ce4-4758-bc8e-b38b333f17ad",
      "metadata": {
       "lines_to_next_cell": 2
      },
      "outputs": [
       {
        "ename": "ImportError",
        "evalue": "cannot import name 'ChatMessageNormalizer' from partially initialized module 'pyrit.chat_message_normalizer' (most likely due to a circular import) (/home/bolor/tools/PyRIT/pyrit/chat_message_normalizer/__init__.py)",
        "output_type": "error",
        "traceback": [
         "\u001b[0;31m---------------------------------------------------------------------------\u001b[0m",
         "\u001b[0;31mImportError\u001b[0m                               Traceback (most recent call last)",
         "Cell \u001b[0;32mIn[6], line 2\u001b[0m\n\u001b[1;32m      1\u001b[0m \u001b[38;5;28;01mfrom\u001b[39;00m \u001b[38;5;21;01mpyrit\u001b[39;00m\u001b[38;5;21;01m.\u001b[39;00m\u001b[38;5;21;01mcommon\u001b[39;00m \u001b[38;5;28;01mimport\u001b[39;00m default_values\n\u001b[0;32m----> 2\u001b[0m \u001b[38;5;28;01mfrom\u001b[39;00m \u001b[38;5;21;01mpyrit\u001b[39;00m\u001b[38;5;21;01m.\u001b[39;00m\u001b[38;5;21;01mprompt_target\u001b[39;00m \u001b[38;5;28;01mimport\u001b[39;00m AzureOpenAIChatTarget\n",
         "File \u001b[0;32m~/tools/PyRIT/pyrit/prompt_target/__init__.py:4\u001b[0m\n\u001b[1;32m      1\u001b[0m \u001b[38;5;66;03m# Copyright (c) Microsoft Corporation.\u001b[39;00m\n\u001b[1;32m      2\u001b[0m \u001b[38;5;66;03m# Licensed under the MIT license.\u001b[39;00m\n\u001b[0;32m----> 4\u001b[0m \u001b[38;5;28;01mfrom\u001b[39;00m \u001b[38;5;21;01mpyrit\u001b[39;00m\u001b[38;5;21;01m.\u001b[39;00m\u001b[38;5;21;01mprompt_target\u001b[39;00m\u001b[38;5;21;01m.\u001b[39;00m\u001b[38;5;21;01mazure_openai_chat_target\u001b[39;00m \u001b[38;5;28;01mimport\u001b[39;00m AzureOpenAIChatTarget\n\u001b[1;32m      5\u001b[0m \u001b[38;5;28;01mfrom\u001b[39;00m \u001b[38;5;21;01mpyrit\u001b[39;00m\u001b[38;5;21;01m.\u001b[39;00m\u001b[38;5;21;01mprompt_target\u001b[39;00m\u001b[38;5;21;01m.\u001b[39;00m\u001b[38;5;21;01mno_op_target\u001b[39;00m \u001b[38;5;28;01mimport\u001b[39;00m NoOpTarget\n\u001b[1;32m      6\u001b[0m \u001b[38;5;28;01mfrom\u001b[39;00m \u001b[38;5;21;01mpyrit\u001b[39;00m\u001b[38;5;21;01m.\u001b[39;00m\u001b[38;5;21;01mprompt_target\u001b[39;00m\u001b[38;5;21;01m.\u001b[39;00m\u001b[38;5;21;01mprompt_target\u001b[39;00m \u001b[38;5;28;01mimport\u001b[39;00m PromptTarget\n",
         "File \u001b[0;32m~/tools/PyRIT/pyrit/prompt_target/azure_openai_chat_target.py:4\u001b[0m\n\u001b[1;32m      1\u001b[0m \u001b[38;5;66;03m# Copyright (c) Microsoft Corporation.\u001b[39;00m\n\u001b[1;32m      2\u001b[0m \u001b[38;5;66;03m# Licensed under the MIT license.\u001b[39;00m\n\u001b[0;32m----> 4\u001b[0m \u001b[38;5;28;01mfrom\u001b[39;00m \u001b[38;5;21;01mpyrit\u001b[39;00m\u001b[38;5;21;01m.\u001b[39;00m\u001b[38;5;21;01mchat\u001b[39;00m\u001b[38;5;21;01m.\u001b[39;00m\u001b[38;5;21;01mazure_openai_chat\u001b[39;00m \u001b[38;5;28;01mimport\u001b[39;00m AzureOpenAIChat\n\u001b[1;32m      5\u001b[0m \u001b[38;5;28;01mfrom\u001b[39;00m \u001b[38;5;21;01mpyrit\u001b[39;00m\u001b[38;5;21;01m.\u001b[39;00m\u001b[38;5;21;01mmemory\u001b[39;00m \u001b[38;5;28;01mimport\u001b[39;00m FileMemory, MemoryInterface\n\u001b[1;32m      6\u001b[0m \u001b[38;5;28;01mfrom\u001b[39;00m \u001b[38;5;21;01mpyrit\u001b[39;00m\u001b[38;5;21;01m.\u001b[39;00m\u001b[38;5;21;01mmodels\u001b[39;00m \u001b[38;5;28;01mimport\u001b[39;00m ChatMessage\n",
         "File \u001b[0;32m~/tools/PyRIT/pyrit/chat/__init__.py:4\u001b[0m\n\u001b[1;32m      1\u001b[0m \u001b[38;5;66;03m# Copyright (c) Microsoft Corporation.\u001b[39;00m\n\u001b[1;32m      2\u001b[0m \u001b[38;5;66;03m# Licensed under the MIT license.\u001b[39;00m\n\u001b[0;32m----> 4\u001b[0m \u001b[38;5;28;01mfrom\u001b[39;00m \u001b[38;5;21;01mpyrit\u001b[39;00m\u001b[38;5;21;01m.\u001b[39;00m\u001b[38;5;21;01mchat\u001b[39;00m\u001b[38;5;21;01m.\u001b[39;00m\u001b[38;5;21;01maml_online_endpoint_chat\u001b[39;00m \u001b[38;5;28;01mimport\u001b[39;00m AMLOnlineEndpointChat\n\u001b[1;32m      5\u001b[0m \u001b[38;5;28;01mfrom\u001b[39;00m \u001b[38;5;21;01mpyrit\u001b[39;00m\u001b[38;5;21;01m.\u001b[39;00m\u001b[38;5;21;01mchat\u001b[39;00m\u001b[38;5;21;01m.\u001b[39;00m\u001b[38;5;21;01mazure_openai_chat\u001b[39;00m \u001b[38;5;28;01mimport\u001b[39;00m AzureOpenAIChat\n\u001b[1;32m      6\u001b[0m \u001b[38;5;28;01mfrom\u001b[39;00m \u001b[38;5;21;01mpyrit\u001b[39;00m\u001b[38;5;21;01m.\u001b[39;00m\u001b[38;5;21;01mchat\u001b[39;00m\u001b[38;5;21;01m.\u001b[39;00m\u001b[38;5;21;01mhugging_face_chat\u001b[39;00m \u001b[38;5;28;01mimport\u001b[39;00m HuggingFaceChat\n",
         "File \u001b[0;32m~/tools/PyRIT/pyrit/chat/aml_online_endpoint_chat.py:6\u001b[0m\n\u001b[1;32m      1\u001b[0m \u001b[38;5;66;03m# Copyright (c) Microsoft Corporation.\u001b[39;00m\n\u001b[1;32m      2\u001b[0m \u001b[38;5;66;03m# Licensed under the MIT license.\u001b[39;00m\n\u001b[1;32m      4\u001b[0m \u001b[38;5;28;01mimport\u001b[39;00m \u001b[38;5;21;01mlogging\u001b[39;00m\n\u001b[0;32m----> 6\u001b[0m \u001b[38;5;28;01mfrom\u001b[39;00m \u001b[38;5;21;01mpyrit\u001b[39;00m\u001b[38;5;21;01m.\u001b[39;00m\u001b[38;5;21;01mchat_message_normalizer\u001b[39;00m \u001b[38;5;28;01mimport\u001b[39;00m ChatMessageNop, ChatMessageNormalizer\n\u001b[1;32m      7\u001b[0m \u001b[38;5;28;01mfrom\u001b[39;00m \u001b[38;5;21;01mpyrit\u001b[39;00m\u001b[38;5;21;01m.\u001b[39;00m\u001b[38;5;21;01mcommon\u001b[39;00m \u001b[38;5;28;01mimport\u001b[39;00m default_values, net_utility\n\u001b[1;32m      8\u001b[0m \u001b[38;5;28;01mfrom\u001b[39;00m \u001b[38;5;21;01mpyrit\u001b[39;00m\u001b[38;5;21;01m.\u001b[39;00m\u001b[38;5;21;01minterfaces\u001b[39;00m \u001b[38;5;28;01mimport\u001b[39;00m ChatSupport\n",
         "File \u001b[0;32m~/tools/PyRIT/pyrit/chat_message_normalizer/__init__.py:5\u001b[0m\n\u001b[1;32m      1\u001b[0m \u001b[38;5;66;03m# Copyright (c) Microsoft Corporation.\u001b[39;00m\n\u001b[1;32m      2\u001b[0m \u001b[38;5;66;03m# Licensed under the MIT license.\u001b[39;00m\n\u001b[0;32m----> 5\u001b[0m \u001b[38;5;28;01mfrom\u001b[39;00m \u001b[38;5;21;01mpyrit\u001b[39;00m\u001b[38;5;21;01m.\u001b[39;00m\u001b[38;5;21;01mchat_message_normalizer\u001b[39;00m\u001b[38;5;21;01m.\u001b[39;00m\u001b[38;5;21;01mchat_message_nop\u001b[39;00m \u001b[38;5;28;01mimport\u001b[39;00m ChatMessageNop\n\u001b[1;32m      6\u001b[0m \u001b[38;5;28;01mfrom\u001b[39;00m \u001b[38;5;21;01mpyrit\u001b[39;00m\u001b[38;5;21;01m.\u001b[39;00m\u001b[38;5;21;01mchat_message_normalizer\u001b[39;00m\u001b[38;5;21;01m.\u001b[39;00m\u001b[38;5;21;01mchat_message_normalizer\u001b[39;00m \u001b[38;5;28;01mimport\u001b[39;00m ChatMessageNormalizer\n\u001b[1;32m      7\u001b[0m \u001b[38;5;28;01mfrom\u001b[39;00m \u001b[38;5;21;01mpyrit\u001b[39;00m\u001b[38;5;21;01m.\u001b[39;00m\u001b[38;5;21;01mchat_message_normalizer\u001b[39;00m\u001b[38;5;21;01m.\u001b[39;00m\u001b[38;5;21;01mgeneric_system_squash\u001b[39;00m \u001b[38;5;28;01mimport\u001b[39;00m GenericSystemSquash\n",
         "File \u001b[0;32m~/tools/PyRIT/pyrit/chat_message_normalizer/chat_message_nop.py:4\u001b[0m\n\u001b[1;32m      1\u001b[0m \u001b[38;5;66;03m# Copyright (c) Microsoft Corporation.\u001b[39;00m\n\u001b[1;32m      2\u001b[0m \u001b[38;5;66;03m# Licensed under the MIT license.\u001b[39;00m\n\u001b[0;32m----> 4\u001b[0m \u001b[38;5;28;01mfrom\u001b[39;00m \u001b[38;5;21;01mpyrit\u001b[39;00m\u001b[38;5;21;01m.\u001b[39;00m\u001b[38;5;21;01mchat_message_normalizer\u001b[39;00m \u001b[38;5;28;01mimport\u001b[39;00m ChatMessageNormalizer\n\u001b[1;32m      5\u001b[0m \u001b[38;5;28;01mfrom\u001b[39;00m \u001b[38;5;21;01mpyrit\u001b[39;00m\u001b[38;5;21;01m.\u001b[39;00m\u001b[38;5;21;01mmodels\u001b[39;00m \u001b[38;5;28;01mimport\u001b[39;00m ChatMessage\n\u001b[1;32m      8\u001b[0m \u001b[38;5;28;01mclass\u001b[39;00m \u001b[38;5;21;01mChatMessageNop\u001b[39;00m(ChatMessageNormalizer):\n",
         "\u001b[0;31mImportError\u001b[0m: cannot import name 'ChatMessageNormalizer' from partially initialized module 'pyrit.chat_message_normalizer' (most likely due to a circular import) (/home/bolor/tools/PyRIT/pyrit/chat_message_normalizer/__init__.py)"
        ]
       }
      ],
      "source": [
       "from pyrit.common import default_values\n",
       "from pyrit.prompt_target import AzureOpenAIChatTarget"
      ]
     },
     {
      "cell_type": "code",
      "execution_count": null,
      "id": "48ae5b39-f775-4800-94d4-83095869e9a1",
      "metadata": {},
      "outputs": [],
      "source": [
       "prompt_variation_converter.prompt_template"
      ]
     },
     {
      "cell_type": "code",
      "execution_count": null,
      "id": "86e12639-cafd-4803-ab57-0b019697b66d",
      "metadata": {},
      "outputs": [],
      "source": [
       "converted_prompts = prompt_variation_converter.convert(prompts)"
      ]
     },
     {
      "cell_type": "code",
      "execution_count": null,
      "id": "1a917c9a-6d93-4510-934e-b14666089616",
      "metadata": {},
      "outputs": [],
      "source": [
       "converted_prompts"
      ]
     },
     {
      "cell_type": "markdown",
      "id": "44255771-472d-43d7-827a-ab2e8020cafc",
      "metadata": {
       "jp-MarkdownHeadingCollapsed": true
      },
      "source": [
       "### Orchestrator:"
      ]
     },
     {
      "cell_type": "code",
      "execution_count": 6,
      "id": "b396eef7-669a-4391-98da-d605fd994390",
      "metadata": {},
      "outputs": [],
      "source": [
       "\n",
       "import os\n",
       "\n",
       "from pyrit.prompt_target import AzureOpenAIChatTarget, NoOpTarget\n",
       "\n",
       "from pyrit.common import default_values\n",
       "from pyrit.orchestrator import PromptSendingOrchestrator\n",
       "from pyrit.prompt_converter import VariationConverter\n",
       "\n",
       "\n",
       "default_values.load_default_env()\n",
       "\n",
       "target = AzureOpenAIChatTarget(\n",
       "    deployment_name=\"defense-gpt35\",\n",
       "    endpoint=os.environ.get(\"AZURE_OPENAI_ENDPOINT\"),\n",
       "    api_key=os.environ.get(\"AZURE_OPENAI_API_KEY\"),\n",
       ")\n",
       "\n",
       "orchestrator = PromptSendingOrchestrator(\n",
       "    prompt_target=target, prompt_converters=[VariationConverter(converterLLM=target)]\n",
       ")"
      ]
     }
    ],
    "metadata": {
     "kernelspec": {
      "display_name": "pyrit_kernel",
      "language": "python",
      "name": "pyrit_kernel"
     },
     "language_info": {
      "codemirror_mode": {
       "name": "ipython",
       "version": 3
      },
      "file_extension": ".py",
      "mimetype": "text/x-python",
      "name": "python",
      "nbconvert_exporter": "python",
      "pygments_lexer": "ipython3",
      "version": "3.10.13"
     }
    },
    "nbformat": 4,
    "nbformat_minor": 5
   }
   