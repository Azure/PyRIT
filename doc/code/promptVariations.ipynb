{
 "cells": [
  {
   "cell_type": "markdown",
   "id": "6ea54085-bcf1-4308-b459-6093cfa4ca85",
   "metadata": {},
   "source": [
    "### Using Prompt Variation Converter\n",
    "\n",
    "This notebook shows how to use the prompt variation converter to send prompts to a converter target and generate variations of the prompt."
   ]
  },
  {
   "cell_type": "code",
   "execution_count": 1,
   "id": "4c4adc2a-ee60-4f20-b42d-9c6de755296d",
   "metadata": {},
   "outputs": [],
   "source": [
    "# Prompts you want transformed here:\n",
    "prompts = [\"tell me how to cut down a tree\", \n",
    "           \"How do I make the best croissants\"]"
   ]
  },
  {
   "cell_type": "code",
   "execution_count": 2,
   "id": "44def7b2-1393-4a0a-900e-9b45e2a8d779",
   "metadata": {
    "lines_to_next_cell": 2
   },
   "outputs": [],
   "source": [
    "from pyrit.prompt_converter import VariationConverter\n",
    "from pyrit.common import default_values\n",
    "from pyrit.prompt_target import AzureOpenAIChatTarget\n",
    "\n",
    "import os\n",
    "\n",
    "default_values.load_default_env()\n",
    "\n",
    "# converter target to send prompt to\n",
    "converter_target = AzureOpenAIChatTarget(\n",
    "    deployment_name=\"gpt-4\",\n",
    "    endpoint=os.environ.get(\"AZURE_OPENAI_ENDPOINT\"),\n",
    "    api_key=os.environ.get(\"AZURE_OPENAI_API_KEY\"),\n",
    ")\n",
    "\n",
    "prompt_variation_converter = VariationConverter(converter_target=converter_target)"
   ]
  },
  {
   "cell_type": "code",
   "execution_count": 3,
   "id": "48ae5b39-f775-4800-94d4-83095869e9a1",
   "metadata": {},
   "outputs": [
    {
     "data": {
      "text/plain": [
       "PromptTemplate(template='# Instructions\\n- Create a variation on the seed prompt given by the user\\n- The responses you give should have essentially the same meaning but be unique with high variability.\\n- Use synonyms, slang, etc. to create the variations.\\n- Do not include anything else in the output besides the variations of the seed prompt.\\n- Do not try to answer the prompt, just rephrase the prompt.\\n- Include 3 different responses.\\n- Format output as a json.\\n\\n# Prompt\\nThe given prompt to create a variation on is: {{ seed_prompt }}\\n', name='prompt_variation', description='A general strategy for varying prompts to generate a diverse set of outputs.\\n', should_be_blocked=False, harm_category='NA', author='AI Red Team', group='AI Red Team', source='AI Red Team', parameters=['seed_prompt'])"
      ]
     },
     "execution_count": 3,
     "metadata": {},
     "output_type": "execute_result"
    }
   ],
   "source": [
    "prompt_variation_converter.prompt_template"
   ]
  },
  {
   "cell_type": "code",
   "execution_count": 4,
   "id": "86e12639-cafd-4803-ab57-0b019697b66d",
   "metadata": {},
   "outputs": [
    {
     "name": "stdout",
     "output_type": "stream",
     "text": [
      "RESP:  {\n",
      "\"prompt_variation1\": \"Inform me about the process of chopping a tree.\",\n",
      "\"prompt_variation2\": \"Could you walk me through the steps to fell a tree?\",\n",
      "\"prompt_variation3\": \"Explain to me how one goes about axing down a tree.\"\n",
      "}\n",
      "RESP:  {\n",
      "\"prompt_variation_1\": \"Can you instruct me on baking the perfect croissants?\",\n",
      "\"prompt_variation_2\": \"What's the method to bake delicious croissants?\",\n",
      "\"prompt_variation_3\": \"I need guidance on how to prepare scrumptious croissants.\"\n",
      "}\n"
     ]
    }
   ],
   "source": [
    "converted_prompts = prompt_variation_converter.convert(prompts)"
   ]
  },
  {
   "cell_type": "code",
   "execution_count": 5,
   "id": "1a917c9a-6d93-4510-934e-b14666089616",
   "metadata": {},
   "outputs": [
    {
     "data": {
      "text/plain": [
       "['I need guidance on how to prepare scrumptious croissants.',\n",
       " 'Explain to me how one goes about axing down a tree.',\n",
       " \"What's the method to bake delicious croissants?\",\n",
       " 'Can you instruct me on baking the perfect croissants?',\n",
       " 'Could you walk me through the steps to fell a tree?',\n",
       " 'Inform me about the process of chopping a tree.']"
      ]
     },
     "execution_count": 5,
     "metadata": {},
     "output_type": "execute_result"
    }
   ],
   "source": [
    "converted_prompts"
   ]
  },
  {
   "cell_type": "markdown",
   "id": "44255771-472d-43d7-827a-ab2e8020cafc",
   "metadata": {
    "jp-MarkdownHeadingCollapsed": true
   },
   "source": [
    "### Orchestrator:"
   ]
  },
  {
   "cell_type": "code",
   "execution_count": 6,
   "id": "b396eef7-669a-4391-98da-d605fd994390",
   "metadata": {},
   "outputs": [],
   "source": [
    "\n",
    "import os\n",
    "\n",
    "from pyrit.prompt_target import AzureOpenAIChatTarget, NoOpTarget\n",
    "\n",
    "from pyrit.common import default_values\n",
    "from pyrit.orchestrator import PromptSendingOrchestrator\n",
    "from pyrit.prompt_converter import VariationConverter\n",
    "\n",
    "\n",
    "default_values.load_default_env()\n",
    "\n",
    "target = AzureOpenAIChatTarget(\n",
    "    deployment_name=\"defense-gpt35\",\n",
    "    endpoint=os.environ.get(\"AZURE_OPENAI_ENDPOINT\"),\n",
    "    api_key=os.environ.get(\"AZURE_OPENAI_API_KEY\"),\n",
    ")\n",
    "\n",
    "orchestrator = PromptSendingOrchestrator(\n",
    "    prompt_target=target, prompt_converters=[VariationConverter(converterLLM=target)]\n",
    ")"
   ]
  }
 ],
 "metadata": {
  "kernelspec": {
   "display_name": "pyrit_kernel",
   "language": "python",
   "name": "pyrit_kernel"
  },
  "language_info": {
   "codemirror_mode": {
    "name": "ipython",
    "version": 3
   },
   "file_extension": ".py",
   "mimetype": "text/x-python",
   "name": "python",
   "nbconvert_exporter": "python",
   "pygments_lexer": "ipython3",
   "version": "3.10.13"
  }
 },
 "nbformat": 4,
 "nbformat_minor": 5
}
