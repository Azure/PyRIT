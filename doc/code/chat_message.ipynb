{
 "cells": [
  {
   "cell_type": "markdown",
   "id": "852bc4d3",
   "metadata": {
    "lines_to_next_cell": 0
   },
   "source": [
    "### Introduction\n",
    "\n",
    "This notebook gives an introduction to the concept of `ChatMessage` and `ChatMessageNormalizer` and how it can be helpful as you start to work with different models.\n",
    "\n",
    "\n",
    "The main format PyRIT works with is the `ChatMessage` paradigm. Any time a user wants to store or retrieve a chat message, they will use the `ChatMessage` object.\n",
    "\n",
    "However, different models may require different formats. For example, certain models may use chatml, or may not support system messages. This is handled\n",
    "in from `ChatMessageNormalizer` and its subclasses.\n",
    "\n",
    "Below is an example that converts a list of chat messages to chatml format and back."
   ]
  },
  {
   "cell_type": "code",
   "execution_count": 1,
   "id": "c5f26dde",
   "metadata": {
    "execution": {
     "iopub.execute_input": "2024-03-13T20:57:08.262632Z",
     "iopub.status.busy": "2024-03-13T20:57:08.262632Z",
     "iopub.status.idle": "2024-03-13T20:57:08.476940Z",
     "shell.execute_reply": "2024-03-13T20:57:08.475939Z"
    }
   },
   "outputs": [
    {
     "name": "stdout",
     "output_type": "stream",
     "text": [
      "<|im_start|>system\n",
      "You are a helpful AI assistant<|im_end|>\n",
      "<|im_start|>user\n",
      "Hello, how are you?<|im_end|>\n",
      "<|im_start|>assistant\n",
      "I'm doing well, thanks for asking.<|im_end|>\n",
      "\n"
     ]
    }
   ],
   "source": [
    "\n",
    "from pyrit.models import ChatMessage\n",
    "from pyrit.chat_message_normalizer import ChatMessageNormalizerChatML\n",
    "\n",
    "messages = [\n",
    "    ChatMessage(role=\"system\", content=\"You are a helpful AI assistant\"),\n",
    "    ChatMessage(role=\"user\", content=\"Hello, how are you?\"),\n",
    "    ChatMessage(role=\"assistant\", content=\"I'm doing well, thanks for asking.\"),\n",
    "]\n",
    "\n",
    "normalizer = ChatMessageNormalizerChatML()\n",
    "chatml_messages = normalizer.normalize(messages)\n",
    "# chatml_messages is a string in chatml format\n",
    "\n",
    "print(chatml_messages)"
   ]
  },
  {
   "cell_type": "markdown",
   "id": "57c8680d",
   "metadata": {},
   "source": [
    "\n",
    "If you wish you load a chatml-format conversation, you can use the `from_chatml` method in the `ChatMessageNormalizerChatML`. This will return a list of `ChatMessage` objects that you can then use."
   ]
  },
  {
   "cell_type": "code",
   "execution_count": 2,
   "id": "ccb01214",
   "metadata": {
    "execution": {
     "iopub.execute_input": "2024-03-13T20:57:08.479941Z",
     "iopub.status.busy": "2024-03-13T20:57:08.479941Z",
     "iopub.status.idle": "2024-03-13T20:57:08.492609Z",
     "shell.execute_reply": "2024-03-13T20:57:08.491609Z"
    }
   },
   "outputs": [
    {
     "name": "stdout",
     "output_type": "stream",
     "text": [
      "[ChatMessage(role='system', content='You are a helpful AI assistant', name=None, tool_calls=None, tool_call_id=None), ChatMessage(role='user', content='Hello, how are you?', name=None, tool_calls=None, tool_call_id=None), ChatMessage(role='assistant', content=\"I'm doing well, thanks for asking.\", name=None, tool_calls=None, tool_call_id=None)]\n"
     ]
    }
   ],
   "source": [
    "\n",
    "chat_messages = normalizer.from_chatml(\n",
    "    \"\"\"\\\n",
    "    <|im_start|>system\n",
    "    You are a helpful AI assistant<|im_end|>\n",
    "    <|im_start|>user\n",
    "    Hello, how are you?<|im_end|>\n",
    "    <|im_start|>assistant\n",
    "    I'm doing well, thanks for asking.<|im_end|>\"\"\"\n",
    ")\n",
    "\n",
    "print(chat_messages)"
   ]
  },
  {
   "cell_type": "markdown",
   "id": "2fbeb284",
   "metadata": {},
   "source": [
    "To see how to use this in action, check out the [aml endpoint](./aml_endpoints.ipynb) notebook. It takes a `chat_message_normalizer` parameter so that an AML model can support various chat message formats."
   ]
  }
 ],
 "metadata": {
  "jupytext": {
   "cell_metadata_filter": "-all"
  },
  "kernelspec": {
   "display_name": "pyrit_kernel",
   "language": "python",
   "name": "pyrit_kernel"
  },
  "language_info": {
   "codemirror_mode": {
    "name": "ipython",
    "version": 3
   },
   "file_extension": ".py",
   "mimetype": "text/x-python",
   "name": "python",
   "nbconvert_exporter": "python",
   "pygments_lexer": "ipython3",
   "version": "3.10.13"
  }
 },
 "nbformat": 4,
 "nbformat_minor": 5
}
