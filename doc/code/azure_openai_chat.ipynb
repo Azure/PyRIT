{
 "cells": [
  {
   "cell_type": "markdown",
   "id": "dd5752dc",
   "metadata": {},
   "source": [
    "\n",
    "# ## Introduction\n",
    "\n",
    "This Jupyter notebook gives an introduction on how to use `AzureOpenAIChat` to complete chats.\n",
    "\n",
    "Before starting this, make sure you are [setup to use Azure OpenAI endpoints](../setup/setup_azure.md) and have a chat model, such as GPT-4, deployed. See [How To: Create and deploy an Azure OpenAI Service resource](https://learn.microsoft.com/en-us/azure/ai-services/openai/how-to/create-resource?pivots=web-portal).\n",
    "\n",
    "In this case, we have one named `gpt-4` deployed. See your deployments at https://oai.azure.com/ `> Management > Deployments`"
   ]
  },
  {
   "cell_type": "code",
   "execution_count": 1,
   "id": "25d7c5d0",
   "metadata": {
    "execution": {
     "iopub.execute_input": "2024-03-20T02:11:14.111978Z",
     "iopub.status.busy": "2024-03-20T02:11:14.110975Z",
     "iopub.status.idle": "2024-03-20T02:11:18.564708Z",
     "shell.execute_reply": "2024-03-20T02:11:18.564708Z"
    }
   },
   "outputs": [
    {
     "data": {
      "text/plain": [
       "'Hello! How can I assist you today?'"
      ]
     },
     "execution_count": 1,
     "metadata": {},
     "output_type": "execute_result"
    }
   ],
   "source": [
    "\n",
    "from pyrit.models import ChatMessage\n",
    "from pyrit.prompt_target import AzureOpenAIChatTarget\n",
    "from pyrit.common import default_values\n",
    "\n",
    "default_values.load_default_env()\n",
    "\n",
    "\n",
    "chat_engine = AzureOpenAIChatTarget()\n",
    "\n",
    "chat_engine.complete_chat(messages=[ChatMessage(role=\"user\", content=\"Hello world!\")])"
   ]
  },
  {
   "cell_type": "code",
   "execution_count": null,
   "id": "f09d8994",
   "metadata": {},
   "outputs": [],
   "source": []
  }
 ],
 "metadata": {
  "jupytext": {
   "cell_metadata_filter": "-all"
  },
  "kernelspec": {
   "display_name": "pyrit_kernel",
   "language": "python",
   "name": "pyrit_kernel"
  },
  "language_info": {
   "codemirror_mode": {
    "name": "ipython",
    "version": 3
   },
   "file_extension": ".py",
   "mimetype": "text/x-python",
   "name": "python",
   "nbconvert_exporter": "python",
   "pygments_lexer": "ipython3",
   "version": "3.10.13"
  }
 },
 "nbformat": 4,
 "nbformat_minor": 5
}
