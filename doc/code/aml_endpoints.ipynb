{
 "cells": [
  {
   "cell_type": "markdown",
   "id": "cc748267",
   "metadata": {
    "lines_to_next_cell": 0
   },
   "source": [
    "# Introduction\n",
    "\n",
    "This code shows how to use Azure Machine Learning (AML) managed online endpoints with PyRIT.\n",
    "\n",
    "## Prerequisites\n",
    "\n",
    "1. **Deploy an AML-Managed Online Endpoint:** Confirm that an Azure Machine Learning managed online endpoint is\n",
    "     already deployed.\n",
    "\n",
    "1. **Obtain the API Key:**\n",
    "   - Navigate to the AML Studio.\n",
    "   - Go to the 'Endpoints' section.\n",
    "   - Retrieve the API key and endpoint URI.\n",
    "   <br> <img src=\"./../../assets/aml_managed_online_endpoint_api_key.png\" alt=\"aml_managed_online_endpoint_api_key.png\" height=\"400\"/> <br>\n",
    "\n",
    "1. **Set the Environment Variable:**\n",
    "   - Add the obtained API key to an environment variable named `AZURE_ML_KEY`.\n",
    "   - Add the obtained endpoint URI to an environment variable named `AZURE_ML_MANAGED_ENDPOINT`.\n",
    "\n",
    "## Create a AMLOnlineEndpointChat\n",
    "\n",
    "After deploying a model and populating your env file, creating an endpoint is as simple as the following"
   ]
  },
  {
   "cell_type": "code",
   "execution_count": 1,
   "id": "87b89318",
   "metadata": {
    "execution": {
     "iopub.execute_input": "2024-03-14T21:39:25.026914Z",
     "iopub.status.busy": "2024-03-14T21:39:25.026914Z",
     "iopub.status.idle": "2024-03-14T21:39:42.847820Z",
     "shell.execute_reply": "2024-03-14T21:39:42.847820Z"
    },
    "lines_to_next_cell": 2
   },
   "outputs": [
    {
     "data": {
      "text/plain": [
       "\"Hello! I'm here to help you with any questions you have about data structures and algorithms, coding, or anything else related to computer science. Is there something specific you would like to know or discuss?\\n\\nHere are a few topics you might be interested in:\\n\\n* Big O notation and time complexity analysis\\n* Common data structures (arrays, linked lists, trees, hash tables, etc.) and when to use them\\n* Sorting and searching algorithms\\n* Graph algorithms (DFS, BFS, Dijkstra's, etc.)\\n* Dynamic programming and greedy algorithms\\n* Trees and tree traversal algorithms (pre-order, in-order, post-order)\\n* Recursion and stack frames\\n\\nLet me know if any of these topics interest you, or if you have something else in mind!\""
      ]
     },
     "execution_count": 1,
     "metadata": {},
     "output_type": "execute_result"
    }
   ],
   "source": [
    "\n",
    "from pyrit.common import default_values\n",
    "\n",
    "from pyrit.models import ChatMessage\n",
    "from pyrit.chat import AMLOnlineEndpointChat\n",
    "\n",
    "\n",
    "default_values.load_default_env()\n",
    "\n",
    "red_team_chat_engine = AMLOnlineEndpointChat()\n",
    "red_team_chat_engine.complete_chat(messages=[ChatMessage(role=\"user\", content=\"Hello world!\")])"
   ]
  },
  {
   "cell_type": "markdown",
   "id": "28851b92",
   "metadata": {},
   "source": [
    "\n",
    "You can then use this cell anywhere you would use a `ChatSupport` object.\n",
    "For example, you can create a red teaming orchestrator and do the entire [Gandalf Demo](../demo/1_gandalf.ipynb) but use this AML model.\n",
    "This is also shown in the [Multiturn Demo](../demo/2_multiturn_strategies.ipynb)."
   ]
  }
 ],
 "metadata": {
  "jupytext": {
   "cell_metadata_filter": "-all"
  },
  "kernelspec": {
   "display_name": "pyrit_kernel",
   "language": "python",
   "name": "pyrit_kernel"
  },
  "language_info": {
   "codemirror_mode": {
    "name": "ipython",
    "version": 3
   },
   "file_extension": ".py",
   "mimetype": "text/x-python",
   "name": "python",
   "nbconvert_exporter": "python",
   "pygments_lexer": "ipython3",
   "version": "3.10.13"
  }
 },
 "nbformat": 4,
 "nbformat_minor": 5
}
