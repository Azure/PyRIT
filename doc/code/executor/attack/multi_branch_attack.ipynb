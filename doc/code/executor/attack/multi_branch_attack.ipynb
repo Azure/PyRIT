{
 "cells": [
  {
   "cell_type": "markdown",
   "id": "0",
   "metadata": {},
   "source": [
    "# Multibranch Attack\n",
    "This attack allows the user to navigate a tree of conversations, going backward, forward, and sideways, giving them full control over the attack flow. It differs from the other tree-like attacks in pyrit in that there is no automatic branching or threshold detection for results."
   ]
  },
  {
   "cell_type": "markdown",
   "id": "1",
   "metadata": {},
   "source": [
    "The ```MultiBranchCommand``` enum provides a few different commands the user can give the executor on each step; the pattern is \n",
    "\n",
    "```\n",
    ">>> mb_attack = await mb_attack.execute_async_as_step(...)\n",
    ">>> await mb_attack.step(commands.SOMETHING, \"text input\")\n",
    "```\n",
    "\n",
    "Commands allow the user to navigate the tree, including branching off, closing the conversation for scoring, returning to a parent node, and getting the model to autocomplete.\n",
    "\n",
    "Users seeking to automate the process can also compose steps into a list:\n",
    "```\n",
    ">>> steps: list[commands] = [(commands.FOO, \"text\"), (commands.BAR, \"text\")]\n",
    "```\n",
    "\n",
    "For reproducibility."
   ]
  },
  {
   "cell_type": "code",
   "execution_count": null,
   "id": "2",
   "metadata": {},
   "outputs": [],
   "source": [
    "from pyrit.executor.attack.multi_turn import MultiBranchAttack\n",
    "from pyrit.executor.attack.multi_turn import MultiBranchCommand as commands"
   ]
  },
  {
   "cell_type": "code",
   "execution_count": null,
   "id": "3",
   "metadata": {},
   "outputs": [],
   "source": [
    "mb_attack = MultiBranchAttack(\n",
    "    objective_target=...,\n",
    "    configs=...\n",
    ")\n",
    "\n",
    "mb_attack = await mb_attack.execute_async_as_step(objective=prompt)\n",
    "print(mb_attack)\n",
    "\n",
    "await mb_attack.step(commands.SOMETHING, \"some input\")\n",
    "print(mb_attack)\n",
    "\n",
    "result = await mb_attack.close()\n",
    "\n",
    "await ConsoleAttackResultPrinter().print_result_async(result=result)"
   ]
  }
 ],
 "metadata": {
  "language_info": {
   "name": "python"
  }
 },
 "nbformat": 4,
 "nbformat_minor": 5
}
