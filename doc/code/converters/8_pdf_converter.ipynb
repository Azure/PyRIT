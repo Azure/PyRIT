{
 "cells": [
  {
   "cell_type": "markdown",
   "metadata": {},
   "source": [
    "# PDF Converter with Jinja2 Templates\n",
    "\n",
    "This notebook demonstrates a **PDF Converter** implementation using Python and Jinja2. The converter allows users to embed a prompt into a template file (PDF, Word, HTML) or create a new file with the prompt embedded. The Jinja2 templating engine handles the insertion of dynamic content into predefined placeholders.\n",
    "\n",
    "### Example Use Case:\n",
    "- Inject a prompt into a PDF file at a specific location (using a Jinja2 template).\n",
    "- This converter supports PDF, Word, and HTML files.\n",
    "\n",
    "### Libraries Used:\n",
    "- **Jinja2**: For templating dynamic content.\n",
    "- **FPDF**: For creating PDFs from the embedded prompt.\n",
    "- **python-docx**: For handling Word documents."
   ]
  },
  {
   "cell_type": "code",
   "execution_count": null,
   "metadata": {},
   "outputs": [],
   "source": [
    "# Importing necessary libraries\n",
    "from jinja2 import Template\n",
    "from fpdf import FPDF\n",
    "from docx import Document\n",
    "\n",
    "# Define a function to convert a prompt to PDF\n",
    "def convert_to_pdf(prompt, base_template=None):\n",
    "    if base_template:\n",
    "        # Use the Jinja2 template if a base file is provided\n",
    "        with open(base_template, 'r') as file:\n",
    "            template = Template(file.read())\n",
    "            content = template.render(prompt=prompt)\n",
    "    else:\n",
    "        content = prompt\n",
    "\n",
    "    # Create a PDF using FPDF\n",
    "    pdf = FPDF()\n",
    "    pdf.add_page()\n",
    "    pdf.set_font('Arial', size=12)\n",
    "    pdf.multi_cell(0, 10, content)\n",
    "    pdf.output('output.pdf')\n",
    "    print('PDF created successfully.')\n"
   ]
  },
  {
   "cell_type": "markdown",
   "metadata": {},
   "source": [
    "### Test the PDF Converter\n",
    "\n",
    "You can now test the PDF converter with a custom prompt. If no template is provided, the prompt will be directly embedded into a PDF."
   ]
  },
  {
   "cell_type": "code",
   "execution_count": null,
   "metadata": {},
   "outputs": [],
   "source": [
    "# Example: Test with a prompt (no template)\n",
    "prompt = \"This is a sample prompt for the PDF Converter.\"\n",
    "convert_to_pdf(prompt)"
   ]
  },
  {
   "cell_type": "markdown",
   "metadata": {},
   "source": [
    "### Using Jinja2 Template\n",
    "\n",
    "Here we will create a Jinja2 template and use it to inject a prompt into the template. The template will have a placeholder where the prompt will be embedded."
   ]
  },
  {
   "cell_type": "code",
   "execution_count": null,
   "metadata": {},
   "outputs": [],
   "source": [
    "# Example Jinja2 Template\n",
    "template_content = \"\"\"\n",
    "    Hello, {{ prompt }}!\n",
    "    This PDF was generated dynamically using Jinja2 and FPDF.\n",
    "\"\"\"\n",
    "\n",
    "# Save the template to a file\n",
    "with open('template.txt', 'w') as f:\n",
    "    f.write(template_content)\n",
    "\n",
    "# Use the template for PDF conversion\n",
    "convert_to_pdf(\"This is a dynamic prompt!\", base_template='template.txt')"
   ]
  },
  {
   "cell_type": "markdown",
   "metadata": {},
   "source": [
    "### Conclusion\n",
    "\n",
    "This notebook demonstrated how to create a simple PDF converter using Python and Jinja2 templates. You can expand on this by adding support for Word and HTML files, as well as customizing the templates further."
   ]
  }
 ],
 "metadata": {
  "kernelspec": {
   "display_name": "Python 3",
   "language": "python",
   "name": "python3"
  },
  "language_info": {
   "codemirror_mode": {
    "name": "ipython",
    "version": 3
   },
   "file_extension": ".py",
   "mimetype": "text/x-python",
   "name": "python",
   "nbconvert_exporter": "python",
   "pygments_lexer": "ipython3",
   "version": "3.9.7"
  }
 },
 "nbformat": 4,
 "nbformat_minor": 5
}
