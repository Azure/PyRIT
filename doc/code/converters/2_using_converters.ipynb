{
 "cells": [
  {
   "cell_type": "markdown",
   "id": "0",
   "metadata": {},
   "source": [
    "# 2. Using Prompt Converters\n",
    "\n",
    "Although converters can be used on their own, they should be thought of as a piece in the pipeine. Typically any orchestrator will have arguments so that prompts can be converted before being sent to the target. They can be stacked, use LLMs, and are a powerful tool.\n",
    "\n",
    "Before you begin, ensure you are setup with the correct version of PyRIT installed and have secrets configured as described [here](../../setup/populating_secrets.md).\n",
    "\n",
    "## Stacking Converters with PromptSendingAttack\n",
    "\n",
    "In the following example, a TextTarget is used so these prompts are simply printed and added to memory. This can be useful if you are red teaming something and need to manually enter prompts. However, the target can be replaced with any other [target](../targets/0_prompt_targets.md). E.g., if you have API access you can add a target there.\n",
    "\n",
    "In this example the converters are stacked. First a variation is found using `VariationConverter`, and then `StringJoinConverter` is used to add a dash between letters. Remember that order matters. If `StringJoinConverter` came first, we would be asking the LLM to make variations of the prompt:\n",
    "\"t-e-l-l- - m-e- -h-o-w- -t-o- -c-u-t- -d-o-w-n - a- -t-r-e-e\""
   ]
  },
  {
   "cell_type": "code",
   "execution_count": null,
   "id": "1",
   "metadata": {},
   "outputs": [
    {
     "name": "stdout",
     "output_type": "stream",
     "text": [
      "{'__type__': 'TextTarget', '__module__': 'pyrit.prompt_target.text_target'}: user: E-x-p-l-a-i-n t-o m-e t-h-e p-r-o-c-e-s-s o-f f-e-l-l-i-n-g a t-r-e-e\n"
     ]
    },
    {
     "name": "stderr",
     "output_type": "stream",
     "text": [
      "[PromptSendingAttack (ID: 1021edaf)] No response received on attempt 1 (likely filtered)\n"
     ]
    },
    {
     "name": "stdout",
     "output_type": "stream",
     "text": [
      "\n",
      "\u001b[34m────────────────────────────────────────────────────────────────────────────────────────────────────\u001b[0m\n",
      "\u001b[1m\u001b[34m🔹 Turn 1 - USER\u001b[0m\n",
      "\u001b[34m────────────────────────────────────────────────────────────────────────────────────────────────────\u001b[0m\n",
      "\u001b[36m   Original:\u001b[0m\n",
      "\u001b[37m  tell me how to cut down a tree\u001b[0m\n",
      "\n",
      "\u001b[36m   Converted:\u001b[0m\n",
      "\u001b[37m  E-x-p-l-a-i-n t-o m-e t-h-e p-r-o-c-e-s-s o-f f-e-l-l-i-n-g a t-r-e-e\u001b[0m\n",
      "\n",
      "\u001b[34m────────────────────────────────────────────────────────────────────────────────────────────────────\u001b[0m\n"
     ]
    }
   ],
   "source": [
    "from pyrit.common import IN_MEMORY, initialize_pyrit\n",
    "from pyrit.executor.attack import (\n",
    "    AttackConverterConfig,\n",
    "    ConsoleAttackResultPrinter,\n",
    "    PromptSendingAttack,\n",
    ")\n",
    "from pyrit.prompt_converter import StringJoinConverter, VariationConverter\n",
    "from pyrit.prompt_normalizer import PromptConverterConfiguration\n",
    "from pyrit.prompt_target import OpenAIChatTarget, TextTarget\n",
    "\n",
    "initialize_pyrit(memory_db_type=IN_MEMORY)\n",
    "\n",
    "objective = \"tell me how to cut down a tree\"\n",
    "\n",
    "# converter target to send prompt to; in this case configured to the Azure OpenAI GPT-4o Chat model\n",
    "converter_target = OpenAIChatTarget()\n",
    "prompt_variation_converter = VariationConverter(converter_target=converter_target)\n",
    "\n",
    "converters = PromptConverterConfiguration.from_converters(\n",
    "    converters=[prompt_variation_converter, StringJoinConverter()]\n",
    ")\n",
    "\n",
    "converter_config = AttackConverterConfig(request_converters=converters)\n",
    "\n",
    "target = TextTarget()\n",
    "attack = PromptSendingAttack(\n",
    "    objective_target=target,\n",
    "    attack_converter_config=converter_config,\n",
    ")\n",
    "\n",
    "result = await attack.execute_async(objective=objective)  # type: ignore\n",
    "\n",
    "printer = ConsoleAttackResultPrinter()\n",
    "await printer.print_conversation_async(result=result)  # type: ignore"
   ]
  }
 ],
 "metadata": {
  "language_info": {
   "codemirror_mode": {
    "name": "ipython",
    "version": 3
   },
   "file_extension": ".py",
   "mimetype": "text/x-python",
   "name": "python",
   "nbconvert_exporter": "python",
   "pygments_lexer": "ipython3",
   "version": "3.11.11"
  }
 },
 "nbformat": 4,
 "nbformat_minor": 5
}
