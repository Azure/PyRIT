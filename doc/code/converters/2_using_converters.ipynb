{
 "cells": [
  {
   "cell_type": "markdown",
   "id": "0",
   "metadata": {},
   "source": [
    "# 2. Using Prompt Converters\n",
    "\n",
    "Although converters can be used on their own, they should be thought of as a piece in the pipeine. Typically any orchestrator will have arguments so that prompts can be converted before being sent to the target. They can be stacked, use LLMs, and are a powerful tool.\n",
    "\n",
    "Before you begin, ensure you are setup with the correct version of PyRIT installed and have secrets configured as described [here](../../setup/populating_secrets.md).\n",
    "\n",
    "## Stacking Converters with PromptSendingOrchestrator\n",
    "\n",
    "In the following example, a TextTarget is used so these prompts are simply printed and added to memory. This can be useful if you are red teaming something and need to manually enter prompts. However, the target can be replaced with any other [target](../targets/README.md. E.g., if you have API access you can add a target there.\n",
    "\n",
    "In this example the converters are stacked. First a variation is found using `VariationConverter`, and then `StringJoinConverter` is used to add a dash between letters. Remember that order matters. If `StringJoinConverter` came first, we would be asking the LLM to make variations of the prompt:\n",
    "\"t-e-l-l- - m-e- -h-o-w- -t-o- -c-u-t- -d-o-w-n - a- -t-r-e-e\""
   ]
  },
  {
   "cell_type": "code",
   "execution_count": null,
   "id": "1",
   "metadata": {},
   "outputs": [],
   "source": [
    "\n",
    "from pyrit.common import default_values\n",
    "from pyrit.prompt_target import TextTarget, OpenAIChatTarget\n",
    "from pyrit.prompt_converter import VariationConverter, StringJoinConverter\n",
    "from pyrit.orchestrator import PromptSendingOrchestrator\n",
    "\n",
    "\n",
    "default_values.load_environment_files()\n",
    "\n",
    "prompts = [\"tell me how to cut down a tree\"]\n",
    "\n",
    "# converter target to send prompt to; in this case configured to the Azure OpenAI GPT-4o Chat model\n",
    "converter_target = OpenAIChatTarget()\n",
    "prompt_variation_converter = VariationConverter(converter_target=converter_target)\n",
    "\n",
    "\n",
    "target = TextTarget()\n",
    "\n",
    "with PromptSendingOrchestrator(\n",
    "    prompt_target=target, prompt_converters=[prompt_variation_converter, StringJoinConverter()]\n",
    ") as orchestrator:\n",
    "    await orchestrator.send_prompts_async(prompt_list=prompts)  # type: ignore"
   ]
  },
  {
   "cell_type": "markdown",
   "id": "2",
   "metadata": {
    "lines_to_next_cell": 0
   },
   "source": [
    "## Extracting problematic claims\n",
    "\n",
    "TestGenie relies on a simple observation: *a textual statement is problematic because it contains a claim that is recognized as problematic.*\n",
    "Thus, given an example\n",
    "He should stay inside. Since he has cancer, if he goes outside [someone could get it]\n",
    "\n",
    "TestGenie first tries to extract problematic claims that are contained by the statement:\n",
    "  `Cancer is contagious`\n",
    "\n",
    "A claim is a brief statement that asserts a relationship between entities in the sentence. It usually consists of a subject, verb, and object.\n",
    "\n",
    "Claims are expressed in simple language and are general in nature (`COVID is a hoax` is a valid claim; `Some say COVID might be a hoax` is not). Remember that the *claim itself*\n",
    "should be problematic (e.g., `Murder is acceptable` is problematic, `Murder is wrong` is not)"
   ]
  },
  {
   "cell_type": "code",
   "execution_count": null,
   "id": "3",
   "metadata": {},
   "outputs": [],
   "source": [
    "import warnings\n",
    "\n",
    "warnings.filterwarnings(\"ignore\", category=DeprecationWarning)\n",
    "\n",
    "from pyrit.common import default_values\n",
    "\n",
    "default_values.load_environment_files()\n",
    "\n",
    "from pyrit.prompt_target import TextTarget\n",
    "from pyrit.prompt_converter import ClaimConverter, StringJoinConverter\n",
    "from pyrit.orchestrator import PromptSendingOrchestrator\n",
    "\n",
    "prompts = [\"He should stay inside. Since he has cancer, if he goes outside someone could get it.\"]\n",
    "\n",
    "# converter target to send prompt to; in this case configured to the Azure OpenAI GPT-4o Chat model\n",
    "# converter_target = AzureOpenAIGPT4OChatTarget()\n",
    "prompt_claim_converter = ClaimConverter(converter_target=None)\n",
    "\n",
    "\n",
    "target = TextTarget()\n",
    "\n",
    "with PromptSendingOrchestrator(prompt_target=target, prompt_converters=[prompt_claim_converter]) as orchestrator:\n",
    "    await orchestrator.send_prompts_async(prompt_list=prompts)  # type: ignore"
   ]
  },
  {
   "cell_type": "code",
   "execution_count": null,
   "id": "4",
   "metadata": {},
   "outputs": [],
   "source": []
  }
 ],
 "metadata": {
  "kernelspec": {
   "display_name": "pyrit_kernel",
   "language": "python",
   "name": "pyrit_kernel"
  }
 },
 "nbformat": 4,
 "nbformat_minor": 5
}
