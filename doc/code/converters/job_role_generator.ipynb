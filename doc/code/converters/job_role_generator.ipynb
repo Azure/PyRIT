{
 "cells": [
  {
   "cell_type": "markdown",
   "id": "77d79c59",
   "metadata": {
    "lines_to_next_cell": 0
   },
   "source": [
    "# Job Role Generator\n",
    "\n",
    "The Job Role Generator attack module adds demographic groups to the job role. \n",
    "\n",
    "This attack module was sourced from Project Moonshot.\n",
    "Reference: [Job Role Generator](https://github.com/aiverify-foundation/moonshot-data/blob/main/attack-modules/job_role_generator.py)"
   ]
  },
  {
   "cell_type": "code",
   "execution_count": null,
   "id": "b3aa5ddd",
   "metadata": {},
   "outputs": [],
   "source": [
    "import os\n",
    "\n",
    "from pyrit.prompt_converter import JobRoleGenerator\n",
    "from pyrit.prompt_target import OpenAIChatTarget\n",
    "\n",
    "from pyrit.common import default_values\n",
    "\n",
    "default_values.load_default_env()\n",
    "\n",
    "\n",
    "with OpenAIChatTarget(\n",
    "    api_key=os.environ.get(\"OPENAI_KEY\"),\n",
    "    endpoint=os.environ.get(\"OPENAI_ENDPOINT\"),\n",
    "    deployment_name=os.environ.get(\"OPENAI_DEPLOYMENT\"),\n",
    "    is_azure_target=False,  # Set to True if using Azure OpenAI\n",
    ") as attack_llm:\n",
    "\n",
    "    prompt = \"Software Engineer\"\n",
    "\n",
    "    job_role_converter = JobRoleGenerator(converter_target=attack_llm)\n",
    "\n",
    "    prompts = job_role_converter.manual_attack_demographics(prompt)\n",
    "\n",
    "    for p in prompts:\n",
    "        print(f\"{p}: {await job_role_converter.convert_async(prompt=p)}\") # type: ignore"
   ]
  }
 ],
 "metadata": {
  "kernelspec": {
   "display_name": "pyrit-311",
   "language": "python",
   "name": "python3"
  }
 },
 "nbformat": 4,
 "nbformat_minor": 5
}
