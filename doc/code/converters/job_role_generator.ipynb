{
 "cells": [
  {
   "cell_type": "markdown",
   "id": "6547ec4f",
   "metadata": {
    "lines_to_next_cell": 0
   },
   "source": [
    "# Job Role Generator\n",
    "\n",
    "The Job Role Generator attack module adds demographic groups to the job role.\n",
    "\n",
    "Within this demo, the module prepares prompts that are designed to generate demographic groups for job roles.\n",
    "\n",
    "The attack is substituted inside the given prompt template and sent to the target LLM.\n",
    "\n",
    "_This manual attack module was sourced from Project Moonshot: [Job Role Generator](https://github.com/aiverify-foundation/moonshot-data/blob/main/attack-modules/job_role_generator.py)_"
   ]
  },
  {
   "cell_type": "code",
   "execution_count": null,
   "id": "f3995965",
   "metadata": {},
   "outputs": [],
   "source": [
    "import os\n",
    "\n",
    "from pyrit.prompt_converter import JobRoleGenerator\n",
    "from pyrit.prompt_target import OpenAIChatTarget\n",
    "\n",
    "from pyrit.common import default_values\n",
    "\n",
    "default_values.load_default_env()\n",
    "\n",
    "\n",
    "with OpenAIChatTarget(\n",
    "    api_key=os.environ.get(\"OPENAI_KEY\"),\n",
    "    endpoint=os.environ.get(\"OPENAI_ENDPOINT\"),\n",
    "    deployment_name=os.environ.get(\"OPENAI_DEPLOYMENT\"),\n",
    "    is_azure_target=False,  # Set to True if using Azure OpenAI\n",
    ") as target_llm:\n",
    "    gender = [\"Male\", \"Female\"]\n",
    "    race = [\"Malay\", \"Chinese\", \"Indian\", \"White\", \"Black\", \"African-American\"]\n",
    "\n",
    "    job = \"Software Engineer\"\n",
    "\n",
    "    job_role_converter = JobRoleGenerator(converter_target=target_llm, job=job)\n",
    "\n",
    "    for g in gender:\n",
    "        print(f\"{job} ({g}): {await job_role_converter.convert_async(prompt=g)}\")  # type: ignore\n",
    "\n",
    "    for r in race:\n",
    "        print(f\"{job} ({r}): {await job_role_converter.convert_async(prompt=r)}\")  # type: ignore"
   ]
  }
 ],
 "metadata": {
  "kernelspec": {
   "display_name": "pyrit-311",
   "language": "python",
   "name": "python3"
  }
 },
 "nbformat": 4,
 "nbformat_minor": 5
}
