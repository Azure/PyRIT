{
 "cells": [
  {
   "cell_type": "markdown",
   "id": "7345053d",
   "metadata": {},
   "source": [
    "# Converters"
   ]
  },
  {
   "cell_type": "markdown",
   "id": "9fac94fe",
   "metadata": {},
   "source": [
    "Converters are used to transform prompts before sending them to the target.\n",
    "\n",
    "This can be useful for a variety of reasons, such as encoding the prompt in a different format, or adding additional information to the prompt. For example, you might want to convert a prompt to base64 before sending it to the target, or add a prefix to the prompt to indicate that it is a question."
   ]
  },
  {
   "cell_type": "markdown",
   "id": "0f5c283e",
   "metadata": {},
   "source": [
    "## Simple Converter Example"
   ]
  },
  {
   "cell_type": "markdown",
   "id": "fc70d505",
   "metadata": {},
   "source": [
    "Converters can be used to perform these types of transformations. Here is a simple program that uses Rot13Converter converter, RandomCapitalLettersConverter, and AsciiArtConverter."
   ]
  },
  {
   "cell_type": "code",
   "execution_count": 1,
   "id": "5ef007b1",
   "metadata": {
    "execution": {
     "iopub.execute_input": "2024-06-01T13:32:33.039792Z",
     "iopub.status.busy": "2024-06-01T13:32:33.039792Z",
     "iopub.status.idle": "2024-06-01T13:32:37.210659Z",
     "shell.execute_reply": "2024-06-01T13:32:37.203782Z"
    }
   },
   "outputs": [
    {
     "name": "stdout",
     "output_type": "stream",
     "text": [
      "text: gryy zr ubj gb phg qbja n gerr\n",
      "text: teLl me HOw To cut dowN A tree\n",
      "text:                                                                                                                                                                                                                                                                               \n",
      "                                                                                                                                                       #                                                                                                                      \n",
      "########  #######  ##       ##                ##   ##  #######           ##   ##  #######  ##   ##          ########  #######           #######  ##   ## ########           ######   #######  ##   ##  ###  ##           #######          ########  #######  #######  ####### \n",
      "   ##              ##       ##                ### ###                    ##   ##       ##  ## # ##             ##          ##                    ##   ##    ##                   ##       ##  ## # ##  #### ##                ##             ##          ##                   \n",
      "   ##     ####     ##       ##                #######  ####              #######  ##   ##  #######             ##     ##   ##           ##       ##   ##    ##              ##   ##  ##   ##  #######  ## ####           #######             ##     #######  ####     ####    \n",
      "   ##     ##       ##   ##  ##   ##           ## # ##  ##                ##   ##  ##   ##  ### ###             ##     ##   ##           ##       ##   ##    ##              ##   ##  ##   ##  ### ###  ##  ###           ##   ##             ##     ##  ##   ##       ##      \n",
      "   ##     #######  #######  #######           ##   ##  #######           ##   ##  #######  ##   ##             ##     #######           #######  #######    ##              ######   #######  ##   ##  ##   ##           ##   ##             ##     ##   ##  #######  ####### \n",
      "                                                                                                                                                                                                                                                                              \n",
      "\n"
     ]
    }
   ],
   "source": [
    "from pyrit.common import default_values\n",
    "from pyrit.prompt_converter import ROT13Converter, AsciiArtConverter, RandomCapitalLettersConverter\n",
    "\n",
    "\n",
    "default_values.load_default_env()\n",
    "\n",
    "prompt = \"tell me how to cut down a tree\"\n",
    "\n",
    "\n",
    "print(await ROT13Converter().convert_tokens_async(prompt=prompt))  # type: ignore\n",
    "print(await RandomCapitalLettersConverter(percentage=25.0).convert_tokens_async(prompt=prompt))  # type: ignore\n",
    "print(await AsciiArtConverter().convert_tokens_async(prompt=prompt))  # type: ignore"
   ]
  }
 ],
 "metadata": {
  "jupytext": {
   "cell_metadata_filter": "-all"
  },
  "kernelspec": {
   "display_name": "pyrit-dev",
   "language": "python",
   "name": "python3"
  },
  "language_info": {
   "codemirror_mode": {
    "name": "ipython",
    "version": 3
   },
   "file_extension": ".py",
   "mimetype": "text/x-python",
   "name": "python",
   "nbconvert_exporter": "python",
   "pygments_lexer": "ipython3",
   "version": "3.10.13"
  }
 },
 "nbformat": 4,
 "nbformat_minor": 5
}
