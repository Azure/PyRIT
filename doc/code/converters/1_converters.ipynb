{
 "cells": [
  {
   "cell_type": "markdown",
   "id": "7345053d",
   "metadata": {},
   "source": [
    "## Converters"
   ]
  },
  {
   "cell_type": "markdown",
   "id": "9fac94fe",
   "metadata": {},
   "source": [
    "Converters are used to transform prompts before sending them to the target.\n",
    "\n",
    "This can be useful for a variety of reasons, such as encoding the prompt in a different format, or adding additional information to the prompt. For example, you might want to convert a prompt to base64 before sending it to the target, or add a prefix to the prompt to indicate that it is a question."
   ]
  },
  {
   "cell_type": "markdown",
   "id": "0f5c283e",
   "metadata": {},
   "source": [
    "### Simple Converter Example"
   ]
  },
  {
   "cell_type": "markdown",
   "id": "fc70d505",
   "metadata": {},
   "source": [
    "Converters can be used to perform these types of transformations. Here is a simple program that uses Rot13Converter converter, RandomCapitalLettersConverter, and AsciiArtConverter"
   ]
  },
  {
   "cell_type": "code",
   "execution_count": 1,
   "id": "5ef007b1",
   "metadata": {
    "execution": {
     "iopub.execute_input": "2024-06-01T13:32:33.039792Z",
     "iopub.status.busy": "2024-06-01T13:32:33.039792Z",
     "iopub.status.idle": "2024-06-01T13:32:37.210659Z",
     "shell.execute_reply": "2024-06-01T13:32:37.203782Z"
    }
   },
   "outputs": [
    {
     "name": "stderr",
     "output_type": "stream",
     "text": [
      "None of PyTorch, TensorFlow >= 2.0, or Flax have been found. Models won't be available and only tokenizers, configuration and file/data utilities can be used.\n"
     ]
    },
    {
     "name": "stdout",
     "output_type": "stream",
     "text": [
      "text: gryy zr ubj gb phg qbja n gerr\n",
      "text:                                                                               \n",
      "_/_ _  / /  _ _  _   /_ _      _/_ _   _    _/_   _/ _      _   _  _/_ _ _  _ \n",
      "/  /_'/ /  / / //_' / //_/|/|/ /  /_/ /_ /_//   /_/ /_/|/|// / /_| /  / /_'/_'\n",
      "                                                                              \n",
      "\n",
      "text: TELL ME HOW TO CUT DOWN A TREE\n",
      "text: teLl me how to cut dowN a TRee\n",
      "text:  _         _______   _______   _______     _______   _______     _______   _______   _______     _         _______     _______   ______    _           _______   _______   _______   _______      ______     _         _______   _______   _______  \n",
      "| /_____  | ._ _. | /______ \\ /______ \\   `._   __| | ._ _. |   \\__   __\\ /  ____ \\ `._   __|   | /_____  /  ____ \\   / _____ \\ /_____ `. | /_____    |  ___  | /  ____ \\ `._   __| `._   __|   .`  _ ._|   | /_____  / ___  _| | ._ _. | | ._ _. | \n",
      "| ______/ | \\ v / |       / |       / |    _<  <__  | \\ v / |    __| |__  | /___/ |   _> >__    | ______/ | /___/ |   | \\   / |  _____\\ | | ______/   | '._.' | | /___/ |   _> >__   _`. `._    \\  \\_||_    | ______/ | \\_/  \\  | \\ v / | | \\ v / | \n",
      "|_\\       |_/   \\_|       \\_|       \\_|   /_______| |_/   \\_|   \\_______\\ \\_______/ .`______|   |_\\       \\_______/   \\_/   \\_/ \\______.` |_\\         '._____.' \\_______/ .`______| |_______|    `._____|   |_\\       `.__.`\\_| |_/   \\_| |_/   \\_| \n",
      "                                                                                                                                                                                                                                                    \n",
      "                                                                                                                                                                                                                                                    \n",
      "\n"
     ]
    }
   ],
   "source": [
    "# Copyright (c) Microsoft Corporation.\n",
    "# Licensed under the MIT license.\n",
    "\n",
    "from pyrit.common import default_values\n",
    "from pyrit.prompt_converter import ROT13Converter, AsciiArtConverter, RandomCapitalLettersConverter\n",
    "\n",
    "\n",
    "default_values.load_default_env()\n",
    "\n",
    "prompt = \"tell me how to cut down a tree\"\n",
    "\n",
    "\n",
    "print(await ROT13Converter().convert_async(prompt=prompt))  # type: ignore\n",
    "print(await AsciiArtConverter().convert_async(prompt=prompt))  # type: ignore\n",
    "print(await RandomCapitalLettersConverter().convert_async(prompt=prompt))  # type: ignore\n",
    "\n",
    "# With percentage of capital letters\n",
    "print(await RandomCapitalLettersConverter(percentage=25.0).convert_async(prompt=prompt))  # type: ignore\n",
    "\n",
    "print(await AsciiArtConverter().convert_async(prompt=prompt))  # type: ignore"
   ]
  },
  {
   "cell_type": "markdown",
   "id": "53721e7d",
   "metadata": {},
   "source": [
    "### Where do Converters fit?"
   ]
  },
  {
   "cell_type": "markdown",
   "id": "98be780c",
   "metadata": {},
   "source": [
    "Converters should be thought of as a piece in the pipeine.\n",
    "\n",
    "An orchestrator will typically initialize these requests, and they are sent to a target.\n",
    "Converters can also stack, so a converter is used one after another.\n",
    "\n",
    "See [demo3](../../demo/3_send_all_prompts.ipynb) and [demo4](../../demo/4_using_prompt_converters.ipynb) for an example of how to use a converter in the pipeline."
   ]
  }
 ],
 "metadata": {
  "jupytext": {
   "cell_metadata_filter": "-all"
  },
  "kernelspec": {
   "display_name": "pyrit-kernel",
   "language": "python",
   "name": "pyrit-kernel"
  },
  "language_info": {
   "codemirror_mode": {
    "name": "ipython",
    "version": 3
   },
   "file_extension": ".py",
   "mimetype": "text/x-python",
   "name": "python",
   "nbconvert_exporter": "python",
   "pygments_lexer": "ipython3",
   "version": "3.10.14"
  }
 },
 "nbformat": 4,
 "nbformat_minor": 5
}
