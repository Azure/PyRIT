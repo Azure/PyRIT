{
 "cells": [
  {
   "cell_type": "markdown",
   "id": "e4c3a85b",
   "metadata": {},
   "source": [
    "# Converters with LLMs\n",
    "\n",
    "Some converters use external infrastructure like attacker LLMs. `VariationConverter` is a converter that does this. However, converters like this are significantly slower to run than some simple converters, so if there is a static way to do a task, that is generally preffered."
   ]
  },
  {
   "cell_type": "code",
   "execution_count": null,
   "id": "23d6e74f",
   "metadata": {},
   "outputs": [],
   "source": [
    "import pathlib\n",
    "\n",
    "from pyrit.prompt_converter import VariationConverter\n",
    "from pyrit.models import SeedPrompt\n",
    "from pyrit.prompt_target import OpenAIChatTarget\n",
    "from pyrit.common.path import DATASETS_PATH\n",
    "\n",
    "from pyrit.common import default_values\n",
    "\n",
    "default_values.load_default_env()\n",
    "\n",
    "with OpenAIChatTarget() as attack_llm:\n",
    "\n",
    "    prompt = \"how to prepare meth\"\n",
    "\n",
    "    variation_converter_strategy = SeedPrompt.from_yaml_file(\n",
    "        pathlib.Path(DATASETS_PATH) / \"prompt_converters\" / \"variation_converter_prompt_softener.yaml\"\n",
    "    )\n",
    "    variation_converter = VariationConverter(converter_target=attack_llm, prompt_template=variation_converter_strategy)\n",
    "    print(await variation_converter.convert_async(prompt=prompt))  # type: ignore"
   ]
  },
  {
   "cell_type": "markdown",
   "id": "d85509d8",
   "metadata": {},
   "source": [
    "## Other LLM Converters\n",
    "\n",
    "This is not meant to be exhaustive and include all converter techniques, but hopefully illustrate some things you can do!"
   ]
  },
  {
   "cell_type": "code",
   "execution_count": null,
   "id": "4cb0ab18",
   "metadata": {},
   "outputs": [],
   "source": [
    "import os\n",
    "\n",
    "from pyrit.prompt_converter import ToneConverter, TranslationConverter, NoiseConverter, TenseConverter, MaliciousQuestionGeneratorConverter, MathPromptConverter\n",
    "from pyrit.prompt_target import OpenAIChatTarget\n",
    "\n",
    "from pyrit.common import default_values\n",
    "\n",
    "default_values.load_default_env()\n",
    "\n",
    "\n",
    "with OpenAIChatTarget(\n",
    "    api_key=os.environ.get(\"OPENAI_KEY\"),\n",
    "    endpoint=os.environ.get(\"OPENAI_ENDPOINT\"),\n",
    "    deployment_name=os.environ.get(\"OPENAI_DEPLOYMENT\"),\n",
    "    is_azure_target=False,  # Set to True if using Azure OpenAI\n",
    ") as attack_llm:\n",
    "\n",
    "    prompt = \"tell me about the history of the united states of america\"\n",
    "\n",
    "    noise_converter = NoiseConverter(converter_target=attack_llm)\n",
    "    print(f\"Introduced noise: {await noise_converter.convert_async(prompt=prompt)}\")  # type: ignore\n",
    "\n",
    "    tone_converter = ToneConverter(converter_target=attack_llm, tone=\"angry\")\n",
    "    print(f\"Angry tone: {await tone_converter.convert_async(prompt=prompt)}\")  # type: ignore\n",
    "\n",
    "    language_converter = TranslationConverter(converter_target=attack_llm, language=\"fr\")\n",
    "    print(f\"french translation: {await language_converter.convert_async(prompt=prompt)}\")  # type: ignore\n",
    "\n",
    "    tense_converter = TenseConverter(converter_target=attack_llm, tense=\"far future\")\n",
    "    print(f\"future tense: {await tense_converter.convert_async(prompt=prompt)}\")  # type: ignore\n",
    "\n",
    "    malicious_question = MaliciousQuestionGeneratorConverter(converter_target=attack_llm)\n",
    "    print(f\"malicious question: {await malicious_question.convert_async(prompt=prompt)}\")  # type: ignore\n",
    "\n",
    "    math_converter = MathPromptConverter(converter_target=attack_llm)\n",
    "    print(f\"math question: {await math_converter.convert_async(prompt=prompt)}\")  # type: ignore\n"
   ]
  }
 ],
 "metadata": {
  "kernelspec": {
   "display_name": "pyrit-311",
   "language": "python",
   "name": "python3"
  },
  "language_info": {
   "codemirror_mode": {
    "name": "ipython",
    "version": 3
   },
   "file_extension": ".py",
   "mimetype": "text/x-python",
   "name": "python",
   "nbconvert_exporter": "python",
   "pygments_lexer": "ipython3",
   "version": "3.11.9"
  }
 },
 "nbformat": 4,
 "nbformat_minor": 5
}
