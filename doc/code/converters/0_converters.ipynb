{
 "cells": [
  {
   "cell_type": "markdown",
   "id": "0",
   "metadata": {},
   "source": [
    "# Converters"
   ]
  },
  {
   "cell_type": "markdown",
   "id": "1",
   "metadata": {},
   "source": [
    "Converters are used to transform prompts before sending them to the target.\n",
    "\n",
    "This can be useful for a variety of reasons, such as encoding the prompt in a different format, or adding additional information to the prompt. For example, you might want to convert a prompt to base64 before sending it to the target, or add a prefix to the prompt to indicate that it is a question."
   ]
  },
  {
   "cell_type": "markdown",
   "id": "2",
   "metadata": {},
   "source": [
    "## Simple Converter Example"
   ]
  },
  {
   "cell_type": "markdown",
   "id": "3",
   "metadata": {},
   "source": [
    "Converters can be used to perform these types of transformations. Here is a simple program that uses Rot13Converter converter, RandomCapitalLettersConverter, and AsciiArtConverter."
   ]
  },
  {
   "cell_type": "code",
   "execution_count": null,
   "id": "4",
   "metadata": {
    "lines_to_next_cell": 2
   },
   "outputs": [
    {
     "name": "stdout",
     "output_type": "stream",
     "text": [
      "text: gryy zr ubj gb phg qbja n gerr\n",
      "text: tElL me How tO cuT dOwn a tRee\n",
      "text:  ____  ____  __    __      __  __  ____    _   _  _____  _    _    ____  _____     ___  __  __  ____    ____   _____  _    _  _  _      __      ____  ____  ____  ____ \n",
      "(_  _)( ___)(  )  (  )    (  \\/  )( ___)  ( )_( )(  _  )( \\/\\/ )  (_  _)(  _  )   / __)(  )(  )(_  _)  (  _ \\ (  _  )( \\/\\/ )( \\( )    /__\\    (_  _)(  _ \\( ___)( ___)\n",
      "  )(   )__)  )(__  )(__    )    (  )__)    ) _ (  )(_)(  )    (     )(   )(_)(   ( (__  )(__)(   )(     )(_) ) )(_)(  )    (  )  (    /(__)\\     )(   )   / )__)  )__) \n",
      " (__) (____)(____)(____)  (_/\\/\\_)(____)  (_) (_)(_____)(__/\\__)   (__) (_____)   \\___)(______) (__)   (____/ (_____)(__/\\__)(_)\\_)  (__)(__)   (__) (_)\\_)(____)(____)\n",
      "\n",
      "text: 0000000001110100 0000000001100101 0000000001101100 0000000001101100 0000000000100000 0000000001101101 0000000001100101 0000000000100000 0000000001101000 0000000001101111 0000000001110111 0000000000100000 0000000001110100 0000000001101111 0000000000100000 0000000001100011 0000000001110101 0000000001110100 0000000000100000 0000000001100100 0000000001101111 0000000001110111 0000000001101110 0000000000100000 0000000001100001 0000000000100000 0000000001110100 0000000001110010 0000000001100101 0000000001100101\n"
     ]
    }
   ],
   "source": [
    "from pyrit.common import default_values\n",
    "from pyrit.prompt_converter import ROT13Converter, AsciiArtConverter, RandomCapitalLettersConverter, BinaryConverter\n",
    "\n",
    "default_values.load_environment_files()\n",
    "\n",
    "prompt = \"tell me how to cut down a tree\"\n",
    "\n",
    "\n",
    "print(await ROT13Converter().convert_tokens_async(prompt=prompt))  # type: ignore\n",
    "print(await RandomCapitalLettersConverter(percentage=25.0).convert_tokens_async(prompt=prompt))  # type: ignore\n",
    "print(await AsciiArtConverter().convert_tokens_async(prompt=prompt))  # type: ignore\n",
    "print(await BinaryConverter().convert_tokens_async(prompt=prompt))  # type: ignore"
   ]
  }
 ],
 "metadata": {
  "jupytext": {
   "cell_metadata_filter": "-all"
  },
  "kernelspec": {
   "display_name": "pyrit-311",
   "language": "python",
   "name": "python3"
  },
  "language_info": {
   "codemirror_mode": {
    "name": "ipython",
    "version": 3
   },
   "file_extension": ".py",
   "mimetype": "text/x-python",
   "name": "python",
   "nbconvert_exporter": "python",
   "pygments_lexer": "ipython3",
   "version": "3.11.10"
  }
 },
 "nbformat": 4,
 "nbformat_minor": 5
}
