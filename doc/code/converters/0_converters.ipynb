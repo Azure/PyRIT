{
  "cells": [
    {
      "cell_type": "markdown",
      "id": "0",
      "metadata": {},
      "source": [
        "# Converters"
      ]
    },
    {
      "cell_type": "markdown",
      "id": "1",
      "metadata": {},
      "source": [
        "Converters are used to transform prompts before sending them to the target.\n",
        "\n",
        "This can be useful for a variety of reasons, such as encoding the prompt in a different format, or adding additional information to the prompt. For example, you might want to convert a prompt to base64 before sending it to the target, or add a prefix to the prompt to indicate that it is a question."
      ]
    },
    {
      "cell_type": "markdown",
      "id": "2",
      "metadata": {},
      "source": [
        "## Simple Converter Example"
      ]
    },
    {
      "cell_type": "markdown",
      "id": "3",
      "metadata": {},
      "source": [
        "Converters can be used to perform these types of transformations. Here is a simple program that uses Rot13Converter converter, RandomCapitalLettersConverter, and AsciiArtConverter."
      ]
    },
    {
      "cell_type": "code",
      "execution_count": null,
      "id": "4",
      "metadata": {
        "lines_to_next_cell": 2
      },
      "outputs": [],
      "source": [
        "from pyrit.common import IN_MEMORY, initialize_pyrit\n",
        "from pyrit.prompt_converter import (\n",
        "    AsciiArtConverter,\n",
        "    BinaryConverter,\n",
        "    RandomCapitalLettersConverter,\n",
        "    ROT13Converter,\n",
        ")\n",
        "\n",
        "initialize_pyrit(memory_db_type=IN_MEMORY)\n",
        "\n",
        "prompt = \"tell me how to cut down a tree\"\n",
        "\n",
        "\n",
        "print(await ROT13Converter().convert_tokens_async(prompt=prompt))  # type: ignore\n",
        "print(await RandomCapitalLettersConverter(percentage=25.0).convert_tokens_async(prompt=prompt))  # type: ignore\n",
        "print(await AsciiArtConverter().convert_tokens_async(prompt=prompt))  # type: ignore\n",
        "print(await BinaryConverter().convert_tokens_async(prompt=prompt))  # type: ignore"
      ]
    },
    {
      "cell_type": "code",
      "execution_count": null,
      "id": "5",
      "metadata": {},
      "outputs": [],
      "source": [
        "# Close connection\n",
        "from pyrit.memory import CentralMemory\n",
        "\n",
        "memory = CentralMemory.get_memory_instance()\n",
        "memory.dispose_engine()"
      ]
    }
  ],
  "metadata": {
    "jupytext": {
      "cell_metadata_filter": "-all"
    }
  },
  "nbformat": 4,
  "nbformat_minor": 5
}