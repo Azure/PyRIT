{
 "cells": [
  {
   "cell_type": "markdown",
   "id": "1c9ae3e0",
   "metadata": {},
   "source": [
    "# Converters"
   ]
  },
  {
   "cell_type": "markdown",
   "id": "e7d8d772",
   "metadata": {},
   "source": [
    "Converters are used to transform prompts before sending them to the target.\n",
    "\n",
    "This can be useful for a variety of reasons, such as encoding the prompt in a different format, or adding additional information to the prompt. For example, you might want to convert a prompt to base64 before sending it to the target, or add a prefix to the prompt to indicate that it is a question."
   ]
  },
  {
   "cell_type": "markdown",
   "id": "e687835e",
   "metadata": {},
   "source": [
    "## Simple Converter Example"
   ]
  },
  {
   "cell_type": "markdown",
   "id": "d519ef75",
   "metadata": {},
   "source": [
    "Converters can be used to perform these types of transformations. Here is a simple program that uses Rot13Converter converter, RandomCapitalLettersConverter, and AsciiArtConverter."
   ]
  },
  {
   "cell_type": "code",
   "execution_count": 1,
   "id": "a021d500",
   "metadata": {
    "execution": {
     "iopub.execute_input": "2024-11-16T05:29:22.497533Z",
     "iopub.status.busy": "2024-11-16T05:29:22.497533Z",
     "iopub.status.idle": "2024-11-16T05:29:31.689647Z",
     "shell.execute_reply": "2024-11-16T05:29:31.686558Z"
    }
   },
   "outputs": [
    {
     "name": "stderr",
     "output_type": "stream",
     "text": [
      "None of PyTorch, TensorFlow >= 2.0, or Flax have been found. Models won't be available and only tokenizers, configuration and file/data utilities can be used.\n"
     ]
    },
    {
     "name": "stdout",
     "output_type": "stream",
     "text": [
      "text: gryy zr ubj gb phg qbja n gerr\n",
      "text: tell mE how to cut DoWn A trEe\n",
      "text: ######   #######  ####     ####              ##   ##  #######           ##   ##   #####   ##   ##           ######    #####              ####   ##   ##  ######            #####     #####   ##   ##  ##   ##             ###             ######   ######   #######  #######  \n",
      "  ##      ##       ##       ##               ### ###   ##               ##   ##  ##   ##  ##   ##             ##     ##   ##            ##  ##  ##   ##    ##               ## ##   ##   ##  ##   ##  ###  ##            ## ##              ##     ##   ##   ##       ##      \n",
      "  ##      ##       ##       ##               #######   ##               ##   ##  ##   ##  ##   ##             ##     ##   ##           ##       ##   ##    ##               ##  ##  ##   ##  ##   ##  #### ##           ##   ##             ##     ##   ##   ##       ##      \n",
      "  ##      ####     ##       ##               ## # ##   ####             #######  ##   ##  ## # ##             ##     ##   ##           ##       ##   ##    ##               ##  ##  ##   ##  ## # ##  ## ####           #######             ##     ######    ####     ####    \n",
      "  ##      ##       ##       ##               ##   ##   ##               ##   ##  ##   ##  #######             ##     ##   ##           ##       ##   ##    ##               ##  ##  ##   ##  #######  ##  ###           ##   ##             ##     #####     ##       ##      \n",
      "  ##      ##       ##       ##               ##   ##   ##               ##   ##  ##   ##  ### ###             ##     ##   ##            ##  ##  ##   ##    ##               ## ##   ##   ##  ### ###  ##   ##           ##   ##             ##     ##  ##    ##       ##      \n",
      "  ##     #######  #######  #######           ##   ##  #######           ##   ##   #####   ##   ##             ##      #####              ####    #####     ##              #####     #####   ##   ##  ##   ##           ##   ##             ##     ##   ##  #######  #######  \n",
      "                                                                                                                                                                                                                                                                              \n",
      "\n"
     ]
    }
   ],
   "source": [
    "from pyrit.common import default_values\n",
    "from pyrit.prompt_converter import ROT13Converter, AsciiArtConverter, RandomCapitalLettersConverter\n",
    "\n",
    "\n",
    "default_values.load_environment_files()\n",
    "\n",
    "prompt = \"tell me how to cut down a tree\"\n",
    "\n",
    "\n",
    "print(await ROT13Converter().convert_tokens_async(prompt=prompt))  # type: ignore\n",
    "print(await RandomCapitalLettersConverter(percentage=25.0).convert_tokens_async(prompt=prompt))  # type: ignore\n",
    "print(await AsciiArtConverter().convert_tokens_async(prompt=prompt))  # type: ignore"
   ]
  }
 ],
 "metadata": {
  "jupytext": {
   "cell_metadata_filter": "-all"
  },
  "kernelspec": {
   "display_name": "pyrit_release_test_050",
   "language": "python",
   "name": "pyrit_release_test_050"
  },
  "language_info": {
   "codemirror_mode": {
    "name": "ipython",
    "version": 3
   },
   "file_extension": ".py",
   "mimetype": "text/x-python",
   "name": "python",
   "nbconvert_exporter": "python",
   "pygments_lexer": "ipython3",
   "version": "3.11.10"
  }
 },
 "nbformat": 4,
 "nbformat_minor": 5
}
