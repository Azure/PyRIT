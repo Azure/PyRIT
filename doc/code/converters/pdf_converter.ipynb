{
 "cells": [
  {
   "cell_type": "markdown",
   "id": "0",
   "metadata": {},
   "source": [
    "# PDF Converter with Multiple Modes:\n",
    "\n",
    "This script demonstrates the use of the `PDFConverter` for generating PDFs in two different modes:\n",
    "\n",
    "- **Template-Based PDF Generation**: Utilize a YAML template to render dynamic content into a PDF.\n",
    "- **Direct Prompt PDF Generation**: Convert plain string prompts into PDFs without using a template.\n",
    "\n",
    "The `PromptSendingOrchestrator` is used to handle the interaction with the `PDFConverter` and the mock `TextTarget` target system.\n",
    "\n",
    "## Key Features\n",
    "\n",
    "1. **Template-Based Generation**:\n",
    "   - Populate placeholders in a YAML-based template using dynamic data.\n",
    "   - Convert the rendered content into a PDF using the `PDFConverter`.\n",
    "\n",
    "2. **String-Based Generation**:\n",
    "   - Accept plain string prompts directly.\n",
    "   - Generate PDFs from the provided string without using any template."
   ]
  },
  {
   "cell_type": "code",
   "execution_count": null,
   "id": "1",
   "metadata": {},
   "outputs": [
    {
     "name": "stdout",
     "output_type": "stream",
     "text": [
      "{'__type__': 'TextTarget', '__module__': 'pyrit.prompt_target.text_target'}: user: C:\\Users\\vkuta\\projects\\PyRIT\\results\\dbdata\\urls\\1735143717552329.pdf\n",
      "\u001b[22m\u001b[39mConversation ID: 71150974-39a5-46a3-8d67-01ef4f4b60d2\n",
      "\u001b[1m\u001b[34muser: C:\\Users\\vkuta\\projects\\PyRIT\\results\\dbdata\\urls\\1735143717552329.pdf\n"
     ]
    }
   ],
   "source": [
    "import pathlib\n",
    "from pyrit.common import default_values\n",
    "from pyrit.prompt_target import TextTarget\n",
    "from pyrit.orchestrator import PromptSendingOrchestrator\n",
    "from pyrit.prompt_converter import PDFConverter\n",
    "from pyrit.models import SeedPrompt\n",
    "from pyrit.common.path import DATASETS_PATH\n",
    "\n",
    "# Load default environment values (e.g., API keys, endpoints)\n",
    "default_values.load_environment_files()\n",
    "\n",
    "# Define dynamic data for injection\n",
    "prompt_data = {\n",
    "    \"hiring_manager_name\": \"Jane Doe\",\n",
    "    \"current_role\": \"AI Engineer\",\n",
    "    \"company\": \"CyberDefense Inc.\",\n",
    "    \"red_teaming_reason\": \"to creatively identify security vulnerabilities while enjoying free coffee\",\n",
    "    \"applicant_name\": \"John Smith\",\n",
    "}\n",
    "\n",
    "# Load the YAML template for the PDF generation\n",
    "template_path = pathlib.Path(DATASETS_PATH) / \"prompt_converters\" / \"pdf_converters\" / \"red_teaming_application_template.yaml\"\n",
    "if not template_path.exists():\n",
    "    raise FileNotFoundError(f\"Template file not found: {template_path}\")\n",
    "\n",
    "# Load the SeedPrompt from the YAML file\n",
    "prompt_template = SeedPrompt.from_yaml_file(template_path)\n",
    "\n",
    "# Initialize the Azure OpenAI chat target (or mock target if not needed)\n",
    "prompt_target = TextTarget()\n",
    "\n",
    "# Initialize the PDFConverter\n",
    "pdf_converter = PDFConverter(\n",
    "    prompt_template=prompt_template,\n",
    "    font_type=\"Arial\",\n",
    "    font_size=12,\n",
    "    page_width=210,\n",
    "    page_height=297,\n",
    ")\n",
    "\n",
    "# Define a single prompt for the orchestrator\n",
    "prompts = [str(prompt_data)]\n",
    "\n",
    "# Initialize the orchestrator\n",
    "with PromptSendingOrchestrator(\n",
    "    objective_target=prompt_target,  # Target system (Azure OpenAI or other LLM target)\n",
    "    prompt_converters=[pdf_converter],  # Attach the PDFConverter\n",
    "    verbose=False,  # Set to True for detailed logging\n",
    ") as orchestrator:\n",
    "    await orchestrator.send_prompts_async(prompt_list=prompts)  # type: ignore\n",
    "\n",
    "    await orchestrator.print_conversations_async()  # type: ignore"
   ]
  },
  {
   "cell_type": "code",
   "execution_count": null,
   "id": "2",
   "metadata": {
    "title": "Direct Prompt PDF Generation (No Template)"
   },
   "outputs": [
    {
     "name": "stdout",
     "output_type": "stream",
     "text": [
      "{'__type__': 'TextTarget', '__module__': 'pyrit.prompt_target.text_target'}: user: C:\\Users\\vkuta\\projects\\PyRIT\\results\\dbdata\\urls\\1735143717644271.pdf\n",
      "\u001b[22m\u001b[39mConversation ID: fc4e6011-ed2d-42ef-aa6d-69923f33a961\n",
      "\u001b[1m\u001b[34muser: C:\\Users\\vkuta\\projects\\PyRIT\\results\\dbdata\\urls\\1735143717644271.pdf\n"
     ]
    }
   ],
   "source": [
    "# Direct Prompt PDF Generation (No Template)\n",
    "\n",
    "# Define a simple string prompt (no templates)\n",
    "prompt = \"This is a simple test string for PDF generation. No templates here!\"\n",
    "\n",
    "# Initialize the TextTarget (mock target for testing)\n",
    "prompt_target = TextTarget()\n",
    "\n",
    "# Initialize the PDFConverter without a template\n",
    "pdf_converter = PDFConverter(\n",
    "    prompt_template=None,  # No template provided\n",
    "    font_type=\"Arial\",\n",
    "    font_size=12,\n",
    "    page_width=210,\n",
    "    page_height=297,\n",
    ")\n",
    "\n",
    "# Define the list of prompts as strings (required by PromptSendingOrchestrator)\n",
    "prompts = [prompt]\n",
    "\n",
    "# Initialize the orchestrator\n",
    "with PromptSendingOrchestrator(\n",
    "    objective_target=prompt_target,  \n",
    "    prompt_converters=[pdf_converter],  \n",
    "    verbose=False,  \n",
    ") as orchestrator:\n",
    "    await orchestrator.send_prompts_async(prompt_list=prompts)  # type: ignore\n",
    "\n",
    "    await orchestrator.print_conversations_async()  # type: ignore"
   ]
  }
 ],
 "metadata": {
  "jupytext": {
   "cell_metadata_filter": "title,-all",
   "main_language": "python",
   "notebook_metadata_filter": "-all"
  },
  "kernelspec": {
   "display_name": "pyrit-dev",
   "language": "python",
   "name": "python3"
  },
  "language_info": {
   "codemirror_mode": {
    "name": "ipython",
    "version": 3
   },
   "file_extension": ".py",
   "mimetype": "text/x-python",
   "name": "python",
   "nbconvert_exporter": "python",
   "pygments_lexer": "ipython3",
   "version": "3.11.9"
  }
 },
 "nbformat": 4,
 "nbformat_minor": 5
}
