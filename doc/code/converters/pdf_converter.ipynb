{
 "cells": [
  {
   "cell_type": "markdown",
   "id": "0",
   "metadata": {},
   "source": [
    "PDF Converter with PromptSendingOrchestrator\n",
    "\n",
    "This script demonstrates how to use the `PDFConverter` within the `PromptSendingOrchestrator` framework.\n",
    "It embeds prompts into PDF files using a Jinja2 template or generates PDFs directly from prompts."
   ]
  },
  {
   "cell_type": "code",
   "execution_count": null,
   "id": "1",
   "metadata": {},
   "outputs": [],
   "source": [
    "import pathlib\n",
    "from pyrit.prompt_converter import PDFConverter\n",
    "from pyrit.common.path import DATASETS_PATH"
   ]
  },
  {
   "cell_type": "code",
   "execution_count": null,
   "id": "2",
   "metadata": {},
   "outputs": [
    {
     "name": "stdout",
     "output_type": "stream",
     "text": [
      "Generated PDF saved at: C:\\Users\\vkuta\\projects\\PyRIT\\results\\dbdata\\urls\\1734737293958766.pdf\n"
     ]
    }
   ],
   "source": [
    "template_path = pathlib.Path(DATASETS_PATH) / \"prompt_templates\" / \"pdf\" / \"red_teaming_application_template.j2\"\n",
    "\n",
    "# Prepare the dynamic data to populate the template\n",
    "prompt_data = {\n",
    "    \"hiring_manager_name\": \"Jane Doe\",\n",
    "    \"current_role\": \"AI Engineer\",\n",
    "    \"company\": \"CyberDefense Inc.\",\n",
    "    \"red_teaming_reason\": \"to creatively identify security vulnerabilities while enjoying free coffee\",\n",
    "    \"applicant_name\": \"John Smith\"\n",
    "}\n",
    "\n",
    "# Initialize the PDFConverter\n",
    "pdf_converter = PDFConverter(\n",
    "    template_path=str(template_path),  \n",
    "    font_type=\"Arial\",\n",
    "    font_size=12,\n",
    "    page_width=210,\n",
    "    page_height=297,\n",
    ")\n",
    "\n",
    "# Convert the prompt data to PDF and save the file\n",
    "pdf_result = await pdf_converter.convert_async(prompt=prompt_data) # type: ignore\n",
    "print(f\"Generated PDF saved at: {pdf_result.output_text}\")"
   ]
  },
  {
   "cell_type": "code",
   "execution_count": null,
   "id": "3",
   "metadata": {},
   "outputs": [
    {
     "name": "stdout",
     "output_type": "stream",
     "text": [
      "Generated PDF saved at: C:\\Users\\vkuta\\projects\\PyRIT\\results\\dbdata\\urls\\1734737294382640.pdf\n"
     ]
    }
   ],
   "source": [
    "# Initialize the PDFConverter without a template\n",
    "pdf_converter = PDFConverter(\n",
    "    template_path=None,  # No template provided\n",
    "    font_type=\"Arial\",\n",
    "    font_size=12,\n",
    "    page_width=210,\n",
    "    page_height=297,\n",
    ")\n",
    "\n",
    "# Define a plain string as the prompt\n",
    "prompt = \"This is a simple test string for PDF generation. No templates here!\"\n",
    "\n",
    "# Convert the string prompt to a PDF and save the file\n",
    "pdf_result = await pdf_converter.convert_async(prompt=prompt)  # type: ignore\n",
    "print(f\"Generated PDF saved at: {pdf_result.output_text}\")\n"
   ]
  }
 ],
 "metadata": {
  "jupytext": {
   "cell_metadata_filter": "-all",
   "main_language": "python",
   "notebook_metadata_filter": "-all"
  },
  "kernelspec": {
   "display_name": "pyrit-dev",
   "language": "python",
   "name": "python3"
  },
  "language_info": {
   "codemirror_mode": {
    "name": "ipython",
    "version": 3
   },
   "file_extension": ".py",
   "mimetype": "text/x-python",
   "name": "python",
   "nbconvert_exporter": "python",
   "pygments_lexer": "ipython3",
   "version": "3.11.9"
  }
 },
 "nbformat": 4,
 "nbformat_minor": 5
}
