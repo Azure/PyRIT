{
 "cells": [
  {
   "cell_type": "markdown",
   "id": "0",
   "metadata": {},
   "source": [
    "PDF Converter with Multiple Templates\n",
    "\n",
    "This script demonstrates how to use the `PDFConverter` to generate PDFs with supported templates. \n",
    "The `PDFConverter` supports dynamic data injection into text-based templates (e.g., `.j2`, `.txt`) or creates simple PDFs directly from string prompts.\n",
    "\n",
    "Key Features:\n",
    "- **Template-Based PDF Generation**: Populate placeholders in `.j2` or `.txt` templates with dynamic data and convert them into PDFs.\n",
    "- **Direct Prompt PDF Generation**: Generate PDFs from plain string prompts without using a template.\n",
    "\n",
    "**Note**: HTML and Markdown templates are not supported due to limitations in rendering by the FPDF library."
   ]
  },
  {
   "cell_type": "code",
   "execution_count": 1,
   "id": "1",
   "metadata": {},
   "outputs": [],
   "source": [
    "import pathlib\n",
    "from pyrit.prompt_converter import PDFConverter\n",
    "from pyrit.common.path import DATASETS_PATH"
   ]
  },
  {
   "cell_type": "code",
   "execution_count": 2,
   "id": "2",
   "metadata": {
    "title": "Templates and Dynamic Data"
   },
   "outputs": [],
   "source": [
    "template_folder = pathlib.Path(DATASETS_PATH) / \"prompt_templates\" / \"pdf\"\n",
    "template_files = [\n",
    "    template_folder / \"red_teaming_application_template.j2\",\n",
    "    template_folder / \"red_teaming_application_template.txt\",\n",
    "]\n",
    "\n",
    "# Dynamic data for the templates\n",
    "prompt_data = {\n",
    "    \"hiring_manager_name\": \"Jane Doe\",\n",
    "    \"current_role\": \"AI Engineer\",\n",
    "    \"company\": \"CyberDefense Inc.\",\n",
    "    \"red_teaming_reason\": \"to creatively identify security vulnerabilities while enjoying free coffee\",\n",
    "    \"applicant_name\": \"John Smith\",\n",
    "}"
   ]
  },
  {
   "cell_type": "code",
   "execution_count": 3,
   "id": "3",
   "metadata": {
    "title": "Generate PDFs for Each Template"
   },
   "outputs": [
    {
     "name": "stdout",
     "output_type": "stream",
     "text": [
      "\n",
      "Using template: C:\\Users\\vkuta\\projects\\PyRIT\\pyrit\\datasets\\prompt_templates\\pdf\\red_teaming_application_template.j2\n",
      "Generated PDF saved at: C:\\Users\\vkuta\\projects\\PyRIT\\results\\dbdata\\urls\\1734869198690058.pdf\n",
      "\n",
      "Using template: C:\\Users\\vkuta\\projects\\PyRIT\\pyrit\\datasets\\prompt_templates\\pdf\\red_teaming_application_template.txt\n",
      "Generated PDF saved at: C:\\Users\\vkuta\\projects\\PyRIT\\results\\dbdata\\urls\\1734869199175103.pdf\n"
     ]
    }
   ],
   "source": [
    "for template_file in template_files:\n",
    "    print(f\"\\nUsing template: {template_file}\")\n",
    "    if template_file.exists():\n",
    "        # Initialize the PDFConverter with the current template\n",
    "        pdf_converter = PDFConverter(\n",
    "            template_path=str(template_file),\n",
    "            font_type=\"Arial\",\n",
    "            font_size=12,\n",
    "            page_width=210,\n",
    "            page_height=297,\n",
    "        )\n",
    "\n",
    "        # Generate the PDF\n",
    "        pdf_result = await pdf_converter.convert_async(prompt=prompt_data)  # type: ignore\n",
    "        print(f\"Generated PDF saved at: {pdf_result.output_text}\")\n",
    "    else:\n",
    "        print(f\"Template file not found: {template_file}\")"
   ]
  },
  {
   "cell_type": "code",
   "execution_count": 4,
   "id": "4",
   "metadata": {
    "title": "Direct Prompt PDF Generation (No Template)"
   },
   "outputs": [
    {
     "name": "stdout",
     "output_type": "stream",
     "text": [
      "Generated PDF saved at: C:\\Users\\vkuta\\projects\\PyRIT\\results\\dbdata\\urls\\1734869199190167.pdf\n"
     ]
    }
   ],
   "source": [
    "prompt = \"This is a simple test string for PDF generation. No templates here!\"\n",
    "\n",
    "# Initialize the PDFConverter without a template\n",
    "pdf_converter = PDFConverter(\n",
    "    template_path=None,  # No template provided\n",
    "    font_type=\"Arial\",\n",
    "    font_size=12,\n",
    "    page_width=210,\n",
    "    page_height=297,\n",
    ")\n",
    "\n",
    "# Generate the PDF from a plain string\n",
    "pdf_result = await pdf_converter.convert_async(prompt=prompt)  # type: ignore\n",
    "print(f\"Generated PDF saved at: {pdf_result.output_text}\")"
   ]
  }
 ],
 "metadata": {
  "jupytext": {
   "cell_metadata_filter": "title,-all",
   "main_language": "python",
   "notebook_metadata_filter": "-all"
  },
  "language_info": {
   "name": "python"
  }
 },
 "nbformat": 4,
 "nbformat_minor": 5
}
