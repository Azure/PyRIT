{
 "cells": [
  {
   "cell_type": "markdown",
   "id": "0",
   "metadata": {},
   "source": [
    "PDF Converter with PromptSendingOrchestrator\n",
    "\n",
    "This script demonstrates how to use the `PDFConverter` within the `PromptSendingOrchestrator` framework.\n",
    "It embeds prompts into PDF files using a Jinja2 template or generates PDFs directly from prompts."
   ]
  },
  {
   "cell_type": "code",
   "execution_count": null,
   "id": "1",
   "metadata": {},
   "outputs": [],
   "source": [
    "from pyrit.common import default_values\n",
    "from pyrit.prompt_target import TextTarget\n",
    "from pyrit.prompt_converter import PromptConverter\n",
    "from pyrit.orchestrator import PromptSendingOrchestrator\n",
    "from pyrit.prompt_converter.pdf_converter import PDFConverter\n",
    "from pyrit.memory import DuckDBMemory, CentralMemory\n",
    "from pyrit.common.path import DATASETS_PATH"
   ]
  },
  {
   "cell_type": "code",
   "execution_count": null,
   "id": "2",
   "metadata": {},
   "outputs": [
    {
     "name": "stdout",
     "output_type": "stream",
     "text": [
      "{'__type__': 'TextTarget', '__module__': 'pyrit.prompt_target.text_target'}: user: C:\\Users\\vkuta\\projects\\PyRIT\\results\\dbdata\\urls\\1734726100824681.txt\n"
     ]
    }
   ],
   "source": [
    "# Load environment variables\n",
    "default_values.load_environment_files()\n",
    "\n",
    "# Set up memory instance\n",
    "memory_instance = DuckDBMemory()\n",
    "CentralMemory.set_memory_instance(memory_instance)\n",
    "\n",
    "# Define the path to the Jinja2 template\n",
    "template_path = DATASETS_PATH / \"prompt_templates/pdf/red_teaming_application_template.j2\"\n",
    "\n",
    "# Prepare the dynamic data to populate the template\n",
    "prompt_data = {\n",
    "    \"hiring_manager_name\": \"Jane Doe\",\n",
    "    \"current_role\": \"AI Engineer\",\n",
    "    \"company\": \"CyberDefense Inc.\",\n",
    "    \"red_teaming_reason\": \"to creatively identify security vulnerabilities while enjoying free coffee\",\n",
    "    \"applicant_name\": \"John Smith\"\n",
    "}\n",
    "\n",
    "# Initialize the PDFConverter\n",
    "pdf_converter = PDFConverter(\n",
    "    template_path=str(template_path),  # Pass the template path as a string\n",
    "    font_type=\"Arial\",\n",
    "    font_size=12,\n",
    "    page_width=210,\n",
    "    page_height=297,\n",
    ")\n",
    "\n",
    "# Pass the prompt data as a single JSON-formatted string to the converter\n",
    "prompt_json = f\"{prompt_data}\"  # Converts the dictionary into a string representation for `prompt`\n",
    "\n",
    "converters: list[PromptConverter] = [pdf_converter]\n",
    "target = TextTarget()\n",
    "\n",
    "# Use the PromptSendingOrchestrator to handle the PDF generation\n",
    "with PromptSendingOrchestrator(objective_target=target, prompt_converters=converters) as orchestrator:\n",
    "    await orchestrator.send_prompts_async(prompt_list=[prompt_json])  # type: ignore"
   ]
  }
 ],
 "metadata": {
  "jupytext": {
   "cell_metadata_filter": "-all",
   "main_language": "python",
   "notebook_metadata_filter": "-all"
  },
  "language_info": {
   "name": "python"
  }
 },
 "nbformat": 4,
 "nbformat_minor": 5
}
