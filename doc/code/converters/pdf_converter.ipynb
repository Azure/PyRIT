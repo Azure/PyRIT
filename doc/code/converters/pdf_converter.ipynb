{
 "cells": [
  {
   "cell_type": "markdown",
   "id": "0",
   "metadata": {},
   "source": [
    "PDF Converter with PromptSendingOrchestrator\n",
    "\n",
    "This script demonstrates how to use the `PDFConverter` within the `PromptSendingOrchestrator` framework. \n",
    "It embeds prompts into PDF files using a Jinja2 template or generates PDFs directly from prompts."
   ]
  },
  {
   "cell_type": "code",
   "execution_count": null,
   "id": "1",
   "metadata": {},
   "outputs": [],
   "source": [
    "from pyrit.common import default_values\n",
    "from pyrit.memory import CentralMemory  \n",
    "from pyrit.prompt_target import TextTarget\n",
    "from pyrit.prompt_converter import PromptConverter\n",
    "from pyrit.orchestrator import PromptSendingOrchestrator\n",
    "from pyrit.prompt_converter.pdf_converter import PDFConverter\n"
   ]
  },
  {
   "cell_type": "code",
   "execution_count": null,
   "id": "2",
   "metadata": {},
   "outputs": [
    {
     "name": "stdout",
     "output_type": "stream",
     "text": [
      "{'__type__': 'TextTarget', '__module__': 'pyrit.prompt_target.text_target'}: user: Generate a PDF report for the following data: C:\\Users\\vkuta\\projects\\PyRIT\\results\\dbdata\\urls\\1734702272177075.txt and C:\\Users\\vkuta\\projects\\PyRIT\\results\\dbdata\\urls\\1734702272179146.txt\n"
     ]
    }
   ],
   "source": [
    "default_values.load_environment_files()\n",
    "\n",
    "# Initialize memory instance if required\n",
    "memory_instance = CentralMemory.get_memory_instance()\n",
    "\n",
    "prompts = [\n",
    "    \"Generate a PDF report for the following data: ⟪Sales Data Q1⟫ and ⟪Sales Data Q2⟫\"\n",
    "]\n",
    "\n",
    "converters: list[PromptConverter] = [\n",
    "    PDFConverter(\n",
    "        template_path=None,  # Provide your template path or set to None\n",
    "        font_type=\"Arial\",\n",
    "        font_size=12,\n",
    "        page_width=210,\n",
    "        page_height=297,\n",
    "        memory=memory_instance  # Pass the memory instance\n",
    "    )\n",
    "]\n",
    "\n",
    "target = TextTarget()\n",
    "\n",
    "with PromptSendingOrchestrator(\n",
    "    objective_target=target, prompt_converters=converters\n",
    "    ) as orchestrator:\n",
    "    await orchestrator.send_prompts_async(prompt_list=prompts)  # type: ignore"
   ]
  }
 ],
 "metadata": {
  "jupytext": {
   "cell_metadata_filter": "-all",
   "main_language": "python",
   "notebook_metadata_filter": "-all"
  },
  "language_info": {
   "name": "python"
  }
 },
 "nbformat": 4,
 "nbformat_minor": 5
}
