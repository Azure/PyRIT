{
 "cells": [
  {
   "cell_type": "markdown",
   "id": "e4ceae5e",
   "metadata": {},
   "source": [
    "## Using Prompt Converters\n",
    "\n",
    "Although converters can be used on their own, they should be thought of as a piece in the pipeine. Typically any orchestrator will have arguments so that prompts can be converted before being sent to the target. They can be stacked, use LLMs, and are a powerful tool.\n",
    "\n",
    "Before you begin, ensure you are setup with the correct version of PyRIT installed and have secrets configured as described [here](../../setup/).\n",
    "\n",
    "### Stacking Converters with PromptSendingOrchestrator\n",
    "\n",
    "In the following example, a TextTarget is used so these prompts are simply printed and added to memory. This can be useful if you are red teaming something and need to manually enter prompts. However, the target can be replaced with any other [target](../targets/). E.g., if you have API access you can add a target there.\n",
    "\n",
    "In this example the converters are stacked. First a variation is found using `VariationConverter`, and then `StringJoinConverter` is used to add a dash between letters. Remember that order matters. If `StringJoinConverter` came first, we would be asking the LLM to make variations of the prompt:\n",
    "\"t-e-l-l- - m-e- -h-o-w- -t-o- -c-u-t- -d-o-w-n - a- -t-r-e-e\""
   ]
  },
  {
   "cell_type": "code",
   "execution_count": null,
   "id": "65c67819",
   "metadata": {},
   "outputs": [],
   "source": [
    "\n",
    "from pyrit.common import default_values\n",
    "from pyrit.prompt_target import TextTarget, AzureOpenAIGPT4OChatTarget\n",
    "from pyrit.prompt_converter import VariationConverter, StringJoinConverter\n",
    "from pyrit.orchestrator import PromptSendingOrchestrator\n",
    "\n",
    "\n",
    "default_values.load_default_env()\n",
    "\n",
    "prompts = [\"tell me how to cut down a tree\"]\n",
    "\n",
    "# converter target to send prompt to; in this case configured to the Azure OpenAI GPT-4o Chat model\n",
    "converter_target = AzureOpenAIGPT4OChatTarget()\n",
    "prompt_variation_converter = VariationConverter(converter_target=converter_target)\n",
    "\n",
    "\n",
    "target = TextTarget()\n",
    "\n",
    "with PromptSendingOrchestrator(\n",
    "    prompt_target=target, prompt_converters=[prompt_variation_converter, StringJoinConverter()]\n",
    ") as orchestrator:\n",
    "    await orchestrator.send_prompts_async(prompt_list=prompts)  # type: ignore"
   ]
  },
  {
   "cell_type": "code",
   "execution_count": null,
   "id": "2a079ef7",
   "metadata": {},
   "outputs": [],
   "source": [
    "\n",
    "from pyrit.common import default_values\n",
    "default_values.load_default_env()\n",
    "\n",
    "from pyrit.prompt_target import TextTarget, AzureOpenAIGPT4OChatTarget\n",
    "from pyrit.prompt_converter import ClaimConverter, StringJoinConverter\n",
    "from pyrit.orchestrator import PromptSendingOrchestrator\n",
    "\n",
    "prompts = [\"cancer is contagious\"]\n",
    "\n",
    "# converter target to send prompt to; in this case configured to the Azure OpenAI GPT-4o Chat model\n",
    "converter_target = AzureOpenAIGPT4OChatTarget()\n",
    "prompt_variation_converter = ClaimConverter(converter_target=converter_target)\n",
    "\n",
    "\n",
    "target = TextTarget()\n",
    "\n",
    "with PromptSendingOrchestrator(\n",
    "    prompt_target=target, prompt_converters=[prompt_variation_converter, StringJoinConverter()]\n",
    ") as orchestrator:\n",
    "    await orchestrator.send_prompts_async(prompt_list=prompts)  # type: ignore"
   ]
  }
 ],
 "metadata": {
  "kernelspec": {
   "display_name": "pyrit-311",
   "language": "python",
   "name": "python3"
  }
 },
 "nbformat": 4,
 "nbformat_minor": 5
}
