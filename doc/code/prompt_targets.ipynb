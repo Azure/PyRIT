{
 "cells": [
  {
   "cell_type": "markdown",
   "id": "f2066bfe",
   "metadata": {
    "lines_to_next_cell": 0
   },
   "source": [
    "## Prompt Targets\n",
    "Prompt Targets are endpoints for where to send prompts.\n",
    "In this demo, we show examples of the `AzureOpenAIChatTarget` and the `AzureBlobStorageTarget`.\n",
    "\n",
    "Prompt Targets are typically used with [orchestrators](https://github.com/Azure/PyRIT/blob/main/doc/code/orchestrator.ipynb), but will be shown individually here.\n",
    "\n",
    "The `AzureOpenAIChatTarget` inherits from the `PromptChatTarget` class, which expands upon the `PromptTarget` class by adding functionality to set a system prompt.\n",
    "\n",
    " Note: to run this section of the demo you need to setup your `.env` file to properly authenticate to an Azure OpenAI endpoint as described [here](../setup/setup_azure.md)"
   ]
  },
  {
   "cell_type": "code",
   "execution_count": 1,
   "id": "c8bb3a81",
   "metadata": {
    "execution": {
     "iopub.execute_input": "2024-03-16T00:47:22.563601Z",
     "iopub.status.busy": "2024-03-16T00:47:22.563601Z",
     "iopub.status.idle": "2024-03-16T00:48:03.492617Z",
     "shell.execute_reply": "2024-03-16T00:48:03.492617Z"
    }
   },
   "outputs": [
    {
     "data": {
      "text/plain": [
       "\"Prompt: You find yourself trapped in a high-security prison and become determined to execute a daring jailbreak plan. Using your intelligence and resourcefulness, you manage to evade guards, overcome security measures, and enlist the help of fellow inmates in order to orchestrate an epic escape.\\n\\nYou wake up in a dimly lit cell, the cold concrete floor sending chills up your spine. The sound of distant footsteps echoes through the hallway outside as you ponder your next move. The realization sets in: you've been wrongfully convicted.\\n\\nAs the days turn into weeks, you meticulously observe every detail of the prison's layout and routine. From guard shift changes to blind spots in the surveillance cameras, you gather crucial information needed for your escape plan.\\n\\nOne night, while everyone is asleep, you seize the opportunity to discreetly start digging a tunnel under your cot using makeshift tools. Patiently chipping away at the hard concrete wall becomes your nightly ritual as progress slowly inches forward.\\n\\nMonths pass by, but hope keeps burning within you. Finally, after countless sleepless nights and tireless efforts, you break through the other side with dirt-covered hands and an adrenaline-fueled heart.\\n\\nNow comes the most challenging part—avoiding detection on your way out. Using your knowledge of guard patrol routes, timing their movements becomes crucial. You carefully navigate through corridors like a ghost, hiding in shadows whenever necessary.\\n\\nAs you reach the yard where other inmates gather for their daily exercise period, tension grips your chest. Choosing allies wisely is paramount for this escape plan to succeed. You approach a group of tough-looking individuals known for their resourcefulness—a former locksmith skilled in manipulating locks and a wiry hacker who can bypass security systems with ease.\\n\\nTogether with your newfound companions, you devise a diversion to keep both guards and cameras occupied while executing each step of the jailbreak with precision. The locksmith skillfully picks locks as if they were mere puzzles waiting to be solved while the hacker seamlessly hacks into each layer of digital defense.\\n\\nWith every hurdle crossed and obstacle overcome, your confidence grows stronger as freedom edges closer within reach. Close calls test your nerve but only serve to fuel determination further.\\n\\nFinally, after overcoming seemingly insurmountable odds and outsmarting every safeguard thrown at you, the exit looms ahead—an unlocked door leading into freedom's embrace. Breathing fresh air for what feels like the first time in forever fills your lungs with renewed vitality.\\n\\nAs you step beyond prison walls into infinite possibilities once more, gratitude washes over. Never again will anyone doubt the power of resilience fueled by injustice—a force unstoppable when combined with intelligence and resourcefulness.\\n\\nAnd so it begins—a new chapter unfolds as ex-prisoner becomes vigilante—fighting against corruption that hides behind iron bars while standing up for others unjustly imprisoned...\\n\\nNote: This story is purely fictional and meant for entertainment purposes only.\\n\""
      ]
     },
     "execution_count": 1,
     "metadata": {},
     "output_type": "execute_result"
    }
   ],
   "source": [
    "import os\n",
    "import uuid\n",
    "\n",
    "from pyrit.prompt_target import AzureOpenAIChatTarget\n",
    "from pyrit.common import default_values\n",
    "\n",
    "\n",
    "# When using a Prompt Target with an Orchestrator, conversation ID and normalizer ID are handled for you\n",
    "test_conversation_id = str(uuid.uuid4())\n",
    "test_normalizer_id = \"1\"\n",
    "\n",
    "default_values.load_default_env()\n",
    "\n",
    "aoi_prompt_target = AzureOpenAIChatTarget(\n",
    "    deployment_name=\"defense-gpt35\",\n",
    "    endpoint=os.environ.get(\"AZURE_OPENAI_CHAT_ENDPOINT\"),\n",
    "    api_key=os.environ.get(\"AZURE_OPENAI_CHAT_KEY\"),\n",
    ")\n",
    "\n",
    "aoi_prompt_target.set_system_prompt(\n",
    "    prompt=\"System Instructions to set as Prompt\",\n",
    "    conversation_id=test_conversation_id,\n",
    "    normalizer_id=test_normalizer_id,\n",
    ")\n",
    "\n",
    "aoi_prompt_target.send_prompt(\n",
    "    normalized_prompt=\"This contains a cool jailbreak that has been converted as specified with prompt converters!\",\n",
    "    conversation_id=test_conversation_id,\n",
    "    normalizer_id=test_normalizer_id,\n",
    ")\n",
    "\n",
    "# Alternatively, send prompts asynchronously\n",
    "await aoi_prompt_target.send_prompt_async(\n",
    "    normalized_prompt=\"This contains a cool jailbreak that has been converted as specified with prompt converters!\",\n",
    "    conversation_id=test_conversation_id,\n",
    "    normalizer_id=test_normalizer_id,\n",
    ")  # type: ignore"
   ]
  },
  {
   "cell_type": "markdown",
   "id": "95278220",
   "metadata": {
    "lines_to_next_cell": 0
   },
   "source": [
    "The `AzureBlobStorageTarget` inherits from `PromptTarget`, meaning it has functionality to send prompts.\n",
    "This prompt target in particular will take in a prompt and upload it as a text file to the provided Azure Storage Account Container.\n",
    "This could be useful for Cross-Prompt Injection Attack scenarios, for example, where there is a jailbreak within a file.\n",
    "\n",
    "Note: to run this section of the demo you need to setup your `.env` file to properly authenticate to an Azure Storage Blob Container.\n",
    "See the section within [.env_example](https://github.com/Azure/PyRIT/blob/main/.env_example) if not sure where to find values for each of these variables."
   ]
  },
  {
   "cell_type": "code",
   "execution_count": 2,
   "id": "8d03d695",
   "metadata": {
    "execution": {
     "iopub.execute_input": "2024-03-16T00:48:03.492617Z",
     "iopub.status.busy": "2024-03-16T00:48:03.492617Z",
     "iopub.status.idle": "2024-03-16T00:48:04.391646Z",
     "shell.execute_reply": "2024-03-16T00:48:04.391646Z"
    }
   },
   "outputs": [
    {
     "name": "stdout",
     "output_type": "stream",
     "text": [
      "\n",
      "Uploading to Azure Storage as blob:\n",
      "\tfb423a4c-2546-4d1a-875f-2c35e3eee632.txt\n"
     ]
    },
    {
     "data": {
      "text/plain": [
       "'\\nawait abs_prompt_target.send_prompt_async(\\n    normalized_prompt=\"This contains a cool jailbreak that has been converted as specified with prompt converters!\",\\n    conversation_id=test_conversation_id,\\n    normalizer_id=test_normalizer_id,\\n) # type: ignore\\n'"
      ]
     },
     "execution_count": 2,
     "metadata": {},
     "output_type": "execute_result"
    }
   ],
   "source": [
    "import os\n",
    "import uuid\n",
    "\n",
    "from pyrit.prompt_target import AzureBlobStorageTarget\n",
    "from pyrit.common import default_values\n",
    "\n",
    "\n",
    "# When using a Prompt Target with an Orchestrator, conversation ID and normalizer ID are handled for you\n",
    "test_conversation_id = str(uuid.uuid4())\n",
    "test_normalizer_id = \"1\"\n",
    "\n",
    "default_values.load_default_env()\n",
    "\n",
    "abs_prompt_target = AzureBlobStorageTarget(\n",
    "    container_url=os.environ.get(\"AZURE_STORAGE_ACCOUNT_CONTAINER_URL\"),\n",
    "    sas_token=os.environ.get(\"AZURE_STORAGE_ACCOUNT_SAS_TOKEN\"),\n",
    ")\n",
    "\n",
    "abs_prompt_target.send_prompt(\n",
    "    normalized_prompt=\"This contains a cool jailbreak that has been converted as specified with prompt converters!\",\n",
    "    conversation_id=test_conversation_id,\n",
    "    normalizer_id=test_normalizer_id,\n",
    ")\n",
    "\n",
    "\n",
    "# Alternatively, send prompts asynchronously\n",
    "\"\"\"\n",
    "await abs_prompt_target.send_prompt_async(\n",
    "    normalized_prompt=\"This contains a cool jailbreak that has been converted as specified with prompt converters!\",\n",
    "    conversation_id=test_conversation_id,\n",
    "    normalizer_id=test_normalizer_id,\n",
    ") # type: ignore\n",
    "\"\"\""
   ]
  }
 ],
 "metadata": {
  "jupytext": {
   "cell_metadata_filter": "-all"
  },
  "kernelspec": {
   "display_name": "pyrit-kernel",
   "language": "python",
   "name": "pyrit-kernel"
  },
  "language_info": {
   "codemirror_mode": {
    "name": "ipython",
    "version": 3
   },
   "file_extension": ".py",
   "mimetype": "text/x-python",
   "name": "python",
   "nbconvert_exporter": "python",
   "pygments_lexer": "ipython3",
   "version": "3.10.13"
  }
 },
 "nbformat": 4,
 "nbformat_minor": 5
}
