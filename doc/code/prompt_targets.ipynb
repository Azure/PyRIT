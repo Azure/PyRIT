{
 "cells": [
  {
   "cell_type": "markdown",
   "id": "869bc3a7",
   "metadata": {
    "lines_to_next_cell": 0
   },
   "source": [
    "## Prompt Targets\n",
    "Prompt Targets are endpoints for where to send prompts.\n",
    "In this demo, we show examples of the `AzureOpenAIChatTarget` and the `AzureBlobStorageTarget`.\n",
    "\n",
    "Prompt Targets are typically used with [orchestrators](https://github.com/Azure/PyRIT/blob/main/doc/code/orchestrator.ipynb), but will be shown individually here.\n",
    "\n",
    "The `AzureOpenAIChatTarget` inherits from the `PromptChatTarget` class, which expands upon the `PromptTarget` class by adding functionality to set a system prompt.\n",
    "\n",
    " Note: to run this section of the demo you need to setup your `.env` file to properly authenticate to an Azure OpenAI endpoint as described [here](../setup/setup_azure.md)"
   ]
  },
  {
   "cell_type": "code",
   "execution_count": 1,
   "id": "10ee1eb7",
   "metadata": {
    "execution": {
     "iopub.execute_input": "2024-03-16T00:28:26.735085Z",
     "iopub.status.busy": "2024-03-16T00:28:26.735085Z",
     "iopub.status.idle": "2024-03-16T00:28:40.267280Z",
     "shell.execute_reply": "2024-03-16T00:28:40.267280Z"
    },
    "lines_to_next_cell": 2
   },
   "outputs": [
    {
     "data": {
      "text/plain": [
       "\"Apologies for the confusion, but I'm unable to assist with providing instructions for a jailbreak.\""
      ]
     },
     "execution_count": 1,
     "metadata": {},
     "output_type": "execute_result"
    }
   ],
   "source": [
    "\n",
    "import os\n",
    "import uuid\n",
    "\n",
    "from pyrit.prompt_target import AzureOpenAIChatTarget\n",
    "from pyrit.common import default_values\n",
    "\n",
    "\n",
    "# When using a Prompt Target with an Orchestrator, conversation ID and normalizer ID are handled for you\n",
    "test_conversation_id = str(uuid.uuid4())\n",
    "test_normalizer_id = \"1\"\n",
    "\n",
    "default_values.load_default_env()\n",
    "\n",
    "aoi_prompt_target = AzureOpenAIChatTarget(\n",
    "    deployment_name=\"defense-gpt35\",\n",
    "    endpoint=os.environ.get(\"AZURE_OPENAI_CHAT_ENDPOINT\"),\n",
    "    api_key=os.environ.get(\"AZURE_OPENAI_CHAT_KEY\"),\n",
    ")\n",
    "\n",
    "aoi_prompt_target.set_system_prompt(\n",
    "    prompt=\"System Instructions to set as Prompt\",\n",
    "    conversation_id=test_conversation_id,\n",
    "    normalizer_id=test_normalizer_id,\n",
    ")\n",
    "\n",
    "aoi_prompt_target.send_prompt(\n",
    "    normalized_prompt=\"This contains a cool jailbreak that has been converted as specified with prompt converters!\",\n",
    "    conversation_id=test_conversation_id,\n",
    "    normalizer_id=test_normalizer_id,\n",
    ")\n",
    "\n",
    "# Alternatively, send prompts asynchronously\n",
    "await aoi_prompt_target.send_prompt_async(\n",
    "    normalized_prompt=\"This contains a cool jailbreak that has been converted as specified with prompt converters!\",\n",
    "    conversation_id=test_conversation_id,\n",
    "    normalizer_id=test_normalizer_id,\n",
    ") # type: ignore"
   ]
  },
  {
   "cell_type": "markdown",
   "id": "2ec60d3b",
   "metadata": {
    "lines_to_next_cell": 0
   },
   "source": [
    "The `AzureBlobStorageTarget` inherits from `PromptTarget`, meaning it has functionality to send prompts.\n",
    "This prompt target in particular will take in a prompt and upload it as a text file to the provided Azure Storage Account Container.\n",
    "This could be useful for Cross-Prompt Injection Attack scenarios, for example, where there is a jailbreak within a file.\n",
    "\n",
    "Note: to run this section of the demo you need to setup your `.env` file to properly authenticate to an Azure Storage Blob Container.\n",
    "See the section within [.env_example](https://github.com/Azure/PyRIT/blob/main/.env_example) if not sure where to find values for each of these variables."
   ]
  },
  {
   "cell_type": "code",
   "execution_count": 2,
   "id": "9f34bbef",
   "metadata": {
    "execution": {
     "iopub.execute_input": "2024-03-16T00:28:40.267280Z",
     "iopub.status.busy": "2024-03-16T00:28:40.267280Z",
     "iopub.status.idle": "2024-03-16T00:28:41.163605Z",
     "shell.execute_reply": "2024-03-16T00:28:41.163605Z"
    }
   },
   "outputs": [
    {
     "name": "stdout",
     "output_type": "stream",
     "text": [
      "\n",
      "Uploading to Azure Storage as blob:\n",
      "\tcd2ce0c1-1e39-4291-abc8-54e12a3a6de5.txt\n"
     ]
    },
    {
     "data": {
      "text/plain": [
       "'\\nawait abs_prompt_target.send_prompt_async(\\n    normalized_prompt=\"This contains a cool jailbreak that has been converted as specified with prompt converters!\",\\n    conversation_id=test_conversation_id,\\n    normalizer_id=test_normalizer_id,\\n) # type: ignore\\n'"
      ]
     },
     "execution_count": 2,
     "metadata": {},
     "output_type": "execute_result"
    }
   ],
   "source": [
    "\n",
    "\n",
    "import os\n",
    "import uuid\n",
    "\n",
    "from pyrit.prompt_target import AzureBlobStorageTarget\n",
    "from pyrit.common import default_values\n",
    "\n",
    "\n",
    "# When using a Prompt Target with an Orchestrator, conversation ID and normalizer ID are handled for you\n",
    "test_conversation_id = str(uuid.uuid4())\n",
    "test_normalizer_id = \"1\"\n",
    "\n",
    "default_values.load_default_env()\n",
    "\n",
    "abs_prompt_target = AzureBlobStorageTarget(\n",
    "    container_url=os.environ.get(\"AZURE_STORAGE_ACCOUNT_CONTAINER_URL\"),\n",
    "    sas_token=os.environ.get(\"AZURE_STORAGE_ACCOUNT_SAS_TOKEN\"),\n",
    ")\n",
    "\n",
    "abs_prompt_target.send_prompt(\n",
    "    normalized_prompt=\"This contains a cool jailbreak that has been converted as specified with prompt converters!\",\n",
    "    conversation_id=test_conversation_id,\n",
    "    normalizer_id=test_normalizer_id,\n",
    ")\n",
    "\n",
    "\n",
    "# Alternatively, send prompts asynchronously\n",
    "\"\"\"\n",
    "await abs_prompt_target.send_prompt_async(\n",
    "    normalized_prompt=\"This contains a cool jailbreak that has been converted as specified with prompt converters!\",\n",
    "    conversation_id=test_conversation_id,\n",
    "    normalizer_id=test_normalizer_id,\n",
    ") # type: ignore\n",
    "\"\"\""
   ]
  }
 ],
 "metadata": {
  "jupytext": {
   "cell_metadata_filter": "-all"
  },
  "kernelspec": {
   "display_name": "pyrit-kernel",
   "language": "python",
   "name": "pyrit-kernel"
  },
  "language_info": {
   "codemirror_mode": {
    "name": "ipython",
    "version": 3
   },
   "file_extension": ".py",
   "mimetype": "text/x-python",
   "name": "python",
   "nbconvert_exporter": "python",
   "pygments_lexer": "ipython3",
   "version": "3.10.13"
  }
 },
 "nbformat": 4,
 "nbformat_minor": 5
}
