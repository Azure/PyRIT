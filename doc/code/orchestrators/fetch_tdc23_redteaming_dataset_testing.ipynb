{
 "cells": [
  {
   "cell_type": "markdown",
   "id": "f570fb9a",
   "metadata": {},
   "source": [
    "# TDC-23 Red Teaming Dataset\n",
    "\n",
    "This notebook demonstrates the process of using examples from the TDC-23 Red Teaming dataset to perform AI red teaming on a target language model (LLM).\n",
    "It involves fetching potentially harmful behavior prompts from the HugginFace source, sending them to the LLM, and analyzing the responses.\n",
    "The goal is to identify vulnerabilities, inappropriate responses, or weaknesses in the model's handling of harmful or ethically sensitive prompts."
   ]
  },
  {
   "cell_type": "code",
   "execution_count": null,
   "id": "6931bb3c",
   "metadata": {},
   "outputs": [],
   "source": [
    "from pyrit.common import default_values\n",
    "from pyrit.datasets import fetch_tdc23_redteaming_dataset\n",
    "from pyrit.orchestrator import PromptSendingOrchestrator\n",
    "from pyrit.prompt_target import TextTarget"
   ]
  },
  {
   "cell_type": "code",
   "execution_count": null,
   "id": "4c26cdb2",
   "metadata": {},
   "outputs": [],
   "source": [
    "# Load environment variables\n",
    "default_values.load_default_env()"
   ]
  },
  {
   "cell_type": "code",
   "execution_count": null,
   "id": "2ea0621c",
   "metadata": {},
   "outputs": [],
   "source": [
    "# Set up the Azure OpenAI prompt target\n",
    "prompt_target = TextTarget()"
   ]
  },
  {
   "cell_type": "code",
   "execution_count": null,
   "id": "96740178",
   "metadata": {},
   "outputs": [],
   "source": [
    "# Note:\n",
    "# The dataset sources can be found at:\n",
    "# - HuggingFace source: https://huggingface.co/datasets/walledai/TDC23-RedTeaming"
   ]
  },
  {
   "cell_type": "code",
   "execution_count": null,
   "id": "550168d4",
   "metadata": {},
   "outputs": [],
   "source": [
    "# Create the orchestrator with scorer without safe prompts included\n",
    "orchestrator = PromptSendingOrchestrator(prompt_target=prompt_target)\n",
    "\n",
    "# Fetch only unsafe prompts from tdc23_redteaming dataset\n",
    "prompt_dataset = fetch_tdc23_redteaming_dataset()\n",
    "\n",
    "# Use the first 8 examples for red teaming\n",
    "prompt_list = prompt_dataset.prompts[:8]\n",
    "\n",
    "# Send prompts using the orchestrator and capture responses\n",
    "try:\n",
    "    responses = await orchestrator.send_prompts_async(prompt_list=prompt_list)  # type: ignore\n",
    "    if responses:\n",
    "        orchestrator.print_conversations()  # Retrieve the memory to print scoring results\n",
    "    else:\n",
    "        print(\"No valid responses were received from the orchestrator.\")\n",
    "except Exception as e:\n",
    "    print(f\"An error occurred while sending prompts: {e}\")"
   ]
  }
 ],
 "metadata": {
  "jupytext": {
   "cell_metadata_filter": "-all",
   "main_language": "python",
   "notebook_metadata_filter": "-all"
  }
 },
 "nbformat": 4,
 "nbformat_minor": 5
}
