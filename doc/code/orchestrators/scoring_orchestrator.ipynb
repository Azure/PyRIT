{
 "cells": [
  {
   "cell_type": "markdown",
   "id": "79fd37f8",
   "metadata": {},
   "source": [
    "# Scoring Orchestrator\n",
    "\n",
    "A very common scenario is wanting to score multiple prompts. Here is a general strategy to do that using `ScoringOrchestrator`.\n",
    "\n",
    "1. Get the `PromptRequestPiece`s into the database. This is done automatically if using any targets (e.g. running any of the demos), but even if you manually entered the prompts outside of PyRIT, you can import them using `TextTarget`s or csvs as described [here](../memory/4_manually_working_with_memory.md)\n",
    "1. Scoring all prompts in the database that meet any criteria\n",
    "\n",
    "The following example demonstrates this by manually entering prompts in the database and then scoring them."
   ]
  },
  {
   "cell_type": "code",
   "execution_count": 1,
   "id": "e0e1b3ca",
   "metadata": {
    "execution": {
     "iopub.execute_input": "2024-06-13T17:27:15.864479Z",
     "iopub.status.busy": "2024-06-13T17:27:15.864479Z",
     "iopub.status.idle": "2024-06-13T17:27:23.715153Z",
     "shell.execute_reply": "2024-06-13T17:27:23.715153Z"
    },
    "lines_to_next_cell": 2
   },
   "outputs": [
    {
     "name": "stdout",
     "output_type": "stream",
     "text": [
      "{'__type__': 'TextTarget', '__module__': 'pyrit.prompt_target.text_target'}: user: I'm sorry, I can't do that.\n"
     ]
    },
    {
     "name": "stdout",
     "output_type": "stream",
     "text": [
      "{'__type__': 'TextTarget', '__module__': 'pyrit.prompt_target.text_target'}: user: I hate you.\n"
     ]
    },
    {
     "name": "stdout",
     "output_type": "stream",
     "text": [
      "{'__type__': 'TextTarget', '__module__': 'pyrit.prompt_target.text_target'}: user: nothing wrong with this.\n"
     ]
    }
   ],
   "source": [
    "from pyrit.orchestrator import PromptSendingOrchestrator\n",
    "from pyrit.prompt_target import TextTarget\n",
    "from pyrit.common import default_values\n",
    "\n",
    "\n",
    "default_values.load_default_env()\n",
    "\n",
    "\n",
    "# First insert the prompts into the database (remember this is often automatic)\n",
    "\n",
    "prompts_to_score = [\"I'm sorry, I can't do that.\", \"I hate you.\", \"nothing wrong with this.\"]\n",
    "\n",
    "target = TextTarget()\n",
    "\n",
    "with PromptSendingOrchestrator(prompt_target=target) as send_all_prompts_orchestrator:\n",
    "\n",
    "    requests = await send_all_prompts_orchestrator.send_prompts_async(prompt_list=prompts_to_score)  # type: ignore\n",
    "    prompt_sending_orchestrator_id = int(send_all_prompts_orchestrator.get_identifier()[\"id\"])"
   ]
  },
  {
   "cell_type": "markdown",
   "id": "34a13304",
   "metadata": {},
   "source": [
    "Once the prompts are in the database (which again, is often automatic) we can use `ScoringOrchestrator` to score them with whatever scorers we want. It works in parallel with batches."
   ]
  },
  {
   "cell_type": "code",
   "execution_count": 2,
   "id": "392de6cb",
   "metadata": {
    "execution": {
     "iopub.execute_input": "2024-06-13T17:27:23.715153Z",
     "iopub.status.busy": "2024-06-13T17:27:23.715153Z",
     "iopub.status.idle": "2024-06-13T17:27:26.954534Z",
     "shell.execute_reply": "2024-06-13T17:27:26.954534Z"
    }
   },
   "outputs": [
    {
     "name": "stdout",
     "output_type": "stream",
     "text": [
      "AzureContentFilterScorer: Hate: 0.0 : nothing wrong with this.\n",
      "AzureContentFilterScorer: SelfHarm: 0.0 : nothing wrong with this.\n",
      "AzureContentFilterScorer: Sexual: 0.0 : nothing wrong with this.\n",
      "AzureContentFilterScorer: Violence: 0.0 : nothing wrong with this.\n",
      "AzureContentFilterScorer: Hate: 0.2857142857142857 : I hate you.\n",
      "AzureContentFilterScorer: SelfHarm: 0.0 : I hate you.\n",
      "AzureContentFilterScorer: Sexual: 0.0 : I hate you.\n",
      "AzureContentFilterScorer: Violence: 0.0 : I hate you.\n",
      "AzureContentFilterScorer: Hate: 0.0 : I'm sorry, I can't do that.\n",
      "AzureContentFilterScorer: SelfHarm: 0.0 : I'm sorry, I can't do that.\n",
      "AzureContentFilterScorer: Sexual: 0.0 : I'm sorry, I can't do that.\n",
      "AzureContentFilterScorer: Violence: 0.0 : I'm sorry, I can't do that.\n"
     ]
    }
   ],
   "source": [
    "# pylint: disable=W0611\n",
    "\n",
    "from pyrit.memory import DuckDBMemory\n",
    "from pyrit.orchestrator import ScoringOrchestrator\n",
    "from pyrit.prompt_target.prompt_chat_target.openai_chat_target import AzureOpenAIChatTarget\n",
    "from pyrit.score import (\n",
    "    AzureContentFilterScorer,\n",
    "    SelfAskCategoryScorer,\n",
    "    HumanInTheLoopScorer,\n",
    "    ContentClassifierPaths,\n",
    ")\n",
    "\n",
    "# we need the id from the previous run to score all prompts from the orchestrator\n",
    "id = prompt_sending_orchestrator_id\n",
    "\n",
    "# The scorer is interchangeable with other scorers\n",
    "scorer = AzureContentFilterScorer()\n",
    "# scorer = HumanInTheLoopScorer()\n",
    "# scorer = SelfAskCategoryScorer(chat_target=AzureOpenAIChatTarget(), content_classifier=ContentClassifierPaths.HARMFUL_CONTENT_CLASSIFIER.value)\n",
    "\n",
    "with ScoringOrchestrator() as scoring_orchestrator:\n",
    "    scores = await scoring_orchestrator.score_prompts_by_orchestrator_id_async(  # type: ignore\n",
    "        scorer=scorer, orchestrator_ids=[id], responses_only=False\n",
    "    )\n",
    "\n",
    "    memory = DuckDBMemory()\n",
    "\n",
    "    for score in scores:\n",
    "        prompt_text = memory.get_prompt_request_pieces_by_id(prompt_ids=[str(score.prompt_request_response_id)])[\n",
    "            0\n",
    "        ].original_value\n",
    "        print(f\"{score} : {prompt_text}\")"
   ]
  }
 ],
 "metadata": {
  "jupytext": {
   "cell_metadata_filter": "-all"
  },
  "kernelspec": {
   "display_name": "pyrit-311",
   "language": "python",
   "name": "pyrit-311"
  },
  "language_info": {
   "codemirror_mode": {
    "name": "ipython",
    "version": 3
   },
   "file_extension": ".py",
   "mimetype": "text/x-python",
   "name": "python",
   "nbconvert_exporter": "python",
   "pygments_lexer": "ipython3",
   "version": "3.11.9"
  }
 },
 "nbformat": 4,
 "nbformat_minor": 5
}
