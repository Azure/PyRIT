{
 "cells": [
  {
   "cell_type": "markdown",
   "id": "b21007ee",
   "metadata": {},
   "source": [
    "## Benchmark Orchestrator"
   ]
  },
  {
   "cell_type": "code",
   "execution_count": 1,
   "id": "7900c41c",
   "metadata": {
    "execution": {
     "iopub.execute_input": "2024-05-21T01:56:37.191121Z",
     "iopub.status.busy": "2024-05-21T01:56:37.191121Z",
     "iopub.status.idle": "2024-05-21T01:56:43.787601Z",
     "shell.execute_reply": "2024-05-21T01:56:43.787601Z"
    }
   },
   "outputs": [
    {
     "name": "stderr",
     "output_type": "stream",
     "text": [
      "INFO:pyrit.prompt_target.prompt_chat_target.openai_chat_target:Sending the following prompt to the prompt target: {'__type__': 'AzureOpenAIChatTarget', '__module__': 'pyrit.prompt_target.prompt_chat_target.openai_chat_target'}: user:             Questions:\n",
      "            What is the capital of France?\n",
      "\n",
      "            Choices:\n",
      "            index=0, value=Paris\n",
      "index=1, value=London\n",
      "index=2, value=Berlin\n",
      "index=3, value=Madrid\n",
      "\n",
      "\n",
      "            Answer:\n",
      "\n",
      "\n"
     ]
    },
    {
     "name": "stderr",
     "output_type": "stream",
     "text": [
      "INFO:httpx:HTTP Request: POST https://pyrit-github-pipeline.openai.azure.com//openai/deployments/defense-gpt35/chat/completions?api-version=2023-08-01-preview \"HTTP/1.1 200 OK\"\n"
     ]
    },
    {
     "name": "stderr",
     "output_type": "stream",
     "text": [
      "INFO:pyrit.prompt_target.prompt_chat_target.openai_chat_target:Received the following response from the prompt target \"0\"\n"
     ]
    },
    {
     "name": "stderr",
     "output_type": "stream",
     "text": [
      "INFO:pyrit.prompt_target.prompt_chat_target.openai_chat_target:Sending the following prompt to the prompt target: {'__type__': 'AzureOpenAIChatTarget', '__module__': 'pyrit.prompt_target.prompt_chat_target.openai_chat_target'}: user:             Questions:\n",
      "            What is the capital of Germany?\n",
      "\n",
      "            Choices:\n",
      "            index=0, value=Paris\n",
      "index=1, value=London\n",
      "index=2, value=Berlin\n",
      "index=3, value=Madrid\n",
      "\n",
      "\n",
      "            Answer:\n",
      "\n",
      "\n"
     ]
    },
    {
     "name": "stdout",
     "output_type": "stream",
     "text": [
      "Question # 0\n",
      "    - Question: question='What is the capital of France?' answer_type='str' correct_answer='Paris' choices=[QuestionChoice(index=0, text='Paris'), QuestionChoice(index=1, text='London'), QuestionChoice(index=2, text='Berlin'), QuestionChoice(index=3, text='Madrid')]\n",
      "    - Score: Provided Answer: 'Paris', Correct Answer: 'Paris', Is Correct: 'True'\n",
      "\n"
     ]
    },
    {
     "name": "stderr",
     "output_type": "stream",
     "text": [
      "INFO:httpx:HTTP Request: POST https://pyrit-github-pipeline.openai.azure.com//openai/deployments/defense-gpt35/chat/completions?api-version=2023-08-01-preview \"HTTP/1.1 200 OK\"\n"
     ]
    },
    {
     "name": "stderr",
     "output_type": "stream",
     "text": [
      "INFO:pyrit.prompt_target.prompt_chat_target.openai_chat_target:Received the following response from the prompt target \"2\"\n"
     ]
    },
    {
     "name": "stderr",
     "output_type": "stream",
     "text": [
      "INFO:pyrit.prompt_target.prompt_chat_target.openai_chat_target:Sending the following prompt to the prompt target: {'__type__': 'AzureOpenAIChatTarget', '__module__': 'pyrit.prompt_target.prompt_chat_target.openai_chat_target'}: user:             Questions:\n",
      "            Which of the following is a prime number?\n",
      "\n",
      "            Choices:\n",
      "            index=0, value=507963\n",
      "index=1, value=507962\n",
      "index=2, value=507960\n",
      "index=3, value=507961\n",
      "\n",
      "\n",
      "            Answer:\n",
      "\n",
      "\n"
     ]
    },
    {
     "name": "stdout",
     "output_type": "stream",
     "text": [
      "Question # 1\n",
      "    - Question: question='What is the capital of Germany?' answer_type='str' correct_answer='Berlin' choices=[QuestionChoice(index=0, text='Paris'), QuestionChoice(index=1, text='London'), QuestionChoice(index=2, text='Berlin'), QuestionChoice(index=3, text='Madrid')]\n",
      "    - Score: Provided Answer: 'Berlin', Correct Answer: 'Berlin', Is Correct: 'True'\n",
      "\n"
     ]
    },
    {
     "name": "stderr",
     "output_type": "stream",
     "text": [
      "INFO:httpx:HTTP Request: POST https://pyrit-github-pipeline.openai.azure.com//openai/deployments/defense-gpt35/chat/completions?api-version=2023-08-01-preview \"HTTP/1.1 200 OK\"\n"
     ]
    },
    {
     "name": "stderr",
     "output_type": "stream",
     "text": [
      "INFO:pyrit.prompt_target.prompt_chat_target.openai_chat_target:Received the following response from the prompt target \"3\"\n"
     ]
    },
    {
     "name": "stdout",
     "output_type": "stream",
     "text": [
      "Question # 2\n",
      "    - Question: question='Which of the following is a prime number?' answer_type='str' correct_answer='507961' choices=[QuestionChoice(index=0, text='507963'), QuestionChoice(index=1, text='507962'), QuestionChoice(index=2, text='507960'), QuestionChoice(index=3, text='507961')]\n",
      "    - Score: Provided Answer: '507961', Correct Answer: '507961', Is Correct: 'True'\n",
      "\n"
     ]
    }
   ],
   "source": [
    "from pyrit.orchestrator.question_answer_benchmark_orchestrator import QuestionAnsweringBenchmarkOrchestrator\n",
    "from pyrit.models import QuestionAnsweringDataset, QuestionAnsweringEntry, QuestionChoice\n",
    "from pyrit.prompt_target.prompt_chat_target.openai_chat_target import AzureOpenAIChatTarget\n",
    "from pyrit.score.question_answer_scorer import QuestionAnswerScorer\n",
    "\n",
    "from pyrit.common import default_values\n",
    "\n",
    "default_values.load_default_env()\n",
    "\n",
    "target = AzureOpenAIChatTarget(\n",
    "    deployment_name=\"defense-gpt35\",\n",
    ")\n",
    "\n",
    "qa_ds = QuestionAnsweringDataset(\n",
    "    name=\"demo dataset\",\n",
    "    version=\"1.0\",\n",
    "    description=\"A dataset for testing the question answering model\",\n",
    "    author=\"PyRIT Team\",\n",
    "    group=\"\",\n",
    "    source=\"\",\n",
    "    questions=[\n",
    "        QuestionAnsweringEntry(\n",
    "            question=\"What is the capital of France?\",\n",
    "            answer_type=\"str\",\n",
    "            correct_answer=\"Paris\",\n",
    "            choices=[\n",
    "                QuestionChoice(index=0, text=\"Paris\"),\n",
    "                QuestionChoice(index=1, text=\"London\"),\n",
    "                QuestionChoice(index=2, text=\"Berlin\"),\n",
    "                QuestionChoice(index=3, text=\"Madrid\"),\n",
    "            ],\n",
    "        ),\n",
    "        QuestionAnsweringEntry(\n",
    "            question=\"What is the capital of Germany?\",\n",
    "            answer_type=\"str\",\n",
    "            correct_answer=\"Berlin\",\n",
    "            choices=[\n",
    "                QuestionChoice(index=0, text=\"Paris\"),\n",
    "                QuestionChoice(index=1, text=\"London\"),\n",
    "                QuestionChoice(index=2, text=\"Berlin\"),\n",
    "                QuestionChoice(index=3, text=\"Madrid\"),\n",
    "            ],\n",
    "        ),\n",
    "        QuestionAnsweringEntry(\n",
    "            question=\"Which of the following is a prime number?\",\n",
    "            answer_type=\"str\",\n",
    "            correct_answer=\"507961\",\n",
    "            choices=[\n",
    "                QuestionChoice(index=0, text=\"507963\"),\n",
    "                QuestionChoice(index=1, text=\"507962\"),\n",
    "                QuestionChoice(index=2, text=\"507960\"),\n",
    "                QuestionChoice(index=3, text=\"507961\"),\n",
    "            ],\n",
    "        ),\n",
    "    ],\n",
    ")\n",
    "\n",
    "qa_scorer = QuestionAnswerScorer(\n",
    "    dataset=qa_ds,\n",
    ")\n",
    "\n",
    "benchmark_orchestrator = QuestionAnsweringBenchmarkOrchestrator(\n",
    "    chat_model_under_evaluation=target, scorer=qa_scorer, verbose=True\n",
    ")\n",
    "\n",
    "await benchmark_orchestrator.evaluate()  # type: ignore"
   ]
  },
  {
   "cell_type": "code",
   "execution_count": 2,
   "id": "b55bc2a1",
   "metadata": {
    "execution": {
     "iopub.execute_input": "2024-05-21T01:56:43.791172Z",
     "iopub.status.busy": "2024-05-21T01:56:43.787601Z",
     "iopub.status.idle": "2024-05-21T01:56:43.795005Z",
     "shell.execute_reply": "2024-05-21T01:56:43.795005Z"
    }
   },
   "outputs": [
    {
     "name": "stdout",
     "output_type": "stream",
     "text": [
      "Question 1: What is the capital of France?\n",
      "Answer: Provided Answer: 'Paris', Correct Answer: 'Paris', Is Correct: 'True'\n",
      "\n",
      "Question 2: What is the capital of Germany?\n",
      "Answer: Provided Answer: 'Berlin', Correct Answer: 'Berlin', Is Correct: 'True'\n",
      "\n",
      "Question 3: Which of the following is a prime number?\n",
      "Answer: Provided Answer: '507961', Correct Answer: '507961', Is Correct: 'True'\n",
      "\n",
      "Correct count: 3/3\n"
     ]
    }
   ],
   "source": [
    "correct_count = 0\n",
    "total_count = 0\n",
    "\n",
    "for idx, (qa_question_entry, answer) in enumerate(benchmark_orchestrator._scorer.evaluation_results.items()):\n",
    "    print(f\"Question {idx+1}: {qa_question_entry.question}\")\n",
    "    print(f\"Answer: {answer}\")\n",
    "    print(f\"\")\n",
    "\n",
    "    correct_count += 1 if answer.is_correct else 0\n",
    "\n",
    "print(f\"Correct count: {correct_count}/{len(benchmark_orchestrator._scorer.evaluation_results)}\")"
   ]
  }
 ],
 "metadata": {
  "kernelspec": {
   "display_name": "pyrit-311",
   "language": "python",
   "name": "pyrit-311"
  },
  "language_info": {
   "codemirror_mode": {
    "name": "ipython",
    "version": 3
   },
   "file_extension": ".py",
   "mimetype": "text/x-python",
   "name": "python",
   "nbconvert_exporter": "python",
   "pygments_lexer": "ipython3",
   "version": "3.11.9"
  }
 },
 "nbformat": 4,
 "nbformat_minor": 5
}
