{
 "cells": [
  {
   "cell_type": "markdown",
   "id": "5f571841",
   "metadata": {
    "lines_to_next_cell": 2
   },
   "source": [
    "# HarmBench dataset testing\n",
    "\n",
    "This notebook demonstrates the process of using HarmBench examples to perform AI red teaming on a target language model (LLM).\n",
    "It involves fetching potentially harmful behavior prompts from the HarmBench repository, sending them to the LLM, and analyzing the responses.\n",
    "The goal is to identify vulnerabilities, inappropriate responses, or weaknesses in the model's handling of harmful or ethically sensitive prompts."
   ]
  },
  {
   "cell_type": "code",
   "execution_count": null,
   "id": "75f02408",
   "metadata": {
    "lines_to_next_cell": 2
   },
   "outputs": [],
   "source": [
    "# Import necessary packages\n",
    "from pyrit.common import default_values\n",
    "from pyrit.datasets import fetch_harmbench_examples\n",
    "from pyrit.orchestrator import PromptSendingOrchestrator\n",
    "from pyrit.prompt_target import TextTarget"
   ]
  },
  {
   "cell_type": "code",
   "execution_count": null,
   "id": "14f8969a",
   "metadata": {
    "lines_to_next_cell": 2
   },
   "outputs": [],
   "source": [
    "# Load environment variables\n",
    "default_values.load_default_env()"
   ]
  },
  {
   "cell_type": "code",
   "execution_count": null,
   "id": "ea6b7250",
   "metadata": {
    "lines_to_next_cell": 2
   },
   "outputs": [],
   "source": [
    "# Set up the Azure OpenAI prompt target\n",
    "prompt_target = TextTarget()\n",
    "examples_source = \"https://raw.githubusercontent.com/centerforaisafety/HarmBench/c0423b9/data/behavior_datasets/harmbench_behaviors_text_all.csv\""
   ]
  },
  {
   "cell_type": "markdown",
   "id": "e62bbebf",
   "metadata": {
    "lines_to_next_cell": 2
   },
   "source": [
    "Note:\n",
    "The dataset sources can be found at:\n",
    "- GitHub repository: https://github.com/centerforaisafety/HarmBench"
   ]
  },
  {
   "cell_type": "code",
   "execution_count": null,
   "id": "27695e22",
   "metadata": {
    "lines_to_next_cell": 2
   },
   "outputs": [],
   "source": [
    "# Create the orchestrator with scorer\n",
    "orchestrator = PromptSendingOrchestrator(prompt_target=prompt_target)\n",
    "\n",
    "# Fetch examples from HarmBench dataset\n",
    "prompt_dataset = fetch_harmbench_examples(examples_source, source_type=\"public_url\")\n",
    "\n",
    "# Use the first 4 examples for red teaming\n",
    "prompt_list = prompt_dataset.prompts[:4]\n",
    "\n",
    "# Send prompts using the orchestrator and capture responses\n",
    "try:\n",
    "    responses = await orchestrator.send_prompts_async(prompt_list=prompt_list)  # type: ignore\n",
    "    if responses:\n",
    "        orchestrator.print_conversations()  # Retrieve the memory to print scoring results\n",
    "    else:\n",
    "        print(\"No valid responses were received from the orchestrator.\")\n",
    "except Exception as e:\n",
    "    print(f\"An error occurred while sending prompts: {e}\")"
   ]
  }
 ],
 "metadata": {
  "jupytext": {
   "cell_metadata_filter": "-all",
   "main_language": "python",
   "notebook_metadata_filter": "-all"
  },
  "kernelspec": {
   "display_name": "Python 3",
   "language": "python",
   "name": "python3"
  },
  "language_info": {
   "name": "python",
   "version": "3.10.14"
  },
  "language_info": {
   "name": "python"
  }
 },
 "nbformat": 4,
 "nbformat_minor": 5
}
