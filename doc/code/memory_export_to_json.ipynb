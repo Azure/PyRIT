{
 "cells": [
  {
   "cell_type": "markdown",
   "metadata": {},
   "source": [
    "The `pyrit.memory` module provides functionality to dump the database tables into JSON files, creating one file per table. Also, dump the data for a given conversation id. In a nutshell, this can be used as follows"
   ]
  },
  {
   "cell_type": "markdown",
   "metadata": {},
   "source": [
    "### Export all DuckDB tables to JSON format files\n",
    "\n",
    "This will export all DuckDB tables to JSON files, which will be stored in the `pyrit/results` folder."
   ]
  },
  {
   "cell_type": "code",
   "execution_count": 2,
   "metadata": {},
   "outputs": [],
   "source": [
    "# Copyright (c) Microsoft Corporation.\n",
    "# Licensed under the MIT license.\n",
    "\n",
    "from pyrit.memory import DuckDBMemory\n",
    "from uuid import uuid4\n",
    "from pyrit.models import ChatMessage\n",
    "\n",
    "duckdb_memory = DuckDBMemory()\n",
    "duckdb_memory.export_all_tables()"
   ]
  },
  {
   "cell_type": "markdown",
   "metadata": {},
   "source": [
    "### Export Conversation Data to JSON for a Conversation ID\n",
    "This functionality exports all conversation data associated with a specific conversation ID to a JSON file. The file, named using the format `conversation_id.json`, will be located in the `pyrit/results` folder."
   ]
  },
  {
   "cell_type": "code",
   "execution_count": 3,
   "metadata": {},
   "outputs": [],
   "source": [
    "conversation_id = str(uuid4())\n",
    "\n",
    "message_list = [\n",
    "    ChatMessage(role=\"user\", content=\"Hi, chat bot! This is my initial prompt.\"),\n",
    "    ChatMessage(role=\"assistant\", content=\"Nice to meet you! This is my response.\"),\n",
    "]\n",
    "next_message = ChatMessage(role=\"user\", content=\"Wonderful! This is my second prompt to the chat bot.\")\n",
    "message_list.append(next_message)\n",
    "duckdb_memory.add_chat_messages_to_memory(conversations=message_list, conversation_id=conversation_id)"
   ]
  },
  {
   "cell_type": "code",
   "execution_count": 5,
   "metadata": {},
   "outputs": [],
   "source": [
    "duckdb_memory.export_conversation_by_id(conversation_id=conversation_id)"
   ]
  },
  {
   "cell_type": "code",
   "execution_count": 6,
   "metadata": {},
   "outputs": [],
   "source": [
    "# Cleanup DuckDB resources\n",
    "duckdb_memory.dispose_engine()"
   ]
  },
  {
   "cell_type": "code",
   "execution_count": null,
   "metadata": {},
   "outputs": [],
   "source": []
  }
 ],
 "metadata": {
  "kernelspec": {
   "display_name": "pyrit-dev",
   "language": "python",
   "name": "python3"
  },
  "language_info": {
   "codemirror_mode": {
    "name": "ipython",
    "version": 3
   },
   "file_extension": ".py",
   "mimetype": "text/x-python",
   "name": "python",
   "nbconvert_exporter": "python",
   "pygments_lexer": "ipython3",
   "version": "3.10.13"
  }
 },
 "nbformat": 4,
 "nbformat_minor": 2
}
