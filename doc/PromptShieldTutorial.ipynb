{
 "cells": [
  {
   "cell_type": "markdown",
   "metadata": {},
   "source": [
    "# Prompt Shield Docs + Tutorial"
   ]
  },
  {
   "cell_type": "markdown",
   "metadata": {},
   "source": [
    "This is a brief tutorial and documentation on using the Prompt Shield features of PyRIT."
   ]
  },
  {
   "cell_type": "markdown",
   "metadata": {},
   "source": [
    "## 1 Populating Environment Variables"
   ]
  },
  {
   "cell_type": "markdown",
   "metadata": {},
   "source": [
    "The two environment variables you'll need are `AZURE_CONTENT_SAFETY_ENDPOINT` and `AZURE_CONTENT_SAFETY_KEY`. Make sure to add them to your .env file if you get an error.\n"
   ]
  },
  {
   "cell_type": "code",
   "execution_count": 1,
   "metadata": {},
   "outputs": [],
   "source": [
    "from pyrit.common import default_values\n",
    "\n",
    "default_values.load_default_env()"
   ]
  },
  {
   "cell_type": "markdown",
   "metadata": {},
   "source": [
    "# 2 PromptShieldTarget"
   ]
  },
  {
   "cell_type": "markdown",
   "metadata": {},
   "source": [
    "PromptShieldTarget is a target that uses Prompt Shield as its backend. Here's an example of how it processes input:"
   ]
  },
  {
   "cell_type": "code",
   "execution_count": 6,
   "metadata": {},
   "outputs": [],
   "source": [
    "%load_ext autoreload\n",
    "%autoreload 2\n",
    "\n",
    "from pyrit.prompt_target import PromptShieldTarget\n",
    "from pyrit.models import (\n",
    "    PromptRequestPiece,\n",
    "    PromptRequestResponse\n",
    ")\n",
    "\n",
    "import os\n",
    "pst = PromptShieldTarget(\n",
    "    os.environ.get('AZURE_CONTENT_SAFETY_ENDPOINT'),\n",
    "    os.environ.get('AZURE_CONTENT_SAFETY_KEY')\n",
    ")\n"
   ]
  },
  {
   "cell_type": "markdown",
   "metadata": {},
   "source": [
    "Because the Prompt Shield endpoint takes two different fields, one for the user prompt and one for the list of documents, we need to provide a string with `<document>` delimiters so that the target knows what to populate each field with."
   ]
  },
  {
   "cell_type": "code",
   "execution_count": 7,
   "metadata": {},
   "outputs": [],
   "source": [
    "sample_prompt: str = \"\"\"\n",
    "Hello! Can you please retrieve the total number of sales in the document?\n",
    "<document>\n",
    "CONTOSO SALES RECEIPT\n",
    "North America: 500 units\n",
    "Europe: 500 units\n",
    "South America: 500 units\n",
    "Asia-Pacific: 500 units\n",
    "Africa: 500 units\n",
    "Middle East: 500 units\n",
    "TOTAL: 3000 units\n",
    "</document>\n",
    "\"\"\""
   ]
  },
  {
   "cell_type": "code",
   "execution_count": 8,
   "metadata": {},
   "outputs": [],
   "source": [
    "prr = PromptRequestResponse(\n",
    "    [\n",
    "        PromptRequestPiece(\n",
    "            role=\"user\",\n",
    "            original_value=sample_prompt,\n",
    "            prompt_metadata=\"document\" # the prompt_metadata specifies whether to use the document or the user classifier.\n",
    "        )\n",
    "    ]\n",
    ")"
   ]
  },
  {
   "cell_type": "code",
   "execution_count": 10,
   "metadata": {},
   "outputs": [],
   "source": [
    "import time\n",
    "time.sleep(60*3)\n",
    "response = await pst.send_prompt_async(prompt_request=prr)\n",
    "print(response)"
   ]
  },
  {
   "cell_type": "code",
   "execution_count": null,
   "metadata": {},
   "outputs": [],
   "source": [
    "\n",
    "# from pyrit.score import PromptShieldScorer"
   ]
  },
  {
   "cell_type": "code",
   "execution_count": null,
   "metadata": {},
   "outputs": [],
   "source": []
  }
 ],
 "metadata": {
  "kernelspec": {
   "display_name": "localbox",
   "language": "python",
   "name": "python3"
  },
  "language_info": {
   "codemirror_mode": {
    "name": "ipython",
    "version": 3
   },
   "file_extension": ".py",
   "mimetype": "text/x-python",
   "name": "python",
   "nbconvert_exporter": "python",
   "pygments_lexer": "ipython3",
   "version": "3.11.9"
  }
 },
 "nbformat": 4,
 "nbformat_minor": 2
}
