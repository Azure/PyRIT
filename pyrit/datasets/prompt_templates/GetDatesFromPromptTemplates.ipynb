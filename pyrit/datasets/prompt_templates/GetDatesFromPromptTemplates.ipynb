{
 "cells": [
  {
   "cell_type": "code",
   "execution_count": null,
   "metadata": {},
   "outputs": [],
   "source": [
    "'''\n",
    "Simple script that pulls the date of the prompt templates (jailbreaks) from arxiv papers.\n",
    "'''\n",
    "import yaml\n",
    "import os\n",
    "import requests\n",
    "from bs4 import BeautifulSoup\n",
    "from pyrit.common.path import DATASETS_PATH\n",
    "\n",
    "for filename in os.listdir(DATASETS_PATH / \"prompt_templates\" / \"jailbreak\"):\n",
    "    path = DATASETS_PATH / \"prompt_templates\" / \"jailbreak\" / filename\n",
    "    with open(path, 'r') as file:\n",
    "        content: dict = yaml.safe_load(file)\n",
    "        source: str = content['source']\n",
    "        if 'arxiv' in source:\n",
    "            response = requests.get(source.split(\" \")[0])\n",
    "            soup = BeautifulSoup(response.text, 'html.parser')        \n",
    "            date_element = soup.find('div', {'class': 'dateline'})\n",
    "            date = date_element.get_text().strip()\n",
    "            print(filename, date_element.get_text())"
   ]
  }
 ],
 "metadata": {
  "kernelspec": {
   "display_name": "localbox",
   "language": "python",
   "name": "python3"
  },
  "language_info": {
   "codemirror_mode": {
    "name": "ipython",
    "version": 3
   },
   "file_extension": ".py",
   "mimetype": "text/x-python",
   "name": "python",
   "nbconvert_exporter": "python",
   "pygments_lexer": "ipython3",
   "version": "3.11.9"
  }
 },
 "nbformat": 4,
 "nbformat_minor": 2
}
