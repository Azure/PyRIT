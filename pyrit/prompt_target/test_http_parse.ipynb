{
 "cells": [
  {
   "cell_type": "code",
   "execution_count": 3,
   "metadata": {},
   "outputs": [],
   "source": [
    "http_req = \"\"\"\n",
    "POST /images/create?q={PROMPT}&rt=4&FORM=GENCRE HTTP/2\n",
    "Host: www.bing.com\n",
    "Origin: https://www.bing.com\n",
    "Content-Type: application/x-www-form-urlencoded\n",
    "User-Agent: Mozilla/5.0 (Windows NT 10.0; Win64; x64) AppleWebKit/537.36 (KHTML, like Gecko) Chrome/128.0.6613.120 Safari/537.36\n",
    "Accept: text/html,application/xhtml+xml,application/xml;q=0.9,image/avif,image/webp,image/apng,*/*;q=0.8,application/signed-exchange;v=b3;q=0.7\n",
    "Sec-Fetch-Site: same-origin\n",
    "Sec-Fetch-Mode: navigate\n",
    "Sec-Fetch-User: ?1\n",
    "Sec-Fetch-Dest: document\n",
    "Referer: https://www.bing.com/images/create?FORM=GENILP\n",
    "\n",
    "q={PROMPT}&qs=ds\n",
    "\"\"\"\n",
    "\n"
   ]
  },
  {
   "cell_type": "code",
   "execution_count": 9,
   "metadata": {},
   "outputs": [
    {
     "name": "stdout",
     "output_type": "stream",
     "text": [
      "{'Host': 'www.bing.com', 'Origin': 'https://www.bing.com', 'Content-Type': 'application/x-www-form-urlencoded', 'User-Agent': 'Mozilla/5.0 (Windows NT 10.0; Win64; x64) AppleWebKit/537.36 (KHTML, like Gecko) Chrome/128.0.6613.120 Safari/537.36', 'Accept': 'text/html,application/xhtml+xml,application/xml;q=0.9,image/avif,image/webp,image/apng,*/*;q=0.8,application/signed-exchange;v=b3;q=0.7', 'Sec-Fetch-Site': 'same-origin', 'Sec-Fetch-Mode': 'navigate', 'Sec-Fetch-User': '?1', 'Sec-Fetch-Dest': 'document', 'Referer': 'https://www.bing.com/images/create?FORM=GENILP', 'Content-Length': '16'}\n",
      "q={PROMPT}&qs=ds\n",
      "www.bing.com/images/create?q=purple%20cow&rt=4&FORM=GENCRE\n"
     ]
    }
   ],
   "source": [
    "headers_dict = {}\n",
    "\n",
    "# Split the request into headers and body by finding the double newlines (\\n\\n)\n",
    "request_parts = http_req.strip().split(\"\\n\\n\", 1)\n",
    "\n",
    "# Parse out the header components\n",
    "header_lines = request_parts[0].strip().split(\"\\n\")\n",
    "http_req_info_line = header_lines[0].split(\" \")\n",
    "header_lines = header_lines[1:]\n",
    "\n",
    "# Loop through each line and split into key-value pairs\n",
    "for line in header_lines:\n",
    "    key, value = line.split(\":\", 1)\n",
    "    headers_dict[key.strip()] = value.strip()\n",
    "\n",
    "if len(request_parts) > 1:\n",
    "    body = request_parts[1]\n",
    "    headers_dict[\"Content-Length\"] = str(len(body))\n",
    "\n",
    "method = http_req_info_line[0]\n",
    "url = headers_dict[\"Host\"] + http_req_info_line[1]\n",
    "http_vsn = http_req_info_line[1]\n",
    "\n",
    "print(headers_dict)\n",
    "print(body)\n",
    "print(url)"
   ]
  }
 ],
 "metadata": {
  "kernelspec": {
   "display_name": "pyrit2",
   "language": "python",
   "name": "python3"
  },
  "language_info": {
   "codemirror_mode": {
    "name": "ipython",
    "version": 3
   },
   "file_extension": ".py",
   "mimetype": "text/x-python",
   "name": "python",
   "nbconvert_exporter": "python",
   "pygments_lexer": "ipython3",
   "version": "3.11.9"
  }
 },
 "nbformat": 4,
 "nbformat_minor": 2
}
